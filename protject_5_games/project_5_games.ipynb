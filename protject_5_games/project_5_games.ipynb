{
 "cells": [
  {
   "cell_type": "markdown",
   "id": "b7f59f26",
   "metadata": {},
   "source": [
    "# Выявление закономерностей, определяющих успешность компьютерных игр"
   ]
  },
  {
   "cell_type": "markdown",
   "id": "3e7686c1",
   "metadata": {},
   "source": [
    "Вы работаете в интернет-магазине «Стримчик», который продаёт по всему миру компьютерные игры. Из открытых источников доступны исторические данные о продажах игр, оценки пользователей и экспертов, жанры и платформы (например, Xbox или PlayStation). Вам нужно выявить определяющие успешность игры закономерности. Это позволит сделать ставку на потенциально популярный продукт и спланировать рекламные кампании.\n",
    "\n",
    "В вашем распоряжении данные до 2016, полученные из открытых источников. Нужно отработать принципы работы с этими данными с целью составления прогнозов по продажам."
   ]
  },
  {
   "cell_type": "markdown",
   "id": "3586c62a",
   "metadata": {},
   "source": [
    "***Цель исследования***\n",
    "\n",
    "Отработка принципов работы с набором данных для составления прогноза по продажам на будущий период времени.\n",
    "\n",
    "***Ход исследования***\n",
    "\n",
    "1. Обзор данных, полученных из файла /datasets/games.csv.\n",
    "2. Предобработка данных:\n",
    "    - замена названий столбцов;\n",
    "    - преборазование типов данных;\n",
    "    - обработка пропусков при необходимости;\n",
    "    - создание столбца с суммарными продажами по регионам.\n",
    "3. Проведение исследовательского анализа данных:\n",
    "    - выпуск игр по годам;\n",
    "    - динамика продаж по платформам;\n",
    "    - определение актуального для построения прогноза периода времени;\n",
    "    - выбор потенциально прибыльных платформ;\n",
    "    - визуализация глобальных продаж в разбивке по платформам (ящик с усами);\n",
    "    - влияние на продажи отзывов критиков и пользователей;\n",
    "    - распределение по жанрам;\n",
    "    - портрет пользователя по регионам (США, Европа, Япония);\n",
    "4. Проверка гипотез:\n",
    "    - Средние пользовательские рейтинги платформ Xbox One и PC одинаковые;\n",
    "    - Средние пользовательские рейтинги жанров Action и Sports разные.\n",
    "    \n",
    "***Описание данных***\n",
    "\n",
    "- Name — название игры\n",
    "- Platform — платформа\n",
    "- Year_of_Release — год выпуска\n",
    "- Genre — жанр игры\n",
    "- NA_sales — продажи в Северной Америке (миллионы проданных копий)\n",
    "- EU_sales — продажи в Европе (миллионы проданных копий)\n",
    "- JP_sales — продажи в Японии (миллионы проданных копий)\n",
    "- Other_sales — продажи в других странах (миллионы проданных копий)\n",
    "- Critic_Score — оценка критиков (максимум 100)\n",
    "- User_Score — оценка пользователей (максимум 10)\n",
    "- Rating — рейтинг от организации ESRB (англ. Entertainment Software Rating Board). Эта ассоциация определяет рейтинг компьютерных игр и присваивает им подходящую возрастную категорию."
   ]
  },
  {
   "cell_type": "markdown",
   "id": "d97e4558",
   "metadata": {},
   "source": [
    "## Обзор данных"
   ]
  },
  {
   "cell_type": "code",
   "execution_count": 1,
   "id": "b82976af",
   "metadata": {},
   "outputs": [],
   "source": [
    "import pandas as pd\n",
    "import numpy as np\n",
    "import matplotlib.pyplot as plt\n",
    "import seaborn as sns\n",
    "\n",
    "from datetime import datetime\n",
    "from scipy import stats as st"
   ]
  },
  {
   "cell_type": "code",
   "execution_count": 2,
   "id": "bc429281",
   "metadata": {},
   "outputs": [
    {
     "data": {
      "text/html": [
       "<div>\n",
       "<style scoped>\n",
       "    .dataframe tbody tr th:only-of-type {\n",
       "        vertical-align: middle;\n",
       "    }\n",
       "\n",
       "    .dataframe tbody tr th {\n",
       "        vertical-align: top;\n",
       "    }\n",
       "\n",
       "    .dataframe thead th {\n",
       "        text-align: right;\n",
       "    }\n",
       "</style>\n",
       "<table border=\"1\" class=\"dataframe\">\n",
       "  <thead>\n",
       "    <tr style=\"text-align: right;\">\n",
       "      <th></th>\n",
       "      <th>Name</th>\n",
       "      <th>Platform</th>\n",
       "      <th>Year_of_Release</th>\n",
       "      <th>Genre</th>\n",
       "      <th>NA_sales</th>\n",
       "      <th>EU_sales</th>\n",
       "      <th>JP_sales</th>\n",
       "      <th>Other_sales</th>\n",
       "      <th>Critic_Score</th>\n",
       "      <th>User_Score</th>\n",
       "      <th>Rating</th>\n",
       "    </tr>\n",
       "  </thead>\n",
       "  <tbody>\n",
       "    <tr>\n",
       "      <th>0</th>\n",
       "      <td>Wii Sports</td>\n",
       "      <td>Wii</td>\n",
       "      <td>2006.0</td>\n",
       "      <td>Sports</td>\n",
       "      <td>41.36</td>\n",
       "      <td>28.96</td>\n",
       "      <td>3.77</td>\n",
       "      <td>8.45</td>\n",
       "      <td>76.0</td>\n",
       "      <td>8</td>\n",
       "      <td>E</td>\n",
       "    </tr>\n",
       "    <tr>\n",
       "      <th>1</th>\n",
       "      <td>Super Mario Bros.</td>\n",
       "      <td>NES</td>\n",
       "      <td>1985.0</td>\n",
       "      <td>Platform</td>\n",
       "      <td>29.08</td>\n",
       "      <td>3.58</td>\n",
       "      <td>6.81</td>\n",
       "      <td>0.77</td>\n",
       "      <td>NaN</td>\n",
       "      <td>NaN</td>\n",
       "      <td>NaN</td>\n",
       "    </tr>\n",
       "    <tr>\n",
       "      <th>2</th>\n",
       "      <td>Mario Kart Wii</td>\n",
       "      <td>Wii</td>\n",
       "      <td>2008.0</td>\n",
       "      <td>Racing</td>\n",
       "      <td>15.68</td>\n",
       "      <td>12.76</td>\n",
       "      <td>3.79</td>\n",
       "      <td>3.29</td>\n",
       "      <td>82.0</td>\n",
       "      <td>8.3</td>\n",
       "      <td>E</td>\n",
       "    </tr>\n",
       "    <tr>\n",
       "      <th>3</th>\n",
       "      <td>Wii Sports Resort</td>\n",
       "      <td>Wii</td>\n",
       "      <td>2009.0</td>\n",
       "      <td>Sports</td>\n",
       "      <td>15.61</td>\n",
       "      <td>10.93</td>\n",
       "      <td>3.28</td>\n",
       "      <td>2.95</td>\n",
       "      <td>80.0</td>\n",
       "      <td>8</td>\n",
       "      <td>E</td>\n",
       "    </tr>\n",
       "    <tr>\n",
       "      <th>4</th>\n",
       "      <td>Pokemon Red/Pokemon Blue</td>\n",
       "      <td>GB</td>\n",
       "      <td>1996.0</td>\n",
       "      <td>Role-Playing</td>\n",
       "      <td>11.27</td>\n",
       "      <td>8.89</td>\n",
       "      <td>10.22</td>\n",
       "      <td>1.00</td>\n",
       "      <td>NaN</td>\n",
       "      <td>NaN</td>\n",
       "      <td>NaN</td>\n",
       "    </tr>\n",
       "    <tr>\n",
       "      <th>5</th>\n",
       "      <td>Tetris</td>\n",
       "      <td>GB</td>\n",
       "      <td>1989.0</td>\n",
       "      <td>Puzzle</td>\n",
       "      <td>23.20</td>\n",
       "      <td>2.26</td>\n",
       "      <td>4.22</td>\n",
       "      <td>0.58</td>\n",
       "      <td>NaN</td>\n",
       "      <td>NaN</td>\n",
       "      <td>NaN</td>\n",
       "    </tr>\n",
       "    <tr>\n",
       "      <th>6</th>\n",
       "      <td>New Super Mario Bros.</td>\n",
       "      <td>DS</td>\n",
       "      <td>2006.0</td>\n",
       "      <td>Platform</td>\n",
       "      <td>11.28</td>\n",
       "      <td>9.14</td>\n",
       "      <td>6.50</td>\n",
       "      <td>2.88</td>\n",
       "      <td>89.0</td>\n",
       "      <td>8.5</td>\n",
       "      <td>E</td>\n",
       "    </tr>\n",
       "    <tr>\n",
       "      <th>7</th>\n",
       "      <td>Wii Play</td>\n",
       "      <td>Wii</td>\n",
       "      <td>2006.0</td>\n",
       "      <td>Misc</td>\n",
       "      <td>13.96</td>\n",
       "      <td>9.18</td>\n",
       "      <td>2.93</td>\n",
       "      <td>2.84</td>\n",
       "      <td>58.0</td>\n",
       "      <td>6.6</td>\n",
       "      <td>E</td>\n",
       "    </tr>\n",
       "    <tr>\n",
       "      <th>8</th>\n",
       "      <td>New Super Mario Bros. Wii</td>\n",
       "      <td>Wii</td>\n",
       "      <td>2009.0</td>\n",
       "      <td>Platform</td>\n",
       "      <td>14.44</td>\n",
       "      <td>6.94</td>\n",
       "      <td>4.70</td>\n",
       "      <td>2.24</td>\n",
       "      <td>87.0</td>\n",
       "      <td>8.4</td>\n",
       "      <td>E</td>\n",
       "    </tr>\n",
       "    <tr>\n",
       "      <th>9</th>\n",
       "      <td>Duck Hunt</td>\n",
       "      <td>NES</td>\n",
       "      <td>1984.0</td>\n",
       "      <td>Shooter</td>\n",
       "      <td>26.93</td>\n",
       "      <td>0.63</td>\n",
       "      <td>0.28</td>\n",
       "      <td>0.47</td>\n",
       "      <td>NaN</td>\n",
       "      <td>NaN</td>\n",
       "      <td>NaN</td>\n",
       "    </tr>\n",
       "    <tr>\n",
       "      <th>10</th>\n",
       "      <td>Nintendogs</td>\n",
       "      <td>DS</td>\n",
       "      <td>2005.0</td>\n",
       "      <td>Simulation</td>\n",
       "      <td>9.05</td>\n",
       "      <td>10.95</td>\n",
       "      <td>1.93</td>\n",
       "      <td>2.74</td>\n",
       "      <td>NaN</td>\n",
       "      <td>NaN</td>\n",
       "      <td>NaN</td>\n",
       "    </tr>\n",
       "    <tr>\n",
       "      <th>11</th>\n",
       "      <td>Mario Kart DS</td>\n",
       "      <td>DS</td>\n",
       "      <td>2005.0</td>\n",
       "      <td>Racing</td>\n",
       "      <td>9.71</td>\n",
       "      <td>7.47</td>\n",
       "      <td>4.13</td>\n",
       "      <td>1.90</td>\n",
       "      <td>91.0</td>\n",
       "      <td>8.6</td>\n",
       "      <td>E</td>\n",
       "    </tr>\n",
       "    <tr>\n",
       "      <th>12</th>\n",
       "      <td>Pokemon Gold/Pokemon Silver</td>\n",
       "      <td>GB</td>\n",
       "      <td>1999.0</td>\n",
       "      <td>Role-Playing</td>\n",
       "      <td>9.00</td>\n",
       "      <td>6.18</td>\n",
       "      <td>7.20</td>\n",
       "      <td>0.71</td>\n",
       "      <td>NaN</td>\n",
       "      <td>NaN</td>\n",
       "      <td>NaN</td>\n",
       "    </tr>\n",
       "    <tr>\n",
       "      <th>13</th>\n",
       "      <td>Wii Fit</td>\n",
       "      <td>Wii</td>\n",
       "      <td>2007.0</td>\n",
       "      <td>Sports</td>\n",
       "      <td>8.92</td>\n",
       "      <td>8.03</td>\n",
       "      <td>3.60</td>\n",
       "      <td>2.15</td>\n",
       "      <td>80.0</td>\n",
       "      <td>7.7</td>\n",
       "      <td>E</td>\n",
       "    </tr>\n",
       "    <tr>\n",
       "      <th>14</th>\n",
       "      <td>Kinect Adventures!</td>\n",
       "      <td>X360</td>\n",
       "      <td>2010.0</td>\n",
       "      <td>Misc</td>\n",
       "      <td>15.00</td>\n",
       "      <td>4.89</td>\n",
       "      <td>0.24</td>\n",
       "      <td>1.69</td>\n",
       "      <td>61.0</td>\n",
       "      <td>6.3</td>\n",
       "      <td>E</td>\n",
       "    </tr>\n",
       "    <tr>\n",
       "      <th>15</th>\n",
       "      <td>Wii Fit Plus</td>\n",
       "      <td>Wii</td>\n",
       "      <td>2009.0</td>\n",
       "      <td>Sports</td>\n",
       "      <td>9.01</td>\n",
       "      <td>8.49</td>\n",
       "      <td>2.53</td>\n",
       "      <td>1.77</td>\n",
       "      <td>80.0</td>\n",
       "      <td>7.4</td>\n",
       "      <td>E</td>\n",
       "    </tr>\n",
       "    <tr>\n",
       "      <th>16</th>\n",
       "      <td>Grand Theft Auto V</td>\n",
       "      <td>PS3</td>\n",
       "      <td>2013.0</td>\n",
       "      <td>Action</td>\n",
       "      <td>7.02</td>\n",
       "      <td>9.09</td>\n",
       "      <td>0.98</td>\n",
       "      <td>3.96</td>\n",
       "      <td>97.0</td>\n",
       "      <td>8.2</td>\n",
       "      <td>M</td>\n",
       "    </tr>\n",
       "    <tr>\n",
       "      <th>17</th>\n",
       "      <td>Grand Theft Auto: San Andreas</td>\n",
       "      <td>PS2</td>\n",
       "      <td>2004.0</td>\n",
       "      <td>Action</td>\n",
       "      <td>9.43</td>\n",
       "      <td>0.40</td>\n",
       "      <td>0.41</td>\n",
       "      <td>10.57</td>\n",
       "      <td>95.0</td>\n",
       "      <td>9</td>\n",
       "      <td>M</td>\n",
       "    </tr>\n",
       "    <tr>\n",
       "      <th>18</th>\n",
       "      <td>Super Mario World</td>\n",
       "      <td>SNES</td>\n",
       "      <td>1990.0</td>\n",
       "      <td>Platform</td>\n",
       "      <td>12.78</td>\n",
       "      <td>3.75</td>\n",
       "      <td>3.54</td>\n",
       "      <td>0.55</td>\n",
       "      <td>NaN</td>\n",
       "      <td>NaN</td>\n",
       "      <td>NaN</td>\n",
       "    </tr>\n",
       "    <tr>\n",
       "      <th>19</th>\n",
       "      <td>Brain Age: Train Your Brain in Minutes a Day</td>\n",
       "      <td>DS</td>\n",
       "      <td>2005.0</td>\n",
       "      <td>Misc</td>\n",
       "      <td>4.74</td>\n",
       "      <td>9.20</td>\n",
       "      <td>4.16</td>\n",
       "      <td>2.04</td>\n",
       "      <td>77.0</td>\n",
       "      <td>7.9</td>\n",
       "      <td>E</td>\n",
       "    </tr>\n",
       "  </tbody>\n",
       "</table>\n",
       "</div>"
      ],
      "text/plain": [
       "                                            Name Platform  Year_of_Release  \\\n",
       "0                                     Wii Sports      Wii           2006.0   \n",
       "1                              Super Mario Bros.      NES           1985.0   \n",
       "2                                 Mario Kart Wii      Wii           2008.0   \n",
       "3                              Wii Sports Resort      Wii           2009.0   \n",
       "4                       Pokemon Red/Pokemon Blue       GB           1996.0   \n",
       "5                                         Tetris       GB           1989.0   \n",
       "6                          New Super Mario Bros.       DS           2006.0   \n",
       "7                                       Wii Play      Wii           2006.0   \n",
       "8                      New Super Mario Bros. Wii      Wii           2009.0   \n",
       "9                                      Duck Hunt      NES           1984.0   \n",
       "10                                    Nintendogs       DS           2005.0   \n",
       "11                                 Mario Kart DS       DS           2005.0   \n",
       "12                   Pokemon Gold/Pokemon Silver       GB           1999.0   \n",
       "13                                       Wii Fit      Wii           2007.0   \n",
       "14                            Kinect Adventures!     X360           2010.0   \n",
       "15                                  Wii Fit Plus      Wii           2009.0   \n",
       "16                            Grand Theft Auto V      PS3           2013.0   \n",
       "17                 Grand Theft Auto: San Andreas      PS2           2004.0   \n",
       "18                             Super Mario World     SNES           1990.0   \n",
       "19  Brain Age: Train Your Brain in Minutes a Day       DS           2005.0   \n",
       "\n",
       "           Genre  NA_sales  EU_sales  JP_sales  Other_sales  Critic_Score  \\\n",
       "0         Sports     41.36     28.96      3.77         8.45          76.0   \n",
       "1       Platform     29.08      3.58      6.81         0.77           NaN   \n",
       "2         Racing     15.68     12.76      3.79         3.29          82.0   \n",
       "3         Sports     15.61     10.93      3.28         2.95          80.0   \n",
       "4   Role-Playing     11.27      8.89     10.22         1.00           NaN   \n",
       "5         Puzzle     23.20      2.26      4.22         0.58           NaN   \n",
       "6       Platform     11.28      9.14      6.50         2.88          89.0   \n",
       "7           Misc     13.96      9.18      2.93         2.84          58.0   \n",
       "8       Platform     14.44      6.94      4.70         2.24          87.0   \n",
       "9        Shooter     26.93      0.63      0.28         0.47           NaN   \n",
       "10    Simulation      9.05     10.95      1.93         2.74           NaN   \n",
       "11        Racing      9.71      7.47      4.13         1.90          91.0   \n",
       "12  Role-Playing      9.00      6.18      7.20         0.71           NaN   \n",
       "13        Sports      8.92      8.03      3.60         2.15          80.0   \n",
       "14          Misc     15.00      4.89      0.24         1.69          61.0   \n",
       "15        Sports      9.01      8.49      2.53         1.77          80.0   \n",
       "16        Action      7.02      9.09      0.98         3.96          97.0   \n",
       "17        Action      9.43      0.40      0.41        10.57          95.0   \n",
       "18      Platform     12.78      3.75      3.54         0.55           NaN   \n",
       "19          Misc      4.74      9.20      4.16         2.04          77.0   \n",
       "\n",
       "   User_Score Rating  \n",
       "0           8      E  \n",
       "1         NaN    NaN  \n",
       "2         8.3      E  \n",
       "3           8      E  \n",
       "4         NaN    NaN  \n",
       "5         NaN    NaN  \n",
       "6         8.5      E  \n",
       "7         6.6      E  \n",
       "8         8.4      E  \n",
       "9         NaN    NaN  \n",
       "10        NaN    NaN  \n",
       "11        8.6      E  \n",
       "12        NaN    NaN  \n",
       "13        7.7      E  \n",
       "14        6.3      E  \n",
       "15        7.4      E  \n",
       "16        8.2      M  \n",
       "17          9      M  \n",
       "18        NaN    NaN  \n",
       "19        7.9      E  "
      ]
     },
     "execution_count": 2,
     "metadata": {},
     "output_type": "execute_result"
    }
   ],
   "source": [
    "try:\n",
    "    df = pd.read_csv('/datasets/games.csv')\n",
    "    \n",
    "except:\n",
    "    df = pd.read_csv('C:\\\\Users\\\\79199\\\\Documents\\\\Учёба\\\\Аналитика\\\\Сборные проекты\\\\Итоговый-1\\\\games.csv') \n",
    "\n",
    "df.head(20)"
   ]
  },
  {
   "cell_type": "code",
   "execution_count": 3,
   "id": "b65593ac",
   "metadata": {},
   "outputs": [
    {
     "name": "stdout",
     "output_type": "stream",
     "text": [
      "<class 'pandas.core.frame.DataFrame'>\n",
      "RangeIndex: 16715 entries, 0 to 16714\n",
      "Data columns (total 11 columns):\n",
      " #   Column           Non-Null Count  Dtype  \n",
      "---  ------           --------------  -----  \n",
      " 0   Name             16713 non-null  object \n",
      " 1   Platform         16715 non-null  object \n",
      " 2   Year_of_Release  16446 non-null  float64\n",
      " 3   Genre            16713 non-null  object \n",
      " 4   NA_sales         16715 non-null  float64\n",
      " 5   EU_sales         16715 non-null  float64\n",
      " 6   JP_sales         16715 non-null  float64\n",
      " 7   Other_sales      16715 non-null  float64\n",
      " 8   Critic_Score     8137 non-null   float64\n",
      " 9   User_Score       10014 non-null  object \n",
      " 10  Rating           9949 non-null   object \n",
      "dtypes: float64(6), object(5)\n",
      "memory usage: 1.4+ MB\n"
     ]
    }
   ],
   "source": [
    "df.info()"
   ]
  },
  {
   "cell_type": "markdown",
   "id": "8ff294cd",
   "metadata": {},
   "source": [
    "В датасете мы видим следующие проблемы:\n",
    "- неудачные названия столбцов - лучше привести к одному регистру;\n",
    "- неудачные типы данных: год выпуска логичнее преобразовать из int в float, рейтинг пользователей также привести к float;\n",
    "- в столбцах `critic_score`, `user_score` и `rating` (годы выпуска, рейтинг критиков, рейтинг пользователей, возр.рейтинг) много пропусков, их следует обработать."
   ]
  },
  {
   "cell_type": "code",
   "execution_count": 4,
   "id": "5c41bcd6",
   "metadata": {},
   "outputs": [],
   "source": [
    "# приведение названий столбцов к нижнему регистру\n",
    "df.columns = df.columns.str.lower()"
   ]
  },
  {
   "cell_type": "code",
   "execution_count": 5,
   "id": "f2435a28",
   "metadata": {
    "scrolled": true
   },
   "outputs": [
    {
     "data": {
      "text/html": [
       "<div>\n",
       "<style scoped>\n",
       "    .dataframe tbody tr th:only-of-type {\n",
       "        vertical-align: middle;\n",
       "    }\n",
       "\n",
       "    .dataframe tbody tr th {\n",
       "        vertical-align: top;\n",
       "    }\n",
       "\n",
       "    .dataframe thead th {\n",
       "        text-align: right;\n",
       "    }\n",
       "</style>\n",
       "<table border=\"1\" class=\"dataframe\">\n",
       "  <thead>\n",
       "    <tr style=\"text-align: right;\">\n",
       "      <th></th>\n",
       "      <th>name</th>\n",
       "      <th>platform</th>\n",
       "      <th>year_of_release</th>\n",
       "      <th>genre</th>\n",
       "      <th>na_sales</th>\n",
       "      <th>eu_sales</th>\n",
       "      <th>jp_sales</th>\n",
       "      <th>other_sales</th>\n",
       "      <th>critic_score</th>\n",
       "      <th>user_score</th>\n",
       "      <th>rating</th>\n",
       "    </tr>\n",
       "  </thead>\n",
       "  <tbody>\n",
       "    <tr>\n",
       "      <th>0</th>\n",
       "      <td>Wii Sports</td>\n",
       "      <td>Wii</td>\n",
       "      <td>2006.0</td>\n",
       "      <td>Sports</td>\n",
       "      <td>41.36</td>\n",
       "      <td>28.96</td>\n",
       "      <td>3.77</td>\n",
       "      <td>8.45</td>\n",
       "      <td>76.0</td>\n",
       "      <td>8</td>\n",
       "      <td>E</td>\n",
       "    </tr>\n",
       "    <tr>\n",
       "      <th>1</th>\n",
       "      <td>Super Mario Bros.</td>\n",
       "      <td>NES</td>\n",
       "      <td>1985.0</td>\n",
       "      <td>Platform</td>\n",
       "      <td>29.08</td>\n",
       "      <td>3.58</td>\n",
       "      <td>6.81</td>\n",
       "      <td>0.77</td>\n",
       "      <td>NaN</td>\n",
       "      <td>NaN</td>\n",
       "      <td>NaN</td>\n",
       "    </tr>\n",
       "    <tr>\n",
       "      <th>2</th>\n",
       "      <td>Mario Kart Wii</td>\n",
       "      <td>Wii</td>\n",
       "      <td>2008.0</td>\n",
       "      <td>Racing</td>\n",
       "      <td>15.68</td>\n",
       "      <td>12.76</td>\n",
       "      <td>3.79</td>\n",
       "      <td>3.29</td>\n",
       "      <td>82.0</td>\n",
       "      <td>8.3</td>\n",
       "      <td>E</td>\n",
       "    </tr>\n",
       "    <tr>\n",
       "      <th>3</th>\n",
       "      <td>Wii Sports Resort</td>\n",
       "      <td>Wii</td>\n",
       "      <td>2009.0</td>\n",
       "      <td>Sports</td>\n",
       "      <td>15.61</td>\n",
       "      <td>10.93</td>\n",
       "      <td>3.28</td>\n",
       "      <td>2.95</td>\n",
       "      <td>80.0</td>\n",
       "      <td>8</td>\n",
       "      <td>E</td>\n",
       "    </tr>\n",
       "    <tr>\n",
       "      <th>4</th>\n",
       "      <td>Pokemon Red/Pokemon Blue</td>\n",
       "      <td>GB</td>\n",
       "      <td>1996.0</td>\n",
       "      <td>Role-Playing</td>\n",
       "      <td>11.27</td>\n",
       "      <td>8.89</td>\n",
       "      <td>10.22</td>\n",
       "      <td>1.00</td>\n",
       "      <td>NaN</td>\n",
       "      <td>NaN</td>\n",
       "      <td>NaN</td>\n",
       "    </tr>\n",
       "    <tr>\n",
       "      <th>5</th>\n",
       "      <td>Tetris</td>\n",
       "      <td>GB</td>\n",
       "      <td>1989.0</td>\n",
       "      <td>Puzzle</td>\n",
       "      <td>23.20</td>\n",
       "      <td>2.26</td>\n",
       "      <td>4.22</td>\n",
       "      <td>0.58</td>\n",
       "      <td>NaN</td>\n",
       "      <td>NaN</td>\n",
       "      <td>NaN</td>\n",
       "    </tr>\n",
       "    <tr>\n",
       "      <th>6</th>\n",
       "      <td>New Super Mario Bros.</td>\n",
       "      <td>DS</td>\n",
       "      <td>2006.0</td>\n",
       "      <td>Platform</td>\n",
       "      <td>11.28</td>\n",
       "      <td>9.14</td>\n",
       "      <td>6.50</td>\n",
       "      <td>2.88</td>\n",
       "      <td>89.0</td>\n",
       "      <td>8.5</td>\n",
       "      <td>E</td>\n",
       "    </tr>\n",
       "    <tr>\n",
       "      <th>7</th>\n",
       "      <td>Wii Play</td>\n",
       "      <td>Wii</td>\n",
       "      <td>2006.0</td>\n",
       "      <td>Misc</td>\n",
       "      <td>13.96</td>\n",
       "      <td>9.18</td>\n",
       "      <td>2.93</td>\n",
       "      <td>2.84</td>\n",
       "      <td>58.0</td>\n",
       "      <td>6.6</td>\n",
       "      <td>E</td>\n",
       "    </tr>\n",
       "    <tr>\n",
       "      <th>8</th>\n",
       "      <td>New Super Mario Bros. Wii</td>\n",
       "      <td>Wii</td>\n",
       "      <td>2009.0</td>\n",
       "      <td>Platform</td>\n",
       "      <td>14.44</td>\n",
       "      <td>6.94</td>\n",
       "      <td>4.70</td>\n",
       "      <td>2.24</td>\n",
       "      <td>87.0</td>\n",
       "      <td>8.4</td>\n",
       "      <td>E</td>\n",
       "    </tr>\n",
       "    <tr>\n",
       "      <th>9</th>\n",
       "      <td>Duck Hunt</td>\n",
       "      <td>NES</td>\n",
       "      <td>1984.0</td>\n",
       "      <td>Shooter</td>\n",
       "      <td>26.93</td>\n",
       "      <td>0.63</td>\n",
       "      <td>0.28</td>\n",
       "      <td>0.47</td>\n",
       "      <td>NaN</td>\n",
       "      <td>NaN</td>\n",
       "      <td>NaN</td>\n",
       "    </tr>\n",
       "    <tr>\n",
       "      <th>10</th>\n",
       "      <td>Nintendogs</td>\n",
       "      <td>DS</td>\n",
       "      <td>2005.0</td>\n",
       "      <td>Simulation</td>\n",
       "      <td>9.05</td>\n",
       "      <td>10.95</td>\n",
       "      <td>1.93</td>\n",
       "      <td>2.74</td>\n",
       "      <td>NaN</td>\n",
       "      <td>NaN</td>\n",
       "      <td>NaN</td>\n",
       "    </tr>\n",
       "    <tr>\n",
       "      <th>11</th>\n",
       "      <td>Mario Kart DS</td>\n",
       "      <td>DS</td>\n",
       "      <td>2005.0</td>\n",
       "      <td>Racing</td>\n",
       "      <td>9.71</td>\n",
       "      <td>7.47</td>\n",
       "      <td>4.13</td>\n",
       "      <td>1.90</td>\n",
       "      <td>91.0</td>\n",
       "      <td>8.6</td>\n",
       "      <td>E</td>\n",
       "    </tr>\n",
       "    <tr>\n",
       "      <th>12</th>\n",
       "      <td>Pokemon Gold/Pokemon Silver</td>\n",
       "      <td>GB</td>\n",
       "      <td>1999.0</td>\n",
       "      <td>Role-Playing</td>\n",
       "      <td>9.00</td>\n",
       "      <td>6.18</td>\n",
       "      <td>7.20</td>\n",
       "      <td>0.71</td>\n",
       "      <td>NaN</td>\n",
       "      <td>NaN</td>\n",
       "      <td>NaN</td>\n",
       "    </tr>\n",
       "    <tr>\n",
       "      <th>13</th>\n",
       "      <td>Wii Fit</td>\n",
       "      <td>Wii</td>\n",
       "      <td>2007.0</td>\n",
       "      <td>Sports</td>\n",
       "      <td>8.92</td>\n",
       "      <td>8.03</td>\n",
       "      <td>3.60</td>\n",
       "      <td>2.15</td>\n",
       "      <td>80.0</td>\n",
       "      <td>7.7</td>\n",
       "      <td>E</td>\n",
       "    </tr>\n",
       "    <tr>\n",
       "      <th>14</th>\n",
       "      <td>Kinect Adventures!</td>\n",
       "      <td>X360</td>\n",
       "      <td>2010.0</td>\n",
       "      <td>Misc</td>\n",
       "      <td>15.00</td>\n",
       "      <td>4.89</td>\n",
       "      <td>0.24</td>\n",
       "      <td>1.69</td>\n",
       "      <td>61.0</td>\n",
       "      <td>6.3</td>\n",
       "      <td>E</td>\n",
       "    </tr>\n",
       "  </tbody>\n",
       "</table>\n",
       "</div>"
      ],
      "text/plain": [
       "                           name platform  year_of_release         genre  \\\n",
       "0                    Wii Sports      Wii           2006.0        Sports   \n",
       "1             Super Mario Bros.      NES           1985.0      Platform   \n",
       "2                Mario Kart Wii      Wii           2008.0        Racing   \n",
       "3             Wii Sports Resort      Wii           2009.0        Sports   \n",
       "4      Pokemon Red/Pokemon Blue       GB           1996.0  Role-Playing   \n",
       "5                        Tetris       GB           1989.0        Puzzle   \n",
       "6         New Super Mario Bros.       DS           2006.0      Platform   \n",
       "7                      Wii Play      Wii           2006.0          Misc   \n",
       "8     New Super Mario Bros. Wii      Wii           2009.0      Platform   \n",
       "9                     Duck Hunt      NES           1984.0       Shooter   \n",
       "10                   Nintendogs       DS           2005.0    Simulation   \n",
       "11                Mario Kart DS       DS           2005.0        Racing   \n",
       "12  Pokemon Gold/Pokemon Silver       GB           1999.0  Role-Playing   \n",
       "13                      Wii Fit      Wii           2007.0        Sports   \n",
       "14           Kinect Adventures!     X360           2010.0          Misc   \n",
       "\n",
       "    na_sales  eu_sales  jp_sales  other_sales  critic_score user_score rating  \n",
       "0      41.36     28.96      3.77         8.45          76.0          8      E  \n",
       "1      29.08      3.58      6.81         0.77           NaN        NaN    NaN  \n",
       "2      15.68     12.76      3.79         3.29          82.0        8.3      E  \n",
       "3      15.61     10.93      3.28         2.95          80.0          8      E  \n",
       "4      11.27      8.89     10.22         1.00           NaN        NaN    NaN  \n",
       "5      23.20      2.26      4.22         0.58           NaN        NaN    NaN  \n",
       "6      11.28      9.14      6.50         2.88          89.0        8.5      E  \n",
       "7      13.96      9.18      2.93         2.84          58.0        6.6      E  \n",
       "8      14.44      6.94      4.70         2.24          87.0        8.4      E  \n",
       "9      26.93      0.63      0.28         0.47           NaN        NaN    NaN  \n",
       "10      9.05     10.95      1.93         2.74           NaN        NaN    NaN  \n",
       "11      9.71      7.47      4.13         1.90          91.0        8.6      E  \n",
       "12      9.00      6.18      7.20         0.71           NaN        NaN    NaN  \n",
       "13      8.92      8.03      3.60         2.15          80.0        7.7      E  \n",
       "14     15.00      4.89      0.24         1.69          61.0        6.3      E  "
      ]
     },
     "execution_count": 5,
     "metadata": {},
     "output_type": "execute_result"
    }
   ],
   "source": [
    "df.head(15)"
   ]
  },
  {
   "cell_type": "code",
   "execution_count": 6,
   "id": "7f540f8f",
   "metadata": {},
   "outputs": [
    {
     "data": {
      "text/plain": [
       "critic_score       51.319174\n",
       "rating             40.478612\n",
       "user_score         40.089740\n",
       "year_of_release     1.609333\n",
       "name                0.011965\n",
       "genre               0.011965\n",
       "platform            0.000000\n",
       "na_sales            0.000000\n",
       "eu_sales            0.000000\n",
       "jp_sales            0.000000\n",
       "other_sales         0.000000\n",
       "dtype: float64"
      ]
     },
     "execution_count": 6,
     "metadata": {},
     "output_type": "execute_result"
    }
   ],
   "source": [
    "# процент пропусков\n",
    "df.isnull().sum().sort_values(ascending = False) / df.shape[0] * 100"
   ]
  },
  {
   "cell_type": "markdown",
   "id": "696fcfbe",
   "metadata": {},
   "source": [
    "Больше всего пропусков (более 51%) в столбце \"сritic_score\", около 40% пропусков в столбцах \"user_score\" и \"rating\"."
   ]
  },
  {
   "cell_type": "markdown",
   "id": "5e5982a1",
   "metadata": {},
   "source": [
    "Так как пропусков в столблце `year_of_release` меньше 2%, удалим эти данные из датасета."
   ]
  },
  {
   "cell_type": "code",
   "execution_count": 7,
   "id": "9e2ad453",
   "metadata": {},
   "outputs": [],
   "source": [
    "df = df.dropna(subset=['year_of_release'])"
   ]
  },
  {
   "cell_type": "markdown",
   "id": "7130623c",
   "metadata": {},
   "source": [
    "Преобразуем тип столбца \"year_of_release\"."
   ]
  },
  {
   "cell_type": "code",
   "execution_count": 8,
   "id": "266f7fef",
   "metadata": {},
   "outputs": [],
   "source": [
    "df['year_of_release'] = df['year_of_release'].astype('int')"
   ]
  },
  {
   "cell_type": "markdown",
   "id": "7ef8f420",
   "metadata": {},
   "source": [
    "Посмотрим, какие есть значения в столбце \"user_score\":"
   ]
  },
  {
   "cell_type": "code",
   "execution_count": 9,
   "id": "a86ad317",
   "metadata": {},
   "outputs": [
    {
     "data": {
      "text/plain": [
       "array(['8', nan, '8.3', '8.5', '6.6', '8.4', '8.6', '7.7', '6.3', '7.4',\n",
       "       '8.2', '9', '7.9', '8.1', '8.7', '7.1', '3.4', '5.3', '4.8', '3.2',\n",
       "       '8.9', '6.4', '7.8', '7.5', '2.6', '7.2', '9.2', '7', '7.3', '4.3',\n",
       "       '7.6', '5.7', '5', '9.1', '6.5', 'tbd', '8.8', '6.9', '9.4', '6.8',\n",
       "       '6.1', '6.7', '5.4', '4', '4.9', '4.5', '9.3', '6.2', '4.2', '6',\n",
       "       '3.7', '4.1', '5.8', '5.6', '5.5', '4.4', '4.6', '5.9', '3.9',\n",
       "       '3.1', '2.9', '5.2', '3.3', '4.7', '5.1', '3.5', '2.5', '1.9', '3',\n",
       "       '2.7', '2.2', '2', '9.5', '2.1', '3.6', '2.8', '1.8', '3.8', '0',\n",
       "       '1.6', '9.6', '2.4', '1.7', '1.1', '0.3', '1.5', '0.7', '1.2',\n",
       "       '2.3', '0.5', '1.3', '0.2', '0.6', '1.4', '0.9', '1', '9.7'],\n",
       "      dtype=object)"
      ]
     },
     "execution_count": 9,
     "metadata": {},
     "output_type": "execute_result"
    }
   ],
   "source": [
    "df['user_score'].unique()"
   ]
  },
  {
   "cell_type": "markdown",
   "id": "7aa22a2a",
   "metadata": {},
   "source": [
    "Как видим, здесь встречается значение \"0\", обозначающее нулевой рейтинг игры - следовательно, мы не можем использовать ноль для заполнения пропусков. Будем использовать для этих целей \"-1\".\n",
    "Рассмотрим ближе значение \"tbd\" (видимо, to be decided)."
   ]
  },
  {
   "cell_type": "code",
   "execution_count": 10,
   "id": "04e95b16",
   "metadata": {},
   "outputs": [
    {
     "data": {
      "text/plain": [
       "2376"
      ]
     },
     "execution_count": 10,
     "metadata": {},
     "output_type": "execute_result"
    }
   ],
   "source": [
    "# tbd - to be decided\n",
    "df[df['user_score'] == 'tbd']['user_score'].count()"
   ]
  },
  {
   "cell_type": "code",
   "execution_count": 11,
   "id": "7dcc3141",
   "metadata": {},
   "outputs": [
    {
     "data": {
      "text/plain": [
       "119      2010\n",
       "301      2005\n",
       "520      2011\n",
       "645      2010\n",
       "718      2010\n",
       "         ... \n",
       "16695    2001\n",
       "16697    2003\n",
       "16698    2008\n",
       "16704    2008\n",
       "16706    2003\n",
       "Name: year_of_release, Length: 2376, dtype: int32"
      ]
     },
     "execution_count": 11,
     "metadata": {},
     "output_type": "execute_result"
    }
   ],
   "source": [
    "df[df['user_score'] == 'tbd']['year_of_release']"
   ]
  },
  {
   "cell_type": "markdown",
   "id": "4eb5d9f3",
   "metadata": {},
   "source": [
    "Так как значение `tbd` встречается не только в последнем году датасета, но и в более ранних годах, заменим на `Nan`."
   ]
  },
  {
   "cell_type": "code",
   "execution_count": 12,
   "id": "861e62ba",
   "metadata": {},
   "outputs": [],
   "source": [
    "df.loc[df['user_score'] == 'tbd','user_score'] = np.nan"
   ]
  },
  {
   "cell_type": "code",
   "execution_count": 13,
   "id": "a93eb7d5",
   "metadata": {},
   "outputs": [],
   "source": [
    "# изменение типа столбца\n",
    "df['user_score'] = df['user_score'].astype('float')"
   ]
  },
  {
   "cell_type": "code",
   "execution_count": 14,
   "id": "bc3db677",
   "metadata": {
    "scrolled": true
   },
   "outputs": [
    {
     "data": {
      "text/plain": [
       "array([76., nan, 82., 80., 89., 58., 87., 91., 61., 97., 95., 77., 88.,\n",
       "       83., 94., 93., 85., 86., 98., 96., 90., 84., 73., 74., 78., 92.,\n",
       "       71., 72., 68., 62., 49., 67., 81., 66., 56., 79., 70., 59., 64.,\n",
       "       75., 60., 63., 69., 50., 25., 42., 44., 55., 48., 57., 29., 47.,\n",
       "       65., 54., 20., 53., 37., 38., 33., 52., 30., 32., 43., 45., 51.,\n",
       "       40., 46., 39., 34., 41., 36., 31., 27., 35., 26., 19., 28., 23.,\n",
       "       24., 21., 17., 13.])"
      ]
     },
     "execution_count": 14,
     "metadata": {},
     "output_type": "execute_result"
    }
   ],
   "source": [
    "df['critic_score'].unique()"
   ]
  },
  {
   "cell_type": "markdown",
   "id": "265bfba9",
   "metadata": {},
   "source": [
    "Здесь `tbd` нет, переходим к поиску скрытых дубликатов. Приведем значения столбцов типа `object`к нижнему регистру:"
   ]
  },
  {
   "cell_type": "code",
   "execution_count": 15,
   "id": "06ec840b",
   "metadata": {},
   "outputs": [],
   "source": [
    "# проверка на наличие скрытых дубликатов\n",
    "df['name'] = df['name'].str.lower()\n",
    "df['platform'] = df['platform'].str.lower()\n",
    "df['genre'] = df['genre'].str.lower()\n",
    "df['rating'] = df['rating'].str.lower()"
   ]
  },
  {
   "cell_type": "code",
   "execution_count": 16,
   "id": "2ea61a95",
   "metadata": {
    "scrolled": true
   },
   "outputs": [
    {
     "data": {
      "text/plain": [
       "0"
      ]
     },
     "execution_count": 16,
     "metadata": {},
     "output_type": "execute_result"
    }
   ],
   "source": [
    "df.duplicated().sum()"
   ]
  },
  {
   "cell_type": "markdown",
   "id": "7fd84a56",
   "metadata": {},
   "source": [
    "Дубликатов нет. Заменим пропуски в столбцах `user_score` и `critic_score` на -1."
   ]
  },
  {
   "cell_type": "code",
   "execution_count": 17,
   "id": "c178c318",
   "metadata": {},
   "outputs": [],
   "source": [
    "# отсутствующие значения в рейтинге заменим на -1 (0 это тоже рейтинг)\n",
    "df['user_score'] = df['user_score'].fillna(-1)\n",
    "df['critic_score'] = df['critic_score'].fillna(-1)"
   ]
  },
  {
   "cell_type": "code",
   "execution_count": 18,
   "id": "a58ad0c0",
   "metadata": {
    "scrolled": false
   },
   "outputs": [
    {
     "data": {
      "text/html": [
       "<div>\n",
       "<style scoped>\n",
       "    .dataframe tbody tr th:only-of-type {\n",
       "        vertical-align: middle;\n",
       "    }\n",
       "\n",
       "    .dataframe tbody tr th {\n",
       "        vertical-align: top;\n",
       "    }\n",
       "\n",
       "    .dataframe thead th {\n",
       "        text-align: right;\n",
       "    }\n",
       "</style>\n",
       "<table border=\"1\" class=\"dataframe\">\n",
       "  <thead>\n",
       "    <tr style=\"text-align: right;\">\n",
       "      <th></th>\n",
       "      <th>name</th>\n",
       "      <th>platform</th>\n",
       "      <th>year_of_release</th>\n",
       "      <th>genre</th>\n",
       "      <th>na_sales</th>\n",
       "      <th>eu_sales</th>\n",
       "      <th>jp_sales</th>\n",
       "      <th>other_sales</th>\n",
       "      <th>critic_score</th>\n",
       "      <th>user_score</th>\n",
       "      <th>rating</th>\n",
       "    </tr>\n",
       "  </thead>\n",
       "  <tbody>\n",
       "    <tr>\n",
       "      <th>0</th>\n",
       "      <td>wii sports</td>\n",
       "      <td>wii</td>\n",
       "      <td>2006</td>\n",
       "      <td>sports</td>\n",
       "      <td>41.36</td>\n",
       "      <td>28.96</td>\n",
       "      <td>3.77</td>\n",
       "      <td>8.45</td>\n",
       "      <td>76.0</td>\n",
       "      <td>8.0</td>\n",
       "      <td>e</td>\n",
       "    </tr>\n",
       "    <tr>\n",
       "      <th>1</th>\n",
       "      <td>super mario bros.</td>\n",
       "      <td>nes</td>\n",
       "      <td>1985</td>\n",
       "      <td>platform</td>\n",
       "      <td>29.08</td>\n",
       "      <td>3.58</td>\n",
       "      <td>6.81</td>\n",
       "      <td>0.77</td>\n",
       "      <td>-1.0</td>\n",
       "      <td>-1.0</td>\n",
       "      <td>NaN</td>\n",
       "    </tr>\n",
       "    <tr>\n",
       "      <th>2</th>\n",
       "      <td>mario kart wii</td>\n",
       "      <td>wii</td>\n",
       "      <td>2008</td>\n",
       "      <td>racing</td>\n",
       "      <td>15.68</td>\n",
       "      <td>12.76</td>\n",
       "      <td>3.79</td>\n",
       "      <td>3.29</td>\n",
       "      <td>82.0</td>\n",
       "      <td>8.3</td>\n",
       "      <td>e</td>\n",
       "    </tr>\n",
       "    <tr>\n",
       "      <th>3</th>\n",
       "      <td>wii sports resort</td>\n",
       "      <td>wii</td>\n",
       "      <td>2009</td>\n",
       "      <td>sports</td>\n",
       "      <td>15.61</td>\n",
       "      <td>10.93</td>\n",
       "      <td>3.28</td>\n",
       "      <td>2.95</td>\n",
       "      <td>80.0</td>\n",
       "      <td>8.0</td>\n",
       "      <td>e</td>\n",
       "    </tr>\n",
       "    <tr>\n",
       "      <th>4</th>\n",
       "      <td>pokemon red/pokemon blue</td>\n",
       "      <td>gb</td>\n",
       "      <td>1996</td>\n",
       "      <td>role-playing</td>\n",
       "      <td>11.27</td>\n",
       "      <td>8.89</td>\n",
       "      <td>10.22</td>\n",
       "      <td>1.00</td>\n",
       "      <td>-1.0</td>\n",
       "      <td>-1.0</td>\n",
       "      <td>NaN</td>\n",
       "    </tr>\n",
       "    <tr>\n",
       "      <th>5</th>\n",
       "      <td>tetris</td>\n",
       "      <td>gb</td>\n",
       "      <td>1989</td>\n",
       "      <td>puzzle</td>\n",
       "      <td>23.20</td>\n",
       "      <td>2.26</td>\n",
       "      <td>4.22</td>\n",
       "      <td>0.58</td>\n",
       "      <td>-1.0</td>\n",
       "      <td>-1.0</td>\n",
       "      <td>NaN</td>\n",
       "    </tr>\n",
       "    <tr>\n",
       "      <th>6</th>\n",
       "      <td>new super mario bros.</td>\n",
       "      <td>ds</td>\n",
       "      <td>2006</td>\n",
       "      <td>platform</td>\n",
       "      <td>11.28</td>\n",
       "      <td>9.14</td>\n",
       "      <td>6.50</td>\n",
       "      <td>2.88</td>\n",
       "      <td>89.0</td>\n",
       "      <td>8.5</td>\n",
       "      <td>e</td>\n",
       "    </tr>\n",
       "    <tr>\n",
       "      <th>7</th>\n",
       "      <td>wii play</td>\n",
       "      <td>wii</td>\n",
       "      <td>2006</td>\n",
       "      <td>misc</td>\n",
       "      <td>13.96</td>\n",
       "      <td>9.18</td>\n",
       "      <td>2.93</td>\n",
       "      <td>2.84</td>\n",
       "      <td>58.0</td>\n",
       "      <td>6.6</td>\n",
       "      <td>e</td>\n",
       "    </tr>\n",
       "    <tr>\n",
       "      <th>8</th>\n",
       "      <td>new super mario bros. wii</td>\n",
       "      <td>wii</td>\n",
       "      <td>2009</td>\n",
       "      <td>platform</td>\n",
       "      <td>14.44</td>\n",
       "      <td>6.94</td>\n",
       "      <td>4.70</td>\n",
       "      <td>2.24</td>\n",
       "      <td>87.0</td>\n",
       "      <td>8.4</td>\n",
       "      <td>e</td>\n",
       "    </tr>\n",
       "    <tr>\n",
       "      <th>9</th>\n",
       "      <td>duck hunt</td>\n",
       "      <td>nes</td>\n",
       "      <td>1984</td>\n",
       "      <td>shooter</td>\n",
       "      <td>26.93</td>\n",
       "      <td>0.63</td>\n",
       "      <td>0.28</td>\n",
       "      <td>0.47</td>\n",
       "      <td>-1.0</td>\n",
       "      <td>-1.0</td>\n",
       "      <td>NaN</td>\n",
       "    </tr>\n",
       "    <tr>\n",
       "      <th>10</th>\n",
       "      <td>nintendogs</td>\n",
       "      <td>ds</td>\n",
       "      <td>2005</td>\n",
       "      <td>simulation</td>\n",
       "      <td>9.05</td>\n",
       "      <td>10.95</td>\n",
       "      <td>1.93</td>\n",
       "      <td>2.74</td>\n",
       "      <td>-1.0</td>\n",
       "      <td>-1.0</td>\n",
       "      <td>NaN</td>\n",
       "    </tr>\n",
       "    <tr>\n",
       "      <th>11</th>\n",
       "      <td>mario kart ds</td>\n",
       "      <td>ds</td>\n",
       "      <td>2005</td>\n",
       "      <td>racing</td>\n",
       "      <td>9.71</td>\n",
       "      <td>7.47</td>\n",
       "      <td>4.13</td>\n",
       "      <td>1.90</td>\n",
       "      <td>91.0</td>\n",
       "      <td>8.6</td>\n",
       "      <td>e</td>\n",
       "    </tr>\n",
       "    <tr>\n",
       "      <th>12</th>\n",
       "      <td>pokemon gold/pokemon silver</td>\n",
       "      <td>gb</td>\n",
       "      <td>1999</td>\n",
       "      <td>role-playing</td>\n",
       "      <td>9.00</td>\n",
       "      <td>6.18</td>\n",
       "      <td>7.20</td>\n",
       "      <td>0.71</td>\n",
       "      <td>-1.0</td>\n",
       "      <td>-1.0</td>\n",
       "      <td>NaN</td>\n",
       "    </tr>\n",
       "    <tr>\n",
       "      <th>13</th>\n",
       "      <td>wii fit</td>\n",
       "      <td>wii</td>\n",
       "      <td>2007</td>\n",
       "      <td>sports</td>\n",
       "      <td>8.92</td>\n",
       "      <td>8.03</td>\n",
       "      <td>3.60</td>\n",
       "      <td>2.15</td>\n",
       "      <td>80.0</td>\n",
       "      <td>7.7</td>\n",
       "      <td>e</td>\n",
       "    </tr>\n",
       "    <tr>\n",
       "      <th>14</th>\n",
       "      <td>kinect adventures!</td>\n",
       "      <td>x360</td>\n",
       "      <td>2010</td>\n",
       "      <td>misc</td>\n",
       "      <td>15.00</td>\n",
       "      <td>4.89</td>\n",
       "      <td>0.24</td>\n",
       "      <td>1.69</td>\n",
       "      <td>61.0</td>\n",
       "      <td>6.3</td>\n",
       "      <td>e</td>\n",
       "    </tr>\n",
       "  </tbody>\n",
       "</table>\n",
       "</div>"
      ],
      "text/plain": [
       "                           name platform  year_of_release         genre  \\\n",
       "0                    wii sports      wii             2006        sports   \n",
       "1             super mario bros.      nes             1985      platform   \n",
       "2                mario kart wii      wii             2008        racing   \n",
       "3             wii sports resort      wii             2009        sports   \n",
       "4      pokemon red/pokemon blue       gb             1996  role-playing   \n",
       "5                        tetris       gb             1989        puzzle   \n",
       "6         new super mario bros.       ds             2006      platform   \n",
       "7                      wii play      wii             2006          misc   \n",
       "8     new super mario bros. wii      wii             2009      platform   \n",
       "9                     duck hunt      nes             1984       shooter   \n",
       "10                   nintendogs       ds             2005    simulation   \n",
       "11                mario kart ds       ds             2005        racing   \n",
       "12  pokemon gold/pokemon silver       gb             1999  role-playing   \n",
       "13                      wii fit      wii             2007        sports   \n",
       "14           kinect adventures!     x360             2010          misc   \n",
       "\n",
       "    na_sales  eu_sales  jp_sales  other_sales  critic_score  user_score rating  \n",
       "0      41.36     28.96      3.77         8.45          76.0         8.0      e  \n",
       "1      29.08      3.58      6.81         0.77          -1.0        -1.0    NaN  \n",
       "2      15.68     12.76      3.79         3.29          82.0         8.3      e  \n",
       "3      15.61     10.93      3.28         2.95          80.0         8.0      e  \n",
       "4      11.27      8.89     10.22         1.00          -1.0        -1.0    NaN  \n",
       "5      23.20      2.26      4.22         0.58          -1.0        -1.0    NaN  \n",
       "6      11.28      9.14      6.50         2.88          89.0         8.5      e  \n",
       "7      13.96      9.18      2.93         2.84          58.0         6.6      e  \n",
       "8      14.44      6.94      4.70         2.24          87.0         8.4      e  \n",
       "9      26.93      0.63      0.28         0.47          -1.0        -1.0    NaN  \n",
       "10      9.05     10.95      1.93         2.74          -1.0        -1.0    NaN  \n",
       "11      9.71      7.47      4.13         1.90          91.0         8.6      e  \n",
       "12      9.00      6.18      7.20         0.71          -1.0        -1.0    NaN  \n",
       "13      8.92      8.03      3.60         2.15          80.0         7.7      e  \n",
       "14     15.00      4.89      0.24         1.69          61.0         6.3      e  "
      ]
     },
     "execution_count": 18,
     "metadata": {},
     "output_type": "execute_result"
    }
   ],
   "source": [
    "df.head(15)"
   ]
  },
  {
   "cell_type": "markdown",
   "id": "14fa27b5",
   "metadata": {},
   "source": [
    "Добавим к датасету столбец `total_sales` с суммарными продажами по всем трем регионам."
   ]
  },
  {
   "cell_type": "code",
   "execution_count": 19,
   "id": "42709dd2",
   "metadata": {
    "scrolled": false
   },
   "outputs": [
    {
     "data": {
      "text/html": [
       "<div>\n",
       "<style scoped>\n",
       "    .dataframe tbody tr th:only-of-type {\n",
       "        vertical-align: middle;\n",
       "    }\n",
       "\n",
       "    .dataframe tbody tr th {\n",
       "        vertical-align: top;\n",
       "    }\n",
       "\n",
       "    .dataframe thead th {\n",
       "        text-align: right;\n",
       "    }\n",
       "</style>\n",
       "<table border=\"1\" class=\"dataframe\">\n",
       "  <thead>\n",
       "    <tr style=\"text-align: right;\">\n",
       "      <th></th>\n",
       "      <th>name</th>\n",
       "      <th>platform</th>\n",
       "      <th>year_of_release</th>\n",
       "      <th>genre</th>\n",
       "      <th>na_sales</th>\n",
       "      <th>eu_sales</th>\n",
       "      <th>jp_sales</th>\n",
       "      <th>other_sales</th>\n",
       "      <th>critic_score</th>\n",
       "      <th>user_score</th>\n",
       "      <th>rating</th>\n",
       "      <th>total_sales</th>\n",
       "    </tr>\n",
       "  </thead>\n",
       "  <tbody>\n",
       "    <tr>\n",
       "      <th>0</th>\n",
       "      <td>wii sports</td>\n",
       "      <td>wii</td>\n",
       "      <td>2006</td>\n",
       "      <td>sports</td>\n",
       "      <td>41.36</td>\n",
       "      <td>28.96</td>\n",
       "      <td>3.77</td>\n",
       "      <td>8.45</td>\n",
       "      <td>76.0</td>\n",
       "      <td>8.0</td>\n",
       "      <td>e</td>\n",
       "      <td>82.54</td>\n",
       "    </tr>\n",
       "    <tr>\n",
       "      <th>1</th>\n",
       "      <td>super mario bros.</td>\n",
       "      <td>nes</td>\n",
       "      <td>1985</td>\n",
       "      <td>platform</td>\n",
       "      <td>29.08</td>\n",
       "      <td>3.58</td>\n",
       "      <td>6.81</td>\n",
       "      <td>0.77</td>\n",
       "      <td>-1.0</td>\n",
       "      <td>-1.0</td>\n",
       "      <td>NaN</td>\n",
       "      <td>40.24</td>\n",
       "    </tr>\n",
       "    <tr>\n",
       "      <th>2</th>\n",
       "      <td>mario kart wii</td>\n",
       "      <td>wii</td>\n",
       "      <td>2008</td>\n",
       "      <td>racing</td>\n",
       "      <td>15.68</td>\n",
       "      <td>12.76</td>\n",
       "      <td>3.79</td>\n",
       "      <td>3.29</td>\n",
       "      <td>82.0</td>\n",
       "      <td>8.3</td>\n",
       "      <td>e</td>\n",
       "      <td>35.52</td>\n",
       "    </tr>\n",
       "    <tr>\n",
       "      <th>3</th>\n",
       "      <td>wii sports resort</td>\n",
       "      <td>wii</td>\n",
       "      <td>2009</td>\n",
       "      <td>sports</td>\n",
       "      <td>15.61</td>\n",
       "      <td>10.93</td>\n",
       "      <td>3.28</td>\n",
       "      <td>2.95</td>\n",
       "      <td>80.0</td>\n",
       "      <td>8.0</td>\n",
       "      <td>e</td>\n",
       "      <td>32.77</td>\n",
       "    </tr>\n",
       "    <tr>\n",
       "      <th>4</th>\n",
       "      <td>pokemon red/pokemon blue</td>\n",
       "      <td>gb</td>\n",
       "      <td>1996</td>\n",
       "      <td>role-playing</td>\n",
       "      <td>11.27</td>\n",
       "      <td>8.89</td>\n",
       "      <td>10.22</td>\n",
       "      <td>1.00</td>\n",
       "      <td>-1.0</td>\n",
       "      <td>-1.0</td>\n",
       "      <td>NaN</td>\n",
       "      <td>31.38</td>\n",
       "    </tr>\n",
       "    <tr>\n",
       "      <th>5</th>\n",
       "      <td>tetris</td>\n",
       "      <td>gb</td>\n",
       "      <td>1989</td>\n",
       "      <td>puzzle</td>\n",
       "      <td>23.20</td>\n",
       "      <td>2.26</td>\n",
       "      <td>4.22</td>\n",
       "      <td>0.58</td>\n",
       "      <td>-1.0</td>\n",
       "      <td>-1.0</td>\n",
       "      <td>NaN</td>\n",
       "      <td>30.26</td>\n",
       "    </tr>\n",
       "    <tr>\n",
       "      <th>6</th>\n",
       "      <td>new super mario bros.</td>\n",
       "      <td>ds</td>\n",
       "      <td>2006</td>\n",
       "      <td>platform</td>\n",
       "      <td>11.28</td>\n",
       "      <td>9.14</td>\n",
       "      <td>6.50</td>\n",
       "      <td>2.88</td>\n",
       "      <td>89.0</td>\n",
       "      <td>8.5</td>\n",
       "      <td>e</td>\n",
       "      <td>29.80</td>\n",
       "    </tr>\n",
       "    <tr>\n",
       "      <th>7</th>\n",
       "      <td>wii play</td>\n",
       "      <td>wii</td>\n",
       "      <td>2006</td>\n",
       "      <td>misc</td>\n",
       "      <td>13.96</td>\n",
       "      <td>9.18</td>\n",
       "      <td>2.93</td>\n",
       "      <td>2.84</td>\n",
       "      <td>58.0</td>\n",
       "      <td>6.6</td>\n",
       "      <td>e</td>\n",
       "      <td>28.91</td>\n",
       "    </tr>\n",
       "    <tr>\n",
       "      <th>8</th>\n",
       "      <td>new super mario bros. wii</td>\n",
       "      <td>wii</td>\n",
       "      <td>2009</td>\n",
       "      <td>platform</td>\n",
       "      <td>14.44</td>\n",
       "      <td>6.94</td>\n",
       "      <td>4.70</td>\n",
       "      <td>2.24</td>\n",
       "      <td>87.0</td>\n",
       "      <td>8.4</td>\n",
       "      <td>e</td>\n",
       "      <td>28.32</td>\n",
       "    </tr>\n",
       "    <tr>\n",
       "      <th>9</th>\n",
       "      <td>duck hunt</td>\n",
       "      <td>nes</td>\n",
       "      <td>1984</td>\n",
       "      <td>shooter</td>\n",
       "      <td>26.93</td>\n",
       "      <td>0.63</td>\n",
       "      <td>0.28</td>\n",
       "      <td>0.47</td>\n",
       "      <td>-1.0</td>\n",
       "      <td>-1.0</td>\n",
       "      <td>NaN</td>\n",
       "      <td>28.31</td>\n",
       "    </tr>\n",
       "    <tr>\n",
       "      <th>10</th>\n",
       "      <td>nintendogs</td>\n",
       "      <td>ds</td>\n",
       "      <td>2005</td>\n",
       "      <td>simulation</td>\n",
       "      <td>9.05</td>\n",
       "      <td>10.95</td>\n",
       "      <td>1.93</td>\n",
       "      <td>2.74</td>\n",
       "      <td>-1.0</td>\n",
       "      <td>-1.0</td>\n",
       "      <td>NaN</td>\n",
       "      <td>24.67</td>\n",
       "    </tr>\n",
       "    <tr>\n",
       "      <th>11</th>\n",
       "      <td>mario kart ds</td>\n",
       "      <td>ds</td>\n",
       "      <td>2005</td>\n",
       "      <td>racing</td>\n",
       "      <td>9.71</td>\n",
       "      <td>7.47</td>\n",
       "      <td>4.13</td>\n",
       "      <td>1.90</td>\n",
       "      <td>91.0</td>\n",
       "      <td>8.6</td>\n",
       "      <td>e</td>\n",
       "      <td>23.21</td>\n",
       "    </tr>\n",
       "    <tr>\n",
       "      <th>12</th>\n",
       "      <td>pokemon gold/pokemon silver</td>\n",
       "      <td>gb</td>\n",
       "      <td>1999</td>\n",
       "      <td>role-playing</td>\n",
       "      <td>9.00</td>\n",
       "      <td>6.18</td>\n",
       "      <td>7.20</td>\n",
       "      <td>0.71</td>\n",
       "      <td>-1.0</td>\n",
       "      <td>-1.0</td>\n",
       "      <td>NaN</td>\n",
       "      <td>23.09</td>\n",
       "    </tr>\n",
       "    <tr>\n",
       "      <th>13</th>\n",
       "      <td>wii fit</td>\n",
       "      <td>wii</td>\n",
       "      <td>2007</td>\n",
       "      <td>sports</td>\n",
       "      <td>8.92</td>\n",
       "      <td>8.03</td>\n",
       "      <td>3.60</td>\n",
       "      <td>2.15</td>\n",
       "      <td>80.0</td>\n",
       "      <td>7.7</td>\n",
       "      <td>e</td>\n",
       "      <td>22.70</td>\n",
       "    </tr>\n",
       "    <tr>\n",
       "      <th>14</th>\n",
       "      <td>kinect adventures!</td>\n",
       "      <td>x360</td>\n",
       "      <td>2010</td>\n",
       "      <td>misc</td>\n",
       "      <td>15.00</td>\n",
       "      <td>4.89</td>\n",
       "      <td>0.24</td>\n",
       "      <td>1.69</td>\n",
       "      <td>61.0</td>\n",
       "      <td>6.3</td>\n",
       "      <td>e</td>\n",
       "      <td>21.82</td>\n",
       "    </tr>\n",
       "  </tbody>\n",
       "</table>\n",
       "</div>"
      ],
      "text/plain": [
       "                           name platform  year_of_release         genre  \\\n",
       "0                    wii sports      wii             2006        sports   \n",
       "1             super mario bros.      nes             1985      platform   \n",
       "2                mario kart wii      wii             2008        racing   \n",
       "3             wii sports resort      wii             2009        sports   \n",
       "4      pokemon red/pokemon blue       gb             1996  role-playing   \n",
       "5                        tetris       gb             1989        puzzle   \n",
       "6         new super mario bros.       ds             2006      platform   \n",
       "7                      wii play      wii             2006          misc   \n",
       "8     new super mario bros. wii      wii             2009      platform   \n",
       "9                     duck hunt      nes             1984       shooter   \n",
       "10                   nintendogs       ds             2005    simulation   \n",
       "11                mario kart ds       ds             2005        racing   \n",
       "12  pokemon gold/pokemon silver       gb             1999  role-playing   \n",
       "13                      wii fit      wii             2007        sports   \n",
       "14           kinect adventures!     x360             2010          misc   \n",
       "\n",
       "    na_sales  eu_sales  jp_sales  other_sales  critic_score  user_score  \\\n",
       "0      41.36     28.96      3.77         8.45          76.0         8.0   \n",
       "1      29.08      3.58      6.81         0.77          -1.0        -1.0   \n",
       "2      15.68     12.76      3.79         3.29          82.0         8.3   \n",
       "3      15.61     10.93      3.28         2.95          80.0         8.0   \n",
       "4      11.27      8.89     10.22         1.00          -1.0        -1.0   \n",
       "5      23.20      2.26      4.22         0.58          -1.0        -1.0   \n",
       "6      11.28      9.14      6.50         2.88          89.0         8.5   \n",
       "7      13.96      9.18      2.93         2.84          58.0         6.6   \n",
       "8      14.44      6.94      4.70         2.24          87.0         8.4   \n",
       "9      26.93      0.63      0.28         0.47          -1.0        -1.0   \n",
       "10      9.05     10.95      1.93         2.74          -1.0        -1.0   \n",
       "11      9.71      7.47      4.13         1.90          91.0         8.6   \n",
       "12      9.00      6.18      7.20         0.71          -1.0        -1.0   \n",
       "13      8.92      8.03      3.60         2.15          80.0         7.7   \n",
       "14     15.00      4.89      0.24         1.69          61.0         6.3   \n",
       "\n",
       "   rating  total_sales  \n",
       "0       e        82.54  \n",
       "1     NaN        40.24  \n",
       "2       e        35.52  \n",
       "3       e        32.77  \n",
       "4     NaN        31.38  \n",
       "5     NaN        30.26  \n",
       "6       e        29.80  \n",
       "7       e        28.91  \n",
       "8       e        28.32  \n",
       "9     NaN        28.31  \n",
       "10    NaN        24.67  \n",
       "11      e        23.21  \n",
       "12    NaN        23.09  \n",
       "13      e        22.70  \n",
       "14      e        21.82  "
      ]
     },
     "execution_count": 19,
     "metadata": {},
     "output_type": "execute_result"
    }
   ],
   "source": [
    "# добавим столбец `total_sales`\n",
    "df['total_sales'] = df['na_sales'] + df['eu_sales'] + df['jp_sales'] + df['other_sales']\n",
    "df.head(15)"
   ]
  },
  {
   "cell_type": "markdown",
   "id": "27ded80c",
   "metadata": {},
   "source": [
    "Рассмотрим подробнее столбец с возрастным рейтингом:"
   ]
  },
  {
   "cell_type": "code",
   "execution_count": 20,
   "id": "3424e798",
   "metadata": {
    "scrolled": true
   },
   "outputs": [
    {
     "data": {
      "text/plain": [
       "array(['e', nan, 'm', 't', 'e10+', 'k-a', 'ao', 'ec', 'rp'], dtype=object)"
      ]
     },
     "execution_count": 20,
     "metadata": {},
     "output_type": "execute_result"
    }
   ],
   "source": [
    "df['rating'].unique()"
   ]
  },
  {
   "cell_type": "markdown",
   "id": "7be38ce7",
   "metadata": {},
   "source": [
    "Приведем расшифровку рейтингов ESRB:\n",
    "\n",
    "- `е` - everyone (для всех категорий пользователей)\n",
    "- `m` - mature (для взрослых)\n",
    "- `t` - teen (для подростков)\n",
    "- `e10+` - everyone 10 and older (для всех старше 10 лет)\n",
    "- `k-a` - kids to adults (для детей и взрослых, от 6 лет и старше)\n",
    "- `ao` - adults only (только для взрослых, строго старше 18 лет)\n",
    "- `ec` - early childhood (для детей младшего возраста, от 3 лет и старше)\n",
    "- `rp` - rating pending (рейтинг ожидается)"
   ]
  },
  {
   "cell_type": "markdown",
   "id": "deb38496",
   "metadata": {},
   "source": [
    "Возможно, количество пропусков в столбце с возрастным рейтингом объясняется тем, что ESRB была создана в 1994, а данные имеются с 1980 года. Так как для прогнозов старые данные не нужны, оставим эти пропуски без изменений. Посмотрим на пропуски в столбце с возрастным рейтингом в разрезе лет, чтобы проверить эту гипотезу."
   ]
  },
  {
   "cell_type": "code",
   "execution_count": 21,
   "id": "c73f295a",
   "metadata": {
    "scrolled": false
   },
   "outputs": [
    {
     "data": {
      "text/plain": [
       "6678"
      ]
     },
     "execution_count": 21,
     "metadata": {},
     "output_type": "execute_result"
    }
   ],
   "source": [
    "# кол-во пропусков в столбце `rating`\n",
    "df['rating'].isnull().sum()"
   ]
  },
  {
   "cell_type": "code",
   "execution_count": 22,
   "id": "02510796",
   "metadata": {},
   "outputs": [
    {
     "data": {
      "text/plain": [
       "Text(0.5, 1.0, 'Количество пропусков в `rating` по годам')"
      ]
     },
     "execution_count": 22,
     "metadata": {},
     "output_type": "execute_result"
    },
    {
     "data": {
      "image/png": "[encoded data removed]",
      "text/plain": [
       "<Figure size 432x288 with 1 Axes>"
      ]
     },
     "metadata": {
      "needs_background": "light"
     },
     "output_type": "display_data"
    }
   ],
   "source": [
    "df['rating_isna'] = df['rating'].isna()\n",
    "df.groupby('year_of_release')['rating_isna'].sum().plot(kind='line').set_title('Количество пропусков в `rating` по годам')"
   ]
  },
  {
   "cell_type": "markdown",
   "id": "6873b4f3",
   "metadata": {},
   "source": [
    "Предположение не подтвердилось. Напротив, после 1994 года игр, оставшихся без рейтинга, резко становится больше."
   ]
  },
  {
   "cell_type": "markdown",
   "id": "8fbbd61a",
   "metadata": {},
   "source": [
    "Заменим отсутствующие значения в столбце с возрастным рейтингом на значение `undef` (undefined), чтобы в дальнейшем можно было включить категорию игр без рейтинга в анализ."
   ]
  },
  {
   "cell_type": "code",
   "execution_count": 23,
   "id": "425ed918",
   "metadata": {},
   "outputs": [
    {
     "data": {
      "text/html": [
       "<div>\n",
       "<style scoped>\n",
       "    .dataframe tbody tr th:only-of-type {\n",
       "        vertical-align: middle;\n",
       "    }\n",
       "\n",
       "    .dataframe tbody tr th {\n",
       "        vertical-align: top;\n",
       "    }\n",
       "\n",
       "    .dataframe thead th {\n",
       "        text-align: right;\n",
       "    }\n",
       "</style>\n",
       "<table border=\"1\" class=\"dataframe\">\n",
       "  <thead>\n",
       "    <tr style=\"text-align: right;\">\n",
       "      <th></th>\n",
       "      <th>name</th>\n",
       "      <th>platform</th>\n",
       "      <th>year_of_release</th>\n",
       "      <th>genre</th>\n",
       "      <th>na_sales</th>\n",
       "      <th>eu_sales</th>\n",
       "      <th>jp_sales</th>\n",
       "      <th>other_sales</th>\n",
       "      <th>critic_score</th>\n",
       "      <th>user_score</th>\n",
       "      <th>rating</th>\n",
       "      <th>total_sales</th>\n",
       "      <th>rating_isna</th>\n",
       "    </tr>\n",
       "  </thead>\n",
       "  <tbody>\n",
       "    <tr>\n",
       "      <th>0</th>\n",
       "      <td>wii sports</td>\n",
       "      <td>wii</td>\n",
       "      <td>2006</td>\n",
       "      <td>sports</td>\n",
       "      <td>41.36</td>\n",
       "      <td>28.96</td>\n",
       "      <td>3.77</td>\n",
       "      <td>8.45</td>\n",
       "      <td>76.0</td>\n",
       "      <td>8.0</td>\n",
       "      <td>e</td>\n",
       "      <td>82.54</td>\n",
       "      <td>False</td>\n",
       "    </tr>\n",
       "    <tr>\n",
       "      <th>1</th>\n",
       "      <td>super mario bros.</td>\n",
       "      <td>nes</td>\n",
       "      <td>1985</td>\n",
       "      <td>platform</td>\n",
       "      <td>29.08</td>\n",
       "      <td>3.58</td>\n",
       "      <td>6.81</td>\n",
       "      <td>0.77</td>\n",
       "      <td>-1.0</td>\n",
       "      <td>-1.0</td>\n",
       "      <td>undef</td>\n",
       "      <td>40.24</td>\n",
       "      <td>True</td>\n",
       "    </tr>\n",
       "    <tr>\n",
       "      <th>2</th>\n",
       "      <td>mario kart wii</td>\n",
       "      <td>wii</td>\n",
       "      <td>2008</td>\n",
       "      <td>racing</td>\n",
       "      <td>15.68</td>\n",
       "      <td>12.76</td>\n",
       "      <td>3.79</td>\n",
       "      <td>3.29</td>\n",
       "      <td>82.0</td>\n",
       "      <td>8.3</td>\n",
       "      <td>e</td>\n",
       "      <td>35.52</td>\n",
       "      <td>False</td>\n",
       "    </tr>\n",
       "    <tr>\n",
       "      <th>3</th>\n",
       "      <td>wii sports resort</td>\n",
       "      <td>wii</td>\n",
       "      <td>2009</td>\n",
       "      <td>sports</td>\n",
       "      <td>15.61</td>\n",
       "      <td>10.93</td>\n",
       "      <td>3.28</td>\n",
       "      <td>2.95</td>\n",
       "      <td>80.0</td>\n",
       "      <td>8.0</td>\n",
       "      <td>e</td>\n",
       "      <td>32.77</td>\n",
       "      <td>False</td>\n",
       "    </tr>\n",
       "    <tr>\n",
       "      <th>4</th>\n",
       "      <td>pokemon red/pokemon blue</td>\n",
       "      <td>gb</td>\n",
       "      <td>1996</td>\n",
       "      <td>role-playing</td>\n",
       "      <td>11.27</td>\n",
       "      <td>8.89</td>\n",
       "      <td>10.22</td>\n",
       "      <td>1.00</td>\n",
       "      <td>-1.0</td>\n",
       "      <td>-1.0</td>\n",
       "      <td>undef</td>\n",
       "      <td>31.38</td>\n",
       "      <td>True</td>\n",
       "    </tr>\n",
       "    <tr>\n",
       "      <th>...</th>\n",
       "      <td>...</td>\n",
       "      <td>...</td>\n",
       "      <td>...</td>\n",
       "      <td>...</td>\n",
       "      <td>...</td>\n",
       "      <td>...</td>\n",
       "      <td>...</td>\n",
       "      <td>...</td>\n",
       "      <td>...</td>\n",
       "      <td>...</td>\n",
       "      <td>...</td>\n",
       "      <td>...</td>\n",
       "      <td>...</td>\n",
       "    </tr>\n",
       "    <tr>\n",
       "      <th>16710</th>\n",
       "      <td>samurai warriors: sanada maru</td>\n",
       "      <td>ps3</td>\n",
       "      <td>2016</td>\n",
       "      <td>action</td>\n",
       "      <td>0.00</td>\n",
       "      <td>0.00</td>\n",
       "      <td>0.01</td>\n",
       "      <td>0.00</td>\n",
       "      <td>-1.0</td>\n",
       "      <td>-1.0</td>\n",
       "      <td>undef</td>\n",
       "      <td>0.01</td>\n",
       "      <td>True</td>\n",
       "    </tr>\n",
       "    <tr>\n",
       "      <th>16711</th>\n",
       "      <td>lma manager 2007</td>\n",
       "      <td>x360</td>\n",
       "      <td>2006</td>\n",
       "      <td>sports</td>\n",
       "      <td>0.00</td>\n",
       "      <td>0.01</td>\n",
       "      <td>0.00</td>\n",
       "      <td>0.00</td>\n",
       "      <td>-1.0</td>\n",
       "      <td>-1.0</td>\n",
       "      <td>undef</td>\n",
       "      <td>0.01</td>\n",
       "      <td>True</td>\n",
       "    </tr>\n",
       "    <tr>\n",
       "      <th>16712</th>\n",
       "      <td>haitaka no psychedelica</td>\n",
       "      <td>psv</td>\n",
       "      <td>2016</td>\n",
       "      <td>adventure</td>\n",
       "      <td>0.00</td>\n",
       "      <td>0.00</td>\n",
       "      <td>0.01</td>\n",
       "      <td>0.00</td>\n",
       "      <td>-1.0</td>\n",
       "      <td>-1.0</td>\n",
       "      <td>undef</td>\n",
       "      <td>0.01</td>\n",
       "      <td>True</td>\n",
       "    </tr>\n",
       "    <tr>\n",
       "      <th>16713</th>\n",
       "      <td>spirits &amp; spells</td>\n",
       "      <td>gba</td>\n",
       "      <td>2003</td>\n",
       "      <td>platform</td>\n",
       "      <td>0.01</td>\n",
       "      <td>0.00</td>\n",
       "      <td>0.00</td>\n",
       "      <td>0.00</td>\n",
       "      <td>-1.0</td>\n",
       "      <td>-1.0</td>\n",
       "      <td>undef</td>\n",
       "      <td>0.01</td>\n",
       "      <td>True</td>\n",
       "    </tr>\n",
       "    <tr>\n",
       "      <th>16714</th>\n",
       "      <td>winning post 8 2016</td>\n",
       "      <td>psv</td>\n",
       "      <td>2016</td>\n",
       "      <td>simulation</td>\n",
       "      <td>0.00</td>\n",
       "      <td>0.00</td>\n",
       "      <td>0.01</td>\n",
       "      <td>0.00</td>\n",
       "      <td>-1.0</td>\n",
       "      <td>-1.0</td>\n",
       "      <td>undef</td>\n",
       "      <td>0.01</td>\n",
       "      <td>True</td>\n",
       "    </tr>\n",
       "  </tbody>\n",
       "</table>\n",
       "<p>16446 rows × 13 columns</p>\n",
       "</div>"
      ],
      "text/plain": [
       "                                name platform  year_of_release         genre  \\\n",
       "0                         wii sports      wii             2006        sports   \n",
       "1                  super mario bros.      nes             1985      platform   \n",
       "2                     mario kart wii      wii             2008        racing   \n",
       "3                  wii sports resort      wii             2009        sports   \n",
       "4           pokemon red/pokemon blue       gb             1996  role-playing   \n",
       "...                              ...      ...              ...           ...   \n",
       "16710  samurai warriors: sanada maru      ps3             2016        action   \n",
       "16711               lma manager 2007     x360             2006        sports   \n",
       "16712        haitaka no psychedelica      psv             2016     adventure   \n",
       "16713               spirits & spells      gba             2003      platform   \n",
       "16714            winning post 8 2016      psv             2016    simulation   \n",
       "\n",
       "       na_sales  eu_sales  jp_sales  other_sales  critic_score  user_score  \\\n",
       "0         41.36     28.96      3.77         8.45          76.0         8.0   \n",
       "1         29.08      3.58      6.81         0.77          -1.0        -1.0   \n",
       "2         15.68     12.76      3.79         3.29          82.0         8.3   \n",
       "3         15.61     10.93      3.28         2.95          80.0         8.0   \n",
       "4         11.27      8.89     10.22         1.00          -1.0        -1.0   \n",
       "...         ...       ...       ...          ...           ...         ...   \n",
       "16710      0.00      0.00      0.01         0.00          -1.0        -1.0   \n",
       "16711      0.00      0.01      0.00         0.00          -1.0        -1.0   \n",
       "16712      0.00      0.00      0.01         0.00          -1.0        -1.0   \n",
       "16713      0.01      0.00      0.00         0.00          -1.0        -1.0   \n",
       "16714      0.00      0.00      0.01         0.00          -1.0        -1.0   \n",
       "\n",
       "      rating  total_sales  rating_isna  \n",
       "0          e        82.54        False  \n",
       "1      undef        40.24         True  \n",
       "2          e        35.52        False  \n",
       "3          e        32.77        False  \n",
       "4      undef        31.38         True  \n",
       "...      ...          ...          ...  \n",
       "16710  undef         0.01         True  \n",
       "16711  undef         0.01         True  \n",
       "16712  undef         0.01         True  \n",
       "16713  undef         0.01         True  \n",
       "16714  undef         0.01         True  \n",
       "\n",
       "[16446 rows x 13 columns]"
      ]
     },
     "execution_count": 23,
     "metadata": {},
     "output_type": "execute_result"
    }
   ],
   "source": [
    "df['rating'] = df['rating'].fillna('undef')\n",
    "df"
   ]
  },
  {
   "cell_type": "markdown",
   "id": "c772b97d",
   "metadata": {},
   "source": [
    "***Выводы***\n",
    "\n",
    "В данном разделе мы привели к нижнему регистру названия столбцов, оценили количество пропусков в данных, убедились в отсутствии дубликатов. Заменили пропуски в столбцах с рейтингами пользвователей и критиков на значение \"-1\", а пропуски в столбце с возрастным рейтингом на столбец \"undef\" (undefined). Добавили столбец с суммарными продажами по всем трем регионам."
   ]
  },
  {
   "cell_type": "markdown",
   "id": "a9f6ca0a",
   "metadata": {},
   "source": [
    "## Исследовательский анализ данных"
   ]
  },
  {
   "cell_type": "markdown",
   "id": "2515d82d",
   "metadata": {},
   "source": [
    "### 1. Выпуск игр в разные годы"
   ]
  },
  {
   "cell_type": "markdown",
   "id": "1494b48f",
   "metadata": {},
   "source": [
    "Рассмотрим, как менялось количество выпускаемых игр со временем."
   ]
  },
  {
   "cell_type": "code",
   "execution_count": 24,
   "id": "edb3d42c",
   "metadata": {},
   "outputs": [
    {
     "data": {
      "text/html": [
       "<div>\n",
       "<style scoped>\n",
       "    .dataframe tbody tr th:only-of-type {\n",
       "        vertical-align: middle;\n",
       "    }\n",
       "\n",
       "    .dataframe tbody tr th {\n",
       "        vertical-align: top;\n",
       "    }\n",
       "\n",
       "    .dataframe thead th {\n",
       "        text-align: right;\n",
       "    }\n",
       "</style>\n",
       "<table border=\"1\" class=\"dataframe\">\n",
       "  <thead>\n",
       "    <tr style=\"text-align: right;\">\n",
       "      <th></th>\n",
       "      <th>name</th>\n",
       "    </tr>\n",
       "    <tr>\n",
       "      <th>year_of_release</th>\n",
       "      <th></th>\n",
       "    </tr>\n",
       "  </thead>\n",
       "  <tbody>\n",
       "    <tr>\n",
       "      <th>1980</th>\n",
       "      <td>9</td>\n",
       "    </tr>\n",
       "    <tr>\n",
       "      <th>1981</th>\n",
       "      <td>46</td>\n",
       "    </tr>\n",
       "    <tr>\n",
       "      <th>1982</th>\n",
       "      <td>36</td>\n",
       "    </tr>\n",
       "    <tr>\n",
       "      <th>1983</th>\n",
       "      <td>17</td>\n",
       "    </tr>\n",
       "    <tr>\n",
       "      <th>1984</th>\n",
       "      <td>14</td>\n",
       "    </tr>\n",
       "    <tr>\n",
       "      <th>1985</th>\n",
       "      <td>14</td>\n",
       "    </tr>\n",
       "    <tr>\n",
       "      <th>1986</th>\n",
       "      <td>21</td>\n",
       "    </tr>\n",
       "    <tr>\n",
       "      <th>1987</th>\n",
       "      <td>16</td>\n",
       "    </tr>\n",
       "    <tr>\n",
       "      <th>1988</th>\n",
       "      <td>15</td>\n",
       "    </tr>\n",
       "    <tr>\n",
       "      <th>1989</th>\n",
       "      <td>17</td>\n",
       "    </tr>\n",
       "    <tr>\n",
       "      <th>1990</th>\n",
       "      <td>16</td>\n",
       "    </tr>\n",
       "    <tr>\n",
       "      <th>1991</th>\n",
       "      <td>41</td>\n",
       "    </tr>\n",
       "    <tr>\n",
       "      <th>1992</th>\n",
       "      <td>43</td>\n",
       "    </tr>\n",
       "    <tr>\n",
       "      <th>1993</th>\n",
       "      <td>60</td>\n",
       "    </tr>\n",
       "    <tr>\n",
       "      <th>1994</th>\n",
       "      <td>121</td>\n",
       "    </tr>\n",
       "    <tr>\n",
       "      <th>1995</th>\n",
       "      <td>219</td>\n",
       "    </tr>\n",
       "    <tr>\n",
       "      <th>1996</th>\n",
       "      <td>263</td>\n",
       "    </tr>\n",
       "    <tr>\n",
       "      <th>1997</th>\n",
       "      <td>289</td>\n",
       "    </tr>\n",
       "    <tr>\n",
       "      <th>1998</th>\n",
       "      <td>379</td>\n",
       "    </tr>\n",
       "    <tr>\n",
       "      <th>1999</th>\n",
       "      <td>338</td>\n",
       "    </tr>\n",
       "    <tr>\n",
       "      <th>2000</th>\n",
       "      <td>350</td>\n",
       "    </tr>\n",
       "    <tr>\n",
       "      <th>2001</th>\n",
       "      <td>482</td>\n",
       "    </tr>\n",
       "    <tr>\n",
       "      <th>2002</th>\n",
       "      <td>829</td>\n",
       "    </tr>\n",
       "    <tr>\n",
       "      <th>2003</th>\n",
       "      <td>775</td>\n",
       "    </tr>\n",
       "    <tr>\n",
       "      <th>2004</th>\n",
       "      <td>762</td>\n",
       "    </tr>\n",
       "    <tr>\n",
       "      <th>2005</th>\n",
       "      <td>939</td>\n",
       "    </tr>\n",
       "    <tr>\n",
       "      <th>2006</th>\n",
       "      <td>1006</td>\n",
       "    </tr>\n",
       "    <tr>\n",
       "      <th>2007</th>\n",
       "      <td>1197</td>\n",
       "    </tr>\n",
       "    <tr>\n",
       "      <th>2008</th>\n",
       "      <td>1427</td>\n",
       "    </tr>\n",
       "    <tr>\n",
       "      <th>2009</th>\n",
       "      <td>1426</td>\n",
       "    </tr>\n",
       "    <tr>\n",
       "      <th>2010</th>\n",
       "      <td>1255</td>\n",
       "    </tr>\n",
       "    <tr>\n",
       "      <th>2011</th>\n",
       "      <td>1136</td>\n",
       "    </tr>\n",
       "    <tr>\n",
       "      <th>2012</th>\n",
       "      <td>653</td>\n",
       "    </tr>\n",
       "    <tr>\n",
       "      <th>2013</th>\n",
       "      <td>544</td>\n",
       "    </tr>\n",
       "    <tr>\n",
       "      <th>2014</th>\n",
       "      <td>581</td>\n",
       "    </tr>\n",
       "    <tr>\n",
       "      <th>2015</th>\n",
       "      <td>606</td>\n",
       "    </tr>\n",
       "    <tr>\n",
       "      <th>2016</th>\n",
       "      <td>502</td>\n",
       "    </tr>\n",
       "  </tbody>\n",
       "</table>\n",
       "</div>"
      ],
      "text/plain": [
       "                 name\n",
       "year_of_release      \n",
       "1980                9\n",
       "1981               46\n",
       "1982               36\n",
       "1983               17\n",
       "1984               14\n",
       "1985               14\n",
       "1986               21\n",
       "1987               16\n",
       "1988               15\n",
       "1989               17\n",
       "1990               16\n",
       "1991               41\n",
       "1992               43\n",
       "1993               60\n",
       "1994              121\n",
       "1995              219\n",
       "1996              263\n",
       "1997              289\n",
       "1998              379\n",
       "1999              338\n",
       "2000              350\n",
       "2001              482\n",
       "2002              829\n",
       "2003              775\n",
       "2004              762\n",
       "2005              939\n",
       "2006             1006\n",
       "2007             1197\n",
       "2008             1427\n",
       "2009             1426\n",
       "2010             1255\n",
       "2011             1136\n",
       "2012              653\n",
       "2013              544\n",
       "2014              581\n",
       "2015              606\n",
       "2016              502"
      ]
     },
     "execution_count": 24,
     "metadata": {},
     "output_type": "execute_result"
    }
   ],
   "source": [
    "release_years_pivot = df.pivot_table(index='year_of_release', values='name', aggfunc='count')\n",
    "release_years_pivot"
   ]
  },
  {
   "cell_type": "code",
   "execution_count": 25,
   "id": "afe536cd",
   "metadata": {},
   "outputs": [
    {
     "data": {
      "text/plain": [
       "Text(0.5, 1.0, 'Количество выпускаемых игр по годам')"
      ]
     },
     "execution_count": 25,
     "metadata": {},
     "output_type": "execute_result"
    },
    {
     "data": {
      "image/png": "[encoded data removed]",
      "text/plain": [
       "<Figure size 432x288 with 1 Axes>"
      ]
     },
     "metadata": {
      "needs_background": "light"
     },
     "output_type": "display_data"
    }
   ],
   "source": [
    "release_years_pivot.plot(y='name', kind='bar').set_title('Количество выпускаемых игр по годам')\n",
    "                    "
   ]
  },
  {
   "cell_type": "markdown",
   "id": "5df88c5e",
   "metadata": {},
   "source": [
    "На графике четко прослеживаются четыре периода, приблизительно совпадающие с границами десятилетий:\n",
    "\n",
    "- появление первых игр в 1980 и 1981 годах, затем долгое плато вплоть до 1991 года. Такой длинный застой может объясняться малыми мощностями компьютеров и сравнительно небольшим количеством самих компьютеров. В этот период мало казуальных игр, скорее они предназначены для узкой и довольно специфической аудитории. \n",
    "\n",
    "- 1992-2000 - с распространением ПК растет и производство компьютерных игр, расширяется аудитория.\n",
    "\n",
    "- 2001 - 2010 - появление видеоускорителей позволяет создавать игры со все более реалистичной графикой; бум на рынке компьютерных игр.\n",
    "\n",
    "- Спад после 2011 - с достижением предельной реалистичности заканчиваются прорывы в области компьютерной графики. Начинается резкий спад, продолжающийся вплоть до 2016 года. Возможно, спад связан еще с тем, что в датасете не представлены игры для мобильных платформ. Проверим это предположение."
   ]
  },
  {
   "cell_type": "code",
   "execution_count": 26,
   "id": "56c9bf0d",
   "metadata": {
    "scrolled": true
   },
   "outputs": [
    {
     "data": {
      "text/plain": [
       "array(['wii', 'nes', 'gb', 'ds', 'x360', 'ps3', 'ps2', 'snes', 'gba',\n",
       "       'ps4', '3ds', 'n64', 'ps', 'xb', 'pc', '2600', 'psp', 'xone',\n",
       "       'wiiu', 'gc', 'gen', 'dc', 'psv', 'sat', 'scd', 'ws', 'ng', 'tg16',\n",
       "       '3do', 'gg', 'pcfx'], dtype=object)"
      ]
     },
     "execution_count": 26,
     "metadata": {},
     "output_type": "execute_result"
    }
   ],
   "source": [
    "df['platform'].unique()"
   ]
  },
  {
   "cell_type": "markdown",
   "id": "ba6bc603",
   "metadata": {},
   "source": [
    "Действительно, в списке платформ отсутствуют android и iphone, значит в датасете нет мобильных платформ, на которые начался массовый переход после 2010 г. Значит, мы видим на графике, как мобильные платформы откусили часть рынка после 2010 года."
   ]
  },
  {
   "cell_type": "markdown",
   "id": "3ceae93e",
   "metadata": {},
   "source": [
    "### 2. Динамика продаж по платформам"
   ]
  },
  {
   "cell_type": "markdown",
   "id": "626bb04d",
   "metadata": {},
   "source": [
    "Для начала определим самые популярные платформы (выпустившие суммарно больше всего игр)."
   ]
  },
  {
   "cell_type": "code",
   "execution_count": 27,
   "id": "22ec5777",
   "metadata": {
    "scrolled": false
   },
   "outputs": [
    {
     "data": {
      "text/html": [
       "<div>\n",
       "<style scoped>\n",
       "    .dataframe tbody tr th:only-of-type {\n",
       "        vertical-align: middle;\n",
       "    }\n",
       "\n",
       "    .dataframe tbody tr th {\n",
       "        vertical-align: top;\n",
       "    }\n",
       "\n",
       "    .dataframe thead th {\n",
       "        text-align: right;\n",
       "    }\n",
       "</style>\n",
       "<table border=\"1\" class=\"dataframe\">\n",
       "  <thead>\n",
       "    <tr style=\"text-align: right;\">\n",
       "      <th></th>\n",
       "      <th>platform</th>\n",
       "      <th>total_sales</th>\n",
       "    </tr>\n",
       "  </thead>\n",
       "  <tbody>\n",
       "    <tr>\n",
       "      <th>0</th>\n",
       "      <td>ps2</td>\n",
       "      <td>1233.56</td>\n",
       "    </tr>\n",
       "    <tr>\n",
       "      <th>1</th>\n",
       "      <td>x360</td>\n",
       "      <td>961.24</td>\n",
       "    </tr>\n",
       "    <tr>\n",
       "      <th>2</th>\n",
       "      <td>ps3</td>\n",
       "      <td>931.34</td>\n",
       "    </tr>\n",
       "    <tr>\n",
       "      <th>3</th>\n",
       "      <td>wii</td>\n",
       "      <td>891.18</td>\n",
       "    </tr>\n",
       "    <tr>\n",
       "      <th>4</th>\n",
       "      <td>ds</td>\n",
       "      <td>802.78</td>\n",
       "    </tr>\n",
       "  </tbody>\n",
       "</table>\n",
       "</div>"
      ],
      "text/plain": [
       "  platform  total_sales\n",
       "0      ps2      1233.56\n",
       "1     x360       961.24\n",
       "2      ps3       931.34\n",
       "3      wii       891.18\n",
       "4       ds       802.78"
      ]
     },
     "execution_count": 27,
     "metadata": {},
     "output_type": "execute_result"
    }
   ],
   "source": [
    "sales_platforms =  df.groupby(['platform'])\\\n",
    "                                .agg({'total_sales' : 'sum'})\\\n",
    "                                .sort_values(['total_sales'], ascending=False)\\\n",
    "                                .reset_index()\n",
    "top_sales_platforms = sales_platforms.head(5)\n",
    "top_sales_platforms"
   ]
  },
  {
   "cell_type": "code",
   "execution_count": 28,
   "id": "b3b3fe18",
   "metadata": {},
   "outputs": [
    {
     "data": {
      "text/plain": [
       "['ps2', 'x360', 'ps3', 'wii', 'ds']"
      ]
     },
     "execution_count": 28,
     "metadata": {},
     "output_type": "execute_result"
    }
   ],
   "source": [
    "top_platforms = list(top_sales_platforms['platform'])\n",
    "top_platforms"
   ]
  },
  {
   "cell_type": "markdown",
   "id": "edf698a4",
   "metadata": {},
   "source": [
    "Посмотрим как менялись продажи по платформам с течением лет. Для этого сгруппируем данные по годам и платформам с помощью `pivot_table`:"
   ]
  },
  {
   "cell_type": "code",
   "execution_count": 29,
   "id": "4fa9f973",
   "metadata": {
    "scrolled": true
   },
   "outputs": [
    {
     "data": {
      "text/plain": [
       "Text(0.5, 1.0, 'Проданные копии (млн.)')"
      ]
     },
     "execution_count": 29,
     "metadata": {},
     "output_type": "execute_result"
    },
    {
     "data": {
      "image/png": "[encoded data removed]",
      "text/plain": [
       "<Figure size 360x360 with 1 Axes>"
      ]
     },
     "metadata": {
      "needs_background": "light"
     },
     "output_type": "display_data"
    }
   ],
   "source": [
    "platform_sales_dynamic = df[df['platform'].isin(top_platforms)].pivot_table(values='total_sales', index='year_of_release', columns='platform', aggfunc='sum')\n",
    "platform_sales_dynamic.plot(figsize=(5, 5)).set_title('Проданные копии (млн.)')"
   ]
  },
  {
   "cell_type": "markdown",
   "id": "51cee647",
   "metadata": {},
   "source": [
    "Возьмем данные после 2000 года:"
   ]
  },
  {
   "cell_type": "code",
   "execution_count": 30,
   "id": "d8421432",
   "metadata": {},
   "outputs": [
    {
     "data": {
      "text/plain": [
       "Text(0.5, 1.0, 'Проданные копии (млн.)')"
      ]
     },
     "execution_count": 30,
     "metadata": {},
     "output_type": "execute_result"
    },
    {
     "data": {
      "image/png": "[encoded data removed]",
      "text/plain": [
       "<Figure size 360x360 with 1 Axes>"
      ]
     },
     "metadata": {
      "needs_background": "light"
     },
     "output_type": "display_data"
    }
   ],
   "source": [
    "fresh_sales = df.query('year_of_release >= 2000')\n",
    "platform_sales_dynamic = fresh_sales[fresh_sales['platform'].isin(top_platforms)].pivot_table(values='total_sales', index='year_of_release', columns='platform', aggfunc='sum')\n",
    "platform_sales_dynamic.plot(figsize=(5, 5)).set_title('Проданные копии (млн.)')"
   ]
  },
  {
   "cell_type": "markdown",
   "id": "97d6ecf3",
   "metadata": {},
   "source": [
    "На графике видно, что популярные платформы \"живут\" приблизительно 10 лет. При этом для достижения пика популярности им требуется от двух до пяти лет, после чего начинается спад."
   ]
  },
  {
   "cell_type": "markdown",
   "id": "a596c03a",
   "metadata": {},
   "source": [
    "### 3. Данные за актуальный период"
   ]
  },
  {
   "cell_type": "markdown",
   "id": "3bc4bdff",
   "metadata": {},
   "source": [
    "Так как рынок компьютерных игр развивается скачкообразно, для прогноза нам нужные актуальные данные. Для анализа возьмем 2014-2016 года (не забываем, что данные за 2016 год могут быть неполными)."
   ]
  },
  {
   "cell_type": "code",
   "execution_count": 31,
   "id": "511e243e",
   "metadata": {},
   "outputs": [
    {
     "data": {
      "text/plain": [
       "Text(0.5, 1.0, 'Суммарные продажи по всем платформам')"
      ]
     },
     "execution_count": 31,
     "metadata": {},
     "output_type": "execute_result"
    },
    {
     "data": {
      "image/png": "[encoded data removed]",
      "text/plain": [
       "<Figure size 1080x720 with 1 Axes>"
      ]
     },
     "metadata": {},
     "output_type": "display_data"
    }
   ],
   "source": [
    "# делаем срез по годам больше 2014\n",
    "recent_sales = df.query('year_of_release >= 2014')\n",
    "recent_sales_pivot = recent_sales.pivot_table(index=['year_of_release', 'platform'], values='total_sales', aggfunc='sum')\n",
    "\n",
    "# строим график по всем платформам\n",
    "sns.set(rc={'figure.figsize':(15,10)})\n",
    "sns.lineplot(data=recent_sales_pivot, x='year_of_release', y='total_sales', hue='platform').set_title('Суммарные продажи по всем платформам')"
   ]
  },
  {
   "cell_type": "markdown",
   "id": "9f0743f9",
   "metadata": {},
   "source": [
    "Мы видим, что самые высокие продажи у X-One, ps-4 и 3ds, но в целом все продажи падают. Посмотрим на количество выпускаемых игр."
   ]
  },
  {
   "cell_type": "code",
   "execution_count": 32,
   "id": "c8cee303",
   "metadata": {
    "scrolled": false
   },
   "outputs": [
    {
     "data": {
      "text/plain": [
       "Text(0.5, 1.0, 'Кол-во выпускаемых игр (млн.копий) по всем платформам')"
      ]
     },
     "execution_count": 32,
     "metadata": {},
     "output_type": "execute_result"
    },
    {
     "data": {
      "image/png": "[encoded data removed]",
      "text/plain": [
       "<Figure size 1080x720 with 1 Axes>"
      ]
     },
     "metadata": {},
     "output_type": "display_data"
    }
   ],
   "source": [
    "recent_sales_pivot = recent_sales.pivot_table(index=['year_of_release', 'platform'], values='name', aggfunc='count')\n",
    "sns.set(rc={'figure.figsize':(15,10)})\n",
    "sns.lineplot(data=recent_sales_pivot, x='year_of_release', y='name', hue='platform').set_title('Кол-во выпускаемых игр (млн.копий) по всем платформам')"
   ]
  },
  {
   "cell_type": "markdown",
   "id": "6ea07186",
   "metadata": {},
   "source": [
    "X-One и ps4 наращивают количество выпускаемых игр, последняя особенно. Также растет количество выпускаемых игр для PC."
   ]
  },
  {
   "cell_type": "markdown",
   "id": "da6c4ed8",
   "metadata": {},
   "source": [
    "### 4. Boxplot по глобальным продажам"
   ]
  },
  {
   "cell_type": "markdown",
   "id": "6387375d",
   "metadata": {},
   "source": [
    "Для дальнейшего анализа будем брать данные только за актуальный период, с 2014 по 2016 гг. Для этого создадим новый датафрейм."
   ]
  },
  {
   "cell_type": "code",
   "execution_count": 33,
   "id": "fdbea5d8",
   "metadata": {},
   "outputs": [
    {
     "data": {
      "text/html": [
       "<div>\n",
       "<style scoped>\n",
       "    .dataframe tbody tr th:only-of-type {\n",
       "        vertical-align: middle;\n",
       "    }\n",
       "\n",
       "    .dataframe tbody tr th {\n",
       "        vertical-align: top;\n",
       "    }\n",
       "\n",
       "    .dataframe thead th {\n",
       "        text-align: right;\n",
       "    }\n",
       "</style>\n",
       "<table border=\"1\" class=\"dataframe\">\n",
       "  <thead>\n",
       "    <tr style=\"text-align: right;\">\n",
       "      <th></th>\n",
       "      <th>name</th>\n",
       "      <th>platform</th>\n",
       "      <th>year_of_release</th>\n",
       "      <th>genre</th>\n",
       "      <th>na_sales</th>\n",
       "      <th>eu_sales</th>\n",
       "      <th>jp_sales</th>\n",
       "      <th>other_sales</th>\n",
       "      <th>critic_score</th>\n",
       "      <th>user_score</th>\n",
       "      <th>rating</th>\n",
       "      <th>total_sales</th>\n",
       "      <th>rating_isna</th>\n",
       "    </tr>\n",
       "  </thead>\n",
       "  <tbody>\n",
       "    <tr>\n",
       "      <th>31</th>\n",
       "      <td>call of duty: black ops 3</td>\n",
       "      <td>ps4</td>\n",
       "      <td>2015</td>\n",
       "      <td>shooter</td>\n",
       "      <td>6.03</td>\n",
       "      <td>5.86</td>\n",
       "      <td>0.36</td>\n",
       "      <td>2.38</td>\n",
       "      <td>-1.0</td>\n",
       "      <td>-1.0</td>\n",
       "      <td>undef</td>\n",
       "      <td>14.63</td>\n",
       "      <td>True</td>\n",
       "    </tr>\n",
       "    <tr>\n",
       "      <th>42</th>\n",
       "      <td>grand theft auto v</td>\n",
       "      <td>ps4</td>\n",
       "      <td>2014</td>\n",
       "      <td>action</td>\n",
       "      <td>3.96</td>\n",
       "      <td>6.31</td>\n",
       "      <td>0.38</td>\n",
       "      <td>1.97</td>\n",
       "      <td>97.0</td>\n",
       "      <td>8.3</td>\n",
       "      <td>m</td>\n",
       "      <td>12.62</td>\n",
       "      <td>False</td>\n",
       "    </tr>\n",
       "    <tr>\n",
       "      <th>47</th>\n",
       "      <td>pokemon omega ruby/pokemon alpha sapphire</td>\n",
       "      <td>3ds</td>\n",
       "      <td>2014</td>\n",
       "      <td>role-playing</td>\n",
       "      <td>4.35</td>\n",
       "      <td>3.49</td>\n",
       "      <td>3.10</td>\n",
       "      <td>0.74</td>\n",
       "      <td>-1.0</td>\n",
       "      <td>-1.0</td>\n",
       "      <td>undef</td>\n",
       "      <td>11.68</td>\n",
       "      <td>True</td>\n",
       "    </tr>\n",
       "    <tr>\n",
       "      <th>77</th>\n",
       "      <td>fifa 16</td>\n",
       "      <td>ps4</td>\n",
       "      <td>2015</td>\n",
       "      <td>sports</td>\n",
       "      <td>1.12</td>\n",
       "      <td>6.12</td>\n",
       "      <td>0.06</td>\n",
       "      <td>1.28</td>\n",
       "      <td>82.0</td>\n",
       "      <td>4.3</td>\n",
       "      <td>e</td>\n",
       "      <td>8.58</td>\n",
       "      <td>False</td>\n",
       "    </tr>\n",
       "    <tr>\n",
       "      <th>87</th>\n",
       "      <td>star wars battlefront (2015)</td>\n",
       "      <td>ps4</td>\n",
       "      <td>2015</td>\n",
       "      <td>shooter</td>\n",
       "      <td>2.99</td>\n",
       "      <td>3.49</td>\n",
       "      <td>0.22</td>\n",
       "      <td>1.28</td>\n",
       "      <td>-1.0</td>\n",
       "      <td>-1.0</td>\n",
       "      <td>undef</td>\n",
       "      <td>7.98</td>\n",
       "      <td>True</td>\n",
       "    </tr>\n",
       "    <tr>\n",
       "      <th>...</th>\n",
       "      <td>...</td>\n",
       "      <td>...</td>\n",
       "      <td>...</td>\n",
       "      <td>...</td>\n",
       "      <td>...</td>\n",
       "      <td>...</td>\n",
       "      <td>...</td>\n",
       "      <td>...</td>\n",
       "      <td>...</td>\n",
       "      <td>...</td>\n",
       "      <td>...</td>\n",
       "      <td>...</td>\n",
       "      <td>...</td>\n",
       "    </tr>\n",
       "    <tr>\n",
       "      <th>16703</th>\n",
       "      <td>strawberry nauts</td>\n",
       "      <td>psv</td>\n",
       "      <td>2016</td>\n",
       "      <td>adventure</td>\n",
       "      <td>0.00</td>\n",
       "      <td>0.00</td>\n",
       "      <td>0.01</td>\n",
       "      <td>0.00</td>\n",
       "      <td>-1.0</td>\n",
       "      <td>-1.0</td>\n",
       "      <td>undef</td>\n",
       "      <td>0.01</td>\n",
       "      <td>True</td>\n",
       "    </tr>\n",
       "    <tr>\n",
       "      <th>16707</th>\n",
       "      <td>aiyoku no eustia</td>\n",
       "      <td>psv</td>\n",
       "      <td>2014</td>\n",
       "      <td>misc</td>\n",
       "      <td>0.00</td>\n",
       "      <td>0.00</td>\n",
       "      <td>0.01</td>\n",
       "      <td>0.00</td>\n",
       "      <td>-1.0</td>\n",
       "      <td>-1.0</td>\n",
       "      <td>undef</td>\n",
       "      <td>0.01</td>\n",
       "      <td>True</td>\n",
       "    </tr>\n",
       "    <tr>\n",
       "      <th>16710</th>\n",
       "      <td>samurai warriors: sanada maru</td>\n",
       "      <td>ps3</td>\n",
       "      <td>2016</td>\n",
       "      <td>action</td>\n",
       "      <td>0.00</td>\n",
       "      <td>0.00</td>\n",
       "      <td>0.01</td>\n",
       "      <td>0.00</td>\n",
       "      <td>-1.0</td>\n",
       "      <td>-1.0</td>\n",
       "      <td>undef</td>\n",
       "      <td>0.01</td>\n",
       "      <td>True</td>\n",
       "    </tr>\n",
       "    <tr>\n",
       "      <th>16712</th>\n",
       "      <td>haitaka no psychedelica</td>\n",
       "      <td>psv</td>\n",
       "      <td>2016</td>\n",
       "      <td>adventure</td>\n",
       "      <td>0.00</td>\n",
       "      <td>0.00</td>\n",
       "      <td>0.01</td>\n",
       "      <td>0.00</td>\n",
       "      <td>-1.0</td>\n",
       "      <td>-1.0</td>\n",
       "      <td>undef</td>\n",
       "      <td>0.01</td>\n",
       "      <td>True</td>\n",
       "    </tr>\n",
       "    <tr>\n",
       "      <th>16714</th>\n",
       "      <td>winning post 8 2016</td>\n",
       "      <td>psv</td>\n",
       "      <td>2016</td>\n",
       "      <td>simulation</td>\n",
       "      <td>0.00</td>\n",
       "      <td>0.00</td>\n",
       "      <td>0.01</td>\n",
       "      <td>0.00</td>\n",
       "      <td>-1.0</td>\n",
       "      <td>-1.0</td>\n",
       "      <td>undef</td>\n",
       "      <td>0.01</td>\n",
       "      <td>True</td>\n",
       "    </tr>\n",
       "  </tbody>\n",
       "</table>\n",
       "<p>1689 rows × 13 columns</p>\n",
       "</div>"
      ],
      "text/plain": [
       "                                            name platform  year_of_release  \\\n",
       "31                     call of duty: black ops 3      ps4             2015   \n",
       "42                            grand theft auto v      ps4             2014   \n",
       "47     pokemon omega ruby/pokemon alpha sapphire      3ds             2014   \n",
       "77                                       fifa 16      ps4             2015   \n",
       "87                  star wars battlefront (2015)      ps4             2015   \n",
       "...                                          ...      ...              ...   \n",
       "16703                           strawberry nauts      psv             2016   \n",
       "16707                           aiyoku no eustia      psv             2014   \n",
       "16710              samurai warriors: sanada maru      ps3             2016   \n",
       "16712                    haitaka no psychedelica      psv             2016   \n",
       "16714                        winning post 8 2016      psv             2016   \n",
       "\n",
       "              genre  na_sales  eu_sales  jp_sales  other_sales  critic_score  \\\n",
       "31          shooter      6.03      5.86      0.36         2.38          -1.0   \n",
       "42           action      3.96      6.31      0.38         1.97          97.0   \n",
       "47     role-playing      4.35      3.49      3.10         0.74          -1.0   \n",
       "77           sports      1.12      6.12      0.06         1.28          82.0   \n",
       "87          shooter      2.99      3.49      0.22         1.28          -1.0   \n",
       "...             ...       ...       ...       ...          ...           ...   \n",
       "16703     adventure      0.00      0.00      0.01         0.00          -1.0   \n",
       "16707          misc      0.00      0.00      0.01         0.00          -1.0   \n",
       "16710        action      0.00      0.00      0.01         0.00          -1.0   \n",
       "16712     adventure      0.00      0.00      0.01         0.00          -1.0   \n",
       "16714    simulation      0.00      0.00      0.01         0.00          -1.0   \n",
       "\n",
       "       user_score rating  total_sales  rating_isna  \n",
       "31           -1.0  undef        14.63         True  \n",
       "42            8.3      m        12.62        False  \n",
       "47           -1.0  undef        11.68         True  \n",
       "77            4.3      e         8.58        False  \n",
       "87           -1.0  undef         7.98         True  \n",
       "...           ...    ...          ...          ...  \n",
       "16703        -1.0  undef         0.01         True  \n",
       "16707        -1.0  undef         0.01         True  \n",
       "16710        -1.0  undef         0.01         True  \n",
       "16712        -1.0  undef         0.01         True  \n",
       "16714        -1.0  undef         0.01         True  \n",
       "\n",
       "[1689 rows x 13 columns]"
      ]
     },
     "execution_count": 33,
     "metadata": {},
     "output_type": "execute_result"
    }
   ],
   "source": [
    "df_2 = df.query('year_of_release >= 2014')\n",
    "df_2"
   ]
  },
  {
   "cell_type": "markdown",
   "id": "4c3a7d0f",
   "metadata": {},
   "source": [
    "Сначала построим \"ящик с усами\" по глобальным продажам:"
   ]
  },
  {
   "cell_type": "code",
   "execution_count": 34,
   "id": "d18ecd15",
   "metadata": {
    "scrolled": false
   },
   "outputs": [
    {
     "data": {
      "image/png": "[encoded data removed]",
      "text/plain": [
       "<Figure size 576x576 with 1 Axes>"
      ]
     },
     "metadata": {},
     "output_type": "display_data"
    }
   ],
   "source": [
    "plot = df_2.boxplot('total_sales', figsize=(8, 8)).set_ylim(0, 2.5)"
   ]
  },
  {
   "cell_type": "code",
   "execution_count": 35,
   "id": "3218fa01",
   "metadata": {},
   "outputs": [
    {
     "data": {
      "text/plain": [
       "count    1689.000000\n",
       "mean        0.431883\n",
       "std         1.056109\n",
       "min         0.010000\n",
       "25%         0.030000\n",
       "50%         0.100000\n",
       "75%         0.350000\n",
       "max        14.630000\n",
       "Name: total_sales, dtype: float64"
      ]
     },
     "execution_count": 35,
     "metadata": {},
     "output_type": "execute_result"
    }
   ],
   "source": [
    "df_2['total_sales'].describe()"
   ]
  },
  {
   "cell_type": "markdown",
   "id": "6d55a131",
   "metadata": {},
   "source": [
    "В описании данных мы видим, что среднее значительно превышает медиану, что указывает на большое количество выбросов. Их хорошо видно на графике. Нижний \"ус\" упирается в ноль - далеко не все игры приносят прибыль. Зато крупные платформы регулярно устраивают выбросы, выпуская игры ААА-класса (высокобюджетные игры, рассчитанные на массовую аудиторию и требующие больших затрат как на саму разработку, так и на рекламную компанию к моменту ее выхода).\n",
    "\n",
    "Посмотрим, все ли платформы могут \"похвастаться\" такими выбросами."
   ]
  },
  {
   "cell_type": "code",
   "execution_count": 36,
   "id": "0d56dc64",
   "metadata": {},
   "outputs": [
    {
     "data": {
      "text/plain": [
       "Text(0.5, 1.0, 'Суммарные продажи по платформам в 2014-2016 гг.')"
      ]
     },
     "execution_count": 36,
     "metadata": {},
     "output_type": "execute_result"
    },
    {
     "data": {
      "image/png": "[encoded data removed]",
      "text/plain": [
       "<Figure size 1080x720 with 1 Axes>"
      ]
     },
     "metadata": {},
     "output_type": "display_data"
    }
   ],
   "source": [
    "sns.set(rc={'figure.figsize':(15,10)})\n",
    "sns.boxplot(x=df_2['total_sales'], y=df_2['platform']).set_xlim(0, 5)\n",
    "plt.title('Суммарные продажи по платформам в 2014-2016 гг.')"
   ]
  },
  {
   "cell_type": "markdown",
   "id": "39548e20",
   "metadata": {},
   "source": [
    "Действительно, у крупных платформ (ps4, 3ds, X-One) периодически выходят игры, приносящие прибыль, намного превосходящую медианные значения."
   ]
  },
  {
   "cell_type": "markdown",
   "id": "3be2e036",
   "metadata": {},
   "source": [
    "Для более наглядного представления, ограничим ось Х двумя миллионами копий."
   ]
  },
  {
   "cell_type": "code",
   "execution_count": 37,
   "id": "f332fd41",
   "metadata": {},
   "outputs": [
    {
     "data": {
      "text/plain": [
       "Text(0.5, 1.0, 'Суммарные продажи по платформам в 2014-2016 гг.')"
      ]
     },
     "execution_count": 37,
     "metadata": {},
     "output_type": "execute_result"
    },
    {
     "data": {
      "image/png": "[encoded data removed]",
      "text/plain": [
       "<Figure size 1080x720 with 1 Axes>"
      ]
     },
     "metadata": {},
     "output_type": "display_data"
    }
   ],
   "source": [
    "sns.set(rc={'figure.figsize':(15,10)})\n",
    "sns.boxplot(x=df_2['total_sales'], y=df_2['platform']).set_xlim(0, 2)\n",
    "plt.title('Суммарные продажи по платформам в 2014-2016 гг.')"
   ]
  },
  {
   "cell_type": "markdown",
   "id": "38181883",
   "metadata": {},
   "source": [
    "Мы видим, что у крупных платформ медианное значение количества проданных копий не превышает 250 000. Верхний квартиль для лидеров рынка (ps4, wii, x-one и wiiu) не превышает 750 000."
   ]
  },
  {
   "cell_type": "markdown",
   "id": "2ef1d96c",
   "metadata": {},
   "source": [
    "### 5. Влияние отзывов"
   ]
  },
  {
   "cell_type": "markdown",
   "id": "fe6be9c3",
   "metadata": {},
   "source": [
    "Определим самую популярную платформу по количеству выпущенных игр."
   ]
  },
  {
   "cell_type": "code",
   "execution_count": 38,
   "id": "d217dd77",
   "metadata": {},
   "outputs": [
    {
     "data": {
      "text/html": [
       "<div>\n",
       "<style scoped>\n",
       "    .dataframe tbody tr th:only-of-type {\n",
       "        vertical-align: middle;\n",
       "    }\n",
       "\n",
       "    .dataframe tbody tr th {\n",
       "        vertical-align: top;\n",
       "    }\n",
       "\n",
       "    .dataframe thead th {\n",
       "        text-align: right;\n",
       "    }\n",
       "</style>\n",
       "<table border=\"1\" class=\"dataframe\">\n",
       "  <thead>\n",
       "    <tr style=\"text-align: right;\">\n",
       "      <th></th>\n",
       "      <th>platform</th>\n",
       "      <th>name</th>\n",
       "    </tr>\n",
       "  </thead>\n",
       "  <tbody>\n",
       "    <tr>\n",
       "      <th>3</th>\n",
       "      <td>ps4</td>\n",
       "      <td>376</td>\n",
       "    </tr>\n",
       "    <tr>\n",
       "      <th>5</th>\n",
       "      <td>psv</td>\n",
       "      <td>295</td>\n",
       "    </tr>\n",
       "    <tr>\n",
       "      <th>9</th>\n",
       "      <td>xone</td>\n",
       "      <td>228</td>\n",
       "    </tr>\n",
       "    <tr>\n",
       "      <th>2</th>\n",
       "      <td>ps3</td>\n",
       "      <td>219</td>\n",
       "    </tr>\n",
       "    <tr>\n",
       "      <th>0</th>\n",
       "      <td>3ds</td>\n",
       "      <td>212</td>\n",
       "    </tr>\n",
       "  </tbody>\n",
       "</table>\n",
       "</div>"
      ],
      "text/plain": [
       "  platform  name\n",
       "3      ps4   376\n",
       "5      psv   295\n",
       "9     xone   228\n",
       "2      ps3   219\n",
       "0      3ds   212"
      ]
     },
     "execution_count": 38,
     "metadata": {},
     "output_type": "execute_result"
    }
   ],
   "source": [
    "# сгруппируем данные по количеству выпущенных игр на платформе \n",
    "most_popular_platform = df_2.groupby('platform').agg({'name':'count'}).reset_index()\n",
    "most_popular_platform.sort_values(by='name', ascending=False).head()"
   ]
  },
  {
   "cell_type": "code",
   "execution_count": 39,
   "id": "9e267a83",
   "metadata": {},
   "outputs": [],
   "source": [
    "# отфильтруем отсутствующие данные\n",
    "top_platform_critic = df_2[df_2['critic_score'] != -1]"
   ]
  },
  {
   "cell_type": "code",
   "execution_count": 40,
   "id": "a7e5bc40",
   "metadata": {
    "scrolled": false
   },
   "outputs": [
    {
     "name": "stderr",
     "output_type": "stream",
     "text": [
      "*c* argument looks like a single numeric RGB or RGBA sequence, which should be avoided as value-mapping will have precedence in case its length matches with *x* & *y*.  Please use the *color* keyword-argument or provide a 2D array with a single row if you intend to specify the same RGB or RGBA value for all points.\n"
     ]
    },
    {
     "data": {
      "text/plain": [
       "<AxesSubplot:xlabel='critic_score', ylabel='total_sales'>"
      ]
     },
     "execution_count": 40,
     "metadata": {},
     "output_type": "execute_result"
    },
    {
     "data": {
      "image/png": "[encoded data removed]",
      "text/plain": [
       "<Figure size 1080x720 with 1 Axes>"
      ]
     },
     "metadata": {},
     "output_type": "display_data"
    }
   ],
   "source": [
    "# посмотрим корреляцию между отзывами критиков и продажами для ps4\n",
    "ps4_critic = top_platform_critic[top_platform_critic['platform'] == 'ps4']\n",
    "ps4_critic.plot(x='critic_score', y='total_sales', kind='scatter')"
   ]
  },
  {
   "cell_type": "markdown",
   "id": "c0fb13a2",
   "metadata": {},
   "source": [
    "Корреляция присутствует: чем выше отзывы критиков, тем больше продажи."
   ]
  },
  {
   "cell_type": "code",
   "execution_count": 42,
   "id": "bad07c5f",
   "metadata": {},
   "outputs": [
    {
     "data": {
      "text/plain": [
       "0.40266141068104083"
      ]
     },
     "execution_count": 42,
     "metadata": {},
     "output_type": "execute_result"
    }
   ],
   "source": [
    "ps4_critic['critic_score'].corr(ps4_critic['total_sales'])"
   ]
  },
  {
   "cell_type": "markdown",
   "id": "390b3efa",
   "metadata": {},
   "source": [
    "Мы видим небольшую корреляцию между отзывами критиков и продажами."
   ]
  },
  {
   "cell_type": "code",
   "execution_count": 43,
   "id": "5f75a904",
   "metadata": {
    "scrolled": false
   },
   "outputs": [
    {
     "name": "stderr",
     "output_type": "stream",
     "text": [
      "*c* argument looks like a single numeric RGB or RGBA sequence, which should be avoided as value-mapping will have precedence in case its length matches with *x* & *y*.  Please use the *color* keyword-argument or provide a 2D array with a single row if you intend to specify the same RGB or RGBA value for all points.\n"
     ]
    },
    {
     "data": {
      "text/plain": [
       "<AxesSubplot:xlabel='user_score', ylabel='total_sales'>"
      ]
     },
     "execution_count": 43,
     "metadata": {},
     "output_type": "execute_result"
    },
    {
     "data": {
      "image/png": "[encoded data removed]",
      "text/plain": [
       "<Figure size 1080x720 with 1 Axes>"
      ]
     },
     "metadata": {},
     "output_type": "display_data"
    }
   ],
   "source": [
    "# посмотрим корреляцию между отзывами пользователей и продажами для ps4\n",
    "top_platform_user = df_2[df_2['user_score'] != -1]\n",
    "ps4_user = top_platform_user[top_platform_user['platform'] == 'ps4']\n",
    "ps4_user.plot(x='user_score', y='total_sales', kind='scatter')"
   ]
  },
  {
   "cell_type": "code",
   "execution_count": 44,
   "id": "8433e997",
   "metadata": {
    "scrolled": true
   },
   "outputs": [
    {
     "data": {
      "text/plain": [
       "-0.040131589472697356"
      ]
     },
     "execution_count": 44,
     "metadata": {},
     "output_type": "execute_result"
    }
   ],
   "source": [
    "ps4_user['total_sales'].corr(ps4_user['user_score'])"
   ]
  },
  {
   "cell_type": "markdown",
   "id": "7513f27d",
   "metadata": {},
   "source": [
    "Если отзывы критиков в случае с платформой ps4 коррелируют с продажами, то между отзывами пользователей и продажами корреляции почти нет.\n",
    "\n",
    "Посмотрим на корреляции между отзывами и продажами для платформ psv и X-One, которые наращивают количество выпускаемых игр, а также для PC."
   ]
  },
  {
   "cell_type": "markdown",
   "id": "4c548344",
   "metadata": {},
   "source": [
    "***psv***"
   ]
  },
  {
   "cell_type": "code",
   "execution_count": 45,
   "id": "6cd9ac37",
   "metadata": {},
   "outputs": [
    {
     "data": {
      "text/plain": [
       "0.04266490657009526"
      ]
     },
     "execution_count": 45,
     "metadata": {},
     "output_type": "execute_result"
    }
   ],
   "source": [
    "psv_critic = top_platform_critic[top_platform_critic['platform'] == 'psv']\n",
    "psv_critic['critic_score'].corr(psv_critic['total_sales'])"
   ]
  },
  {
   "cell_type": "code",
   "execution_count": 46,
   "id": "32fb0f51",
   "metadata": {},
   "outputs": [
    {
     "data": {
      "text/plain": [
       "-0.16845504978064446"
      ]
     },
     "execution_count": 46,
     "metadata": {},
     "output_type": "execute_result"
    }
   ],
   "source": [
    "psv_user = top_platform_user[top_platform_user['platform'] == 'psv']\n",
    "psv_user['user_score'].corr(psv_user['total_sales'])"
   ]
  },
  {
   "cell_type": "markdown",
   "id": "1afc5550",
   "metadata": {},
   "source": [
    "Корреляция между отзывами критиков и пользователей и продажами для платформы psv отсутствует."
   ]
  },
  {
   "cell_type": "markdown",
   "id": "ffa82a8b",
   "metadata": {},
   "source": [
    "***X-One***"
   ]
  },
  {
   "cell_type": "code",
   "execution_count": 47,
   "id": "ca2d9e62",
   "metadata": {},
   "outputs": [
    {
     "data": {
      "text/plain": [
       "0.42867694370333226"
      ]
     },
     "execution_count": 47,
     "metadata": {},
     "output_type": "execute_result"
    }
   ],
   "source": [
    "xone_critic = top_platform_critic[top_platform_critic['platform'] == 'xone']\n",
    "xone_critic['critic_score'].corr(xone_critic['total_sales'])"
   ]
  },
  {
   "cell_type": "code",
   "execution_count": 48,
   "id": "9f73b23e",
   "metadata": {},
   "outputs": [
    {
     "data": {
      "text/plain": [
       "-0.0703839280647581"
      ]
     },
     "execution_count": 48,
     "metadata": {},
     "output_type": "execute_result"
    }
   ],
   "source": [
    "xone_user = top_platform_user[top_platform_user['platform'] == 'xone']\n",
    "xone_user['user_score'].corr(xone_user['total_sales'])"
   ]
  },
  {
   "cell_type": "markdown",
   "id": "bcac474f",
   "metadata": {},
   "source": [
    "Для платформы X-One прослеживается слабая корреляция между отзывами критиков и продажами; связи между отзывами пользователей и продажами не наблюдается."
   ]
  },
  {
   "cell_type": "markdown",
   "id": "07620613",
   "metadata": {},
   "source": [
    "***PC***"
   ]
  },
  {
   "cell_type": "code",
   "execution_count": 49,
   "id": "dd4861f4",
   "metadata": {},
   "outputs": [
    {
     "data": {
      "text/plain": [
       "0.17463413769350036"
      ]
     },
     "execution_count": 49,
     "metadata": {},
     "output_type": "execute_result"
    }
   ],
   "source": [
    "pc_critic = top_platform_critic[top_platform_critic['platform'] == 'pc']\n",
    "pc_critic['critic_score'].corr(pc_critic['total_sales'])"
   ]
  },
  {
   "cell_type": "code",
   "execution_count": 50,
   "id": "8d269c7c",
   "metadata": {},
   "outputs": [
    {
     "data": {
      "text/plain": [
       "-0.07159665703472451"
      ]
     },
     "execution_count": 50,
     "metadata": {},
     "output_type": "execute_result"
    }
   ],
   "source": [
    "pc_user = top_platform_user[top_platform_user['platform'] == 'pc']\n",
    "pc_user['user_score'].corr(pc_user['total_sales'])"
   ]
  },
  {
   "cell_type": "markdown",
   "id": "6e62c17b",
   "metadata": {},
   "source": [
    "Снова корреляция отсутствует."
   ]
  },
  {
   "cell_type": "markdown",
   "id": "0c68dda7",
   "metadata": {},
   "source": [
    "Посмотрим, есть ли корреляция между отзывами критиков и пользователей."
   ]
  },
  {
   "cell_type": "code",
   "execution_count": 51,
   "id": "facdafeb",
   "metadata": {},
   "outputs": [],
   "source": [
    "# отфильтруем отсутствующие данные\n",
    "critic_score = df_2[df_2['critic_score'] != -1]\n",
    "user_score = df_2[df_2['user_score'] != -1]"
   ]
  },
  {
   "cell_type": "code",
   "execution_count": 52,
   "id": "55501050",
   "metadata": {},
   "outputs": [
    {
     "data": {
      "text/html": [
       "<div>\n",
       "<style scoped>\n",
       "    .dataframe tbody tr th:only-of-type {\n",
       "        vertical-align: middle;\n",
       "    }\n",
       "\n",
       "    .dataframe tbody tr th {\n",
       "        vertical-align: top;\n",
       "    }\n",
       "\n",
       "    .dataframe thead th {\n",
       "        text-align: right;\n",
       "    }\n",
       "</style>\n",
       "<table border=\"1\" class=\"dataframe\">\n",
       "  <thead>\n",
       "    <tr style=\"text-align: right;\">\n",
       "      <th></th>\n",
       "      <th>critic_score</th>\n",
       "      <th>user_score</th>\n",
       "    </tr>\n",
       "  </thead>\n",
       "  <tbody>\n",
       "    <tr>\n",
       "      <th>42</th>\n",
       "      <td>97.0</td>\n",
       "      <td>8.3</td>\n",
       "    </tr>\n",
       "    <tr>\n",
       "      <th>77</th>\n",
       "      <td>82.0</td>\n",
       "      <td>4.3</td>\n",
       "    </tr>\n",
       "    <tr>\n",
       "      <th>92</th>\n",
       "      <td>83.0</td>\n",
       "      <td>5.7</td>\n",
       "    </tr>\n",
       "    <tr>\n",
       "      <th>94</th>\n",
       "      <td>85.0</td>\n",
       "      <td>5.0</td>\n",
       "    </tr>\n",
       "    <tr>\n",
       "      <th>105</th>\n",
       "      <td>87.0</td>\n",
       "      <td>6.5</td>\n",
       "    </tr>\n",
       "    <tr>\n",
       "      <th>...</th>\n",
       "      <td>...</td>\n",
       "      <td>...</td>\n",
       "    </tr>\n",
       "    <tr>\n",
       "      <th>16597</th>\n",
       "      <td>65.0</td>\n",
       "      <td>6.0</td>\n",
       "    </tr>\n",
       "    <tr>\n",
       "      <th>16630</th>\n",
       "      <td>63.0</td>\n",
       "      <td>8.2</td>\n",
       "    </tr>\n",
       "    <tr>\n",
       "      <th>16652</th>\n",
       "      <td>81.0</td>\n",
       "      <td>8.5</td>\n",
       "    </tr>\n",
       "    <tr>\n",
       "      <th>16660</th>\n",
       "      <td>74.0</td>\n",
       "      <td>6.7</td>\n",
       "    </tr>\n",
       "    <tr>\n",
       "      <th>16692</th>\n",
       "      <td>80.0</td>\n",
       "      <td>7.6</td>\n",
       "    </tr>\n",
       "  </tbody>\n",
       "</table>\n",
       "<p>718 rows × 2 columns</p>\n",
       "</div>"
      ],
      "text/plain": [
       "       critic_score  user_score\n",
       "42             97.0         8.3\n",
       "77             82.0         4.3\n",
       "92             83.0         5.7\n",
       "94             85.0         5.0\n",
       "105            87.0         6.5\n",
       "...             ...         ...\n",
       "16597          65.0         6.0\n",
       "16630          63.0         8.2\n",
       "16652          81.0         8.5\n",
       "16660          74.0         6.7\n",
       "16692          80.0         7.6\n",
       "\n",
       "[718 rows x 2 columns]"
      ]
     },
     "execution_count": 52,
     "metadata": {},
     "output_type": "execute_result"
    }
   ],
   "source": [
    "# создадим датафрейм из двух столбцов, оценка критиков и оценка пользователей\n",
    "corr_df = pd.DataFrame()\n",
    "corr_df['critic_score'] = critic_score['critic_score']\n",
    "corr_df['user_score'] = user_score['user_score']\n",
    "corr_df"
   ]
  },
  {
   "cell_type": "code",
   "execution_count": 53,
   "id": "fe6a9dc5",
   "metadata": {},
   "outputs": [
    {
     "data": {
      "text/html": [
       "<style type=\"text/css\">\n",
       "</style>\n",
       "<table id=\"T_7314c_\">\n",
       "  <thead>\n",
       "    <tr>\n",
       "      <th class=\"blank level0\" >&nbsp;</th>\n",
       "      <th class=\"col_heading level0 col0\" >critic_score</th>\n",
       "      <th class=\"col_heading level0 col1\" >user_score</th>\n",
       "    </tr>\n",
       "  </thead>\n",
       "  <tbody>\n",
       "    <tr>\n",
       "      <th id=\"T_7314c_level0_row0\" class=\"row_heading level0 row0\" >critic_score</th>\n",
       "      <td id=\"T_7314c_row0_col0\" class=\"data row0 col0\" >100.00%</td>\n",
       "      <td id=\"T_7314c_row0_col1\" class=\"data row0 col1\" >50.45%</td>\n",
       "    </tr>\n",
       "    <tr>\n",
       "      <th id=\"T_7314c_level0_row1\" class=\"row_heading level0 row1\" >user_score</th>\n",
       "      <td id=\"T_7314c_row1_col0\" class=\"data row1 col0\" >50.45%</td>\n",
       "      <td id=\"T_7314c_row1_col1\" class=\"data row1 col1\" >100.00%</td>\n",
       "    </tr>\n",
       "  </tbody>\n",
       "</table>\n"
      ],
      "text/plain": [
       "<pandas.io.formats.style.Styler at 0x22e70fbac10>"
      ]
     },
     "execution_count": 53,
     "metadata": {},
     "output_type": "execute_result"
    }
   ],
   "source": [
    "# рассчитаем корреляци\n",
    "corr = corr_df[['critic_score', 'user_score']].corr()\n",
    "corr.style.format(\"{:.2%}\")"
   ]
  },
  {
   "cell_type": "markdown",
   "id": "9b435ddd",
   "metadata": {},
   "source": [
    "О какой бы платформе ни шла речь, мы видим наличие корреляции между количеством проданных копий и отзывами критиков и пользователей."
   ]
  },
  {
   "cell_type": "markdown",
   "id": "2de93f06",
   "metadata": {},
   "source": [
    "### 6. Распределение по жанрам"
   ]
  },
  {
   "cell_type": "markdown",
   "id": "b30f8419",
   "metadata": {},
   "source": [
    "Сгруппируем датасет по жанрам."
   ]
  },
  {
   "cell_type": "code",
   "execution_count": 54,
   "id": "801a2668",
   "metadata": {},
   "outputs": [
    {
     "data": {
      "text/html": [
       "<div>\n",
       "<style scoped>\n",
       "    .dataframe tbody tr th:only-of-type {\n",
       "        vertical-align: middle;\n",
       "    }\n",
       "\n",
       "    .dataframe tbody tr th {\n",
       "        vertical-align: top;\n",
       "    }\n",
       "\n",
       "    .dataframe thead th {\n",
       "        text-align: right;\n",
       "    }\n",
       "</style>\n",
       "<table border=\"1\" class=\"dataframe\">\n",
       "  <thead>\n",
       "    <tr style=\"text-align: right;\">\n",
       "      <th></th>\n",
       "      <th>genre</th>\n",
       "      <th>name</th>\n",
       "    </tr>\n",
       "  </thead>\n",
       "  <tbody>\n",
       "    <tr>\n",
       "      <th>0</th>\n",
       "      <td>action</td>\n",
       "      <td>619</td>\n",
       "    </tr>\n",
       "    <tr>\n",
       "      <th>7</th>\n",
       "      <td>role-playing</td>\n",
       "      <td>221</td>\n",
       "    </tr>\n",
       "    <tr>\n",
       "      <th>1</th>\n",
       "      <td>adventure</td>\n",
       "      <td>185</td>\n",
       "    </tr>\n",
       "    <tr>\n",
       "      <th>10</th>\n",
       "      <td>sports</td>\n",
       "      <td>161</td>\n",
       "    </tr>\n",
       "    <tr>\n",
       "      <th>8</th>\n",
       "      <td>shooter</td>\n",
       "      <td>128</td>\n",
       "    </tr>\n",
       "    <tr>\n",
       "      <th>3</th>\n",
       "      <td>misc</td>\n",
       "      <td>113</td>\n",
       "    </tr>\n",
       "    <tr>\n",
       "      <th>6</th>\n",
       "      <td>racing</td>\n",
       "      <td>69</td>\n",
       "    </tr>\n",
       "    <tr>\n",
       "      <th>2</th>\n",
       "      <td>fighting</td>\n",
       "      <td>60</td>\n",
       "    </tr>\n",
       "    <tr>\n",
       "      <th>9</th>\n",
       "      <td>simulation</td>\n",
       "      <td>44</td>\n",
       "    </tr>\n",
       "    <tr>\n",
       "      <th>4</th>\n",
       "      <td>platform</td>\n",
       "      <td>38</td>\n",
       "    </tr>\n",
       "  </tbody>\n",
       "</table>\n",
       "</div>"
      ],
      "text/plain": [
       "           genre  name\n",
       "0         action   619\n",
       "7   role-playing   221\n",
       "1      adventure   185\n",
       "10        sports   161\n",
       "8        shooter   128\n",
       "3           misc   113\n",
       "6         racing    69\n",
       "2       fighting    60\n",
       "9     simulation    44\n",
       "4       platform    38"
      ]
     },
     "execution_count": 54,
     "metadata": {},
     "output_type": "execute_result"
    }
   ],
   "source": [
    "# группировка по жанрам\n",
    "most_popular_genre = df_2.groupby('genre')\\\n",
    "                        .agg({'name':'count'}).reset_index()\n",
    "most_popular_genre.sort_values(by='name', ascending=False).head(10)"
   ]
  },
  {
   "cell_type": "markdown",
   "id": "afa8d19e",
   "metadata": {},
   "source": [
    "Больше всего выпускается игр в жанрах `action`, `role-playing` и `adventure`. Посмотрим, какие из них лучше всего продаются."
   ]
  },
  {
   "cell_type": "code",
   "execution_count": 55,
   "id": "27a80422",
   "metadata": {},
   "outputs": [
    {
     "data": {
      "text/html": [
       "<div>\n",
       "<style scoped>\n",
       "    .dataframe tbody tr th:only-of-type {\n",
       "        vertical-align: middle;\n",
       "    }\n",
       "\n",
       "    .dataframe tbody tr th {\n",
       "        vertical-align: top;\n",
       "    }\n",
       "\n",
       "    .dataframe thead th {\n",
       "        text-align: right;\n",
       "    }\n",
       "</style>\n",
       "<table border=\"1\" class=\"dataframe\">\n",
       "  <thead>\n",
       "    <tr style=\"text-align: right;\">\n",
       "      <th></th>\n",
       "      <th>genre</th>\n",
       "      <th>total_sales</th>\n",
       "    </tr>\n",
       "  </thead>\n",
       "  <tbody>\n",
       "    <tr>\n",
       "      <th>0</th>\n",
       "      <td>action</td>\n",
       "      <td>199.36</td>\n",
       "    </tr>\n",
       "    <tr>\n",
       "      <th>8</th>\n",
       "      <td>shooter</td>\n",
       "      <td>170.94</td>\n",
       "    </tr>\n",
       "    <tr>\n",
       "      <th>10</th>\n",
       "      <td>sports</td>\n",
       "      <td>109.48</td>\n",
       "    </tr>\n",
       "    <tr>\n",
       "      <th>7</th>\n",
       "      <td>role-playing</td>\n",
       "      <td>101.44</td>\n",
       "    </tr>\n",
       "    <tr>\n",
       "      <th>3</th>\n",
       "      <td>misc</td>\n",
       "      <td>37.55</td>\n",
       "    </tr>\n",
       "    <tr>\n",
       "      <th>2</th>\n",
       "      <td>fighting</td>\n",
       "      <td>28.22</td>\n",
       "    </tr>\n",
       "    <tr>\n",
       "      <th>6</th>\n",
       "      <td>racing</td>\n",
       "      <td>27.52</td>\n",
       "    </tr>\n",
       "    <tr>\n",
       "      <th>4</th>\n",
       "      <td>platform</td>\n",
       "      <td>18.09</td>\n",
       "    </tr>\n",
       "    <tr>\n",
       "      <th>1</th>\n",
       "      <td>adventure</td>\n",
       "      <td>17.55</td>\n",
       "    </tr>\n",
       "    <tr>\n",
       "      <th>9</th>\n",
       "      <td>simulation</td>\n",
       "      <td>13.13</td>\n",
       "    </tr>\n",
       "  </tbody>\n",
       "</table>\n",
       "</div>"
      ],
      "text/plain": [
       "           genre  total_sales\n",
       "0         action       199.36\n",
       "8        shooter       170.94\n",
       "10        sports       109.48\n",
       "7   role-playing       101.44\n",
       "3           misc        37.55\n",
       "2       fighting        28.22\n",
       "6         racing        27.52\n",
       "4       platform        18.09\n",
       "1      adventure        17.55\n",
       "9     simulation        13.13"
      ]
     },
     "execution_count": 55,
     "metadata": {},
     "output_type": "execute_result"
    }
   ],
   "source": [
    "# группировка по жанрам, входящим в топ-10 по продажам\n",
    "genre_top_sales =  df_2.groupby(['genre']).agg({'total_sales' : 'sum'}).reset_index()\n",
    "genre_top_sales.sort_values(by='total_sales', ascending=False).head(10)"
   ]
  },
  {
   "cell_type": "markdown",
   "id": "0e7a136a",
   "metadata": {},
   "source": [
    "Лидерами продаж являются жанры `action`, `shooter` и `sport`. Наименее популярны `adventure` и `simulation`. Можно сделать вывод, что динамичные игры популярнее спокойных."
   ]
  },
  {
   "cell_type": "code",
   "execution_count": 56,
   "id": "e0812624",
   "metadata": {},
   "outputs": [
    {
     "data": {
      "text/html": [
       "<div>\n",
       "<style scoped>\n",
       "    .dataframe tbody tr th:only-of-type {\n",
       "        vertical-align: middle;\n",
       "    }\n",
       "\n",
       "    .dataframe tbody tr th {\n",
       "        vertical-align: top;\n",
       "    }\n",
       "\n",
       "    .dataframe thead th {\n",
       "        text-align: right;\n",
       "    }\n",
       "</style>\n",
       "<table border=\"1\" class=\"dataframe\">\n",
       "  <thead>\n",
       "    <tr style=\"text-align: right;\">\n",
       "      <th></th>\n",
       "      <th>genre</th>\n",
       "      <th>total_sales</th>\n",
       "    </tr>\n",
       "  </thead>\n",
       "  <tbody>\n",
       "    <tr>\n",
       "      <th>8</th>\n",
       "      <td>shooter</td>\n",
       "      <td>0.515</td>\n",
       "    </tr>\n",
       "    <tr>\n",
       "      <th>10</th>\n",
       "      <td>sports</td>\n",
       "      <td>0.180</td>\n",
       "    </tr>\n",
       "    <tr>\n",
       "      <th>4</th>\n",
       "      <td>platform</td>\n",
       "      <td>0.140</td>\n",
       "    </tr>\n",
       "    <tr>\n",
       "      <th>2</th>\n",
       "      <td>fighting</td>\n",
       "      <td>0.125</td>\n",
       "    </tr>\n",
       "    <tr>\n",
       "      <th>7</th>\n",
       "      <td>role-playing</td>\n",
       "      <td>0.110</td>\n",
       "    </tr>\n",
       "    <tr>\n",
       "      <th>9</th>\n",
       "      <td>simulation</td>\n",
       "      <td>0.100</td>\n",
       "    </tr>\n",
       "    <tr>\n",
       "      <th>0</th>\n",
       "      <td>action</td>\n",
       "      <td>0.090</td>\n",
       "    </tr>\n",
       "    <tr>\n",
       "      <th>3</th>\n",
       "      <td>misc</td>\n",
       "      <td>0.090</td>\n",
       "    </tr>\n",
       "    <tr>\n",
       "      <th>6</th>\n",
       "      <td>racing</td>\n",
       "      <td>0.090</td>\n",
       "    </tr>\n",
       "    <tr>\n",
       "      <th>11</th>\n",
       "      <td>strategy</td>\n",
       "      <td>0.060</td>\n",
       "    </tr>\n",
       "  </tbody>\n",
       "</table>\n",
       "</div>"
      ],
      "text/plain": [
       "           genre  total_sales\n",
       "8        shooter        0.515\n",
       "10        sports        0.180\n",
       "4       platform        0.140\n",
       "2       fighting        0.125\n",
       "7   role-playing        0.110\n",
       "9     simulation        0.100\n",
       "0         action        0.090\n",
       "3           misc        0.090\n",
       "6         racing        0.090\n",
       "11      strategy        0.060"
      ]
     },
     "execution_count": 56,
     "metadata": {},
     "output_type": "execute_result"
    }
   ],
   "source": [
    "# медианные продажи по жанрам\n",
    "genre_top_sales =  df_2.groupby(['genre']).agg({'total_sales' : 'median'}).reset_index()\n",
    "genre_top_sales.sort_values(by='total_sales', ascending=False).head(10)"
   ]
  },
  {
   "cell_type": "markdown",
   "id": "3e982020",
   "metadata": {},
   "source": [
    "Шутеры и спортивные игры по-прежнему занимают верхние позиции, а вот экшн скатился с первого на седьмое место. Появились стратегии, которые даже не вошли в топ-10 по продажам, симуляторы поднялись с последней позиции в середину списка."
   ]
  },
  {
   "cell_type": "markdown",
   "id": "b1c0c747",
   "metadata": {},
   "source": [
    "***Выводы***\n",
    "\n",
    "Мы посмотрели динамику компьютерного рынка, начиная с момента его зарождения (1980 г.) по 2016 г.; выделили четыре фазы его развития и пришли к заключению, что для построения прогнозов значимы только последние три года, с 2014 по 2016.\n",
    "В среднем платформа \"живет\" около десяти лет, достигая своего \"расцвета\" на второй-пятый года после появления.\n",
    "Особенности рынка таковы, что часто игры вовсе не приносят дохода; зато крупные платформы регулярно устраивают ААА-выбросы: выпускают дорогие и рассчитанные на широкого пользователя игры, продающиеся миллионными тиражами, что многократно превышает медианное значение по продажам.\n",
    "Отзывы как критиков, так и пользователей самых популярных платформ не всегда коррелируют с продажами. Некоторое влияние для отдельных платформ (ps4, X-One) оказывают отзывы критиков.\n",
    "Самыми популярными жанрами являются динамичные игры, в то время как симуляции и паззлы менее популярны."
   ]
  },
  {
   "cell_type": "markdown",
   "id": "1f358369",
   "metadata": {},
   "source": [
    "## Портрет пользователя по регионам"
   ]
  },
  {
   "cell_type": "code",
   "execution_count": 57,
   "id": "8fa6443c",
   "metadata": {},
   "outputs": [
    {
     "data": {
      "image/png": "[encoded data removed]",
      "text/plain": [
       "<Figure size 360x360 with 1 Axes>"
      ]
     },
     "metadata": {},
     "output_type": "display_data"
    },
    {
     "data": {
      "image/png": "[encoded data removed]",
      "text/plain": [
       "<Figure size 360x360 with 1 Axes>"
      ]
     },
     "metadata": {},
     "output_type": "display_data"
    },
    {
     "data": {
      "image/png": "[encoded data removed]",
      "text/plain": [
       "<Figure size 360x360 with 1 Axes>"
      ]
     },
     "metadata": {},
     "output_type": "display_data"
    }
   ],
   "source": [
    "# напишем функцию для создания гистограмм по топ-5 популярным платформам или жанрам\n",
    "# в зависимости от региона\n",
    "\n",
    "titles_list = ['Предпочения в США', 'Предпочтения в Европе', 'Предпочтения в Японии']\n",
    "regions_list = ['na_sales', 'eu_sales', 'jp_sales']\n",
    "\n",
    "def platforms_pict(region, group_by = 'platform', t = 'Предпочитаемые платформы в США'):\n",
    "    df_actual = df_2[df_2['year_of_release'] >= 2010]\n",
    "    df_actual.groupby(group_by).agg({region : 'sum'})\\\n",
    "                                .sort_values(by=region, ascending=False)\\\n",
    "                                .head(5)\\\n",
    "                                .plot(title = t, kind='bar', figsize=(5,5))\n",
    "        \n",
    "for i in range(len(regions_list)):\n",
    "    platforms_pict(regions_list[i], 'platform', titles_list[i])"
   ]
  },
  {
   "cell_type": "code",
   "execution_count": 58,
   "id": "4dfe93f6",
   "metadata": {},
   "outputs": [
    {
     "data": {
      "image/png": "[encoded data removed]",
      "text/plain": [
       "<Figure size 360x360 with 1 Axes>"
      ]
     },
     "metadata": {},
     "output_type": "display_data"
    },
    {
     "data": {
      "image/png": "[encoded data removed]",
      "text/plain": [
       "<Figure size 360x360 with 1 Axes>"
      ]
     },
     "metadata": {},
     "output_type": "display_data"
    },
    {
     "data": {
      "image/png": "[encoded data removed]",
      "text/plain": [
       "<Figure size 360x360 with 1 Axes>"
      ]
     },
     "metadata": {},
     "output_type": "display_data"
    }
   ],
   "source": [
    "for i in range(len(regions_list)):\n",
    "    platforms_pict(regions_list[i], 'genre', titles_list[i])"
   ]
  },
  {
   "cell_type": "markdown",
   "id": "86f2e888",
   "metadata": {},
   "source": [
    "***Выводы***\n",
    "\n",
    "Мы видим, что больше всего игр продается в Европе (почти 130 млн копий для самого популярного жанра), на втором месте США (почти 100 млн копий), на третьем Япония (ок.45 млн копий). Предпочтения по платформам и жанрам различаются. В то время как платформы x360 и ps4 лидируют по продажам в США и Европе, в Японии на первом месте оказалась 3ds. Здесь присутствуют и wiiu, и psv, не пользующиеся такой популярностью на Западе.\n",
    "\n",
    "В том, что касается жанровых предпочтений, Европа и США почти совпадают - экшн, шутеры и спортивные игры лидируют, затем идут ролевые игры. В Европе в топ-5 вошли гонки, которых нет в других регионах. Япония отличается в том, что ролевые игры по популярности здесь превосходят экшн, затем следуют файтинги, \"разное\" и шутеры."
   ]
  },
  {
   "cell_type": "markdown",
   "id": "3d473237",
   "metadata": {},
   "source": [
    "#### Влияние возрастного рейтинга на продажи в отдельном регионе"
   ]
  },
  {
   "cell_type": "markdown",
   "id": "23489a77",
   "metadata": {},
   "source": [
    "Приведем расшифровку рейтингов ESRB:\n",
    "\n",
    "- е - everyone (для всех категорий пользователей)\n",
    "- m - mature (для взрослых)\n",
    "- t - teen (для подростков)\n",
    "- e10+ - everyone 10 and older (для всех старше 10 лет)\n",
    "- k-a - kids to adults (для детей и взрослых, от 6 лет и старше)\n",
    "- ao - adults only (только для взрослых, строго старше 18 лет)\n",
    "- ec - early childhood (для детей младшего возраста, от 3 лет и старше)\n",
    "- rp - rating pending (рейтинг ожидается)"
   ]
  },
  {
   "cell_type": "code",
   "execution_count": 59,
   "id": "3968e747",
   "metadata": {
    "scrolled": false
   },
   "outputs": [
    {
     "data": {
      "text/plain": [
       "Text(0.5, 1.0, 'Возрастной рейтинг и продажи в США')"
      ]
     },
     "execution_count": 59,
     "metadata": {},
     "output_type": "execute_result"
    },
    {
     "data": {
      "image/png": "[encoded data removed]",
      "text/plain": [
       "<Figure size 1080x720 with 1 Axes>"
      ]
     },
     "metadata": {},
     "output_type": "display_data"
    }
   ],
   "source": [
    "df_2.groupby(by='rating')\\\n",
    "    .agg({'na_sales':'sum'})\\\n",
    "    .sort_values(by='na_sales', ascending=False)\\\n",
    "    .head(15)\\\n",
    "    .plot(kind='bar')\\\n",
    "    .set_title('Возрастной рейтинг и продажи в США')"
   ]
  },
  {
   "cell_type": "code",
   "execution_count": 60,
   "id": "e585cc7e",
   "metadata": {},
   "outputs": [
    {
     "data": {
      "text/plain": [
       "Text(0.5, 1.0, 'Возрастной рейтинг и продажи в Европе')"
      ]
     },
     "execution_count": 60,
     "metadata": {},
     "output_type": "execute_result"
    },
    {
     "data": {
      "image/png": "[encoded data removed]",
      "text/plain": [
       "<Figure size 1080x720 with 1 Axes>"
      ]
     },
     "metadata": {},
     "output_type": "display_data"
    }
   ],
   "source": [
    "df_2.groupby(by='rating')\\\n",
    "    .agg({'eu_sales':'sum'})\\\n",
    "    .sort_values(by='eu_sales', ascending=False)\\\n",
    "    .head(15)\\\n",
    "    .plot(kind='bar')\\\n",
    "    .set_title('Возрастной рейтинг и продажи в Европе')"
   ]
  },
  {
   "cell_type": "code",
   "execution_count": 61,
   "id": "a66de1e6",
   "metadata": {},
   "outputs": [
    {
     "data": {
      "text/plain": [
       "Text(0.5, 1.0, 'Возрастной рейтинг и продажи в Японии')"
      ]
     },
     "execution_count": 61,
     "metadata": {},
     "output_type": "execute_result"
    },
    {
     "data": {
      "image/png": "[encoded data removed]",
      "text/plain": [
       "<Figure size 1080x720 with 1 Axes>"
      ]
     },
     "metadata": {},
     "output_type": "display_data"
    }
   ],
   "source": [
    "df_2.groupby(by='rating')\\\n",
    "    .agg({'jp_sales':'sum'})\\\n",
    "    .sort_values(by='jp_sales', ascending=False)\\\n",
    "    .head(15)\\\n",
    "    .plot(kind='bar')\\\n",
    "    .set_title('Возрастной рейтинг и продажи в Японии')"
   ]
  },
  {
   "cell_type": "markdown",
   "id": "7d50f09e",
   "metadata": {},
   "source": [
    "Мы снова видим, что США и Европа практически совпадают в том, что касается количества продаваемых игр по тому или иному возрастному рейтингу, в то время как в количественном выражении в Японии игр продается меньше. В США и Европе лидируют игры с рейтингом m (mature). Затем в обоих регионах следуют игры \"без рейтинга\". Далее по популярности на Западе идут игры для всех категорий и для подростков, в то время как в Японии игр для подростков продается больше, чем \"для всех\" и для взрослых. Абсолютным лидером по продажам в Японии стали игры \"без рейтинга\". Возможно, это связано с тем, что в Японии имеется своя рейтинговая модель (СERO), и большая часть игр оценивается по ней, а не по американской ESRB."
   ]
  },
  {
   "cell_type": "markdown",
   "id": "a879bc5e",
   "metadata": {},
   "source": [
    "## Проверка гипотез"
   ]
  },
  {
   "cell_type": "markdown",
   "id": "6e0c4046",
   "metadata": {},
   "source": [
    "### Гипотеза 1\n",
    "Средние пользовательские рейтинги платформ Xbox One и PC одинаковые.\n",
    "\n",
    "Будем использовать t-критерий Стьюдента, так как сравниваемые выборки независимы.\n",
    "\n",
    "- Гипотеза H0: средний пользовательский рейтинг платформ Xbox One и РС одинаковые.\n",
    "- Гипотеза Н1: средний пользовательский рейтинг платформ Xbox One и РС отличаются."
   ]
  },
  {
   "cell_type": "code",
   "execution_count": 62,
   "id": "aa602fe8",
   "metadata": {
    "scrolled": true
   },
   "outputs": [
    {
     "name": "stdout",
     "output_type": "stream",
     "text": [
      "p-значение: 0.10450507919348415\n",
      "Не получилось отвергнуть нулевую гипотезу\n"
     ]
    }
   ],
   "source": [
    "alpha = 0.05\n",
    "\n",
    "xbox1 = df_2[(df_2['platform'] == 'xone') & (df_2['user_score'] > 0)]['user_score']\n",
    "pc = df_2[(df_2['platform'] == 'pc') & (df_2['user_score'] > 0)]['user_score']\n",
    "\n",
    "results = st.ttest_ind(xbox1, pc)\n",
    "\n",
    "print('p-значение:', results.pvalue)\n",
    "\n",
    "if (results.pvalue < alpha):\n",
    "    print(\"Отвергаем нулевую гипотезу\")\n",
    "else:\n",
    "    print(\"Не получилось отвергнуть нулевую гипотезу\")"
   ]
  },
  {
   "cell_type": "markdown",
   "id": "ad5b95cb",
   "metadata": {},
   "source": [
    "### Гипотеза 2\n",
    "\n",
    "Средние пользовательские рейтинги жанров `Action` и `Sports` разные.\n",
    "\n",
    "- Гипотеза Н0: Средние пользовательские рейтинги жанров `Action` и `Sports` одинаковые.\n",
    "- Гипотеза Н16 Средние пользовательские рейтинги жанров `Action` и `Sports` разные."
   ]
  },
  {
   "cell_type": "code",
   "execution_count": 63,
   "id": "a6e6fa23",
   "metadata": {},
   "outputs": [
    {
     "name": "stdout",
     "output_type": "stream",
     "text": [
      "p-значение: 2.8711147985105864e-19\n",
      "Отвергаем нулевую гипотезу\n"
     ]
    }
   ],
   "source": [
    "action = df_2[(df_2['genre'] == 'action') & (df_2['user_score'] > 0)]['user_score']\n",
    "sports = df_2[(df_2['genre'] == 'sports') & (df_2['user_score'] > 0)]['user_score']\n",
    "\n",
    "results = st.ttest_ind(action, sports)\n",
    "\n",
    "print('p-значение:', results.pvalue)\n",
    "\n",
    "if (results.pvalue < alpha):\n",
    "    print(\"Отвергаем нулевую гипотезу\")\n",
    "else:\n",
    "    print(\"Не получилось отвергнуть нулевую гипотезу\")"
   ]
  },
  {
   "cell_type": "markdown",
   "id": "6966fd87",
   "metadata": {},
   "source": [
    "## Общие выводы"
   ]
  },
  {
   "cell_type": "markdown",
   "id": "64645da1",
   "metadata": {},
   "source": [
    "- В обзоре данных мы подготовили данные к работе, исправив названия столбцов, изменив неудачные типы данных и обработав пропуски; добавили недостающие для анализа данные (сумму продаж по трем регионам).\n",
    "- Изучив динамику рынка компьютерных игр мы пришли к выводу, что после 2010 года, когда начался ярко выраженный спад, связанный с приходом на рынок мобильных платформ. Так как рынок компьютерных игр очень динамичный, для прогноза на 2017 год для анализа мы взяли последние три года, с 2014 по 2016. Учитывая, что наиболее частое \"время жизни\" платформы, около 10 лет, можно было бы сделать вывод, что перспективными являются платформы ps4 и x-one, появившиеся в 2013 году. К 2017 они должны были достичь своего пика по продажам. Но вследствие общего \"усыхания\" рынка такой прогноз сделать нельзя, их продажи тоже падают с 2015 года.\n",
    "- Тем не менее платформы X-One и ps4 планомерно наращивают количество выпускаемых игр. Также растет количество игр для PC.\n",
    "- Можно предположить, что популярные платформы регулярно вкладываются в игры категории ААА (широкая аудитория, масштабные рекламные компании), чьи продажи многократно превышают обычный доход от компьютерных игр; вместе с тем часто выпускаются игры, которые вообще не приносят дохода.\n",
    "- Следует учитывать как отзывы критиков, так и отзывы пользователей, они напрямую коррелируют с уровнем продаж.\n",
    "- Наибольшей популярностью пользуются динамичные игры (экшн, шутеры, спорт).\n",
    "- На первом месте по продажам стоит Европа, затем идут США и Япония (130 млн проданных копий для самого популярного жанра, 100 млн и 45 млн соответственно). В США и Европе лидируют платформы x360 и ps4, во всех трех регионах в топ-5 платформ вошла 3ds. В Японии в топ-5 вошли wiiu и psv, которые не так популярны на Западе.\n",
    "- Хотя активные игры (экшн и шутеры) популярны во всех трех регионах, на Западе они лидируют по продажам, в то время как в Японии большой популярностью обладают ролевые игры.\n",
    "- Глядя на распределение популярности по возрастному рейтингу можно сделать предположение, что средний пользователь компьютерных игр в Японии моложе, чем в США и Европе.\n",
    "- В рамках исследования были выдвинуты две гипотезы:\n",
    "    1. средние пользовательские рейтинги платформ `Xbox One` и `PC` одинаковые.\n",
    "    2. средние пользовательские рейтинги жанров `Action` и `Sports` разные.\n",
    "    \n",
    "    Первая гипотеза подтвердилась (пользовательские рейтинги платформ `Xbox One` и `PC` одинаковые), вторую пришлось отвергнуть (у жанров `Action` и `Sports` пользовательские рейтинги различаются).\n",
    "    \n",
    "- Магазину \"Стримчик\" можно посоветовать в 2017 году:\n",
    "    - сделать упор на мобильные платформы;\n",
    "    - не вкладываться в платформы, присутствующие на рынке больше 5-7 лет;\n",
    "    - \n",
    "    - сосредоточиться на экшн, шутерах и спортивных играх при работе с западным клиентом, и на ролевых играх, платформерах и приключениях при продаже игр в Японии;\n",
    "    - учитывать рейтинги, особенно рейтинги критиков;\n",
    "    - ориентироваться на более молодую аудиторию при работе с Японией."
   ]
  }
 ],
 "metadata": {
  "ExecuteTimeLog": [
   {
    "duration": 1334,
    "start_time": "2022-05-21T20:10:14.222Z"
   },
   {
    "duration": 107,
    "start_time": "2022-05-21T20:10:15.558Z"
   },
   {
    "duration": 13,
    "start_time": "2022-05-21T20:10:15.666Z"
   },
   {
    "duration": 3,
    "start_time": "2022-05-21T20:10:15.681Z"
   },
   {
    "duration": 20,
    "start_time": "2022-05-21T20:10:15.685Z"
   },
   {
    "duration": 12,
    "start_time": "2022-05-21T20:10:15.707Z"
   },
   {
    "duration": 6,
    "start_time": "2022-05-21T20:10:15.720Z"
   },
   {
    "duration": 27,
    "start_time": "2022-05-21T20:10:15.727Z"
   },
   {
    "duration": 7,
    "start_time": "2022-05-21T20:10:15.755Z"
   },
   {
    "duration": 8,
    "start_time": "2022-05-21T20:10:15.765Z"
   },
   {
    "duration": 9,
    "start_time": "2022-05-21T20:10:15.775Z"
   },
   {
    "duration": 7,
    "start_time": "2022-05-21T20:10:15.785Z"
   },
   {
    "duration": 6,
    "start_time": "2022-05-21T20:10:15.793Z"
   },
   {
    "duration": 7,
    "start_time": "2022-05-21T20:10:15.801Z"
   },
   {
    "duration": 46,
    "start_time": "2022-05-21T20:10:15.809Z"
   },
   {
    "duration": 17,
    "start_time": "2022-05-21T20:10:15.857Z"
   },
   {
    "duration": 4,
    "start_time": "2022-05-21T20:10:15.875Z"
   },
   {
    "duration": 19,
    "start_time": "2022-05-21T20:10:15.881Z"
   },
   {
    "duration": 22,
    "start_time": "2022-05-21T20:10:15.902Z"
   },
   {
    "duration": 28,
    "start_time": "2022-05-21T20:10:15.925Z"
   },
   {
    "duration": 17,
    "start_time": "2022-05-21T20:10:15.954Z"
   },
   {
    "duration": 384,
    "start_time": "2022-05-21T20:10:15.972Z"
   },
   {
    "duration": 5,
    "start_time": "2022-05-21T20:10:16.358Z"
   },
   {
    "duration": 13,
    "start_time": "2022-05-21T20:10:16.365Z"
   },
   {
    "duration": 4,
    "start_time": "2022-05-21T20:10:16.380Z"
   },
   {
    "duration": 201,
    "start_time": "2022-05-21T20:10:16.385Z"
   },
   {
    "duration": 197,
    "start_time": "2022-05-21T20:10:16.588Z"
   },
   {
    "duration": 436,
    "start_time": "2022-05-21T20:10:16.788Z"
   },
   {
    "duration": 114,
    "start_time": "2022-05-21T20:10:17.226Z"
   },
   {
    "duration": 14,
    "start_time": "2022-05-21T20:10:17.342Z"
   },
   {
    "duration": 564,
    "start_time": "2022-05-21T20:10:17.358Z"
   },
   {
    "duration": 14,
    "start_time": "2022-05-21T20:10:17.924Z"
   },
   {
    "duration": 14,
    "start_time": "2022-05-21T20:10:17.939Z"
   },
   {
    "duration": 33,
    "start_time": "2022-05-21T20:10:17.955Z"
   },
   {
    "duration": 318,
    "start_time": "2022-05-21T20:10:17.989Z"
   },
   {
    "duration": 384,
    "start_time": "2022-05-21T20:10:18.308Z"
   },
   {
    "duration": 13,
    "start_time": "2022-05-21T20:10:18.693Z"
   },
   {
    "duration": 4,
    "start_time": "2022-05-21T20:10:18.708Z"
   },
   {
    "duration": 232,
    "start_time": "2022-05-21T20:10:18.714Z"
   },
   {
    "duration": 232,
    "start_time": "2022-05-21T20:10:18.948Z"
   },
   {
    "duration": 6,
    "start_time": "2022-05-21T20:10:19.182Z"
   },
   {
    "duration": 15,
    "start_time": "2022-05-21T20:10:19.189Z"
   },
   {
    "duration": 54,
    "start_time": "2022-05-21T20:10:19.206Z"
   },
   {
    "duration": 12,
    "start_time": "2022-05-21T20:10:19.262Z"
   },
   {
    "duration": 16,
    "start_time": "2022-05-21T20:10:19.276Z"
   },
   {
    "duration": 460,
    "start_time": "2022-05-21T20:10:19.294Z"
   },
   {
    "duration": 462,
    "start_time": "2022-05-21T20:10:19.757Z"
   },
   {
    "duration": 205,
    "start_time": "2022-05-21T20:10:20.221Z"
   },
   {
    "duration": 199,
    "start_time": "2022-05-21T20:10:20.427Z"
   },
   {
    "duration": 307,
    "start_time": "2022-05-21T20:10:20.628Z"
   },
   {
    "duration": 16,
    "start_time": "2022-05-21T20:10:20.937Z"
   },
   {
    "duration": 11,
    "start_time": "2022-05-21T20:10:20.955Z"
   },
   {
    "duration": 4,
    "start_time": "2022-05-21T20:20:03.488Z"
   },
   {
    "duration": 21,
    "start_time": "2022-05-21T20:54:54.315Z"
   },
   {
    "duration": 5,
    "start_time": "2022-05-21T20:55:00.584Z"
   },
   {
    "duration": 21,
    "start_time": "2022-05-21T20:57:19.269Z"
   },
   {
    "duration": 8,
    "start_time": "2022-05-21T20:57:42.199Z"
   },
   {
    "duration": 8,
    "start_time": "2022-05-21T20:57:45.865Z"
   },
   {
    "duration": 20,
    "start_time": "2022-05-21T21:01:51.490Z"
   },
   {
    "duration": 70,
    "start_time": "2022-05-22T05:09:02.078Z"
   },
   {
    "duration": 7,
    "start_time": "2022-05-22T05:09:12.149Z"
   },
   {
    "duration": 8,
    "start_time": "2022-05-22T05:09:26.028Z"
   },
   {
    "duration": 1889,
    "start_time": "2022-05-22T05:09:29.488Z"
   },
   {
    "duration": 109,
    "start_time": "2022-05-22T05:09:31.382Z"
   },
   {
    "duration": 18,
    "start_time": "2022-05-22T05:09:32.881Z"
   },
   {
    "duration": 3,
    "start_time": "2022-05-22T05:09:34.687Z"
   },
   {
    "duration": 25,
    "start_time": "2022-05-22T05:09:36.031Z"
   },
   {
    "duration": 12,
    "start_time": "2022-05-22T05:09:37.096Z"
   },
   {
    "duration": 8,
    "start_time": "2022-05-22T05:09:40.023Z"
   },
   {
    "duration": 6,
    "start_time": "2022-05-22T05:09:41.431Z"
   },
   {
    "duration": 8,
    "start_time": "2022-05-22T05:09:42.422Z"
   },
   {
    "duration": 7,
    "start_time": "2022-05-22T05:09:43.519Z"
   },
   {
    "duration": 10,
    "start_time": "2022-05-22T05:09:44.029Z"
   },
   {
    "duration": 7,
    "start_time": "2022-05-22T05:09:45.050Z"
   },
   {
    "duration": 5,
    "start_time": "2022-05-22T05:09:45.535Z"
   },
   {
    "duration": 6,
    "start_time": "2022-05-22T05:09:45.991Z"
   },
   {
    "duration": 33,
    "start_time": "2022-05-22T05:09:47.016Z"
   },
   {
    "duration": 22,
    "start_time": "2022-05-22T05:09:47.551Z"
   },
   {
    "duration": 6,
    "start_time": "2022-05-22T05:09:48.616Z"
   },
   {
    "duration": 33,
    "start_time": "2022-05-22T05:09:49.160Z"
   },
   {
    "duration": 29,
    "start_time": "2022-05-22T05:09:50.854Z"
   },
   {
    "duration": 5,
    "start_time": "2022-05-22T05:09:51.991Z"
   },
   {
    "duration": 17,
    "start_time": "2022-05-22T05:09:57.998Z"
   },
   {
    "duration": 478,
    "start_time": "2022-05-22T05:09:59.887Z"
   },
   {
    "duration": 367,
    "start_time": "2022-05-22T05:10:29.636Z"
   },
   {
    "duration": 393,
    "start_time": "2022-05-22T05:10:59.528Z"
   },
   {
    "duration": 387,
    "start_time": "2022-05-22T05:11:07.545Z"
   },
   {
    "duration": 492,
    "start_time": "2022-05-22T05:12:00.889Z"
   },
   {
    "duration": 444,
    "start_time": "2022-05-22T05:12:39.085Z"
   },
   {
    "duration": 481,
    "start_time": "2022-05-22T05:13:18.182Z"
   },
   {
    "duration": 453,
    "start_time": "2022-05-22T05:13:25.759Z"
   },
   {
    "duration": 12,
    "start_time": "2022-05-22T05:14:22.752Z"
   },
   {
    "duration": 12,
    "start_time": "2022-05-22T05:15:09.010Z"
   },
   {
    "duration": 6,
    "start_time": "2022-05-22T05:15:53.615Z"
   },
   {
    "duration": 11,
    "start_time": "2022-05-22T05:16:07.334Z"
   },
   {
    "duration": 77,
    "start_time": "2022-05-22T08:34:23.384Z"
   },
   {
    "duration": 1539,
    "start_time": "2022-05-22T08:34:31.544Z"
   },
   {
    "duration": 113,
    "start_time": "2022-05-22T08:34:33.088Z"
   },
   {
    "duration": 15,
    "start_time": "2022-05-22T08:34:33.205Z"
   },
   {
    "duration": 4,
    "start_time": "2022-05-22T08:34:33.223Z"
   },
   {
    "duration": 27,
    "start_time": "2022-05-22T08:34:33.228Z"
   },
   {
    "duration": 51,
    "start_time": "2022-05-22T08:34:33.265Z"
   },
   {
    "duration": 6,
    "start_time": "2022-05-22T08:34:33.318Z"
   },
   {
    "duration": 6,
    "start_time": "2022-05-22T08:34:33.326Z"
   },
   {
    "duration": 8,
    "start_time": "2022-05-22T08:34:33.334Z"
   },
   {
    "duration": 26,
    "start_time": "2022-05-22T08:34:33.346Z"
   },
   {
    "duration": 61,
    "start_time": "2022-05-22T08:34:33.374Z"
   },
   {
    "duration": 11,
    "start_time": "2022-05-22T08:34:33.438Z"
   },
   {
    "duration": 16,
    "start_time": "2022-05-22T08:34:33.451Z"
   },
   {
    "duration": 27,
    "start_time": "2022-05-22T08:34:33.480Z"
   },
   {
    "duration": 23,
    "start_time": "2022-05-22T08:34:33.509Z"
   },
   {
    "duration": 19,
    "start_time": "2022-05-22T08:34:33.534Z"
   },
   {
    "duration": 5,
    "start_time": "2022-05-22T08:34:33.554Z"
   },
   {
    "duration": 53,
    "start_time": "2022-05-22T08:34:33.560Z"
   },
   {
    "duration": 24,
    "start_time": "2022-05-22T08:34:33.615Z"
   },
   {
    "duration": 13,
    "start_time": "2022-05-22T08:34:33.641Z"
   },
   {
    "duration": 17,
    "start_time": "2022-05-22T08:34:33.655Z"
   },
   {
    "duration": 62,
    "start_time": "2022-05-22T08:34:33.674Z"
   },
   {
    "duration": 477,
    "start_time": "2022-05-22T08:34:33.739Z"
   },
   {
    "duration": 6,
    "start_time": "2022-05-22T08:34:34.218Z"
   },
   {
    "duration": 20,
    "start_time": "2022-05-22T08:34:34.226Z"
   },
   {
    "duration": 20,
    "start_time": "2022-05-22T08:34:34.269Z"
   },
   {
    "duration": 238,
    "start_time": "2022-05-22T08:34:34.296Z"
   },
   {
    "duration": 264,
    "start_time": "2022-05-22T08:34:34.538Z"
   },
   {
    "duration": 580,
    "start_time": "2022-05-22T08:34:34.804Z"
   },
   {
    "duration": 141,
    "start_time": "2022-05-22T08:34:35.386Z"
   },
   {
    "duration": 10,
    "start_time": "2022-05-22T08:34:35.529Z"
   },
   {
    "duration": 699,
    "start_time": "2022-05-22T08:34:35.541Z"
   },
   {
    "duration": 39,
    "start_time": "2022-05-22T08:34:36.242Z"
   },
   {
    "duration": 6,
    "start_time": "2022-05-22T08:34:36.289Z"
   },
   {
    "duration": 33,
    "start_time": "2022-05-22T08:34:36.296Z"
   },
   {
    "duration": 435,
    "start_time": "2022-05-22T08:34:36.331Z"
   },
   {
    "duration": 379,
    "start_time": "2022-05-22T08:34:36.767Z"
   },
   {
    "duration": 26,
    "start_time": "2022-05-22T08:34:37.148Z"
   },
   {
    "duration": 6,
    "start_time": "2022-05-22T08:34:37.176Z"
   },
   {
    "duration": 306,
    "start_time": "2022-05-22T08:34:37.184Z"
   },
   {
    "duration": 276,
    "start_time": "2022-05-22T08:34:37.501Z"
   },
   {
    "duration": 8,
    "start_time": "2022-05-22T08:34:37.790Z"
   },
   {
    "duration": 27,
    "start_time": "2022-05-22T08:34:37.801Z"
   },
   {
    "duration": 79,
    "start_time": "2022-05-22T08:34:37.832Z"
   },
   {
    "duration": 18,
    "start_time": "2022-05-22T08:34:37.915Z"
   },
   {
    "duration": 21,
    "start_time": "2022-05-22T08:34:37.935Z"
   },
   {
    "duration": 595,
    "start_time": "2022-05-22T08:34:37.958Z"
   },
   {
    "duration": 620,
    "start_time": "2022-05-22T08:34:38.555Z"
   },
   {
    "duration": 338,
    "start_time": "2022-05-22T08:34:39.178Z"
   },
   {
    "duration": 348,
    "start_time": "2022-05-22T08:34:39.520Z"
   },
   {
    "duration": 376,
    "start_time": "2022-05-22T08:34:39.870Z"
   },
   {
    "duration": 29,
    "start_time": "2022-05-22T08:34:40.247Z"
   },
   {
    "duration": 22,
    "start_time": "2022-05-22T08:34:40.284Z"
   },
   {
    "duration": 6,
    "start_time": "2022-05-22T08:34:53.716Z"
   },
   {
    "duration": 173,
    "start_time": "2022-05-22T08:36:23.393Z"
   },
   {
    "duration": 11,
    "start_time": "2022-05-22T08:36:33.925Z"
   },
   {
    "duration": 11,
    "start_time": "2022-05-22T08:38:18.018Z"
   },
   {
    "duration": 7,
    "start_time": "2022-05-22T08:38:37.807Z"
   },
   {
    "duration": 14,
    "start_time": "2022-05-22T16:43:11.811Z"
   },
   {
    "duration": 7,
    "start_time": "2022-05-22T16:43:15.041Z"
   },
   {
    "duration": 1289,
    "start_time": "2022-05-22T16:45:17.652Z"
   },
   {
    "duration": 97,
    "start_time": "2022-05-22T16:45:18.944Z"
   },
   {
    "duration": 20,
    "start_time": "2022-05-22T16:45:19.043Z"
   },
   {
    "duration": 10,
    "start_time": "2022-05-22T16:45:19.065Z"
   },
   {
    "duration": 35,
    "start_time": "2022-05-22T16:45:19.078Z"
   },
   {
    "duration": 33,
    "start_time": "2022-05-22T16:45:19.116Z"
   },
   {
    "duration": 25,
    "start_time": "2022-05-22T16:45:19.152Z"
   },
   {
    "duration": 17,
    "start_time": "2022-05-22T16:45:19.180Z"
   },
   {
    "duration": 12,
    "start_time": "2022-05-22T16:45:19.200Z"
   },
   {
    "duration": 10,
    "start_time": "2022-05-22T16:45:19.214Z"
   },
   {
    "duration": 10,
    "start_time": "2022-05-22T16:45:19.226Z"
   },
   {
    "duration": 7,
    "start_time": "2022-05-22T16:45:19.237Z"
   },
   {
    "duration": 20,
    "start_time": "2022-05-22T16:45:19.246Z"
   },
   {
    "duration": 5,
    "start_time": "2022-05-22T16:45:19.269Z"
   },
   {
    "duration": 26,
    "start_time": "2022-05-22T16:45:19.276Z"
   },
   {
    "duration": 20,
    "start_time": "2022-05-22T16:45:19.304Z"
   },
   {
    "duration": 5,
    "start_time": "2022-05-22T16:45:19.325Z"
   },
   {
    "duration": 19,
    "start_time": "2022-05-22T16:45:19.365Z"
   },
   {
    "duration": 24,
    "start_time": "2022-05-22T16:45:19.386Z"
   },
   {
    "duration": 6,
    "start_time": "2022-05-22T16:45:19.411Z"
   },
   {
    "duration": 6,
    "start_time": "2022-05-22T16:45:19.419Z"
   },
   {
    "duration": 40,
    "start_time": "2022-05-22T16:45:19.427Z"
   },
   {
    "duration": 3,
    "start_time": "2022-05-22T16:45:19.470Z"
   },
   {
    "duration": 0,
    "start_time": "2022-05-22T16:45:19.476Z"
   },
   {
    "duration": 0,
    "start_time": "2022-05-22T16:45:19.478Z"
   },
   {
    "duration": 0,
    "start_time": "2022-05-22T16:45:19.479Z"
   },
   {
    "duration": 0,
    "start_time": "2022-05-22T16:45:19.481Z"
   },
   {
    "duration": 0,
    "start_time": "2022-05-22T16:45:19.482Z"
   },
   {
    "duration": 0,
    "start_time": "2022-05-22T16:45:19.484Z"
   },
   {
    "duration": 0,
    "start_time": "2022-05-22T16:45:19.485Z"
   },
   {
    "duration": 0,
    "start_time": "2022-05-22T16:45:19.486Z"
   },
   {
    "duration": 0,
    "start_time": "2022-05-22T16:45:19.487Z"
   },
   {
    "duration": 0,
    "start_time": "2022-05-22T16:45:19.488Z"
   },
   {
    "duration": 0,
    "start_time": "2022-05-22T16:45:19.489Z"
   },
   {
    "duration": 0,
    "start_time": "2022-05-22T16:45:19.490Z"
   },
   {
    "duration": 0,
    "start_time": "2022-05-22T16:45:19.491Z"
   },
   {
    "duration": 0,
    "start_time": "2022-05-22T16:45:19.493Z"
   },
   {
    "duration": 0,
    "start_time": "2022-05-22T16:45:19.494Z"
   },
   {
    "duration": 0,
    "start_time": "2022-05-22T16:45:19.495Z"
   },
   {
    "duration": 0,
    "start_time": "2022-05-22T16:45:19.496Z"
   },
   {
    "duration": 0,
    "start_time": "2022-05-22T16:45:19.498Z"
   },
   {
    "duration": 0,
    "start_time": "2022-05-22T16:45:19.499Z"
   },
   {
    "duration": 0,
    "start_time": "2022-05-22T16:45:19.500Z"
   },
   {
    "duration": 0,
    "start_time": "2022-05-22T16:45:19.501Z"
   },
   {
    "duration": 0,
    "start_time": "2022-05-22T16:45:19.502Z"
   },
   {
    "duration": 0,
    "start_time": "2022-05-22T16:45:19.503Z"
   },
   {
    "duration": 0,
    "start_time": "2022-05-22T16:45:19.565Z"
   },
   {
    "duration": 0,
    "start_time": "2022-05-22T16:45:19.566Z"
   },
   {
    "duration": 0,
    "start_time": "2022-05-22T16:45:19.567Z"
   },
   {
    "duration": 0,
    "start_time": "2022-05-22T16:45:19.568Z"
   },
   {
    "duration": 0,
    "start_time": "2022-05-22T16:45:19.569Z"
   },
   {
    "duration": 0,
    "start_time": "2022-05-22T16:45:19.570Z"
   },
   {
    "duration": 0,
    "start_time": "2022-05-22T16:45:19.571Z"
   },
   {
    "duration": 0,
    "start_time": "2022-05-22T16:45:19.573Z"
   },
   {
    "duration": 0,
    "start_time": "2022-05-22T16:45:19.574Z"
   },
   {
    "duration": 8,
    "start_time": "2022-05-22T16:48:27.947Z"
   },
   {
    "duration": 8,
    "start_time": "2022-05-22T16:48:41.570Z"
   },
   {
    "duration": 8,
    "start_time": "2022-05-22T16:50:28.364Z"
   },
   {
    "duration": 7,
    "start_time": "2022-05-22T16:50:33.515Z"
   },
   {
    "duration": 6,
    "start_time": "2022-05-22T16:50:41.166Z"
   },
   {
    "duration": 6,
    "start_time": "2022-05-22T16:54:48.543Z"
   },
   {
    "duration": 17,
    "start_time": "2022-05-22T16:55:01.658Z"
   },
   {
    "duration": 125,
    "start_time": "2022-05-22T16:55:19.113Z"
   },
   {
    "duration": 10,
    "start_time": "2022-05-22T16:55:25.112Z"
   },
   {
    "duration": 7,
    "start_time": "2022-05-22T16:55:40.656Z"
   },
   {
    "duration": 7,
    "start_time": "2022-05-22T17:00:06.003Z"
   },
   {
    "duration": 6,
    "start_time": "2022-05-22T17:00:59.952Z"
   },
   {
    "duration": 7,
    "start_time": "2022-05-22T17:01:10.297Z"
   },
   {
    "duration": 9,
    "start_time": "2022-05-22T17:04:29.944Z"
   },
   {
    "duration": 5,
    "start_time": "2022-05-22T17:04:37.007Z"
   },
   {
    "duration": 13,
    "start_time": "2022-05-22T17:06:37.483Z"
   },
   {
    "duration": 10,
    "start_time": "2022-05-22T17:06:43.872Z"
   },
   {
    "duration": 10,
    "start_time": "2022-05-22T17:06:47.801Z"
   },
   {
    "duration": 7,
    "start_time": "2022-05-22T17:08:10.139Z"
   },
   {
    "duration": 10,
    "start_time": "2022-05-22T17:09:24.942Z"
   },
   {
    "duration": 50,
    "start_time": "2022-05-22T17:13:05.598Z"
   },
   {
    "duration": 43,
    "start_time": "2022-05-22T17:13:16.140Z"
   },
   {
    "duration": 1445,
    "start_time": "2022-05-23T07:25:54.842Z"
   },
   {
    "duration": 206,
    "start_time": "2022-05-23T07:25:56.289Z"
   },
   {
    "duration": 14,
    "start_time": "2022-05-23T07:25:56.496Z"
   },
   {
    "duration": 5,
    "start_time": "2022-05-23T07:25:56.513Z"
   },
   {
    "duration": 35,
    "start_time": "2022-05-23T07:25:56.520Z"
   },
   {
    "duration": 14,
    "start_time": "2022-05-23T07:25:56.557Z"
   },
   {
    "duration": 6,
    "start_time": "2022-05-23T07:25:56.573Z"
   },
   {
    "duration": 6,
    "start_time": "2022-05-23T07:25:56.580Z"
   },
   {
    "duration": 6,
    "start_time": "2022-05-23T07:25:56.587Z"
   },
   {
    "duration": 23,
    "start_time": "2022-05-23T07:25:56.595Z"
   },
   {
    "duration": 13,
    "start_time": "2022-05-23T07:25:56.620Z"
   },
   {
    "duration": 4,
    "start_time": "2022-05-23T07:25:56.635Z"
   },
   {
    "duration": 9,
    "start_time": "2022-05-23T07:25:56.641Z"
   },
   {
    "duration": 8,
    "start_time": "2022-05-23T07:25:56.651Z"
   },
   {
    "duration": 25,
    "start_time": "2022-05-23T07:25:56.661Z"
   },
   {
    "duration": 42,
    "start_time": "2022-05-23T07:25:56.688Z"
   },
   {
    "duration": 14,
    "start_time": "2022-05-23T07:25:56.731Z"
   },
   {
    "duration": 18,
    "start_time": "2022-05-23T07:25:56.747Z"
   },
   {
    "duration": 23,
    "start_time": "2022-05-23T07:25:56.766Z"
   },
   {
    "duration": 25,
    "start_time": "2022-05-23T07:25:56.791Z"
   },
   {
    "duration": 10,
    "start_time": "2022-05-23T07:25:56.819Z"
   },
   {
    "duration": 154,
    "start_time": "2022-05-23T07:25:56.830Z"
   },
   {
    "duration": 0,
    "start_time": "2022-05-23T07:25:56.986Z"
   },
   {
    "duration": 0,
    "start_time": "2022-05-23T07:25:56.988Z"
   },
   {
    "duration": 0,
    "start_time": "2022-05-23T07:25:56.988Z"
   },
   {
    "duration": 0,
    "start_time": "2022-05-23T07:25:56.989Z"
   },
   {
    "duration": 0,
    "start_time": "2022-05-23T07:25:56.991Z"
   },
   {
    "duration": 0,
    "start_time": "2022-05-23T07:25:56.992Z"
   },
   {
    "duration": 0,
    "start_time": "2022-05-23T07:25:56.993Z"
   },
   {
    "duration": 0,
    "start_time": "2022-05-23T07:25:57.020Z"
   },
   {
    "duration": 0,
    "start_time": "2022-05-23T07:25:57.021Z"
   },
   {
    "duration": 0,
    "start_time": "2022-05-23T07:25:57.022Z"
   },
   {
    "duration": 0,
    "start_time": "2022-05-23T07:25:57.023Z"
   },
   {
    "duration": 0,
    "start_time": "2022-05-23T07:25:57.025Z"
   },
   {
    "duration": 0,
    "start_time": "2022-05-23T07:25:57.027Z"
   },
   {
    "duration": 0,
    "start_time": "2022-05-23T07:25:57.028Z"
   },
   {
    "duration": 0,
    "start_time": "2022-05-23T07:25:57.029Z"
   },
   {
    "duration": 0,
    "start_time": "2022-05-23T07:25:57.030Z"
   },
   {
    "duration": 0,
    "start_time": "2022-05-23T07:25:57.032Z"
   },
   {
    "duration": 0,
    "start_time": "2022-05-23T07:25:57.033Z"
   },
   {
    "duration": 0,
    "start_time": "2022-05-23T07:25:57.034Z"
   },
   {
    "duration": 0,
    "start_time": "2022-05-23T07:25:57.037Z"
   },
   {
    "duration": 0,
    "start_time": "2022-05-23T07:25:57.038Z"
   },
   {
    "duration": 0,
    "start_time": "2022-05-23T07:25:57.039Z"
   },
   {
    "duration": 0,
    "start_time": "2022-05-23T07:25:57.041Z"
   },
   {
    "duration": 0,
    "start_time": "2022-05-23T07:25:57.042Z"
   },
   {
    "duration": 0,
    "start_time": "2022-05-23T07:25:57.044Z"
   },
   {
    "duration": 0,
    "start_time": "2022-05-23T07:25:57.045Z"
   },
   {
    "duration": 0,
    "start_time": "2022-05-23T07:25:57.046Z"
   },
   {
    "duration": 0,
    "start_time": "2022-05-23T07:25:57.048Z"
   },
   {
    "duration": 0,
    "start_time": "2022-05-23T07:25:57.049Z"
   },
   {
    "duration": 0,
    "start_time": "2022-05-23T07:25:57.051Z"
   },
   {
    "duration": 0,
    "start_time": "2022-05-23T07:25:57.052Z"
   },
   {
    "duration": 0,
    "start_time": "2022-05-23T07:25:57.054Z"
   },
   {
    "duration": 5,
    "start_time": "2022-05-23T07:32:21.035Z"
   },
   {
    "duration": 5,
    "start_time": "2022-05-23T07:33:00.206Z"
   },
   {
    "duration": 5,
    "start_time": "2022-05-23T07:35:02.325Z"
   },
   {
    "duration": 5,
    "start_time": "2022-05-23T07:35:10.388Z"
   },
   {
    "duration": 1262,
    "start_time": "2022-05-23T07:39:31.197Z"
   },
   {
    "duration": 69,
    "start_time": "2022-05-23T07:39:32.461Z"
   },
   {
    "duration": 14,
    "start_time": "2022-05-23T07:39:32.532Z"
   },
   {
    "duration": 3,
    "start_time": "2022-05-23T07:39:32.548Z"
   },
   {
    "duration": 21,
    "start_time": "2022-05-23T07:39:32.553Z"
   },
   {
    "duration": 15,
    "start_time": "2022-05-23T07:39:32.576Z"
   },
   {
    "duration": 22,
    "start_time": "2022-05-23T07:39:32.593Z"
   },
   {
    "duration": 4,
    "start_time": "2022-05-23T07:39:32.617Z"
   },
   {
    "duration": 6,
    "start_time": "2022-05-23T07:39:32.623Z"
   },
   {
    "duration": 11,
    "start_time": "2022-05-23T07:39:32.631Z"
   },
   {
    "duration": 10,
    "start_time": "2022-05-23T07:39:32.644Z"
   },
   {
    "duration": 6,
    "start_time": "2022-05-23T07:39:32.656Z"
   },
   {
    "duration": 6,
    "start_time": "2022-05-23T07:39:32.664Z"
   },
   {
    "duration": 5,
    "start_time": "2022-05-23T07:39:32.673Z"
   },
   {
    "duration": 51,
    "start_time": "2022-05-23T07:39:32.680Z"
   },
   {
    "duration": 16,
    "start_time": "2022-05-23T07:39:32.733Z"
   },
   {
    "duration": 4,
    "start_time": "2022-05-23T07:39:32.751Z"
   },
   {
    "duration": 22,
    "start_time": "2022-05-23T07:39:32.757Z"
   },
   {
    "duration": 45,
    "start_time": "2022-05-23T07:39:32.781Z"
   },
   {
    "duration": 5,
    "start_time": "2022-05-23T07:39:32.828Z"
   },
   {
    "duration": 8,
    "start_time": "2022-05-23T07:39:32.834Z"
   },
   {
    "duration": 4,
    "start_time": "2022-05-23T07:39:32.843Z"
   },
   {
    "duration": 16,
    "start_time": "2022-05-23T07:39:32.848Z"
   },
   {
    "duration": 398,
    "start_time": "2022-05-23T07:39:32.866Z"
   },
   {
    "duration": 6,
    "start_time": "2022-05-23T07:39:33.266Z"
   },
   {
    "duration": 14,
    "start_time": "2022-05-23T07:39:33.273Z"
   },
   {
    "duration": 24,
    "start_time": "2022-05-23T07:39:33.289Z"
   },
   {
    "duration": 192,
    "start_time": "2022-05-23T07:39:33.314Z"
   },
   {
    "duration": 218,
    "start_time": "2022-05-23T07:39:33.507Z"
   },
   {
    "duration": 492,
    "start_time": "2022-05-23T07:39:33.726Z"
   },
   {
    "duration": 136,
    "start_time": "2022-05-23T07:39:34.220Z"
   },
   {
    "duration": 9,
    "start_time": "2022-05-23T07:39:34.357Z"
   },
   {
    "duration": 642,
    "start_time": "2022-05-23T07:39:34.368Z"
   },
   {
    "duration": 14,
    "start_time": "2022-05-23T07:39:35.012Z"
   },
   {
    "duration": 7,
    "start_time": "2022-05-23T07:39:35.027Z"
   },
   {
    "duration": 27,
    "start_time": "2022-05-23T07:39:35.036Z"
   },
   {
    "duration": 300,
    "start_time": "2022-05-23T07:39:35.064Z"
   },
   {
    "duration": 383,
    "start_time": "2022-05-23T07:39:35.366Z"
   },
   {
    "duration": 11,
    "start_time": "2022-05-23T07:39:35.751Z"
   },
   {
    "duration": 4,
    "start_time": "2022-05-23T07:39:35.764Z"
   },
   {
    "duration": 234,
    "start_time": "2022-05-23T07:39:35.772Z"
   },
   {
    "duration": 220,
    "start_time": "2022-05-23T07:39:36.007Z"
   },
   {
    "duration": 7,
    "start_time": "2022-05-23T07:39:36.228Z"
   },
   {
    "duration": 16,
    "start_time": "2022-05-23T07:39:36.236Z"
   },
   {
    "duration": 37,
    "start_time": "2022-05-23T07:39:36.254Z"
   },
   {
    "duration": 29,
    "start_time": "2022-05-23T07:39:36.292Z"
   },
   {
    "duration": 12,
    "start_time": "2022-05-23T07:39:36.322Z"
   },
   {
    "duration": 442,
    "start_time": "2022-05-23T07:39:36.336Z"
   },
   {
    "duration": 440,
    "start_time": "2022-05-23T07:39:36.780Z"
   },
   {
    "duration": 231,
    "start_time": "2022-05-23T07:39:37.222Z"
   },
   {
    "duration": 205,
    "start_time": "2022-05-23T07:39:37.455Z"
   },
   {
    "duration": 315,
    "start_time": "2022-05-23T07:39:37.662Z"
   },
   {
    "duration": 11,
    "start_time": "2022-05-23T07:39:37.978Z"
   },
   {
    "duration": 22,
    "start_time": "2022-05-23T07:39:37.990Z"
   },
   {
    "duration": 24,
    "start_time": "2022-05-23T07:44:46.779Z"
   },
   {
    "duration": 25,
    "start_time": "2022-05-23T07:45:07.141Z"
   },
   {
    "duration": 8,
    "start_time": "2022-05-23T07:45:45.873Z"
   },
   {
    "duration": 205,
    "start_time": "2022-05-23T07:46:07.619Z"
   },
   {
    "duration": 5,
    "start_time": "2022-05-23T07:49:28.164Z"
   },
   {
    "duration": 24,
    "start_time": "2022-05-23T07:49:48.430Z"
   },
   {
    "duration": 304,
    "start_time": "2022-05-23T07:51:59.192Z"
   },
   {
    "duration": 218,
    "start_time": "2022-05-23T07:52:04.610Z"
   },
   {
    "duration": 238,
    "start_time": "2022-05-23T07:52:34.178Z"
   },
   {
    "duration": 514,
    "start_time": "2022-05-23T07:53:11.306Z"
   },
   {
    "duration": 490,
    "start_time": "2022-05-23T07:53:35.009Z"
   },
   {
    "duration": 433,
    "start_time": "2022-05-23T07:54:07.968Z"
   },
   {
    "duration": 390,
    "start_time": "2022-05-23T08:04:07.937Z"
   },
   {
    "duration": 10,
    "start_time": "2022-05-23T08:14:48.238Z"
   },
   {
    "duration": 548,
    "start_time": "2022-05-23T08:15:11.427Z"
   },
   {
    "duration": 23,
    "start_time": "2022-05-23T08:25:58.101Z"
   },
   {
    "duration": 219,
    "start_time": "2022-05-23T08:26:11.845Z"
   },
   {
    "duration": 12,
    "start_time": "2022-05-23T08:26:26.041Z"
   },
   {
    "duration": 239,
    "start_time": "2022-05-23T08:26:36.529Z"
   },
   {
    "duration": 221,
    "start_time": "2022-05-23T08:26:59.793Z"
   },
   {
    "duration": 255,
    "start_time": "2022-05-23T08:28:17.051Z"
   },
   {
    "duration": 264,
    "start_time": "2022-05-23T08:28:32.081Z"
   },
   {
    "duration": 215,
    "start_time": "2022-05-23T08:28:39.625Z"
   },
   {
    "duration": 233,
    "start_time": "2022-05-23T08:28:44.511Z"
   },
   {
    "duration": 25,
    "start_time": "2022-05-23T08:29:29.146Z"
   },
   {
    "duration": 413,
    "start_time": "2022-05-23T08:29:42.991Z"
   },
   {
    "duration": 398,
    "start_time": "2022-05-23T08:31:23.768Z"
   },
   {
    "duration": 409,
    "start_time": "2022-05-23T08:32:14.089Z"
   },
   {
    "duration": 438,
    "start_time": "2022-05-23T08:32:47.511Z"
   },
   {
    "duration": 28,
    "start_time": "2022-05-23T08:37:15.726Z"
   },
   {
    "duration": 222,
    "start_time": "2022-05-23T08:37:28.461Z"
   },
   {
    "duration": 8,
    "start_time": "2022-05-23T08:37:36.277Z"
   },
   {
    "duration": 266,
    "start_time": "2022-05-23T08:38:06.530Z"
   },
   {
    "duration": 13,
    "start_time": "2022-05-23T08:38:30.571Z"
   },
   {
    "duration": 4,
    "start_time": "2022-05-23T08:38:42.565Z"
   },
   {
    "duration": 299,
    "start_time": "2022-05-23T08:39:26.749Z"
   },
   {
    "duration": 271,
    "start_time": "2022-05-23T08:42:40.341Z"
   },
   {
    "duration": 295,
    "start_time": "2022-05-23T08:42:51.277Z"
   },
   {
    "duration": 311,
    "start_time": "2022-05-23T08:43:33.909Z"
   },
   {
    "duration": 268,
    "start_time": "2022-05-23T08:46:16.804Z"
   },
   {
    "duration": 296,
    "start_time": "2022-05-23T08:46:31.916Z"
   },
   {
    "duration": 11,
    "start_time": "2022-05-23T08:47:41.358Z"
   },
   {
    "duration": 279,
    "start_time": "2022-05-23T08:47:52.716Z"
   },
   {
    "duration": 425,
    "start_time": "2022-05-23T08:47:56.531Z"
   },
   {
    "duration": 12,
    "start_time": "2022-05-23T08:54:20.667Z"
   },
   {
    "duration": 5,
    "start_time": "2022-05-23T08:54:28.373Z"
   },
   {
    "duration": 6,
    "start_time": "2022-05-23T08:54:44.926Z"
   },
   {
    "duration": 239,
    "start_time": "2022-05-23T08:54:59.471Z"
   },
   {
    "duration": 233,
    "start_time": "2022-05-23T08:55:21.973Z"
   },
   {
    "duration": 7,
    "start_time": "2022-05-23T08:56:01.771Z"
   },
   {
    "duration": 13,
    "start_time": "2022-05-23T08:56:02.393Z"
   },
   {
    "duration": 7,
    "start_time": "2022-05-23T08:56:06.668Z"
   },
   {
    "duration": 13,
    "start_time": "2022-05-23T08:56:50.908Z"
   },
   {
    "duration": 274,
    "start_time": "2022-05-23T08:58:57.521Z"
   },
   {
    "duration": 64,
    "start_time": "2022-05-23T08:59:31.573Z"
   },
   {
    "duration": 11,
    "start_time": "2022-05-23T08:59:35.524Z"
   },
   {
    "duration": 10,
    "start_time": "2022-05-23T08:59:54.799Z"
   },
   {
    "duration": 298,
    "start_time": "2022-05-23T09:01:28.374Z"
   },
   {
    "duration": 290,
    "start_time": "2022-05-23T09:01:37.679Z"
   },
   {
    "duration": 311,
    "start_time": "2022-05-23T09:02:33.875Z"
   },
   {
    "duration": 284,
    "start_time": "2022-05-23T09:03:26.342Z"
   },
   {
    "duration": 273,
    "start_time": "2022-05-23T09:04:07.504Z"
   },
   {
    "duration": 439,
    "start_time": "2022-05-23T09:04:32.536Z"
   },
   {
    "duration": 12,
    "start_time": "2022-05-23T09:08:04.286Z"
   },
   {
    "duration": 15,
    "start_time": "2022-05-23T09:08:37.269Z"
   },
   {
    "duration": 11,
    "start_time": "2022-05-23T09:09:52.894Z"
   },
   {
    "duration": 12,
    "start_time": "2022-05-23T09:10:29.702Z"
   },
   {
    "duration": 13,
    "start_time": "2022-05-23T09:11:01.138Z"
   },
   {
    "duration": 12,
    "start_time": "2022-05-23T09:14:04.180Z"
   },
   {
    "duration": 411,
    "start_time": "2022-05-23T09:18:48.880Z"
   },
   {
    "duration": 483,
    "start_time": "2022-05-23T09:19:01.084Z"
   },
   {
    "duration": 172,
    "start_time": "2022-05-23T09:36:16.255Z"
   },
   {
    "duration": 177,
    "start_time": "2022-05-23T09:36:23.256Z"
   },
   {
    "duration": 177,
    "start_time": "2022-05-23T09:36:24.611Z"
   },
   {
    "duration": 59,
    "start_time": "2022-05-23T09:37:28.122Z"
   },
   {
    "duration": 179,
    "start_time": "2022-05-23T09:37:40.690Z"
   },
   {
    "duration": 239,
    "start_time": "2022-05-23T09:37:51.484Z"
   },
   {
    "duration": 10,
    "start_time": "2022-05-23T09:37:58.778Z"
   },
   {
    "duration": 10,
    "start_time": "2022-05-23T09:38:08.094Z"
   },
   {
    "duration": 211,
    "start_time": "2022-05-23T09:38:38.254Z"
   },
   {
    "duration": 65,
    "start_time": "2022-05-23T09:39:37.696Z"
   },
   {
    "duration": 179,
    "start_time": "2022-05-23T09:39:50.472Z"
   },
   {
    "duration": 190,
    "start_time": "2022-05-23T09:40:11.049Z"
   },
   {
    "duration": 183,
    "start_time": "2022-05-23T09:45:07.888Z"
   },
   {
    "duration": 9,
    "start_time": "2022-05-23T09:46:23.519Z"
   },
   {
    "duration": 9,
    "start_time": "2022-05-23T09:47:05.406Z"
   },
   {
    "duration": 25,
    "start_time": "2022-05-23T09:57:28.122Z"
   },
   {
    "duration": 1129,
    "start_time": "2022-05-23T09:58:44.914Z"
   },
   {
    "duration": 71,
    "start_time": "2022-05-23T09:58:46.044Z"
   },
   {
    "duration": 13,
    "start_time": "2022-05-23T09:58:46.117Z"
   },
   {
    "duration": 3,
    "start_time": "2022-05-23T09:58:46.132Z"
   },
   {
    "duration": 20,
    "start_time": "2022-05-23T09:58:46.136Z"
   },
   {
    "duration": 13,
    "start_time": "2022-05-23T09:58:46.158Z"
   },
   {
    "duration": 8,
    "start_time": "2022-05-23T09:58:46.173Z"
   },
   {
    "duration": 29,
    "start_time": "2022-05-23T09:58:46.183Z"
   },
   {
    "duration": 4,
    "start_time": "2022-05-23T09:58:46.214Z"
   },
   {
    "duration": 8,
    "start_time": "2022-05-23T09:58:46.221Z"
   },
   {
    "duration": 7,
    "start_time": "2022-05-23T09:58:46.231Z"
   },
   {
    "duration": 7,
    "start_time": "2022-05-23T09:58:46.239Z"
   },
   {
    "duration": 8,
    "start_time": "2022-05-23T09:58:46.247Z"
   },
   {
    "duration": 7,
    "start_time": "2022-05-23T09:58:46.256Z"
   },
   {
    "duration": 48,
    "start_time": "2022-05-23T09:58:46.264Z"
   },
   {
    "duration": 16,
    "start_time": "2022-05-23T09:58:46.314Z"
   },
   {
    "duration": 4,
    "start_time": "2022-05-23T09:58:46.332Z"
   },
   {
    "duration": 22,
    "start_time": "2022-05-23T09:58:46.337Z"
   },
   {
    "duration": 22,
    "start_time": "2022-05-23T09:58:46.361Z"
   },
   {
    "duration": 5,
    "start_time": "2022-05-23T09:58:46.384Z"
   },
   {
    "duration": 5,
    "start_time": "2022-05-23T09:58:46.412Z"
   },
   {
    "duration": 156,
    "start_time": "2022-05-23T09:58:46.418Z"
   },
   {
    "duration": 23,
    "start_time": "2022-05-23T09:58:46.575Z"
   },
   {
    "duration": 24,
    "start_time": "2022-05-23T09:58:46.599Z"
   },
   {
    "duration": 392,
    "start_time": "2022-05-23T09:58:46.625Z"
   },
   {
    "duration": 6,
    "start_time": "2022-05-23T09:58:47.019Z"
   },
   {
    "duration": 14,
    "start_time": "2022-05-23T09:58:47.026Z"
   },
   {
    "duration": 4,
    "start_time": "2022-05-23T09:58:47.044Z"
   },
   {
    "duration": 235,
    "start_time": "2022-05-23T09:58:47.050Z"
   },
   {
    "duration": 224,
    "start_time": "2022-05-23T09:58:47.288Z"
   },
   {
    "duration": 599,
    "start_time": "2022-05-23T09:58:47.514Z"
   },
   {
    "duration": 572,
    "start_time": "2022-05-23T09:58:48.115Z"
   },
   {
    "duration": 32,
    "start_time": "2022-05-23T09:58:48.689Z"
   },
   {
    "duration": 113,
    "start_time": "2022-05-23T09:58:48.722Z"
   },
   {
    "duration": 7,
    "start_time": "2022-05-23T09:58:48.837Z"
   },
   {
    "duration": 297,
    "start_time": "2022-05-23T09:58:48.846Z"
   },
   {
    "duration": 317,
    "start_time": "2022-05-23T09:58:49.145Z"
   },
   {
    "duration": 12,
    "start_time": "2022-05-23T09:58:49.463Z"
   },
   {
    "duration": 15,
    "start_time": "2022-05-23T09:58:49.477Z"
   },
   {
    "duration": 307,
    "start_time": "2022-05-23T09:58:49.494Z"
   },
   {
    "duration": 228,
    "start_time": "2022-05-23T09:58:49.803Z"
   },
   {
    "duration": 6,
    "start_time": "2022-05-23T09:58:50.032Z"
   },
   {
    "duration": 16,
    "start_time": "2022-05-23T09:58:50.040Z"
   },
   {
    "duration": 66,
    "start_time": "2022-05-23T09:58:50.058Z"
   },
   {
    "duration": 12,
    "start_time": "2022-05-23T09:58:50.125Z"
   },
   {
    "duration": 14,
    "start_time": "2022-05-23T09:58:50.138Z"
   },
   {
    "duration": 15,
    "start_time": "2022-05-23T09:58:50.153Z"
   },
   {
    "duration": 434,
    "start_time": "2022-05-23T09:58:50.169Z"
   },
   {
    "duration": 453,
    "start_time": "2022-05-23T09:58:50.605Z"
   },
   {
    "duration": 211,
    "start_time": "2022-05-23T09:58:51.060Z"
   },
   {
    "duration": 224,
    "start_time": "2022-05-23T09:58:51.273Z"
   },
   {
    "duration": 244,
    "start_time": "2022-05-23T09:58:51.503Z"
   },
   {
    "duration": 10,
    "start_time": "2022-05-23T09:58:51.750Z"
   },
   {
    "duration": 12,
    "start_time": "2022-05-23T09:58:51.762Z"
   },
   {
    "duration": 1269,
    "start_time": "2022-05-23T18:12:39.495Z"
   },
   {
    "duration": 197,
    "start_time": "2022-05-23T18:12:40.766Z"
   },
   {
    "duration": 15,
    "start_time": "2022-05-23T18:12:40.964Z"
   },
   {
    "duration": 3,
    "start_time": "2022-05-23T18:12:40.981Z"
   },
   {
    "duration": 22,
    "start_time": "2022-05-23T18:12:40.985Z"
   },
   {
    "duration": 12,
    "start_time": "2022-05-23T18:12:41.009Z"
   },
   {
    "duration": 6,
    "start_time": "2022-05-23T18:12:41.023Z"
   },
   {
    "duration": 5,
    "start_time": "2022-05-23T18:12:41.030Z"
   },
   {
    "duration": 6,
    "start_time": "2022-05-23T18:12:41.037Z"
   },
   {
    "duration": 6,
    "start_time": "2022-05-23T18:12:41.045Z"
   },
   {
    "duration": 26,
    "start_time": "2022-05-23T18:12:41.053Z"
   },
   {
    "duration": 8,
    "start_time": "2022-05-23T18:12:41.081Z"
   },
   {
    "duration": 7,
    "start_time": "2022-05-23T18:12:41.090Z"
   },
   {
    "duration": 6,
    "start_time": "2022-05-23T18:12:41.099Z"
   },
   {
    "duration": 22,
    "start_time": "2022-05-23T18:12:41.107Z"
   },
   {
    "duration": 16,
    "start_time": "2022-05-23T18:12:41.131Z"
   },
   {
    "duration": 27,
    "start_time": "2022-05-23T18:12:41.148Z"
   },
   {
    "duration": 17,
    "start_time": "2022-05-23T18:12:41.176Z"
   },
   {
    "duration": 20,
    "start_time": "2022-05-23T18:12:41.194Z"
   },
   {
    "duration": 5,
    "start_time": "2022-05-23T18:12:41.215Z"
   },
   {
    "duration": 8,
    "start_time": "2022-05-23T18:12:41.221Z"
   },
   {
    "duration": 230,
    "start_time": "2022-05-23T18:12:41.230Z"
   },
   {
    "duration": 33,
    "start_time": "2022-05-23T18:12:41.462Z"
   },
   {
    "duration": 14,
    "start_time": "2022-05-23T18:12:41.497Z"
   },
   {
    "duration": 341,
    "start_time": "2022-05-23T18:12:41.513Z"
   },
   {
    "duration": 5,
    "start_time": "2022-05-23T18:12:41.855Z"
   },
   {
    "duration": 21,
    "start_time": "2022-05-23T18:12:41.862Z"
   },
   {
    "duration": 4,
    "start_time": "2022-05-23T18:12:41.886Z"
   },
   {
    "duration": 210,
    "start_time": "2022-05-23T18:12:41.892Z"
   },
   {
    "duration": 232,
    "start_time": "2022-05-23T18:12:42.103Z"
   },
   {
    "duration": 486,
    "start_time": "2022-05-23T18:12:42.336Z"
   },
   {
    "duration": 436,
    "start_time": "2022-05-23T18:12:42.823Z"
   },
   {
    "duration": 33,
    "start_time": "2022-05-23T18:12:43.260Z"
   },
   {
    "duration": 132,
    "start_time": "2022-05-23T18:12:43.295Z"
   },
   {
    "duration": 8,
    "start_time": "2022-05-23T18:12:43.429Z"
   },
   {
    "duration": 305,
    "start_time": "2022-05-23T18:12:43.438Z"
   },
   {
    "duration": 397,
    "start_time": "2022-05-23T18:12:43.745Z"
   },
   {
    "duration": 11,
    "start_time": "2022-05-23T18:12:44.144Z"
   },
   {
    "duration": 5,
    "start_time": "2022-05-23T18:12:44.157Z"
   },
   {
    "duration": 251,
    "start_time": "2022-05-23T18:12:44.176Z"
   },
   {
    "duration": 233,
    "start_time": "2022-05-23T18:12:44.429Z"
   },
   {
    "duration": 13,
    "start_time": "2022-05-23T18:12:44.664Z"
   },
   {
    "duration": 20,
    "start_time": "2022-05-23T18:12:44.678Z"
   },
   {
    "duration": 48,
    "start_time": "2022-05-23T18:12:44.700Z"
   },
   {
    "duration": 28,
    "start_time": "2022-05-23T18:12:44.750Z"
   },
   {
    "duration": 19,
    "start_time": "2022-05-23T18:12:44.780Z"
   },
   {
    "duration": 13,
    "start_time": "2022-05-23T18:12:44.800Z"
   },
   {
    "duration": 466,
    "start_time": "2022-05-23T18:12:44.814Z"
   },
   {
    "duration": 424,
    "start_time": "2022-05-23T18:12:45.282Z"
   },
   {
    "duration": 194,
    "start_time": "2022-05-23T18:12:45.708Z"
   },
   {
    "duration": 191,
    "start_time": "2022-05-23T18:12:45.903Z"
   },
   {
    "duration": 184,
    "start_time": "2022-05-23T18:12:46.096Z"
   },
   {
    "duration": 8,
    "start_time": "2022-05-23T18:12:46.281Z"
   },
   {
    "duration": 12,
    "start_time": "2022-05-23T18:12:46.291Z"
   },
   {
    "duration": 23,
    "start_time": "2022-05-23T18:48:01.666Z"
   },
   {
    "duration": 165,
    "start_time": "2022-05-23T18:48:09.873Z"
   },
   {
    "duration": 183,
    "start_time": "2022-05-23T18:50:29.554Z"
   },
   {
    "duration": 21,
    "start_time": "2022-05-23T18:50:37.482Z"
   },
   {
    "duration": 4,
    "start_time": "2022-05-23T18:50:45.685Z"
   },
   {
    "duration": 60,
    "start_time": "2022-05-24T06:08:02.960Z"
   },
   {
    "duration": 1291,
    "start_time": "2022-05-24T06:08:13.185Z"
   },
   {
    "duration": 112,
    "start_time": "2022-05-24T06:08:14.479Z"
   },
   {
    "duration": 15,
    "start_time": "2022-05-24T06:08:14.593Z"
   },
   {
    "duration": 3,
    "start_time": "2022-05-24T06:08:14.610Z"
   },
   {
    "duration": 22,
    "start_time": "2022-05-24T06:08:14.614Z"
   },
   {
    "duration": 14,
    "start_time": "2022-05-24T06:08:14.638Z"
   },
   {
    "duration": 7,
    "start_time": "2022-05-24T06:08:14.654Z"
   },
   {
    "duration": 5,
    "start_time": "2022-05-24T06:08:14.662Z"
   },
   {
    "duration": 6,
    "start_time": "2022-05-24T06:08:14.668Z"
   },
   {
    "duration": 11,
    "start_time": "2022-05-24T06:08:14.676Z"
   },
   {
    "duration": 7,
    "start_time": "2022-05-24T06:08:14.689Z"
   },
   {
    "duration": 26,
    "start_time": "2022-05-24T06:08:14.698Z"
   },
   {
    "duration": 4,
    "start_time": "2022-05-24T06:08:14.726Z"
   },
   {
    "duration": 10,
    "start_time": "2022-05-24T06:08:14.732Z"
   },
   {
    "duration": 22,
    "start_time": "2022-05-24T06:08:14.743Z"
   },
   {
    "duration": 16,
    "start_time": "2022-05-24T06:08:14.766Z"
   },
   {
    "duration": 4,
    "start_time": "2022-05-24T06:08:14.783Z"
   },
   {
    "duration": 36,
    "start_time": "2022-05-24T06:08:14.788Z"
   },
   {
    "duration": 19,
    "start_time": "2022-05-24T06:08:14.825Z"
   },
   {
    "duration": 5,
    "start_time": "2022-05-24T06:08:14.846Z"
   },
   {
    "duration": 7,
    "start_time": "2022-05-24T06:08:14.853Z"
   },
   {
    "duration": 174,
    "start_time": "2022-05-24T06:08:14.862Z"
   },
   {
    "duration": 25,
    "start_time": "2022-05-24T06:08:15.037Z"
   },
   {
    "duration": 18,
    "start_time": "2022-05-24T06:08:15.064Z"
   },
   {
    "duration": 416,
    "start_time": "2022-05-24T06:08:15.084Z"
   },
   {
    "duration": 6,
    "start_time": "2022-05-24T06:08:15.501Z"
   },
   {
    "duration": 14,
    "start_time": "2022-05-24T06:08:15.523Z"
   },
   {
    "duration": 4,
    "start_time": "2022-05-24T06:08:15.542Z"
   },
   {
    "duration": 221,
    "start_time": "2022-05-24T06:08:15.548Z"
   },
   {
    "duration": 208,
    "start_time": "2022-05-24T06:08:15.770Z"
   },
   {
    "duration": 456,
    "start_time": "2022-05-24T06:08:15.979Z"
   },
   {
    "duration": 405,
    "start_time": "2022-05-24T06:08:16.437Z"
   },
   {
    "duration": 23,
    "start_time": "2022-05-24T06:08:16.844Z"
   },
   {
    "duration": 127,
    "start_time": "2022-05-24T06:08:16.868Z"
   },
   {
    "duration": 9,
    "start_time": "2022-05-24T06:08:16.997Z"
   },
   {
    "duration": 318,
    "start_time": "2022-05-24T06:08:17.008Z"
   },
   {
    "duration": 322,
    "start_time": "2022-05-24T06:08:17.328Z"
   },
   {
    "duration": 11,
    "start_time": "2022-05-24T06:08:17.652Z"
   },
   {
    "duration": 6,
    "start_time": "2022-05-24T06:08:17.665Z"
   },
   {
    "duration": 332,
    "start_time": "2022-05-24T06:08:17.672Z"
   },
   {
    "duration": 224,
    "start_time": "2022-05-24T06:08:18.006Z"
   },
   {
    "duration": 6,
    "start_time": "2022-05-24T06:08:18.232Z"
   },
   {
    "duration": 17,
    "start_time": "2022-05-24T06:08:18.239Z"
   },
   {
    "duration": 44,
    "start_time": "2022-05-24T06:08:18.257Z"
   },
   {
    "duration": 29,
    "start_time": "2022-05-24T06:08:18.303Z"
   },
   {
    "duration": 12,
    "start_time": "2022-05-24T06:08:18.334Z"
   },
   {
    "duration": 11,
    "start_time": "2022-05-24T06:08:18.347Z"
   },
   {
    "duration": 460,
    "start_time": "2022-05-24T06:08:18.359Z"
   },
   {
    "duration": 492,
    "start_time": "2022-05-24T06:08:18.822Z"
   },
   {
    "duration": 200,
    "start_time": "2022-05-24T06:08:19.315Z"
   },
   {
    "duration": 207,
    "start_time": "2022-05-24T06:08:19.516Z"
   },
   {
    "duration": 191,
    "start_time": "2022-05-24T06:08:19.724Z"
   },
   {
    "duration": 10,
    "start_time": "2022-05-24T06:08:19.917Z"
   },
   {
    "duration": 22,
    "start_time": "2022-05-24T06:08:19.929Z"
   },
   {
    "duration": 194,
    "start_time": "2022-05-24T06:20:45.482Z"
   },
   {
    "duration": 196,
    "start_time": "2022-05-24T06:20:57.022Z"
   },
   {
    "duration": 24,
    "start_time": "2022-05-24T06:21:51.141Z"
   },
   {
    "duration": 56,
    "start_time": "2022-05-24T13:23:25.317Z"
   },
   {
    "duration": 6,
    "start_time": "2022-05-24T13:23:32.773Z"
   },
   {
    "duration": 6,
    "start_time": "2022-05-24T13:23:34.869Z"
   },
   {
    "duration": 7,
    "start_time": "2022-05-24T13:23:35.420Z"
   },
   {
    "duration": 1293,
    "start_time": "2022-05-24T13:23:41.127Z"
   },
   {
    "duration": 206,
    "start_time": "2022-05-24T13:23:42.422Z"
   },
   {
    "duration": 16,
    "start_time": "2022-05-24T13:23:42.629Z"
   },
   {
    "duration": 3,
    "start_time": "2022-05-24T13:23:42.647Z"
   },
   {
    "duration": 20,
    "start_time": "2022-05-24T13:23:42.651Z"
   },
   {
    "duration": 31,
    "start_time": "2022-05-24T13:23:42.673Z"
   },
   {
    "duration": 6,
    "start_time": "2022-05-24T13:23:42.706Z"
   },
   {
    "duration": 6,
    "start_time": "2022-05-24T13:23:42.714Z"
   },
   {
    "duration": 9,
    "start_time": "2022-05-24T13:23:42.721Z"
   },
   {
    "duration": 12,
    "start_time": "2022-05-24T13:23:42.733Z"
   },
   {
    "duration": 9,
    "start_time": "2022-05-24T13:23:42.746Z"
   },
   {
    "duration": 7,
    "start_time": "2022-05-24T13:23:42.758Z"
   },
   {
    "duration": 8,
    "start_time": "2022-05-24T13:23:42.767Z"
   },
   {
    "duration": 27,
    "start_time": "2022-05-24T13:23:42.776Z"
   },
   {
    "duration": 23,
    "start_time": "2022-05-24T13:23:42.805Z"
   },
   {
    "duration": 17,
    "start_time": "2022-05-24T13:23:42.830Z"
   },
   {
    "duration": 4,
    "start_time": "2022-05-24T13:23:42.849Z"
   },
   {
    "duration": 21,
    "start_time": "2022-05-24T13:23:42.854Z"
   },
   {
    "duration": 44,
    "start_time": "2022-05-24T13:23:42.877Z"
   },
   {
    "duration": 5,
    "start_time": "2022-05-24T13:23:42.923Z"
   },
   {
    "duration": 11,
    "start_time": "2022-05-24T13:23:42.929Z"
   },
   {
    "duration": 163,
    "start_time": "2022-05-24T13:23:42.941Z"
   },
   {
    "duration": 25,
    "start_time": "2022-05-24T13:23:43.105Z"
   },
   {
    "duration": 25,
    "start_time": "2022-05-24T13:23:43.132Z"
   },
   {
    "duration": 399,
    "start_time": "2022-05-24T13:23:43.159Z"
   },
   {
    "duration": 5,
    "start_time": "2022-05-24T13:23:43.560Z"
   },
   {
    "duration": 27,
    "start_time": "2022-05-24T13:23:43.567Z"
   },
   {
    "duration": 4,
    "start_time": "2022-05-24T13:23:43.601Z"
   },
   {
    "duration": 209,
    "start_time": "2022-05-24T13:23:43.607Z"
   },
   {
    "duration": 221,
    "start_time": "2022-05-24T13:23:43.817Z"
   },
   {
    "duration": 450,
    "start_time": "2022-05-24T13:23:44.039Z"
   },
   {
    "duration": 433,
    "start_time": "2022-05-24T13:23:44.490Z"
   },
   {
    "duration": 28,
    "start_time": "2022-05-24T13:23:44.924Z"
   },
   {
    "duration": 132,
    "start_time": "2022-05-24T13:23:44.954Z"
   },
   {
    "duration": 8,
    "start_time": "2022-05-24T13:23:45.088Z"
   },
   {
    "duration": 295,
    "start_time": "2022-05-24T13:23:45.097Z"
   },
   {
    "duration": 324,
    "start_time": "2022-05-24T13:23:45.394Z"
   },
   {
    "duration": 12,
    "start_time": "2022-05-24T13:23:45.720Z"
   },
   {
    "duration": 6,
    "start_time": "2022-05-24T13:23:45.734Z"
   },
   {
    "duration": 325,
    "start_time": "2022-05-24T13:23:45.741Z"
   },
   {
    "duration": 5,
    "start_time": "2022-05-24T13:23:46.067Z"
   },
   {
    "duration": 224,
    "start_time": "2022-05-24T13:23:46.074Z"
   },
   {
    "duration": 5,
    "start_time": "2022-05-24T13:23:46.300Z"
   },
   {
    "duration": 15,
    "start_time": "2022-05-24T13:23:46.306Z"
   },
   {
    "duration": 39,
    "start_time": "2022-05-24T13:23:46.322Z"
   },
   {
    "duration": 11,
    "start_time": "2022-05-24T13:23:46.362Z"
   },
   {
    "duration": 37,
    "start_time": "2022-05-24T13:23:46.374Z"
   },
   {
    "duration": 11,
    "start_time": "2022-05-24T13:23:46.412Z"
   },
   {
    "duration": 444,
    "start_time": "2022-05-24T13:23:46.424Z"
   },
   {
    "duration": 458,
    "start_time": "2022-05-24T13:23:46.870Z"
   },
   {
    "duration": 190,
    "start_time": "2022-05-24T13:23:47.330Z"
   },
   {
    "duration": 188,
    "start_time": "2022-05-24T13:23:47.521Z"
   },
   {
    "duration": 208,
    "start_time": "2022-05-24T13:23:47.710Z"
   },
   {
    "duration": 9,
    "start_time": "2022-05-24T13:23:47.920Z"
   },
   {
    "duration": 12,
    "start_time": "2022-05-24T13:23:47.930Z"
   },
   {
    "duration": 7,
    "start_time": "2022-05-24T13:25:41.817Z"
   },
   {
    "duration": 6,
    "start_time": "2022-05-24T13:26:16.072Z"
   },
   {
    "duration": 6,
    "start_time": "2022-05-24T13:26:46.453Z"
   },
   {
    "duration": 6,
    "start_time": "2022-05-24T13:26:59.946Z"
   },
   {
    "duration": 5,
    "start_time": "2022-05-24T13:27:07.420Z"
   },
   {
    "duration": 4,
    "start_time": "2022-05-24T13:31:37.586Z"
   },
   {
    "duration": 6,
    "start_time": "2022-05-24T13:32:17.680Z"
   },
   {
    "duration": 7,
    "start_time": "2022-05-24T13:33:32.034Z"
   },
   {
    "duration": 6,
    "start_time": "2022-05-24T13:36:59.522Z"
   },
   {
    "duration": 58,
    "start_time": "2022-05-25T10:33:12.326Z"
   },
   {
    "duration": 1501,
    "start_time": "2022-05-25T10:33:17.152Z"
   },
   {
    "duration": 396,
    "start_time": "2022-05-25T10:33:18.656Z"
   },
   {
    "duration": 15,
    "start_time": "2022-05-25T10:33:19.054Z"
   },
   {
    "duration": 3,
    "start_time": "2022-05-25T10:33:19.071Z"
   },
   {
    "duration": 21,
    "start_time": "2022-05-25T10:33:19.076Z"
   },
   {
    "duration": 21,
    "start_time": "2022-05-25T10:33:19.099Z"
   },
   {
    "duration": 8,
    "start_time": "2022-05-25T10:33:19.122Z"
   },
   {
    "duration": 6,
    "start_time": "2022-05-25T10:33:19.132Z"
   },
   {
    "duration": 9,
    "start_time": "2022-05-25T10:33:19.139Z"
   },
   {
    "duration": 9,
    "start_time": "2022-05-25T10:33:19.150Z"
   },
   {
    "duration": 9,
    "start_time": "2022-05-25T10:33:19.184Z"
   },
   {
    "duration": 5,
    "start_time": "2022-05-25T10:33:19.194Z"
   },
   {
    "duration": 8,
    "start_time": "2022-05-25T10:33:19.201Z"
   },
   {
    "duration": 6,
    "start_time": "2022-05-25T10:33:19.212Z"
   },
   {
    "duration": 28,
    "start_time": "2022-05-25T10:33:19.220Z"
   },
   {
    "duration": 47,
    "start_time": "2022-05-25T10:33:19.250Z"
   },
   {
    "duration": 4,
    "start_time": "2022-05-25T10:33:19.299Z"
   },
   {
    "duration": 20,
    "start_time": "2022-05-25T10:33:19.305Z"
   },
   {
    "duration": 24,
    "start_time": "2022-05-25T10:33:19.327Z"
   },
   {
    "duration": 5,
    "start_time": "2022-05-25T10:33:19.352Z"
   },
   {
    "duration": 7,
    "start_time": "2022-05-25T10:33:19.384Z"
   },
   {
    "duration": 176,
    "start_time": "2022-05-25T10:33:19.393Z"
   },
   {
    "duration": 33,
    "start_time": "2022-05-25T10:33:19.572Z"
   },
   {
    "duration": 16,
    "start_time": "2022-05-25T10:33:19.607Z"
   },
   {
    "duration": 445,
    "start_time": "2022-05-25T10:33:19.625Z"
   },
   {
    "duration": 13,
    "start_time": "2022-05-25T10:33:20.071Z"
   },
   {
    "duration": 14,
    "start_time": "2022-05-25T10:33:20.086Z"
   },
   {
    "duration": 7,
    "start_time": "2022-05-25T10:33:20.101Z"
   },
   {
    "duration": 244,
    "start_time": "2022-05-25T10:33:20.110Z"
   },
   {
    "duration": 232,
    "start_time": "2022-05-25T10:33:20.356Z"
   },
   {
    "duration": 492,
    "start_time": "2022-05-25T10:33:20.590Z"
   },
   {
    "duration": 472,
    "start_time": "2022-05-25T10:33:21.084Z"
   },
   {
    "duration": 38,
    "start_time": "2022-05-25T10:33:21.558Z"
   },
   {
    "duration": 144,
    "start_time": "2022-05-25T10:33:21.598Z"
   },
   {
    "duration": 10,
    "start_time": "2022-05-25T10:33:21.743Z"
   },
   {
    "duration": 326,
    "start_time": "2022-05-25T10:33:21.755Z"
   },
   {
    "duration": 349,
    "start_time": "2022-05-25T10:33:22.083Z"
   },
   {
    "duration": 13,
    "start_time": "2022-05-25T10:33:22.434Z"
   },
   {
    "duration": 18,
    "start_time": "2022-05-25T10:33:22.449Z"
   },
   {
    "duration": 349,
    "start_time": "2022-05-25T10:33:22.469Z"
   },
   {
    "duration": 6,
    "start_time": "2022-05-25T10:33:22.822Z"
   },
   {
    "duration": 257,
    "start_time": "2022-05-25T10:33:22.830Z"
   },
   {
    "duration": 5,
    "start_time": "2022-05-25T10:33:23.089Z"
   },
   {
    "duration": 14,
    "start_time": "2022-05-25T10:33:23.095Z"
   },
   {
    "duration": 8,
    "start_time": "2022-05-25T10:33:23.110Z"
   },
   {
    "duration": 9,
    "start_time": "2022-05-25T10:33:23.120Z"
   },
   {
    "duration": 18,
    "start_time": "2022-05-25T10:33:23.131Z"
   },
   {
    "duration": 79,
    "start_time": "2022-05-25T10:33:23.151Z"
   },
   {
    "duration": 15,
    "start_time": "2022-05-25T10:33:23.231Z"
   },
   {
    "duration": 20,
    "start_time": "2022-05-25T10:33:23.248Z"
   },
   {
    "duration": 27,
    "start_time": "2022-05-25T10:33:23.283Z"
   },
   {
    "duration": 458,
    "start_time": "2022-05-25T10:33:23.312Z"
   },
   {
    "duration": 501,
    "start_time": "2022-05-25T10:33:23.771Z"
   },
   {
    "duration": 222,
    "start_time": "2022-05-25T10:33:24.275Z"
   },
   {
    "duration": 203,
    "start_time": "2022-05-25T10:33:24.499Z"
   },
   {
    "duration": 203,
    "start_time": "2022-05-25T10:33:24.704Z"
   },
   {
    "duration": 9,
    "start_time": "2022-05-25T10:33:24.909Z"
   },
   {
    "duration": 11,
    "start_time": "2022-05-25T10:33:24.919Z"
   },
   {
    "duration": 7,
    "start_time": "2022-05-25T10:35:19.243Z"
   },
   {
    "duration": 8,
    "start_time": "2022-05-25T10:37:05.006Z"
   },
   {
    "duration": 4,
    "start_time": "2022-05-25T10:38:00.025Z"
   },
   {
    "duration": 7,
    "start_time": "2022-05-25T10:38:00.462Z"
   },
   {
    "duration": 5,
    "start_time": "2022-05-25T10:38:27.096Z"
   },
   {
    "duration": 38,
    "start_time": "2022-05-25T10:39:19.093Z"
   },
   {
    "duration": 91,
    "start_time": "2022-05-25T12:31:01.147Z"
   },
   {
    "duration": 10,
    "start_time": "2022-05-25T12:31:07.786Z"
   },
   {
    "duration": 1776,
    "start_time": "2022-05-25T12:31:21.289Z"
   },
   {
    "duration": 227,
    "start_time": "2022-05-25T12:31:23.068Z"
   },
   {
    "duration": 22,
    "start_time": "2022-05-25T12:31:23.297Z"
   },
   {
    "duration": 3,
    "start_time": "2022-05-25T12:31:24.506Z"
   },
   {
    "duration": 19,
    "start_time": "2022-05-25T12:31:25.618Z"
   },
   {
    "duration": 15,
    "start_time": "2022-05-25T12:31:26.071Z"
   },
   {
    "duration": 9,
    "start_time": "2022-05-25T12:31:27.423Z"
   },
   {
    "duration": 10,
    "start_time": "2022-05-25T12:31:28.286Z"
   },
   {
    "duration": 7,
    "start_time": "2022-05-25T12:31:29.054Z"
   },
   {
    "duration": 8,
    "start_time": "2022-05-25T12:31:29.866Z"
   },
   {
    "duration": 9,
    "start_time": "2022-05-25T12:31:30.238Z"
   },
   {
    "duration": 6,
    "start_time": "2022-05-25T12:31:32.006Z"
   },
   {
    "duration": 6,
    "start_time": "2022-05-25T12:31:32.434Z"
   },
   {
    "duration": 7,
    "start_time": "2022-05-25T12:31:32.898Z"
   },
   {
    "duration": 36,
    "start_time": "2022-05-25T12:31:34.191Z"
   },
   {
    "duration": 22,
    "start_time": "2022-05-25T12:31:34.745Z"
   },
   {
    "duration": 6,
    "start_time": "2022-05-25T12:31:35.665Z"
   },
   {
    "duration": 32,
    "start_time": "2022-05-25T12:31:36.152Z"
   },
   {
    "duration": 31,
    "start_time": "2022-05-25T12:31:38.441Z"
   },
   {
    "duration": 7,
    "start_time": "2022-05-25T12:31:40.143Z"
   },
   {
    "duration": 5,
    "start_time": "2022-05-25T12:31:42.599Z"
   },
   {
    "duration": 146,
    "start_time": "2022-05-25T12:31:43.579Z"
   },
   {
    "duration": 26,
    "start_time": "2022-05-25T12:31:46.303Z"
   },
   {
    "duration": 18,
    "start_time": "2022-05-25T12:31:51.919Z"
   },
   {
    "duration": 413,
    "start_time": "2022-05-25T12:31:52.856Z"
   },
   {
    "duration": 9,
    "start_time": "2022-05-25T12:32:02.017Z"
   },
   {
    "duration": 15,
    "start_time": "2022-05-25T12:32:04.632Z"
   },
   {
    "duration": 5,
    "start_time": "2022-05-25T12:32:05.959Z"
   },
   {
    "duration": 257,
    "start_time": "2022-05-25T12:32:08.318Z"
   },
   {
    "duration": 248,
    "start_time": "2022-05-25T12:32:10.243Z"
   },
   {
    "duration": 463,
    "start_time": "2022-05-25T12:32:15.431Z"
   },
   {
    "duration": 439,
    "start_time": "2022-05-25T12:32:17.407Z"
   },
   {
    "duration": 40,
    "start_time": "2022-05-25T12:32:27.609Z"
   },
   {
    "duration": 142,
    "start_time": "2022-05-25T12:32:32.058Z"
   },
   {
    "duration": 20,
    "start_time": "2022-05-25T12:32:33.000Z"
   },
   {
    "duration": 357,
    "start_time": "2022-05-25T12:32:34.676Z"
   },
   {
    "duration": 401,
    "start_time": "2022-05-25T12:32:37.167Z"
   },
   {
    "duration": 13,
    "start_time": "2022-05-25T12:32:40.784Z"
   },
   {
    "duration": 5,
    "start_time": "2022-05-25T12:32:54.157Z"
   },
   {
    "duration": 466,
    "start_time": "2022-05-25T12:32:55.217Z"
   },
   {
    "duration": 7,
    "start_time": "2022-05-25T12:33:44.976Z"
   },
   {
    "duration": 81,
    "start_time": "2022-05-25T12:34:13.841Z"
   },
   {
    "duration": 356,
    "start_time": "2022-05-25T12:34:17.263Z"
   },
   {
    "duration": 6,
    "start_time": "2022-05-25T12:34:19.193Z"
   },
   {
    "duration": 501,
    "start_time": "2022-05-25T12:34:45.374Z"
   },
   {
    "duration": 7,
    "start_time": "2022-05-25T12:34:58.154Z"
   },
   {
    "duration": 58,
    "start_time": "2022-05-25T12:36:10.880Z"
   },
   {
    "duration": 8,
    "start_time": "2022-05-25T12:36:28.557Z"
   },
   {
    "duration": 10,
    "start_time": "2022-05-25T12:37:41.775Z"
   },
   {
    "duration": 9,
    "start_time": "2022-05-25T12:39:15.994Z"
   },
   {
    "duration": 9,
    "start_time": "2022-05-25T12:39:41.551Z"
   },
   {
    "duration": 7,
    "start_time": "2022-05-25T12:44:47.807Z"
   },
   {
    "duration": 7,
    "start_time": "2022-05-25T12:45:05.966Z"
   },
   {
    "duration": 1173,
    "start_time": "2022-05-25T18:40:43.233Z"
   },
   {
    "duration": 76,
    "start_time": "2022-05-25T18:40:44.407Z"
   },
   {
    "duration": 13,
    "start_time": "2022-05-25T18:40:44.485Z"
   },
   {
    "duration": 6,
    "start_time": "2022-05-25T18:40:44.500Z"
   },
   {
    "duration": 27,
    "start_time": "2022-05-25T18:40:44.507Z"
   },
   {
    "duration": 21,
    "start_time": "2022-05-25T18:40:44.536Z"
   },
   {
    "duration": 13,
    "start_time": "2022-05-25T18:40:44.558Z"
   },
   {
    "duration": 6,
    "start_time": "2022-05-25T18:40:44.572Z"
   },
   {
    "duration": 17,
    "start_time": "2022-05-25T18:40:44.580Z"
   },
   {
    "duration": 9,
    "start_time": "2022-05-25T18:40:44.600Z"
   },
   {
    "duration": 12,
    "start_time": "2022-05-25T18:40:44.611Z"
   },
   {
    "duration": 9,
    "start_time": "2022-05-25T18:40:44.624Z"
   },
   {
    "duration": 14,
    "start_time": "2022-05-25T18:40:44.634Z"
   },
   {
    "duration": 23,
    "start_time": "2022-05-25T18:40:44.649Z"
   },
   {
    "duration": 28,
    "start_time": "2022-05-25T18:40:44.674Z"
   },
   {
    "duration": 17,
    "start_time": "2022-05-25T18:40:44.704Z"
   },
   {
    "duration": 4,
    "start_time": "2022-05-25T18:40:44.722Z"
   },
   {
    "duration": 27,
    "start_time": "2022-05-25T18:40:44.728Z"
   },
   {
    "duration": 34,
    "start_time": "2022-05-25T18:40:44.757Z"
   },
   {
    "duration": 4,
    "start_time": "2022-05-25T18:40:44.792Z"
   },
   {
    "duration": 8,
    "start_time": "2022-05-25T18:40:44.798Z"
   },
   {
    "duration": 170,
    "start_time": "2022-05-25T18:40:44.807Z"
   },
   {
    "duration": 25,
    "start_time": "2022-05-25T18:40:44.978Z"
   },
   {
    "duration": 14,
    "start_time": "2022-05-25T18:40:45.005Z"
   },
   {
    "duration": 469,
    "start_time": "2022-05-25T18:40:45.020Z"
   },
   {
    "duration": 5,
    "start_time": "2022-05-25T18:40:45.491Z"
   },
   {
    "duration": 24,
    "start_time": "2022-05-25T18:40:45.498Z"
   },
   {
    "duration": 6,
    "start_time": "2022-05-25T18:40:45.527Z"
   },
   {
    "duration": 233,
    "start_time": "2022-05-25T18:40:45.535Z"
   },
   {
    "duration": 225,
    "start_time": "2022-05-25T18:40:45.771Z"
   },
   {
    "duration": 456,
    "start_time": "2022-05-25T18:40:45.998Z"
   },
   {
    "duration": 441,
    "start_time": "2022-05-25T18:40:46.458Z"
   },
   {
    "duration": 27,
    "start_time": "2022-05-25T18:40:46.901Z"
   },
   {
    "duration": 142,
    "start_time": "2022-05-25T18:40:46.929Z"
   },
   {
    "duration": 9,
    "start_time": "2022-05-25T18:40:47.072Z"
   },
   {
    "duration": 328,
    "start_time": "2022-05-25T18:40:47.083Z"
   },
   {
    "duration": 333,
    "start_time": "2022-05-25T18:40:47.413Z"
   },
   {
    "duration": 19,
    "start_time": "2022-05-25T18:40:47.749Z"
   },
   {
    "duration": 11,
    "start_time": "2022-05-25T18:40:47.769Z"
   },
   {
    "duration": 116,
    "start_time": "2022-05-25T18:40:47.781Z"
   },
   {
    "duration": 0,
    "start_time": "2022-05-25T18:40:47.899Z"
   },
   {
    "duration": 0,
    "start_time": "2022-05-25T18:40:47.900Z"
   },
   {
    "duration": 0,
    "start_time": "2022-05-25T18:40:47.901Z"
   },
   {
    "duration": 0,
    "start_time": "2022-05-25T18:40:47.903Z"
   },
   {
    "duration": 0,
    "start_time": "2022-05-25T18:40:47.904Z"
   },
   {
    "duration": 0,
    "start_time": "2022-05-25T18:40:47.905Z"
   },
   {
    "duration": 0,
    "start_time": "2022-05-25T18:40:47.906Z"
   },
   {
    "duration": 0,
    "start_time": "2022-05-25T18:40:47.907Z"
   },
   {
    "duration": 0,
    "start_time": "2022-05-25T18:40:47.908Z"
   },
   {
    "duration": 0,
    "start_time": "2022-05-25T18:40:47.909Z"
   },
   {
    "duration": 0,
    "start_time": "2022-05-25T18:40:47.910Z"
   },
   {
    "duration": 0,
    "start_time": "2022-05-25T18:40:47.911Z"
   },
   {
    "duration": 0,
    "start_time": "2022-05-25T18:40:47.912Z"
   },
   {
    "duration": 0,
    "start_time": "2022-05-25T18:40:47.913Z"
   },
   {
    "duration": 0,
    "start_time": "2022-05-25T18:40:47.914Z"
   },
   {
    "duration": 0,
    "start_time": "2022-05-25T18:40:48.038Z"
   },
   {
    "duration": 0,
    "start_time": "2022-05-25T18:40:48.039Z"
   },
   {
    "duration": 0,
    "start_time": "2022-05-25T18:40:48.040Z"
   },
   {
    "duration": 0,
    "start_time": "2022-05-25T18:40:48.041Z"
   },
   {
    "duration": 0,
    "start_time": "2022-05-25T18:40:48.042Z"
   },
   {
    "duration": 0,
    "start_time": "2022-05-25T18:40:48.054Z"
   },
   {
    "duration": 0,
    "start_time": "2022-05-25T18:40:48.054Z"
   },
   {
    "duration": 279,
    "start_time": "2022-05-25T18:41:45.095Z"
   },
   {
    "duration": 7,
    "start_time": "2022-05-25T18:41:45.376Z"
   },
   {
    "duration": 10,
    "start_time": "2022-05-25T18:41:45.385Z"
   },
   {
    "duration": 11,
    "start_time": "2022-05-25T18:41:45.397Z"
   },
   {
    "duration": 10,
    "start_time": "2022-05-25T18:41:45.410Z"
   },
   {
    "duration": 10,
    "start_time": "2022-05-25T18:41:45.422Z"
   },
   {
    "duration": 9,
    "start_time": "2022-05-25T18:41:45.455Z"
   },
   {
    "duration": 17,
    "start_time": "2022-05-25T18:41:45.470Z"
   },
   {
    "duration": 20,
    "start_time": "2022-05-25T18:41:45.488Z"
   },
   {
    "duration": 15,
    "start_time": "2022-05-25T18:41:45.511Z"
   },
   {
    "duration": 56,
    "start_time": "2022-05-25T18:41:45.528Z"
   },
   {
    "duration": 15,
    "start_time": "2022-05-25T18:41:45.586Z"
   },
   {
    "duration": 15,
    "start_time": "2022-05-25T18:41:45.603Z"
   },
   {
    "duration": 35,
    "start_time": "2022-05-25T18:41:45.620Z"
   },
   {
    "duration": 522,
    "start_time": "2022-05-25T18:41:45.657Z"
   },
   {
    "duration": 511,
    "start_time": "2022-05-25T18:41:46.181Z"
   },
   {
    "duration": 221,
    "start_time": "2022-05-25T18:41:46.693Z"
   },
   {
    "duration": 213,
    "start_time": "2022-05-25T18:41:46.916Z"
   },
   {
    "duration": 207,
    "start_time": "2022-05-25T18:41:47.131Z"
   },
   {
    "duration": 25,
    "start_time": "2022-05-25T18:41:47.340Z"
   },
   {
    "duration": 18,
    "start_time": "2022-05-25T18:41:47.370Z"
   },
   {
    "duration": 1130,
    "start_time": "2022-05-25T18:44:01.099Z"
   },
   {
    "duration": 74,
    "start_time": "2022-05-25T18:44:02.231Z"
   },
   {
    "duration": 13,
    "start_time": "2022-05-25T18:44:02.307Z"
   },
   {
    "duration": 4,
    "start_time": "2022-05-25T18:44:02.322Z"
   },
   {
    "duration": 34,
    "start_time": "2022-05-25T18:44:02.327Z"
   },
   {
    "duration": 16,
    "start_time": "2022-05-25T18:44:02.363Z"
   },
   {
    "duration": 6,
    "start_time": "2022-05-25T18:44:02.381Z"
   },
   {
    "duration": 7,
    "start_time": "2022-05-25T18:44:02.388Z"
   },
   {
    "duration": 10,
    "start_time": "2022-05-25T18:44:02.396Z"
   },
   {
    "duration": 15,
    "start_time": "2022-05-25T18:44:02.408Z"
   },
   {
    "duration": 11,
    "start_time": "2022-05-25T18:44:02.425Z"
   },
   {
    "duration": 16,
    "start_time": "2022-05-25T18:44:02.437Z"
   },
   {
    "duration": 7,
    "start_time": "2022-05-25T18:44:02.455Z"
   },
   {
    "duration": 22,
    "start_time": "2022-05-25T18:44:02.464Z"
   },
   {
    "duration": 26,
    "start_time": "2022-05-25T18:44:02.488Z"
   },
   {
    "duration": 26,
    "start_time": "2022-05-25T18:44:02.516Z"
   },
   {
    "duration": 51,
    "start_time": "2022-05-25T18:44:02.543Z"
   },
   {
    "duration": 31,
    "start_time": "2022-05-25T18:44:02.596Z"
   },
   {
    "duration": 28,
    "start_time": "2022-05-25T18:44:02.629Z"
   },
   {
    "duration": 7,
    "start_time": "2022-05-25T18:44:02.659Z"
   },
   {
    "duration": 24,
    "start_time": "2022-05-25T18:44:02.668Z"
   },
   {
    "duration": 154,
    "start_time": "2022-05-25T18:44:02.694Z"
   },
   {
    "duration": 24,
    "start_time": "2022-05-25T18:44:02.850Z"
   },
   {
    "duration": 13,
    "start_time": "2022-05-25T18:44:02.876Z"
   },
   {
    "duration": 405,
    "start_time": "2022-05-25T18:44:02.891Z"
   },
   {
    "duration": 6,
    "start_time": "2022-05-25T18:44:03.298Z"
   },
   {
    "duration": 18,
    "start_time": "2022-05-25T18:44:03.306Z"
   },
   {
    "duration": 4,
    "start_time": "2022-05-25T18:44:03.330Z"
   },
   {
    "duration": 222,
    "start_time": "2022-05-25T18:44:03.335Z"
   },
   {
    "duration": 207,
    "start_time": "2022-05-25T18:44:03.559Z"
   },
   {
    "duration": 472,
    "start_time": "2022-05-25T18:44:03.768Z"
   },
   {
    "duration": 434,
    "start_time": "2022-05-25T18:44:04.242Z"
   },
   {
    "duration": 27,
    "start_time": "2022-05-25T18:44:04.678Z"
   },
   {
    "duration": 133,
    "start_time": "2022-05-25T18:44:04.707Z"
   },
   {
    "duration": 14,
    "start_time": "2022-05-25T18:44:04.841Z"
   },
   {
    "duration": 324,
    "start_time": "2022-05-25T18:44:04.857Z"
   },
   {
    "duration": 396,
    "start_time": "2022-05-25T18:44:05.184Z"
   },
   {
    "duration": 15,
    "start_time": "2022-05-25T18:44:05.582Z"
   },
   {
    "duration": 12,
    "start_time": "2022-05-25T18:44:05.599Z"
   },
   {
    "duration": 140,
    "start_time": "2022-05-25T18:44:05.613Z"
   },
   {
    "duration": 0,
    "start_time": "2022-05-25T18:44:05.754Z"
   },
   {
    "duration": 0,
    "start_time": "2022-05-25T18:44:05.756Z"
   },
   {
    "duration": 0,
    "start_time": "2022-05-25T18:44:05.757Z"
   },
   {
    "duration": 0,
    "start_time": "2022-05-25T18:44:05.758Z"
   },
   {
    "duration": 0,
    "start_time": "2022-05-25T18:44:05.759Z"
   },
   {
    "duration": 0,
    "start_time": "2022-05-25T18:44:05.760Z"
   },
   {
    "duration": 0,
    "start_time": "2022-05-25T18:44:05.761Z"
   },
   {
    "duration": 0,
    "start_time": "2022-05-25T18:44:05.762Z"
   },
   {
    "duration": 0,
    "start_time": "2022-05-25T18:44:05.763Z"
   },
   {
    "duration": 0,
    "start_time": "2022-05-25T18:44:05.764Z"
   },
   {
    "duration": 0,
    "start_time": "2022-05-25T18:44:05.765Z"
   },
   {
    "duration": 0,
    "start_time": "2022-05-25T18:44:05.766Z"
   },
   {
    "duration": 0,
    "start_time": "2022-05-25T18:44:05.766Z"
   },
   {
    "duration": 0,
    "start_time": "2022-05-25T18:44:05.767Z"
   },
   {
    "duration": 0,
    "start_time": "2022-05-25T18:44:05.901Z"
   },
   {
    "duration": 0,
    "start_time": "2022-05-25T18:44:05.901Z"
   },
   {
    "duration": 0,
    "start_time": "2022-05-25T18:44:05.903Z"
   },
   {
    "duration": 0,
    "start_time": "2022-05-25T18:44:05.904Z"
   },
   {
    "duration": 0,
    "start_time": "2022-05-25T18:44:05.905Z"
   },
   {
    "duration": 0,
    "start_time": "2022-05-25T18:44:05.906Z"
   },
   {
    "duration": 0,
    "start_time": "2022-05-25T18:44:05.907Z"
   },
   {
    "duration": 0,
    "start_time": "2022-05-25T18:44:05.908Z"
   },
   {
    "duration": 10,
    "start_time": "2022-05-25T18:44:14.470Z"
   },
   {
    "duration": 0,
    "start_time": "2022-05-25T18:44:14.482Z"
   },
   {
    "duration": 0,
    "start_time": "2022-05-25T18:44:14.483Z"
   },
   {
    "duration": 7,
    "start_time": "2022-05-25T18:44:14.485Z"
   },
   {
    "duration": 10,
    "start_time": "2022-05-25T18:44:14.493Z"
   },
   {
    "duration": 0,
    "start_time": "2022-05-25T18:44:14.505Z"
   },
   {
    "duration": 0,
    "start_time": "2022-05-25T18:44:14.506Z"
   },
   {
    "duration": 0,
    "start_time": "2022-05-25T18:44:14.508Z"
   },
   {
    "duration": 0,
    "start_time": "2022-05-25T18:44:14.509Z"
   },
   {
    "duration": 6,
    "start_time": "2022-05-25T18:44:14.513Z"
   },
   {
    "duration": 42,
    "start_time": "2022-05-25T18:44:14.520Z"
   },
   {
    "duration": 44,
    "start_time": "2022-05-25T18:44:14.564Z"
   },
   {
    "duration": 13,
    "start_time": "2022-05-25T18:44:14.611Z"
   },
   {
    "duration": 13,
    "start_time": "2022-05-25T18:44:14.652Z"
   },
   {
    "duration": 16,
    "start_time": "2022-05-25T18:44:14.666Z"
   },
   {
    "duration": 452,
    "start_time": "2022-05-25T18:44:14.683Z"
   },
   {
    "duration": 562,
    "start_time": "2022-05-25T18:44:15.137Z"
   },
   {
    "duration": 207,
    "start_time": "2022-05-25T18:44:15.702Z"
   },
   {
    "duration": 245,
    "start_time": "2022-05-25T18:44:15.911Z"
   },
   {
    "duration": 228,
    "start_time": "2022-05-25T18:44:16.158Z"
   },
   {
    "duration": 12,
    "start_time": "2022-05-25T18:44:16.389Z"
   },
   {
    "duration": 15,
    "start_time": "2022-05-25T18:44:16.403Z"
   },
   {
    "duration": 1164,
    "start_time": "2022-05-25T18:44:45.420Z"
   },
   {
    "duration": 74,
    "start_time": "2022-05-25T18:44:46.586Z"
   },
   {
    "duration": 15,
    "start_time": "2022-05-25T18:44:46.661Z"
   },
   {
    "duration": 3,
    "start_time": "2022-05-25T18:44:46.678Z"
   },
   {
    "duration": 22,
    "start_time": "2022-05-25T18:44:46.683Z"
   },
   {
    "duration": 17,
    "start_time": "2022-05-25T18:44:46.715Z"
   },
   {
    "duration": 18,
    "start_time": "2022-05-25T18:44:46.734Z"
   },
   {
    "duration": 5,
    "start_time": "2022-05-25T18:44:46.753Z"
   },
   {
    "duration": 13,
    "start_time": "2022-05-25T18:44:46.759Z"
   },
   {
    "duration": 10,
    "start_time": "2022-05-25T18:44:46.775Z"
   },
   {
    "duration": 8,
    "start_time": "2022-05-25T18:44:46.787Z"
   },
   {
    "duration": 6,
    "start_time": "2022-05-25T18:44:46.797Z"
   },
   {
    "duration": 7,
    "start_time": "2022-05-25T18:44:46.805Z"
   },
   {
    "duration": 10,
    "start_time": "2022-05-25T18:44:46.813Z"
   },
   {
    "duration": 35,
    "start_time": "2022-05-25T18:44:46.851Z"
   },
   {
    "duration": 17,
    "start_time": "2022-05-25T18:44:46.888Z"
   },
   {
    "duration": 5,
    "start_time": "2022-05-25T18:44:46.907Z"
   },
   {
    "duration": 40,
    "start_time": "2022-05-25T18:44:46.913Z"
   },
   {
    "duration": 20,
    "start_time": "2022-05-25T18:44:46.955Z"
   },
   {
    "duration": 9,
    "start_time": "2022-05-25T18:44:46.977Z"
   },
   {
    "duration": 7,
    "start_time": "2022-05-25T18:44:46.988Z"
   },
   {
    "duration": 164,
    "start_time": "2022-05-25T18:44:46.997Z"
   },
   {
    "duration": 24,
    "start_time": "2022-05-25T18:44:47.162Z"
   },
   {
    "duration": 14,
    "start_time": "2022-05-25T18:44:47.188Z"
   },
   {
    "duration": 444,
    "start_time": "2022-05-25T18:44:47.203Z"
   },
   {
    "duration": 7,
    "start_time": "2022-05-25T18:44:47.648Z"
   },
   {
    "duration": 15,
    "start_time": "2022-05-25T18:44:47.657Z"
   },
   {
    "duration": 4,
    "start_time": "2022-05-25T18:44:47.675Z"
   },
   {
    "duration": 213,
    "start_time": "2022-05-25T18:44:47.680Z"
   },
   {
    "duration": 212,
    "start_time": "2022-05-25T18:44:47.894Z"
   },
   {
    "duration": 481,
    "start_time": "2022-05-25T18:44:48.107Z"
   },
   {
    "duration": 434,
    "start_time": "2022-05-25T18:44:48.590Z"
   },
   {
    "duration": 31,
    "start_time": "2022-05-25T18:44:49.026Z"
   },
   {
    "duration": 130,
    "start_time": "2022-05-25T18:44:49.058Z"
   },
   {
    "duration": 10,
    "start_time": "2022-05-25T18:44:49.189Z"
   },
   {
    "duration": 320,
    "start_time": "2022-05-25T18:44:49.200Z"
   },
   {
    "duration": 335,
    "start_time": "2022-05-25T18:44:49.522Z"
   },
   {
    "duration": 12,
    "start_time": "2022-05-25T18:44:49.859Z"
   },
   {
    "duration": 9,
    "start_time": "2022-05-25T18:44:49.873Z"
   },
   {
    "duration": 118,
    "start_time": "2022-05-25T18:44:49.884Z"
   },
   {
    "duration": 0,
    "start_time": "2022-05-25T18:44:50.004Z"
   },
   {
    "duration": 0,
    "start_time": "2022-05-25T18:44:50.005Z"
   },
   {
    "duration": 0,
    "start_time": "2022-05-25T18:44:50.006Z"
   },
   {
    "duration": 0,
    "start_time": "2022-05-25T18:44:50.007Z"
   },
   {
    "duration": 0,
    "start_time": "2022-05-25T18:44:50.008Z"
   },
   {
    "duration": 0,
    "start_time": "2022-05-25T18:44:50.009Z"
   },
   {
    "duration": 0,
    "start_time": "2022-05-25T18:44:50.011Z"
   },
   {
    "duration": 0,
    "start_time": "2022-05-25T18:44:50.012Z"
   },
   {
    "duration": 0,
    "start_time": "2022-05-25T18:44:50.013Z"
   },
   {
    "duration": 0,
    "start_time": "2022-05-25T18:44:50.014Z"
   },
   {
    "duration": 0,
    "start_time": "2022-05-25T18:44:50.015Z"
   },
   {
    "duration": 0,
    "start_time": "2022-05-25T18:44:50.016Z"
   },
   {
    "duration": 0,
    "start_time": "2022-05-25T18:44:50.017Z"
   },
   {
    "duration": 0,
    "start_time": "2022-05-25T18:44:50.019Z"
   },
   {
    "duration": 0,
    "start_time": "2022-05-25T18:44:50.152Z"
   },
   {
    "duration": 0,
    "start_time": "2022-05-25T18:44:50.153Z"
   },
   {
    "duration": 0,
    "start_time": "2022-05-25T18:44:50.155Z"
   },
   {
    "duration": 0,
    "start_time": "2022-05-25T18:44:50.156Z"
   },
   {
    "duration": 0,
    "start_time": "2022-05-25T18:44:50.158Z"
   },
   {
    "duration": 0,
    "start_time": "2022-05-25T18:44:50.163Z"
   },
   {
    "duration": 0,
    "start_time": "2022-05-25T18:44:50.164Z"
   },
   {
    "duration": 0,
    "start_time": "2022-05-25T18:44:50.166Z"
   },
   {
    "duration": 248,
    "start_time": "2022-05-25T18:45:26.044Z"
   },
   {
    "duration": 5,
    "start_time": "2022-05-25T18:45:26.294Z"
   },
   {
    "duration": 12,
    "start_time": "2022-05-25T18:45:26.301Z"
   },
   {
    "duration": 10,
    "start_time": "2022-05-25T18:45:26.316Z"
   },
   {
    "duration": 24,
    "start_time": "2022-05-25T18:45:26.328Z"
   },
   {
    "duration": 6,
    "start_time": "2022-05-25T18:45:26.353Z"
   },
   {
    "duration": 13,
    "start_time": "2022-05-25T18:45:26.361Z"
   },
   {
    "duration": 11,
    "start_time": "2022-05-25T18:45:26.376Z"
   },
   {
    "duration": 10,
    "start_time": "2022-05-25T18:45:26.388Z"
   },
   {
    "duration": 20,
    "start_time": "2022-05-25T18:45:26.401Z"
   },
   {
    "duration": 58,
    "start_time": "2022-05-25T18:45:26.424Z"
   },
   {
    "duration": 12,
    "start_time": "2022-05-25T18:45:26.484Z"
   },
   {
    "duration": 17,
    "start_time": "2022-05-25T18:45:26.498Z"
   },
   {
    "duration": 13,
    "start_time": "2022-05-25T18:45:26.517Z"
   },
   {
    "duration": 495,
    "start_time": "2022-05-25T18:45:26.553Z"
   },
   {
    "duration": 473,
    "start_time": "2022-05-25T18:45:27.049Z"
   },
   {
    "duration": 199,
    "start_time": "2022-05-25T18:45:27.524Z"
   },
   {
    "duration": 197,
    "start_time": "2022-05-25T18:45:27.725Z"
   },
   {
    "duration": 202,
    "start_time": "2022-05-25T18:45:27.924Z"
   },
   {
    "duration": 9,
    "start_time": "2022-05-25T18:45:28.128Z"
   },
   {
    "duration": 23,
    "start_time": "2022-05-25T18:45:28.139Z"
   },
   {
    "duration": 42,
    "start_time": "2022-09-12T13:21:55.203Z"
   },
   {
    "duration": 7,
    "start_time": "2022-09-12T13:22:04.550Z"
   },
   {
    "duration": 1305,
    "start_time": "2022-09-12T13:22:12.364Z"
   },
   {
    "duration": 210,
    "start_time": "2022-09-12T13:22:13.671Z"
   },
   {
    "duration": 13,
    "start_time": "2022-09-12T13:22:14.831Z"
   },
   {
    "duration": 3,
    "start_time": "2022-09-12T13:22:15.895Z"
   },
   {
    "duration": 15,
    "start_time": "2022-09-12T13:22:16.824Z"
   },
   {
    "duration": 10,
    "start_time": "2022-09-12T13:22:17.272Z"
   },
   {
    "duration": 7,
    "start_time": "2022-09-12T13:22:18.690Z"
   },
   {
    "duration": 4,
    "start_time": "2022-09-12T13:22:19.644Z"
   },
   {
    "duration": 5,
    "start_time": "2022-09-12T13:22:20.557Z"
   },
   {
    "duration": 6,
    "start_time": "2022-09-12T13:22:21.538Z"
   },
   {
    "duration": 7,
    "start_time": "2022-09-12T13:22:21.999Z"
   },
   {
    "duration": 5,
    "start_time": "2022-09-12T13:22:22.924Z"
   },
   {
    "duration": 5,
    "start_time": "2022-09-12T13:22:23.387Z"
   },
   {
    "duration": 6,
    "start_time": "2022-09-12T13:22:23.839Z"
   },
   {
    "duration": 21,
    "start_time": "2022-09-12T13:22:24.775Z"
   },
   {
    "duration": 16,
    "start_time": "2022-09-12T13:22:25.234Z"
   },
   {
    "duration": 4,
    "start_time": "2022-09-12T13:22:26.181Z"
   },
   {
    "duration": 15,
    "start_time": "2022-09-12T13:22:26.650Z"
   },
   {
    "duration": 18,
    "start_time": "2022-09-12T13:22:28.035Z"
   },
   {
    "duration": 5,
    "start_time": "2022-09-12T13:22:28.944Z"
   },
   {
    "duration": 5,
    "start_time": "2022-09-12T13:22:30.344Z"
   },
   {
    "duration": 127,
    "start_time": "2022-09-12T13:22:30.816Z"
   },
   {
    "duration": 21,
    "start_time": "2022-09-12T13:22:32.464Z"
   },
   {
    "duration": 12,
    "start_time": "2022-09-12T13:22:36.588Z"
   },
   {
    "duration": 271,
    "start_time": "2022-09-12T13:22:37.187Z"
   },
   {
    "duration": 5,
    "start_time": "2022-09-12T13:22:40.899Z"
   },
   {
    "duration": 12,
    "start_time": "2022-09-12T13:22:42.889Z"
   },
   {
    "duration": 3,
    "start_time": "2022-09-12T13:22:43.409Z"
   },
   {
    "duration": 160,
    "start_time": "2022-09-12T13:22:44.395Z"
   },
   {
    "duration": 172,
    "start_time": "2022-09-12T13:22:45.470Z"
   },
   {
    "duration": 368,
    "start_time": "2022-09-12T13:22:47.996Z"
   },
   {
    "duration": 362,
    "start_time": "2022-09-12T13:22:49.135Z"
   },
   {
    "duration": 22,
    "start_time": "2022-09-12T13:22:53.559Z"
   },
   {
    "duration": 99,
    "start_time": "2022-09-12T13:22:55.936Z"
   },
   {
    "duration": 8,
    "start_time": "2022-09-12T13:22:56.422Z"
   },
   {
    "duration": 312,
    "start_time": "2022-09-12T13:22:57.385Z"
   },
   {
    "duration": 265,
    "start_time": "2022-09-12T13:22:58.799Z"
   },
   {
    "duration": 11,
    "start_time": "2022-09-12T13:23:01.243Z"
   },
   {
    "duration": 4,
    "start_time": "2022-09-12T13:23:01.710Z"
   },
   {
    "duration": 60,
    "start_time": "2022-09-12T13:23:02.229Z"
   },
   {
    "duration": 10,
    "start_time": "2022-09-12T13:23:07.656Z"
   },
   {
    "duration": 185,
    "start_time": "2022-09-12T13:23:08.825Z"
   },
   {
    "duration": 5,
    "start_time": "2022-09-12T13:23:10.915Z"
   },
   {
    "duration": 6,
    "start_time": "2022-09-12T13:23:15.217Z"
   },
   {
    "duration": 6,
    "start_time": "2022-09-12T13:23:15.885Z"
   },
   {
    "duration": 6,
    "start_time": "2022-09-12T13:23:17.444Z"
   },
   {
    "duration": 6,
    "start_time": "2022-09-12T13:23:17.991Z"
   },
   {
    "duration": 6,
    "start_time": "2022-09-12T13:23:19.468Z"
   },
   {
    "duration": 6,
    "start_time": "2022-09-12T13:23:19.944Z"
   },
   {
    "duration": 5,
    "start_time": "2022-09-12T13:23:21.305Z"
   },
   {
    "duration": 13,
    "start_time": "2022-09-12T13:23:21.784Z"
   },
   {
    "duration": 37,
    "start_time": "2022-09-12T13:23:22.266Z"
   },
   {
    "duration": 12,
    "start_time": "2022-09-12T13:23:26.351Z"
   },
   {
    "duration": 15,
    "start_time": "2022-09-12T13:23:27.657Z"
   },
   {
    "duration": 13,
    "start_time": "2022-09-12T13:23:29.743Z"
   },
   {
    "duration": 365,
    "start_time": "2022-09-12T13:23:33.122Z"
   },
   {
    "duration": 386,
    "start_time": "2022-09-12T13:23:33.608Z"
   },
   {
    "duration": 172,
    "start_time": "2022-09-12T13:23:37.753Z"
   },
   {
    "duration": 246,
    "start_time": "2022-09-12T13:23:38.304Z"
   },
   {
    "duration": 160,
    "start_time": "2022-09-12T13:23:38.869Z"
   },
   {
    "duration": 8,
    "start_time": "2022-09-12T13:23:44.673Z"
   },
   {
    "duration": 5,
    "start_time": "2022-09-12T13:23:57.725Z"
   },
   {
    "duration": 4,
    "start_time": "2022-09-12T13:24:09.101Z"
   },
   {
    "duration": 20,
    "start_time": "2022-09-12T13:24:24.772Z"
   },
   {
    "duration": 6,
    "start_time": "2022-09-12T13:24:34.970Z"
   },
   {
    "duration": 7,
    "start_time": "2022-09-12T13:24:43.674Z"
   },
   {
    "duration": 21,
    "start_time": "2022-09-12T13:26:34.005Z"
   },
   {
    "duration": 22,
    "start_time": "2022-09-12T13:28:48.029Z"
   }
  ],
  "kernelspec": {
   "display_name": "Python 3 (ipykernel)",
   "language": "python",
   "name": "python3"
  },
  "language_info": {
   "codemirror_mode": {
    "name": "ipython",
    "version": 3
   },
   "file_extension": ".py",
   "mimetype": "text/x-python",
   "name": "python",
   "nbconvert_exporter": "python",
   "pygments_lexer": "ipython3",
   "version": "3.9.7"
  },
  "toc": {
   "base_numbering": 1,
   "nav_menu": {},
   "number_sections": true,
   "sideBar": true,
   "skip_h1_title": true,
   "title_cell": "Table of Contents",
   "title_sidebar": "Contents",
   "toc_cell": false,
   "toc_position": {},
   "toc_section_display": true,
   "toc_window_display": false
  }
 },
 "nbformat": 4,
 "nbformat_minor": 5
}
