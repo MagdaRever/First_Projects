{
 "cells": [
  {
   "cell_type": "markdown",
   "id": "00cb82d5",
   "metadata": {},
   "source": [
    "# Исследование надежности заемщиков."
   ]
  },
  {
   "cell_type": "markdown",
   "id": "99921311",
   "metadata": {},
   "source": [
    "**Цель исследования** - проверка четырёх гипотез:\n",
    "\n",
    "1. Существует зависимость между количеством детей в семье и возвратом кредита в срок.\n",
    "2. Существует зависимость между семейным положением и возвратом кредита в срок.\n",
    "3. Существует зависимость между уровнем дохода и возвратом кредита в срок.\n",
    "4. Существует зависимость между целью кредита и его возвратом в срок.\n",
    "\n",
    "**Ход исследования**\n",
    "\n",
    "1. Обзор данных, полученных из файла `datasets.csv`.\n",
    "2. Предобработка данных.\n",
    "3. Проверка гипотез."
   ]
  },
  {
   "cell_type": "markdown",
   "id": "c1b2df79",
   "metadata": {},
   "source": [
    "## Обзор данных"
   ]
  },
  {
   "cell_type": "code",
   "execution_count": 1,
   "id": "f5fec00e",
   "metadata": {},
   "outputs": [
    {
     "data": {
      "text/html": [
       "<div>\n",
       "<style scoped>\n",
       "    .dataframe tbody tr th:only-of-type {\n",
       "        vertical-align: middle;\n",
       "    }\n",
       "\n",
       "    .dataframe tbody tr th {\n",
       "        vertical-align: top;\n",
       "    }\n",
       "\n",
       "    .dataframe thead th {\n",
       "        text-align: right;\n",
       "    }\n",
       "</style>\n",
       "<table border=\"1\" class=\"dataframe\">\n",
       "  <thead>\n",
       "    <tr style=\"text-align: right;\">\n",
       "      <th></th>\n",
       "      <th>children</th>\n",
       "      <th>days_employed</th>\n",
       "      <th>dob_years</th>\n",
       "      <th>education</th>\n",
       "      <th>education_id</th>\n",
       "      <th>family_status</th>\n",
       "      <th>family_status_id</th>\n",
       "      <th>gender</th>\n",
       "      <th>income_type</th>\n",
       "      <th>debt</th>\n",
       "      <th>total_income</th>\n",
       "      <th>purpose</th>\n",
       "    </tr>\n",
       "  </thead>\n",
       "  <tbody>\n",
       "    <tr>\n",
       "      <th>0</th>\n",
       "      <td>1</td>\n",
       "      <td>-8437.673028</td>\n",
       "      <td>42</td>\n",
       "      <td>высшее</td>\n",
       "      <td>0</td>\n",
       "      <td>женат / замужем</td>\n",
       "      <td>0</td>\n",
       "      <td>F</td>\n",
       "      <td>сотрудник</td>\n",
       "      <td>0</td>\n",
       "      <td>253875.639453</td>\n",
       "      <td>покупка жилья</td>\n",
       "    </tr>\n",
       "    <tr>\n",
       "      <th>1</th>\n",
       "      <td>1</td>\n",
       "      <td>-4024.803754</td>\n",
       "      <td>36</td>\n",
       "      <td>среднее</td>\n",
       "      <td>1</td>\n",
       "      <td>женат / замужем</td>\n",
       "      <td>0</td>\n",
       "      <td>F</td>\n",
       "      <td>сотрудник</td>\n",
       "      <td>0</td>\n",
       "      <td>112080.014102</td>\n",
       "      <td>приобретение автомобиля</td>\n",
       "    </tr>\n",
       "    <tr>\n",
       "      <th>2</th>\n",
       "      <td>0</td>\n",
       "      <td>-5623.422610</td>\n",
       "      <td>33</td>\n",
       "      <td>Среднее</td>\n",
       "      <td>1</td>\n",
       "      <td>женат / замужем</td>\n",
       "      <td>0</td>\n",
       "      <td>M</td>\n",
       "      <td>сотрудник</td>\n",
       "      <td>0</td>\n",
       "      <td>145885.952297</td>\n",
       "      <td>покупка жилья</td>\n",
       "    </tr>\n",
       "    <tr>\n",
       "      <th>3</th>\n",
       "      <td>3</td>\n",
       "      <td>-4124.747207</td>\n",
       "      <td>32</td>\n",
       "      <td>среднее</td>\n",
       "      <td>1</td>\n",
       "      <td>женат / замужем</td>\n",
       "      <td>0</td>\n",
       "      <td>M</td>\n",
       "      <td>сотрудник</td>\n",
       "      <td>0</td>\n",
       "      <td>267628.550329</td>\n",
       "      <td>дополнительное образование</td>\n",
       "    </tr>\n",
       "    <tr>\n",
       "      <th>4</th>\n",
       "      <td>0</td>\n",
       "      <td>340266.072047</td>\n",
       "      <td>53</td>\n",
       "      <td>среднее</td>\n",
       "      <td>1</td>\n",
       "      <td>гражданский брак</td>\n",
       "      <td>1</td>\n",
       "      <td>F</td>\n",
       "      <td>пенсионер</td>\n",
       "      <td>0</td>\n",
       "      <td>158616.077870</td>\n",
       "      <td>сыграть свадьбу</td>\n",
       "    </tr>\n",
       "    <tr>\n",
       "      <th>5</th>\n",
       "      <td>0</td>\n",
       "      <td>-926.185831</td>\n",
       "      <td>27</td>\n",
       "      <td>высшее</td>\n",
       "      <td>0</td>\n",
       "      <td>гражданский брак</td>\n",
       "      <td>1</td>\n",
       "      <td>M</td>\n",
       "      <td>компаньон</td>\n",
       "      <td>0</td>\n",
       "      <td>255763.565419</td>\n",
       "      <td>покупка жилья</td>\n",
       "    </tr>\n",
       "    <tr>\n",
       "      <th>6</th>\n",
       "      <td>0</td>\n",
       "      <td>-2879.202052</td>\n",
       "      <td>43</td>\n",
       "      <td>высшее</td>\n",
       "      <td>0</td>\n",
       "      <td>женат / замужем</td>\n",
       "      <td>0</td>\n",
       "      <td>F</td>\n",
       "      <td>компаньон</td>\n",
       "      <td>0</td>\n",
       "      <td>240525.971920</td>\n",
       "      <td>операции с жильем</td>\n",
       "    </tr>\n",
       "    <tr>\n",
       "      <th>7</th>\n",
       "      <td>0</td>\n",
       "      <td>-152.779569</td>\n",
       "      <td>50</td>\n",
       "      <td>СРЕДНЕЕ</td>\n",
       "      <td>1</td>\n",
       "      <td>женат / замужем</td>\n",
       "      <td>0</td>\n",
       "      <td>M</td>\n",
       "      <td>сотрудник</td>\n",
       "      <td>0</td>\n",
       "      <td>135823.934197</td>\n",
       "      <td>образование</td>\n",
       "    </tr>\n",
       "    <tr>\n",
       "      <th>8</th>\n",
       "      <td>2</td>\n",
       "      <td>-6929.865299</td>\n",
       "      <td>35</td>\n",
       "      <td>ВЫСШЕЕ</td>\n",
       "      <td>0</td>\n",
       "      <td>гражданский брак</td>\n",
       "      <td>1</td>\n",
       "      <td>F</td>\n",
       "      <td>сотрудник</td>\n",
       "      <td>0</td>\n",
       "      <td>95856.832424</td>\n",
       "      <td>на проведение свадьбы</td>\n",
       "    </tr>\n",
       "    <tr>\n",
       "      <th>9</th>\n",
       "      <td>0</td>\n",
       "      <td>-2188.756445</td>\n",
       "      <td>41</td>\n",
       "      <td>среднее</td>\n",
       "      <td>1</td>\n",
       "      <td>женат / замужем</td>\n",
       "      <td>0</td>\n",
       "      <td>M</td>\n",
       "      <td>сотрудник</td>\n",
       "      <td>0</td>\n",
       "      <td>144425.938277</td>\n",
       "      <td>покупка жилья для семьи</td>\n",
       "    </tr>\n",
       "  </tbody>\n",
       "</table>\n",
       "</div>"
      ],
      "text/plain": [
       "   children  days_employed  dob_years education  education_id  \\\n",
       "0         1   -8437.673028         42    высшее             0   \n",
       "1         1   -4024.803754         36   среднее             1   \n",
       "2         0   -5623.422610         33   Среднее             1   \n",
       "3         3   -4124.747207         32   среднее             1   \n",
       "4         0  340266.072047         53   среднее             1   \n",
       "5         0    -926.185831         27    высшее             0   \n",
       "6         0   -2879.202052         43    высшее             0   \n",
       "7         0    -152.779569         50   СРЕДНЕЕ             1   \n",
       "8         2   -6929.865299         35    ВЫСШЕЕ             0   \n",
       "9         0   -2188.756445         41   среднее             1   \n",
       "\n",
       "      family_status  family_status_id gender income_type  debt   total_income  \\\n",
       "0   женат / замужем                 0      F   сотрудник     0  253875.639453   \n",
       "1   женат / замужем                 0      F   сотрудник     0  112080.014102   \n",
       "2   женат / замужем                 0      M   сотрудник     0  145885.952297   \n",
       "3   женат / замужем                 0      M   сотрудник     0  267628.550329   \n",
       "4  гражданский брак                 1      F   пенсионер     0  158616.077870   \n",
       "5  гражданский брак                 1      M   компаньон     0  255763.565419   \n",
       "6   женат / замужем                 0      F   компаньон     0  240525.971920   \n",
       "7   женат / замужем                 0      M   сотрудник     0  135823.934197   \n",
       "8  гражданский брак                 1      F   сотрудник     0   95856.832424   \n",
       "9   женат / замужем                 0      M   сотрудник     0  144425.938277   \n",
       "\n",
       "                      purpose  \n",
       "0               покупка жилья  \n",
       "1     приобретение автомобиля  \n",
       "2               покупка жилья  \n",
       "3  дополнительное образование  \n",
       "4             сыграть свадьбу  \n",
       "5               покупка жилья  \n",
       "6           операции с жильем  \n",
       "7                 образование  \n",
       "8       на проведение свадьбы  \n",
       "9     покупка жилья для семьи  "
      ]
     },
     "metadata": {},
     "output_type": "display_data"
    },
    {
     "name": "stdout",
     "output_type": "stream",
     "text": [
      "\n",
      "\n",
      "<class 'pandas.core.frame.DataFrame'>\n",
      "RangeIndex: 21525 entries, 0 to 21524\n",
      "Data columns (total 12 columns):\n",
      " #   Column            Non-Null Count  Dtype  \n",
      "---  ------            --------------  -----  \n",
      " 0   children          21525 non-null  int64  \n",
      " 1   days_employed     19351 non-null  float64\n",
      " 2   dob_years         21525 non-null  int64  \n",
      " 3   education         21525 non-null  object \n",
      " 4   education_id      21525 non-null  int64  \n",
      " 5   family_status     21525 non-null  object \n",
      " 6   family_status_id  21525 non-null  int64  \n",
      " 7   gender            21525 non-null  object \n",
      " 8   income_type       21525 non-null  object \n",
      " 9   debt              21525 non-null  int64  \n",
      " 10  total_income      19351 non-null  float64\n",
      " 11  purpose           21525 non-null  object \n",
      "dtypes: float64(2), int64(5), object(5)\n",
      "memory usage: 2.0+ MB\n"
     ]
    }
   ],
   "source": [
    "import pandas as pd\n",
    "data = pd.read_csv('/datasets/data.csv')\n",
    "display(data.head(10)) # получение первых 10 строк таблицы data\n",
    "print()\n",
    "print()\n",
    "data.info() # получение общей информации о данных в таблице data"
   ]
  },
  {
   "cell_type": "markdown",
   "id": "24447af6",
   "metadata": {},
   "source": [
    "В таблице 11 столбцов.\n",
    "Согласно документации к данным:\n",
    "\n",
    "* `children` — количество детей в семье;\n",
    "* `days_employed` — общий трудовой стаж в днях;  \n",
    "* `dob_years` — возраст клиента в годах;\n",
    "* `education` — уровень образования клиента;\n",
    "* `education_id` — идентификатор уровня образования;\n",
    "* `family_status` — семейное положение;\n",
    "* `family_status_id` — идентификатор семейного положения;\n",
    "* `gender` — пол клиента;\n",
    "* `income_type` — тип занятости;  \n",
    "* `debt` —  имел ли задолженность по возврату кредитов;\n",
    "* `total_income` — ежемесячный доход;\n",
    "* `purpose` — цель получения кредита."
   ]
  },
  {
   "cell_type": "markdown",
   "id": "27cf8cdf",
   "metadata": {},
   "source": [
    "**Выводы**\n",
    "\n",
    "В каждой строке таблицы — данные об одном клиенте. Часть колонок описывает основные характеристики  клиента: пол, возраст, уровень дохода, уровень образования, трудовой стаж, тип занятости, семейное положение, количество детей в семье. Еще две колонки имеют отношение непосредственно к кредиту: цель кредита и факт его возврата в срок.\n",
    "\n",
    "Можно предположить, что этих данных достаточно для проверки гипотезы, но сначала нужно устранить следующие проблемы:\n",
    "\n",
    "1. Столбцы `days_employed` и `total_income` содержат пропуски. Их нужно заменить подходящим значением.\n",
    "2. В столбце `days_employed` содержатся отрицательные значения, что противоречит характеру содержащихся в нем данных (трудовой стаж). Необходимо исправить это и проверить столбец на наличие других аномалий.\n",
    "3. В столбцах `days_employed`и `total_income`неудачно выбран тип данных: float. Имеет смысл заменить его на int.\n",
    "4. В столблце `education` некоторые ячейки заполнены капсолоком, что является причиной появления дубликатов. Необходимо исправить это, а также проверить остальные данные на наличие явных и скрытых дубликтов.\n",
    "5. Данные из столбцов `total_income` и `purpose` для проверки гипотез удобнее объединить в несколько категорий."
   ]
  },
  {
   "cell_type": "markdown",
   "id": "4bf6ce09",
   "metadata": {},
   "source": [
    "## Предобработка данных"
   ]
  },
  {
   "cell_type": "markdown",
   "id": "0e776afa",
   "metadata": {},
   "source": [
    "### Заполнение пропусков."
   ]
  },
  {
   "cell_type": "markdown",
   "id": "270b96f0",
   "metadata": {},
   "source": [
    "Найдем пропущенные значения в столбце `total_income`."
   ]
  },
  {
   "cell_type": "code",
   "execution_count": 2,
   "id": "f46b301d",
   "metadata": {},
   "outputs": [
    {
     "data": {
      "text/plain": [
       "2174"
      ]
     },
     "metadata": {},
     "output_type": "display_data"
    },
    {
     "data": {
      "text/plain": [
       "10.099883855981417"
      ]
     },
     "execution_count": 2,
     "metadata": {},
     "output_type": "execute_result"
    }
   ],
   "source": [
    "# фильтр для строк в столбце 'total_income',\n",
    "#содержащих Nan, и их подсчёт\n",
    "total_income_nan = len(data[data['total_income'].isna()])\n",
    "display(total_income_nan)\n",
    "total_income_nan / len(data) * 100"
   ]
  },
  {
   "cell_type": "code",
   "execution_count": 3,
   "id": "b6efe1fc",
   "metadata": {},
   "outputs": [
    {
     "data": {
      "text/plain": [
       "2174"
      ]
     },
     "metadata": {},
     "output_type": "display_data"
    },
    {
     "data": {
      "text/plain": [
       "10.099883855981417"
      ]
     },
     "execution_count": 3,
     "metadata": {},
     "output_type": "execute_result"
    }
   ],
   "source": [
    "# фильтр для строк в столбце 'days_employed',\n",
    "#содержащих Nan, и их подсчёт\n",
    "days_employed_nan = len(data[data['days_employed'].isna()])\n",
    "display(days_employed_nan)\n",
    "days_employed_nan / len(data) * 100"
   ]
  },
  {
   "cell_type": "markdown",
   "id": "3064bf29",
   "metadata": {},
   "source": [
    "В столбцах с уровнем доходов и трудовым стажем найдено по 2174 значений Nan, что составляет чуть больше 10% от общего количества данных.\n",
    "\n",
    "Заполним пропущенные значения в столбце `total_income` медианным значением. Этот метод лучше подходит для количественных значений, которые могут содержать \"выбросы\" (что характерно для уровня доходов)."
   ]
  },
  {
   "cell_type": "code",
   "execution_count": 4,
   "id": "05aee66c",
   "metadata": {},
   "outputs": [
    {
     "data": {
      "text/plain": [
       "145017.93753253992"
      ]
     },
     "execution_count": 4,
     "metadata": {},
     "output_type": "execute_result"
    }
   ],
   "source": [
    "total_income_median = data['total_income'].median() # вычисление медианного значения\n",
    "total_income_median"
   ]
  },
  {
   "cell_type": "code",
   "execution_count": 5,
   "id": "6c7e3fda",
   "metadata": {},
   "outputs": [],
   "source": [
    "data['total_income'] = data['total_income'].fillna(data['total_income'].median()) # замена Nan на медианное значение"
   ]
  },
  {
   "cell_type": "code",
   "execution_count": 6,
   "id": "713caffb",
   "metadata": {
    "scrolled": true
   },
   "outputs": [
    {
     "data": {
      "text/plain": [
       "0"
      ]
     },
     "execution_count": 6,
     "metadata": {},
     "output_type": "execute_result"
    }
   ],
   "source": [
    "len(data[data['total_income'].isna()]) # проверка"
   ]
  },
  {
   "cell_type": "markdown",
   "id": "ca700ab4",
   "metadata": {},
   "source": [
    "### Проверка данных на аномалии и исправления."
   ]
  },
  {
   "cell_type": "code",
   "execution_count": 7,
   "id": "272f83d5",
   "metadata": {},
   "outputs": [
    {
     "data": {
      "text/plain": [
       "15906"
      ]
     },
     "execution_count": 7,
     "metadata": {},
     "output_type": "execute_result"
    }
   ],
   "source": [
    "# количество отрицательных значений в столбце 'days_employed'\n",
    "len(data.loc[data['days_employed'] < 0, 'days_employed'])"
   ]
  },
  {
   "cell_type": "markdown",
   "id": "0df86888",
   "metadata": {},
   "source": [
    "В столбце 'days_employed' большая часть данных - отрицательные числа. Судя по их количеству, это технологическая ошибка."
   ]
  },
  {
   "cell_type": "code",
   "execution_count": 8,
   "id": "f7193b3c",
   "metadata": {},
   "outputs": [],
   "source": [
    "# замена отрицательных значений в столбце 'days_employed' на абсолютные\n",
    "data.loc[data['days_employed'] < 0, 'days_employed'] = data['days_employed'].abs()"
   ]
  },
  {
   "cell_type": "code",
   "execution_count": 9,
   "id": "a70e7036",
   "metadata": {},
   "outputs": [
    {
     "data": {
      "text/plain": [
       "0       8437.673028\n",
       "1       4024.803754\n",
       "2       5623.422610\n",
       "3       4124.747207\n",
       "4     340266.072047\n",
       "5        926.185831\n",
       "6       2879.202052\n",
       "7        152.779569\n",
       "8       6929.865299\n",
       "9       2188.756445\n",
       "10      4171.483647\n",
       "11       792.701887\n",
       "12              NaN\n",
       "13      1846.641941\n",
       "14      1844.956182\n",
       "Name: days_employed, dtype: float64"
      ]
     },
     "execution_count": 9,
     "metadata": {},
     "output_type": "execute_result"
    }
   ],
   "source": [
    "data['days_employed'].head(15)"
   ]
  },
  {
   "cell_type": "code",
   "execution_count": 10,
   "id": "d3c82c53",
   "metadata": {},
   "outputs": [
    {
     "data": {
      "text/plain": [
       "0"
      ]
     },
     "execution_count": 10,
     "metadata": {},
     "output_type": "execute_result"
    }
   ],
   "source": [
    "# проверка, остались ли отрицательные значения в столбце 'days_employed'\n",
    "len(data.loc[data['days_employed'] < 0, 'days_employed'])"
   ]
  },
  {
   "cell_type": "code",
   "execution_count": 11,
   "id": "9a3dc2c8",
   "metadata": {},
   "outputs": [
    {
     "data": {
      "text/plain": [
       "101"
      ]
     },
     "metadata": {},
     "output_type": "display_data"
    },
    {
     "data": {
      "text/plain": [
       "0.4692218350754936"
      ]
     },
     "execution_count": 11,
     "metadata": {},
     "output_type": "execute_result"
    }
   ],
   "source": [
    "# проверка столбца с возрастом клиента на нулевые значения\n",
    "dob_years_0 = len(data.loc[data['dob_years'] == 0])\n",
    "display(dob_years_0)\n",
    "dob_years_0 / len(data) * 100"
   ]
  },
  {
   "cell_type": "markdown",
   "id": "f7f8106c",
   "metadata": {},
   "source": [
    "В столбце с возрастом клиентов содержится 101 строка, где возраст равен нулю. Это составляет около 0,4% от общего количества данных, следовательно, этими данными можно пренебречь.\n",
    "\n",
    "Проверим, насколько трудовой стаж соответствует возрасту клиентов."
   ]
  },
  {
   "cell_type": "code",
   "execution_count": 12,
   "id": "76adeed6",
   "metadata": {},
   "outputs": [
    {
     "data": {
      "text/plain": [
       "3446"
      ]
     },
     "metadata": {},
     "output_type": "display_data"
    },
    {
     "data": {
      "text/plain": [
       "16.00929152148664"
      ]
     },
     "execution_count": 12,
     "metadata": {},
     "output_type": "execute_result"
    }
   ],
   "source": [
    "# количество клиентов с трудовым стажем более 50 лет\n",
    "old_employees = len(data.loc[data['days_employed'] > 50*365, 'days_employed'])\n",
    "display(old_employees)\n",
    "old_employees / len(data) * 100"
   ]
  },
  {
   "cell_type": "code",
   "execution_count": 13,
   "id": "0cf2b80f",
   "metadata": {},
   "outputs": [
    {
     "data": {
      "text/plain": [
       "106"
      ]
     },
     "metadata": {},
     "output_type": "display_data"
    },
    {
     "data": {
      "text/plain": [
       "0.4924506387921022"
      ]
     },
     "execution_count": 13,
     "metadata": {},
     "output_type": "execute_result"
    }
   ],
   "source": [
    "# количество клиентов старше 70 лет\n",
    "old_clients = len(data.loc[data['dob_years'] > 70, 'dob_years'])\n",
    "display(old_clients)\n",
    "old_clients / len(data) * 100"
   ]
  },
  {
   "cell_type": "markdown",
   "id": "746e650a",
   "metadata": {},
   "source": [
    "В столбце 'days_employed' выявлено 16% клиентов, чей стаж превышает 50 лет, при этом клиентов, старше 70 лет, всего 0,5%. Значит, в данных есть ошибки.\n",
    "\n",
    "Проверим столбец с трудовым стажем на наличие других аномалий. Так, в строке с индексом 4 этого столбца указан стаж 340266 дней, т.е. более 900 лет."
   ]
  },
  {
   "cell_type": "code",
   "execution_count": 14,
   "id": "1a94a5f0",
   "metadata": {},
   "outputs": [
    {
     "data": {
      "text/plain": [
       "3445"
      ]
     },
     "execution_count": 14,
     "metadata": {},
     "output_type": "execute_result"
    }
   ],
   "source": [
    "# выявление строк с аномальным трудовым стажем (более 100 лет)\n",
    "len(data.loc[data['days_employed'] > 100*365, 'days_employed'])"
   ]
  },
  {
   "cell_type": "markdown",
   "id": "7155be6b",
   "metadata": {},
   "source": [
    "Избавимся от аномальных значений. Для этого выявим минимальное значение среди аномальных. Затем напишем функцию, которая заменит все превышающие его значения на максимально возможный трудовой стаж."
   ]
  },
  {
   "cell_type": "code",
   "execution_count": 15,
   "id": "a8f082e1",
   "metadata": {},
   "outputs": [
    {
     "data": {
      "text/plain": [
       "328728.72060451825"
      ]
     },
     "execution_count": 15,
     "metadata": {},
     "output_type": "execute_result"
    }
   ],
   "source": [
    "# нахождение минимального значения среди всех аномальных (более 100 лет)\n",
    "data.loc[data['days_employed'] > 100*365, 'days_employed'].min()"
   ]
  },
  {
   "cell_type": "code",
   "execution_count": 16,
   "id": "ae0aca17",
   "metadata": {},
   "outputs": [
    {
     "data": {
      "text/html": [
       "<div>\n",
       "<style scoped>\n",
       "    .dataframe tbody tr th:only-of-type {\n",
       "        vertical-align: middle;\n",
       "    }\n",
       "\n",
       "    .dataframe tbody tr th {\n",
       "        vertical-align: top;\n",
       "    }\n",
       "\n",
       "    .dataframe thead th {\n",
       "        text-align: right;\n",
       "    }\n",
       "</style>\n",
       "<table border=\"1\" class=\"dataframe\">\n",
       "  <thead>\n",
       "    <tr style=\"text-align: right;\">\n",
       "      <th></th>\n",
       "      <th>children</th>\n",
       "      <th>days_employed</th>\n",
       "      <th>dob_years</th>\n",
       "      <th>education</th>\n",
       "      <th>education_id</th>\n",
       "      <th>family_status</th>\n",
       "      <th>family_status_id</th>\n",
       "      <th>gender</th>\n",
       "      <th>income_type</th>\n",
       "      <th>debt</th>\n",
       "      <th>total_income</th>\n",
       "      <th>purpose</th>\n",
       "    </tr>\n",
       "  </thead>\n",
       "  <tbody>\n",
       "    <tr>\n",
       "      <th>0</th>\n",
       "      <td>1</td>\n",
       "      <td>8437.673028</td>\n",
       "      <td>42</td>\n",
       "      <td>высшее</td>\n",
       "      <td>0</td>\n",
       "      <td>женат / замужем</td>\n",
       "      <td>0</td>\n",
       "      <td>F</td>\n",
       "      <td>сотрудник</td>\n",
       "      <td>0</td>\n",
       "      <td>253875.639453</td>\n",
       "      <td>покупка жилья</td>\n",
       "    </tr>\n",
       "    <tr>\n",
       "      <th>1</th>\n",
       "      <td>1</td>\n",
       "      <td>4024.803754</td>\n",
       "      <td>36</td>\n",
       "      <td>среднее</td>\n",
       "      <td>1</td>\n",
       "      <td>женат / замужем</td>\n",
       "      <td>0</td>\n",
       "      <td>F</td>\n",
       "      <td>сотрудник</td>\n",
       "      <td>0</td>\n",
       "      <td>112080.014102</td>\n",
       "      <td>приобретение автомобиля</td>\n",
       "    </tr>\n",
       "    <tr>\n",
       "      <th>2</th>\n",
       "      <td>0</td>\n",
       "      <td>5623.422610</td>\n",
       "      <td>33</td>\n",
       "      <td>Среднее</td>\n",
       "      <td>1</td>\n",
       "      <td>женат / замужем</td>\n",
       "      <td>0</td>\n",
       "      <td>M</td>\n",
       "      <td>сотрудник</td>\n",
       "      <td>0</td>\n",
       "      <td>145885.952297</td>\n",
       "      <td>покупка жилья</td>\n",
       "    </tr>\n",
       "    <tr>\n",
       "      <th>3</th>\n",
       "      <td>3</td>\n",
       "      <td>4124.747207</td>\n",
       "      <td>32</td>\n",
       "      <td>среднее</td>\n",
       "      <td>1</td>\n",
       "      <td>женат / замужем</td>\n",
       "      <td>0</td>\n",
       "      <td>M</td>\n",
       "      <td>сотрудник</td>\n",
       "      <td>0</td>\n",
       "      <td>267628.550329</td>\n",
       "      <td>дополнительное образование</td>\n",
       "    </tr>\n",
       "    <tr>\n",
       "      <th>4</th>\n",
       "      <td>0</td>\n",
       "      <td>12775.000000</td>\n",
       "      <td>53</td>\n",
       "      <td>среднее</td>\n",
       "      <td>1</td>\n",
       "      <td>гражданский брак</td>\n",
       "      <td>1</td>\n",
       "      <td>F</td>\n",
       "      <td>пенсионер</td>\n",
       "      <td>0</td>\n",
       "      <td>158616.077870</td>\n",
       "      <td>сыграть свадьбу</td>\n",
       "    </tr>\n",
       "    <tr>\n",
       "      <th>5</th>\n",
       "      <td>0</td>\n",
       "      <td>926.185831</td>\n",
       "      <td>27</td>\n",
       "      <td>высшее</td>\n",
       "      <td>0</td>\n",
       "      <td>гражданский брак</td>\n",
       "      <td>1</td>\n",
       "      <td>M</td>\n",
       "      <td>компаньон</td>\n",
       "      <td>0</td>\n",
       "      <td>255763.565419</td>\n",
       "      <td>покупка жилья</td>\n",
       "    </tr>\n",
       "    <tr>\n",
       "      <th>6</th>\n",
       "      <td>0</td>\n",
       "      <td>2879.202052</td>\n",
       "      <td>43</td>\n",
       "      <td>высшее</td>\n",
       "      <td>0</td>\n",
       "      <td>женат / замужем</td>\n",
       "      <td>0</td>\n",
       "      <td>F</td>\n",
       "      <td>компаньон</td>\n",
       "      <td>0</td>\n",
       "      <td>240525.971920</td>\n",
       "      <td>операции с жильем</td>\n",
       "    </tr>\n",
       "    <tr>\n",
       "      <th>7</th>\n",
       "      <td>0</td>\n",
       "      <td>152.779569</td>\n",
       "      <td>50</td>\n",
       "      <td>СРЕДНЕЕ</td>\n",
       "      <td>1</td>\n",
       "      <td>женат / замужем</td>\n",
       "      <td>0</td>\n",
       "      <td>M</td>\n",
       "      <td>сотрудник</td>\n",
       "      <td>0</td>\n",
       "      <td>135823.934197</td>\n",
       "      <td>образование</td>\n",
       "    </tr>\n",
       "    <tr>\n",
       "      <th>8</th>\n",
       "      <td>2</td>\n",
       "      <td>6929.865299</td>\n",
       "      <td>35</td>\n",
       "      <td>ВЫСШЕЕ</td>\n",
       "      <td>0</td>\n",
       "      <td>гражданский брак</td>\n",
       "      <td>1</td>\n",
       "      <td>F</td>\n",
       "      <td>сотрудник</td>\n",
       "      <td>0</td>\n",
       "      <td>95856.832424</td>\n",
       "      <td>на проведение свадьбы</td>\n",
       "    </tr>\n",
       "    <tr>\n",
       "      <th>9</th>\n",
       "      <td>0</td>\n",
       "      <td>2188.756445</td>\n",
       "      <td>41</td>\n",
       "      <td>среднее</td>\n",
       "      <td>1</td>\n",
       "      <td>женат / замужем</td>\n",
       "      <td>0</td>\n",
       "      <td>M</td>\n",
       "      <td>сотрудник</td>\n",
       "      <td>0</td>\n",
       "      <td>144425.938277</td>\n",
       "      <td>покупка жилья для семьи</td>\n",
       "    </tr>\n",
       "  </tbody>\n",
       "</table>\n",
       "</div>"
      ],
      "text/plain": [
       "   children  days_employed  dob_years education  education_id  \\\n",
       "0         1    8437.673028         42    высшее             0   \n",
       "1         1    4024.803754         36   среднее             1   \n",
       "2         0    5623.422610         33   Среднее             1   \n",
       "3         3    4124.747207         32   среднее             1   \n",
       "4         0   12775.000000         53   среднее             1   \n",
       "5         0     926.185831         27    высшее             0   \n",
       "6         0    2879.202052         43    высшее             0   \n",
       "7         0     152.779569         50   СРЕДНЕЕ             1   \n",
       "8         2    6929.865299         35    ВЫСШЕЕ             0   \n",
       "9         0    2188.756445         41   среднее             1   \n",
       "\n",
       "      family_status  family_status_id gender income_type  debt   total_income  \\\n",
       "0   женат / замужем                 0      F   сотрудник     0  253875.639453   \n",
       "1   женат / замужем                 0      F   сотрудник     0  112080.014102   \n",
       "2   женат / замужем                 0      M   сотрудник     0  145885.952297   \n",
       "3   женат / замужем                 0      M   сотрудник     0  267628.550329   \n",
       "4  гражданский брак                 1      F   пенсионер     0  158616.077870   \n",
       "5  гражданский брак                 1      M   компаньон     0  255763.565419   \n",
       "6   женат / замужем                 0      F   компаньон     0  240525.971920   \n",
       "7   женат / замужем                 0      M   сотрудник     0  135823.934197   \n",
       "8  гражданский брак                 1      F   сотрудник     0   95856.832424   \n",
       "9   женат / замужем                 0      M   сотрудник     0  144425.938277   \n",
       "\n",
       "                      purpose  \n",
       "0               покупка жилья  \n",
       "1     приобретение автомобиля  \n",
       "2               покупка жилья  \n",
       "3  дополнительное образование  \n",
       "4             сыграть свадьбу  \n",
       "5               покупка жилья  \n",
       "6           операции с жильем  \n",
       "7                 образование  \n",
       "8       на проведение свадьбы  \n",
       "9     покупка жилья для семьи  "
      ]
     },
     "execution_count": 16,
     "metadata": {},
     "output_type": "execute_result"
    }
   ],
   "source": [
    "# функция для замены аномальных значений в столбце 'days_employed' на максимально\n",
    "# возможный трудовой стаж\n",
    "max_days_employed = data.loc[data['days_employed'] > 100*365, 'days_employed'].min()\n",
    "\n",
    "def days_employed_anomaly(row):\n",
    "    days_employed = row['days_employed']\n",
    "    dob_years = row['dob_years']\n",
    "    \n",
    "    if days_employed > max_days_employed:\n",
    "        days_employed = (dob_years - 18) * 365\n",
    "    return days_employed\n",
    "\n",
    "data['days_employed'] = data.apply(days_employed_anomaly, axis=1)\n",
    "data.head(10)"
   ]
  },
  {
   "cell_type": "markdown",
   "id": "a9b051a8",
   "metadata": {},
   "source": [
    "Теперь можно вычислить медианное значение для столбца 'days_employed' и заполнить пропуски."
   ]
  },
  {
   "cell_type": "code",
   "execution_count": 17,
   "id": "01c3c3b0",
   "metadata": {},
   "outputs": [
    {
     "data": {
      "text/plain": [
       "2188.7564450779378"
      ]
     },
     "execution_count": 17,
     "metadata": {},
     "output_type": "execute_result"
    }
   ],
   "source": [
    "# вычисление медианного значения\n",
    "days_employed_median = data['days_employed'].median()\n",
    "days_employed_median"
   ]
  },
  {
   "cell_type": "code",
   "execution_count": 18,
   "id": "58483946",
   "metadata": {},
   "outputs": [],
   "source": [
    "# замена пропусков на медианное значение\n",
    "data['days_employed'] = data['days_employed'].fillna(data['days_employed'].median())"
   ]
  },
  {
   "cell_type": "markdown",
   "id": "11fa699e",
   "metadata": {},
   "source": [
    "Проверим остальные столбцы на аномалии."
   ]
  },
  {
   "cell_type": "code",
   "execution_count": 19,
   "id": "5bbdcf5a",
   "metadata": {},
   "outputs": [
    {
     "data": {
      "text/plain": [
       " 0     14149\n",
       " 1      4818\n",
       " 2      2055\n",
       " 3       330\n",
       " 20       76\n",
       "-1        47\n",
       " 4        41\n",
       " 5         9\n",
       "Name: children, dtype: int64"
      ]
     },
     "execution_count": 19,
     "metadata": {},
     "output_type": "execute_result"
    }
   ],
   "source": [
    "# проверка столбца \"children\" на аномалии\n",
    "data['children'].value_counts()"
   ]
  },
  {
   "cell_type": "markdown",
   "id": "0875ac0e",
   "metadata": {},
   "source": [
    "В столбце `children` датасета содержатся аномальные значения: -1 ребенок и 20 детей. Так как их доля невелика, удалим эти строки."
   ]
  },
  {
   "cell_type": "code",
   "execution_count": 20,
   "id": "77655c48",
   "metadata": {},
   "outputs": [
    {
     "data": {
      "text/html": [
       "<div>\n",
       "<style scoped>\n",
       "    .dataframe tbody tr th:only-of-type {\n",
       "        vertical-align: middle;\n",
       "    }\n",
       "\n",
       "    .dataframe tbody tr th {\n",
       "        vertical-align: top;\n",
       "    }\n",
       "\n",
       "    .dataframe thead th {\n",
       "        text-align: right;\n",
       "    }\n",
       "</style>\n",
       "<table border=\"1\" class=\"dataframe\">\n",
       "  <thead>\n",
       "    <tr style=\"text-align: right;\">\n",
       "      <th></th>\n",
       "      <th>children</th>\n",
       "      <th>days_employed</th>\n",
       "      <th>dob_years</th>\n",
       "      <th>education</th>\n",
       "      <th>education_id</th>\n",
       "      <th>family_status</th>\n",
       "      <th>family_status_id</th>\n",
       "      <th>gender</th>\n",
       "      <th>income_type</th>\n",
       "      <th>debt</th>\n",
       "      <th>total_income</th>\n",
       "      <th>purpose</th>\n",
       "    </tr>\n",
       "  </thead>\n",
       "  <tbody>\n",
       "    <tr>\n",
       "      <th>0</th>\n",
       "      <td>1</td>\n",
       "      <td>8437.673028</td>\n",
       "      <td>42</td>\n",
       "      <td>высшее</td>\n",
       "      <td>0</td>\n",
       "      <td>женат / замужем</td>\n",
       "      <td>0</td>\n",
       "      <td>F</td>\n",
       "      <td>сотрудник</td>\n",
       "      <td>0</td>\n",
       "      <td>253875.639453</td>\n",
       "      <td>покупка жилья</td>\n",
       "    </tr>\n",
       "    <tr>\n",
       "      <th>1</th>\n",
       "      <td>1</td>\n",
       "      <td>4024.803754</td>\n",
       "      <td>36</td>\n",
       "      <td>среднее</td>\n",
       "      <td>1</td>\n",
       "      <td>женат / замужем</td>\n",
       "      <td>0</td>\n",
       "      <td>F</td>\n",
       "      <td>сотрудник</td>\n",
       "      <td>0</td>\n",
       "      <td>112080.014102</td>\n",
       "      <td>приобретение автомобиля</td>\n",
       "    </tr>\n",
       "    <tr>\n",
       "      <th>2</th>\n",
       "      <td>0</td>\n",
       "      <td>5623.422610</td>\n",
       "      <td>33</td>\n",
       "      <td>Среднее</td>\n",
       "      <td>1</td>\n",
       "      <td>женат / замужем</td>\n",
       "      <td>0</td>\n",
       "      <td>M</td>\n",
       "      <td>сотрудник</td>\n",
       "      <td>0</td>\n",
       "      <td>145885.952297</td>\n",
       "      <td>покупка жилья</td>\n",
       "    </tr>\n",
       "    <tr>\n",
       "      <th>3</th>\n",
       "      <td>3</td>\n",
       "      <td>4124.747207</td>\n",
       "      <td>32</td>\n",
       "      <td>среднее</td>\n",
       "      <td>1</td>\n",
       "      <td>женат / замужем</td>\n",
       "      <td>0</td>\n",
       "      <td>M</td>\n",
       "      <td>сотрудник</td>\n",
       "      <td>0</td>\n",
       "      <td>267628.550329</td>\n",
       "      <td>дополнительное образование</td>\n",
       "    </tr>\n",
       "    <tr>\n",
       "      <th>4</th>\n",
       "      <td>0</td>\n",
       "      <td>12775.000000</td>\n",
       "      <td>53</td>\n",
       "      <td>среднее</td>\n",
       "      <td>1</td>\n",
       "      <td>гражданский брак</td>\n",
       "      <td>1</td>\n",
       "      <td>F</td>\n",
       "      <td>пенсионер</td>\n",
       "      <td>0</td>\n",
       "      <td>158616.077870</td>\n",
       "      <td>сыграть свадьбу</td>\n",
       "    </tr>\n",
       "    <tr>\n",
       "      <th>...</th>\n",
       "      <td>...</td>\n",
       "      <td>...</td>\n",
       "      <td>...</td>\n",
       "      <td>...</td>\n",
       "      <td>...</td>\n",
       "      <td>...</td>\n",
       "      <td>...</td>\n",
       "      <td>...</td>\n",
       "      <td>...</td>\n",
       "      <td>...</td>\n",
       "      <td>...</td>\n",
       "      <td>...</td>\n",
       "    </tr>\n",
       "    <tr>\n",
       "      <th>21397</th>\n",
       "      <td>1</td>\n",
       "      <td>4529.316663</td>\n",
       "      <td>43</td>\n",
       "      <td>среднее</td>\n",
       "      <td>1</td>\n",
       "      <td>гражданский брак</td>\n",
       "      <td>1</td>\n",
       "      <td>F</td>\n",
       "      <td>компаньон</td>\n",
       "      <td>0</td>\n",
       "      <td>224791.862382</td>\n",
       "      <td>операции с жильем</td>\n",
       "    </tr>\n",
       "    <tr>\n",
       "      <th>21398</th>\n",
       "      <td>0</td>\n",
       "      <td>17885.000000</td>\n",
       "      <td>67</td>\n",
       "      <td>среднее</td>\n",
       "      <td>1</td>\n",
       "      <td>женат / замужем</td>\n",
       "      <td>0</td>\n",
       "      <td>F</td>\n",
       "      <td>пенсионер</td>\n",
       "      <td>0</td>\n",
       "      <td>155999.806512</td>\n",
       "      <td>сделка с автомобилем</td>\n",
       "    </tr>\n",
       "    <tr>\n",
       "      <th>21399</th>\n",
       "      <td>1</td>\n",
       "      <td>2113.346888</td>\n",
       "      <td>38</td>\n",
       "      <td>среднее</td>\n",
       "      <td>1</td>\n",
       "      <td>гражданский брак</td>\n",
       "      <td>1</td>\n",
       "      <td>M</td>\n",
       "      <td>сотрудник</td>\n",
       "      <td>1</td>\n",
       "      <td>89672.561153</td>\n",
       "      <td>недвижимость</td>\n",
       "    </tr>\n",
       "    <tr>\n",
       "      <th>21400</th>\n",
       "      <td>3</td>\n",
       "      <td>3112.481705</td>\n",
       "      <td>38</td>\n",
       "      <td>среднее</td>\n",
       "      <td>1</td>\n",
       "      <td>женат / замужем</td>\n",
       "      <td>0</td>\n",
       "      <td>M</td>\n",
       "      <td>сотрудник</td>\n",
       "      <td>1</td>\n",
       "      <td>244093.050500</td>\n",
       "      <td>на покупку своего автомобиля</td>\n",
       "    </tr>\n",
       "    <tr>\n",
       "      <th>21401</th>\n",
       "      <td>2</td>\n",
       "      <td>1984.507589</td>\n",
       "      <td>40</td>\n",
       "      <td>среднее</td>\n",
       "      <td>1</td>\n",
       "      <td>женат / замужем</td>\n",
       "      <td>0</td>\n",
       "      <td>F</td>\n",
       "      <td>сотрудник</td>\n",
       "      <td>0</td>\n",
       "      <td>82047.418899</td>\n",
       "      <td>на покупку автомобиля</td>\n",
       "    </tr>\n",
       "  </tbody>\n",
       "</table>\n",
       "<p>21402 rows × 12 columns</p>\n",
       "</div>"
      ],
      "text/plain": [
       "       children  days_employed  dob_years education  education_id  \\\n",
       "0             1    8437.673028         42    высшее             0   \n",
       "1             1    4024.803754         36   среднее             1   \n",
       "2             0    5623.422610         33   Среднее             1   \n",
       "3             3    4124.747207         32   среднее             1   \n",
       "4             0   12775.000000         53   среднее             1   \n",
       "...         ...            ...        ...       ...           ...   \n",
       "21397         1    4529.316663         43   среднее             1   \n",
       "21398         0   17885.000000         67   среднее             1   \n",
       "21399         1    2113.346888         38   среднее             1   \n",
       "21400         3    3112.481705         38   среднее             1   \n",
       "21401         2    1984.507589         40   среднее             1   \n",
       "\n",
       "          family_status  family_status_id gender income_type  debt  \\\n",
       "0       женат / замужем                 0      F   сотрудник     0   \n",
       "1       женат / замужем                 0      F   сотрудник     0   \n",
       "2       женат / замужем                 0      M   сотрудник     0   \n",
       "3       женат / замужем                 0      M   сотрудник     0   \n",
       "4      гражданский брак                 1      F   пенсионер     0   \n",
       "...                 ...               ...    ...         ...   ...   \n",
       "21397  гражданский брак                 1      F   компаньон     0   \n",
       "21398   женат / замужем                 0      F   пенсионер     0   \n",
       "21399  гражданский брак                 1      M   сотрудник     1   \n",
       "21400   женат / замужем                 0      M   сотрудник     1   \n",
       "21401   женат / замужем                 0      F   сотрудник     0   \n",
       "\n",
       "        total_income                       purpose  \n",
       "0      253875.639453                 покупка жилья  \n",
       "1      112080.014102       приобретение автомобиля  \n",
       "2      145885.952297                 покупка жилья  \n",
       "3      267628.550329    дополнительное образование  \n",
       "4      158616.077870               сыграть свадьбу  \n",
       "...              ...                           ...  \n",
       "21397  224791.862382             операции с жильем  \n",
       "21398  155999.806512          сделка с автомобилем  \n",
       "21399   89672.561153                  недвижимость  \n",
       "21400  244093.050500  на покупку своего автомобиля  \n",
       "21401   82047.418899         на покупку автомобиля  \n",
       "\n",
       "[21402 rows x 12 columns]"
      ]
     },
     "execution_count": 20,
     "metadata": {},
     "output_type": "execute_result"
    }
   ],
   "source": [
    "# удаление строк, где детей 20 и -1\n",
    "data = data.loc[data['children'] != 20]\n",
    "data = data.loc[data['children'] != -1]\n",
    "data.reset_index(drop=True)"
   ]
  },
  {
   "cell_type": "code",
   "execution_count": 21,
   "id": "498c8a9e",
   "metadata": {
    "scrolled": true
   },
   "outputs": [
    {
     "data": {
      "text/plain": [
       "0    14149\n",
       "1     4818\n",
       "2     2055\n",
       "3      330\n",
       "4       41\n",
       "5        9\n",
       "Name: children, dtype: int64"
      ]
     },
     "execution_count": 21,
     "metadata": {},
     "output_type": "execute_result"
    }
   ],
   "source": [
    "data['children'].value_counts()"
   ]
  },
  {
   "cell_type": "code",
   "execution_count": 22,
   "id": "fd24eab0",
   "metadata": {},
   "outputs": [
    {
     "data": {
      "text/plain": [
       "35    614\n",
       "40    603\n",
       "41    603\n",
       "34    597\n",
       "38    595\n",
       "42    592\n",
       "33    577\n",
       "39    572\n",
       "31    556\n",
       "36    553\n",
       "29    543\n",
       "44    543\n",
       "48    536\n",
       "30    536\n",
       "37    531\n",
       "43    510\n",
       "50    509\n",
       "32    506\n",
       "49    505\n",
       "28    501\n",
       "45    494\n",
       "27    490\n",
       "52    483\n",
       "56    482\n",
       "47    480\n",
       "54    476\n",
       "46    469\n",
       "58    461\n",
       "53    457\n",
       "57    457\n",
       "51    446\n",
       "59    441\n",
       "55    441\n",
       "26    406\n",
       "60    376\n",
       "25    356\n",
       "61    353\n",
       "62    351\n",
       "63    268\n",
       "24    263\n",
       "64    263\n",
       "23    252\n",
       "65    194\n",
       "66    183\n",
       "22    183\n",
       "67    167\n",
       "21    110\n",
       "0     100\n",
       "68     99\n",
       "69     83\n",
       "70     65\n",
       "71     58\n",
       "20     51\n",
       "72     33\n",
       "19     14\n",
       "73      8\n",
       "74      6\n",
       "75      1\n",
       "Name: dob_years, dtype: int64"
      ]
     },
     "execution_count": 22,
     "metadata": {},
     "output_type": "execute_result"
    }
   ],
   "source": [
    "# проверка столбца \"dob_years\" на аномалии\n",
    "data['dob_years'].value_counts(ascending=False)"
   ]
  },
  {
   "cell_type": "markdown",
   "id": "8ea68cf9",
   "metadata": {},
   "source": [
    "В датасете содержится 100 клиентов, которым 0 лет. Удалим эти строки."
   ]
  },
  {
   "cell_type": "code",
   "execution_count": 23,
   "id": "0a3bccf2",
   "metadata": {},
   "outputs": [],
   "source": [
    "data = data.loc[data['dob_years'] != 0]"
   ]
  },
  {
   "cell_type": "code",
   "execution_count": 24,
   "id": "c7172393",
   "metadata": {},
   "outputs": [
    {
     "data": {
      "text/html": [
       "<div>\n",
       "<style scoped>\n",
       "    .dataframe tbody tr th:only-of-type {\n",
       "        vertical-align: middle;\n",
       "    }\n",
       "\n",
       "    .dataframe tbody tr th {\n",
       "        vertical-align: top;\n",
       "    }\n",
       "\n",
       "    .dataframe thead th {\n",
       "        text-align: right;\n",
       "    }\n",
       "</style>\n",
       "<table border=\"1\" class=\"dataframe\">\n",
       "  <thead>\n",
       "    <tr style=\"text-align: right;\">\n",
       "      <th></th>\n",
       "      <th>children</th>\n",
       "      <th>days_employed</th>\n",
       "      <th>dob_years</th>\n",
       "      <th>education</th>\n",
       "      <th>education_id</th>\n",
       "      <th>family_status</th>\n",
       "      <th>family_status_id</th>\n",
       "      <th>gender</th>\n",
       "      <th>income_type</th>\n",
       "      <th>debt</th>\n",
       "      <th>total_income</th>\n",
       "      <th>purpose</th>\n",
       "    </tr>\n",
       "  </thead>\n",
       "  <tbody>\n",
       "    <tr>\n",
       "      <th>0</th>\n",
       "      <td>1</td>\n",
       "      <td>8437.673028</td>\n",
       "      <td>42</td>\n",
       "      <td>высшее</td>\n",
       "      <td>0</td>\n",
       "      <td>женат / замужем</td>\n",
       "      <td>0</td>\n",
       "      <td>F</td>\n",
       "      <td>сотрудник</td>\n",
       "      <td>0</td>\n",
       "      <td>253875.639453</td>\n",
       "      <td>покупка жилья</td>\n",
       "    </tr>\n",
       "    <tr>\n",
       "      <th>1</th>\n",
       "      <td>1</td>\n",
       "      <td>4024.803754</td>\n",
       "      <td>36</td>\n",
       "      <td>среднее</td>\n",
       "      <td>1</td>\n",
       "      <td>женат / замужем</td>\n",
       "      <td>0</td>\n",
       "      <td>F</td>\n",
       "      <td>сотрудник</td>\n",
       "      <td>0</td>\n",
       "      <td>112080.014102</td>\n",
       "      <td>приобретение автомобиля</td>\n",
       "    </tr>\n",
       "    <tr>\n",
       "      <th>2</th>\n",
       "      <td>0</td>\n",
       "      <td>5623.422610</td>\n",
       "      <td>33</td>\n",
       "      <td>Среднее</td>\n",
       "      <td>1</td>\n",
       "      <td>женат / замужем</td>\n",
       "      <td>0</td>\n",
       "      <td>M</td>\n",
       "      <td>сотрудник</td>\n",
       "      <td>0</td>\n",
       "      <td>145885.952297</td>\n",
       "      <td>покупка жилья</td>\n",
       "    </tr>\n",
       "    <tr>\n",
       "      <th>3</th>\n",
       "      <td>3</td>\n",
       "      <td>4124.747207</td>\n",
       "      <td>32</td>\n",
       "      <td>среднее</td>\n",
       "      <td>1</td>\n",
       "      <td>женат / замужем</td>\n",
       "      <td>0</td>\n",
       "      <td>M</td>\n",
       "      <td>сотрудник</td>\n",
       "      <td>0</td>\n",
       "      <td>267628.550329</td>\n",
       "      <td>дополнительное образование</td>\n",
       "    </tr>\n",
       "    <tr>\n",
       "      <th>4</th>\n",
       "      <td>0</td>\n",
       "      <td>12775.000000</td>\n",
       "      <td>53</td>\n",
       "      <td>среднее</td>\n",
       "      <td>1</td>\n",
       "      <td>гражданский брак</td>\n",
       "      <td>1</td>\n",
       "      <td>F</td>\n",
       "      <td>пенсионер</td>\n",
       "      <td>0</td>\n",
       "      <td>158616.077870</td>\n",
       "      <td>сыграть свадьбу</td>\n",
       "    </tr>\n",
       "    <tr>\n",
       "      <th>...</th>\n",
       "      <td>...</td>\n",
       "      <td>...</td>\n",
       "      <td>...</td>\n",
       "      <td>...</td>\n",
       "      <td>...</td>\n",
       "      <td>...</td>\n",
       "      <td>...</td>\n",
       "      <td>...</td>\n",
       "      <td>...</td>\n",
       "      <td>...</td>\n",
       "      <td>...</td>\n",
       "      <td>...</td>\n",
       "    </tr>\n",
       "    <tr>\n",
       "      <th>21297</th>\n",
       "      <td>1</td>\n",
       "      <td>4529.316663</td>\n",
       "      <td>43</td>\n",
       "      <td>среднее</td>\n",
       "      <td>1</td>\n",
       "      <td>гражданский брак</td>\n",
       "      <td>1</td>\n",
       "      <td>F</td>\n",
       "      <td>компаньон</td>\n",
       "      <td>0</td>\n",
       "      <td>224791.862382</td>\n",
       "      <td>операции с жильем</td>\n",
       "    </tr>\n",
       "    <tr>\n",
       "      <th>21298</th>\n",
       "      <td>0</td>\n",
       "      <td>17885.000000</td>\n",
       "      <td>67</td>\n",
       "      <td>среднее</td>\n",
       "      <td>1</td>\n",
       "      <td>женат / замужем</td>\n",
       "      <td>0</td>\n",
       "      <td>F</td>\n",
       "      <td>пенсионер</td>\n",
       "      <td>0</td>\n",
       "      <td>155999.806512</td>\n",
       "      <td>сделка с автомобилем</td>\n",
       "    </tr>\n",
       "    <tr>\n",
       "      <th>21299</th>\n",
       "      <td>1</td>\n",
       "      <td>2113.346888</td>\n",
       "      <td>38</td>\n",
       "      <td>среднее</td>\n",
       "      <td>1</td>\n",
       "      <td>гражданский брак</td>\n",
       "      <td>1</td>\n",
       "      <td>M</td>\n",
       "      <td>сотрудник</td>\n",
       "      <td>1</td>\n",
       "      <td>89672.561153</td>\n",
       "      <td>недвижимость</td>\n",
       "    </tr>\n",
       "    <tr>\n",
       "      <th>21300</th>\n",
       "      <td>3</td>\n",
       "      <td>3112.481705</td>\n",
       "      <td>38</td>\n",
       "      <td>среднее</td>\n",
       "      <td>1</td>\n",
       "      <td>женат / замужем</td>\n",
       "      <td>0</td>\n",
       "      <td>M</td>\n",
       "      <td>сотрудник</td>\n",
       "      <td>1</td>\n",
       "      <td>244093.050500</td>\n",
       "      <td>на покупку своего автомобиля</td>\n",
       "    </tr>\n",
       "    <tr>\n",
       "      <th>21301</th>\n",
       "      <td>2</td>\n",
       "      <td>1984.507589</td>\n",
       "      <td>40</td>\n",
       "      <td>среднее</td>\n",
       "      <td>1</td>\n",
       "      <td>женат / замужем</td>\n",
       "      <td>0</td>\n",
       "      <td>F</td>\n",
       "      <td>сотрудник</td>\n",
       "      <td>0</td>\n",
       "      <td>82047.418899</td>\n",
       "      <td>на покупку автомобиля</td>\n",
       "    </tr>\n",
       "  </tbody>\n",
       "</table>\n",
       "<p>21302 rows × 12 columns</p>\n",
       "</div>"
      ],
      "text/plain": [
       "       children  days_employed  dob_years education  education_id  \\\n",
       "0             1    8437.673028         42    высшее             0   \n",
       "1             1    4024.803754         36   среднее             1   \n",
       "2             0    5623.422610         33   Среднее             1   \n",
       "3             3    4124.747207         32   среднее             1   \n",
       "4             0   12775.000000         53   среднее             1   \n",
       "...         ...            ...        ...       ...           ...   \n",
       "21297         1    4529.316663         43   среднее             1   \n",
       "21298         0   17885.000000         67   среднее             1   \n",
       "21299         1    2113.346888         38   среднее             1   \n",
       "21300         3    3112.481705         38   среднее             1   \n",
       "21301         2    1984.507589         40   среднее             1   \n",
       "\n",
       "          family_status  family_status_id gender income_type  debt  \\\n",
       "0       женат / замужем                 0      F   сотрудник     0   \n",
       "1       женат / замужем                 0      F   сотрудник     0   \n",
       "2       женат / замужем                 0      M   сотрудник     0   \n",
       "3       женат / замужем                 0      M   сотрудник     0   \n",
       "4      гражданский брак                 1      F   пенсионер     0   \n",
       "...                 ...               ...    ...         ...   ...   \n",
       "21297  гражданский брак                 1      F   компаньон     0   \n",
       "21298   женат / замужем                 0      F   пенсионер     0   \n",
       "21299  гражданский брак                 1      M   сотрудник     1   \n",
       "21300   женат / замужем                 0      M   сотрудник     1   \n",
       "21301   женат / замужем                 0      F   сотрудник     0   \n",
       "\n",
       "        total_income                       purpose  \n",
       "0      253875.639453                 покупка жилья  \n",
       "1      112080.014102       приобретение автомобиля  \n",
       "2      145885.952297                 покупка жилья  \n",
       "3      267628.550329    дополнительное образование  \n",
       "4      158616.077870               сыграть свадьбу  \n",
       "...              ...                           ...  \n",
       "21297  224791.862382             операции с жильем  \n",
       "21298  155999.806512          сделка с автомобилем  \n",
       "21299   89672.561153                  недвижимость  \n",
       "21300  244093.050500  на покупку своего автомобиля  \n",
       "21301   82047.418899         на покупку автомобиля  \n",
       "\n",
       "[21302 rows x 12 columns]"
      ]
     },
     "execution_count": 24,
     "metadata": {},
     "output_type": "execute_result"
    }
   ],
   "source": [
    "data.reset_index(drop=True)"
   ]
  },
  {
   "cell_type": "code",
   "execution_count": 25,
   "id": "09a3e491",
   "metadata": {
    "scrolled": true
   },
   "outputs": [
    {
     "data": {
      "text/plain": [
       "35    614\n",
       "41    603\n",
       "40    603\n",
       "34    597\n",
       "38    595\n",
       "42    592\n",
       "33    577\n",
       "39    572\n",
       "31    556\n",
       "36    553\n",
       "44    543\n",
       "29    543\n",
       "48    536\n",
       "30    536\n",
       "37    531\n",
       "43    510\n",
       "50    509\n",
       "32    506\n",
       "49    505\n",
       "28    501\n",
       "45    494\n",
       "27    490\n",
       "52    483\n",
       "56    482\n",
       "47    480\n",
       "54    476\n",
       "46    469\n",
       "58    461\n",
       "57    457\n",
       "53    457\n",
       "51    446\n",
       "55    441\n",
       "59    441\n",
       "26    406\n",
       "60    376\n",
       "25    356\n",
       "61    353\n",
       "62    351\n",
       "63    268\n",
       "64    263\n",
       "24    263\n",
       "23    252\n",
       "65    194\n",
       "22    183\n",
       "66    183\n",
       "67    167\n",
       "21    110\n",
       "68     99\n",
       "69     83\n",
       "70     65\n",
       "71     58\n",
       "20     51\n",
       "72     33\n",
       "19     14\n",
       "73      8\n",
       "74      6\n",
       "75      1\n",
       "Name: dob_years, dtype: int64"
      ]
     },
     "execution_count": 25,
     "metadata": {},
     "output_type": "execute_result"
    }
   ],
   "source": [
    "data['dob_years'].value_counts(ascending=False)"
   ]
  },
  {
   "cell_type": "code",
   "execution_count": 26,
   "id": "d1016bde",
   "metadata": {},
   "outputs": [
    {
     "data": {
      "text/plain": [
       "count    2.130200e+04\n",
       "mean     1.652232e+05\n",
       "std      9.810088e+04\n",
       "min      2.066726e+04\n",
       "25%      1.077766e+05\n",
       "50%      1.450179e+05\n",
       "75%      1.955420e+05\n",
       "max      2.265604e+06\n",
       "Name: total_income, dtype: float64"
      ]
     },
     "execution_count": 26,
     "metadata": {},
     "output_type": "execute_result"
    }
   ],
   "source": [
    "# обзор столбца \"total_income\"\n",
    "data['total_income'].describe()"
   ]
  },
  {
   "cell_type": "markdown",
   "id": "90fc930f",
   "metadata": {},
   "source": [
    "### Изменение типов данных."
   ]
  },
  {
   "cell_type": "code",
   "execution_count": 27,
   "id": "96905207",
   "metadata": {},
   "outputs": [],
   "source": [
    "# приведение столбца 'days_employed' к целочисленному типу\n",
    "data['days_employed'] = data['days_employed'].astype('int32')"
   ]
  },
  {
   "cell_type": "code",
   "execution_count": 28,
   "id": "5cb438d6",
   "metadata": {},
   "outputs": [],
   "source": [
    "# приведение столбца 'total_income' к целочисленному типу\n",
    "data['total_income'] = data['total_income'].astype('int32')"
   ]
  },
  {
   "cell_type": "code",
   "execution_count": 29,
   "id": "3c3db261",
   "metadata": {},
   "outputs": [
    {
     "name": "stdout",
     "output_type": "stream",
     "text": [
      "<class 'pandas.core.frame.DataFrame'>\n",
      "Int64Index: 21302 entries, 0 to 21524\n",
      "Data columns (total 12 columns):\n",
      " #   Column            Non-Null Count  Dtype \n",
      "---  ------            --------------  ----- \n",
      " 0   children          21302 non-null  int64 \n",
      " 1   days_employed     21302 non-null  int32 \n",
      " 2   dob_years         21302 non-null  int64 \n",
      " 3   education         21302 non-null  object\n",
      " 4   education_id      21302 non-null  int64 \n",
      " 5   family_status     21302 non-null  object\n",
      " 6   family_status_id  21302 non-null  int64 \n",
      " 7   gender            21302 non-null  object\n",
      " 8   income_type       21302 non-null  object\n",
      " 9   debt              21302 non-null  int64 \n",
      " 10  total_income      21302 non-null  int32 \n",
      " 11  purpose           21302 non-null  object\n",
      "dtypes: int32(2), int64(5), object(5)\n",
      "memory usage: 2.0+ MB\n"
     ]
    }
   ],
   "source": [
    "data.info() # проверка"
   ]
  },
  {
   "cell_type": "markdown",
   "id": "4088fe67",
   "metadata": {},
   "source": [
    "### Удаление дубликатов."
   ]
  },
  {
   "cell_type": "code",
   "execution_count": 2,
   "id": "6c100841",
   "metadata": {
    "scrolled": true
   },
   "outputs": [
    {
     "data": {
      "text/plain": [
       "21525"
      ]
     },
     "execution_count": 2,
     "metadata": {},
     "output_type": "execute_result"
    }
   ],
   "source": [
    "# количество явных дубликатов\n",
    "data.duplicated().count()"
   ]
  },
  {
   "cell_type": "code",
   "execution_count": 3,
   "id": "79c3a743",
   "metadata": {},
   "outputs": [
    {
     "data": {
      "text/plain": [
       "54"
      ]
     },
     "execution_count": 3,
     "metadata": {},
     "output_type": "execute_result"
    }
   ],
   "source": [
    "data.duplicated().sum()"
   ]
  },
  {
   "cell_type": "code",
   "execution_count": 4,
   "id": "2c85a6d3",
   "metadata": {},
   "outputs": [
    {
     "data": {
      "text/plain": [
       "среднее                13750\n",
       "высшее                  4718\n",
       "СРЕДНЕЕ                  772\n",
       "Среднее                  711\n",
       "неоконченное высшее      668\n",
       "ВЫСШЕЕ                   274\n",
       "Высшее                   268\n",
       "начальное                250\n",
       "Неоконченное высшее       47\n",
       "НЕОКОНЧЕННОЕ ВЫСШЕЕ       29\n",
       "НАЧАЛЬНОЕ                 17\n",
       "Начальное                 15\n",
       "ученая степень             4\n",
       "УЧЕНАЯ СТЕПЕНЬ             1\n",
       "Ученая степень             1\n",
       "Name: education, dtype: int64"
      ]
     },
     "execution_count": 4,
     "metadata": {},
     "output_type": "execute_result"
    }
   ],
   "source": [
    "# выявление неявных дубликатов\n",
    "data['education'].value_counts()"
   ]
  },
  {
   "cell_type": "code",
   "execution_count": 5,
   "id": "ffea01ad",
   "metadata": {
    "scrolled": true
   },
   "outputs": [
    {
     "data": {
      "text/plain": [
       "0                  высшее\n",
       "1                 среднее\n",
       "2                 среднее\n",
       "3                 среднее\n",
       "4                 среднее\n",
       "5                  высшее\n",
       "6                  высшее\n",
       "7                 среднее\n",
       "8                  высшее\n",
       "9                 среднее\n",
       "10                 высшее\n",
       "11                среднее\n",
       "12                среднее\n",
       "13    неоконченное высшее\n",
       "14                 высшее\n",
       "Name: education, dtype: object"
      ]
     },
     "execution_count": 5,
     "metadata": {},
     "output_type": "execute_result"
    }
   ],
   "source": [
    "# приведение значения столбца 'education' к нижнему регистру\n",
    "data['education'] = data['education'].str.lower()\n",
    "data['education'].head(15)"
   ]
  },
  {
   "cell_type": "code",
   "execution_count": 33,
   "id": "c394e9d1",
   "metadata": {},
   "outputs": [
    {
     "data": {
      "text/plain": [
       "0                 высшее\n",
       "1                среднее\n",
       "2    неоконченное высшее\n",
       "3              начальное\n",
       "4         ученая степень\n",
       "Name: education, dtype: object"
      ]
     },
     "execution_count": 33,
     "metadata": {},
     "output_type": "execute_result"
    }
   ],
   "source": [
    "data['education'].drop_duplicates().reset_index(drop=True)"
   ]
  },
  {
   "cell_type": "code",
   "execution_count": 34,
   "id": "5414a778",
   "metadata": {
    "scrolled": true
   },
   "outputs": [
    {
     "data": {
      "text/plain": [
       "среднее                15073\n",
       "высшее                  5202\n",
       "неоконченное высшее      739\n",
       "начальное                282\n",
       "ученая степень             6\n",
       "Name: education, dtype: int64"
      ]
     },
     "execution_count": 34,
     "metadata": {},
     "output_type": "execute_result"
    }
   ],
   "source": [
    "data['education'].value_counts()"
   ]
  },
  {
   "cell_type": "markdown",
   "id": "e1ea8a9e",
   "metadata": {},
   "source": [
    "Проверим другие столбцы на наличие скрытых дубликатов."
   ]
  },
  {
   "cell_type": "code",
   "execution_count": 35,
   "id": "48f72fde",
   "metadata": {},
   "outputs": [
    {
     "data": {
      "text/plain": [
       "женат / замужем          12254\n",
       "гражданский брак          4139\n",
       "Не женат / не замужем     2783\n",
       "в разводе                 1179\n",
       "вдовец / вдова             947\n",
       "Name: family_status, dtype: int64"
      ]
     },
     "execution_count": 35,
     "metadata": {},
     "output_type": "execute_result"
    }
   ],
   "source": [
    "data['family_status'].value_counts()"
   ]
  },
  {
   "cell_type": "code",
   "execution_count": 36,
   "id": "ac80b809",
   "metadata": {
    "scrolled": false
   },
   "outputs": [
    {
     "data": {
      "text/plain": [
       "сотрудник          10996\n",
       "компаньон           5034\n",
       "пенсионер           3819\n",
       "госслужащий         1447\n",
       "предприниматель        2\n",
       "безработный            2\n",
       "в декрете              1\n",
       "студент                1\n",
       "Name: income_type, dtype: int64"
      ]
     },
     "execution_count": 36,
     "metadata": {},
     "output_type": "execute_result"
    }
   ],
   "source": [
    "data['income_type'].value_counts()"
   ]
  },
  {
   "cell_type": "code",
   "execution_count": 6,
   "id": "ca3a260d",
   "metadata": {},
   "outputs": [
    {
     "data": {
      "text/plain": [
       "21525"
      ]
     },
     "execution_count": 6,
     "metadata": {},
     "output_type": "execute_result"
    }
   ],
   "source": [
    "# повторная проверка на наличие дубликатов\n",
    "data.duplicated().count()"
   ]
  },
  {
   "cell_type": "code",
   "execution_count": 7,
   "id": "321d9746",
   "metadata": {},
   "outputs": [
    {
     "data": {
      "text/plain": [
       "71"
      ]
     },
     "execution_count": 7,
     "metadata": {},
     "output_type": "execute_result"
    }
   ],
   "source": [
    "data.duplicated().sum()"
   ]
  },
  {
   "cell_type": "code",
   "execution_count": 38,
   "id": "8ce2f816",
   "metadata": {},
   "outputs": [],
   "source": [
    "# удаление явных дубликатов\n",
    "data = data.drop_duplicates().reset_index(drop=True)"
   ]
  },
  {
   "cell_type": "code",
   "execution_count": 39,
   "id": "a96bacf2",
   "metadata": {},
   "outputs": [
    {
     "data": {
      "text/plain": [
       "21231"
      ]
     },
     "execution_count": 39,
     "metadata": {},
     "output_type": "execute_result"
    }
   ],
   "source": [
    "data.duplicated().count()"
   ]
  },
  {
   "cell_type": "markdown",
   "id": "2ca960dc",
   "metadata": {},
   "source": [
    "Явные дубликаты были удалены методом drop_duplicates(). В столбце 'education' были выявлены и удалены дубликаты, вероятнее всего ставшие следствием человеческого фактора (разный регистр)."
   ]
  },
  {
   "cell_type": "markdown",
   "id": "7e032285",
   "metadata": {},
   "source": [
    "### Формирование дополнительных датафреймов словарей, декомпозиция исходного датафрейма."
   ]
  },
  {
   "cell_type": "code",
   "execution_count": 40,
   "id": "42675cfc",
   "metadata": {},
   "outputs": [
    {
     "data": {
      "text/html": [
       "<div>\n",
       "<style scoped>\n",
       "    .dataframe tbody tr th:only-of-type {\n",
       "        vertical-align: middle;\n",
       "    }\n",
       "\n",
       "    .dataframe tbody tr th {\n",
       "        vertical-align: top;\n",
       "    }\n",
       "\n",
       "    .dataframe thead th {\n",
       "        text-align: right;\n",
       "    }\n",
       "</style>\n",
       "<table border=\"1\" class=\"dataframe\">\n",
       "  <thead>\n",
       "    <tr style=\"text-align: right;\">\n",
       "      <th></th>\n",
       "      <th>education_id</th>\n",
       "      <th>education</th>\n",
       "    </tr>\n",
       "  </thead>\n",
       "  <tbody>\n",
       "    <tr>\n",
       "      <th>0</th>\n",
       "      <td>0</td>\n",
       "      <td>высшее</td>\n",
       "    </tr>\n",
       "    <tr>\n",
       "      <th>1</th>\n",
       "      <td>1</td>\n",
       "      <td>среднее</td>\n",
       "    </tr>\n",
       "    <tr>\n",
       "      <th>2</th>\n",
       "      <td>2</td>\n",
       "      <td>неоконченное высшее</td>\n",
       "    </tr>\n",
       "    <tr>\n",
       "      <th>3</th>\n",
       "      <td>3</td>\n",
       "      <td>начальное</td>\n",
       "    </tr>\n",
       "    <tr>\n",
       "      <th>4</th>\n",
       "      <td>4</td>\n",
       "      <td>ученая степень</td>\n",
       "    </tr>\n",
       "  </tbody>\n",
       "</table>\n",
       "</div>"
      ],
      "text/plain": [
       "   education_id            education\n",
       "0             0               высшее\n",
       "1             1              среднее\n",
       "2             2  неоконченное высшее\n",
       "3             3            начальное\n",
       "4             4       ученая степень"
      ]
     },
     "execution_count": 40,
     "metadata": {},
     "output_type": "execute_result"
    }
   ],
   "source": [
    "# создание \"словаря\" для столбца 'education'\n",
    "educ_dict = data[['education_id', 'education']]\n",
    "educ_dict = educ_dict.drop_duplicates().reset_index(drop=True)\n",
    "educ_dict"
   ]
  },
  {
   "cell_type": "code",
   "execution_count": 41,
   "id": "36ac653a",
   "metadata": {},
   "outputs": [
    {
     "data": {
      "text/html": [
       "<div>\n",
       "<style scoped>\n",
       "    .dataframe tbody tr th:only-of-type {\n",
       "        vertical-align: middle;\n",
       "    }\n",
       "\n",
       "    .dataframe tbody tr th {\n",
       "        vertical-align: top;\n",
       "    }\n",
       "\n",
       "    .dataframe thead th {\n",
       "        text-align: right;\n",
       "    }\n",
       "</style>\n",
       "<table border=\"1\" class=\"dataframe\">\n",
       "  <thead>\n",
       "    <tr style=\"text-align: right;\">\n",
       "      <th></th>\n",
       "      <th>family_status_id</th>\n",
       "      <th>family_status</th>\n",
       "    </tr>\n",
       "  </thead>\n",
       "  <tbody>\n",
       "    <tr>\n",
       "      <th>0</th>\n",
       "      <td>0</td>\n",
       "      <td>женат / замужем</td>\n",
       "    </tr>\n",
       "    <tr>\n",
       "      <th>1</th>\n",
       "      <td>1</td>\n",
       "      <td>гражданский брак</td>\n",
       "    </tr>\n",
       "    <tr>\n",
       "      <th>2</th>\n",
       "      <td>2</td>\n",
       "      <td>вдовец / вдова</td>\n",
       "    </tr>\n",
       "    <tr>\n",
       "      <th>3</th>\n",
       "      <td>3</td>\n",
       "      <td>в разводе</td>\n",
       "    </tr>\n",
       "    <tr>\n",
       "      <th>4</th>\n",
       "      <td>4</td>\n",
       "      <td>Не женат / не замужем</td>\n",
       "    </tr>\n",
       "  </tbody>\n",
       "</table>\n",
       "</div>"
      ],
      "text/plain": [
       "   family_status_id          family_status\n",
       "0                 0        женат / замужем\n",
       "1                 1       гражданский брак\n",
       "2                 2         вдовец / вдова\n",
       "3                 3              в разводе\n",
       "4                 4  Не женат / не замужем"
      ]
     },
     "execution_count": 41,
     "metadata": {},
     "output_type": "execute_result"
    }
   ],
   "source": [
    "# создание \"словаря\" для столбца 'family_status'\n",
    "family_status_dict = data[['family_status_id', 'family_status']]\n",
    "family_status_dict = family_status_dict.drop_duplicates().reset_index(drop=True)\n",
    "family_status_dict"
   ]
  },
  {
   "cell_type": "code",
   "execution_count": 42,
   "id": "8279ce3f",
   "metadata": {},
   "outputs": [
    {
     "data": {
      "text/html": [
       "<div>\n",
       "<style scoped>\n",
       "    .dataframe tbody tr th:only-of-type {\n",
       "        vertical-align: middle;\n",
       "    }\n",
       "\n",
       "    .dataframe tbody tr th {\n",
       "        vertical-align: top;\n",
       "    }\n",
       "\n",
       "    .dataframe thead th {\n",
       "        text-align: right;\n",
       "    }\n",
       "</style>\n",
       "<table border=\"1\" class=\"dataframe\">\n",
       "  <thead>\n",
       "    <tr style=\"text-align: right;\">\n",
       "      <th></th>\n",
       "      <th>children</th>\n",
       "      <th>days_employed</th>\n",
       "      <th>dob_years</th>\n",
       "      <th>education_id</th>\n",
       "      <th>family_status_id</th>\n",
       "      <th>gender</th>\n",
       "      <th>income_type</th>\n",
       "      <th>debt</th>\n",
       "      <th>total_income</th>\n",
       "      <th>purpose</th>\n",
       "    </tr>\n",
       "  </thead>\n",
       "  <tbody>\n",
       "    <tr>\n",
       "      <th>0</th>\n",
       "      <td>1</td>\n",
       "      <td>8437</td>\n",
       "      <td>42</td>\n",
       "      <td>0</td>\n",
       "      <td>0</td>\n",
       "      <td>F</td>\n",
       "      <td>сотрудник</td>\n",
       "      <td>0</td>\n",
       "      <td>253875</td>\n",
       "      <td>покупка жилья</td>\n",
       "    </tr>\n",
       "    <tr>\n",
       "      <th>1</th>\n",
       "      <td>1</td>\n",
       "      <td>4024</td>\n",
       "      <td>36</td>\n",
       "      <td>1</td>\n",
       "      <td>0</td>\n",
       "      <td>F</td>\n",
       "      <td>сотрудник</td>\n",
       "      <td>0</td>\n",
       "      <td>112080</td>\n",
       "      <td>приобретение автомобиля</td>\n",
       "    </tr>\n",
       "    <tr>\n",
       "      <th>2</th>\n",
       "      <td>0</td>\n",
       "      <td>5623</td>\n",
       "      <td>33</td>\n",
       "      <td>1</td>\n",
       "      <td>0</td>\n",
       "      <td>M</td>\n",
       "      <td>сотрудник</td>\n",
       "      <td>0</td>\n",
       "      <td>145885</td>\n",
       "      <td>покупка жилья</td>\n",
       "    </tr>\n",
       "    <tr>\n",
       "      <th>3</th>\n",
       "      <td>3</td>\n",
       "      <td>4124</td>\n",
       "      <td>32</td>\n",
       "      <td>1</td>\n",
       "      <td>0</td>\n",
       "      <td>M</td>\n",
       "      <td>сотрудник</td>\n",
       "      <td>0</td>\n",
       "      <td>267628</td>\n",
       "      <td>дополнительное образование</td>\n",
       "    </tr>\n",
       "    <tr>\n",
       "      <th>4</th>\n",
       "      <td>0</td>\n",
       "      <td>12775</td>\n",
       "      <td>53</td>\n",
       "      <td>1</td>\n",
       "      <td>1</td>\n",
       "      <td>F</td>\n",
       "      <td>пенсионер</td>\n",
       "      <td>0</td>\n",
       "      <td>158616</td>\n",
       "      <td>сыграть свадьбу</td>\n",
       "    </tr>\n",
       "    <tr>\n",
       "      <th>5</th>\n",
       "      <td>0</td>\n",
       "      <td>926</td>\n",
       "      <td>27</td>\n",
       "      <td>0</td>\n",
       "      <td>1</td>\n",
       "      <td>M</td>\n",
       "      <td>компаньон</td>\n",
       "      <td>0</td>\n",
       "      <td>255763</td>\n",
       "      <td>покупка жилья</td>\n",
       "    </tr>\n",
       "    <tr>\n",
       "      <th>6</th>\n",
       "      <td>0</td>\n",
       "      <td>2879</td>\n",
       "      <td>43</td>\n",
       "      <td>0</td>\n",
       "      <td>0</td>\n",
       "      <td>F</td>\n",
       "      <td>компаньон</td>\n",
       "      <td>0</td>\n",
       "      <td>240525</td>\n",
       "      <td>операции с жильем</td>\n",
       "    </tr>\n",
       "    <tr>\n",
       "      <th>7</th>\n",
       "      <td>0</td>\n",
       "      <td>152</td>\n",
       "      <td>50</td>\n",
       "      <td>1</td>\n",
       "      <td>0</td>\n",
       "      <td>M</td>\n",
       "      <td>сотрудник</td>\n",
       "      <td>0</td>\n",
       "      <td>135823</td>\n",
       "      <td>образование</td>\n",
       "    </tr>\n",
       "    <tr>\n",
       "      <th>8</th>\n",
       "      <td>2</td>\n",
       "      <td>6929</td>\n",
       "      <td>35</td>\n",
       "      <td>0</td>\n",
       "      <td>1</td>\n",
       "      <td>F</td>\n",
       "      <td>сотрудник</td>\n",
       "      <td>0</td>\n",
       "      <td>95856</td>\n",
       "      <td>на проведение свадьбы</td>\n",
       "    </tr>\n",
       "    <tr>\n",
       "      <th>9</th>\n",
       "      <td>0</td>\n",
       "      <td>2188</td>\n",
       "      <td>41</td>\n",
       "      <td>1</td>\n",
       "      <td>0</td>\n",
       "      <td>M</td>\n",
       "      <td>сотрудник</td>\n",
       "      <td>0</td>\n",
       "      <td>144425</td>\n",
       "      <td>покупка жилья для семьи</td>\n",
       "    </tr>\n",
       "    <tr>\n",
       "      <th>10</th>\n",
       "      <td>2</td>\n",
       "      <td>4171</td>\n",
       "      <td>36</td>\n",
       "      <td>0</td>\n",
       "      <td>0</td>\n",
       "      <td>M</td>\n",
       "      <td>компаньон</td>\n",
       "      <td>0</td>\n",
       "      <td>113943</td>\n",
       "      <td>покупка недвижимости</td>\n",
       "    </tr>\n",
       "    <tr>\n",
       "      <th>11</th>\n",
       "      <td>0</td>\n",
       "      <td>792</td>\n",
       "      <td>40</td>\n",
       "      <td>1</td>\n",
       "      <td>0</td>\n",
       "      <td>F</td>\n",
       "      <td>сотрудник</td>\n",
       "      <td>0</td>\n",
       "      <td>77069</td>\n",
       "      <td>покупка коммерческой недвижимости</td>\n",
       "    </tr>\n",
       "    <tr>\n",
       "      <th>12</th>\n",
       "      <td>0</td>\n",
       "      <td>2188</td>\n",
       "      <td>65</td>\n",
       "      <td>1</td>\n",
       "      <td>1</td>\n",
       "      <td>M</td>\n",
       "      <td>пенсионер</td>\n",
       "      <td>0</td>\n",
       "      <td>145017</td>\n",
       "      <td>сыграть свадьбу</td>\n",
       "    </tr>\n",
       "    <tr>\n",
       "      <th>13</th>\n",
       "      <td>0</td>\n",
       "      <td>1846</td>\n",
       "      <td>54</td>\n",
       "      <td>2</td>\n",
       "      <td>0</td>\n",
       "      <td>F</td>\n",
       "      <td>сотрудник</td>\n",
       "      <td>0</td>\n",
       "      <td>130458</td>\n",
       "      <td>приобретение автомобиля</td>\n",
       "    </tr>\n",
       "    <tr>\n",
       "      <th>14</th>\n",
       "      <td>0</td>\n",
       "      <td>1844</td>\n",
       "      <td>56</td>\n",
       "      <td>0</td>\n",
       "      <td>1</td>\n",
       "      <td>F</td>\n",
       "      <td>компаньон</td>\n",
       "      <td>1</td>\n",
       "      <td>165127</td>\n",
       "      <td>покупка жилой недвижимости</td>\n",
       "    </tr>\n",
       "  </tbody>\n",
       "</table>\n",
       "</div>"
      ],
      "text/plain": [
       "    children  days_employed  dob_years  education_id  family_status_id gender  \\\n",
       "0          1           8437         42             0                 0      F   \n",
       "1          1           4024         36             1                 0      F   \n",
       "2          0           5623         33             1                 0      M   \n",
       "3          3           4124         32             1                 0      M   \n",
       "4          0          12775         53             1                 1      F   \n",
       "5          0            926         27             0                 1      M   \n",
       "6          0           2879         43             0                 0      F   \n",
       "7          0            152         50             1                 0      M   \n",
       "8          2           6929         35             0                 1      F   \n",
       "9          0           2188         41             1                 0      M   \n",
       "10         2           4171         36             0                 0      M   \n",
       "11         0            792         40             1                 0      F   \n",
       "12         0           2188         65             1                 1      M   \n",
       "13         0           1846         54             2                 0      F   \n",
       "14         0           1844         56             0                 1      F   \n",
       "\n",
       "   income_type  debt  total_income                            purpose  \n",
       "0    сотрудник     0        253875                      покупка жилья  \n",
       "1    сотрудник     0        112080            приобретение автомобиля  \n",
       "2    сотрудник     0        145885                      покупка жилья  \n",
       "3    сотрудник     0        267628         дополнительное образование  \n",
       "4    пенсионер     0        158616                    сыграть свадьбу  \n",
       "5    компаньон     0        255763                      покупка жилья  \n",
       "6    компаньон     0        240525                  операции с жильем  \n",
       "7    сотрудник     0        135823                        образование  \n",
       "8    сотрудник     0         95856              на проведение свадьбы  \n",
       "9    сотрудник     0        144425            покупка жилья для семьи  \n",
       "10   компаньон     0        113943               покупка недвижимости  \n",
       "11   сотрудник     0         77069  покупка коммерческой недвижимости  \n",
       "12   пенсионер     0        145017                    сыграть свадьбу  \n",
       "13   сотрудник     0        130458            приобретение автомобиля  \n",
       "14   компаньон     1        165127         покупка жилой недвижимости  "
      ]
     },
     "execution_count": 42,
     "metadata": {},
     "output_type": "execute_result"
    }
   ],
   "source": [
    "# удаление столбцов 'family_status' и 'education'\n",
    "data = data.drop(['family_status','education'], axis=1)\n",
    "data.head(15)"
   ]
  },
  {
   "cell_type": "markdown",
   "id": "f33a42ad",
   "metadata": {},
   "source": [
    "### Категоризация дохода."
   ]
  },
  {
   "cell_type": "code",
   "execution_count": 43,
   "id": "6ef0cbcf",
   "metadata": {},
   "outputs": [
    {
     "data": {
      "text/html": [
       "<div>\n",
       "<style scoped>\n",
       "    .dataframe tbody tr th:only-of-type {\n",
       "        vertical-align: middle;\n",
       "    }\n",
       "\n",
       "    .dataframe tbody tr th {\n",
       "        vertical-align: top;\n",
       "    }\n",
       "\n",
       "    .dataframe thead th {\n",
       "        text-align: right;\n",
       "    }\n",
       "</style>\n",
       "<table border=\"1\" class=\"dataframe\">\n",
       "  <thead>\n",
       "    <tr style=\"text-align: right;\">\n",
       "      <th></th>\n",
       "      <th>children</th>\n",
       "      <th>days_employed</th>\n",
       "      <th>dob_years</th>\n",
       "      <th>education_id</th>\n",
       "      <th>family_status_id</th>\n",
       "      <th>gender</th>\n",
       "      <th>income_type</th>\n",
       "      <th>debt</th>\n",
       "      <th>total_income</th>\n",
       "      <th>purpose</th>\n",
       "      <th>total_income_category</th>\n",
       "    </tr>\n",
       "  </thead>\n",
       "  <tbody>\n",
       "    <tr>\n",
       "      <th>0</th>\n",
       "      <td>1</td>\n",
       "      <td>8437</td>\n",
       "      <td>42</td>\n",
       "      <td>0</td>\n",
       "      <td>0</td>\n",
       "      <td>F</td>\n",
       "      <td>сотрудник</td>\n",
       "      <td>0</td>\n",
       "      <td>253875</td>\n",
       "      <td>покупка жилья</td>\n",
       "      <td>B</td>\n",
       "    </tr>\n",
       "    <tr>\n",
       "      <th>1</th>\n",
       "      <td>1</td>\n",
       "      <td>4024</td>\n",
       "      <td>36</td>\n",
       "      <td>1</td>\n",
       "      <td>0</td>\n",
       "      <td>F</td>\n",
       "      <td>сотрудник</td>\n",
       "      <td>0</td>\n",
       "      <td>112080</td>\n",
       "      <td>приобретение автомобиля</td>\n",
       "      <td>C</td>\n",
       "    </tr>\n",
       "    <tr>\n",
       "      <th>2</th>\n",
       "      <td>0</td>\n",
       "      <td>5623</td>\n",
       "      <td>33</td>\n",
       "      <td>1</td>\n",
       "      <td>0</td>\n",
       "      <td>M</td>\n",
       "      <td>сотрудник</td>\n",
       "      <td>0</td>\n",
       "      <td>145885</td>\n",
       "      <td>покупка жилья</td>\n",
       "      <td>C</td>\n",
       "    </tr>\n",
       "    <tr>\n",
       "      <th>3</th>\n",
       "      <td>3</td>\n",
       "      <td>4124</td>\n",
       "      <td>32</td>\n",
       "      <td>1</td>\n",
       "      <td>0</td>\n",
       "      <td>M</td>\n",
       "      <td>сотрудник</td>\n",
       "      <td>0</td>\n",
       "      <td>267628</td>\n",
       "      <td>дополнительное образование</td>\n",
       "      <td>B</td>\n",
       "    </tr>\n",
       "    <tr>\n",
       "      <th>4</th>\n",
       "      <td>0</td>\n",
       "      <td>12775</td>\n",
       "      <td>53</td>\n",
       "      <td>1</td>\n",
       "      <td>1</td>\n",
       "      <td>F</td>\n",
       "      <td>пенсионер</td>\n",
       "      <td>0</td>\n",
       "      <td>158616</td>\n",
       "      <td>сыграть свадьбу</td>\n",
       "      <td>C</td>\n",
       "    </tr>\n",
       "    <tr>\n",
       "      <th>...</th>\n",
       "      <td>...</td>\n",
       "      <td>...</td>\n",
       "      <td>...</td>\n",
       "      <td>...</td>\n",
       "      <td>...</td>\n",
       "      <td>...</td>\n",
       "      <td>...</td>\n",
       "      <td>...</td>\n",
       "      <td>...</td>\n",
       "      <td>...</td>\n",
       "      <td>...</td>\n",
       "    </tr>\n",
       "    <tr>\n",
       "      <th>21226</th>\n",
       "      <td>1</td>\n",
       "      <td>4529</td>\n",
       "      <td>43</td>\n",
       "      <td>1</td>\n",
       "      <td>1</td>\n",
       "      <td>F</td>\n",
       "      <td>компаньон</td>\n",
       "      <td>0</td>\n",
       "      <td>224791</td>\n",
       "      <td>операции с жильем</td>\n",
       "      <td>B</td>\n",
       "    </tr>\n",
       "    <tr>\n",
       "      <th>21227</th>\n",
       "      <td>0</td>\n",
       "      <td>17885</td>\n",
       "      <td>67</td>\n",
       "      <td>1</td>\n",
       "      <td>0</td>\n",
       "      <td>F</td>\n",
       "      <td>пенсионер</td>\n",
       "      <td>0</td>\n",
       "      <td>155999</td>\n",
       "      <td>сделка с автомобилем</td>\n",
       "      <td>C</td>\n",
       "    </tr>\n",
       "    <tr>\n",
       "      <th>21228</th>\n",
       "      <td>1</td>\n",
       "      <td>2113</td>\n",
       "      <td>38</td>\n",
       "      <td>1</td>\n",
       "      <td>1</td>\n",
       "      <td>M</td>\n",
       "      <td>сотрудник</td>\n",
       "      <td>1</td>\n",
       "      <td>89672</td>\n",
       "      <td>недвижимость</td>\n",
       "      <td>C</td>\n",
       "    </tr>\n",
       "    <tr>\n",
       "      <th>21229</th>\n",
       "      <td>3</td>\n",
       "      <td>3112</td>\n",
       "      <td>38</td>\n",
       "      <td>1</td>\n",
       "      <td>0</td>\n",
       "      <td>M</td>\n",
       "      <td>сотрудник</td>\n",
       "      <td>1</td>\n",
       "      <td>244093</td>\n",
       "      <td>на покупку своего автомобиля</td>\n",
       "      <td>B</td>\n",
       "    </tr>\n",
       "    <tr>\n",
       "      <th>21230</th>\n",
       "      <td>2</td>\n",
       "      <td>1984</td>\n",
       "      <td>40</td>\n",
       "      <td>1</td>\n",
       "      <td>0</td>\n",
       "      <td>F</td>\n",
       "      <td>сотрудник</td>\n",
       "      <td>0</td>\n",
       "      <td>82047</td>\n",
       "      <td>на покупку автомобиля</td>\n",
       "      <td>C</td>\n",
       "    </tr>\n",
       "  </tbody>\n",
       "</table>\n",
       "<p>21231 rows × 11 columns</p>\n",
       "</div>"
      ],
      "text/plain": [
       "       children  days_employed  dob_years  education_id  family_status_id  \\\n",
       "0             1           8437         42             0                 0   \n",
       "1             1           4024         36             1                 0   \n",
       "2             0           5623         33             1                 0   \n",
       "3             3           4124         32             1                 0   \n",
       "4             0          12775         53             1                 1   \n",
       "...         ...            ...        ...           ...               ...   \n",
       "21226         1           4529         43             1                 1   \n",
       "21227         0          17885         67             1                 0   \n",
       "21228         1           2113         38             1                 1   \n",
       "21229         3           3112         38             1                 0   \n",
       "21230         2           1984         40             1                 0   \n",
       "\n",
       "      gender income_type  debt  total_income                       purpose  \\\n",
       "0          F   сотрудник     0        253875                 покупка жилья   \n",
       "1          F   сотрудник     0        112080       приобретение автомобиля   \n",
       "2          M   сотрудник     0        145885                 покупка жилья   \n",
       "3          M   сотрудник     0        267628    дополнительное образование   \n",
       "4          F   пенсионер     0        158616               сыграть свадьбу   \n",
       "...      ...         ...   ...           ...                           ...   \n",
       "21226      F   компаньон     0        224791             операции с жильем   \n",
       "21227      F   пенсионер     0        155999          сделка с автомобилем   \n",
       "21228      M   сотрудник     1         89672                  недвижимость   \n",
       "21229      M   сотрудник     1        244093  на покупку своего автомобиля   \n",
       "21230      F   сотрудник     0         82047         на покупку автомобиля   \n",
       "\n",
       "      total_income_category  \n",
       "0                         B  \n",
       "1                         C  \n",
       "2                         C  \n",
       "3                         B  \n",
       "4                         C  \n",
       "...                     ...  \n",
       "21226                     B  \n",
       "21227                     C  \n",
       "21228                     C  \n",
       "21229                     B  \n",
       "21230                     C  \n",
       "\n",
       "[21231 rows x 11 columns]"
      ]
     },
     "execution_count": 43,
     "metadata": {},
     "output_type": "execute_result"
    }
   ],
   "source": [
    "# функция для группировки клиентов по уровню дохода\n",
    "\n",
    "def income_group(income):\n",
    "    if income <= 30000:\n",
    "        return 'E'\n",
    "    if income <= 50000:\n",
    "        return 'D'\n",
    "    if income <= 200000:\n",
    "        return 'C'\n",
    "    if income <= 1000000:\n",
    "        return 'B'\n",
    "    return 'A'\n",
    "\n",
    "#print (income_group(145018))\n",
    "#print(income_group(5))\n",
    "#print(income_group(39284792374))\n",
    "\n",
    "# добавим новый столбец к датасету\n",
    "data['total_income_category'] = data['total_income'].apply(income_group)\n",
    "data"
   ]
  },
  {
   "cell_type": "markdown",
   "id": "64483e0d",
   "metadata": {},
   "source": [
    "### Категоризация целей кредита."
   ]
  },
  {
   "cell_type": "code",
   "execution_count": 44,
   "id": "5a5cf530",
   "metadata": {},
   "outputs": [
    {
     "data": {
      "text/plain": [
       "свадьба                                   785\n",
       "на проведение свадьбы                     759\n",
       "сыграть свадьбу                           755\n",
       "операции с недвижимостью                  669\n",
       "покупка коммерческой недвижимости         655\n",
       "покупка жилья для сдачи                   647\n",
       "операции с коммерческой недвижимостью     643\n",
       "операции с жильем                         641\n",
       "покупка жилья для семьи                   636\n",
       "жилье                                     635\n",
       "покупка жилья                             634\n",
       "недвижимость                              627\n",
       "строительство собственной недвижимости    626\n",
       "операции со своей недвижимостью           623\n",
       "строительство недвижимости                619\n",
       "покупка своего жилья                      618\n",
       "строительство жилой недвижимости          617\n",
       "покупка недвижимости                      613\n",
       "ремонт жилью                              602\n",
       "покупка жилой недвижимости                599\n",
       "на покупку своего автомобиля              501\n",
       "заняться высшим образованием              493\n",
       "автомобиль                                487\n",
       "сделка с подержанным автомобилем          479\n",
       "автомобили                                474\n",
       "на покупку подержанного автомобиля        471\n",
       "свой автомобиль                           470\n",
       "на покупку автомобиля                     465\n",
       "приобретение автомобиля                   457\n",
       "сделка с автомобилем                      454\n",
       "дополнительное образование                453\n",
       "высшее образование                        443\n",
       "получение дополнительного образования     442\n",
       "получение образования                     439\n",
       "образование                               439\n",
       "профильное образование                    431\n",
       "получение высшего образования             423\n",
       "заняться образованием                     407\n",
       "Name: purpose, dtype: int64"
      ]
     },
     "execution_count": 44,
     "metadata": {},
     "output_type": "execute_result"
    }
   ],
   "source": [
    "# выявление скрытых дубликатов в столбце 'purpose'\n",
    "data['purpose'].value_counts()"
   ]
  },
  {
   "cell_type": "code",
   "execution_count": 45,
   "id": "7cd0d527",
   "metadata": {},
   "outputs": [
    {
     "data": {
      "text/plain": [
       "'операции с недвижимостью'"
      ]
     },
     "execution_count": 45,
     "metadata": {},
     "output_type": "execute_result"
    }
   ],
   "source": [
    "# напишем функцию, которая объединит имеющиеся в датасете цели кредита\n",
    "# в четыре категории: операции с автомобилем, получение образования,\n",
    "# проведение свадьбы и операции с недвижимостью\n",
    "def purpose_group(purpose):\n",
    "    if 'авто' in purpose:\n",
    "        return 'операции с автомобилем'\n",
    "    if 'образ' in purpose:\n",
    "        return 'получение образования'\n",
    "    if 'свад' in purpose:\n",
    "        return 'проведение свадьбы'\n",
    "    if ('жиль' in purpose) or ('недвиж' in purpose):\n",
    "        return 'операции с недвижимостью'\n",
    "\n",
    "# проверка\n",
    "purpose_group('ремонт жилью')"
   ]
  },
  {
   "cell_type": "code",
   "execution_count": 46,
   "id": "ec72568e",
   "metadata": {
    "scrolled": true
   },
   "outputs": [
    {
     "data": {
      "text/html": [
       "<div>\n",
       "<style scoped>\n",
       "    .dataframe tbody tr th:only-of-type {\n",
       "        vertical-align: middle;\n",
       "    }\n",
       "\n",
       "    .dataframe tbody tr th {\n",
       "        vertical-align: top;\n",
       "    }\n",
       "\n",
       "    .dataframe thead th {\n",
       "        text-align: right;\n",
       "    }\n",
       "</style>\n",
       "<table border=\"1\" class=\"dataframe\">\n",
       "  <thead>\n",
       "    <tr style=\"text-align: right;\">\n",
       "      <th></th>\n",
       "      <th>children</th>\n",
       "      <th>days_employed</th>\n",
       "      <th>dob_years</th>\n",
       "      <th>education_id</th>\n",
       "      <th>family_status_id</th>\n",
       "      <th>gender</th>\n",
       "      <th>income_type</th>\n",
       "      <th>debt</th>\n",
       "      <th>total_income</th>\n",
       "      <th>purpose</th>\n",
       "      <th>total_income_category</th>\n",
       "      <th>purpose_category</th>\n",
       "    </tr>\n",
       "  </thead>\n",
       "  <tbody>\n",
       "    <tr>\n",
       "      <th>0</th>\n",
       "      <td>1</td>\n",
       "      <td>8437</td>\n",
       "      <td>42</td>\n",
       "      <td>0</td>\n",
       "      <td>0</td>\n",
       "      <td>F</td>\n",
       "      <td>сотрудник</td>\n",
       "      <td>0</td>\n",
       "      <td>253875</td>\n",
       "      <td>покупка жилья</td>\n",
       "      <td>B</td>\n",
       "      <td>операции с недвижимостью</td>\n",
       "    </tr>\n",
       "    <tr>\n",
       "      <th>1</th>\n",
       "      <td>1</td>\n",
       "      <td>4024</td>\n",
       "      <td>36</td>\n",
       "      <td>1</td>\n",
       "      <td>0</td>\n",
       "      <td>F</td>\n",
       "      <td>сотрудник</td>\n",
       "      <td>0</td>\n",
       "      <td>112080</td>\n",
       "      <td>приобретение автомобиля</td>\n",
       "      <td>C</td>\n",
       "      <td>операции с автомобилем</td>\n",
       "    </tr>\n",
       "    <tr>\n",
       "      <th>2</th>\n",
       "      <td>0</td>\n",
       "      <td>5623</td>\n",
       "      <td>33</td>\n",
       "      <td>1</td>\n",
       "      <td>0</td>\n",
       "      <td>M</td>\n",
       "      <td>сотрудник</td>\n",
       "      <td>0</td>\n",
       "      <td>145885</td>\n",
       "      <td>покупка жилья</td>\n",
       "      <td>C</td>\n",
       "      <td>операции с недвижимостью</td>\n",
       "    </tr>\n",
       "    <tr>\n",
       "      <th>3</th>\n",
       "      <td>3</td>\n",
       "      <td>4124</td>\n",
       "      <td>32</td>\n",
       "      <td>1</td>\n",
       "      <td>0</td>\n",
       "      <td>M</td>\n",
       "      <td>сотрудник</td>\n",
       "      <td>0</td>\n",
       "      <td>267628</td>\n",
       "      <td>дополнительное образование</td>\n",
       "      <td>B</td>\n",
       "      <td>получение образования</td>\n",
       "    </tr>\n",
       "    <tr>\n",
       "      <th>4</th>\n",
       "      <td>0</td>\n",
       "      <td>12775</td>\n",
       "      <td>53</td>\n",
       "      <td>1</td>\n",
       "      <td>1</td>\n",
       "      <td>F</td>\n",
       "      <td>пенсионер</td>\n",
       "      <td>0</td>\n",
       "      <td>158616</td>\n",
       "      <td>сыграть свадьбу</td>\n",
       "      <td>C</td>\n",
       "      <td>проведение свадьбы</td>\n",
       "    </tr>\n",
       "    <tr>\n",
       "      <th>5</th>\n",
       "      <td>0</td>\n",
       "      <td>926</td>\n",
       "      <td>27</td>\n",
       "      <td>0</td>\n",
       "      <td>1</td>\n",
       "      <td>M</td>\n",
       "      <td>компаньон</td>\n",
       "      <td>0</td>\n",
       "      <td>255763</td>\n",
       "      <td>покупка жилья</td>\n",
       "      <td>B</td>\n",
       "      <td>операции с недвижимостью</td>\n",
       "    </tr>\n",
       "    <tr>\n",
       "      <th>6</th>\n",
       "      <td>0</td>\n",
       "      <td>2879</td>\n",
       "      <td>43</td>\n",
       "      <td>0</td>\n",
       "      <td>0</td>\n",
       "      <td>F</td>\n",
       "      <td>компаньон</td>\n",
       "      <td>0</td>\n",
       "      <td>240525</td>\n",
       "      <td>операции с жильем</td>\n",
       "      <td>B</td>\n",
       "      <td>операции с недвижимостью</td>\n",
       "    </tr>\n",
       "    <tr>\n",
       "      <th>7</th>\n",
       "      <td>0</td>\n",
       "      <td>152</td>\n",
       "      <td>50</td>\n",
       "      <td>1</td>\n",
       "      <td>0</td>\n",
       "      <td>M</td>\n",
       "      <td>сотрудник</td>\n",
       "      <td>0</td>\n",
       "      <td>135823</td>\n",
       "      <td>образование</td>\n",
       "      <td>C</td>\n",
       "      <td>получение образования</td>\n",
       "    </tr>\n",
       "    <tr>\n",
       "      <th>8</th>\n",
       "      <td>2</td>\n",
       "      <td>6929</td>\n",
       "      <td>35</td>\n",
       "      <td>0</td>\n",
       "      <td>1</td>\n",
       "      <td>F</td>\n",
       "      <td>сотрудник</td>\n",
       "      <td>0</td>\n",
       "      <td>95856</td>\n",
       "      <td>на проведение свадьбы</td>\n",
       "      <td>C</td>\n",
       "      <td>проведение свадьбы</td>\n",
       "    </tr>\n",
       "    <tr>\n",
       "      <th>9</th>\n",
       "      <td>0</td>\n",
       "      <td>2188</td>\n",
       "      <td>41</td>\n",
       "      <td>1</td>\n",
       "      <td>0</td>\n",
       "      <td>M</td>\n",
       "      <td>сотрудник</td>\n",
       "      <td>0</td>\n",
       "      <td>144425</td>\n",
       "      <td>покупка жилья для семьи</td>\n",
       "      <td>C</td>\n",
       "      <td>операции с недвижимостью</td>\n",
       "    </tr>\n",
       "    <tr>\n",
       "      <th>10</th>\n",
       "      <td>2</td>\n",
       "      <td>4171</td>\n",
       "      <td>36</td>\n",
       "      <td>0</td>\n",
       "      <td>0</td>\n",
       "      <td>M</td>\n",
       "      <td>компаньон</td>\n",
       "      <td>0</td>\n",
       "      <td>113943</td>\n",
       "      <td>покупка недвижимости</td>\n",
       "      <td>C</td>\n",
       "      <td>операции с недвижимостью</td>\n",
       "    </tr>\n",
       "    <tr>\n",
       "      <th>11</th>\n",
       "      <td>0</td>\n",
       "      <td>792</td>\n",
       "      <td>40</td>\n",
       "      <td>1</td>\n",
       "      <td>0</td>\n",
       "      <td>F</td>\n",
       "      <td>сотрудник</td>\n",
       "      <td>0</td>\n",
       "      <td>77069</td>\n",
       "      <td>покупка коммерческой недвижимости</td>\n",
       "      <td>C</td>\n",
       "      <td>операции с недвижимостью</td>\n",
       "    </tr>\n",
       "    <tr>\n",
       "      <th>12</th>\n",
       "      <td>0</td>\n",
       "      <td>2188</td>\n",
       "      <td>65</td>\n",
       "      <td>1</td>\n",
       "      <td>1</td>\n",
       "      <td>M</td>\n",
       "      <td>пенсионер</td>\n",
       "      <td>0</td>\n",
       "      <td>145017</td>\n",
       "      <td>сыграть свадьбу</td>\n",
       "      <td>C</td>\n",
       "      <td>проведение свадьбы</td>\n",
       "    </tr>\n",
       "    <tr>\n",
       "      <th>13</th>\n",
       "      <td>0</td>\n",
       "      <td>1846</td>\n",
       "      <td>54</td>\n",
       "      <td>2</td>\n",
       "      <td>0</td>\n",
       "      <td>F</td>\n",
       "      <td>сотрудник</td>\n",
       "      <td>0</td>\n",
       "      <td>130458</td>\n",
       "      <td>приобретение автомобиля</td>\n",
       "      <td>C</td>\n",
       "      <td>операции с автомобилем</td>\n",
       "    </tr>\n",
       "    <tr>\n",
       "      <th>14</th>\n",
       "      <td>0</td>\n",
       "      <td>1844</td>\n",
       "      <td>56</td>\n",
       "      <td>0</td>\n",
       "      <td>1</td>\n",
       "      <td>F</td>\n",
       "      <td>компаньон</td>\n",
       "      <td>1</td>\n",
       "      <td>165127</td>\n",
       "      <td>покупка жилой недвижимости</td>\n",
       "      <td>C</td>\n",
       "      <td>операции с недвижимостью</td>\n",
       "    </tr>\n",
       "    <tr>\n",
       "      <th>15</th>\n",
       "      <td>1</td>\n",
       "      <td>972</td>\n",
       "      <td>26</td>\n",
       "      <td>1</td>\n",
       "      <td>0</td>\n",
       "      <td>F</td>\n",
       "      <td>сотрудник</td>\n",
       "      <td>0</td>\n",
       "      <td>116820</td>\n",
       "      <td>строительство собственной недвижимости</td>\n",
       "      <td>C</td>\n",
       "      <td>операции с недвижимостью</td>\n",
       "    </tr>\n",
       "    <tr>\n",
       "      <th>16</th>\n",
       "      <td>0</td>\n",
       "      <td>1719</td>\n",
       "      <td>35</td>\n",
       "      <td>1</td>\n",
       "      <td>0</td>\n",
       "      <td>F</td>\n",
       "      <td>сотрудник</td>\n",
       "      <td>0</td>\n",
       "      <td>289202</td>\n",
       "      <td>недвижимость</td>\n",
       "      <td>B</td>\n",
       "      <td>операции с недвижимостью</td>\n",
       "    </tr>\n",
       "    <tr>\n",
       "      <th>17</th>\n",
       "      <td>0</td>\n",
       "      <td>2369</td>\n",
       "      <td>33</td>\n",
       "      <td>0</td>\n",
       "      <td>1</td>\n",
       "      <td>M</td>\n",
       "      <td>сотрудник</td>\n",
       "      <td>0</td>\n",
       "      <td>90410</td>\n",
       "      <td>строительство недвижимости</td>\n",
       "      <td>C</td>\n",
       "      <td>операции с недвижимостью</td>\n",
       "    </tr>\n",
       "    <tr>\n",
       "      <th>18</th>\n",
       "      <td>0</td>\n",
       "      <td>12775</td>\n",
       "      <td>53</td>\n",
       "      <td>1</td>\n",
       "      <td>2</td>\n",
       "      <td>F</td>\n",
       "      <td>пенсионер</td>\n",
       "      <td>0</td>\n",
       "      <td>56823</td>\n",
       "      <td>на покупку подержанного автомобиля</td>\n",
       "      <td>C</td>\n",
       "      <td>операции с автомобилем</td>\n",
       "    </tr>\n",
       "    <tr>\n",
       "      <th>19</th>\n",
       "      <td>0</td>\n",
       "      <td>10038</td>\n",
       "      <td>48</td>\n",
       "      <td>1</td>\n",
       "      <td>3</td>\n",
       "      <td>F</td>\n",
       "      <td>сотрудник</td>\n",
       "      <td>0</td>\n",
       "      <td>242831</td>\n",
       "      <td>на покупку своего автомобиля</td>\n",
       "      <td>B</td>\n",
       "      <td>операции с автомобилем</td>\n",
       "    </tr>\n",
       "  </tbody>\n",
       "</table>\n",
       "</div>"
      ],
      "text/plain": [
       "    children  days_employed  dob_years  education_id  family_status_id gender  \\\n",
       "0          1           8437         42             0                 0      F   \n",
       "1          1           4024         36             1                 0      F   \n",
       "2          0           5623         33             1                 0      M   \n",
       "3          3           4124         32             1                 0      M   \n",
       "4          0          12775         53             1                 1      F   \n",
       "5          0            926         27             0                 1      M   \n",
       "6          0           2879         43             0                 0      F   \n",
       "7          0            152         50             1                 0      M   \n",
       "8          2           6929         35             0                 1      F   \n",
       "9          0           2188         41             1                 0      M   \n",
       "10         2           4171         36             0                 0      M   \n",
       "11         0            792         40             1                 0      F   \n",
       "12         0           2188         65             1                 1      M   \n",
       "13         0           1846         54             2                 0      F   \n",
       "14         0           1844         56             0                 1      F   \n",
       "15         1            972         26             1                 0      F   \n",
       "16         0           1719         35             1                 0      F   \n",
       "17         0           2369         33             0                 1      M   \n",
       "18         0          12775         53             1                 2      F   \n",
       "19         0          10038         48             1                 3      F   \n",
       "\n",
       "   income_type  debt  total_income                                 purpose  \\\n",
       "0    сотрудник     0        253875                           покупка жилья   \n",
       "1    сотрудник     0        112080                 приобретение автомобиля   \n",
       "2    сотрудник     0        145885                           покупка жилья   \n",
       "3    сотрудник     0        267628              дополнительное образование   \n",
       "4    пенсионер     0        158616                         сыграть свадьбу   \n",
       "5    компаньон     0        255763                           покупка жилья   \n",
       "6    компаньон     0        240525                       операции с жильем   \n",
       "7    сотрудник     0        135823                             образование   \n",
       "8    сотрудник     0         95856                   на проведение свадьбы   \n",
       "9    сотрудник     0        144425                 покупка жилья для семьи   \n",
       "10   компаньон     0        113943                    покупка недвижимости   \n",
       "11   сотрудник     0         77069       покупка коммерческой недвижимости   \n",
       "12   пенсионер     0        145017                         сыграть свадьбу   \n",
       "13   сотрудник     0        130458                 приобретение автомобиля   \n",
       "14   компаньон     1        165127              покупка жилой недвижимости   \n",
       "15   сотрудник     0        116820  строительство собственной недвижимости   \n",
       "16   сотрудник     0        289202                            недвижимость   \n",
       "17   сотрудник     0         90410              строительство недвижимости   \n",
       "18   пенсионер     0         56823      на покупку подержанного автомобиля   \n",
       "19   сотрудник     0        242831            на покупку своего автомобиля   \n",
       "\n",
       "   total_income_category          purpose_category  \n",
       "0                      B  операции с недвижимостью  \n",
       "1                      C    операции с автомобилем  \n",
       "2                      C  операции с недвижимостью  \n",
       "3                      B     получение образования  \n",
       "4                      C        проведение свадьбы  \n",
       "5                      B  операции с недвижимостью  \n",
       "6                      B  операции с недвижимостью  \n",
       "7                      C     получение образования  \n",
       "8                      C        проведение свадьбы  \n",
       "9                      C  операции с недвижимостью  \n",
       "10                     C  операции с недвижимостью  \n",
       "11                     C  операции с недвижимостью  \n",
       "12                     C        проведение свадьбы  \n",
       "13                     C    операции с автомобилем  \n",
       "14                     C  операции с недвижимостью  \n",
       "15                     C  операции с недвижимостью  \n",
       "16                     B  операции с недвижимостью  \n",
       "17                     C  операции с недвижимостью  \n",
       "18                     C    операции с автомобилем  \n",
       "19                     B    операции с автомобилем  "
      ]
     },
     "execution_count": 46,
     "metadata": {},
     "output_type": "execute_result"
    }
   ],
   "source": [
    "# добавим к датасету столбец с категоризированными значениями целей кредита\n",
    "data['purpose_category'] = data['purpose'].apply(purpose_group)\n",
    "data.head(20)"
   ]
  },
  {
   "cell_type": "code",
   "execution_count": 47,
   "id": "92e045f8",
   "metadata": {},
   "outputs": [],
   "source": [
    "data = data.drop_duplicates().reset_index(drop=True)"
   ]
  },
  {
   "cell_type": "code",
   "execution_count": 48,
   "id": "960c52a6",
   "metadata": {},
   "outputs": [
    {
     "data": {
      "text/plain": [
       "21231"
      ]
     },
     "execution_count": 48,
     "metadata": {},
     "output_type": "execute_result"
    }
   ],
   "source": [
    "# повторное удаление дубликатов\n",
    "data.duplicated().count()"
   ]
  },
  {
   "cell_type": "markdown",
   "id": "80ce79f1",
   "metadata": {},
   "source": [
    "**Выводы**\n",
    "Предобработка данных обнаружила следующие проблемы:\n",
    "\n",
    "- пропущенные и аномальные значения,\n",
    "- явные и скрытые дубликаты,\n",
    "- неудачный тип данных,\n",
    "- неудобно представленные данные.\n",
    "\n",
    "Пропущенные значения и аномалии были скорректированы, типы данных исправлены, дубликаты удалены. Данные в столбцах `education`, `family_status` и `purpose` были объединены в категории, более удобные для работы."
   ]
  },
  {
   "cell_type": "markdown",
   "id": "47ac74f9",
   "metadata": {},
   "source": [
    "## Гипотезы"
   ]
  },
  {
   "cell_type": "markdown",
   "id": "c552438b",
   "metadata": {},
   "source": [
    "### Влияние количества детей в семье на возврат кредита"
   ]
  },
  {
   "cell_type": "markdown",
   "id": "1c67cae4",
   "metadata": {},
   "source": [
    "Рассчитаем корреляцию между количеством детей в семье и возвратом кредита:"
   ]
  },
  {
   "cell_type": "code",
   "execution_count": 49,
   "id": "def952da",
   "metadata": {},
   "outputs": [
    {
     "data": {
      "text/plain": [
       "0.024958000127971818"
      ]
     },
     "execution_count": 49,
     "metadata": {},
     "output_type": "execute_result"
    }
   ],
   "source": [
    "# Расчет коэффициента корреляции Пирсона для столбцов 'children' и 'debt'\n",
    "data.children.corr(data.debt)"
   ]
  },
  {
   "cell_type": "markdown",
   "id": "fd929c69",
   "metadata": {},
   "source": [
    "Коэффициент равный 0.02 указывает на отсутствие корреляции между количеством детей в семье и возвратом кредита в срок.\n",
    "\n",
    "Применим другой метод для проверки этого вывода - построим сводную таблицу для столбцов `children` и `debt`."
   ]
  },
  {
   "cell_type": "code",
   "execution_count": 17,
   "id": "966d151e",
   "metadata": {},
   "outputs": [
    {
     "data": {
      "text/html": [
       "<div>\n",
       "<style scoped>\n",
       "    .dataframe tbody tr th:only-of-type {\n",
       "        vertical-align: middle;\n",
       "    }\n",
       "\n",
       "    .dataframe tbody tr th {\n",
       "        vertical-align: top;\n",
       "    }\n",
       "\n",
       "    .dataframe thead tr th {\n",
       "        text-align: left;\n",
       "    }\n",
       "\n",
       "    .dataframe thead tr:last-of-type th {\n",
       "        text-align: right;\n",
       "    }\n",
       "</style>\n",
       "<table border=\"1\" class=\"dataframe\">\n",
       "  <thead>\n",
       "    <tr>\n",
       "      <th></th>\n",
       "      <th>sum</th>\n",
       "      <th>len</th>\n",
       "      <th>ratio</th>\n",
       "    </tr>\n",
       "    <tr>\n",
       "      <th></th>\n",
       "      <th>debt</th>\n",
       "      <th>debt</th>\n",
       "      <th></th>\n",
       "    </tr>\n",
       "    <tr>\n",
       "      <th>children</th>\n",
       "      <th></th>\n",
       "      <th></th>\n",
       "      <th></th>\n",
       "    </tr>\n",
       "  </thead>\n",
       "  <tbody>\n",
       "    <tr>\n",
       "      <th>-1</th>\n",
       "      <td>1</td>\n",
       "      <td>47</td>\n",
       "      <td>2.127660</td>\n",
       "    </tr>\n",
       "    <tr>\n",
       "      <th>0</th>\n",
       "      <td>1063</td>\n",
       "      <td>14149</td>\n",
       "      <td>7.512898</td>\n",
       "    </tr>\n",
       "    <tr>\n",
       "      <th>1</th>\n",
       "      <td>444</td>\n",
       "      <td>4818</td>\n",
       "      <td>9.215442</td>\n",
       "    </tr>\n",
       "    <tr>\n",
       "      <th>2</th>\n",
       "      <td>194</td>\n",
       "      <td>2055</td>\n",
       "      <td>9.440389</td>\n",
       "    </tr>\n",
       "    <tr>\n",
       "      <th>3</th>\n",
       "      <td>27</td>\n",
       "      <td>330</td>\n",
       "      <td>8.181818</td>\n",
       "    </tr>\n",
       "    <tr>\n",
       "      <th>4</th>\n",
       "      <td>4</td>\n",
       "      <td>41</td>\n",
       "      <td>9.756098</td>\n",
       "    </tr>\n",
       "    <tr>\n",
       "      <th>5</th>\n",
       "      <td>0</td>\n",
       "      <td>9</td>\n",
       "      <td>0.000000</td>\n",
       "    </tr>\n",
       "    <tr>\n",
       "      <th>20</th>\n",
       "      <td>8</td>\n",
       "      <td>76</td>\n",
       "      <td>10.526316</td>\n",
       "    </tr>\n",
       "  </tbody>\n",
       "</table>\n",
       "</div>"
      ],
      "text/plain": [
       "           sum    len      ratio\n",
       "          debt   debt           \n",
       "children                        \n",
       "-1           1     47   2.127660\n",
       " 0        1063  14149   7.512898\n",
       " 1         444   4818   9.215442\n",
       " 2         194   2055   9.440389\n",
       " 3          27    330   8.181818\n",
       " 4           4     41   9.756098\n",
       " 5           0      9   0.000000\n",
       " 20          8     76  10.526316"
      ]
     },
     "execution_count": 17,
     "metadata": {},
     "output_type": "execute_result"
    }
   ],
   "source": [
    "children_debt_corr = pd.pivot_table(data, index=['children'], values=['debt'], aggfunc=[sum, len])\n",
    "children_debt_corr['ratio'] = children_debt_corr['sum'] / children_debt_corr['len'] * 100\n",
    "children_debt_corr"
   ]
  },
  {
   "cell_type": "markdown",
   "id": "96ce1450",
   "metadata": {},
   "source": [
    "На таблице видно, что разброс между семьями без детей и семьями с четырьмя детьми, не вернувших кредит вовремя - максимум 2%. Можно сделать вывод, что прямой зависимости между количеством детей в семье и возвращением кредита нет."
   ]
  },
  {
   "cell_type": "markdown",
   "id": "38fad6e9",
   "metadata": {},
   "source": [
    "### Влияние семейного положения клиента на возврат кредита"
   ]
  },
  {
   "cell_type": "code",
   "execution_count": 51,
   "id": "da953810",
   "metadata": {},
   "outputs": [
    {
     "data": {
      "text/plain": [
       "0.020530792656592012"
      ]
     },
     "execution_count": 51,
     "metadata": {},
     "output_type": "execute_result"
    }
   ],
   "source": [
    "# Расчет коэффициента корреляции Пирсона для столбцов 'family_status_id' и 'debt'\n",
    "data.family_status_id.corr(data.debt)"
   ]
  },
  {
   "cell_type": "markdown",
   "id": "299dd57e",
   "metadata": {},
   "source": [
    "Коэффициент равный 0.02 указывает на отсутствие корреляции между семейным положением и возвратом кредита в срок.\n",
    "\n",
    "Применим другой метод для проверки этого вывода - построим сводную таблицу для столбцов `family_status_id` и `debt`."
   ]
  },
  {
   "cell_type": "code",
   "execution_count": 52,
   "id": "88551c61",
   "metadata": {},
   "outputs": [
    {
     "name": "stderr",
     "output_type": "stream",
     "text": [
      "/opt/conda/lib/python3.9/site-packages/pandas/core/reshape/merge.py:648: UserWarning: merging between different levels can give an unintended result (2 levels on the left,1 on the right)\n",
      "  warnings.warn(msg, UserWarning)\n"
     ]
    },
    {
     "data": {
      "text/html": [
       "<div>\n",
       "<style scoped>\n",
       "    .dataframe tbody tr th:only-of-type {\n",
       "        vertical-align: middle;\n",
       "    }\n",
       "\n",
       "    .dataframe tbody tr th {\n",
       "        vertical-align: top;\n",
       "    }\n",
       "\n",
       "    .dataframe thead th {\n",
       "        text-align: right;\n",
       "    }\n",
       "</style>\n",
       "<table border=\"1\" class=\"dataframe\">\n",
       "  <thead>\n",
       "    <tr style=\"text-align: right;\">\n",
       "      <th></th>\n",
       "      <th>family_status_id</th>\n",
       "      <th>(sum, debt)</th>\n",
       "      <th>(len, debt)</th>\n",
       "      <th>(ratio, )</th>\n",
       "      <th>family_status</th>\n",
       "    </tr>\n",
       "  </thead>\n",
       "  <tbody>\n",
       "    <tr>\n",
       "      <th>0</th>\n",
       "      <td>0</td>\n",
       "      <td>923</td>\n",
       "      <td>12213</td>\n",
       "      <td>7.557521</td>\n",
       "      <td>женат / замужем</td>\n",
       "    </tr>\n",
       "    <tr>\n",
       "      <th>1</th>\n",
       "      <td>1</td>\n",
       "      <td>383</td>\n",
       "      <td>4113</td>\n",
       "      <td>9.311938</td>\n",
       "      <td>гражданский брак</td>\n",
       "    </tr>\n",
       "    <tr>\n",
       "      <th>2</th>\n",
       "      <td>2</td>\n",
       "      <td>62</td>\n",
       "      <td>946</td>\n",
       "      <td>6.553911</td>\n",
       "      <td>вдовец / вдова</td>\n",
       "    </tr>\n",
       "    <tr>\n",
       "      <th>3</th>\n",
       "      <td>3</td>\n",
       "      <td>84</td>\n",
       "      <td>1179</td>\n",
       "      <td>7.124682</td>\n",
       "      <td>в разводе</td>\n",
       "    </tr>\n",
       "    <tr>\n",
       "      <th>4</th>\n",
       "      <td>4</td>\n",
       "      <td>272</td>\n",
       "      <td>2780</td>\n",
       "      <td>9.784173</td>\n",
       "      <td>Не женат / не замужем</td>\n",
       "    </tr>\n",
       "  </tbody>\n",
       "</table>\n",
       "</div>"
      ],
      "text/plain": [
       "   family_status_id  (sum, debt)  (len, debt)  (ratio, )  \\\n",
       "0                 0          923        12213   7.557521   \n",
       "1                 1          383         4113   9.311938   \n",
       "2                 2           62          946   6.553911   \n",
       "3                 3           84         1179   7.124682   \n",
       "4                 4          272         2780   9.784173   \n",
       "\n",
       "           family_status  \n",
       "0        женат / замужем  \n",
       "1       гражданский брак  \n",
       "2         вдовец / вдова  \n",
       "3              в разводе  \n",
       "4  Не женат / не замужем  "
      ]
     },
     "execution_count": 52,
     "metadata": {},
     "output_type": "execute_result"
    }
   ],
   "source": [
    "# создание сводной таблицы\n",
    "family_status_debt_corr = pd.pivot_table(data, index=['family_status_id'], values=['debt'], aggfunc=[sum, len])\n",
    "family_status_debt_corr['ratio'] = family_status_debt_corr['sum'] / family_status_debt_corr['len'] * 100\n",
    "\n",
    "# добавим в сводную таблицу \"словарь\" со значением семейного положения\n",
    "family_status_debt_dict = family_status_debt_corr.merge(family_status_dict, \n",
    "                                                        on='family_status_id', \n",
    "                                                        how='left')\n",
    "family_status_debt_dict"
   ]
  },
  {
   "cell_type": "markdown",
   "id": "93688d6d",
   "metadata": {},
   "source": [
    "Разница между клиентами разного семейного положения, не вернувших кредит в срок, не превышает 3,2%. Вторая гипотеза не подтверждается."
   ]
  },
  {
   "cell_type": "markdown",
   "id": "4da8b47c",
   "metadata": {},
   "source": [
    "### Влияние уровня доходов на возврат кредита"
   ]
  },
  {
   "cell_type": "code",
   "execution_count": 53,
   "id": "4dc6c6f6",
   "metadata": {},
   "outputs": [
    {
     "data": {
      "text/plain": [
       "-0.011855127061185227"
      ]
     },
     "execution_count": 53,
     "metadata": {},
     "output_type": "execute_result"
    }
   ],
   "source": [
    "# Расчет коэффициента корреляции Пирсона для столбцов 'total_income' и 'debt'\n",
    "data.total_income.corr(data.debt)"
   ]
  },
  {
   "cell_type": "markdown",
   "id": "574cc243",
   "metadata": {},
   "source": [
    "Коэффициент равный 0.01% указывает на отсутствие корреляции между семейным положением и возвратом кредита в срок.\n",
    "\n",
    "Применим другой метод для проверки этого вывода - построим сводную таблицу для столбцов `total_income` и `debt`."
   ]
  },
  {
   "cell_type": "code",
   "execution_count": 54,
   "id": "0001936b",
   "metadata": {},
   "outputs": [
    {
     "data": {
      "text/html": [
       "<div>\n",
       "<style scoped>\n",
       "    .dataframe tbody tr th:only-of-type {\n",
       "        vertical-align: middle;\n",
       "    }\n",
       "\n",
       "    .dataframe tbody tr th {\n",
       "        vertical-align: top;\n",
       "    }\n",
       "\n",
       "    .dataframe thead tr th {\n",
       "        text-align: left;\n",
       "    }\n",
       "\n",
       "    .dataframe thead tr:last-of-type th {\n",
       "        text-align: right;\n",
       "    }\n",
       "</style>\n",
       "<table border=\"1\" class=\"dataframe\">\n",
       "  <thead>\n",
       "    <tr>\n",
       "      <th></th>\n",
       "      <th>sum</th>\n",
       "      <th>len</th>\n",
       "      <th>ratio</th>\n",
       "    </tr>\n",
       "    <tr>\n",
       "      <th></th>\n",
       "      <th>debt</th>\n",
       "      <th>debt</th>\n",
       "      <th></th>\n",
       "    </tr>\n",
       "    <tr>\n",
       "      <th>total_income_category</th>\n",
       "      <th></th>\n",
       "      <th></th>\n",
       "      <th></th>\n",
       "    </tr>\n",
       "  </thead>\n",
       "  <tbody>\n",
       "    <tr>\n",
       "      <th>A</th>\n",
       "      <td>2</td>\n",
       "      <td>25</td>\n",
       "      <td>8.000000</td>\n",
       "    </tr>\n",
       "    <tr>\n",
       "      <th>B</th>\n",
       "      <td>353</td>\n",
       "      <td>4987</td>\n",
       "      <td>7.078404</td>\n",
       "    </tr>\n",
       "    <tr>\n",
       "      <th>C</th>\n",
       "      <td>1346</td>\n",
       "      <td>15850</td>\n",
       "      <td>8.492114</td>\n",
       "    </tr>\n",
       "    <tr>\n",
       "      <th>D</th>\n",
       "      <td>21</td>\n",
       "      <td>347</td>\n",
       "      <td>6.051873</td>\n",
       "    </tr>\n",
       "    <tr>\n",
       "      <th>E</th>\n",
       "      <td>2</td>\n",
       "      <td>22</td>\n",
       "      <td>9.090909</td>\n",
       "    </tr>\n",
       "  </tbody>\n",
       "</table>\n",
       "</div>"
      ],
      "text/plain": [
       "                        sum    len     ratio\n",
       "                       debt   debt          \n",
       "total_income_category                       \n",
       "A                         2     25  8.000000\n",
       "B                       353   4987  7.078404\n",
       "C                      1346  15850  8.492114\n",
       "D                        21    347  6.051873\n",
       "E                         2     22  9.090909"
      ]
     },
     "execution_count": 54,
     "metadata": {},
     "output_type": "execute_result"
    }
   ],
   "source": [
    "total_income_debt_corr = pd.pivot_table(data, index=['total_income_category'], values=['debt'], aggfunc=[sum, len])\n",
    "total_income_debt_corr['ratio'] = total_income_debt_corr['sum'] / total_income_debt_corr['len'] * 100\n",
    "total_income_debt_corr"
   ]
  },
  {
   "cell_type": "markdown",
   "id": "ccfb23d5",
   "metadata": {},
   "source": [
    "Основные категории клиентов, берущих кредиты - те, чьи доходы располагаются в диапазоне от 200 000 до 1 000 000 и от 50 000 до 200 000. Разница в неплательщиках между первыми и вторыми не превышает 1,5%. Следовательно, третья гипотеза не подтверждается."
   ]
  },
  {
   "cell_type": "markdown",
   "id": "117d144f",
   "metadata": {},
   "source": [
    "### Влияние цели кредита на его возврат"
   ]
  },
  {
   "cell_type": "markdown",
   "id": "9bf8caad",
   "metadata": {},
   "source": [
    "Так как столбец `purpose` представлен данными типа str, применить к нему метод рассчета коэффициента Пирсона невозможно. Построим сводную таблицу."
   ]
  },
  {
   "cell_type": "code",
   "execution_count": 55,
   "id": "4bf90ddb",
   "metadata": {},
   "outputs": [
    {
     "data": {
      "text/html": [
       "<div>\n",
       "<style scoped>\n",
       "    .dataframe tbody tr th:only-of-type {\n",
       "        vertical-align: middle;\n",
       "    }\n",
       "\n",
       "    .dataframe tbody tr th {\n",
       "        vertical-align: top;\n",
       "    }\n",
       "\n",
       "    .dataframe thead tr th {\n",
       "        text-align: left;\n",
       "    }\n",
       "\n",
       "    .dataframe thead tr:last-of-type th {\n",
       "        text-align: right;\n",
       "    }\n",
       "</style>\n",
       "<table border=\"1\" class=\"dataframe\">\n",
       "  <thead>\n",
       "    <tr>\n",
       "      <th></th>\n",
       "      <th>sum</th>\n",
       "      <th>len</th>\n",
       "      <th>ratio</th>\n",
       "    </tr>\n",
       "    <tr>\n",
       "      <th></th>\n",
       "      <th>debt</th>\n",
       "      <th>debt</th>\n",
       "      <th></th>\n",
       "    </tr>\n",
       "    <tr>\n",
       "      <th>purpose_category</th>\n",
       "      <th></th>\n",
       "      <th></th>\n",
       "      <th></th>\n",
       "    </tr>\n",
       "  </thead>\n",
       "  <tbody>\n",
       "    <tr>\n",
       "      <th>операции с автомобилем</th>\n",
       "      <td>397</td>\n",
       "      <td>4258</td>\n",
       "      <td>9.323626</td>\n",
       "    </tr>\n",
       "    <tr>\n",
       "      <th>операции с недвижимостью</th>\n",
       "      <td>777</td>\n",
       "      <td>10704</td>\n",
       "      <td>7.258969</td>\n",
       "    </tr>\n",
       "    <tr>\n",
       "      <th>получение образования</th>\n",
       "      <td>369</td>\n",
       "      <td>3970</td>\n",
       "      <td>9.294710</td>\n",
       "    </tr>\n",
       "    <tr>\n",
       "      <th>проведение свадьбы</th>\n",
       "      <td>181</td>\n",
       "      <td>2299</td>\n",
       "      <td>7.872988</td>\n",
       "    </tr>\n",
       "  </tbody>\n",
       "</table>\n",
       "</div>"
      ],
      "text/plain": [
       "                          sum    len     ratio\n",
       "                         debt   debt          \n",
       "purpose_category                              \n",
       "операции с автомобилем    397   4258  9.323626\n",
       "операции с недвижимостью  777  10704  7.258969\n",
       "получение образования     369   3970  9.294710\n",
       "проведение свадьбы        181   2299  7.872988"
      ]
     },
     "execution_count": 55,
     "metadata": {},
     "output_type": "execute_result"
    }
   ],
   "source": [
    "purpose_debt_corr = pd.pivot_table(data, index=['purpose_category'], values=['debt'], aggfunc=[sum, len])\n",
    "purpose_debt_corr['ratio'] = purpose_debt_corr['sum'] / purpose_debt_corr['len'] * 100\n",
    "purpose_debt_corr"
   ]
  },
  {
   "cell_type": "markdown",
   "id": "7fd5f948",
   "metadata": {},
   "source": [
    "Мы видим, что половина всех кредитов берётся на недвижимость, приблизительно по 20% на автомобили и образование, 10% на проведение свадьбы. Доля не возвративших кредит составляет:\n",
    "\n",
    "- 7.2% при сделках с недвижимостью;\n",
    "- 9,4% при операциях с автомобилем;\n",
    "- 9,2% при кредитах на образование;\n",
    "- 8% при кредитах на свадьбу.\n",
    "\n",
    "Разброс между категориями наиболее часто и наиболее редко не возращающих кредиты клиентов не превышает 2,2%."
   ]
  },
  {
   "cell_type": "markdown",
   "id": "fce7ebd8",
   "metadata": {},
   "source": [
    "## Итоги"
   ]
  },
  {
   "cell_type": "markdown",
   "id": "978e24a1",
   "metadata": {},
   "source": [
    "### Предобработка\n",
    "\n",
    "В ходе предобработки данных были обнаружены следующие проблемы:\n",
    "- в столбцах `total_income` и `days_employed` содержится около 10% пропусков. В первом случае пропуски были заполнены медианным значением. Во втором случае сначала была исправлена обнаруженная аномалия (у некоторых клиентов трудовой стаж составлял более 900 лет), лишь затем были заполнены пропуски.\n",
    "- в столбцах `dob_years` и `children` также были обнаружены аномалии; так как количество аномальных строк было невелико относительно всего датасета, они были удалены.\n",
    "- в столбцах `days_employed` и `total_income` был изменен тип значений на более подходящий (c float на int).\n",
    "- в данных были обнаружены как явные, так и неявные дубликаты. Для их устранения в столбце `education` все значения были приведены к единому регистру; данные столбцов `total_income` и  `purpose` были объединены в категории для более удобной работы. После этого из данных были удалены все явные дубликаты.\n",
    "\n",
    "### Проверка гипотез\n",
    "\n",
    "Первые три гипотезы были проверены двумя способами - при помощи расчета коэффициента корреляции Пирсона и при помощи построения сводной таблицы. Четвертая гипотеза была проверена при помощи сводной таблицы. По результатам проверки гипотез можно сделать вывод, что общая доля клиентов, не вернувших кредит вовремя, не превышает 10% и не опускается ниже 6%, вне зависимости от семейного положения, количества детей в семье, уровня доходов и целей кредита. Разброс между клиентами вернувшими и не вернувшими кредит слишком незначителен, чтобы можно было делать выводы об однозначном влиянии выделенных характеристик на факт возврата кредита.\n",
    "\n",
    "Было обнаружено, что семьи без детей не возвращают кредит вовремя в 7,5% случаев, а с одним или двумя детьми - в 9,2% и 9,5% соответственно. Чаще всего не возвращают кредит холостые клиенты (9,8%), чуть реже - клиенты, состоящие в гражданском браке (9,3%); меньше всего долгов у клиентов, состоящих в зарегистрированном браке (7,6%).\n",
    "\n",
    "Клиенты с ежемесячным доходом от 50 до 200 тысяч не возвращают кредиты вовремя в 8,5% случаев, чуть реже (7,7%) это происходит у клиентов, чей ежемесячный доход составляет от 200 тысяч до 1 миллиона рублей.\n",
    "\n",
    "Структура целей кредитования следующая:\n",
    "- 45% на операции с недвижимостью;\n",
    "- 23% на операции с автомобилем;\n",
    "- 21,5% на получение образования;\n",
    "- 10,5% на проведение свадьбы.\n",
    "\n",
    "Доля не возвративших в этих категория составляет соответственно:\n",
    "\n",
    "- 7.2% при сделках с недвижимостью;\n",
    "- 9,4% при операциях с автомобилем;\n",
    "- 9,2% при кредитах на образование;\n",
    "- 8% при кредитах на свадьбу.\n",
    "\n",
    "\n",
    "### Рекомендации\n",
    "\n",
    "При выдаче кредита необходимо учитывать, что от всех оформленных кредитов от 6% до 10% не будет возвращено в срок. Также нужно учитывать, что чаще задерживают возврат кредита семьи с детьми, клиенты холостые, либо состоящие в гражданском браке. Уровень дохода незначительно, но влияет на возврат кредита, чаще задерживают выплаты клиенты, чей доход ниже двухсот дысяч рублей в месяц. Меньше всего задолженностей у кредитов, взятых на операции с недвижимостью, больше всего - у кредитов на автомобиль и образование."
   ]
  }
 ],
 "metadata": {
  "ExecuteTimeLog": [
   {
    "duration": 568,
    "start_time": "2022-04-06T08:23:06.846Z"
   },
   {
    "duration": 80,
    "start_time": "2022-04-06T08:23:30.979Z"
   },
   {
    "duration": 64,
    "start_time": "2022-04-06T08:23:35.311Z"
   },
   {
    "duration": 8,
    "start_time": "2022-04-06T08:24:33.666Z"
   },
   {
    "duration": 72,
    "start_time": "2022-04-06T08:24:43.388Z"
   },
   {
    "duration": 2081,
    "start_time": "2022-04-06T08:26:05.282Z"
   },
   {
    "duration": 54,
    "start_time": "2022-04-06T08:27:09.001Z"
   },
   {
    "duration": 63,
    "start_time": "2022-04-06T08:27:19.096Z"
   },
   {
    "duration": 62,
    "start_time": "2022-04-06T08:27:53.585Z"
   },
   {
    "duration": 478,
    "start_time": "2022-04-06T08:29:10.453Z"
   },
   {
    "duration": 467,
    "start_time": "2022-04-06T08:29:26.874Z"
   },
   {
    "duration": 376,
    "start_time": "2022-04-06T08:29:29.539Z"
   },
   {
    "duration": 543,
    "start_time": "2022-04-11T15:27:04.717Z"
   },
   {
    "duration": 45,
    "start_time": "2022-04-11T15:27:15.267Z"
   },
   {
    "duration": 71,
    "start_time": "2022-04-11T15:28:04.506Z"
   },
   {
    "duration": 64,
    "start_time": "2022-04-11T15:29:06.950Z"
   },
   {
    "duration": 61,
    "start_time": "2022-04-11T15:29:15.874Z"
   },
   {
    "duration": 75,
    "start_time": "2022-04-11T15:29:23.150Z"
   },
   {
    "duration": 10,
    "start_time": "2022-04-11T15:31:31.381Z"
   },
   {
    "duration": 5,
    "start_time": "2022-04-11T15:31:42.620Z"
   },
   {
    "duration": 5,
    "start_time": "2022-04-11T15:32:13.988Z"
   },
   {
    "duration": 4,
    "start_time": "2022-04-11T15:32:28.055Z"
   },
   {
    "duration": 4,
    "start_time": "2022-04-11T15:32:37.189Z"
   },
   {
    "duration": 6,
    "start_time": "2022-04-11T15:33:03.758Z"
   },
   {
    "duration": 6,
    "start_time": "2022-04-11T15:33:26.347Z"
   },
   {
    "duration": 5,
    "start_time": "2022-04-11T15:33:35.588Z"
   },
   {
    "duration": 5,
    "start_time": "2022-04-11T15:33:47.594Z"
   },
   {
    "duration": 6,
    "start_time": "2022-04-11T15:33:59.598Z"
   },
   {
    "duration": 5,
    "start_time": "2022-04-11T15:34:55.136Z"
   },
   {
    "duration": 7,
    "start_time": "2022-04-11T15:35:05.907Z"
   },
   {
    "duration": 8,
    "start_time": "2022-04-11T15:35:45.317Z"
   },
   {
    "duration": 6,
    "start_time": "2022-04-11T15:36:10.341Z"
   },
   {
    "duration": 278,
    "start_time": "2022-04-11T15:36:21.350Z"
   },
   {
    "duration": 5,
    "start_time": "2022-04-11T15:36:47.598Z"
   },
   {
    "duration": 6,
    "start_time": "2022-04-11T15:36:56.717Z"
   },
   {
    "duration": 4,
    "start_time": "2022-04-11T15:37:36.197Z"
   },
   {
    "duration": 4,
    "start_time": "2022-04-11T15:37:46.997Z"
   },
   {
    "duration": 15,
    "start_time": "2022-04-11T15:37:54.279Z"
   },
   {
    "duration": 27,
    "start_time": "2022-04-11T15:38:36.507Z"
   },
   {
    "duration": 6,
    "start_time": "2022-04-11T15:38:45.583Z"
   },
   {
    "duration": 14,
    "start_time": "2022-04-11T15:38:58.557Z"
   },
   {
    "duration": 41,
    "start_time": "2022-04-11T15:39:13.707Z"
   },
   {
    "duration": 9,
    "start_time": "2022-04-11T15:39:25.621Z"
   },
   {
    "duration": 9,
    "start_time": "2022-04-11T15:39:44.226Z"
   },
   {
    "duration": 10,
    "start_time": "2022-04-11T15:39:56.114Z"
   },
   {
    "duration": 11,
    "start_time": "2022-04-11T15:40:36.478Z"
   },
   {
    "duration": 12,
    "start_time": "2022-04-11T15:40:45.863Z"
   },
   {
    "duration": 15,
    "start_time": "2022-04-11T15:40:56.276Z"
   },
   {
    "duration": 27,
    "start_time": "2022-04-11T15:41:31.107Z"
   },
   {
    "duration": 8,
    "start_time": "2022-04-11T15:42:02.557Z"
   },
   {
    "duration": 5,
    "start_time": "2022-04-11T15:42:17.069Z"
   },
   {
    "duration": 5,
    "start_time": "2022-04-11T15:43:28.430Z"
   },
   {
    "duration": 5,
    "start_time": "2022-04-11T15:43:37.535Z"
   },
   {
    "duration": 6,
    "start_time": "2022-04-11T15:44:09.838Z"
   },
   {
    "duration": 5,
    "start_time": "2022-04-11T15:44:12.662Z"
   },
   {
    "duration": 5,
    "start_time": "2022-04-11T15:44:20.712Z"
   },
   {
    "duration": 30,
    "start_time": "2022-04-11T15:44:33.438Z"
   },
   {
    "duration": 6,
    "start_time": "2022-04-11T15:45:37.588Z"
   },
   {
    "duration": 26,
    "start_time": "2022-04-11T15:46:11.635Z"
   },
   {
    "duration": 5,
    "start_time": "2022-04-11T15:46:44.596Z"
   },
   {
    "duration": 29,
    "start_time": "2022-04-11T15:47:23.949Z"
   },
   {
    "duration": 5,
    "start_time": "2022-04-11T15:47:59.549Z"
   },
   {
    "duration": 76,
    "start_time": "2022-04-11T15:48:20.228Z"
   },
   {
    "duration": 68,
    "start_time": "2022-04-11T15:48:29.229Z"
   },
   {
    "duration": 28,
    "start_time": "2022-04-11T15:48:45.000Z"
   },
   {
    "duration": 29,
    "start_time": "2022-04-11T15:50:42.274Z"
   },
   {
    "duration": 42,
    "start_time": "2022-04-22T06:43:52.442Z"
   },
   {
    "duration": 6,
    "start_time": "2022-04-22T06:44:07.751Z"
   },
   {
    "duration": 418,
    "start_time": "2022-04-22T06:44:21.450Z"
   },
   {
    "duration": 67,
    "start_time": "2022-04-22T06:44:21.869Z"
   },
   {
    "duration": 0,
    "start_time": "2022-04-22T06:44:21.938Z"
   },
   {
    "duration": 0,
    "start_time": "2022-04-22T06:44:21.939Z"
   },
   {
    "duration": 0,
    "start_time": "2022-04-22T06:44:21.940Z"
   },
   {
    "duration": 0,
    "start_time": "2022-04-22T06:44:21.941Z"
   },
   {
    "duration": 0,
    "start_time": "2022-04-22T06:44:21.942Z"
   },
   {
    "duration": 0,
    "start_time": "2022-04-22T06:44:21.943Z"
   },
   {
    "duration": 0,
    "start_time": "2022-04-22T06:44:21.944Z"
   },
   {
    "duration": 0,
    "start_time": "2022-04-22T06:44:21.945Z"
   },
   {
    "duration": 0,
    "start_time": "2022-04-22T06:44:21.946Z"
   },
   {
    "duration": 0,
    "start_time": "2022-04-22T06:44:21.947Z"
   },
   {
    "duration": 0,
    "start_time": "2022-04-22T06:44:21.948Z"
   },
   {
    "duration": 0,
    "start_time": "2022-04-22T06:44:21.948Z"
   },
   {
    "duration": 0,
    "start_time": "2022-04-22T06:44:21.950Z"
   },
   {
    "duration": 0,
    "start_time": "2022-04-22T06:44:21.950Z"
   },
   {
    "duration": 0,
    "start_time": "2022-04-22T06:44:21.951Z"
   },
   {
    "duration": 0,
    "start_time": "2022-04-22T06:44:21.952Z"
   },
   {
    "duration": 0,
    "start_time": "2022-04-22T06:44:21.953Z"
   },
   {
    "duration": 0,
    "start_time": "2022-04-22T06:44:21.954Z"
   },
   {
    "duration": 0,
    "start_time": "2022-04-22T06:44:21.955Z"
   },
   {
    "duration": 0,
    "start_time": "2022-04-22T06:44:21.956Z"
   },
   {
    "duration": 0,
    "start_time": "2022-04-22T06:44:21.958Z"
   },
   {
    "duration": 0,
    "start_time": "2022-04-22T06:44:21.959Z"
   },
   {
    "duration": 0,
    "start_time": "2022-04-22T06:44:21.960Z"
   },
   {
    "duration": 0,
    "start_time": "2022-04-22T06:44:21.961Z"
   },
   {
    "duration": 0,
    "start_time": "2022-04-22T06:44:21.962Z"
   },
   {
    "duration": 0,
    "start_time": "2022-04-22T06:44:21.962Z"
   },
   {
    "duration": 0,
    "start_time": "2022-04-22T06:44:21.963Z"
   },
   {
    "duration": 0,
    "start_time": "2022-04-22T06:44:21.964Z"
   },
   {
    "duration": 0,
    "start_time": "2022-04-22T06:44:21.965Z"
   },
   {
    "duration": 0,
    "start_time": "2022-04-22T06:44:21.966Z"
   },
   {
    "duration": 0,
    "start_time": "2022-04-22T06:44:21.967Z"
   },
   {
    "duration": 0,
    "start_time": "2022-04-22T06:44:21.968Z"
   },
   {
    "duration": 0,
    "start_time": "2022-04-22T06:44:21.968Z"
   },
   {
    "duration": 0,
    "start_time": "2022-04-22T06:44:21.969Z"
   },
   {
    "duration": 0,
    "start_time": "2022-04-22T06:44:21.970Z"
   },
   {
    "duration": 0,
    "start_time": "2022-04-22T06:44:22.023Z"
   },
   {
    "duration": 0,
    "start_time": "2022-04-22T06:44:22.024Z"
   },
   {
    "duration": 0,
    "start_time": "2022-04-22T06:44:22.025Z"
   },
   {
    "duration": 0,
    "start_time": "2022-04-22T06:44:22.026Z"
   },
   {
    "duration": 0,
    "start_time": "2022-04-22T06:44:22.027Z"
   },
   {
    "duration": 24,
    "start_time": "2022-04-22T06:45:08.370Z"
   },
   {
    "duration": 19,
    "start_time": "2022-04-22T06:45:20.228Z"
   },
   {
    "duration": 8,
    "start_time": "2022-04-22T06:45:29.970Z"
   },
   {
    "duration": 5,
    "start_time": "2022-04-22T06:45:57.026Z"
   },
   {
    "duration": 6,
    "start_time": "2022-04-22T06:46:23.981Z"
   },
   {
    "duration": 6,
    "start_time": "2022-04-22T06:46:28.865Z"
   },
   {
    "duration": 6,
    "start_time": "2022-04-22T06:47:00.700Z"
   },
   {
    "duration": 6,
    "start_time": "2022-04-22T06:47:43.625Z"
   },
   {
    "duration": 6,
    "start_time": "2022-04-22T06:47:57.484Z"
   },
   {
    "duration": 7,
    "start_time": "2022-04-22T06:48:03.536Z"
   },
   {
    "duration": 5,
    "start_time": "2022-04-22T06:48:39.848Z"
   },
   {
    "duration": 4,
    "start_time": "2022-04-22T06:48:43.817Z"
   },
   {
    "duration": 5,
    "start_time": "2022-04-22T06:48:54.132Z"
   },
   {
    "duration": 5,
    "start_time": "2022-04-22T06:49:13.304Z"
   },
   {
    "duration": 5,
    "start_time": "2022-04-22T06:49:14.659Z"
   },
   {
    "duration": 4,
    "start_time": "2022-04-22T06:49:20.992Z"
   },
   {
    "duration": 4,
    "start_time": "2022-04-22T06:49:24.184Z"
   },
   {
    "duration": 6,
    "start_time": "2022-04-22T06:49:57.993Z"
   },
   {
    "duration": 6,
    "start_time": "2022-04-22T06:50:03.984Z"
   },
   {
    "duration": 4,
    "start_time": "2022-04-22T06:50:33.241Z"
   },
   {
    "duration": 4,
    "start_time": "2022-04-22T06:50:35.948Z"
   },
   {
    "duration": 6,
    "start_time": "2022-04-22T06:51:40.124Z"
   },
   {
    "duration": 5,
    "start_time": "2022-04-22T06:52:24.409Z"
   },
   {
    "duration": 5,
    "start_time": "2022-04-22T06:52:44.363Z"
   },
   {
    "duration": 5,
    "start_time": "2022-04-22T06:52:53.520Z"
   },
   {
    "duration": 180,
    "start_time": "2022-04-22T06:52:59.705Z"
   },
   {
    "duration": 5,
    "start_time": "2022-04-22T06:53:06.991Z"
   },
   {
    "duration": 3,
    "start_time": "2022-04-22T06:53:23.912Z"
   },
   {
    "duration": 5,
    "start_time": "2022-04-22T06:59:20.319Z"
   },
   {
    "duration": 145,
    "start_time": "2022-04-22T07:01:58.070Z"
   },
   {
    "duration": 147,
    "start_time": "2022-04-22T07:02:05.953Z"
   },
   {
    "duration": 5,
    "start_time": "2022-04-22T07:02:12.046Z"
   },
   {
    "duration": 4,
    "start_time": "2022-04-22T07:02:19.918Z"
   },
   {
    "duration": 19,
    "start_time": "2022-04-22T07:03:06.060Z"
   },
   {
    "duration": 49,
    "start_time": "2022-04-22T07:11:05.188Z"
   },
   {
    "duration": 15,
    "start_time": "2022-04-22T07:11:54.077Z"
   },
   {
    "duration": 12,
    "start_time": "2022-04-22T07:12:16.973Z"
   },
   {
    "duration": 5,
    "start_time": "2022-04-22T07:14:48.959Z"
   },
   {
    "duration": 6,
    "start_time": "2022-04-22T07:15:01.087Z"
   },
   {
    "duration": 10,
    "start_time": "2022-04-22T07:15:22.425Z"
   },
   {
    "duration": 6,
    "start_time": "2022-04-22T07:15:28.083Z"
   },
   {
    "duration": 7,
    "start_time": "2022-04-22T07:15:40.516Z"
   },
   {
    "duration": 479,
    "start_time": "2022-04-22T07:15:48.906Z"
   },
   {
    "duration": 10,
    "start_time": "2022-04-22T07:15:49.387Z"
   },
   {
    "duration": 5,
    "start_time": "2022-04-22T07:15:49.399Z"
   },
   {
    "duration": 5,
    "start_time": "2022-04-22T07:15:49.406Z"
   },
   {
    "duration": 12,
    "start_time": "2022-04-22T07:15:49.413Z"
   },
   {
    "duration": 7,
    "start_time": "2022-04-22T07:15:49.426Z"
   },
   {
    "duration": 7,
    "start_time": "2022-04-22T07:15:49.435Z"
   },
   {
    "duration": 5,
    "start_time": "2022-04-22T07:15:49.443Z"
   },
   {
    "duration": 5,
    "start_time": "2022-04-22T07:15:49.450Z"
   },
   {
    "duration": 5,
    "start_time": "2022-04-22T07:15:49.458Z"
   },
   {
    "duration": 7,
    "start_time": "2022-04-22T07:15:49.465Z"
   },
   {
    "duration": 6,
    "start_time": "2022-04-22T07:15:49.474Z"
   },
   {
    "duration": 7,
    "start_time": "2022-04-22T07:15:49.481Z"
   },
   {
    "duration": 4,
    "start_time": "2022-04-22T07:15:49.524Z"
   },
   {
    "duration": 7,
    "start_time": "2022-04-22T07:15:49.530Z"
   },
   {
    "duration": 228,
    "start_time": "2022-04-22T07:15:49.539Z"
   },
   {
    "duration": 5,
    "start_time": "2022-04-22T07:15:49.769Z"
   },
   {
    "duration": 7,
    "start_time": "2022-04-22T07:15:49.775Z"
   },
   {
    "duration": 9,
    "start_time": "2022-04-22T07:15:49.783Z"
   },
   {
    "duration": 9,
    "start_time": "2022-04-22T07:15:49.793Z"
   },
   {
    "duration": 24,
    "start_time": "2022-04-22T07:15:49.803Z"
   },
   {
    "duration": 4,
    "start_time": "2022-04-22T07:15:49.828Z"
   },
   {
    "duration": 7,
    "start_time": "2022-04-22T07:15:49.833Z"
   },
   {
    "duration": 17,
    "start_time": "2022-04-22T07:15:49.842Z"
   },
   {
    "duration": 19,
    "start_time": "2022-04-22T07:15:49.861Z"
   },
   {
    "duration": 8,
    "start_time": "2022-04-22T07:15:49.882Z"
   },
   {
    "duration": 42,
    "start_time": "2022-04-22T07:15:49.892Z"
   },
   {
    "duration": 29,
    "start_time": "2022-04-22T07:15:49.937Z"
   },
   {
    "duration": 9,
    "start_time": "2022-04-22T07:15:49.968Z"
   },
   {
    "duration": 10,
    "start_time": "2022-04-22T07:15:49.979Z"
   },
   {
    "duration": 37,
    "start_time": "2022-04-22T07:15:49.991Z"
   },
   {
    "duration": 17,
    "start_time": "2022-04-22T07:15:50.030Z"
   },
   {
    "duration": 13,
    "start_time": "2022-04-22T07:15:50.049Z"
   },
   {
    "duration": 14,
    "start_time": "2022-04-22T07:15:50.064Z"
   },
   {
    "duration": 50,
    "start_time": "2022-04-22T07:15:50.079Z"
   },
   {
    "duration": 8,
    "start_time": "2022-04-22T07:15:50.130Z"
   },
   {
    "duration": 6,
    "start_time": "2022-04-22T07:15:50.140Z"
   },
   {
    "duration": 23,
    "start_time": "2022-04-22T07:15:50.147Z"
   },
   {
    "duration": 5,
    "start_time": "2022-04-22T07:15:50.172Z"
   },
   {
    "duration": 55,
    "start_time": "2022-04-22T07:15:50.178Z"
   },
   {
    "duration": 4,
    "start_time": "2022-04-22T07:15:50.235Z"
   },
   {
    "duration": 29,
    "start_time": "2022-04-22T07:15:50.241Z"
   },
   {
    "duration": 5,
    "start_time": "2022-04-22T07:15:50.271Z"
   },
   {
    "duration": 56,
    "start_time": "2022-04-22T07:15:50.277Z"
   },
   {
    "duration": 29,
    "start_time": "2022-04-22T07:15:50.334Z"
   },
   {
    "duration": 5,
    "start_time": "2022-04-22T07:17:05.212Z"
   },
   {
    "duration": 6,
    "start_time": "2022-04-22T07:17:25.474Z"
   },
   {
    "duration": 5,
    "start_time": "2022-04-22T07:19:03.458Z"
   },
   {
    "duration": 6,
    "start_time": "2022-04-22T07:19:14.950Z"
   },
   {
    "duration": 164,
    "start_time": "2022-04-22T07:20:59.287Z"
   },
   {
    "duration": 2533,
    "start_time": "2022-04-22T07:21:16.257Z"
   },
   {
    "duration": 2372,
    "start_time": "2022-04-22T07:21:45.571Z"
   },
   {
    "duration": 2393,
    "start_time": "2022-04-22T07:21:49.652Z"
   },
   {
    "duration": 2406,
    "start_time": "2022-04-22T07:22:30.179Z"
   },
   {
    "duration": 2418,
    "start_time": "2022-04-22T07:22:45.146Z"
   },
   {
    "duration": 8,
    "start_time": "2022-04-22T07:22:58.740Z"
   },
   {
    "duration": 5,
    "start_time": "2022-04-22T07:23:02.611Z"
   },
   {
    "duration": 6,
    "start_time": "2022-04-22T07:23:10.497Z"
   },
   {
    "duration": 9,
    "start_time": "2022-04-22T07:23:21.345Z"
   },
   {
    "duration": 64,
    "start_time": "2022-04-22T07:24:08.973Z"
   },
   {
    "duration": 99,
    "start_time": "2022-04-22T07:24:21.627Z"
   },
   {
    "duration": 16,
    "start_time": "2022-04-22T07:28:17.937Z"
   },
   {
    "duration": 9,
    "start_time": "2022-04-22T07:28:23.115Z"
   },
   {
    "duration": 12,
    "start_time": "2022-04-22T07:28:26.607Z"
   },
   {
    "duration": 27,
    "start_time": "2022-04-22T07:28:31.488Z"
   },
   {
    "duration": 8,
    "start_time": "2022-04-22T07:28:40.162Z"
   },
   {
    "duration": 7,
    "start_time": "2022-04-22T07:31:19.337Z"
   },
   {
    "duration": 12,
    "start_time": "2022-04-22T07:31:20.486Z"
   },
   {
    "duration": 31,
    "start_time": "2022-04-22T07:31:21.210Z"
   },
   {
    "duration": 7,
    "start_time": "2022-04-22T07:31:22.048Z"
   },
   {
    "duration": 6,
    "start_time": "2022-04-22T07:31:25.496Z"
   },
   {
    "duration": 7,
    "start_time": "2022-04-22T07:31:26.408Z"
   },
   {
    "duration": 17,
    "start_time": "2022-04-22T07:31:36.280Z"
   },
   {
    "duration": 8,
    "start_time": "2022-04-22T07:32:28.096Z"
   },
   {
    "duration": 16,
    "start_time": "2022-04-22T07:32:40.088Z"
   },
   {
    "duration": 23,
    "start_time": "2022-04-22T07:32:46.911Z"
   },
   {
    "duration": 22,
    "start_time": "2022-04-22T07:33:07.036Z"
   },
   {
    "duration": 463,
    "start_time": "2022-04-22T07:33:12.284Z"
   },
   {
    "duration": 6,
    "start_time": "2022-04-22T07:33:12.749Z"
   },
   {
    "duration": 7,
    "start_time": "2022-04-22T07:33:12.757Z"
   },
   {
    "duration": 5,
    "start_time": "2022-04-22T07:33:12.766Z"
   },
   {
    "duration": 5,
    "start_time": "2022-04-22T07:33:12.773Z"
   },
   {
    "duration": 6,
    "start_time": "2022-04-22T07:33:12.780Z"
   },
   {
    "duration": 49,
    "start_time": "2022-04-22T07:33:12.787Z"
   },
   {
    "duration": 10,
    "start_time": "2022-04-22T07:33:12.838Z"
   },
   {
    "duration": 6,
    "start_time": "2022-04-22T07:33:12.850Z"
   },
   {
    "duration": 9,
    "start_time": "2022-04-22T07:33:12.859Z"
   },
   {
    "duration": 8,
    "start_time": "2022-04-22T07:33:12.869Z"
   },
   {
    "duration": 6,
    "start_time": "2022-04-22T07:33:12.878Z"
   },
   {
    "duration": 6,
    "start_time": "2022-04-22T07:33:12.885Z"
   },
   {
    "duration": 34,
    "start_time": "2022-04-22T07:33:12.892Z"
   },
   {
    "duration": 5,
    "start_time": "2022-04-22T07:33:12.931Z"
   },
   {
    "duration": 204,
    "start_time": "2022-04-22T07:33:12.937Z"
   },
   {
    "duration": 6,
    "start_time": "2022-04-22T07:33:13.142Z"
   },
   {
    "duration": 4,
    "start_time": "2022-04-22T07:33:13.149Z"
   },
   {
    "duration": 9,
    "start_time": "2022-04-22T07:33:13.154Z"
   },
   {
    "duration": 9,
    "start_time": "2022-04-22T07:33:13.165Z"
   },
   {
    "duration": 5,
    "start_time": "2022-04-22T07:33:13.175Z"
   },
   {
    "duration": 5,
    "start_time": "2022-04-22T07:33:13.182Z"
   },
   {
    "duration": 37,
    "start_time": "2022-04-22T07:33:13.189Z"
   },
   {
    "duration": 11,
    "start_time": "2022-04-22T07:33:13.229Z"
   },
   {
    "duration": 11,
    "start_time": "2022-04-22T07:33:13.241Z"
   },
   {
    "duration": 4,
    "start_time": "2022-04-22T07:33:13.253Z"
   },
   {
    "duration": 4,
    "start_time": "2022-04-22T07:33:13.259Z"
   },
   {
    "duration": 21,
    "start_time": "2022-04-22T07:33:13.267Z"
   },
   {
    "duration": 48,
    "start_time": "2022-04-22T07:33:13.290Z"
   },
   {
    "duration": 7,
    "start_time": "2022-04-22T07:33:13.342Z"
   },
   {
    "duration": 16,
    "start_time": "2022-04-22T07:33:13.351Z"
   },
   {
    "duration": 29,
    "start_time": "2022-04-22T07:33:13.369Z"
   },
   {
    "duration": 6,
    "start_time": "2022-04-22T07:33:13.400Z"
   },
   {
    "duration": 9,
    "start_time": "2022-04-22T07:33:13.426Z"
   },
   {
    "duration": 12,
    "start_time": "2022-04-22T07:33:13.437Z"
   },
   {
    "duration": 16,
    "start_time": "2022-04-22T07:33:13.450Z"
   },
   {
    "duration": 17,
    "start_time": "2022-04-22T07:33:13.467Z"
   },
   {
    "duration": 11,
    "start_time": "2022-04-22T07:33:13.485Z"
   },
   {
    "duration": 37,
    "start_time": "2022-04-22T07:33:13.497Z"
   },
   {
    "duration": 13,
    "start_time": "2022-04-22T07:33:13.536Z"
   },
   {
    "duration": 22,
    "start_time": "2022-04-22T07:33:13.550Z"
   },
   {
    "duration": 7,
    "start_time": "2022-04-22T07:33:13.573Z"
   },
   {
    "duration": 6,
    "start_time": "2022-04-22T07:33:13.582Z"
   },
   {
    "duration": 45,
    "start_time": "2022-04-22T07:33:13.589Z"
   },
   {
    "duration": 19,
    "start_time": "2022-04-22T07:33:13.635Z"
   },
   {
    "duration": 25,
    "start_time": "2022-04-22T07:33:13.655Z"
   },
   {
    "duration": 6,
    "start_time": "2022-04-22T07:33:13.682Z"
   },
   {
    "duration": 53,
    "start_time": "2022-04-22T07:33:13.689Z"
   },
   {
    "duration": 5,
    "start_time": "2022-04-22T07:33:13.744Z"
   },
   {
    "duration": 33,
    "start_time": "2022-04-22T07:33:13.751Z"
   },
   {
    "duration": 25,
    "start_time": "2022-04-22T07:33:13.786Z"
   },
   {
    "duration": 2424,
    "start_time": "2022-04-22T07:33:53.175Z"
   },
   {
    "duration": 2406,
    "start_time": "2022-04-22T07:34:02.895Z"
   },
   {
    "duration": 2382,
    "start_time": "2022-04-22T07:34:23.066Z"
   },
   {
    "duration": 445,
    "start_time": "2022-04-22T07:35:20.476Z"
   },
   {
    "duration": 9,
    "start_time": "2022-04-22T07:35:20.927Z"
   },
   {
    "duration": 29,
    "start_time": "2022-04-22T07:35:20.938Z"
   },
   {
    "duration": 14,
    "start_time": "2022-04-22T07:35:20.968Z"
   },
   {
    "duration": 9,
    "start_time": "2022-04-22T07:35:20.984Z"
   },
   {
    "duration": 13,
    "start_time": "2022-04-22T07:35:20.995Z"
   },
   {
    "duration": 60,
    "start_time": "2022-04-22T07:35:21.010Z"
   },
   {
    "duration": 18,
    "start_time": "2022-04-22T07:35:21.072Z"
   },
   {
    "duration": 27,
    "start_time": "2022-04-22T07:35:21.092Z"
   },
   {
    "duration": 25,
    "start_time": "2022-04-22T07:35:21.121Z"
   },
   {
    "duration": 22,
    "start_time": "2022-04-22T07:35:21.147Z"
   },
   {
    "duration": 32,
    "start_time": "2022-04-22T07:35:21.171Z"
   },
   {
    "duration": 8,
    "start_time": "2022-04-22T07:35:21.204Z"
   },
   {
    "duration": 22,
    "start_time": "2022-04-22T07:35:21.215Z"
   },
   {
    "duration": 29,
    "start_time": "2022-04-22T07:35:21.239Z"
   },
   {
    "duration": 205,
    "start_time": "2022-04-22T07:35:21.270Z"
   },
   {
    "duration": 4,
    "start_time": "2022-04-22T07:35:21.477Z"
   },
   {
    "duration": 26,
    "start_time": "2022-04-22T07:35:21.482Z"
   },
   {
    "duration": 40,
    "start_time": "2022-04-22T07:35:21.509Z"
   },
   {
    "duration": 19,
    "start_time": "2022-04-22T07:35:21.550Z"
   },
   {
    "duration": 15,
    "start_time": "2022-04-22T07:35:21.571Z"
   },
   {
    "duration": 24,
    "start_time": "2022-04-22T07:35:21.587Z"
   },
   {
    "duration": 32,
    "start_time": "2022-04-22T07:35:21.612Z"
   },
   {
    "duration": 12,
    "start_time": "2022-04-22T07:35:21.645Z"
   },
   {
    "duration": 11,
    "start_time": "2022-04-22T07:35:21.659Z"
   },
   {
    "duration": 20,
    "start_time": "2022-04-22T07:35:21.671Z"
   },
   {
    "duration": 18,
    "start_time": "2022-04-22T07:35:21.692Z"
   },
   {
    "duration": 17,
    "start_time": "2022-04-22T07:35:21.712Z"
   },
   {
    "duration": 21,
    "start_time": "2022-04-22T07:35:21.731Z"
   },
   {
    "duration": 5,
    "start_time": "2022-04-22T07:35:21.754Z"
   },
   {
    "duration": 31,
    "start_time": "2022-04-22T07:35:21.760Z"
   },
   {
    "duration": 9,
    "start_time": "2022-04-22T07:35:21.792Z"
   },
   {
    "duration": 14,
    "start_time": "2022-04-22T07:35:21.803Z"
   },
   {
    "duration": 27,
    "start_time": "2022-04-22T07:35:21.818Z"
   },
   {
    "duration": 28,
    "start_time": "2022-04-22T07:35:21.846Z"
   },
   {
    "duration": 20,
    "start_time": "2022-04-22T07:35:21.876Z"
   },
   {
    "duration": 11,
    "start_time": "2022-04-22T07:35:21.897Z"
   },
   {
    "duration": 19,
    "start_time": "2022-04-22T07:35:21.909Z"
   },
   {
    "duration": 21,
    "start_time": "2022-04-22T07:35:21.929Z"
   },
   {
    "duration": 25,
    "start_time": "2022-04-22T07:35:21.951Z"
   },
   {
    "duration": 6,
    "start_time": "2022-04-22T07:35:21.979Z"
   },
   {
    "duration": 10,
    "start_time": "2022-04-22T07:35:21.986Z"
   },
   {
    "duration": 19,
    "start_time": "2022-04-22T07:35:21.998Z"
   },
   {
    "duration": 9,
    "start_time": "2022-04-22T07:35:22.027Z"
   },
   {
    "duration": 32,
    "start_time": "2022-04-22T07:35:22.038Z"
   },
   {
    "duration": 4,
    "start_time": "2022-04-22T07:35:22.072Z"
   },
   {
    "duration": 34,
    "start_time": "2022-04-22T07:35:22.077Z"
   },
   {
    "duration": 4,
    "start_time": "2022-04-22T07:35:22.112Z"
   },
   {
    "duration": 31,
    "start_time": "2022-04-22T07:35:22.129Z"
   },
   {
    "duration": 24,
    "start_time": "2022-04-22T07:35:22.162Z"
   },
   {
    "duration": 15,
    "start_time": "2022-04-22T07:36:13.345Z"
   },
   {
    "duration": 2605,
    "start_time": "2022-04-22T07:36:14.307Z"
   },
   {
    "duration": 0,
    "start_time": "2022-04-22T07:36:16.914Z"
   },
   {
    "duration": 2417,
    "start_time": "2022-04-22T07:36:33.572Z"
   },
   {
    "duration": 6,
    "start_time": "2022-04-22T07:37:05.774Z"
   },
   {
    "duration": 2403,
    "start_time": "2022-04-22T07:38:13.033Z"
   },
   {
    "duration": 21,
    "start_time": "2022-04-22T07:39:22.483Z"
   },
   {
    "duration": 5,
    "start_time": "2022-04-22T07:41:21.416Z"
   },
   {
    "duration": 18,
    "start_time": "2022-04-22T07:42:12.636Z"
   },
   {
    "duration": 6,
    "start_time": "2022-04-22T07:42:19.299Z"
   },
   {
    "duration": 8,
    "start_time": "2022-04-22T07:42:22.528Z"
   },
   {
    "duration": 16,
    "start_time": "2022-04-22T07:42:29.175Z"
   },
   {
    "duration": 2241,
    "start_time": "2022-04-22T07:46:34.578Z"
   },
   {
    "duration": 72,
    "start_time": "2022-04-22T07:46:49.314Z"
   },
   {
    "duration": 7,
    "start_time": "2022-04-22T07:47:36.848Z"
   },
   {
    "duration": 12,
    "start_time": "2022-04-22T07:47:42.663Z"
   },
   {
    "duration": 6,
    "start_time": "2022-04-22T07:47:46.079Z"
   },
   {
    "duration": 10,
    "start_time": "2022-04-22T07:47:54.582Z"
   },
   {
    "duration": 7,
    "start_time": "2022-04-22T07:47:58.879Z"
   },
   {
    "duration": 13,
    "start_time": "2022-04-22T07:48:00.139Z"
   },
   {
    "duration": 7,
    "start_time": "2022-04-22T07:48:04.214Z"
   },
   {
    "duration": 6,
    "start_time": "2022-04-22T07:48:06.791Z"
   },
   {
    "duration": 6,
    "start_time": "2022-04-22T07:48:07.479Z"
   },
   {
    "duration": 19,
    "start_time": "2022-04-22T07:49:02.974Z"
   },
   {
    "duration": 18,
    "start_time": "2022-04-22T07:49:10.513Z"
   },
   {
    "duration": 22,
    "start_time": "2022-04-22T07:49:32.839Z"
   },
   {
    "duration": 16,
    "start_time": "2022-04-22T07:49:33.351Z"
   },
   {
    "duration": 466,
    "start_time": "2022-04-22T07:51:58.175Z"
   },
   {
    "duration": 8,
    "start_time": "2022-04-22T07:51:58.643Z"
   },
   {
    "duration": 11,
    "start_time": "2022-04-22T07:51:58.655Z"
   },
   {
    "duration": 5,
    "start_time": "2022-04-22T07:51:58.669Z"
   },
   {
    "duration": 8,
    "start_time": "2022-04-22T07:51:58.675Z"
   },
   {
    "duration": 6,
    "start_time": "2022-04-22T07:51:58.685Z"
   },
   {
    "duration": 35,
    "start_time": "2022-04-22T07:51:58.692Z"
   },
   {
    "duration": 8,
    "start_time": "2022-04-22T07:51:58.729Z"
   },
   {
    "duration": 5,
    "start_time": "2022-04-22T07:51:58.739Z"
   },
   {
    "duration": 8,
    "start_time": "2022-04-22T07:51:58.746Z"
   },
   {
    "duration": 11,
    "start_time": "2022-04-22T07:51:58.756Z"
   },
   {
    "duration": 6,
    "start_time": "2022-04-22T07:51:58.769Z"
   },
   {
    "duration": 9,
    "start_time": "2022-04-22T07:51:58.779Z"
   },
   {
    "duration": 36,
    "start_time": "2022-04-22T07:51:58.789Z"
   },
   {
    "duration": 8,
    "start_time": "2022-04-22T07:51:58.827Z"
   },
   {
    "duration": 201,
    "start_time": "2022-04-22T07:51:58.836Z"
   },
   {
    "duration": 5,
    "start_time": "2022-04-22T07:51:59.039Z"
   },
   {
    "duration": 7,
    "start_time": "2022-04-22T07:51:59.045Z"
   },
   {
    "duration": 10,
    "start_time": "2022-04-22T07:51:59.054Z"
   },
   {
    "duration": 26,
    "start_time": "2022-04-22T07:51:59.066Z"
   },
   {
    "duration": 31,
    "start_time": "2022-04-22T07:51:59.093Z"
   },
   {
    "duration": 6,
    "start_time": "2022-04-22T07:51:59.125Z"
   },
   {
    "duration": 12,
    "start_time": "2022-04-22T07:51:59.133Z"
   },
   {
    "duration": 21,
    "start_time": "2022-04-22T07:51:59.146Z"
   },
   {
    "duration": 6,
    "start_time": "2022-04-22T07:51:59.169Z"
   },
   {
    "duration": 11,
    "start_time": "2022-04-22T07:51:59.176Z"
   },
   {
    "duration": 4,
    "start_time": "2022-04-22T07:51:59.188Z"
   },
   {
    "duration": 4,
    "start_time": "2022-04-22T07:51:59.224Z"
   },
   {
    "duration": 16,
    "start_time": "2022-04-22T07:51:59.230Z"
   },
   {
    "duration": 17,
    "start_time": "2022-04-22T07:51:59.248Z"
   },
   {
    "duration": 7,
    "start_time": "2022-04-22T07:51:59.267Z"
   },
   {
    "duration": 16,
    "start_time": "2022-04-22T07:51:59.276Z"
   },
   {
    "duration": 8,
    "start_time": "2022-04-22T07:51:59.323Z"
   },
   {
    "duration": 15,
    "start_time": "2022-04-22T07:51:59.333Z"
   },
   {
    "duration": 9,
    "start_time": "2022-04-22T07:51:59.349Z"
   },
   {
    "duration": 18,
    "start_time": "2022-04-22T07:51:59.360Z"
   },
   {
    "duration": 17,
    "start_time": "2022-04-22T07:51:59.380Z"
   },
   {
    "duration": 39,
    "start_time": "2022-04-22T07:51:59.399Z"
   },
   {
    "duration": 12,
    "start_time": "2022-04-22T07:51:59.439Z"
   },
   {
    "duration": 11,
    "start_time": "2022-04-22T07:51:59.455Z"
   },
   {
    "duration": 13,
    "start_time": "2022-04-22T07:51:59.468Z"
   },
   {
    "duration": 54,
    "start_time": "2022-04-22T07:51:59.483Z"
   },
   {
    "duration": 7,
    "start_time": "2022-04-22T07:51:59.538Z"
   },
   {
    "duration": 11,
    "start_time": "2022-04-22T07:51:59.546Z"
   },
   {
    "duration": 23,
    "start_time": "2022-04-22T07:51:59.558Z"
   },
   {
    "duration": 6,
    "start_time": "2022-04-22T07:51:59.583Z"
   },
   {
    "duration": 42,
    "start_time": "2022-04-22T07:51:59.591Z"
   },
   {
    "duration": 4,
    "start_time": "2022-04-22T07:51:59.635Z"
   },
   {
    "duration": 28,
    "start_time": "2022-04-22T07:51:59.641Z"
   },
   {
    "duration": 5,
    "start_time": "2022-04-22T07:51:59.671Z"
   },
   {
    "duration": 70,
    "start_time": "2022-04-22T07:51:59.678Z"
   },
   {
    "duration": 42,
    "start_time": "2022-04-22T07:51:59.750Z"
   },
   {
    "duration": 112,
    "start_time": "2022-04-22T07:52:09.062Z"
   },
   {
    "duration": 9,
    "start_time": "2022-04-22T07:52:15.052Z"
   },
   {
    "duration": 9,
    "start_time": "2022-04-22T07:52:15.596Z"
   },
   {
    "duration": 7,
    "start_time": "2022-04-22T07:52:21.364Z"
   },
   {
    "duration": 7,
    "start_time": "2022-04-22T07:52:22.292Z"
   },
   {
    "duration": 6,
    "start_time": "2022-04-22T07:52:24.444Z"
   },
   {
    "duration": 5,
    "start_time": "2022-04-22T07:52:26.412Z"
   },
   {
    "duration": 5,
    "start_time": "2022-04-22T07:52:27.580Z"
   },
   {
    "duration": 5,
    "start_time": "2022-04-22T07:52:28.333Z"
   },
   {
    "duration": 4,
    "start_time": "2022-04-22T07:52:29.048Z"
   },
   {
    "duration": 6,
    "start_time": "2022-04-22T07:52:30.070Z"
   },
   {
    "duration": 9,
    "start_time": "2022-04-22T07:52:32.085Z"
   },
   {
    "duration": 8,
    "start_time": "2022-04-22T07:52:33.757Z"
   },
   {
    "duration": 6,
    "start_time": "2022-04-22T07:52:40.852Z"
   },
   {
    "duration": 6,
    "start_time": "2022-04-22T07:52:41.876Z"
   },
   {
    "duration": 191,
    "start_time": "2022-04-22T07:52:42.575Z"
   },
   {
    "duration": 6,
    "start_time": "2022-04-22T07:52:45.484Z"
   },
   {
    "duration": 4,
    "start_time": "2022-04-22T07:52:45.996Z"
   },
   {
    "duration": 6,
    "start_time": "2022-04-22T07:52:46.620Z"
   },
   {
    "duration": 24,
    "start_time": "2022-04-22T07:52:48.073Z"
   },
   {
    "duration": 6,
    "start_time": "2022-04-22T07:52:49.399Z"
   },
   {
    "duration": 6,
    "start_time": "2022-04-22T07:52:50.277Z"
   },
   {
    "duration": 6,
    "start_time": "2022-04-22T07:52:53.347Z"
   },
   {
    "duration": 19,
    "start_time": "2022-04-22T07:52:54.100Z"
   },
   {
    "duration": 6,
    "start_time": "2022-04-22T07:52:55.219Z"
   },
   {
    "duration": 8,
    "start_time": "2022-04-22T07:52:56.243Z"
   },
   {
    "duration": 4,
    "start_time": "2022-04-22T07:53:06.757Z"
   },
   {
    "duration": 4,
    "start_time": "2022-04-22T07:53:07.332Z"
   },
   {
    "duration": 14,
    "start_time": "2022-04-22T07:53:07.876Z"
   },
   {
    "duration": 16,
    "start_time": "2022-04-22T07:53:10.523Z"
   },
   {
    "duration": 6,
    "start_time": "2022-04-22T07:53:14.326Z"
   },
   {
    "duration": 13,
    "start_time": "2022-04-22T07:53:18.452Z"
   },
   {
    "duration": 7,
    "start_time": "2022-04-22T07:53:59.982Z"
   },
   {
    "duration": 11,
    "start_time": "2022-04-22T07:54:09.484Z"
   },
   {
    "duration": 7,
    "start_time": "2022-04-22T07:54:22.821Z"
   },
   {
    "duration": 7,
    "start_time": "2022-04-22T07:54:31.396Z"
   },
   {
    "duration": 9,
    "start_time": "2022-04-22T07:54:38.156Z"
   },
   {
    "duration": 6,
    "start_time": "2022-04-22T07:54:47.076Z"
   },
   {
    "duration": 7,
    "start_time": "2022-04-22T07:54:53.068Z"
   },
   {
    "duration": 7,
    "start_time": "2022-04-22T07:55:09.125Z"
   },
   {
    "duration": 7,
    "start_time": "2022-04-22T07:55:13.213Z"
   },
   {
    "duration": 18,
    "start_time": "2022-04-22T07:55:14.196Z"
   },
   {
    "duration": 18,
    "start_time": "2022-04-22T07:55:16.051Z"
   },
   {
    "duration": 17,
    "start_time": "2022-04-22T07:55:16.750Z"
   },
   {
    "duration": 12,
    "start_time": "2022-04-22T07:58:43.380Z"
   },
   {
    "duration": 11,
    "start_time": "2022-04-22T07:58:45.355Z"
   },
   {
    "duration": 13,
    "start_time": "2022-04-22T07:59:07.780Z"
   },
   {
    "duration": 35,
    "start_time": "2022-04-22T07:59:12.046Z"
   },
   {
    "duration": 8,
    "start_time": "2022-04-22T07:59:16.212Z"
   },
   {
    "duration": 5,
    "start_time": "2022-04-22T07:59:20.273Z"
   },
   {
    "duration": 28,
    "start_time": "2022-04-22T07:59:20.827Z"
   },
   {
    "duration": 20,
    "start_time": "2022-04-22T07:59:59.627Z"
   },
   {
    "duration": 17,
    "start_time": "2022-04-22T08:00:25.651Z"
   },
   {
    "duration": 24,
    "start_time": "2022-04-22T08:00:36.051Z"
   },
   {
    "duration": 24,
    "start_time": "2022-04-22T08:00:40.790Z"
   },
   {
    "duration": 7,
    "start_time": "2022-04-22T08:01:03.642Z"
   },
   {
    "duration": 34,
    "start_time": "2022-04-22T08:01:05.496Z"
   },
   {
    "duration": 68,
    "start_time": "2022-04-22T08:01:53.236Z"
   },
   {
    "duration": 2670,
    "start_time": "2022-04-22T08:02:07.906Z"
   },
   {
    "duration": 26,
    "start_time": "2022-04-22T08:02:17.523Z"
   },
   {
    "duration": 23,
    "start_time": "2022-04-22T08:02:57.866Z"
   },
   {
    "duration": 5,
    "start_time": "2022-04-22T08:05:10.261Z"
   },
   {
    "duration": 28,
    "start_time": "2022-04-22T08:05:11.562Z"
   },
   {
    "duration": 5,
    "start_time": "2022-04-22T08:05:25.923Z"
   },
   {
    "duration": 29,
    "start_time": "2022-04-22T08:05:27.289Z"
   },
   {
    "duration": 24,
    "start_time": "2022-04-22T08:05:33.273Z"
   },
   {
    "duration": 68,
    "start_time": "2022-04-22T08:16:05.233Z"
   },
   {
    "duration": 467,
    "start_time": "2022-04-22T09:05:36.104Z"
   },
   {
    "duration": 6,
    "start_time": "2022-04-22T09:05:36.573Z"
   },
   {
    "duration": 9,
    "start_time": "2022-04-22T09:05:36.580Z"
   },
   {
    "duration": 5,
    "start_time": "2022-04-22T09:05:36.591Z"
   },
   {
    "duration": 7,
    "start_time": "2022-04-22T09:05:36.597Z"
   },
   {
    "duration": 19,
    "start_time": "2022-04-22T09:05:36.605Z"
   },
   {
    "duration": 7,
    "start_time": "2022-04-22T09:05:36.626Z"
   },
   {
    "duration": 5,
    "start_time": "2022-04-22T09:05:36.634Z"
   },
   {
    "duration": 5,
    "start_time": "2022-04-22T09:05:36.641Z"
   },
   {
    "duration": 5,
    "start_time": "2022-04-22T09:05:36.649Z"
   },
   {
    "duration": 7,
    "start_time": "2022-04-22T09:05:36.655Z"
   },
   {
    "duration": 6,
    "start_time": "2022-04-22T09:05:36.663Z"
   },
   {
    "duration": 8,
    "start_time": "2022-04-22T09:05:36.670Z"
   },
   {
    "duration": 43,
    "start_time": "2022-04-22T09:05:36.680Z"
   },
   {
    "duration": 6,
    "start_time": "2022-04-22T09:05:36.725Z"
   },
   {
    "duration": 197,
    "start_time": "2022-04-22T09:05:36.733Z"
   },
   {
    "duration": 6,
    "start_time": "2022-04-22T09:05:36.932Z"
   },
   {
    "duration": 5,
    "start_time": "2022-04-22T09:05:36.939Z"
   },
   {
    "duration": 6,
    "start_time": "2022-04-22T09:05:36.946Z"
   },
   {
    "duration": 25,
    "start_time": "2022-04-22T09:05:36.954Z"
   },
   {
    "duration": 5,
    "start_time": "2022-04-22T09:05:36.980Z"
   },
   {
    "duration": 7,
    "start_time": "2022-04-22T09:05:36.986Z"
   },
   {
    "duration": 35,
    "start_time": "2022-04-22T09:05:36.994Z"
   },
   {
    "duration": 18,
    "start_time": "2022-04-22T09:05:37.030Z"
   },
   {
    "duration": 5,
    "start_time": "2022-04-22T09:05:37.049Z"
   },
   {
    "duration": 12,
    "start_time": "2022-04-22T09:05:37.055Z"
   },
   {
    "duration": 4,
    "start_time": "2022-04-22T09:05:37.068Z"
   },
   {
    "duration": 7,
    "start_time": "2022-04-22T09:05:37.075Z"
   },
   {
    "duration": 21,
    "start_time": "2022-04-22T09:05:37.083Z"
   },
   {
    "duration": 15,
    "start_time": "2022-04-22T09:05:37.124Z"
   },
   {
    "duration": 7,
    "start_time": "2022-04-22T09:05:37.140Z"
   },
   {
    "duration": 14,
    "start_time": "2022-04-22T09:05:37.149Z"
   },
   {
    "duration": 6,
    "start_time": "2022-04-22T09:05:37.165Z"
   },
   {
    "duration": 9,
    "start_time": "2022-04-22T09:05:37.173Z"
   },
   {
    "duration": 9,
    "start_time": "2022-04-22T09:05:37.183Z"
   },
   {
    "duration": 7,
    "start_time": "2022-04-22T09:05:37.224Z"
   },
   {
    "duration": 18,
    "start_time": "2022-04-22T09:05:37.233Z"
   },
   {
    "duration": 17,
    "start_time": "2022-04-22T09:05:37.253Z"
   },
   {
    "duration": 16,
    "start_time": "2022-04-22T09:05:37.271Z"
   },
   {
    "duration": 35,
    "start_time": "2022-04-22T09:05:37.289Z"
   },
   {
    "duration": 10,
    "start_time": "2022-04-22T09:05:37.326Z"
   },
   {
    "duration": 12,
    "start_time": "2022-04-22T09:05:37.337Z"
   },
   {
    "duration": 20,
    "start_time": "2022-04-22T09:05:37.350Z"
   },
   {
    "duration": 6,
    "start_time": "2022-04-22T09:05:37.371Z"
   },
   {
    "duration": 6,
    "start_time": "2022-04-22T09:05:37.378Z"
   },
   {
    "duration": 48,
    "start_time": "2022-04-22T09:05:37.385Z"
   },
   {
    "duration": 18,
    "start_time": "2022-04-22T09:05:37.434Z"
   },
   {
    "duration": 16,
    "start_time": "2022-04-22T09:05:37.453Z"
   },
   {
    "duration": 5,
    "start_time": "2022-04-22T09:05:37.470Z"
   },
   {
    "duration": 50,
    "start_time": "2022-04-22T09:05:37.476Z"
   },
   {
    "duration": 4,
    "start_time": "2022-04-22T09:05:37.528Z"
   },
   {
    "duration": 29,
    "start_time": "2022-04-22T09:05:37.533Z"
   },
   {
    "duration": 5,
    "start_time": "2022-04-22T09:05:37.563Z"
   },
   {
    "duration": 25,
    "start_time": "2022-04-22T09:05:37.569Z"
   },
   {
    "duration": 50,
    "start_time": "2022-04-22T09:05:37.596Z"
   },
   {
    "duration": 674,
    "start_time": "2022-04-22T11:37:46.278Z"
   },
   {
    "duration": 27,
    "start_time": "2022-04-22T11:38:02.546Z"
   },
   {
    "duration": 26,
    "start_time": "2022-04-22T11:38:13.773Z"
   },
   {
    "duration": 9,
    "start_time": "2022-04-22T11:38:21.162Z"
   },
   {
    "duration": 20,
    "start_time": "2022-04-22T11:38:22.545Z"
   },
   {
    "duration": 28,
    "start_time": "2022-04-22T11:38:39.862Z"
   },
   {
    "duration": 26,
    "start_time": "2022-04-22T11:38:55.129Z"
   },
   {
    "duration": 33,
    "start_time": "2022-04-22T11:39:25.953Z"
   },
   {
    "duration": 45,
    "start_time": "2022-04-22T11:49:22.731Z"
   },
   {
    "duration": 38,
    "start_time": "2022-04-22T11:49:26.922Z"
   },
   {
    "duration": 101,
    "start_time": "2022-04-22T11:51:56.403Z"
   },
   {
    "duration": 40,
    "start_time": "2022-04-22T11:52:05.775Z"
   },
   {
    "duration": 11,
    "start_time": "2022-04-22T11:53:46.064Z"
   },
   {
    "duration": 844,
    "start_time": "2022-04-22T11:53:55.807Z"
   },
   {
    "duration": 915,
    "start_time": "2022-04-22T11:54:01.007Z"
   },
   {
    "duration": 906,
    "start_time": "2022-04-22T11:54:36.764Z"
   },
   {
    "duration": 53,
    "start_time": "2022-04-22T11:55:09.784Z"
   }
  ],
  "kernelspec": {
   "display_name": "Python 3 (ipykernel)",
   "language": "python",
   "name": "python3"
  },
  "language_info": {
   "codemirror_mode": {
    "name": "ipython",
    "version": 3
   },
   "file_extension": ".py",
   "mimetype": "text/x-python",
   "name": "python",
   "nbconvert_exporter": "python",
   "pygments_lexer": "ipython3",
   "version": "3.9.7"
  },
  "toc": {
   "base_numbering": 1,
   "nav_menu": {
    "height": "159px",
    "width": "204px"
   },
   "number_sections": true,
   "sideBar": true,
   "skip_h1_title": true,
   "title_cell": "Table of Contents",
   "title_sidebar": "Contents",
   "toc_cell": false,
   "toc_position": {},
   "toc_section_display": true,
   "toc_window_display": false
  }
 },
 "nbformat": 4,
 "nbformat_minor": 5
}
