{
 "cells": [
  {
   "cell_type": "markdown",
   "metadata": {
    "toc": true
   },
   "source": [
    "<h1>Содержание<span class=\"tocSkip\"></span></h1>\n",
    "<div class=\"toc\"><ul class=\"toc-item\"><li><span><a href=\"#Изучение-данных-из-файла\" data-toc-modified-id=\"Изучение-данных-из-файла-1\"><span class=\"toc-item-num\">1&nbsp;&nbsp;</span>Изучение данных из файла</a></span><ul class=\"toc-item\"><li><span><a href=\"#Описание-полей-данных\" data-toc-modified-id=\"Описание-полей-данных-1.1\"><span class=\"toc-item-num\">1.1&nbsp;&nbsp;</span>Описание полей данных</a></span></li><li><span><a href=\"#Вывод\" data-toc-modified-id=\"Вывод-1.2\"><span class=\"toc-item-num\">1.2&nbsp;&nbsp;</span>Вывод</a></span></li></ul></li><li><span><a href=\"#Предобработка-данных\" data-toc-modified-id=\"Предобработка-данных-2\"><span class=\"toc-item-num\">2&nbsp;&nbsp;</span>Предобработка данных</a></span><ul class=\"toc-item\"><li><span><a href=\"#Работа-с-пропусками\" data-toc-modified-id=\"Работа-с-пропусками-2.1\"><span class=\"toc-item-num\">2.1&nbsp;&nbsp;</span>Работа с пропусками</a></span><ul class=\"toc-item\"><li><span><a href=\"#Выводы\" data-toc-modified-id=\"Выводы-2.1.1\"><span class=\"toc-item-num\">2.1.1&nbsp;&nbsp;</span>Выводы</a></span><ul class=\"toc-item\"><li><span><a href=\"#Апартаменты\" data-toc-modified-id=\"Апартаменты-2.1.1.1\"><span class=\"toc-item-num\">2.1.1.1&nbsp;&nbsp;</span>Апартаменты</a></span></li><li><span><a href=\"#Балконы\" data-toc-modified-id=\"Балконы-2.1.1.2\"><span class=\"toc-item-num\">2.1.1.2&nbsp;&nbsp;</span>Балконы</a></span></li><li><span><a href=\"#Высота-потолков\" data-toc-modified-id=\"Высота-потолков-2.1.1.3\"><span class=\"toc-item-num\">2.1.1.3&nbsp;&nbsp;</span>Высота потолков</a></span></li><li><span><a href=\"#Сколько-дней-размещено-объявление\" data-toc-modified-id=\"Сколько-дней-размещено-объявление-2.1.1.4\"><span class=\"toc-item-num\">2.1.1.4&nbsp;&nbsp;</span>Сколько дней размещено объявление</a></span></li><li><span><a href=\"#Жилая-площадь-и-площадь-кухни\" data-toc-modified-id=\"Жилая-площадь-и-площадь-кухни-2.1.1.5\"><span class=\"toc-item-num\">2.1.1.5&nbsp;&nbsp;</span>Жилая площадь и площадь кухни</a></span></li><li><span><a href=\"#Количество-этажей-в-доме\" data-toc-modified-id=\"Количество-этажей-в-доме-2.1.1.6\"><span class=\"toc-item-num\">2.1.1.6&nbsp;&nbsp;</span>Количество этажей в доме</a></span></li><li><span><a href=\"#Расстояние-до-центра\" data-toc-modified-id=\"Расстояние-до-центра-2.1.1.7\"><span class=\"toc-item-num\">2.1.1.7&nbsp;&nbsp;</span>Расстояние до центра</a></span></li></ul></li><li><span><a href=\"#Выводы\" data-toc-modified-id=\"Выводы-2.1.2\"><span class=\"toc-item-num\">2.1.2&nbsp;&nbsp;</span>Выводы</a></span></li></ul></li></ul></li><li><span><a href=\"#Расчёты-и-добавление-результатов-в-таблицу\" data-toc-modified-id=\"Расчёты-и-добавление-результатов-в-таблицу-3\"><span class=\"toc-item-num\">3&nbsp;&nbsp;</span>Расчёты и добавление результатов в таблицу</a></span><ul class=\"toc-item\"><li><span><a href=\"#Задачи\" data-toc-modified-id=\"Задачи-3.1\"><span class=\"toc-item-num\">3.1&nbsp;&nbsp;</span>Задачи</a></span></li><li><span><a href=\"#Параметры-квартиры\" data-toc-modified-id=\"Параметры-квартиры-3.2\"><span class=\"toc-item-num\">3.2&nbsp;&nbsp;</span>Параметры квартиры</a></span><ul class=\"toc-item\"><li><ul class=\"toc-item\"><li><span><a href=\"#Сколько-времени-было-размещено-объявление\" data-toc-modified-id=\"Сколько-времени-было-размещено-объявление-3.2.0.1\"><span class=\"toc-item-num\">3.2.0.1&nbsp;&nbsp;</span>Сколько времени было размещено объявление</a></span></li></ul></li></ul></li><li><span><a href=\"#Выбросы-и-аномалии\" data-toc-modified-id=\"Выбросы-и-аномалии-3.3\"><span class=\"toc-item-num\">3.3&nbsp;&nbsp;</span>Выбросы и аномалии</a></span></li><li><span><a href=\"#Корреляции\" data-toc-modified-id=\"Корреляции-3.4\"><span class=\"toc-item-num\">3.4&nbsp;&nbsp;</span>Корреляции</a></span></li><li><span><a href=\"#Места-с-наибольшим-числом-объявлений\" data-toc-modified-id=\"Места-с-наибольшим-числом-объявлений-3.5\"><span class=\"toc-item-num\">3.5&nbsp;&nbsp;</span>Места с наибольшим числом объявлений</a></span></li><li><span><a href=\"#Квартиры-в-центре\" data-toc-modified-id=\"Квартиры-в-центре-3.6\"><span class=\"toc-item-num\">3.6&nbsp;&nbsp;</span>Квартиры в центре</a></span><ul class=\"toc-item\"><li><span><a href=\"#Основные-параметры-квартир-в-центре\" data-toc-modified-id=\"Основные-параметры-квартир-в-центре-3.6.1\"><span class=\"toc-item-num\">3.6.1&nbsp;&nbsp;</span>Основные параметры квартир в центре</a></span></li><li><span><a href=\"#Корреляции\" data-toc-modified-id=\"Корреляции-3.6.2\"><span class=\"toc-item-num\">3.6.2&nbsp;&nbsp;</span>Корреляции</a></span></li></ul></li></ul></li><li><span><a href=\"#Общий-вывод\" data-toc-modified-id=\"Общий-вывод-4\"><span class=\"toc-item-num\">4&nbsp;&nbsp;</span>Общий вывод</a></span><ul class=\"toc-item\"><li><span><a href=\"#Предобработка\" data-toc-modified-id=\"Предобработка-4.1\"><span class=\"toc-item-num\">4.1&nbsp;&nbsp;</span>Предобработка</a></span></li><li><span><a href=\"#Исследовательский-анализ\" data-toc-modified-id=\"Исследовательский-анализ-4.2\"><span class=\"toc-item-num\">4.2&nbsp;&nbsp;</span>Исследовательский анализ</a></span></li></ul></li><li><span><a href=\"#Чек-лист-готовности-проекта\" data-toc-modified-id=\"Чек-лист-готовности-проекта-5\"><span class=\"toc-item-num\">5&nbsp;&nbsp;</span>Чек-лист готовности проекта</a></span></li></ul></div>"
   ]
  },
  {
   "cell_type": "markdown",
   "metadata": {},
   "source": [
    "# Исследование объявлений о продаже квартир\n",
    "\n",
    "В вашем распоряжении данные сервиса Яндекс.Недвижимость — архив объявлений о продаже квартир в Санкт-Петербурге и соседних населённых пунктах за несколько лет. Нужно научиться определять рыночную стоимость объектов недвижимости. Ваша задача — установить параметры. Это позволит построить автоматизированную систему: она отследит аномалии и мошенническую деятельность. \n",
    "\n",
    "По каждой квартире на продажу доступны два вида данных. Первые вписаны пользователем, вторые получены автоматически на основе картографических данных. Например, расстояние до центра, аэропорта, ближайшего парка и водоёма."
   ]
  },
  {
   "cell_type": "markdown",
   "metadata": {},
   "source": [
    "***Цель исследования***\n",
    "\n",
    "Установить параметры для определения рыночной стоимости объектов недвижимости.\n",
    "\n",
    "***Ход исследования***\n",
    "\n",
    "1. Обзор данных, полученных из файла `/datasets/real_estate_data.csv`.\n",
    "2. Предобработка данных:\n",
    " - работа с пропусками;\n",
    " - приведение столбцов к нужным типам;\n",
    " - добавление в таблицу новых столбцов, которые понадобятся для дальнейшего исследования;\n",
    "3. Проведение исследовательского анализы данных:\n",
    " - изучение и визуализация основных параметров выставленных на продажу объектов недвижимости;\n",
    " - работа с аномалиями;\n",
    " - выявление факторов, влияющих на стоимость квартир;\n",
    " - выявление самых дорогих и самых дешевых объектов недвижимости;\n",
    " - выделение и визуализация объектов недвижимости, выставленных на продажу в центре Санкт-Петербурга, анализ параметров;\n",
    " - сравнение по выделенному ряду параметров квартир в центре и за его пределами.\n",
    "4. Общие выводы"
   ]
  },
  {
   "cell_type": "markdown",
   "metadata": {},
   "source": [
    "## Изучение данных из файла"
   ]
  },
  {
   "cell_type": "code",
   "execution_count": 1,
   "metadata": {},
   "outputs": [],
   "source": [
    "import pandas as pd\n",
    "import numpy as np\n",
    "\n",
    "import matplotlib.pyplot as plt\n",
    "\n",
    "from datetime import datetime as dt"
   ]
  },
  {
   "cell_type": "code",
   "execution_count": 2,
   "metadata": {
    "scrolled": true
   },
   "outputs": [
    {
     "data": {
      "text/html": [
       "<div>\n",
       "<style scoped>\n",
       "    .dataframe tbody tr th:only-of-type {\n",
       "        vertical-align: middle;\n",
       "    }\n",
       "\n",
       "    .dataframe tbody tr th {\n",
       "        vertical-align: top;\n",
       "    }\n",
       "\n",
       "    .dataframe thead th {\n",
       "        text-align: right;\n",
       "    }\n",
       "</style>\n",
       "<table border=\"1\" class=\"dataframe\">\n",
       "  <thead>\n",
       "    <tr style=\"text-align: right;\">\n",
       "      <th></th>\n",
       "      <th>total_images</th>\n",
       "      <th>last_price</th>\n",
       "      <th>total_area</th>\n",
       "      <th>first_day_exposition</th>\n",
       "      <th>rooms</th>\n",
       "      <th>ceiling_height</th>\n",
       "      <th>floors_total</th>\n",
       "      <th>living_area</th>\n",
       "      <th>floor</th>\n",
       "      <th>is_apartment</th>\n",
       "      <th>studio</th>\n",
       "      <th>open_plan</th>\n",
       "      <th>kitchen_area</th>\n",
       "      <th>balcony</th>\n",
       "      <th>locality_name</th>\n",
       "      <th>airports_nearest</th>\n",
       "      <th>cityCenters_nearest</th>\n",
       "      <th>parks_around3000</th>\n",
       "      <th>parks_nearest</th>\n",
       "      <th>ponds_around3000</th>\n",
       "      <th>ponds_nearest</th>\n",
       "      <th>days_exposition</th>\n",
       "    </tr>\n",
       "  </thead>\n",
       "  <tbody>\n",
       "    <tr>\n",
       "      <th>0</th>\n",
       "      <td>20</td>\n",
       "      <td>13000000.0</td>\n",
       "      <td>108.0</td>\n",
       "      <td>2019-03-07</td>\n",
       "      <td>3</td>\n",
       "      <td>2.70</td>\n",
       "      <td>16.0</td>\n",
       "      <td>51.0</td>\n",
       "      <td>8</td>\n",
       "      <td>NaN</td>\n",
       "      <td>False</td>\n",
       "      <td>False</td>\n",
       "      <td>25.0</td>\n",
       "      <td>NaN</td>\n",
       "      <td>Санкт-Петербург</td>\n",
       "      <td>18863.0</td>\n",
       "      <td>16028.0</td>\n",
       "      <td>1.0</td>\n",
       "      <td>482.0</td>\n",
       "      <td>2.0</td>\n",
       "      <td>755.0</td>\n",
       "      <td>NaN</td>\n",
       "    </tr>\n",
       "    <tr>\n",
       "      <th>1</th>\n",
       "      <td>7</td>\n",
       "      <td>3350000.0</td>\n",
       "      <td>40.4</td>\n",
       "      <td>2018-12-04</td>\n",
       "      <td>1</td>\n",
       "      <td>NaN</td>\n",
       "      <td>11.0</td>\n",
       "      <td>18.6</td>\n",
       "      <td>1</td>\n",
       "      <td>NaN</td>\n",
       "      <td>False</td>\n",
       "      <td>False</td>\n",
       "      <td>11.0</td>\n",
       "      <td>2.0</td>\n",
       "      <td>посёлок Шушары</td>\n",
       "      <td>12817.0</td>\n",
       "      <td>18603.0</td>\n",
       "      <td>0.0</td>\n",
       "      <td>NaN</td>\n",
       "      <td>0.0</td>\n",
       "      <td>NaN</td>\n",
       "      <td>81.0</td>\n",
       "    </tr>\n",
       "    <tr>\n",
       "      <th>2</th>\n",
       "      <td>10</td>\n",
       "      <td>5196000.0</td>\n",
       "      <td>56.0</td>\n",
       "      <td>2015-08-20</td>\n",
       "      <td>2</td>\n",
       "      <td>NaN</td>\n",
       "      <td>5.0</td>\n",
       "      <td>34.3</td>\n",
       "      <td>4</td>\n",
       "      <td>NaN</td>\n",
       "      <td>False</td>\n",
       "      <td>False</td>\n",
       "      <td>8.3</td>\n",
       "      <td>0.0</td>\n",
       "      <td>Санкт-Петербург</td>\n",
       "      <td>21741.0</td>\n",
       "      <td>13933.0</td>\n",
       "      <td>1.0</td>\n",
       "      <td>90.0</td>\n",
       "      <td>2.0</td>\n",
       "      <td>574.0</td>\n",
       "      <td>558.0</td>\n",
       "    </tr>\n",
       "    <tr>\n",
       "      <th>3</th>\n",
       "      <td>0</td>\n",
       "      <td>64900000.0</td>\n",
       "      <td>159.0</td>\n",
       "      <td>2015-07-24</td>\n",
       "      <td>3</td>\n",
       "      <td>NaN</td>\n",
       "      <td>14.0</td>\n",
       "      <td>NaN</td>\n",
       "      <td>9</td>\n",
       "      <td>NaN</td>\n",
       "      <td>False</td>\n",
       "      <td>False</td>\n",
       "      <td>NaN</td>\n",
       "      <td>0.0</td>\n",
       "      <td>Санкт-Петербург</td>\n",
       "      <td>28098.0</td>\n",
       "      <td>6800.0</td>\n",
       "      <td>2.0</td>\n",
       "      <td>84.0</td>\n",
       "      <td>3.0</td>\n",
       "      <td>234.0</td>\n",
       "      <td>424.0</td>\n",
       "    </tr>\n",
       "    <tr>\n",
       "      <th>4</th>\n",
       "      <td>2</td>\n",
       "      <td>10000000.0</td>\n",
       "      <td>100.0</td>\n",
       "      <td>2018-06-19</td>\n",
       "      <td>2</td>\n",
       "      <td>3.03</td>\n",
       "      <td>14.0</td>\n",
       "      <td>32.0</td>\n",
       "      <td>13</td>\n",
       "      <td>NaN</td>\n",
       "      <td>False</td>\n",
       "      <td>False</td>\n",
       "      <td>41.0</td>\n",
       "      <td>NaN</td>\n",
       "      <td>Санкт-Петербург</td>\n",
       "      <td>31856.0</td>\n",
       "      <td>8098.0</td>\n",
       "      <td>2.0</td>\n",
       "      <td>112.0</td>\n",
       "      <td>1.0</td>\n",
       "      <td>48.0</td>\n",
       "      <td>121.0</td>\n",
       "    </tr>\n",
       "  </tbody>\n",
       "</table>\n",
       "</div>"
      ],
      "text/plain": [
       "   total_images  last_price  total_area first_day_exposition  rooms  \\\n",
       "0            20  13000000.0       108.0           2019-03-07      3   \n",
       "1             7   3350000.0        40.4           2018-12-04      1   \n",
       "2            10   5196000.0        56.0           2015-08-20      2   \n",
       "3             0  64900000.0       159.0           2015-07-24      3   \n",
       "4             2  10000000.0       100.0           2018-06-19      2   \n",
       "\n",
       "   ceiling_height  floors_total  living_area  floor is_apartment  studio  \\\n",
       "0            2.70          16.0         51.0      8          NaN   False   \n",
       "1             NaN          11.0         18.6      1          NaN   False   \n",
       "2             NaN           5.0         34.3      4          NaN   False   \n",
       "3             NaN          14.0          NaN      9          NaN   False   \n",
       "4            3.03          14.0         32.0     13          NaN   False   \n",
       "\n",
       "   open_plan  kitchen_area  balcony    locality_name  airports_nearest  \\\n",
       "0      False          25.0      NaN  Санкт-Петербург           18863.0   \n",
       "1      False          11.0      2.0   посёлок Шушары           12817.0   \n",
       "2      False           8.3      0.0  Санкт-Петербург           21741.0   \n",
       "3      False           NaN      0.0  Санкт-Петербург           28098.0   \n",
       "4      False          41.0      NaN  Санкт-Петербург           31856.0   \n",
       "\n",
       "   cityCenters_nearest  parks_around3000  parks_nearest  ponds_around3000  \\\n",
       "0              16028.0               1.0          482.0               2.0   \n",
       "1              18603.0               0.0            NaN               0.0   \n",
       "2              13933.0               1.0           90.0               2.0   \n",
       "3               6800.0               2.0           84.0               3.0   \n",
       "4               8098.0               2.0          112.0               1.0   \n",
       "\n",
       "   ponds_nearest  days_exposition  \n",
       "0          755.0              NaN  \n",
       "1            NaN             81.0  \n",
       "2          574.0            558.0  \n",
       "3          234.0            424.0  \n",
       "4           48.0            121.0  "
      ]
     },
     "metadata": {},
     "output_type": "display_data"
    },
    {
     "name": "stdout",
     "output_type": "stream",
     "text": [
      "\n",
      "<class 'pandas.core.frame.DataFrame'>\n",
      "RangeIndex: 23699 entries, 0 to 23698\n",
      "Data columns (total 22 columns):\n",
      " #   Column                Non-Null Count  Dtype         \n",
      "---  ------                --------------  -----         \n",
      " 0   total_images          23699 non-null  int64         \n",
      " 1   last_price            23699 non-null  float64       \n",
      " 2   total_area            23699 non-null  float64       \n",
      " 3   first_day_exposition  23699 non-null  datetime64[ns]\n",
      " 4   rooms                 23699 non-null  int64         \n",
      " 5   ceiling_height        14504 non-null  float64       \n",
      " 6   floors_total          23613 non-null  float64       \n",
      " 7   living_area           21796 non-null  float64       \n",
      " 8   floor                 23699 non-null  int64         \n",
      " 9   is_apartment          2775 non-null   object        \n",
      " 10  studio                23699 non-null  bool          \n",
      " 11  open_plan             23699 non-null  bool          \n",
      " 12  kitchen_area          21421 non-null  float64       \n",
      " 13  balcony               12180 non-null  float64       \n",
      " 14  locality_name         23650 non-null  object        \n",
      " 15  airports_nearest      18157 non-null  float64       \n",
      " 16  cityCenters_nearest   18180 non-null  float64       \n",
      " 17  parks_around3000      18181 non-null  float64       \n",
      " 18  parks_nearest         8079 non-null   float64       \n",
      " 19  ponds_around3000      18181 non-null  float64       \n",
      " 20  ponds_nearest         9110 non-null   float64       \n",
      " 21  days_exposition       20518 non-null  float64       \n",
      "dtypes: bool(2), datetime64[ns](1), float64(14), int64(3), object(2)\n",
      "memory usage: 3.7+ MB\n"
     ]
    }
   ],
   "source": [
    "data = pd.read_csv('/datasets/real_estate_data.csv', sep='\\t', parse_dates=['first_day_exposition'])\n",
    "#df.to_csv('C:\\\\Users\\\\79199\\\\Downloads\\\\visits.csv', index=False)\n",
    "\n",
    "pd.set_option('display.max_columns', None)\n",
    "display(data.head())\n",
    "print()\n",
    "data.info()"
   ]
  },
  {
   "cell_type": "markdown",
   "metadata": {},
   "source": [
    "### Описание полей данных\n",
    "\n",
    "В таблице 21 столбец. Согласно документации к данным:\n",
    "- `airports_nearest` — расстояние до ближайшего аэропорта в метрах (м)\n",
    "- `balcony` — число балконов\n",
    "- `ceiling_height` — высота потолков (м)\n",
    "- `cityCenters_nearest` — расстояние до центра города (м)\n",
    "- `days_exposition` — сколько дней было размещено объявление (от публикации до снятия)\n",
    "- `first_day_exposition` — дата публикации\n",
    "- `floor` — этаж\n",
    "- `floors_total` — всего этажей в доме\n",
    "- `is_apartment` — апартаменты (булев тип)\n",
    "- `kitchen_area` — площадь кухни в квадратных метрах (м²)\n",
    "- `last_price` — цена на момент снятия с публикации\n",
    "- `living_area` — жилая площадь в квадратных метрах (м²)\n",
    "- `locality_name` — название населённого пункта\n",
    "- `open_plan` — свободная планировка (булев тип)\n",
    "- `parks_around3000` — число парков в радиусе 3 км\n",
    "- `parks_nearest` — расстояние до ближайшего парка (м)\n",
    "- `ponds_around3000` — число водоёмов в радиусе 3 км\n",
    "- `ponds_nearest` — расстояние до ближайшего водоёма (м)\n",
    "- `rooms` — число комнат\n",
    "- `studio` — квартира-студия (булев тип)\n",
    "- `total_area` — площадь квартиры в квадратных метрах (м²)\n",
    "- `total_images` — число фотографий квартиры в объявлении\n",
    "\n",
    "В таблице содержатся преимущественно данные типа `float`, однако встречаются отдельные столбцы типа `int`, `bool` и `object`. Столбец `first_day_exposition` был сразу приведен в формат `datetime`.\n",
    "\n",
    "В большинстве столбцов встречаются пропущенные значения."
   ]
  },
  {
   "cell_type": "markdown",
   "metadata": {},
   "source": [
    "### Вывод\n",
    "\n",
    "В каждой строке таблицы - ряд параметров, описывающих объект недвижимости, выставленного на продажу в Санкт-Петербурге и его окрестностях. Часть параметров вписана пользователем, другая получена автоматически.\n",
    "\n",
    "Можно сделать предварительный вывод, что имеющихся данных достаточно для ответа на поставленные вопросы. Но для начала необходимо изучить пропуски в данных, оценить, какие из них могут помешать анализу, а затем оптимальным образом заменить, либо удалить их."
   ]
  },
  {
   "cell_type": "markdown",
   "metadata": {},
   "source": [
    "## Предобработка данных"
   ]
  },
  {
   "cell_type": "markdown",
   "metadata": {},
   "source": [
    "### Работа с пропусками"
   ]
  },
  {
   "cell_type": "markdown",
   "metadata": {},
   "source": [
    "Для более удобной работы с пропусками, создадим таблицу, где укажем все столбцы с пропусками, количество пропусков для каждого столбца, долю пропусков, тип данных."
   ]
  },
  {
   "cell_type": "code",
   "execution_count": 3,
   "metadata": {},
   "outputs": [
    {
     "data": {
      "text/html": [
       "<div>\n",
       "<style scoped>\n",
       "    .dataframe tbody tr th:only-of-type {\n",
       "        vertical-align: middle;\n",
       "    }\n",
       "\n",
       "    .dataframe tbody tr th {\n",
       "        vertical-align: top;\n",
       "    }\n",
       "\n",
       "    .dataframe thead th {\n",
       "        text-align: right;\n",
       "    }\n",
       "</style>\n",
       "<table border=\"1\" class=\"dataframe\">\n",
       "  <thead>\n",
       "    <tr style=\"text-align: right;\">\n",
       "      <th></th>\n",
       "      <th>nan</th>\n",
       "      <th>% missing</th>\n",
       "      <th>types</th>\n",
       "    </tr>\n",
       "  </thead>\n",
       "  <tbody>\n",
       "    <tr>\n",
       "      <th>total_images</th>\n",
       "      <td>0</td>\n",
       "      <td>0.000000</td>\n",
       "      <td>int64</td>\n",
       "    </tr>\n",
       "    <tr>\n",
       "      <th>last_price</th>\n",
       "      <td>0</td>\n",
       "      <td>0.000000</td>\n",
       "      <td>float64</td>\n",
       "    </tr>\n",
       "    <tr>\n",
       "      <th>total_area</th>\n",
       "      <td>0</td>\n",
       "      <td>0.000000</td>\n",
       "      <td>float64</td>\n",
       "    </tr>\n",
       "    <tr>\n",
       "      <th>first_day_exposition</th>\n",
       "      <td>0</td>\n",
       "      <td>0.000000</td>\n",
       "      <td>datetime64[ns]</td>\n",
       "    </tr>\n",
       "    <tr>\n",
       "      <th>rooms</th>\n",
       "      <td>0</td>\n",
       "      <td>0.000000</td>\n",
       "      <td>int64</td>\n",
       "    </tr>\n",
       "    <tr>\n",
       "      <th>ceiling_height</th>\n",
       "      <td>9195</td>\n",
       "      <td>38.799105</td>\n",
       "      <td>float64</td>\n",
       "    </tr>\n",
       "    <tr>\n",
       "      <th>floors_total</th>\n",
       "      <td>86</td>\n",
       "      <td>0.362885</td>\n",
       "      <td>float64</td>\n",
       "    </tr>\n",
       "    <tr>\n",
       "      <th>living_area</th>\n",
       "      <td>1903</td>\n",
       "      <td>8.029875</td>\n",
       "      <td>float64</td>\n",
       "    </tr>\n",
       "    <tr>\n",
       "      <th>floor</th>\n",
       "      <td>0</td>\n",
       "      <td>0.000000</td>\n",
       "      <td>int64</td>\n",
       "    </tr>\n",
       "    <tr>\n",
       "      <th>is_apartment</th>\n",
       "      <td>20924</td>\n",
       "      <td>88.290645</td>\n",
       "      <td>object</td>\n",
       "    </tr>\n",
       "    <tr>\n",
       "      <th>studio</th>\n",
       "      <td>0</td>\n",
       "      <td>0.000000</td>\n",
       "      <td>bool</td>\n",
       "    </tr>\n",
       "    <tr>\n",
       "      <th>open_plan</th>\n",
       "      <td>0</td>\n",
       "      <td>0.000000</td>\n",
       "      <td>bool</td>\n",
       "    </tr>\n",
       "    <tr>\n",
       "      <th>kitchen_area</th>\n",
       "      <td>2278</td>\n",
       "      <td>9.612220</td>\n",
       "      <td>float64</td>\n",
       "    </tr>\n",
       "    <tr>\n",
       "      <th>balcony</th>\n",
       "      <td>11519</td>\n",
       "      <td>48.605426</td>\n",
       "      <td>float64</td>\n",
       "    </tr>\n",
       "    <tr>\n",
       "      <th>locality_name</th>\n",
       "      <td>49</td>\n",
       "      <td>0.206760</td>\n",
       "      <td>object</td>\n",
       "    </tr>\n",
       "    <tr>\n",
       "      <th>airports_nearest</th>\n",
       "      <td>5542</td>\n",
       "      <td>23.384953</td>\n",
       "      <td>float64</td>\n",
       "    </tr>\n",
       "    <tr>\n",
       "      <th>cityCenters_nearest</th>\n",
       "      <td>5519</td>\n",
       "      <td>23.287902</td>\n",
       "      <td>float64</td>\n",
       "    </tr>\n",
       "    <tr>\n",
       "      <th>parks_around3000</th>\n",
       "      <td>5518</td>\n",
       "      <td>23.283683</td>\n",
       "      <td>float64</td>\n",
       "    </tr>\n",
       "    <tr>\n",
       "      <th>parks_nearest</th>\n",
       "      <td>15620</td>\n",
       "      <td>65.909954</td>\n",
       "      <td>float64</td>\n",
       "    </tr>\n",
       "    <tr>\n",
       "      <th>ponds_around3000</th>\n",
       "      <td>5518</td>\n",
       "      <td>23.283683</td>\n",
       "      <td>float64</td>\n",
       "    </tr>\n",
       "    <tr>\n",
       "      <th>ponds_nearest</th>\n",
       "      <td>14589</td>\n",
       "      <td>61.559559</td>\n",
       "      <td>float64</td>\n",
       "    </tr>\n",
       "    <tr>\n",
       "      <th>days_exposition</th>\n",
       "      <td>3181</td>\n",
       "      <td>13.422507</td>\n",
       "      <td>float64</td>\n",
       "    </tr>\n",
       "  </tbody>\n",
       "</table>\n",
       "</div>"
      ],
      "text/plain": [
       "                        nan  % missing           types\n",
       "total_images              0   0.000000           int64\n",
       "last_price                0   0.000000         float64\n",
       "total_area                0   0.000000         float64\n",
       "first_day_exposition      0   0.000000  datetime64[ns]\n",
       "rooms                     0   0.000000           int64\n",
       "ceiling_height         9195  38.799105         float64\n",
       "floors_total             86   0.362885         float64\n",
       "living_area            1903   8.029875         float64\n",
       "floor                     0   0.000000           int64\n",
       "is_apartment          20924  88.290645          object\n",
       "studio                    0   0.000000            bool\n",
       "open_plan                 0   0.000000            bool\n",
       "kitchen_area           2278   9.612220         float64\n",
       "balcony               11519  48.605426         float64\n",
       "locality_name            49   0.206760          object\n",
       "airports_nearest       5542  23.384953         float64\n",
       "cityCenters_nearest    5519  23.287902         float64\n",
       "parks_around3000       5518  23.283683         float64\n",
       "parks_nearest         15620  65.909954         float64\n",
       "ponds_around3000       5518  23.283683         float64\n",
       "ponds_nearest         14589  61.559559         float64\n",
       "days_exposition        3181  13.422507         float64"
      ]
     },
     "execution_count": 3,
     "metadata": {},
     "output_type": "execute_result"
    }
   ],
   "source": [
    "# создаем таблицу для более удобной работы с пропущенными значениями\n",
    "missing_data = pd.DataFrame(data.isna().sum())\n",
    "missing_data.columns = ['nan']\n",
    "missing_data['% missing'] = missing_data['nan'] / len(data) * 100\n",
    "missing_data['types'] = data.dtypes\n",
    "missing_data"
   ]
  },
  {
   "cell_type": "markdown",
   "metadata": {},
   "source": [
    "#### Выводы\n",
    "\n",
    "- наибольшее количество пропусков в столбце `is_apartment` (\"является апартаментами\"). Можно предположить, что пропуски в этих столбцах означают, что недвижимость относится к жилому фонду. Заполним из значением `False`.\n",
    "- следующий по частоте пропусков идет столбец `balcony` (\"балконы\"). Предположим, что если продавец ничего не указал в этом столбце, это означает, что в квартире нет балкона. Заполним пропуски нулями.\n",
    "- в столбце `ceilig_height` (\"высота потолков\") почти 39% пропусков. Заполним их медианными значениями в зависимости от населенного пункта.\n",
    "- значимое количество пропусков также встречается в столбцах `living_area` (\"жилая площадь\") и `kitchen_area` (\"площадь кухни\"), 8% и 9,6% соответственно. Эти пропуски также нуждаются в заполнении, метод см.ниже.\n",
    "- пропуски в столбце `locality_name`(\"название населенного пункта\") составляют 0,2% от всего датасета, эти пропуски можно проигнорировать.\n",
    "- много данных (более 13%) пропущено в столбце `days_exposition` (сколько дней было размещено объявление). Можно предположить, что на момент составления датасета эти квартиры еще не были проданы. Заполним эти пропуски, с помощью среднего времени продажи квартир и самого свежего объявления в датасете (подробнее в соответств.разделе)\n",
    "- количество пропусков в столбцах \"расстояние до ближайшего аэропорта\", \"расстояние до центра города\", \"число ближайших водоемов\", \"число ближайших парков\" совпадает с точностью до десятых процента и составляет около 23%. Кроме столбца `cityCenter_nearest`(\"расстояние до центра города\"), эти данные не понадобятся нам в исследовании, поэтому пропуски можно оставить.\n",
    "- количество пропусков в столбцах \"расстояние до ближайшего парка\" и \"расстояние до ближайшего водоема\" также близко, составляет ок. 66% и 62% соответственно. Эти данные также не принципиальны для исследования, пропуски можно оставить."
   ]
  },
  {
   "cell_type": "markdown",
   "metadata": {},
   "source": [
    "Заменим пропуски на соответствующие значения, при необходимости заменим тип столбца."
   ]
  },
  {
   "cell_type": "markdown",
   "metadata": {},
   "source": [
    "##### Апартаменты"
   ]
  },
  {
   "cell_type": "code",
   "execution_count": 4,
   "metadata": {},
   "outputs": [],
   "source": [
    "# замена пропусков в столбце \"is_apartment\"\n",
    "data['is_apartment'] = data['is_apartment'].fillna(False)"
   ]
  },
  {
   "cell_type": "markdown",
   "metadata": {},
   "source": [
    "##### Балконы"
   ]
  },
  {
   "cell_type": "markdown",
   "metadata": {},
   "source": [
    "Так как количество балконов в квартире не может быть дробным, заменим тип данных на `int`."
   ]
  },
  {
   "cell_type": "code",
   "execution_count": 5,
   "metadata": {},
   "outputs": [],
   "source": [
    "# замена пропусков на 0 и типа на \"int\" в столбце \"balcony\"\n",
    "data['balcony'] = data['balcony'].fillna(value=0).astype(int)"
   ]
  },
  {
   "cell_type": "markdown",
   "metadata": {},
   "source": [
    "##### Высота потолков"
   ]
  },
  {
   "cell_type": "markdown",
   "metadata": {},
   "source": [
    "Оценим разброс значений в столбце `ceiling_height`."
   ]
  },
  {
   "cell_type": "code",
   "execution_count": 6,
   "metadata": {
    "scrolled": false
   },
   "outputs": [
    {
     "data": {
      "text/plain": [
       "count    14504.000000\n",
       "mean         2.771499\n",
       "std          1.261056\n",
       "min          1.000000\n",
       "25%          2.520000\n",
       "50%          2.650000\n",
       "75%          2.800000\n",
       "max        100.000000\n",
       "Name: ceiling_height, dtype: float64"
      ]
     },
     "execution_count": 6,
     "metadata": {},
     "output_type": "execute_result"
    }
   ],
   "source": [
    "# определение разброса значений по потолкам\n",
    "data['ceiling_height'].describe()"
   ]
  },
  {
   "cell_type": "code",
   "execution_count": 7,
   "metadata": {
    "scrolled": true
   },
   "outputs": [
    {
     "data": {
      "text/plain": [
       "2641"
      ]
     },
     "execution_count": 7,
     "metadata": {},
     "output_type": "execute_result"
    }
   ],
   "source": [
    "# квартиры с потолками выше 3 м\n",
    "sum(data['ceiling_height'] >=3)"
   ]
  },
  {
   "cell_type": "markdown",
   "metadata": {},
   "source": [
    "Так как разброс относительно небольшой (разница между 1-м и 3-м квартилем менее 30 см), заменим пропуски в столбцах медианой.\n",
    "\n",
    "Обратим внимание, что в данных встречаются аномалии - недвижимость с высотой потолков 1 м и 100 м. Вернемся к ним позднее."
   ]
  },
  {
   "cell_type": "code",
   "execution_count": 8,
   "metadata": {},
   "outputs": [
    {
     "data": {
      "text/html": [
       "<div>\n",
       "<style scoped>\n",
       "    .dataframe tbody tr th:only-of-type {\n",
       "        vertical-align: middle;\n",
       "    }\n",
       "\n",
       "    .dataframe tbody tr th {\n",
       "        vertical-align: top;\n",
       "    }\n",
       "\n",
       "    .dataframe thead th {\n",
       "        text-align: right;\n",
       "    }\n",
       "</style>\n",
       "<table border=\"1\" class=\"dataframe\">\n",
       "  <thead>\n",
       "    <tr style=\"text-align: right;\">\n",
       "      <th></th>\n",
       "      <th>min_height</th>\n",
       "      <th>max_height</th>\n",
       "      <th>mean_height</th>\n",
       "      <th>median_height</th>\n",
       "    </tr>\n",
       "    <tr>\n",
       "      <th>locality_name</th>\n",
       "      <th></th>\n",
       "      <th></th>\n",
       "      <th></th>\n",
       "      <th></th>\n",
       "    </tr>\n",
       "  </thead>\n",
       "  <tbody>\n",
       "    <tr>\n",
       "      <th>Бокситогорск</th>\n",
       "      <td>2.80</td>\n",
       "      <td>5.0</td>\n",
       "      <td>3.900000</td>\n",
       "      <td>3.90</td>\n",
       "    </tr>\n",
       "    <tr>\n",
       "      <th>Волосово</th>\n",
       "      <td>2.50</td>\n",
       "      <td>2.6</td>\n",
       "      <td>2.531579</td>\n",
       "      <td>2.50</td>\n",
       "    </tr>\n",
       "    <tr>\n",
       "      <th>Волхов</th>\n",
       "      <td>2.40</td>\n",
       "      <td>32.0</td>\n",
       "      <td>3.151207</td>\n",
       "      <td>2.58</td>\n",
       "    </tr>\n",
       "    <tr>\n",
       "      <th>Всеволожск</th>\n",
       "      <td>2.00</td>\n",
       "      <td>4.2</td>\n",
       "      <td>2.675625</td>\n",
       "      <td>2.70</td>\n",
       "    </tr>\n",
       "    <tr>\n",
       "      <th>Выборг</th>\n",
       "      <td>2.00</td>\n",
       "      <td>4.5</td>\n",
       "      <td>2.728776</td>\n",
       "      <td>2.55</td>\n",
       "    </tr>\n",
       "    <tr>\n",
       "      <th>...</th>\n",
       "      <td>...</td>\n",
       "      <td>...</td>\n",
       "      <td>...</td>\n",
       "      <td>...</td>\n",
       "    </tr>\n",
       "    <tr>\n",
       "      <th>село Путилово</th>\n",
       "      <td>2.50</td>\n",
       "      <td>2.6</td>\n",
       "      <td>2.550000</td>\n",
       "      <td>2.55</td>\n",
       "    </tr>\n",
       "    <tr>\n",
       "      <th>село Рождествено</th>\n",
       "      <td>NaN</td>\n",
       "      <td>NaN</td>\n",
       "      <td>NaN</td>\n",
       "      <td>NaN</td>\n",
       "    </tr>\n",
       "    <tr>\n",
       "      <th>село Русско-Высоцкое</th>\n",
       "      <td>2.55</td>\n",
       "      <td>2.6</td>\n",
       "      <td>2.580000</td>\n",
       "      <td>2.60</td>\n",
       "    </tr>\n",
       "    <tr>\n",
       "      <th>село Старая Ладога</th>\n",
       "      <td>NaN</td>\n",
       "      <td>NaN</td>\n",
       "      <td>NaN</td>\n",
       "      <td>NaN</td>\n",
       "    </tr>\n",
       "    <tr>\n",
       "      <th>село Шум</th>\n",
       "      <td>NaN</td>\n",
       "      <td>NaN</td>\n",
       "      <td>NaN</td>\n",
       "      <td>NaN</td>\n",
       "    </tr>\n",
       "  </tbody>\n",
       "</table>\n",
       "<p>364 rows × 4 columns</p>\n",
       "</div>"
      ],
      "text/plain": [
       "                      min_height  max_height  mean_height  median_height\n",
       "locality_name                                                           \n",
       "Бокситогорск                2.80         5.0     3.900000           3.90\n",
       "Волосово                    2.50         2.6     2.531579           2.50\n",
       "Волхов                      2.40        32.0     3.151207           2.58\n",
       "Всеволожск                  2.00         4.2     2.675625           2.70\n",
       "Выборг                      2.00         4.5     2.728776           2.55\n",
       "...                          ...         ...          ...            ...\n",
       "село Путилово               2.50         2.6     2.550000           2.55\n",
       "село Рождествено             NaN         NaN          NaN            NaN\n",
       "село Русско-Высоцкое        2.55         2.6     2.580000           2.60\n",
       "село Старая Ладога           NaN         NaN          NaN            NaN\n",
       "село Шум                     NaN         NaN          NaN            NaN\n",
       "\n",
       "[364 rows x 4 columns]"
      ]
     },
     "execution_count": 8,
     "metadata": {},
     "output_type": "execute_result"
    }
   ],
   "source": [
    "data.groupby('locality_name').agg(\n",
    "    min_height=('ceiling_height', 'min'),\n",
    "    max_height=('ceiling_height', 'max'),\n",
    "    mean_height=('ceiling_height', 'mean'),\n",
    "    median_height=('ceiling_height', 'median')\n",
    ")"
   ]
  },
  {
   "cell_type": "code",
   "execution_count": 9,
   "metadata": {},
   "outputs": [],
   "source": [
    "# замена пропусков высоты потолков медианами по местоположению:\n",
    "data['ceiling_height'].fillna(data.groupby('locality_name')['ceiling_height'].transform('median'), inplace=True)"
   ]
  },
  {
   "cell_type": "markdown",
   "metadata": {},
   "source": [
    "##### Сколько дней размещено объявление"
   ]
  },
  {
   "cell_type": "markdown",
   "metadata": {},
   "source": [
    "Для замены пропусков в столбце `days_exposition`, возьмем дату самой свежей публикации и добавим к ней среднее время, которое занимает продажа квартиры; заполним пропуски разницей между полученным значением и значением столбца `first_day_exposition`."
   ]
  },
  {
   "cell_type": "code",
   "execution_count": 10,
   "metadata": {
    "scrolled": true
   },
   "outputs": [
    {
     "data": {
      "text/plain": [
       "Timestamp('2019-05-03 00:00:00')"
      ]
     },
     "execution_count": 10,
     "metadata": {},
     "output_type": "execute_result"
    }
   ],
   "source": [
    "# самая свежая публикация\n",
    "data['first_day_exposition'].max()"
   ]
  },
  {
   "cell_type": "code",
   "execution_count": 11,
   "metadata": {},
   "outputs": [
    {
     "data": {
      "image/png": "[encoded data removed]",
      "text/plain": [
       "<Figure size 432x288 with 1 Axes>"
      ]
     },
     "metadata": {
      "needs_background": "light"
     },
     "output_type": "display_data"
    },
    {
     "data": {
      "text/plain": [
       "<AxesSubplot:>"
      ]
     },
     "execution_count": 11,
     "metadata": {},
     "output_type": "execute_result"
    },
    {
     "data": {
      "image/png": "[encoded data removed]",
      "text/plain": [
       "<Figure size 432x288 with 1 Axes>"
      ]
     },
     "metadata": {
      "needs_background": "light"
     },
     "output_type": "display_data"
    }
   ],
   "source": [
    "# разброс данных для оценки среднего времени продажи квартиры\n",
    "data['days_exposition'].hist(bins=50)\n",
    "plt.show()\n",
    "data['days_exposition'].hist(bins=50, range=(0, 800))"
   ]
  },
  {
   "cell_type": "markdown",
   "metadata": {},
   "source": [
    "В сроках продаж квартир наблюдается два пика, приблизительно на 50-ый и на 130-ый дни после публикации. Добавим два месяца к дате самой свежей публикации в датасете, вычтем из него значение столбца 'first_day_exposition' для квартир, которые еще не были проданы на момент составления датасета."
   ]
  },
  {
   "cell_type": "code",
   "execution_count": 12,
   "metadata": {},
   "outputs": [],
   "source": [
    "# заполнение пропусков в столбце \"days_exposition\"\n",
    "# добавим два месяца к дате последней публикации, вычтем разницу\n",
    "data['days_exposition'].fillna((dt.strptime('2019-07-03', '%Y-%m-%d') - data['first_day_exposition']).dt.days, inplace=True)"
   ]
  },
  {
   "cell_type": "markdown",
   "metadata": {},
   "source": [
    "##### Жилая площадь и площадь кухни"
   ]
  },
  {
   "cell_type": "code",
   "execution_count": 13,
   "metadata": {
    "scrolled": true
   },
   "outputs": [
    {
     "data": {
      "text/plain": [
       "count    21796.000000\n",
       "mean        34.457852\n",
       "std         22.030445\n",
       "min          2.000000\n",
       "25%         18.600000\n",
       "50%         30.000000\n",
       "75%         42.300000\n",
       "max        409.700000\n",
       "Name: living_area, dtype: float64"
      ]
     },
     "metadata": {},
     "output_type": "display_data"
    },
    {
     "name": "stdout",
     "output_type": "stream",
     "text": [
      "\n"
     ]
    },
    {
     "data": {
      "text/plain": [
       "count    21421.000000\n",
       "mean        10.569807\n",
       "std          5.905438\n",
       "min          1.300000\n",
       "25%          7.000000\n",
       "50%          9.100000\n",
       "75%         12.000000\n",
       "max        112.000000\n",
       "Name: kitchen_area, dtype: float64"
      ]
     },
     "execution_count": 13,
     "metadata": {},
     "output_type": "execute_result"
    }
   ],
   "source": [
    "# определение разброса значений по жилой площади и площади кухни\n",
    "display(data['living_area'].describe())\n",
    "print()\n",
    "data['kitchen_area'].describe()"
   ]
  },
  {
   "cell_type": "markdown",
   "metadata": {},
   "source": [
    "В обоих случаях слишком большой разброс в данных, медиана для заполнения пропусков не подходит.\n",
    "\n",
    "Сопоставим жилую площадь и площадь кухни с количеством комнат в квартире."
   ]
  },
  {
   "cell_type": "code",
   "execution_count": 14,
   "metadata": {},
   "outputs": [
    {
     "data": {
      "text/plain": [
       "1     8047\n",
       "2     7940\n",
       "3     5814\n",
       "4     1180\n",
       "5      326\n",
       "0      197\n",
       "6      105\n",
       "7       59\n",
       "8       12\n",
       "9        8\n",
       "10       3\n",
       "11       2\n",
       "14       2\n",
       "19       1\n",
       "16       1\n",
       "12       1\n",
       "15       1\n",
       "Name: rooms, dtype: int64"
      ]
     },
     "metadata": {},
     "output_type": "display_data"
    },
    {
     "data": {
      "text/plain": [
       "<AxesSubplot:>"
      ]
     },
     "execution_count": 14,
     "metadata": {},
     "output_type": "execute_result"
    },
    {
     "data": {
      "image/png": "[encoded data removed]",
      "text/plain": [
       "<Figure size 432x288 with 1 Axes>"
      ]
     },
     "metadata": {
      "needs_background": "light"
     },
     "output_type": "display_data"
    }
   ],
   "source": [
    "# оценим количество комнат квартир в датасете\n",
    "display(data['rooms'].value_counts(ascending=False))\n",
    "data['rooms'].hist(bins=30, range=(0, 15))"
   ]
  },
  {
   "cell_type": "markdown",
   "metadata": {},
   "source": [
    "Больше всего продается одно-, двух-, трех- и четырехкомнатных квартир. \n",
    "Составим сводные таблицы, где сопоставим количество  комнат с площадью кухни и жилой площадью. Рассчитаем среднее и медиану  для каждого случая."
   ]
  },
  {
   "cell_type": "code",
   "execution_count": 15,
   "metadata": {},
   "outputs": [
    {
     "data": {
      "text/html": [
       "<div>\n",
       "<style scoped>\n",
       "    .dataframe tbody tr th:only-of-type {\n",
       "        vertical-align: middle;\n",
       "    }\n",
       "\n",
       "    .dataframe tbody tr th {\n",
       "        vertical-align: top;\n",
       "    }\n",
       "\n",
       "    .dataframe thead th {\n",
       "        text-align: right;\n",
       "    }\n",
       "</style>\n",
       "<table border=\"1\" class=\"dataframe\">\n",
       "  <thead>\n",
       "    <tr style=\"text-align: right;\">\n",
       "      <th></th>\n",
       "      <th>kitchen_area</th>\n",
       "      <th>living_area</th>\n",
       "    </tr>\n",
       "    <tr>\n",
       "      <th>rooms</th>\n",
       "      <th></th>\n",
       "      <th></th>\n",
       "    </tr>\n",
       "  </thead>\n",
       "  <tbody>\n",
       "    <tr>\n",
       "      <th>0</th>\n",
       "      <td>NaN</td>\n",
       "      <td>18.865246</td>\n",
       "    </tr>\n",
       "    <tr>\n",
       "      <th>1</th>\n",
       "      <td>9.550118</td>\n",
       "      <td>17.893552</td>\n",
       "    </tr>\n",
       "    <tr>\n",
       "      <th>2</th>\n",
       "      <td>9.979584</td>\n",
       "      <td>31.736849</td>\n",
       "    </tr>\n",
       "    <tr>\n",
       "      <th>3</th>\n",
       "      <td>11.308580</td>\n",
       "      <td>47.387941</td>\n",
       "    </tr>\n",
       "    <tr>\n",
       "      <th>4</th>\n",
       "      <td>13.664033</td>\n",
       "      <td>66.983223</td>\n",
       "    </tr>\n",
       "    <tr>\n",
       "      <th>5</th>\n",
       "      <td>18.367649</td>\n",
       "      <td>100.009247</td>\n",
       "    </tr>\n",
       "    <tr>\n",
       "      <th>6</th>\n",
       "      <td>21.048763</td>\n",
       "      <td>130.983636</td>\n",
       "    </tr>\n",
       "    <tr>\n",
       "      <th>7</th>\n",
       "      <td>21.998077</td>\n",
       "      <td>163.564151</td>\n",
       "    </tr>\n",
       "    <tr>\n",
       "      <th>8</th>\n",
       "      <td>24.866667</td>\n",
       "      <td>168.683333</td>\n",
       "    </tr>\n",
       "    <tr>\n",
       "      <th>9</th>\n",
       "      <td>25.071429</td>\n",
       "      <td>190.257143</td>\n",
       "    </tr>\n",
       "    <tr>\n",
       "      <th>10</th>\n",
       "      <td>22.866667</td>\n",
       "      <td>165.566667</td>\n",
       "    </tr>\n",
       "    <tr>\n",
       "      <th>11</th>\n",
       "      <td>12.600000</td>\n",
       "      <td>133.900000</td>\n",
       "    </tr>\n",
       "    <tr>\n",
       "      <th>12</th>\n",
       "      <td>112.000000</td>\n",
       "      <td>409.700000</td>\n",
       "    </tr>\n",
       "    <tr>\n",
       "      <th>14</th>\n",
       "      <td>21.250000</td>\n",
       "      <td>195.150000</td>\n",
       "    </tr>\n",
       "    <tr>\n",
       "      <th>15</th>\n",
       "      <td>100.000000</td>\n",
       "      <td>409.000000</td>\n",
       "    </tr>\n",
       "    <tr>\n",
       "      <th>16</th>\n",
       "      <td>13.000000</td>\n",
       "      <td>180.000000</td>\n",
       "    </tr>\n",
       "    <tr>\n",
       "      <th>19</th>\n",
       "      <td>27.600000</td>\n",
       "      <td>264.500000</td>\n",
       "    </tr>\n",
       "  </tbody>\n",
       "</table>\n",
       "</div>"
      ],
      "text/plain": [
       "       kitchen_area  living_area\n",
       "rooms                           \n",
       "0               NaN    18.865246\n",
       "1          9.550118    17.893552\n",
       "2          9.979584    31.736849\n",
       "3         11.308580    47.387941\n",
       "4         13.664033    66.983223\n",
       "5         18.367649   100.009247\n",
       "6         21.048763   130.983636\n",
       "7         21.998077   163.564151\n",
       "8         24.866667   168.683333\n",
       "9         25.071429   190.257143\n",
       "10        22.866667   165.566667\n",
       "11        12.600000   133.900000\n",
       "12       112.000000   409.700000\n",
       "14        21.250000   195.150000\n",
       "15       100.000000   409.000000\n",
       "16        13.000000   180.000000\n",
       "19        27.600000   264.500000"
      ]
     },
     "metadata": {},
     "output_type": "display_data"
    },
    {
     "data": {
      "text/html": [
       "<div>\n",
       "<style scoped>\n",
       "    .dataframe tbody tr th:only-of-type {\n",
       "        vertical-align: middle;\n",
       "    }\n",
       "\n",
       "    .dataframe tbody tr th {\n",
       "        vertical-align: top;\n",
       "    }\n",
       "\n",
       "    .dataframe thead th {\n",
       "        text-align: right;\n",
       "    }\n",
       "</style>\n",
       "<table border=\"1\" class=\"dataframe\">\n",
       "  <thead>\n",
       "    <tr style=\"text-align: right;\">\n",
       "      <th></th>\n",
       "      <th>kitchen_area</th>\n",
       "      <th>living_area</th>\n",
       "    </tr>\n",
       "    <tr>\n",
       "      <th>rooms</th>\n",
       "      <th></th>\n",
       "      <th></th>\n",
       "    </tr>\n",
       "  </thead>\n",
       "  <tbody>\n",
       "    <tr>\n",
       "      <th>0</th>\n",
       "      <td>NaN</td>\n",
       "      <td>18.000</td>\n",
       "    </tr>\n",
       "    <tr>\n",
       "      <th>1</th>\n",
       "      <td>9.04</td>\n",
       "      <td>17.600</td>\n",
       "    </tr>\n",
       "    <tr>\n",
       "      <th>2</th>\n",
       "      <td>8.80</td>\n",
       "      <td>30.500</td>\n",
       "    </tr>\n",
       "    <tr>\n",
       "      <th>3</th>\n",
       "      <td>9.50</td>\n",
       "      <td>45.000</td>\n",
       "    </tr>\n",
       "    <tr>\n",
       "      <th>4</th>\n",
       "      <td>11.10</td>\n",
       "      <td>63.600</td>\n",
       "    </tr>\n",
       "    <tr>\n",
       "      <th>5</th>\n",
       "      <td>15.10</td>\n",
       "      <td>91.785</td>\n",
       "    </tr>\n",
       "    <tr>\n",
       "      <th>6</th>\n",
       "      <td>19.50</td>\n",
       "      <td>123.900</td>\n",
       "    </tr>\n",
       "    <tr>\n",
       "      <th>7</th>\n",
       "      <td>20.00</td>\n",
       "      <td>145.000</td>\n",
       "    </tr>\n",
       "    <tr>\n",
       "      <th>8</th>\n",
       "      <td>25.00</td>\n",
       "      <td>161.000</td>\n",
       "    </tr>\n",
       "    <tr>\n",
       "      <th>9</th>\n",
       "      <td>14.30</td>\n",
       "      <td>179.200</td>\n",
       "    </tr>\n",
       "    <tr>\n",
       "      <th>10</th>\n",
       "      <td>19.80</td>\n",
       "      <td>161.400</td>\n",
       "    </tr>\n",
       "    <tr>\n",
       "      <th>11</th>\n",
       "      <td>12.60</td>\n",
       "      <td>133.900</td>\n",
       "    </tr>\n",
       "    <tr>\n",
       "      <th>12</th>\n",
       "      <td>112.00</td>\n",
       "      <td>409.700</td>\n",
       "    </tr>\n",
       "    <tr>\n",
       "      <th>14</th>\n",
       "      <td>21.25</td>\n",
       "      <td>195.150</td>\n",
       "    </tr>\n",
       "    <tr>\n",
       "      <th>15</th>\n",
       "      <td>100.00</td>\n",
       "      <td>409.000</td>\n",
       "    </tr>\n",
       "    <tr>\n",
       "      <th>16</th>\n",
       "      <td>13.00</td>\n",
       "      <td>180.000</td>\n",
       "    </tr>\n",
       "    <tr>\n",
       "      <th>19</th>\n",
       "      <td>27.60</td>\n",
       "      <td>264.500</td>\n",
       "    </tr>\n",
       "  </tbody>\n",
       "</table>\n",
       "</div>"
      ],
      "text/plain": [
       "       kitchen_area  living_area\n",
       "rooms                           \n",
       "0               NaN       18.000\n",
       "1              9.04       17.600\n",
       "2              8.80       30.500\n",
       "3              9.50       45.000\n",
       "4             11.10       63.600\n",
       "5             15.10       91.785\n",
       "6             19.50      123.900\n",
       "7             20.00      145.000\n",
       "8             25.00      161.000\n",
       "9             14.30      179.200\n",
       "10            19.80      161.400\n",
       "11            12.60      133.900\n",
       "12           112.00      409.700\n",
       "14            21.25      195.150\n",
       "15           100.00      409.000\n",
       "16            13.00      180.000\n",
       "19            27.60      264.500"
      ]
     },
     "execution_count": 15,
     "metadata": {},
     "output_type": "execute_result"
    }
   ],
   "source": [
    "# сводная таблица для соотношения кол-ва комнат, общей площади и площади кухни\n",
    "display(pd.pivot_table(data, index='rooms', values=['living_area', 'kitchen_area'], aggfunc='mean'))\n",
    "rooms_area_pivot = pd.pivot_table(data, index='rooms', values=['living_area', 'kitchen_area'], aggfunc='median')\n",
    "rooms_area_pivot"
   ]
  },
  {
   "cell_type": "markdown",
   "metadata": {},
   "source": [
    "Мы видим, что медиана и среднее по квартирам с 1, 2, 3, 4 и 5 комнатами отличаются не сильно. Заполним пропуски в соответствующих столбцах медианным значением."
   ]
  },
  {
   "cell_type": "code",
   "execution_count": 16,
   "metadata": {
    "scrolled": false
   },
   "outputs": [
    {
     "name": "stdout",
     "output_type": "stream",
     "text": [
      "rooms 1 : 659\n",
      "rooms 2 : 644\n",
      "rooms 3 : 448\n",
      "rooms 4 : 91\n"
     ]
    }
   ],
   "source": [
    "# определим, сколько пропусков в жилой площади содержится по каждой из комнат\n",
    "for i in range(1, 5):\n",
    "    print('rooms', i, ':', data[data['rooms'] == i]['living_area'].isna().sum())\n"
   ]
  },
  {
   "cell_type": "code",
   "execution_count": null,
   "metadata": {},
   "outputs": [],
   "source": []
  },
  {
   "cell_type": "code",
   "execution_count": 17,
   "metadata": {},
   "outputs": [],
   "source": [
    "# заполнение пропусков жилой площади медианой в соответствии с кол-вом комнат\n",
    "list_median_la = {1 : rooms_area_pivot.loc[1, 'living_area'], 2 : rooms_area_pivot.loc[2, 'living_area'], 3: rooms_area_pivot.loc[3, 'living_area'], 4: rooms_area_pivot.loc[4, 'living_area']}\n",
    "for i in list_median_la:\n",
    "    #print(list_median_la[i])\n",
    "    data[data['rooms'] == i]['living_area'].fillna(list_median_la[i])"
   ]
  },
  {
   "cell_type": "code",
   "execution_count": 18,
   "metadata": {},
   "outputs": [
    {
     "name": "stdout",
     "output_type": "stream",
     "text": [
      "rooms 1 : 834\n",
      "rooms 2 : 654\n",
      "rooms 3 : 434\n",
      "rooms 4 : 99\n"
     ]
    }
   ],
   "source": [
    "# определим, сколько пропусков площади кухни содержится по каждой из комнат\n",
    "for i in range(1, 5):\n",
    "    print ('rooms', i, ':', data[data['rooms'] == i]['kitchen_area'].isna().sum())"
   ]
  },
  {
   "cell_type": "code",
   "execution_count": 19,
   "metadata": {},
   "outputs": [],
   "source": [
    "# заполнение пропусков площади кухни медианой в соответствии с кол-вом комнат\n",
    "list_median_ka = {1 : rooms_area_pivot.loc[1, 'kitchen_area'], 2 : rooms_area_pivot.loc[2, 'kitchen_area'], 3: rooms_area_pivot.loc[3, 'kitchen_area'], 4: rooms_area_pivot.loc[4, 'kitchen_area']}\n",
    "for i in list_median_la:\n",
    "    data[data['rooms'] == i]['kitchen_area'].fillna(list_median_la[i])"
   ]
  },
  {
   "cell_type": "markdown",
   "metadata": {},
   "source": [
    "##### Количество этажей в доме"
   ]
  },
  {
   "cell_type": "code",
   "execution_count": 20,
   "metadata": {
    "scrolled": true
   },
   "outputs": [
    {
     "data": {
      "text/plain": [
       "86"
      ]
     },
     "execution_count": 20,
     "metadata": {},
     "output_type": "execute_result"
    }
   ],
   "source": [
    "# удаление пропусков и замена типа на \"int \"в столбце \"floors_total\"\n",
    "data['floors_total'].isna().sum()"
   ]
  },
  {
   "cell_type": "markdown",
   "metadata": {},
   "source": [
    "Количество пропущенных значений незначительно, эти данные можно удалить."
   ]
  },
  {
   "cell_type": "code",
   "execution_count": 21,
   "metadata": {
    "scrolled": true
   },
   "outputs": [],
   "source": [
    "data = data.dropna(subset=['floors_total'])"
   ]
  },
  {
   "cell_type": "code",
   "execution_count": 22,
   "metadata": {},
   "outputs": [
    {
     "data": {
      "text/plain": [
       "0        16\n",
       "1        11\n",
       "2         5\n",
       "3        14\n",
       "4        14\n",
       "         ..\n",
       "23694     5\n",
       "23695     5\n",
       "23696     3\n",
       "23697    17\n",
       "23698     5\n",
       "Name: floors_total, Length: 23613, dtype: int64"
      ]
     },
     "execution_count": 22,
     "metadata": {},
     "output_type": "execute_result"
    }
   ],
   "source": [
    "data['floors_total'].astype(int)"
   ]
  },
  {
   "cell_type": "markdown",
   "metadata": {},
   "source": [
    "##### Расстояние до центра"
   ]
  },
  {
   "cell_type": "code",
   "execution_count": 23,
   "metadata": {},
   "outputs": [
    {
     "data": {
      "text/plain": [
       "5509"
      ]
     },
     "execution_count": 23,
     "metadata": {},
     "output_type": "execute_result"
    }
   ],
   "source": [
    "# поиск пропусков в столбце \"cityCenters_nearest\"\n",
    "data['cityCenters_nearest'].isna().sum()"
   ]
  },
  {
   "cell_type": "code",
   "execution_count": 24,
   "metadata": {},
   "outputs": [
    {
     "data": {
      "text/plain": [
       "60"
      ]
     },
     "execution_count": 24,
     "metadata": {},
     "output_type": "execute_result"
    }
   ],
   "source": [
    "# поиск пропусков в значениях \"Санкт-Петербург\" столбца \"cityCenters_nearest\"\n",
    "data.loc[data.loc[:, 'locality_name'] == 'Санкт-Петербург']['cityCenters_nearest'].isna().sum()"
   ]
  },
  {
   "cell_type": "markdown",
   "metadata": {},
   "source": [
    "Количество пропусков в столбце 'cityCenters_nearest' для квартир, расположенных в Санкт-Петербурге (эти данные понадобятся позже) незначительно, их можно проигнорировать."
   ]
  },
  {
   "cell_type": "markdown",
   "metadata": {},
   "source": [
    "#### Выводы\n",
    "В нужных для дальнейшей работы столбцах `ceiling_height`, `kithen_area`, `living_area` и `days_exposition`, где встретилось значительное (больше 10%) количество пропусков, были произведены соответствующие замены.\n",
    "Отсутствующие значения в столбце `is_apartment` были заменены на `False`, в `balcony`  - на ноль.\n",
    "Столбец `cityCenters_nearest` понадобится в дальнейшем не полностью, из него мы возьмем только квартиры, выставленные на продажу в Санкт-Петербурге. Среди этих значений доля пропусков менее 1%, их можно проигнорировать."
   ]
  },
  {
   "cell_type": "code",
   "execution_count": 25,
   "metadata": {},
   "outputs": [
    {
     "data": {
      "text/plain": [
       "0        16028.0\n",
       "2        13933.0\n",
       "3         6800.0\n",
       "4         8098.0\n",
       "7        11634.0\n",
       "          ...   \n",
       "23689    16081.0\n",
       "23690     6263.0\n",
       "23691     4489.0\n",
       "23694     4232.0\n",
       "23697    10364.0\n",
       "Name: cityCenters_nearest, Length: 15651, dtype: float64"
      ]
     },
     "execution_count": 25,
     "metadata": {},
     "output_type": "execute_result"
    }
   ],
   "source": [
    "piter = data.loc[data.loc[:, 'locality_name'] == 'Санкт-Петербург']['cityCenters_nearest']\n",
    "piter"
   ]
  },
  {
   "cell_type": "markdown",
   "metadata": {},
   "source": [
    "# Преобразование типов данных"
   ]
  },
  {
   "cell_type": "markdown",
   "metadata": {},
   "source": [
    "В некоторых столбцах нецелесообразно использовать тип данных `float`, так как речь идет либо о целых значениях (количество балконов или этажей), либо о крупных суммах (сотни тысяч и миллионы рублей), где копейки не влияют на конечные выводы.\n",
    "Типы столбцов `floors_total` и `balcony` были преобразованы из `float` в `int` ранее. Преобразуем тип столбца `last_price`."
   ]
  },
  {
   "cell_type": "code",
   "execution_count": 26,
   "metadata": {},
   "outputs": [],
   "source": [
    "# преобразование столбца \"last_price\" из float в int\n",
    "data['last_price'] = data['last_price'].astype(int)"
   ]
  },
  {
   "cell_type": "markdown",
   "metadata": {},
   "source": [
    "## Расчёты и добавление результатов в таблицу"
   ]
  },
  {
   "cell_type": "code",
   "execution_count": 27,
   "metadata": {},
   "outputs": [],
   "source": [
    "# добавление в датафрейм столбца с ценой за кв.метр\n",
    "data['price_per_meter'] = data['last_price'] / data['total_area']"
   ]
  },
  {
   "cell_type": "code",
   "execution_count": 28,
   "metadata": {},
   "outputs": [],
   "source": [
    "# добавляем в датафрейм день недели, месяц и год публикации объявления\n",
    "data['day_of_week'] = data['first_day_exposition'].dt.dayofweek\n",
    "data['month'] = data['first_day_exposition'].dt.month\n",
    "data['year'] = data['first_day_exposition'].dt.year"
   ]
  },
  {
   "cell_type": "code",
   "execution_count": 29,
   "metadata": {},
   "outputs": [],
   "source": [
    "# добавляем в датафрейм этаж (первый, последний, другой)\n",
    "def floor_name(row):    \n",
    "        if row['floor'] == 1:\n",
    "            return 'первый'\n",
    "        elif row['floor'] == row['floors_total']:\n",
    "            return 'последний'\n",
    "        else:\n",
    "            return 'другой'\n",
    "\n",
    "data['floor_name'] = data.apply(floor_name, axis=1)"
   ]
  },
  {
   "cell_type": "code",
   "execution_count": 30,
   "metadata": {},
   "outputs": [],
   "source": [
    "# соотношение жилой площади к общей\n",
    "# соотношение площади кухни к общей\n",
    "data['ratio_la'] = data['living_area'] / data['total_area']\n",
    "data['ratio_kitchen'] = data['kitchen_area'] / data['total_area']"
   ]
  },
  {
   "cell_type": "markdown",
   "metadata": {},
   "source": [
    "# Исследовательский анализ данных"
   ]
  },
  {
   "cell_type": "markdown",
   "metadata": {},
   "source": [
    "### Задачи\n",
    "\n",
    "1. Изучим параметры:  площадь, цена, число комнат, высота потолков.\n",
    "2. Изучим время продажи квартиры.\n",
    "3. Изучим и уберем аномальные значения\n",
    "4. Изучим зависимость цены от площади, числа комнат, удалённости от центра; от того, на каком этаже расположена квартира; от даты размещения: дня недели, месяца и года.\n",
    "5. Выберем 10 населённых пунктов с наибольшим числом объявлений. Посчитаем среднюю цену квадратного метра в этих населённых пунктах. Выделим среди них населённые пункты с самой высокой и низкой стоимостью жилья.\n",
    "6. Выделим квартиры, расположенные в центре Санкт-Петербруга. Изучим параметры квартир в центре: площадь, цена, число комнат, высота потолков. Изучим факторы, влияющие на цену квартир в центре: число комнат, этаж, удалённость от центра, дата размещения объявления.\n",
    "7. Сравним квартиры в центре и за его пределами по ряду выделенных параметров."
   ]
  },
  {
   "cell_type": "markdown",
   "metadata": {},
   "source": [
    "### Параметры квартиры"
   ]
  },
  {
   "cell_type": "code",
   "execution_count": 31,
   "metadata": {},
   "outputs": [
    {
     "data": {
      "text/plain": [
       "array([[<AxesSubplot:title={'center':'total_area'}>]], dtype=object)"
      ]
     },
     "execution_count": 31,
     "metadata": {},
     "output_type": "execute_result"
    },
    {
     "data": {
      "image/png": "[encoded data removed]",
      "text/plain": [
       "<Figure size 432x288 with 1 Axes>"
      ]
     },
     "metadata": {
      "needs_background": "light"
     },
     "output_type": "display_data"
    }
   ],
   "source": [
    "# площадь квартиры\n",
    "data.hist(column='total_area', bins=30, range=(0, 300))"
   ]
  },
  {
   "cell_type": "code",
   "execution_count": 32,
   "metadata": {
    "scrolled": true
   },
   "outputs": [
    {
     "data": {
      "text/plain": [
       "array([[<AxesSubplot:title={'center':'last_price'}>]], dtype=object)"
      ]
     },
     "execution_count": 32,
     "metadata": {},
     "output_type": "execute_result"
    },
    {
     "data": {
      "image/png": "[encoded data removed]",
      "text/plain": [
       "<Figure size 432x288 with 1 Axes>"
      ]
     },
     "metadata": {
      "needs_background": "light"
     },
     "output_type": "display_data"
    }
   ],
   "source": [
    "# цена квартиры\n",
    "data.hist(column='last_price', bins=30, range=(0, 30000000))"
   ]
  },
  {
   "cell_type": "code",
   "execution_count": 33,
   "metadata": {},
   "outputs": [
    {
     "data": {
      "text/plain": [
       "4500000     341\n",
       "3500000     291\n",
       "4000000     260\n",
       "4300000     260\n",
       "4200000     259\n",
       "           ... \n",
       "5535000       1\n",
       "26391824      1\n",
       "8353000       1\n",
       "7501000       1\n",
       "11615600      1\n",
       "Name: last_price, Length: 2939, dtype: int64"
      ]
     },
     "execution_count": 33,
     "metadata": {},
     "output_type": "execute_result"
    }
   ],
   "source": [
    "data['last_price'].value_counts()"
   ]
  },
  {
   "cell_type": "code",
   "execution_count": 34,
   "metadata": {
    "scrolled": false
   },
   "outputs": [
    {
     "data": {
      "text/plain": [
       "<AxesSubplot:>"
      ]
     },
     "execution_count": 34,
     "metadata": {},
     "output_type": "execute_result"
    },
    {
     "data": {
      "image/png": "[encoded data removed]",
      "text/plain": [
       "<Figure size 432x288 with 1 Axes>"
      ]
     },
     "metadata": {
      "needs_background": "light"
     },
     "output_type": "display_data"
    }
   ],
   "source": [
    "# число комнат\n",
    "data['rooms'].hist(bins=30, range=(0, 15))"
   ]
  },
  {
   "cell_type": "code",
   "execution_count": 35,
   "metadata": {},
   "outputs": [
    {
     "data": {
      "text/plain": [
       "1     8015\n",
       "2     7913\n",
       "3     5795\n",
       "4     1177\n",
       "5      325\n",
       "0      194\n",
       "6      104\n",
       "7       59\n",
       "8       12\n",
       "9        8\n",
       "10       3\n",
       "11       2\n",
       "14       2\n",
       "19       1\n",
       "16       1\n",
       "12       1\n",
       "15       1\n",
       "Name: rooms, dtype: int64"
      ]
     },
     "execution_count": 35,
     "metadata": {},
     "output_type": "execute_result"
    }
   ],
   "source": [
    "data['rooms'].value_counts()"
   ]
  },
  {
   "cell_type": "code",
   "execution_count": 36,
   "metadata": {
    "scrolled": false
   },
   "outputs": [
    {
     "data": {
      "text/plain": [
       "<AxesSubplot:>"
      ]
     },
     "execution_count": 36,
     "metadata": {},
     "output_type": "execute_result"
    },
    {
     "data": {
      "image/png": "[encoded data removed]",
      "text/plain": [
       "<Figure size 432x288 with 1 Axes>"
      ]
     },
     "metadata": {
      "needs_background": "light"
     },
     "output_type": "display_data"
    }
   ],
   "source": [
    "# высота потолков\n",
    "data['ceiling_height'].hist(bins=50, range=(2, 4.5))"
   ]
  },
  {
   "cell_type": "code",
   "execution_count": 37,
   "metadata": {},
   "outputs": [
    {
     "data": {
      "text/html": [
       "<div>\n",
       "<style scoped>\n",
       "    .dataframe tbody tr th:only-of-type {\n",
       "        vertical-align: middle;\n",
       "    }\n",
       "\n",
       "    .dataframe tbody tr th {\n",
       "        vertical-align: top;\n",
       "    }\n",
       "\n",
       "    .dataframe thead th {\n",
       "        text-align: right;\n",
       "    }\n",
       "</style>\n",
       "<table border=\"1\" class=\"dataframe\">\n",
       "  <thead>\n",
       "    <tr style=\"text-align: right;\">\n",
       "      <th></th>\n",
       "      <th>count</th>\n",
       "      <th>mean</th>\n",
       "      <th>std</th>\n",
       "      <th>min</th>\n",
       "      <th>25%</th>\n",
       "      <th>50%</th>\n",
       "      <th>75%</th>\n",
       "      <th>max</th>\n",
       "    </tr>\n",
       "  </thead>\n",
       "  <tbody>\n",
       "    <tr>\n",
       "      <th>total_area</th>\n",
       "      <td>23613.0</td>\n",
       "      <td>6.034068e+01</td>\n",
       "      <td>3.564899e+01</td>\n",
       "      <td>12.0</td>\n",
       "      <td>40.00</td>\n",
       "      <td>52.0</td>\n",
       "      <td>69.8</td>\n",
       "      <td>900.0</td>\n",
       "    </tr>\n",
       "    <tr>\n",
       "      <th>last_price</th>\n",
       "      <td>23613.0</td>\n",
       "      <td>6.540555e+06</td>\n",
       "      <td>1.090172e+07</td>\n",
       "      <td>12190.0</td>\n",
       "      <td>3400000.00</td>\n",
       "      <td>4650000.0</td>\n",
       "      <td>6799000.0</td>\n",
       "      <td>763000000.0</td>\n",
       "    </tr>\n",
       "    <tr>\n",
       "      <th>rooms</th>\n",
       "      <td>23613.0</td>\n",
       "      <td>2.071147e+00</td>\n",
       "      <td>1.078380e+00</td>\n",
       "      <td>0.0</td>\n",
       "      <td>1.00</td>\n",
       "      <td>2.0</td>\n",
       "      <td>3.0</td>\n",
       "      <td>19.0</td>\n",
       "    </tr>\n",
       "    <tr>\n",
       "      <th>ceiling_height</th>\n",
       "      <td>23459.0</td>\n",
       "      <td>2.734208e+00</td>\n",
       "      <td>1.014529e+00</td>\n",
       "      <td>1.0</td>\n",
       "      <td>2.55</td>\n",
       "      <td>2.7</td>\n",
       "      <td>2.7</td>\n",
       "      <td>100.0</td>\n",
       "    </tr>\n",
       "  </tbody>\n",
       "</table>\n",
       "</div>"
      ],
      "text/plain": [
       "                  count          mean           std      min         25%  \\\n",
       "total_area      23613.0  6.034068e+01  3.564899e+01     12.0       40.00   \n",
       "last_price      23613.0  6.540555e+06  1.090172e+07  12190.0  3400000.00   \n",
       "rooms           23613.0  2.071147e+00  1.078380e+00      0.0        1.00   \n",
       "ceiling_height  23459.0  2.734208e+00  1.014529e+00      1.0        2.55   \n",
       "\n",
       "                      50%        75%          max  \n",
       "total_area           52.0       69.8        900.0  \n",
       "last_price      4650000.0  6799000.0  763000000.0  \n",
       "rooms                 2.0        3.0         19.0  \n",
       "ceiling_height        2.7        2.7        100.0  "
      ]
     },
     "execution_count": 37,
     "metadata": {},
     "output_type": "execute_result"
    }
   ],
   "source": [
    "data[['total_area', 'last_price', 'rooms', 'ceiling_height']].describe().T"
   ]
  },
  {
   "cell_type": "markdown",
   "metadata": {},
   "source": [
    "***Выводы***\n",
    "\n",
    "- На графиках мы видим, что больше всего продается квартир небольшой площади (30-70 кв.м.); квартиры более 100 кв.м. являются редкостью.\n",
    "- Больше всего квартир продается в ценовом сегмента от 3 до 7 млн., квартиры дороже 10 млн встречаются в датасете редко. На нижней границе встречается аномалия - цена в 12190 р.\n",
    "- Преобладают квартиры одно- и двухкомнатные, несколько меньше в продаже трехкомнатных квартир; квартиры с 6 комнатами и более являются исключением.\n",
    "- Стандартная высота потолков для продаваемых квартир - 2,5 м, 2,7 м (большинство квартир), изредка встречаются квартиры с потолками 3 м. Квартиры с потолками от 3 до 4 м в датасете присутствуют, но их мало. Есть выбросы - потолки в 1 метр и 100 метров. Они будут обработаны ниже."
   ]
  },
  {
   "cell_type": "markdown",
   "metadata": {},
   "source": [
    "##### Сколько времени было размещено объявление"
   ]
  },
  {
   "cell_type": "code",
   "execution_count": 38,
   "metadata": {},
   "outputs": [
    {
     "data": {
      "text/plain": [
       "count    23613.000000\n",
       "mean       194.068310\n",
       "std        235.467036\n",
       "min          1.000000\n",
       "25%         45.000000\n",
       "50%        105.000000\n",
       "75%        247.000000\n",
       "max       1679.000000\n",
       "Name: days_exposition, dtype: float64"
      ]
     },
     "execution_count": 38,
     "metadata": {},
     "output_type": "execute_result"
    },
    {
     "data": {
      "image/png": "[encoded data removed]",
      "text/plain": [
       "<Figure size 432x288 with 1 Axes>"
      ]
     },
     "metadata": {
      "needs_background": "light"
     },
     "output_type": "display_data"
    }
   ],
   "source": [
    "# время продажи квартиры\n",
    "data['days_exposition'].hist(bins=30)\n",
    "data['days_exposition'].describe()"
   ]
  },
  {
   "cell_type": "code",
   "execution_count": 39,
   "metadata": {
    "scrolled": true
   },
   "outputs": [
    {
     "data": {
      "text/plain": [
       "<AxesSubplot:>"
      ]
     },
     "execution_count": 39,
     "metadata": {},
     "output_type": "execute_result"
    },
    {
     "data": {
      "image/png": "[encoded data removed]",
      "text/plain": [
       "<Figure size 432x288 with 1 Axes>"
      ]
     },
     "metadata": {
      "needs_background": "light"
     },
     "output_type": "display_data"
    }
   ],
   "source": [
    "# редкие и выбивающиеся значения \n",
    "data.boxplot(column='days_exposition')"
   ]
  },
  {
   "cell_type": "markdown",
   "metadata": {},
   "source": [
    "***Выводы***\n",
    "\n",
    "Чаще всего квартиры продаются через 2,5-3 месяца после подачи объявления. Около четверти квартир датасета продаются за первые 1,5 месяца, еще четверть остаются в продаже от 8 до 9 месяцев. Встречаются выбросы - продажа за один день и ряд объявлений, не снимавшихся на протяжении 600-1750 дней.\n",
    "Можно считать, что быстрая продажа квартиры - это менее, чем за 1,5 месяца, а долгая - от 9 месяцев и больше."
   ]
  },
  {
   "cell_type": "markdown",
   "metadata": {},
   "source": [
    "### Выбросы и аномалии"
   ]
  },
  {
   "cell_type": "code",
   "execution_count": 40,
   "metadata": {
    "scrolled": true
   },
   "outputs": [
    {
     "data": {
      "text/html": [
       "<div>\n",
       "<style scoped>\n",
       "    .dataframe tbody tr th:only-of-type {\n",
       "        vertical-align: middle;\n",
       "    }\n",
       "\n",
       "    .dataframe tbody tr th {\n",
       "        vertical-align: top;\n",
       "    }\n",
       "\n",
       "    .dataframe thead th {\n",
       "        text-align: right;\n",
       "    }\n",
       "</style>\n",
       "<table border=\"1\" class=\"dataframe\">\n",
       "  <thead>\n",
       "    <tr style=\"text-align: right;\">\n",
       "      <th></th>\n",
       "      <th>min</th>\n",
       "      <th>max</th>\n",
       "    </tr>\n",
       "  </thead>\n",
       "  <tbody>\n",
       "    <tr>\n",
       "      <th>total_area</th>\n",
       "      <td>12.0</td>\n",
       "      <td>900.0</td>\n",
       "    </tr>\n",
       "    <tr>\n",
       "      <th>last_price</th>\n",
       "      <td>12190.0</td>\n",
       "      <td>763000000.0</td>\n",
       "    </tr>\n",
       "    <tr>\n",
       "      <th>rooms</th>\n",
       "      <td>0.0</td>\n",
       "      <td>19.0</td>\n",
       "    </tr>\n",
       "    <tr>\n",
       "      <th>ceiling_height</th>\n",
       "      <td>1.0</td>\n",
       "      <td>100.0</td>\n",
       "    </tr>\n",
       "  </tbody>\n",
       "</table>\n",
       "</div>"
      ],
      "text/plain": [
       "                    min          max\n",
       "total_area         12.0        900.0\n",
       "last_price      12190.0  763000000.0\n",
       "rooms               0.0         19.0\n",
       "ceiling_height      1.0        100.0"
      ]
     },
     "execution_count": 40,
     "metadata": {},
     "output_type": "execute_result"
    }
   ],
   "source": [
    "# максимальные и минимальные значения выбранных параметров\n",
    "data[['total_area', 'last_price', 'rooms', 'ceiling_height']].describe().loc[['min','max']].T"
   ]
  },
  {
   "cell_type": "markdown",
   "metadata": {},
   "source": [
    "В том, что касается общей площади, минимальные значения представляются реальными данными: существуют как квартиры-студии площадью 12-15 кв.м., так и многоэтажные квартиры/пентхаусы с площадью свыше 500 кв.м."
   ]
  },
  {
   "cell_type": "code",
   "execution_count": 41,
   "metadata": {},
   "outputs": [
    {
     "data": {
      "text/html": [
       "<div>\n",
       "<style scoped>\n",
       "    .dataframe tbody tr th:only-of-type {\n",
       "        vertical-align: middle;\n",
       "    }\n",
       "\n",
       "    .dataframe tbody tr th {\n",
       "        vertical-align: top;\n",
       "    }\n",
       "\n",
       "    .dataframe thead th {\n",
       "        text-align: right;\n",
       "    }\n",
       "</style>\n",
       "<table border=\"1\" class=\"dataframe\">\n",
       "  <thead>\n",
       "    <tr style=\"text-align: right;\">\n",
       "      <th></th>\n",
       "      <th>total_images</th>\n",
       "      <th>last_price</th>\n",
       "      <th>total_area</th>\n",
       "      <th>first_day_exposition</th>\n",
       "      <th>rooms</th>\n",
       "      <th>ceiling_height</th>\n",
       "      <th>floors_total</th>\n",
       "      <th>living_area</th>\n",
       "      <th>floor</th>\n",
       "      <th>is_apartment</th>\n",
       "      <th>studio</th>\n",
       "      <th>open_plan</th>\n",
       "      <th>kitchen_area</th>\n",
       "      <th>balcony</th>\n",
       "      <th>locality_name</th>\n",
       "      <th>airports_nearest</th>\n",
       "      <th>cityCenters_nearest</th>\n",
       "      <th>parks_around3000</th>\n",
       "      <th>parks_nearest</th>\n",
       "      <th>ponds_around3000</th>\n",
       "      <th>ponds_nearest</th>\n",
       "      <th>days_exposition</th>\n",
       "      <th>price_per_meter</th>\n",
       "      <th>day_of_week</th>\n",
       "      <th>month</th>\n",
       "      <th>year</th>\n",
       "      <th>floor_name</th>\n",
       "      <th>ratio_la</th>\n",
       "      <th>ratio_kitchen</th>\n",
       "    </tr>\n",
       "  </thead>\n",
       "  <tbody>\n",
       "    <tr>\n",
       "      <th>3117</th>\n",
       "      <td>19</td>\n",
       "      <td>140000000</td>\n",
       "      <td>631.0</td>\n",
       "      <td>2019-03-30</td>\n",
       "      <td>7</td>\n",
       "      <td>2.70</td>\n",
       "      <td>5.0</td>\n",
       "      <td>NaN</td>\n",
       "      <td>5</td>\n",
       "      <td>False</td>\n",
       "      <td>False</td>\n",
       "      <td>False</td>\n",
       "      <td>60.0</td>\n",
       "      <td>0</td>\n",
       "      <td>Санкт-Петербург</td>\n",
       "      <td>25707.0</td>\n",
       "      <td>4972.0</td>\n",
       "      <td>0.0</td>\n",
       "      <td>NaN</td>\n",
       "      <td>2.0</td>\n",
       "      <td>210.0</td>\n",
       "      <td>95.0</td>\n",
       "      <td>221870.047544</td>\n",
       "      <td>5</td>\n",
       "      <td>3</td>\n",
       "      <td>2019</td>\n",
       "      <td>последний</td>\n",
       "      <td>NaN</td>\n",
       "      <td>0.095087</td>\n",
       "    </tr>\n",
       "    <tr>\n",
       "      <th>4237</th>\n",
       "      <td>1</td>\n",
       "      <td>50000000</td>\n",
       "      <td>517.0</td>\n",
       "      <td>2017-10-14</td>\n",
       "      <td>7</td>\n",
       "      <td>2.70</td>\n",
       "      <td>4.0</td>\n",
       "      <td>332.0</td>\n",
       "      <td>3</td>\n",
       "      <td>False</td>\n",
       "      <td>False</td>\n",
       "      <td>False</td>\n",
       "      <td>22.0</td>\n",
       "      <td>0</td>\n",
       "      <td>Санкт-Петербург</td>\n",
       "      <td>22835.0</td>\n",
       "      <td>1847.0</td>\n",
       "      <td>2.0</td>\n",
       "      <td>477.0</td>\n",
       "      <td>2.0</td>\n",
       "      <td>540.0</td>\n",
       "      <td>627.0</td>\n",
       "      <td>96711.798839</td>\n",
       "      <td>5</td>\n",
       "      <td>10</td>\n",
       "      <td>2017</td>\n",
       "      <td>другой</td>\n",
       "      <td>0.642166</td>\n",
       "      <td>0.042553</td>\n",
       "    </tr>\n",
       "    <tr>\n",
       "      <th>5358</th>\n",
       "      <td>20</td>\n",
       "      <td>65000000</td>\n",
       "      <td>590.0</td>\n",
       "      <td>2019-02-14</td>\n",
       "      <td>15</td>\n",
       "      <td>3.50</td>\n",
       "      <td>6.0</td>\n",
       "      <td>409.0</td>\n",
       "      <td>3</td>\n",
       "      <td>False</td>\n",
       "      <td>False</td>\n",
       "      <td>False</td>\n",
       "      <td>100.0</td>\n",
       "      <td>0</td>\n",
       "      <td>Санкт-Петербург</td>\n",
       "      <td>24447.0</td>\n",
       "      <td>4666.0</td>\n",
       "      <td>1.0</td>\n",
       "      <td>767.0</td>\n",
       "      <td>0.0</td>\n",
       "      <td>NaN</td>\n",
       "      <td>14.0</td>\n",
       "      <td>110169.491525</td>\n",
       "      <td>3</td>\n",
       "      <td>2</td>\n",
       "      <td>2019</td>\n",
       "      <td>другой</td>\n",
       "      <td>0.693220</td>\n",
       "      <td>0.169492</td>\n",
       "    </tr>\n",
       "    <tr>\n",
       "      <th>8018</th>\n",
       "      <td>20</td>\n",
       "      <td>84000000</td>\n",
       "      <td>507.0</td>\n",
       "      <td>2015-12-17</td>\n",
       "      <td>5</td>\n",
       "      <td>4.45</td>\n",
       "      <td>7.0</td>\n",
       "      <td>301.5</td>\n",
       "      <td>7</td>\n",
       "      <td>True</td>\n",
       "      <td>False</td>\n",
       "      <td>False</td>\n",
       "      <td>45.5</td>\n",
       "      <td>1</td>\n",
       "      <td>Санкт-Петербург</td>\n",
       "      <td>NaN</td>\n",
       "      <td>5735.0</td>\n",
       "      <td>2.0</td>\n",
       "      <td>110.0</td>\n",
       "      <td>0.0</td>\n",
       "      <td>NaN</td>\n",
       "      <td>1078.0</td>\n",
       "      <td>165680.473373</td>\n",
       "      <td>3</td>\n",
       "      <td>12</td>\n",
       "      <td>2015</td>\n",
       "      <td>последний</td>\n",
       "      <td>0.594675</td>\n",
       "      <td>0.089744</td>\n",
       "    </tr>\n",
       "    <tr>\n",
       "      <th>12859</th>\n",
       "      <td>20</td>\n",
       "      <td>140000000</td>\n",
       "      <td>631.2</td>\n",
       "      <td>2019-04-09</td>\n",
       "      <td>7</td>\n",
       "      <td>3.90</td>\n",
       "      <td>4.0</td>\n",
       "      <td>322.3</td>\n",
       "      <td>4</td>\n",
       "      <td>False</td>\n",
       "      <td>False</td>\n",
       "      <td>False</td>\n",
       "      <td>19.5</td>\n",
       "      <td>1</td>\n",
       "      <td>Санкт-Петербург</td>\n",
       "      <td>25707.0</td>\n",
       "      <td>4972.0</td>\n",
       "      <td>0.0</td>\n",
       "      <td>NaN</td>\n",
       "      <td>2.0</td>\n",
       "      <td>210.0</td>\n",
       "      <td>85.0</td>\n",
       "      <td>221799.746515</td>\n",
       "      <td>1</td>\n",
       "      <td>4</td>\n",
       "      <td>2019</td>\n",
       "      <td>последний</td>\n",
       "      <td>0.510615</td>\n",
       "      <td>0.030894</td>\n",
       "    </tr>\n",
       "    <tr>\n",
       "      <th>15651</th>\n",
       "      <td>20</td>\n",
       "      <td>300000000</td>\n",
       "      <td>618.0</td>\n",
       "      <td>2017-12-18</td>\n",
       "      <td>7</td>\n",
       "      <td>3.40</td>\n",
       "      <td>7.0</td>\n",
       "      <td>258.0</td>\n",
       "      <td>5</td>\n",
       "      <td>False</td>\n",
       "      <td>False</td>\n",
       "      <td>False</td>\n",
       "      <td>70.0</td>\n",
       "      <td>0</td>\n",
       "      <td>Санкт-Петербург</td>\n",
       "      <td>32440.0</td>\n",
       "      <td>5297.0</td>\n",
       "      <td>0.0</td>\n",
       "      <td>NaN</td>\n",
       "      <td>2.0</td>\n",
       "      <td>198.0</td>\n",
       "      <td>111.0</td>\n",
       "      <td>485436.893204</td>\n",
       "      <td>0</td>\n",
       "      <td>12</td>\n",
       "      <td>2017</td>\n",
       "      <td>другой</td>\n",
       "      <td>0.417476</td>\n",
       "      <td>0.113269</td>\n",
       "    </tr>\n",
       "    <tr>\n",
       "      <th>19540</th>\n",
       "      <td>8</td>\n",
       "      <td>420000000</td>\n",
       "      <td>900.0</td>\n",
       "      <td>2017-12-06</td>\n",
       "      <td>12</td>\n",
       "      <td>2.80</td>\n",
       "      <td>25.0</td>\n",
       "      <td>409.7</td>\n",
       "      <td>25</td>\n",
       "      <td>False</td>\n",
       "      <td>False</td>\n",
       "      <td>False</td>\n",
       "      <td>112.0</td>\n",
       "      <td>0</td>\n",
       "      <td>Санкт-Петербург</td>\n",
       "      <td>30706.0</td>\n",
       "      <td>7877.0</td>\n",
       "      <td>0.0</td>\n",
       "      <td>NaN</td>\n",
       "      <td>2.0</td>\n",
       "      <td>318.0</td>\n",
       "      <td>106.0</td>\n",
       "      <td>466666.666667</td>\n",
       "      <td>2</td>\n",
       "      <td>12</td>\n",
       "      <td>2017</td>\n",
       "      <td>последний</td>\n",
       "      <td>0.455222</td>\n",
       "      <td>0.124444</td>\n",
       "    </tr>\n",
       "  </tbody>\n",
       "</table>\n",
       "</div>"
      ],
      "text/plain": [
       "       total_images  last_price  total_area first_day_exposition  rooms  \\\n",
       "3117             19   140000000       631.0           2019-03-30      7   \n",
       "4237              1    50000000       517.0           2017-10-14      7   \n",
       "5358             20    65000000       590.0           2019-02-14     15   \n",
       "8018             20    84000000       507.0           2015-12-17      5   \n",
       "12859            20   140000000       631.2           2019-04-09      7   \n",
       "15651            20   300000000       618.0           2017-12-18      7   \n",
       "19540             8   420000000       900.0           2017-12-06     12   \n",
       "\n",
       "       ceiling_height  floors_total  living_area  floor  is_apartment  studio  \\\n",
       "3117             2.70           5.0          NaN      5         False   False   \n",
       "4237             2.70           4.0        332.0      3         False   False   \n",
       "5358             3.50           6.0        409.0      3         False   False   \n",
       "8018             4.45           7.0        301.5      7          True   False   \n",
       "12859            3.90           4.0        322.3      4         False   False   \n",
       "15651            3.40           7.0        258.0      5         False   False   \n",
       "19540            2.80          25.0        409.7     25         False   False   \n",
       "\n",
       "       open_plan  kitchen_area  balcony    locality_name  airports_nearest  \\\n",
       "3117       False          60.0        0  Санкт-Петербург           25707.0   \n",
       "4237       False          22.0        0  Санкт-Петербург           22835.0   \n",
       "5358       False         100.0        0  Санкт-Петербург           24447.0   \n",
       "8018       False          45.5        1  Санкт-Петербург               NaN   \n",
       "12859      False          19.5        1  Санкт-Петербург           25707.0   \n",
       "15651      False          70.0        0  Санкт-Петербург           32440.0   \n",
       "19540      False         112.0        0  Санкт-Петербург           30706.0   \n",
       "\n",
       "       cityCenters_nearest  parks_around3000  parks_nearest  ponds_around3000  \\\n",
       "3117                4972.0               0.0            NaN               2.0   \n",
       "4237                1847.0               2.0          477.0               2.0   \n",
       "5358                4666.0               1.0          767.0               0.0   \n",
       "8018                5735.0               2.0          110.0               0.0   \n",
       "12859               4972.0               0.0            NaN               2.0   \n",
       "15651               5297.0               0.0            NaN               2.0   \n",
       "19540               7877.0               0.0            NaN               2.0   \n",
       "\n",
       "       ponds_nearest  days_exposition  price_per_meter  day_of_week  month  \\\n",
       "3117           210.0             95.0    221870.047544            5      3   \n",
       "4237           540.0            627.0     96711.798839            5     10   \n",
       "5358             NaN             14.0    110169.491525            3      2   \n",
       "8018             NaN           1078.0    165680.473373            3     12   \n",
       "12859          210.0             85.0    221799.746515            1      4   \n",
       "15651          198.0            111.0    485436.893204            0     12   \n",
       "19540          318.0            106.0    466666.666667            2     12   \n",
       "\n",
       "       year floor_name  ratio_la  ratio_kitchen  \n",
       "3117   2019  последний       NaN       0.095087  \n",
       "4237   2017     другой  0.642166       0.042553  \n",
       "5358   2019     другой  0.693220       0.169492  \n",
       "8018   2015  последний  0.594675       0.089744  \n",
       "12859  2019  последний  0.510615       0.030894  \n",
       "15651  2017     другой  0.417476       0.113269  \n",
       "19540  2017  последний  0.455222       0.124444  "
      ]
     },
     "execution_count": 41,
     "metadata": {},
     "output_type": "execute_result"
    }
   ],
   "source": [
    "data[data['total_area'] > 500]"
   ]
  },
  {
   "cell_type": "code",
   "execution_count": 42,
   "metadata": {},
   "outputs": [
    {
     "data": {
      "text/html": [
       "<div>\n",
       "<style scoped>\n",
       "    .dataframe tbody tr th:only-of-type {\n",
       "        vertical-align: middle;\n",
       "    }\n",
       "\n",
       "    .dataframe tbody tr th {\n",
       "        vertical-align: top;\n",
       "    }\n",
       "\n",
       "    .dataframe thead th {\n",
       "        text-align: right;\n",
       "    }\n",
       "</style>\n",
       "<table border=\"1\" class=\"dataframe\">\n",
       "  <thead>\n",
       "    <tr style=\"text-align: right;\">\n",
       "      <th></th>\n",
       "      <th>total_images</th>\n",
       "      <th>last_price</th>\n",
       "      <th>total_area</th>\n",
       "      <th>first_day_exposition</th>\n",
       "      <th>rooms</th>\n",
       "      <th>ceiling_height</th>\n",
       "      <th>floors_total</th>\n",
       "      <th>living_area</th>\n",
       "      <th>floor</th>\n",
       "      <th>is_apartment</th>\n",
       "      <th>studio</th>\n",
       "      <th>open_plan</th>\n",
       "      <th>kitchen_area</th>\n",
       "      <th>balcony</th>\n",
       "      <th>locality_name</th>\n",
       "      <th>airports_nearest</th>\n",
       "      <th>cityCenters_nearest</th>\n",
       "      <th>parks_around3000</th>\n",
       "      <th>parks_nearest</th>\n",
       "      <th>ponds_around3000</th>\n",
       "      <th>ponds_nearest</th>\n",
       "      <th>days_exposition</th>\n",
       "      <th>price_per_meter</th>\n",
       "      <th>day_of_week</th>\n",
       "      <th>month</th>\n",
       "      <th>year</th>\n",
       "      <th>floor_name</th>\n",
       "      <th>ratio_la</th>\n",
       "      <th>ratio_kitchen</th>\n",
       "    </tr>\n",
       "  </thead>\n",
       "  <tbody>\n",
       "    <tr>\n",
       "      <th>227</th>\n",
       "      <td>13</td>\n",
       "      <td>2200000</td>\n",
       "      <td>47.00</td>\n",
       "      <td>2018-01-12</td>\n",
       "      <td>3</td>\n",
       "      <td>2.34</td>\n",
       "      <td>5.0</td>\n",
       "      <td>NaN</td>\n",
       "      <td>1</td>\n",
       "      <td>False</td>\n",
       "      <td>False</td>\n",
       "      <td>False</td>\n",
       "      <td>NaN</td>\n",
       "      <td>0</td>\n",
       "      <td>посёлок Новый Свет</td>\n",
       "      <td>NaN</td>\n",
       "      <td>NaN</td>\n",
       "      <td>NaN</td>\n",
       "      <td>NaN</td>\n",
       "      <td>NaN</td>\n",
       "      <td>NaN</td>\n",
       "      <td>45.0</td>\n",
       "      <td>46808.510638</td>\n",
       "      <td>4</td>\n",
       "      <td>1</td>\n",
       "      <td>2018</td>\n",
       "      <td>первый</td>\n",
       "      <td>NaN</td>\n",
       "      <td>NaN</td>\n",
       "    </tr>\n",
       "    <tr>\n",
       "      <th>552</th>\n",
       "      <td>11</td>\n",
       "      <td>2999000</td>\n",
       "      <td>33.50</td>\n",
       "      <td>2017-03-30</td>\n",
       "      <td>1</td>\n",
       "      <td>2.00</td>\n",
       "      <td>15.0</td>\n",
       "      <td>17.500000</td>\n",
       "      <td>6</td>\n",
       "      <td>False</td>\n",
       "      <td>False</td>\n",
       "      <td>False</td>\n",
       "      <td>6.50</td>\n",
       "      <td>0</td>\n",
       "      <td>Санкт-Петербург</td>\n",
       "      <td>33972.0</td>\n",
       "      <td>11746.0</td>\n",
       "      <td>1.0</td>\n",
       "      <td>520.0</td>\n",
       "      <td>1.0</td>\n",
       "      <td>949.0</td>\n",
       "      <td>270.0</td>\n",
       "      <td>89522.388060</td>\n",
       "      <td>3</td>\n",
       "      <td>3</td>\n",
       "      <td>2017</td>\n",
       "      <td>другой</td>\n",
       "      <td>0.522388</td>\n",
       "      <td>0.194030</td>\n",
       "    </tr>\n",
       "    <tr>\n",
       "      <th>1582</th>\n",
       "      <td>4</td>\n",
       "      <td>4100000</td>\n",
       "      <td>45.60</td>\n",
       "      <td>2016-01-13</td>\n",
       "      <td>2</td>\n",
       "      <td>2.30</td>\n",
       "      <td>9.0</td>\n",
       "      <td>28.400000</td>\n",
       "      <td>8</td>\n",
       "      <td>False</td>\n",
       "      <td>False</td>\n",
       "      <td>False</td>\n",
       "      <td>7.00</td>\n",
       "      <td>2</td>\n",
       "      <td>Санкт-Петербург</td>\n",
       "      <td>49152.0</td>\n",
       "      <td>14977.0</td>\n",
       "      <td>1.0</td>\n",
       "      <td>489.0</td>\n",
       "      <td>1.0</td>\n",
       "      <td>525.0</td>\n",
       "      <td>329.0</td>\n",
       "      <td>89912.280702</td>\n",
       "      <td>2</td>\n",
       "      <td>1</td>\n",
       "      <td>2016</td>\n",
       "      <td>другой</td>\n",
       "      <td>0.622807</td>\n",
       "      <td>0.153509</td>\n",
       "    </tr>\n",
       "    <tr>\n",
       "      <th>2572</th>\n",
       "      <td>4</td>\n",
       "      <td>2400000</td>\n",
       "      <td>62.00</td>\n",
       "      <td>2018-12-27</td>\n",
       "      <td>3</td>\n",
       "      <td>2.00</td>\n",
       "      <td>5.0</td>\n",
       "      <td>40.000000</td>\n",
       "      <td>4</td>\n",
       "      <td>False</td>\n",
       "      <td>False</td>\n",
       "      <td>False</td>\n",
       "      <td>6.00</td>\n",
       "      <td>1</td>\n",
       "      <td>Луга</td>\n",
       "      <td>NaN</td>\n",
       "      <td>NaN</td>\n",
       "      <td>NaN</td>\n",
       "      <td>NaN</td>\n",
       "      <td>NaN</td>\n",
       "      <td>NaN</td>\n",
       "      <td>188.0</td>\n",
       "      <td>38709.677419</td>\n",
       "      <td>3</td>\n",
       "      <td>12</td>\n",
       "      <td>2018</td>\n",
       "      <td>другой</td>\n",
       "      <td>0.645161</td>\n",
       "      <td>0.096774</td>\n",
       "    </tr>\n",
       "    <tr>\n",
       "      <th>4212</th>\n",
       "      <td>1</td>\n",
       "      <td>2120000</td>\n",
       "      <td>35.43</td>\n",
       "      <td>2017-12-18</td>\n",
       "      <td>1</td>\n",
       "      <td>2.00</td>\n",
       "      <td>18.0</td>\n",
       "      <td>16.600000</td>\n",
       "      <td>9</td>\n",
       "      <td>False</td>\n",
       "      <td>False</td>\n",
       "      <td>False</td>\n",
       "      <td>8.80</td>\n",
       "      <td>2</td>\n",
       "      <td>Тосно</td>\n",
       "      <td>NaN</td>\n",
       "      <td>NaN</td>\n",
       "      <td>NaN</td>\n",
       "      <td>NaN</td>\n",
       "      <td>NaN</td>\n",
       "      <td>NaN</td>\n",
       "      <td>36.0</td>\n",
       "      <td>59836.296924</td>\n",
       "      <td>0</td>\n",
       "      <td>12</td>\n",
       "      <td>2017</td>\n",
       "      <td>другой</td>\n",
       "      <td>0.468529</td>\n",
       "      <td>0.248377</td>\n",
       "    </tr>\n",
       "    <tr>\n",
       "      <th>5498</th>\n",
       "      <td>17</td>\n",
       "      <td>2200000</td>\n",
       "      <td>56.00</td>\n",
       "      <td>2018-04-02</td>\n",
       "      <td>2</td>\n",
       "      <td>2.30</td>\n",
       "      <td>5.0</td>\n",
       "      <td>45.000000</td>\n",
       "      <td>1</td>\n",
       "      <td>False</td>\n",
       "      <td>False</td>\n",
       "      <td>False</td>\n",
       "      <td>9.00</td>\n",
       "      <td>2</td>\n",
       "      <td>Сясьстрой</td>\n",
       "      <td>NaN</td>\n",
       "      <td>NaN</td>\n",
       "      <td>NaN</td>\n",
       "      <td>NaN</td>\n",
       "      <td>NaN</td>\n",
       "      <td>NaN</td>\n",
       "      <td>55.0</td>\n",
       "      <td>39285.714286</td>\n",
       "      <td>0</td>\n",
       "      <td>4</td>\n",
       "      <td>2018</td>\n",
       "      <td>первый</td>\n",
       "      <td>0.803571</td>\n",
       "      <td>0.160714</td>\n",
       "    </tr>\n",
       "    <tr>\n",
       "      <th>5712</th>\n",
       "      <td>5</td>\n",
       "      <td>1500000</td>\n",
       "      <td>42.80</td>\n",
       "      <td>2017-08-14</td>\n",
       "      <td>2</td>\n",
       "      <td>1.20</td>\n",
       "      <td>2.0</td>\n",
       "      <td>27.500000</td>\n",
       "      <td>1</td>\n",
       "      <td>False</td>\n",
       "      <td>False</td>\n",
       "      <td>False</td>\n",
       "      <td>5.20</td>\n",
       "      <td>0</td>\n",
       "      <td>городской посёлок Мга</td>\n",
       "      <td>NaN</td>\n",
       "      <td>NaN</td>\n",
       "      <td>NaN</td>\n",
       "      <td>NaN</td>\n",
       "      <td>NaN</td>\n",
       "      <td>NaN</td>\n",
       "      <td>248.0</td>\n",
       "      <td>35046.728972</td>\n",
       "      <td>0</td>\n",
       "      <td>8</td>\n",
       "      <td>2017</td>\n",
       "      <td>первый</td>\n",
       "      <td>0.642523</td>\n",
       "      <td>0.121495</td>\n",
       "    </tr>\n",
       "    <tr>\n",
       "      <th>5850</th>\n",
       "      <td>9</td>\n",
       "      <td>1650000</td>\n",
       "      <td>35.50</td>\n",
       "      <td>2018-05-29</td>\n",
       "      <td>1</td>\n",
       "      <td>2.00</td>\n",
       "      <td>5.0</td>\n",
       "      <td>NaN</td>\n",
       "      <td>5</td>\n",
       "      <td>False</td>\n",
       "      <td>False</td>\n",
       "      <td>False</td>\n",
       "      <td>NaN</td>\n",
       "      <td>0</td>\n",
       "      <td>Луга</td>\n",
       "      <td>NaN</td>\n",
       "      <td>NaN</td>\n",
       "      <td>NaN</td>\n",
       "      <td>NaN</td>\n",
       "      <td>NaN</td>\n",
       "      <td>NaN</td>\n",
       "      <td>100.0</td>\n",
       "      <td>46478.873239</td>\n",
       "      <td>1</td>\n",
       "      <td>5</td>\n",
       "      <td>2018</td>\n",
       "      <td>последний</td>\n",
       "      <td>NaN</td>\n",
       "      <td>NaN</td>\n",
       "    </tr>\n",
       "    <tr>\n",
       "      <th>11352</th>\n",
       "      <td>4</td>\n",
       "      <td>3300000</td>\n",
       "      <td>36.00</td>\n",
       "      <td>2017-06-18</td>\n",
       "      <td>1</td>\n",
       "      <td>2.00</td>\n",
       "      <td>17.0</td>\n",
       "      <td>15.200000</td>\n",
       "      <td>12</td>\n",
       "      <td>False</td>\n",
       "      <td>False</td>\n",
       "      <td>False</td>\n",
       "      <td>10.10</td>\n",
       "      <td>0</td>\n",
       "      <td>посёлок Металлострой</td>\n",
       "      <td>25268.0</td>\n",
       "      <td>26980.0</td>\n",
       "      <td>0.0</td>\n",
       "      <td>NaN</td>\n",
       "      <td>0.0</td>\n",
       "      <td>NaN</td>\n",
       "      <td>53.0</td>\n",
       "      <td>91666.666667</td>\n",
       "      <td>6</td>\n",
       "      <td>6</td>\n",
       "      <td>2017</td>\n",
       "      <td>другой</td>\n",
       "      <td>0.422222</td>\n",
       "      <td>0.280556</td>\n",
       "    </tr>\n",
       "    <tr>\n",
       "      <th>12755</th>\n",
       "      <td>2</td>\n",
       "      <td>1400000</td>\n",
       "      <td>22.50</td>\n",
       "      <td>2017-09-21</td>\n",
       "      <td>1</td>\n",
       "      <td>2.20</td>\n",
       "      <td>2.0</td>\n",
       "      <td>18.000000</td>\n",
       "      <td>2</td>\n",
       "      <td>False</td>\n",
       "      <td>False</td>\n",
       "      <td>False</td>\n",
       "      <td>4.50</td>\n",
       "      <td>1</td>\n",
       "      <td>село Копорье</td>\n",
       "      <td>NaN</td>\n",
       "      <td>NaN</td>\n",
       "      <td>NaN</td>\n",
       "      <td>NaN</td>\n",
       "      <td>NaN</td>\n",
       "      <td>NaN</td>\n",
       "      <td>45.0</td>\n",
       "      <td>62222.222222</td>\n",
       "      <td>3</td>\n",
       "      <td>9</td>\n",
       "      <td>2017</td>\n",
       "      <td>последний</td>\n",
       "      <td>0.800000</td>\n",
       "      <td>0.200000</td>\n",
       "    </tr>\n",
       "    <tr>\n",
       "      <th>16446</th>\n",
       "      <td>6</td>\n",
       "      <td>12300000</td>\n",
       "      <td>88.30</td>\n",
       "      <td>2019-03-12</td>\n",
       "      <td>3</td>\n",
       "      <td>2.00</td>\n",
       "      <td>5.0</td>\n",
       "      <td>63.900000</td>\n",
       "      <td>2</td>\n",
       "      <td>False</td>\n",
       "      <td>False</td>\n",
       "      <td>False</td>\n",
       "      <td>12.00</td>\n",
       "      <td>0</td>\n",
       "      <td>Санкт-Петербург</td>\n",
       "      <td>38415.0</td>\n",
       "      <td>7675.0</td>\n",
       "      <td>1.0</td>\n",
       "      <td>568.0</td>\n",
       "      <td>1.0</td>\n",
       "      <td>154.0</td>\n",
       "      <td>113.0</td>\n",
       "      <td>139297.848245</td>\n",
       "      <td>1</td>\n",
       "      <td>3</td>\n",
       "      <td>2019</td>\n",
       "      <td>другой</td>\n",
       "      <td>0.723669</td>\n",
       "      <td>0.135900</td>\n",
       "    </tr>\n",
       "    <tr>\n",
       "      <th>16884</th>\n",
       "      <td>0</td>\n",
       "      <td>1500000</td>\n",
       "      <td>33.00</td>\n",
       "      <td>2018-10-03</td>\n",
       "      <td>1</td>\n",
       "      <td>2.00</td>\n",
       "      <td>5.0</td>\n",
       "      <td>20.000000</td>\n",
       "      <td>5</td>\n",
       "      <td>False</td>\n",
       "      <td>False</td>\n",
       "      <td>False</td>\n",
       "      <td>6.00</td>\n",
       "      <td>0</td>\n",
       "      <td>Выборг</td>\n",
       "      <td>NaN</td>\n",
       "      <td>NaN</td>\n",
       "      <td>NaN</td>\n",
       "      <td>NaN</td>\n",
       "      <td>NaN</td>\n",
       "      <td>NaN</td>\n",
       "      <td>6.0</td>\n",
       "      <td>45454.545455</td>\n",
       "      <td>2</td>\n",
       "      <td>10</td>\n",
       "      <td>2018</td>\n",
       "      <td>последний</td>\n",
       "      <td>0.606061</td>\n",
       "      <td>0.181818</td>\n",
       "    </tr>\n",
       "    <tr>\n",
       "      <th>16934</th>\n",
       "      <td>5</td>\n",
       "      <td>4100000</td>\n",
       "      <td>40.00</td>\n",
       "      <td>2017-10-17</td>\n",
       "      <td>1</td>\n",
       "      <td>1.75</td>\n",
       "      <td>37.0</td>\n",
       "      <td>17.400000</td>\n",
       "      <td>5</td>\n",
       "      <td>False</td>\n",
       "      <td>False</td>\n",
       "      <td>False</td>\n",
       "      <td>8.34</td>\n",
       "      <td>0</td>\n",
       "      <td>Санкт-Петербург</td>\n",
       "      <td>18732.0</td>\n",
       "      <td>20444.0</td>\n",
       "      <td>0.0</td>\n",
       "      <td>NaN</td>\n",
       "      <td>3.0</td>\n",
       "      <td>80.0</td>\n",
       "      <td>71.0</td>\n",
       "      <td>102500.000000</td>\n",
       "      <td>1</td>\n",
       "      <td>10</td>\n",
       "      <td>2017</td>\n",
       "      <td>другой</td>\n",
       "      <td>0.435000</td>\n",
       "      <td>0.208500</td>\n",
       "    </tr>\n",
       "    <tr>\n",
       "      <th>17762</th>\n",
       "      <td>20</td>\n",
       "      <td>2300000</td>\n",
       "      <td>54.30</td>\n",
       "      <td>2018-06-28</td>\n",
       "      <td>3</td>\n",
       "      <td>2.30</td>\n",
       "      <td>5.0</td>\n",
       "      <td>39.000000</td>\n",
       "      <td>2</td>\n",
       "      <td>False</td>\n",
       "      <td>False</td>\n",
       "      <td>False</td>\n",
       "      <td>5.30</td>\n",
       "      <td>1</td>\n",
       "      <td>деревня Бегуницы</td>\n",
       "      <td>NaN</td>\n",
       "      <td>NaN</td>\n",
       "      <td>NaN</td>\n",
       "      <td>NaN</td>\n",
       "      <td>NaN</td>\n",
       "      <td>NaN</td>\n",
       "      <td>189.0</td>\n",
       "      <td>42357.274401</td>\n",
       "      <td>3</td>\n",
       "      <td>6</td>\n",
       "      <td>2018</td>\n",
       "      <td>другой</td>\n",
       "      <td>0.718232</td>\n",
       "      <td>0.097606</td>\n",
       "    </tr>\n",
       "    <tr>\n",
       "      <th>17794</th>\n",
       "      <td>1</td>\n",
       "      <td>2300000</td>\n",
       "      <td>58.60</td>\n",
       "      <td>2016-05-12</td>\n",
       "      <td>3</td>\n",
       "      <td>2.25</td>\n",
       "      <td>5.0</td>\n",
       "      <td>44.100002</td>\n",
       "      <td>3</td>\n",
       "      <td>False</td>\n",
       "      <td>False</td>\n",
       "      <td>False</td>\n",
       "      <td>5.50</td>\n",
       "      <td>1</td>\n",
       "      <td>деревня Бегуницы</td>\n",
       "      <td>NaN</td>\n",
       "      <td>NaN</td>\n",
       "      <td>NaN</td>\n",
       "      <td>NaN</td>\n",
       "      <td>NaN</td>\n",
       "      <td>NaN</td>\n",
       "      <td>45.0</td>\n",
       "      <td>39249.146758</td>\n",
       "      <td>3</td>\n",
       "      <td>5</td>\n",
       "      <td>2016</td>\n",
       "      <td>другой</td>\n",
       "      <td>0.752560</td>\n",
       "      <td>0.093857</td>\n",
       "    </tr>\n",
       "    <tr>\n",
       "      <th>19098</th>\n",
       "      <td>7</td>\n",
       "      <td>2700000</td>\n",
       "      <td>56.00</td>\n",
       "      <td>2018-02-04</td>\n",
       "      <td>3</td>\n",
       "      <td>2.00</td>\n",
       "      <td>5.0</td>\n",
       "      <td>46.000000</td>\n",
       "      <td>1</td>\n",
       "      <td>False</td>\n",
       "      <td>False</td>\n",
       "      <td>False</td>\n",
       "      <td>6.00</td>\n",
       "      <td>0</td>\n",
       "      <td>Выборг</td>\n",
       "      <td>NaN</td>\n",
       "      <td>NaN</td>\n",
       "      <td>NaN</td>\n",
       "      <td>NaN</td>\n",
       "      <td>NaN</td>\n",
       "      <td>NaN</td>\n",
       "      <td>282.0</td>\n",
       "      <td>48214.285714</td>\n",
       "      <td>6</td>\n",
       "      <td>2</td>\n",
       "      <td>2018</td>\n",
       "      <td>первый</td>\n",
       "      <td>0.821429</td>\n",
       "      <td>0.107143</td>\n",
       "    </tr>\n",
       "    <tr>\n",
       "      <th>19329</th>\n",
       "      <td>5</td>\n",
       "      <td>1700000</td>\n",
       "      <td>40.00</td>\n",
       "      <td>2018-07-15</td>\n",
       "      <td>2</td>\n",
       "      <td>2.00</td>\n",
       "      <td>9.0</td>\n",
       "      <td>NaN</td>\n",
       "      <td>8</td>\n",
       "      <td>False</td>\n",
       "      <td>False</td>\n",
       "      <td>False</td>\n",
       "      <td>NaN</td>\n",
       "      <td>0</td>\n",
       "      <td>Сосновый Бор</td>\n",
       "      <td>NaN</td>\n",
       "      <td>NaN</td>\n",
       "      <td>NaN</td>\n",
       "      <td>NaN</td>\n",
       "      <td>NaN</td>\n",
       "      <td>NaN</td>\n",
       "      <td>45.0</td>\n",
       "      <td>42500.000000</td>\n",
       "      <td>6</td>\n",
       "      <td>7</td>\n",
       "      <td>2018</td>\n",
       "      <td>другой</td>\n",
       "      <td>NaN</td>\n",
       "      <td>NaN</td>\n",
       "    </tr>\n",
       "    <tr>\n",
       "      <th>20520</th>\n",
       "      <td>9</td>\n",
       "      <td>3600000</td>\n",
       "      <td>38.00</td>\n",
       "      <td>2018-07-05</td>\n",
       "      <td>1</td>\n",
       "      <td>2.00</td>\n",
       "      <td>12.0</td>\n",
       "      <td>15.000000</td>\n",
       "      <td>9</td>\n",
       "      <td>False</td>\n",
       "      <td>False</td>\n",
       "      <td>False</td>\n",
       "      <td>11.80</td>\n",
       "      <td>1</td>\n",
       "      <td>Кудрово</td>\n",
       "      <td>NaN</td>\n",
       "      <td>NaN</td>\n",
       "      <td>NaN</td>\n",
       "      <td>NaN</td>\n",
       "      <td>NaN</td>\n",
       "      <td>NaN</td>\n",
       "      <td>62.0</td>\n",
       "      <td>94736.842105</td>\n",
       "      <td>3</td>\n",
       "      <td>7</td>\n",
       "      <td>2018</td>\n",
       "      <td>другой</td>\n",
       "      <td>0.394737</td>\n",
       "      <td>0.310526</td>\n",
       "    </tr>\n",
       "    <tr>\n",
       "      <th>22590</th>\n",
       "      <td>16</td>\n",
       "      <td>6000000</td>\n",
       "      <td>55.00</td>\n",
       "      <td>2018-10-31</td>\n",
       "      <td>2</td>\n",
       "      <td>1.00</td>\n",
       "      <td>12.0</td>\n",
       "      <td>32.400000</td>\n",
       "      <td>7</td>\n",
       "      <td>False</td>\n",
       "      <td>False</td>\n",
       "      <td>False</td>\n",
       "      <td>10.00</td>\n",
       "      <td>0</td>\n",
       "      <td>Санкт-Петербург</td>\n",
       "      <td>33053.0</td>\n",
       "      <td>14217.0</td>\n",
       "      <td>2.0</td>\n",
       "      <td>293.0</td>\n",
       "      <td>2.0</td>\n",
       "      <td>289.0</td>\n",
       "      <td>13.0</td>\n",
       "      <td>109090.909091</td>\n",
       "      <td>2</td>\n",
       "      <td>10</td>\n",
       "      <td>2018</td>\n",
       "      <td>другой</td>\n",
       "      <td>0.589091</td>\n",
       "      <td>0.181818</td>\n",
       "    </tr>\n",
       "    <tr>\n",
       "      <th>22960</th>\n",
       "      <td>17</td>\n",
       "      <td>2300000</td>\n",
       "      <td>53.60</td>\n",
       "      <td>2018-10-18</td>\n",
       "      <td>2</td>\n",
       "      <td>2.00</td>\n",
       "      <td>2.0</td>\n",
       "      <td>19.000000</td>\n",
       "      <td>1</td>\n",
       "      <td>False</td>\n",
       "      <td>False</td>\n",
       "      <td>False</td>\n",
       "      <td>10.00</td>\n",
       "      <td>0</td>\n",
       "      <td>Всеволожск</td>\n",
       "      <td>NaN</td>\n",
       "      <td>NaN</td>\n",
       "      <td>NaN</td>\n",
       "      <td>NaN</td>\n",
       "      <td>NaN</td>\n",
       "      <td>NaN</td>\n",
       "      <td>258.0</td>\n",
       "      <td>42910.447761</td>\n",
       "      <td>3</td>\n",
       "      <td>10</td>\n",
       "      <td>2018</td>\n",
       "      <td>первый</td>\n",
       "      <td>0.354478</td>\n",
       "      <td>0.186567</td>\n",
       "    </tr>\n",
       "    <tr>\n",
       "      <th>23498</th>\n",
       "      <td>7</td>\n",
       "      <td>1600000</td>\n",
       "      <td>54.00</td>\n",
       "      <td>2016-12-26</td>\n",
       "      <td>2</td>\n",
       "      <td>2.30</td>\n",
       "      <td>1.0</td>\n",
       "      <td>33.000000</td>\n",
       "      <td>1</td>\n",
       "      <td>False</td>\n",
       "      <td>False</td>\n",
       "      <td>False</td>\n",
       "      <td>3.50</td>\n",
       "      <td>0</td>\n",
       "      <td>Высоцк</td>\n",
       "      <td>NaN</td>\n",
       "      <td>NaN</td>\n",
       "      <td>NaN</td>\n",
       "      <td>NaN</td>\n",
       "      <td>NaN</td>\n",
       "      <td>NaN</td>\n",
       "      <td>281.0</td>\n",
       "      <td>29629.629630</td>\n",
       "      <td>0</td>\n",
       "      <td>12</td>\n",
       "      <td>2016</td>\n",
       "      <td>первый</td>\n",
       "      <td>0.611111</td>\n",
       "      <td>0.064815</td>\n",
       "    </tr>\n",
       "  </tbody>\n",
       "</table>\n",
       "</div>"
      ],
      "text/plain": [
       "       total_images  last_price  total_area first_day_exposition  rooms  \\\n",
       "227              13     2200000       47.00           2018-01-12      3   \n",
       "552              11     2999000       33.50           2017-03-30      1   \n",
       "1582              4     4100000       45.60           2016-01-13      2   \n",
       "2572              4     2400000       62.00           2018-12-27      3   \n",
       "4212              1     2120000       35.43           2017-12-18      1   \n",
       "5498             17     2200000       56.00           2018-04-02      2   \n",
       "5712              5     1500000       42.80           2017-08-14      2   \n",
       "5850              9     1650000       35.50           2018-05-29      1   \n",
       "11352             4     3300000       36.00           2017-06-18      1   \n",
       "12755             2     1400000       22.50           2017-09-21      1   \n",
       "16446             6    12300000       88.30           2019-03-12      3   \n",
       "16884             0     1500000       33.00           2018-10-03      1   \n",
       "16934             5     4100000       40.00           2017-10-17      1   \n",
       "17762            20     2300000       54.30           2018-06-28      3   \n",
       "17794             1     2300000       58.60           2016-05-12      3   \n",
       "19098             7     2700000       56.00           2018-02-04      3   \n",
       "19329             5     1700000       40.00           2018-07-15      2   \n",
       "20520             9     3600000       38.00           2018-07-05      1   \n",
       "22590            16     6000000       55.00           2018-10-31      2   \n",
       "22960            17     2300000       53.60           2018-10-18      2   \n",
       "23498             7     1600000       54.00           2016-12-26      2   \n",
       "\n",
       "       ceiling_height  floors_total  living_area  floor  is_apartment  studio  \\\n",
       "227              2.34           5.0          NaN      1         False   False   \n",
       "552              2.00          15.0    17.500000      6         False   False   \n",
       "1582             2.30           9.0    28.400000      8         False   False   \n",
       "2572             2.00           5.0    40.000000      4         False   False   \n",
       "4212             2.00          18.0    16.600000      9         False   False   \n",
       "5498             2.30           5.0    45.000000      1         False   False   \n",
       "5712             1.20           2.0    27.500000      1         False   False   \n",
       "5850             2.00           5.0          NaN      5         False   False   \n",
       "11352            2.00          17.0    15.200000     12         False   False   \n",
       "12755            2.20           2.0    18.000000      2         False   False   \n",
       "16446            2.00           5.0    63.900000      2         False   False   \n",
       "16884            2.00           5.0    20.000000      5         False   False   \n",
       "16934            1.75          37.0    17.400000      5         False   False   \n",
       "17762            2.30           5.0    39.000000      2         False   False   \n",
       "17794            2.25           5.0    44.100002      3         False   False   \n",
       "19098            2.00           5.0    46.000000      1         False   False   \n",
       "19329            2.00           9.0          NaN      8         False   False   \n",
       "20520            2.00          12.0    15.000000      9         False   False   \n",
       "22590            1.00          12.0    32.400000      7         False   False   \n",
       "22960            2.00           2.0    19.000000      1         False   False   \n",
       "23498            2.30           1.0    33.000000      1         False   False   \n",
       "\n",
       "       open_plan  kitchen_area  balcony          locality_name  \\\n",
       "227        False           NaN        0     посёлок Новый Свет   \n",
       "552        False          6.50        0        Санкт-Петербург   \n",
       "1582       False          7.00        2        Санкт-Петербург   \n",
       "2572       False          6.00        1                   Луга   \n",
       "4212       False          8.80        2                  Тосно   \n",
       "5498       False          9.00        2              Сясьстрой   \n",
       "5712       False          5.20        0  городской посёлок Мга   \n",
       "5850       False           NaN        0                   Луга   \n",
       "11352      False         10.10        0   посёлок Металлострой   \n",
       "12755      False          4.50        1           село Копорье   \n",
       "16446      False         12.00        0        Санкт-Петербург   \n",
       "16884      False          6.00        0                 Выборг   \n",
       "16934      False          8.34        0        Санкт-Петербург   \n",
       "17762      False          5.30        1       деревня Бегуницы   \n",
       "17794      False          5.50        1       деревня Бегуницы   \n",
       "19098      False          6.00        0                 Выборг   \n",
       "19329      False           NaN        0           Сосновый Бор   \n",
       "20520      False         11.80        1                Кудрово   \n",
       "22590      False         10.00        0        Санкт-Петербург   \n",
       "22960      False         10.00        0             Всеволожск   \n",
       "23498      False          3.50        0                 Высоцк   \n",
       "\n",
       "       airports_nearest  cityCenters_nearest  parks_around3000  parks_nearest  \\\n",
       "227                 NaN                  NaN               NaN            NaN   \n",
       "552             33972.0              11746.0               1.0          520.0   \n",
       "1582            49152.0              14977.0               1.0          489.0   \n",
       "2572                NaN                  NaN               NaN            NaN   \n",
       "4212                NaN                  NaN               NaN            NaN   \n",
       "5498                NaN                  NaN               NaN            NaN   \n",
       "5712                NaN                  NaN               NaN            NaN   \n",
       "5850                NaN                  NaN               NaN            NaN   \n",
       "11352           25268.0              26980.0               0.0            NaN   \n",
       "12755               NaN                  NaN               NaN            NaN   \n",
       "16446           38415.0               7675.0               1.0          568.0   \n",
       "16884               NaN                  NaN               NaN            NaN   \n",
       "16934           18732.0              20444.0               0.0            NaN   \n",
       "17762               NaN                  NaN               NaN            NaN   \n",
       "17794               NaN                  NaN               NaN            NaN   \n",
       "19098               NaN                  NaN               NaN            NaN   \n",
       "19329               NaN                  NaN               NaN            NaN   \n",
       "20520               NaN                  NaN               NaN            NaN   \n",
       "22590           33053.0              14217.0               2.0          293.0   \n",
       "22960               NaN                  NaN               NaN            NaN   \n",
       "23498               NaN                  NaN               NaN            NaN   \n",
       "\n",
       "       ponds_around3000  ponds_nearest  days_exposition  price_per_meter  \\\n",
       "227                 NaN            NaN             45.0     46808.510638   \n",
       "552                 1.0          949.0            270.0     89522.388060   \n",
       "1582                1.0          525.0            329.0     89912.280702   \n",
       "2572                NaN            NaN            188.0     38709.677419   \n",
       "4212                NaN            NaN             36.0     59836.296924   \n",
       "5498                NaN            NaN             55.0     39285.714286   \n",
       "5712                NaN            NaN            248.0     35046.728972   \n",
       "5850                NaN            NaN            100.0     46478.873239   \n",
       "11352               0.0            NaN             53.0     91666.666667   \n",
       "12755               NaN            NaN             45.0     62222.222222   \n",
       "16446               1.0          154.0            113.0    139297.848245   \n",
       "16884               NaN            NaN              6.0     45454.545455   \n",
       "16934               3.0           80.0             71.0    102500.000000   \n",
       "17762               NaN            NaN            189.0     42357.274401   \n",
       "17794               NaN            NaN             45.0     39249.146758   \n",
       "19098               NaN            NaN            282.0     48214.285714   \n",
       "19329               NaN            NaN             45.0     42500.000000   \n",
       "20520               NaN            NaN             62.0     94736.842105   \n",
       "22590               2.0          289.0             13.0    109090.909091   \n",
       "22960               NaN            NaN            258.0     42910.447761   \n",
       "23498               NaN            NaN            281.0     29629.629630   \n",
       "\n",
       "       day_of_week  month  year floor_name  ratio_la  ratio_kitchen  \n",
       "227              4      1  2018     первый       NaN            NaN  \n",
       "552              3      3  2017     другой  0.522388       0.194030  \n",
       "1582             2      1  2016     другой  0.622807       0.153509  \n",
       "2572             3     12  2018     другой  0.645161       0.096774  \n",
       "4212             0     12  2017     другой  0.468529       0.248377  \n",
       "5498             0      4  2018     первый  0.803571       0.160714  \n",
       "5712             0      8  2017     первый  0.642523       0.121495  \n",
       "5850             1      5  2018  последний       NaN            NaN  \n",
       "11352            6      6  2017     другой  0.422222       0.280556  \n",
       "12755            3      9  2017  последний  0.800000       0.200000  \n",
       "16446            1      3  2019     другой  0.723669       0.135900  \n",
       "16884            2     10  2018  последний  0.606061       0.181818  \n",
       "16934            1     10  2017     другой  0.435000       0.208500  \n",
       "17762            3      6  2018     другой  0.718232       0.097606  \n",
       "17794            3      5  2016     другой  0.752560       0.093857  \n",
       "19098            6      2  2018     первый  0.821429       0.107143  \n",
       "19329            6      7  2018     другой       NaN            NaN  \n",
       "20520            3      7  2018     другой  0.394737       0.310526  \n",
       "22590            2     10  2018     другой  0.589091       0.181818  \n",
       "22960            3     10  2018     первый  0.354478       0.186567  \n",
       "23498            0     12  2016     первый  0.611111       0.064815  "
      ]
     },
     "metadata": {},
     "output_type": "display_data"
    },
    {
     "data": {
      "text/html": [
       "<div>\n",
       "<style scoped>\n",
       "    .dataframe tbody tr th:only-of-type {\n",
       "        vertical-align: middle;\n",
       "    }\n",
       "\n",
       "    .dataframe tbody tr th {\n",
       "        vertical-align: top;\n",
       "    }\n",
       "\n",
       "    .dataframe thead th {\n",
       "        text-align: right;\n",
       "    }\n",
       "</style>\n",
       "<table border=\"1\" class=\"dataframe\">\n",
       "  <thead>\n",
       "    <tr style=\"text-align: right;\">\n",
       "      <th></th>\n",
       "      <th>total_images</th>\n",
       "      <th>last_price</th>\n",
       "      <th>total_area</th>\n",
       "      <th>first_day_exposition</th>\n",
       "      <th>rooms</th>\n",
       "      <th>ceiling_height</th>\n",
       "      <th>floors_total</th>\n",
       "      <th>living_area</th>\n",
       "      <th>floor</th>\n",
       "      <th>is_apartment</th>\n",
       "      <th>studio</th>\n",
       "      <th>open_plan</th>\n",
       "      <th>kitchen_area</th>\n",
       "      <th>balcony</th>\n",
       "      <th>locality_name</th>\n",
       "      <th>airports_nearest</th>\n",
       "      <th>cityCenters_nearest</th>\n",
       "      <th>parks_around3000</th>\n",
       "      <th>parks_nearest</th>\n",
       "      <th>ponds_around3000</th>\n",
       "      <th>ponds_nearest</th>\n",
       "      <th>days_exposition</th>\n",
       "      <th>price_per_meter</th>\n",
       "      <th>day_of_week</th>\n",
       "      <th>month</th>\n",
       "      <th>year</th>\n",
       "      <th>floor_name</th>\n",
       "      <th>ratio_la</th>\n",
       "      <th>ratio_kitchen</th>\n",
       "    </tr>\n",
       "  </thead>\n",
       "  <tbody>\n",
       "    <tr>\n",
       "      <th>313</th>\n",
       "      <td>1</td>\n",
       "      <td>2450000</td>\n",
       "      <td>49.0</td>\n",
       "      <td>2016-03-09</td>\n",
       "      <td>3</td>\n",
       "      <td>13.85</td>\n",
       "      <td>5.0</td>\n",
       "      <td>34.0</td>\n",
       "      <td>2</td>\n",
       "      <td>False</td>\n",
       "      <td>False</td>\n",
       "      <td>False</td>\n",
       "      <td>5.5</td>\n",
       "      <td>1</td>\n",
       "      <td>поселок Новый Свет</td>\n",
       "      <td>NaN</td>\n",
       "      <td>NaN</td>\n",
       "      <td>NaN</td>\n",
       "      <td>NaN</td>\n",
       "      <td>NaN</td>\n",
       "      <td>NaN</td>\n",
       "      <td>189.0</td>\n",
       "      <td>50000.000000</td>\n",
       "      <td>2</td>\n",
       "      <td>3</td>\n",
       "      <td>2016</td>\n",
       "      <td>другой</td>\n",
       "      <td>0.693878</td>\n",
       "      <td>0.112245</td>\n",
       "    </tr>\n",
       "    <tr>\n",
       "      <th>355</th>\n",
       "      <td>17</td>\n",
       "      <td>3600000</td>\n",
       "      <td>55.2</td>\n",
       "      <td>2018-07-12</td>\n",
       "      <td>2</td>\n",
       "      <td>25.00</td>\n",
       "      <td>5.0</td>\n",
       "      <td>32.0</td>\n",
       "      <td>2</td>\n",
       "      <td>False</td>\n",
       "      <td>False</td>\n",
       "      <td>False</td>\n",
       "      <td>NaN</td>\n",
       "      <td>2</td>\n",
       "      <td>Гатчина</td>\n",
       "      <td>NaN</td>\n",
       "      <td>NaN</td>\n",
       "      <td>NaN</td>\n",
       "      <td>NaN</td>\n",
       "      <td>NaN</td>\n",
       "      <td>NaN</td>\n",
       "      <td>259.0</td>\n",
       "      <td>65217.391304</td>\n",
       "      <td>3</td>\n",
       "      <td>7</td>\n",
       "      <td>2018</td>\n",
       "      <td>другой</td>\n",
       "      <td>0.579710</td>\n",
       "      <td>NaN</td>\n",
       "    </tr>\n",
       "    <tr>\n",
       "      <th>2158</th>\n",
       "      <td>15</td>\n",
       "      <td>1500000</td>\n",
       "      <td>42.0</td>\n",
       "      <td>2017-12-23</td>\n",
       "      <td>2</td>\n",
       "      <td>27.00</td>\n",
       "      <td>2.0</td>\n",
       "      <td>29.0</td>\n",
       "      <td>2</td>\n",
       "      <td>False</td>\n",
       "      <td>False</td>\n",
       "      <td>False</td>\n",
       "      <td>5.5</td>\n",
       "      <td>0</td>\n",
       "      <td>деревня Мины</td>\n",
       "      <td>NaN</td>\n",
       "      <td>NaN</td>\n",
       "      <td>NaN</td>\n",
       "      <td>NaN</td>\n",
       "      <td>NaN</td>\n",
       "      <td>NaN</td>\n",
       "      <td>557.0</td>\n",
       "      <td>35714.285714</td>\n",
       "      <td>5</td>\n",
       "      <td>12</td>\n",
       "      <td>2017</td>\n",
       "      <td>последний</td>\n",
       "      <td>0.690476</td>\n",
       "      <td>0.130952</td>\n",
       "    </tr>\n",
       "    <tr>\n",
       "      <th>3148</th>\n",
       "      <td>14</td>\n",
       "      <td>2900000</td>\n",
       "      <td>75.0</td>\n",
       "      <td>2018-11-12</td>\n",
       "      <td>3</td>\n",
       "      <td>32.00</td>\n",
       "      <td>3.0</td>\n",
       "      <td>53.0</td>\n",
       "      <td>2</td>\n",
       "      <td>False</td>\n",
       "      <td>False</td>\n",
       "      <td>False</td>\n",
       "      <td>8.0</td>\n",
       "      <td>0</td>\n",
       "      <td>Волхов</td>\n",
       "      <td>NaN</td>\n",
       "      <td>NaN</td>\n",
       "      <td>NaN</td>\n",
       "      <td>NaN</td>\n",
       "      <td>NaN</td>\n",
       "      <td>NaN</td>\n",
       "      <td>233.0</td>\n",
       "      <td>38666.666667</td>\n",
       "      <td>0</td>\n",
       "      <td>11</td>\n",
       "      <td>2018</td>\n",
       "      <td>другой</td>\n",
       "      <td>0.706667</td>\n",
       "      <td>0.106667</td>\n",
       "    </tr>\n",
       "    <tr>\n",
       "      <th>4643</th>\n",
       "      <td>0</td>\n",
       "      <td>4300000</td>\n",
       "      <td>45.0</td>\n",
       "      <td>2018-02-01</td>\n",
       "      <td>2</td>\n",
       "      <td>25.00</td>\n",
       "      <td>9.0</td>\n",
       "      <td>30.0</td>\n",
       "      <td>2</td>\n",
       "      <td>False</td>\n",
       "      <td>False</td>\n",
       "      <td>False</td>\n",
       "      <td>7.0</td>\n",
       "      <td>1</td>\n",
       "      <td>Санкт-Петербург</td>\n",
       "      <td>12016.0</td>\n",
       "      <td>13256.0</td>\n",
       "      <td>1.0</td>\n",
       "      <td>658.0</td>\n",
       "      <td>1.0</td>\n",
       "      <td>331.0</td>\n",
       "      <td>181.0</td>\n",
       "      <td>95555.555556</td>\n",
       "      <td>3</td>\n",
       "      <td>2</td>\n",
       "      <td>2018</td>\n",
       "      <td>другой</td>\n",
       "      <td>0.666667</td>\n",
       "      <td>0.155556</td>\n",
       "    </tr>\n",
       "    <tr>\n",
       "      <th>4876</th>\n",
       "      <td>7</td>\n",
       "      <td>3000000</td>\n",
       "      <td>25.0</td>\n",
       "      <td>2017-09-27</td>\n",
       "      <td>0</td>\n",
       "      <td>27.00</td>\n",
       "      <td>25.0</td>\n",
       "      <td>17.0</td>\n",
       "      <td>17</td>\n",
       "      <td>False</td>\n",
       "      <td>False</td>\n",
       "      <td>True</td>\n",
       "      <td>NaN</td>\n",
       "      <td>2</td>\n",
       "      <td>посёлок Мурино</td>\n",
       "      <td>NaN</td>\n",
       "      <td>NaN</td>\n",
       "      <td>NaN</td>\n",
       "      <td>NaN</td>\n",
       "      <td>NaN</td>\n",
       "      <td>NaN</td>\n",
       "      <td>28.0</td>\n",
       "      <td>120000.000000</td>\n",
       "      <td>2</td>\n",
       "      <td>9</td>\n",
       "      <td>2017</td>\n",
       "      <td>другой</td>\n",
       "      <td>0.680000</td>\n",
       "      <td>NaN</td>\n",
       "    </tr>\n",
       "    <tr>\n",
       "      <th>5076</th>\n",
       "      <td>0</td>\n",
       "      <td>3850000</td>\n",
       "      <td>30.5</td>\n",
       "      <td>2018-10-03</td>\n",
       "      <td>1</td>\n",
       "      <td>24.00</td>\n",
       "      <td>5.0</td>\n",
       "      <td>19.5</td>\n",
       "      <td>1</td>\n",
       "      <td>True</td>\n",
       "      <td>False</td>\n",
       "      <td>False</td>\n",
       "      <td>5.5</td>\n",
       "      <td>0</td>\n",
       "      <td>Санкт-Петербург</td>\n",
       "      <td>29686.0</td>\n",
       "      <td>8389.0</td>\n",
       "      <td>3.0</td>\n",
       "      <td>397.0</td>\n",
       "      <td>1.0</td>\n",
       "      <td>578.0</td>\n",
       "      <td>7.0</td>\n",
       "      <td>126229.508197</td>\n",
       "      <td>2</td>\n",
       "      <td>10</td>\n",
       "      <td>2018</td>\n",
       "      <td>первый</td>\n",
       "      <td>0.639344</td>\n",
       "      <td>0.180328</td>\n",
       "    </tr>\n",
       "    <tr>\n",
       "      <th>5246</th>\n",
       "      <td>0</td>\n",
       "      <td>2500000</td>\n",
       "      <td>54.0</td>\n",
       "      <td>2017-10-13</td>\n",
       "      <td>2</td>\n",
       "      <td>27.00</td>\n",
       "      <td>5.0</td>\n",
       "      <td>30.0</td>\n",
       "      <td>3</td>\n",
       "      <td>False</td>\n",
       "      <td>False</td>\n",
       "      <td>False</td>\n",
       "      <td>9.0</td>\n",
       "      <td>2</td>\n",
       "      <td>деревня Мины</td>\n",
       "      <td>NaN</td>\n",
       "      <td>NaN</td>\n",
       "      <td>NaN</td>\n",
       "      <td>NaN</td>\n",
       "      <td>NaN</td>\n",
       "      <td>NaN</td>\n",
       "      <td>540.0</td>\n",
       "      <td>46296.296296</td>\n",
       "      <td>4</td>\n",
       "      <td>10</td>\n",
       "      <td>2017</td>\n",
       "      <td>другой</td>\n",
       "      <td>0.555556</td>\n",
       "      <td>0.166667</td>\n",
       "    </tr>\n",
       "    <tr>\n",
       "      <th>5669</th>\n",
       "      <td>4</td>\n",
       "      <td>4400000</td>\n",
       "      <td>50.0</td>\n",
       "      <td>2017-08-08</td>\n",
       "      <td>2</td>\n",
       "      <td>26.00</td>\n",
       "      <td>9.0</td>\n",
       "      <td>21.3</td>\n",
       "      <td>3</td>\n",
       "      <td>False</td>\n",
       "      <td>False</td>\n",
       "      <td>False</td>\n",
       "      <td>7.0</td>\n",
       "      <td>2</td>\n",
       "      <td>Санкт-Петербург</td>\n",
       "      <td>28981.0</td>\n",
       "      <td>10912.0</td>\n",
       "      <td>1.0</td>\n",
       "      <td>305.0</td>\n",
       "      <td>0.0</td>\n",
       "      <td>NaN</td>\n",
       "      <td>267.0</td>\n",
       "      <td>88000.000000</td>\n",
       "      <td>1</td>\n",
       "      <td>8</td>\n",
       "      <td>2017</td>\n",
       "      <td>другой</td>\n",
       "      <td>0.426000</td>\n",
       "      <td>0.140000</td>\n",
       "    </tr>\n",
       "    <tr>\n",
       "      <th>5807</th>\n",
       "      <td>17</td>\n",
       "      <td>8150000</td>\n",
       "      <td>80.0</td>\n",
       "      <td>2019-01-09</td>\n",
       "      <td>2</td>\n",
       "      <td>27.00</td>\n",
       "      <td>36.0</td>\n",
       "      <td>41.0</td>\n",
       "      <td>13</td>\n",
       "      <td>False</td>\n",
       "      <td>False</td>\n",
       "      <td>False</td>\n",
       "      <td>12.0</td>\n",
       "      <td>5</td>\n",
       "      <td>Санкт-Петербург</td>\n",
       "      <td>18732.0</td>\n",
       "      <td>20444.0</td>\n",
       "      <td>0.0</td>\n",
       "      <td>NaN</td>\n",
       "      <td>3.0</td>\n",
       "      <td>80.0</td>\n",
       "      <td>38.0</td>\n",
       "      <td>101875.000000</td>\n",
       "      <td>2</td>\n",
       "      <td>1</td>\n",
       "      <td>2019</td>\n",
       "      <td>другой</td>\n",
       "      <td>0.512500</td>\n",
       "      <td>0.150000</td>\n",
       "    </tr>\n",
       "    <tr>\n",
       "      <th>6246</th>\n",
       "      <td>6</td>\n",
       "      <td>3300000</td>\n",
       "      <td>44.4</td>\n",
       "      <td>2019-03-25</td>\n",
       "      <td>2</td>\n",
       "      <td>25.00</td>\n",
       "      <td>5.0</td>\n",
       "      <td>31.3</td>\n",
       "      <td>5</td>\n",
       "      <td>False</td>\n",
       "      <td>False</td>\n",
       "      <td>False</td>\n",
       "      <td>5.7</td>\n",
       "      <td>0</td>\n",
       "      <td>Кронштадт</td>\n",
       "      <td>68923.0</td>\n",
       "      <td>50649.0</td>\n",
       "      <td>1.0</td>\n",
       "      <td>417.0</td>\n",
       "      <td>2.0</td>\n",
       "      <td>73.0</td>\n",
       "      <td>100.0</td>\n",
       "      <td>74324.324324</td>\n",
       "      <td>0</td>\n",
       "      <td>3</td>\n",
       "      <td>2019</td>\n",
       "      <td>последний</td>\n",
       "      <td>0.704955</td>\n",
       "      <td>0.128378</td>\n",
       "    </tr>\n",
       "    <tr>\n",
       "      <th>9379</th>\n",
       "      <td>5</td>\n",
       "      <td>3950000</td>\n",
       "      <td>42.0</td>\n",
       "      <td>2017-03-26</td>\n",
       "      <td>3</td>\n",
       "      <td>25.00</td>\n",
       "      <td>5.0</td>\n",
       "      <td>30.0</td>\n",
       "      <td>2</td>\n",
       "      <td>False</td>\n",
       "      <td>False</td>\n",
       "      <td>False</td>\n",
       "      <td>5.2</td>\n",
       "      <td>0</td>\n",
       "      <td>Санкт-Петербург</td>\n",
       "      <td>11647.0</td>\n",
       "      <td>13581.0</td>\n",
       "      <td>0.0</td>\n",
       "      <td>NaN</td>\n",
       "      <td>0.0</td>\n",
       "      <td>NaN</td>\n",
       "      <td>829.0</td>\n",
       "      <td>94047.619048</td>\n",
       "      <td>6</td>\n",
       "      <td>3</td>\n",
       "      <td>2017</td>\n",
       "      <td>другой</td>\n",
       "      <td>0.714286</td>\n",
       "      <td>0.123810</td>\n",
       "    </tr>\n",
       "    <tr>\n",
       "      <th>10067</th>\n",
       "      <td>5</td>\n",
       "      <td>2100000</td>\n",
       "      <td>36.1</td>\n",
       "      <td>2016-04-29</td>\n",
       "      <td>1</td>\n",
       "      <td>13.85</td>\n",
       "      <td>5.0</td>\n",
       "      <td>17.5</td>\n",
       "      <td>5</td>\n",
       "      <td>False</td>\n",
       "      <td>False</td>\n",
       "      <td>False</td>\n",
       "      <td>8.5</td>\n",
       "      <td>0</td>\n",
       "      <td>поселок Новый Свет</td>\n",
       "      <td>NaN</td>\n",
       "      <td>NaN</td>\n",
       "      <td>NaN</td>\n",
       "      <td>NaN</td>\n",
       "      <td>NaN</td>\n",
       "      <td>NaN</td>\n",
       "      <td>206.0</td>\n",
       "      <td>58171.745152</td>\n",
       "      <td>4</td>\n",
       "      <td>4</td>\n",
       "      <td>2016</td>\n",
       "      <td>последний</td>\n",
       "      <td>0.484765</td>\n",
       "      <td>0.235457</td>\n",
       "    </tr>\n",
       "    <tr>\n",
       "      <th>10069</th>\n",
       "      <td>6</td>\n",
       "      <td>2000000</td>\n",
       "      <td>46.0</td>\n",
       "      <td>2017-09-25</td>\n",
       "      <td>2</td>\n",
       "      <td>13.85</td>\n",
       "      <td>5.0</td>\n",
       "      <td>30.0</td>\n",
       "      <td>1</td>\n",
       "      <td>False</td>\n",
       "      <td>False</td>\n",
       "      <td>False</td>\n",
       "      <td>6.0</td>\n",
       "      <td>0</td>\n",
       "      <td>поселок Новый Свет</td>\n",
       "      <td>NaN</td>\n",
       "      <td>NaN</td>\n",
       "      <td>NaN</td>\n",
       "      <td>NaN</td>\n",
       "      <td>NaN</td>\n",
       "      <td>NaN</td>\n",
       "      <td>10.0</td>\n",
       "      <td>43478.260870</td>\n",
       "      <td>0</td>\n",
       "      <td>9</td>\n",
       "      <td>2017</td>\n",
       "      <td>первый</td>\n",
       "      <td>0.652174</td>\n",
       "      <td>0.130435</td>\n",
       "    </tr>\n",
       "    <tr>\n",
       "      <th>10773</th>\n",
       "      <td>8</td>\n",
       "      <td>3800000</td>\n",
       "      <td>58.0</td>\n",
       "      <td>2017-10-13</td>\n",
       "      <td>2</td>\n",
       "      <td>27.00</td>\n",
       "      <td>10.0</td>\n",
       "      <td>30.1</td>\n",
       "      <td>3</td>\n",
       "      <td>False</td>\n",
       "      <td>False</td>\n",
       "      <td>False</td>\n",
       "      <td>8.1</td>\n",
       "      <td>2</td>\n",
       "      <td>посёлок Мурино</td>\n",
       "      <td>NaN</td>\n",
       "      <td>NaN</td>\n",
       "      <td>NaN</td>\n",
       "      <td>NaN</td>\n",
       "      <td>NaN</td>\n",
       "      <td>NaN</td>\n",
       "      <td>71.0</td>\n",
       "      <td>65517.241379</td>\n",
       "      <td>4</td>\n",
       "      <td>10</td>\n",
       "      <td>2017</td>\n",
       "      <td>другой</td>\n",
       "      <td>0.518966</td>\n",
       "      <td>0.139655</td>\n",
       "    </tr>\n",
       "    <tr>\n",
       "      <th>11285</th>\n",
       "      <td>0</td>\n",
       "      <td>1950000</td>\n",
       "      <td>37.0</td>\n",
       "      <td>2019-03-20</td>\n",
       "      <td>1</td>\n",
       "      <td>25.00</td>\n",
       "      <td>5.0</td>\n",
       "      <td>17.0</td>\n",
       "      <td>4</td>\n",
       "      <td>False</td>\n",
       "      <td>False</td>\n",
       "      <td>False</td>\n",
       "      <td>9.0</td>\n",
       "      <td>2</td>\n",
       "      <td>Луга</td>\n",
       "      <td>NaN</td>\n",
       "      <td>NaN</td>\n",
       "      <td>NaN</td>\n",
       "      <td>NaN</td>\n",
       "      <td>NaN</td>\n",
       "      <td>NaN</td>\n",
       "      <td>18.0</td>\n",
       "      <td>52702.702703</td>\n",
       "      <td>2</td>\n",
       "      <td>3</td>\n",
       "      <td>2019</td>\n",
       "      <td>другой</td>\n",
       "      <td>0.459459</td>\n",
       "      <td>0.243243</td>\n",
       "    </tr>\n",
       "    <tr>\n",
       "      <th>14382</th>\n",
       "      <td>9</td>\n",
       "      <td>1700000</td>\n",
       "      <td>35.0</td>\n",
       "      <td>2015-12-04</td>\n",
       "      <td>1</td>\n",
       "      <td>25.00</td>\n",
       "      <td>5.0</td>\n",
       "      <td>20.0</td>\n",
       "      <td>2</td>\n",
       "      <td>False</td>\n",
       "      <td>False</td>\n",
       "      <td>False</td>\n",
       "      <td>8.0</td>\n",
       "      <td>1</td>\n",
       "      <td>поселок Новый Свет</td>\n",
       "      <td>NaN</td>\n",
       "      <td>NaN</td>\n",
       "      <td>NaN</td>\n",
       "      <td>NaN</td>\n",
       "      <td>NaN</td>\n",
       "      <td>NaN</td>\n",
       "      <td>206.0</td>\n",
       "      <td>48571.428571</td>\n",
       "      <td>4</td>\n",
       "      <td>12</td>\n",
       "      <td>2015</td>\n",
       "      <td>другой</td>\n",
       "      <td>0.571429</td>\n",
       "      <td>0.228571</td>\n",
       "    </tr>\n",
       "    <tr>\n",
       "      <th>15061</th>\n",
       "      <td>19</td>\n",
       "      <td>5600000</td>\n",
       "      <td>56.4</td>\n",
       "      <td>2018-05-11</td>\n",
       "      <td>2</td>\n",
       "      <td>14.00</td>\n",
       "      <td>14.0</td>\n",
       "      <td>32.4</td>\n",
       "      <td>5</td>\n",
       "      <td>False</td>\n",
       "      <td>False</td>\n",
       "      <td>False</td>\n",
       "      <td>9.1</td>\n",
       "      <td>2</td>\n",
       "      <td>Санкт-Петербург</td>\n",
       "      <td>14814.0</td>\n",
       "      <td>13610.0</td>\n",
       "      <td>0.0</td>\n",
       "      <td>NaN</td>\n",
       "      <td>0.0</td>\n",
       "      <td>NaN</td>\n",
       "      <td>315.0</td>\n",
       "      <td>99290.780142</td>\n",
       "      <td>4</td>\n",
       "      <td>5</td>\n",
       "      <td>2018</td>\n",
       "      <td>другой</td>\n",
       "      <td>0.574468</td>\n",
       "      <td>0.161348</td>\n",
       "    </tr>\n",
       "    <tr>\n",
       "      <th>17496</th>\n",
       "      <td>15</td>\n",
       "      <td>6700000</td>\n",
       "      <td>92.9</td>\n",
       "      <td>2019-02-19</td>\n",
       "      <td>3</td>\n",
       "      <td>20.00</td>\n",
       "      <td>17.0</td>\n",
       "      <td>53.2</td>\n",
       "      <td>14</td>\n",
       "      <td>False</td>\n",
       "      <td>False</td>\n",
       "      <td>False</td>\n",
       "      <td>12.0</td>\n",
       "      <td>5</td>\n",
       "      <td>Санкт-Петербург</td>\n",
       "      <td>16295.0</td>\n",
       "      <td>15092.0</td>\n",
       "      <td>1.0</td>\n",
       "      <td>967.0</td>\n",
       "      <td>0.0</td>\n",
       "      <td>NaN</td>\n",
       "      <td>134.0</td>\n",
       "      <td>72120.559742</td>\n",
       "      <td>1</td>\n",
       "      <td>2</td>\n",
       "      <td>2019</td>\n",
       "      <td>другой</td>\n",
       "      <td>0.572659</td>\n",
       "      <td>0.129171</td>\n",
       "    </tr>\n",
       "    <tr>\n",
       "      <th>17857</th>\n",
       "      <td>1</td>\n",
       "      <td>3900000</td>\n",
       "      <td>56.0</td>\n",
       "      <td>2017-12-22</td>\n",
       "      <td>3</td>\n",
       "      <td>27.00</td>\n",
       "      <td>5.0</td>\n",
       "      <td>33.0</td>\n",
       "      <td>4</td>\n",
       "      <td>False</td>\n",
       "      <td>False</td>\n",
       "      <td>False</td>\n",
       "      <td>NaN</td>\n",
       "      <td>0</td>\n",
       "      <td>Санкт-Петербург</td>\n",
       "      <td>41030.0</td>\n",
       "      <td>15543.0</td>\n",
       "      <td>0.0</td>\n",
       "      <td>NaN</td>\n",
       "      <td>0.0</td>\n",
       "      <td>NaN</td>\n",
       "      <td>73.0</td>\n",
       "      <td>69642.857143</td>\n",
       "      <td>4</td>\n",
       "      <td>12</td>\n",
       "      <td>2017</td>\n",
       "      <td>другой</td>\n",
       "      <td>0.589286</td>\n",
       "      <td>NaN</td>\n",
       "    </tr>\n",
       "    <tr>\n",
       "      <th>18545</th>\n",
       "      <td>6</td>\n",
       "      <td>3750000</td>\n",
       "      <td>43.0</td>\n",
       "      <td>2019-03-18</td>\n",
       "      <td>2</td>\n",
       "      <td>25.00</td>\n",
       "      <td>5.0</td>\n",
       "      <td>29.0</td>\n",
       "      <td>3</td>\n",
       "      <td>False</td>\n",
       "      <td>False</td>\n",
       "      <td>False</td>\n",
       "      <td>NaN</td>\n",
       "      <td>0</td>\n",
       "      <td>Санкт-Петербург</td>\n",
       "      <td>27054.0</td>\n",
       "      <td>8033.0</td>\n",
       "      <td>1.0</td>\n",
       "      <td>540.0</td>\n",
       "      <td>0.0</td>\n",
       "      <td>NaN</td>\n",
       "      <td>12.0</td>\n",
       "      <td>87209.302326</td>\n",
       "      <td>0</td>\n",
       "      <td>3</td>\n",
       "      <td>2019</td>\n",
       "      <td>другой</td>\n",
       "      <td>0.674419</td>\n",
       "      <td>NaN</td>\n",
       "    </tr>\n",
       "    <tr>\n",
       "      <th>20478</th>\n",
       "      <td>11</td>\n",
       "      <td>8000000</td>\n",
       "      <td>45.0</td>\n",
       "      <td>2017-07-18</td>\n",
       "      <td>1</td>\n",
       "      <td>27.00</td>\n",
       "      <td>4.0</td>\n",
       "      <td>22.0</td>\n",
       "      <td>2</td>\n",
       "      <td>False</td>\n",
       "      <td>False</td>\n",
       "      <td>False</td>\n",
       "      <td>10.0</td>\n",
       "      <td>1</td>\n",
       "      <td>Санкт-Петербург</td>\n",
       "      <td>18975.0</td>\n",
       "      <td>3246.0</td>\n",
       "      <td>0.0</td>\n",
       "      <td>NaN</td>\n",
       "      <td>3.0</td>\n",
       "      <td>449.0</td>\n",
       "      <td>429.0</td>\n",
       "      <td>177777.777778</td>\n",
       "      <td>1</td>\n",
       "      <td>7</td>\n",
       "      <td>2017</td>\n",
       "      <td>другой</td>\n",
       "      <td>0.488889</td>\n",
       "      <td>0.222222</td>\n",
       "    </tr>\n",
       "    <tr>\n",
       "      <th>20507</th>\n",
       "      <td>12</td>\n",
       "      <td>5950000</td>\n",
       "      <td>60.0</td>\n",
       "      <td>2018-02-19</td>\n",
       "      <td>2</td>\n",
       "      <td>22.60</td>\n",
       "      <td>14.0</td>\n",
       "      <td>35.0</td>\n",
       "      <td>11</td>\n",
       "      <td>False</td>\n",
       "      <td>False</td>\n",
       "      <td>False</td>\n",
       "      <td>13.0</td>\n",
       "      <td>1</td>\n",
       "      <td>Санкт-Петербург</td>\n",
       "      <td>27028.0</td>\n",
       "      <td>12570.0</td>\n",
       "      <td>0.0</td>\n",
       "      <td>NaN</td>\n",
       "      <td>0.0</td>\n",
       "      <td>NaN</td>\n",
       "      <td>40.0</td>\n",
       "      <td>99166.666667</td>\n",
       "      <td>0</td>\n",
       "      <td>2</td>\n",
       "      <td>2018</td>\n",
       "      <td>другой</td>\n",
       "      <td>0.583333</td>\n",
       "      <td>0.216667</td>\n",
       "    </tr>\n",
       "    <tr>\n",
       "      <th>21377</th>\n",
       "      <td>19</td>\n",
       "      <td>4900000</td>\n",
       "      <td>42.0</td>\n",
       "      <td>2017-04-18</td>\n",
       "      <td>1</td>\n",
       "      <td>27.50</td>\n",
       "      <td>24.0</td>\n",
       "      <td>37.7</td>\n",
       "      <td>19</td>\n",
       "      <td>False</td>\n",
       "      <td>False</td>\n",
       "      <td>False</td>\n",
       "      <td>11.0</td>\n",
       "      <td>2</td>\n",
       "      <td>Санкт-Петербург</td>\n",
       "      <td>42742.0</td>\n",
       "      <td>9760.0</td>\n",
       "      <td>0.0</td>\n",
       "      <td>NaN</td>\n",
       "      <td>0.0</td>\n",
       "      <td>NaN</td>\n",
       "      <td>61.0</td>\n",
       "      <td>116666.666667</td>\n",
       "      <td>1</td>\n",
       "      <td>4</td>\n",
       "      <td>2017</td>\n",
       "      <td>другой</td>\n",
       "      <td>0.897619</td>\n",
       "      <td>0.261905</td>\n",
       "    </tr>\n",
       "    <tr>\n",
       "      <th>21824</th>\n",
       "      <td>20</td>\n",
       "      <td>2450000</td>\n",
       "      <td>44.0</td>\n",
       "      <td>2019-02-12</td>\n",
       "      <td>2</td>\n",
       "      <td>27.00</td>\n",
       "      <td>2.0</td>\n",
       "      <td>38.0</td>\n",
       "      <td>2</td>\n",
       "      <td>False</td>\n",
       "      <td>False</td>\n",
       "      <td>False</td>\n",
       "      <td>8.6</td>\n",
       "      <td>2</td>\n",
       "      <td>городской поселок Большая Ижора</td>\n",
       "      <td>NaN</td>\n",
       "      <td>NaN</td>\n",
       "      <td>NaN</td>\n",
       "      <td>NaN</td>\n",
       "      <td>NaN</td>\n",
       "      <td>NaN</td>\n",
       "      <td>141.0</td>\n",
       "      <td>55681.818182</td>\n",
       "      <td>1</td>\n",
       "      <td>2</td>\n",
       "      <td>2019</td>\n",
       "      <td>последний</td>\n",
       "      <td>0.863636</td>\n",
       "      <td>0.195455</td>\n",
       "    </tr>\n",
       "    <tr>\n",
       "      <th>22309</th>\n",
       "      <td>20</td>\n",
       "      <td>5300000</td>\n",
       "      <td>45.0</td>\n",
       "      <td>2017-09-30</td>\n",
       "      <td>1</td>\n",
       "      <td>10.30</td>\n",
       "      <td>16.0</td>\n",
       "      <td>15.5</td>\n",
       "      <td>15</td>\n",
       "      <td>False</td>\n",
       "      <td>False</td>\n",
       "      <td>False</td>\n",
       "      <td>NaN</td>\n",
       "      <td>0</td>\n",
       "      <td>Санкт-Петербург</td>\n",
       "      <td>36353.0</td>\n",
       "      <td>11936.0</td>\n",
       "      <td>2.0</td>\n",
       "      <td>440.0</td>\n",
       "      <td>2.0</td>\n",
       "      <td>450.0</td>\n",
       "      <td>136.0</td>\n",
       "      <td>117777.777778</td>\n",
       "      <td>5</td>\n",
       "      <td>9</td>\n",
       "      <td>2017</td>\n",
       "      <td>другой</td>\n",
       "      <td>0.344444</td>\n",
       "      <td>NaN</td>\n",
       "    </tr>\n",
       "    <tr>\n",
       "      <th>22336</th>\n",
       "      <td>19</td>\n",
       "      <td>9999000</td>\n",
       "      <td>92.4</td>\n",
       "      <td>2019-04-05</td>\n",
       "      <td>2</td>\n",
       "      <td>32.00</td>\n",
       "      <td>6.0</td>\n",
       "      <td>55.5</td>\n",
       "      <td>5</td>\n",
       "      <td>False</td>\n",
       "      <td>False</td>\n",
       "      <td>False</td>\n",
       "      <td>16.5</td>\n",
       "      <td>4</td>\n",
       "      <td>Санкт-Петербург</td>\n",
       "      <td>18838.0</td>\n",
       "      <td>3506.0</td>\n",
       "      <td>0.0</td>\n",
       "      <td>NaN</td>\n",
       "      <td>3.0</td>\n",
       "      <td>511.0</td>\n",
       "      <td>89.0</td>\n",
       "      <td>108214.285714</td>\n",
       "      <td>4</td>\n",
       "      <td>4</td>\n",
       "      <td>2019</td>\n",
       "      <td>другой</td>\n",
       "      <td>0.600649</td>\n",
       "      <td>0.178571</td>\n",
       "    </tr>\n",
       "    <tr>\n",
       "      <th>22869</th>\n",
       "      <td>0</td>\n",
       "      <td>15000000</td>\n",
       "      <td>25.0</td>\n",
       "      <td>2018-07-25</td>\n",
       "      <td>1</td>\n",
       "      <td>100.00</td>\n",
       "      <td>5.0</td>\n",
       "      <td>14.0</td>\n",
       "      <td>5</td>\n",
       "      <td>True</td>\n",
       "      <td>False</td>\n",
       "      <td>False</td>\n",
       "      <td>11.0</td>\n",
       "      <td>5</td>\n",
       "      <td>Санкт-Петербург</td>\n",
       "      <td>34963.0</td>\n",
       "      <td>8283.0</td>\n",
       "      <td>1.0</td>\n",
       "      <td>223.0</td>\n",
       "      <td>3.0</td>\n",
       "      <td>30.0</td>\n",
       "      <td>19.0</td>\n",
       "      <td>600000.000000</td>\n",
       "      <td>2</td>\n",
       "      <td>7</td>\n",
       "      <td>2018</td>\n",
       "      <td>последний</td>\n",
       "      <td>0.560000</td>\n",
       "      <td>0.440000</td>\n",
       "    </tr>\n",
       "    <tr>\n",
       "      <th>22938</th>\n",
       "      <td>14</td>\n",
       "      <td>4000000</td>\n",
       "      <td>98.0</td>\n",
       "      <td>2018-03-15</td>\n",
       "      <td>4</td>\n",
       "      <td>27.00</td>\n",
       "      <td>2.0</td>\n",
       "      <td>73.0</td>\n",
       "      <td>2</td>\n",
       "      <td>True</td>\n",
       "      <td>False</td>\n",
       "      <td>False</td>\n",
       "      <td>9.0</td>\n",
       "      <td>1</td>\n",
       "      <td>деревня Нижняя</td>\n",
       "      <td>NaN</td>\n",
       "      <td>NaN</td>\n",
       "      <td>NaN</td>\n",
       "      <td>NaN</td>\n",
       "      <td>NaN</td>\n",
       "      <td>NaN</td>\n",
       "      <td>27.0</td>\n",
       "      <td>40816.326531</td>\n",
       "      <td>3</td>\n",
       "      <td>3</td>\n",
       "      <td>2018</td>\n",
       "      <td>последний</td>\n",
       "      <td>0.744898</td>\n",
       "      <td>0.091837</td>\n",
       "    </tr>\n",
       "  </tbody>\n",
       "</table>\n",
       "</div>"
      ],
      "text/plain": [
       "       total_images  last_price  total_area first_day_exposition  rooms  \\\n",
       "313               1     2450000        49.0           2016-03-09      3   \n",
       "355              17     3600000        55.2           2018-07-12      2   \n",
       "2158             15     1500000        42.0           2017-12-23      2   \n",
       "3148             14     2900000        75.0           2018-11-12      3   \n",
       "4643              0     4300000        45.0           2018-02-01      2   \n",
       "4876              7     3000000        25.0           2017-09-27      0   \n",
       "5076              0     3850000        30.5           2018-10-03      1   \n",
       "5246              0     2500000        54.0           2017-10-13      2   \n",
       "5669              4     4400000        50.0           2017-08-08      2   \n",
       "5807             17     8150000        80.0           2019-01-09      2   \n",
       "6246              6     3300000        44.4           2019-03-25      2   \n",
       "9379              5     3950000        42.0           2017-03-26      3   \n",
       "10067             5     2100000        36.1           2016-04-29      1   \n",
       "10069             6     2000000        46.0           2017-09-25      2   \n",
       "10773             8     3800000        58.0           2017-10-13      2   \n",
       "11285             0     1950000        37.0           2019-03-20      1   \n",
       "14382             9     1700000        35.0           2015-12-04      1   \n",
       "15061            19     5600000        56.4           2018-05-11      2   \n",
       "17496            15     6700000        92.9           2019-02-19      3   \n",
       "17857             1     3900000        56.0           2017-12-22      3   \n",
       "18545             6     3750000        43.0           2019-03-18      2   \n",
       "20478            11     8000000        45.0           2017-07-18      1   \n",
       "20507            12     5950000        60.0           2018-02-19      2   \n",
       "21377            19     4900000        42.0           2017-04-18      1   \n",
       "21824            20     2450000        44.0           2019-02-12      2   \n",
       "22309            20     5300000        45.0           2017-09-30      1   \n",
       "22336            19     9999000        92.4           2019-04-05      2   \n",
       "22869             0    15000000        25.0           2018-07-25      1   \n",
       "22938            14     4000000        98.0           2018-03-15      4   \n",
       "\n",
       "       ceiling_height  floors_total  living_area  floor  is_apartment  studio  \\\n",
       "313             13.85           5.0         34.0      2         False   False   \n",
       "355             25.00           5.0         32.0      2         False   False   \n",
       "2158            27.00           2.0         29.0      2         False   False   \n",
       "3148            32.00           3.0         53.0      2         False   False   \n",
       "4643            25.00           9.0         30.0      2         False   False   \n",
       "4876            27.00          25.0         17.0     17         False   False   \n",
       "5076            24.00           5.0         19.5      1          True   False   \n",
       "5246            27.00           5.0         30.0      3         False   False   \n",
       "5669            26.00           9.0         21.3      3         False   False   \n",
       "5807            27.00          36.0         41.0     13         False   False   \n",
       "6246            25.00           5.0         31.3      5         False   False   \n",
       "9379            25.00           5.0         30.0      2         False   False   \n",
       "10067           13.85           5.0         17.5      5         False   False   \n",
       "10069           13.85           5.0         30.0      1         False   False   \n",
       "10773           27.00          10.0         30.1      3         False   False   \n",
       "11285           25.00           5.0         17.0      4         False   False   \n",
       "14382           25.00           5.0         20.0      2         False   False   \n",
       "15061           14.00          14.0         32.4      5         False   False   \n",
       "17496           20.00          17.0         53.2     14         False   False   \n",
       "17857           27.00           5.0         33.0      4         False   False   \n",
       "18545           25.00           5.0         29.0      3         False   False   \n",
       "20478           27.00           4.0         22.0      2         False   False   \n",
       "20507           22.60          14.0         35.0     11         False   False   \n",
       "21377           27.50          24.0         37.7     19         False   False   \n",
       "21824           27.00           2.0         38.0      2         False   False   \n",
       "22309           10.30          16.0         15.5     15         False   False   \n",
       "22336           32.00           6.0         55.5      5         False   False   \n",
       "22869          100.00           5.0         14.0      5          True   False   \n",
       "22938           27.00           2.0         73.0      2          True   False   \n",
       "\n",
       "       open_plan  kitchen_area  balcony                    locality_name  \\\n",
       "313        False           5.5        1               поселок Новый Свет   \n",
       "355        False           NaN        2                          Гатчина   \n",
       "2158       False           5.5        0                     деревня Мины   \n",
       "3148       False           8.0        0                           Волхов   \n",
       "4643       False           7.0        1                  Санкт-Петербург   \n",
       "4876        True           NaN        2                   посёлок Мурино   \n",
       "5076       False           5.5        0                  Санкт-Петербург   \n",
       "5246       False           9.0        2                     деревня Мины   \n",
       "5669       False           7.0        2                  Санкт-Петербург   \n",
       "5807       False          12.0        5                  Санкт-Петербург   \n",
       "6246       False           5.7        0                        Кронштадт   \n",
       "9379       False           5.2        0                  Санкт-Петербург   \n",
       "10067      False           8.5        0               поселок Новый Свет   \n",
       "10069      False           6.0        0               поселок Новый Свет   \n",
       "10773      False           8.1        2                   посёлок Мурино   \n",
       "11285      False           9.0        2                             Луга   \n",
       "14382      False           8.0        1               поселок Новый Свет   \n",
       "15061      False           9.1        2                  Санкт-Петербург   \n",
       "17496      False          12.0        5                  Санкт-Петербург   \n",
       "17857      False           NaN        0                  Санкт-Петербург   \n",
       "18545      False           NaN        0                  Санкт-Петербург   \n",
       "20478      False          10.0        1                  Санкт-Петербург   \n",
       "20507      False          13.0        1                  Санкт-Петербург   \n",
       "21377      False          11.0        2                  Санкт-Петербург   \n",
       "21824      False           8.6        2  городской поселок Большая Ижора   \n",
       "22309      False           NaN        0                  Санкт-Петербург   \n",
       "22336      False          16.5        4                  Санкт-Петербург   \n",
       "22869      False          11.0        5                  Санкт-Петербург   \n",
       "22938      False           9.0        1                   деревня Нижняя   \n",
       "\n",
       "       airports_nearest  cityCenters_nearest  parks_around3000  parks_nearest  \\\n",
       "313                 NaN                  NaN               NaN            NaN   \n",
       "355                 NaN                  NaN               NaN            NaN   \n",
       "2158                NaN                  NaN               NaN            NaN   \n",
       "3148                NaN                  NaN               NaN            NaN   \n",
       "4643            12016.0              13256.0               1.0          658.0   \n",
       "4876                NaN                  NaN               NaN            NaN   \n",
       "5076            29686.0               8389.0               3.0          397.0   \n",
       "5246                NaN                  NaN               NaN            NaN   \n",
       "5669            28981.0              10912.0               1.0          305.0   \n",
       "5807            18732.0              20444.0               0.0            NaN   \n",
       "6246            68923.0              50649.0               1.0          417.0   \n",
       "9379            11647.0              13581.0               0.0            NaN   \n",
       "10067               NaN                  NaN               NaN            NaN   \n",
       "10069               NaN                  NaN               NaN            NaN   \n",
       "10773               NaN                  NaN               NaN            NaN   \n",
       "11285               NaN                  NaN               NaN            NaN   \n",
       "14382               NaN                  NaN               NaN            NaN   \n",
       "15061           14814.0              13610.0               0.0            NaN   \n",
       "17496           16295.0              15092.0               1.0          967.0   \n",
       "17857           41030.0              15543.0               0.0            NaN   \n",
       "18545           27054.0               8033.0               1.0          540.0   \n",
       "20478           18975.0               3246.0               0.0            NaN   \n",
       "20507           27028.0              12570.0               0.0            NaN   \n",
       "21377           42742.0               9760.0               0.0            NaN   \n",
       "21824               NaN                  NaN               NaN            NaN   \n",
       "22309           36353.0              11936.0               2.0          440.0   \n",
       "22336           18838.0               3506.0               0.0            NaN   \n",
       "22869           34963.0               8283.0               1.0          223.0   \n",
       "22938               NaN                  NaN               NaN            NaN   \n",
       "\n",
       "       ponds_around3000  ponds_nearest  days_exposition  price_per_meter  \\\n",
       "313                 NaN            NaN            189.0     50000.000000   \n",
       "355                 NaN            NaN            259.0     65217.391304   \n",
       "2158                NaN            NaN            557.0     35714.285714   \n",
       "3148                NaN            NaN            233.0     38666.666667   \n",
       "4643                1.0          331.0            181.0     95555.555556   \n",
       "4876                NaN            NaN             28.0    120000.000000   \n",
       "5076                1.0          578.0              7.0    126229.508197   \n",
       "5246                NaN            NaN            540.0     46296.296296   \n",
       "5669                0.0            NaN            267.0     88000.000000   \n",
       "5807                3.0           80.0             38.0    101875.000000   \n",
       "6246                2.0           73.0            100.0     74324.324324   \n",
       "9379                0.0            NaN            829.0     94047.619048   \n",
       "10067               NaN            NaN            206.0     58171.745152   \n",
       "10069               NaN            NaN             10.0     43478.260870   \n",
       "10773               NaN            NaN             71.0     65517.241379   \n",
       "11285               NaN            NaN             18.0     52702.702703   \n",
       "14382               NaN            NaN            206.0     48571.428571   \n",
       "15061               0.0            NaN            315.0     99290.780142   \n",
       "17496               0.0            NaN            134.0     72120.559742   \n",
       "17857               0.0            NaN             73.0     69642.857143   \n",
       "18545               0.0            NaN             12.0     87209.302326   \n",
       "20478               3.0          449.0            429.0    177777.777778   \n",
       "20507               0.0            NaN             40.0     99166.666667   \n",
       "21377               0.0            NaN             61.0    116666.666667   \n",
       "21824               NaN            NaN            141.0     55681.818182   \n",
       "22309               2.0          450.0            136.0    117777.777778   \n",
       "22336               3.0          511.0             89.0    108214.285714   \n",
       "22869               3.0           30.0             19.0    600000.000000   \n",
       "22938               NaN            NaN             27.0     40816.326531   \n",
       "\n",
       "       day_of_week  month  year floor_name  ratio_la  ratio_kitchen  \n",
       "313              2      3  2016     другой  0.693878       0.112245  \n",
       "355              3      7  2018     другой  0.579710            NaN  \n",
       "2158             5     12  2017  последний  0.690476       0.130952  \n",
       "3148             0     11  2018     другой  0.706667       0.106667  \n",
       "4643             3      2  2018     другой  0.666667       0.155556  \n",
       "4876             2      9  2017     другой  0.680000            NaN  \n",
       "5076             2     10  2018     первый  0.639344       0.180328  \n",
       "5246             4     10  2017     другой  0.555556       0.166667  \n",
       "5669             1      8  2017     другой  0.426000       0.140000  \n",
       "5807             2      1  2019     другой  0.512500       0.150000  \n",
       "6246             0      3  2019  последний  0.704955       0.128378  \n",
       "9379             6      3  2017     другой  0.714286       0.123810  \n",
       "10067            4      4  2016  последний  0.484765       0.235457  \n",
       "10069            0      9  2017     первый  0.652174       0.130435  \n",
       "10773            4     10  2017     другой  0.518966       0.139655  \n",
       "11285            2      3  2019     другой  0.459459       0.243243  \n",
       "14382            4     12  2015     другой  0.571429       0.228571  \n",
       "15061            4      5  2018     другой  0.574468       0.161348  \n",
       "17496            1      2  2019     другой  0.572659       0.129171  \n",
       "17857            4     12  2017     другой  0.589286            NaN  \n",
       "18545            0      3  2019     другой  0.674419            NaN  \n",
       "20478            1      7  2017     другой  0.488889       0.222222  \n",
       "20507            0      2  2018     другой  0.583333       0.216667  \n",
       "21377            1      4  2017     другой  0.897619       0.261905  \n",
       "21824            1      2  2019  последний  0.863636       0.195455  \n",
       "22309            5      9  2017     другой  0.344444            NaN  \n",
       "22336            4      4  2019     другой  0.600649       0.178571  \n",
       "22869            2      7  2018  последний  0.560000       0.440000  \n",
       "22938            3      3  2018  последний  0.744898       0.091837  "
      ]
     },
     "execution_count": 42,
     "metadata": {},
     "output_type": "execute_result"
    }
   ],
   "source": [
    "# аномалии в высоте потолков\n",
    "display(data[data['ceiling_height'] < 2.4])\n",
    "data[data['ceiling_height'] > 10]"
   ]
  },
  {
   "cell_type": "markdown",
   "metadata": {},
   "source": [
    "В общей сложности в датасете обнаружилось 46 квартир с нестандартной высотой потолков (меньше 2.4 м и больше 10 м). Так как их мало, удаление этих строк не повлияет на выводы."
   ]
  },
  {
   "cell_type": "code",
   "execution_count": 43,
   "metadata": {},
   "outputs": [],
   "source": [
    "# удаление квартир с нестандартными потолками\n",
    "data = data[(data['ceiling_height'] > 2.4) & (data['ceiling_height'] < 10)]"
   ]
  },
  {
   "cell_type": "code",
   "execution_count": 44,
   "metadata": {
    "scrolled": true
   },
   "outputs": [
    {
     "data": {
      "text/plain": [
       "count    2.338600e+04\n",
       "mean     6.574224e+06\n",
       "std      1.094610e+07\n",
       "min      1.219000e+04\n",
       "25%      3.450000e+06\n",
       "50%      4.650000e+06\n",
       "75%      6.800000e+06\n",
       "max      7.630000e+08\n",
       "Name: last_price, dtype: float64"
      ]
     },
     "execution_count": 44,
     "metadata": {},
     "output_type": "execute_result"
    }
   ],
   "source": [
    "# описание столбца \"last_price\"\n",
    "data['last_price'].describe()"
   ]
  },
  {
   "cell_type": "code",
   "execution_count": 45,
   "metadata": {},
   "outputs": [
    {
     "data": {
      "text/plain": [
       "<AxesSubplot:>"
      ]
     },
     "execution_count": 45,
     "metadata": {},
     "output_type": "execute_result"
    },
    {
     "data": {
      "image/png": "[encoded data removed]",
      "text/plain": [
       "<Figure size 432x288 with 1 Axes>"
      ]
     },
     "metadata": {
      "needs_background": "light"
     },
     "output_type": "display_data"
    }
   ],
   "source": [
    "data.boxplot(column='last_price')"
   ]
  },
  {
   "cell_type": "markdown",
   "metadata": {},
   "source": [
    "В то время как \"верхние\" выбросы вполне могут являться реальными ценами, нижние пороги значений (121900 р., минимальное значение датасета) представляются выбросами."
   ]
  },
  {
   "cell_type": "code",
   "execution_count": 46,
   "metadata": {},
   "outputs": [
    {
     "data": {
      "text/html": [
       "<div>\n",
       "<style scoped>\n",
       "    .dataframe tbody tr th:only-of-type {\n",
       "        vertical-align: middle;\n",
       "    }\n",
       "\n",
       "    .dataframe tbody tr th {\n",
       "        vertical-align: top;\n",
       "    }\n",
       "\n",
       "    .dataframe thead th {\n",
       "        text-align: right;\n",
       "    }\n",
       "</style>\n",
       "<table border=\"1\" class=\"dataframe\">\n",
       "  <thead>\n",
       "    <tr style=\"text-align: right;\">\n",
       "      <th></th>\n",
       "      <th>total_images</th>\n",
       "      <th>last_price</th>\n",
       "      <th>total_area</th>\n",
       "      <th>first_day_exposition</th>\n",
       "      <th>rooms</th>\n",
       "      <th>ceiling_height</th>\n",
       "      <th>floors_total</th>\n",
       "      <th>living_area</th>\n",
       "      <th>floor</th>\n",
       "      <th>is_apartment</th>\n",
       "      <th>studio</th>\n",
       "      <th>open_plan</th>\n",
       "      <th>kitchen_area</th>\n",
       "      <th>balcony</th>\n",
       "      <th>locality_name</th>\n",
       "      <th>airports_nearest</th>\n",
       "      <th>cityCenters_nearest</th>\n",
       "      <th>parks_around3000</th>\n",
       "      <th>parks_nearest</th>\n",
       "      <th>ponds_around3000</th>\n",
       "      <th>ponds_nearest</th>\n",
       "      <th>days_exposition</th>\n",
       "      <th>price_per_meter</th>\n",
       "      <th>day_of_week</th>\n",
       "      <th>month</th>\n",
       "      <th>year</th>\n",
       "      <th>floor_name</th>\n",
       "      <th>ratio_la</th>\n",
       "      <th>ratio_kitchen</th>\n",
       "    </tr>\n",
       "  </thead>\n",
       "  <tbody>\n",
       "    <tr>\n",
       "      <th>164</th>\n",
       "      <td>6</td>\n",
       "      <td>800000</td>\n",
       "      <td>40.3</td>\n",
       "      <td>2018-06-25</td>\n",
       "      <td>2</td>\n",
       "      <td>2.65</td>\n",
       "      <td>3.0</td>\n",
       "      <td>NaN</td>\n",
       "      <td>1</td>\n",
       "      <td>False</td>\n",
       "      <td>False</td>\n",
       "      <td>False</td>\n",
       "      <td>NaN</td>\n",
       "      <td>2</td>\n",
       "      <td>поселок городского типа Ефимовский</td>\n",
       "      <td>NaN</td>\n",
       "      <td>NaN</td>\n",
       "      <td>NaN</td>\n",
       "      <td>NaN</td>\n",
       "      <td>NaN</td>\n",
       "      <td>NaN</td>\n",
       "      <td>81.0</td>\n",
       "      <td>19851.116625</td>\n",
       "      <td>0</td>\n",
       "      <td>6</td>\n",
       "      <td>2018</td>\n",
       "      <td>первый</td>\n",
       "      <td>NaN</td>\n",
       "      <td>NaN</td>\n",
       "    </tr>\n",
       "    <tr>\n",
       "      <th>247</th>\n",
       "      <td>7</td>\n",
       "      <td>650000</td>\n",
       "      <td>31.0</td>\n",
       "      <td>2017-01-20</td>\n",
       "      <td>1</td>\n",
       "      <td>2.50</td>\n",
       "      <td>3.0</td>\n",
       "      <td>NaN</td>\n",
       "      <td>1</td>\n",
       "      <td>False</td>\n",
       "      <td>False</td>\n",
       "      <td>False</td>\n",
       "      <td>NaN</td>\n",
       "      <td>0</td>\n",
       "      <td>Сланцы</td>\n",
       "      <td>NaN</td>\n",
       "      <td>NaN</td>\n",
       "      <td>NaN</td>\n",
       "      <td>NaN</td>\n",
       "      <td>NaN</td>\n",
       "      <td>NaN</td>\n",
       "      <td>378.0</td>\n",
       "      <td>20967.741935</td>\n",
       "      <td>4</td>\n",
       "      <td>1</td>\n",
       "      <td>2017</td>\n",
       "      <td>первый</td>\n",
       "      <td>NaN</td>\n",
       "      <td>NaN</td>\n",
       "    </tr>\n",
       "    <tr>\n",
       "      <th>259</th>\n",
       "      <td>6</td>\n",
       "      <td>900000</td>\n",
       "      <td>30.0</td>\n",
       "      <td>2017-11-21</td>\n",
       "      <td>1</td>\n",
       "      <td>2.50</td>\n",
       "      <td>5.0</td>\n",
       "      <td>15.0</td>\n",
       "      <td>4</td>\n",
       "      <td>False</td>\n",
       "      <td>False</td>\n",
       "      <td>False</td>\n",
       "      <td>5.0</td>\n",
       "      <td>1</td>\n",
       "      <td>Ивангород</td>\n",
       "      <td>NaN</td>\n",
       "      <td>NaN</td>\n",
       "      <td>NaN</td>\n",
       "      <td>NaN</td>\n",
       "      <td>NaN</td>\n",
       "      <td>NaN</td>\n",
       "      <td>589.0</td>\n",
       "      <td>30000.000000</td>\n",
       "      <td>1</td>\n",
       "      <td>11</td>\n",
       "      <td>2017</td>\n",
       "      <td>другой</td>\n",
       "      <td>0.500000</td>\n",
       "      <td>0.166667</td>\n",
       "    </tr>\n",
       "    <tr>\n",
       "      <th>268</th>\n",
       "      <td>7</td>\n",
       "      <td>650000</td>\n",
       "      <td>46.0</td>\n",
       "      <td>2018-03-15</td>\n",
       "      <td>2</td>\n",
       "      <td>2.50</td>\n",
       "      <td>5.0</td>\n",
       "      <td>30.0</td>\n",
       "      <td>5</td>\n",
       "      <td>False</td>\n",
       "      <td>False</td>\n",
       "      <td>False</td>\n",
       "      <td>7.0</td>\n",
       "      <td>0</td>\n",
       "      <td>Сланцы</td>\n",
       "      <td>NaN</td>\n",
       "      <td>NaN</td>\n",
       "      <td>NaN</td>\n",
       "      <td>NaN</td>\n",
       "      <td>NaN</td>\n",
       "      <td>NaN</td>\n",
       "      <td>75.0</td>\n",
       "      <td>14130.434783</td>\n",
       "      <td>3</td>\n",
       "      <td>3</td>\n",
       "      <td>2018</td>\n",
       "      <td>последний</td>\n",
       "      <td>0.652174</td>\n",
       "      <td>0.152174</td>\n",
       "    </tr>\n",
       "    <tr>\n",
       "      <th>293</th>\n",
       "      <td>2</td>\n",
       "      <td>900000</td>\n",
       "      <td>42.8</td>\n",
       "      <td>2017-06-14</td>\n",
       "      <td>2</td>\n",
       "      <td>2.55</td>\n",
       "      <td>5.0</td>\n",
       "      <td>32.0</td>\n",
       "      <td>5</td>\n",
       "      <td>False</td>\n",
       "      <td>False</td>\n",
       "      <td>False</td>\n",
       "      <td>5.0</td>\n",
       "      <td>0</td>\n",
       "      <td>Сясьстрой</td>\n",
       "      <td>NaN</td>\n",
       "      <td>NaN</td>\n",
       "      <td>NaN</td>\n",
       "      <td>NaN</td>\n",
       "      <td>NaN</td>\n",
       "      <td>NaN</td>\n",
       "      <td>247.0</td>\n",
       "      <td>21028.037383</td>\n",
       "      <td>2</td>\n",
       "      <td>6</td>\n",
       "      <td>2017</td>\n",
       "      <td>последний</td>\n",
       "      <td>0.747664</td>\n",
       "      <td>0.116822</td>\n",
       "    </tr>\n",
       "    <tr>\n",
       "      <th>...</th>\n",
       "      <td>...</td>\n",
       "      <td>...</td>\n",
       "      <td>...</td>\n",
       "      <td>...</td>\n",
       "      <td>...</td>\n",
       "      <td>...</td>\n",
       "      <td>...</td>\n",
       "      <td>...</td>\n",
       "      <td>...</td>\n",
       "      <td>...</td>\n",
       "      <td>...</td>\n",
       "      <td>...</td>\n",
       "      <td>...</td>\n",
       "      <td>...</td>\n",
       "      <td>...</td>\n",
       "      <td>...</td>\n",
       "      <td>...</td>\n",
       "      <td>...</td>\n",
       "      <td>...</td>\n",
       "      <td>...</td>\n",
       "      <td>...</td>\n",
       "      <td>...</td>\n",
       "      <td>...</td>\n",
       "      <td>...</td>\n",
       "      <td>...</td>\n",
       "      <td>...</td>\n",
       "      <td>...</td>\n",
       "      <td>...</td>\n",
       "      <td>...</td>\n",
       "    </tr>\n",
       "    <tr>\n",
       "      <th>22997</th>\n",
       "      <td>9</td>\n",
       "      <td>560000</td>\n",
       "      <td>28.5</td>\n",
       "      <td>2018-08-11</td>\n",
       "      <td>1</td>\n",
       "      <td>2.60</td>\n",
       "      <td>4.0</td>\n",
       "      <td>17.2</td>\n",
       "      <td>4</td>\n",
       "      <td>False</td>\n",
       "      <td>False</td>\n",
       "      <td>False</td>\n",
       "      <td>5.7</td>\n",
       "      <td>1</td>\n",
       "      <td>Пикалёво</td>\n",
       "      <td>NaN</td>\n",
       "      <td>NaN</td>\n",
       "      <td>NaN</td>\n",
       "      <td>NaN</td>\n",
       "      <td>NaN</td>\n",
       "      <td>NaN</td>\n",
       "      <td>198.0</td>\n",
       "      <td>19649.122807</td>\n",
       "      <td>5</td>\n",
       "      <td>8</td>\n",
       "      <td>2018</td>\n",
       "      <td>последний</td>\n",
       "      <td>0.603509</td>\n",
       "      <td>0.200000</td>\n",
       "    </tr>\n",
       "    <tr>\n",
       "      <th>23067</th>\n",
       "      <td>8</td>\n",
       "      <td>600000</td>\n",
       "      <td>31.8</td>\n",
       "      <td>2019-04-24</td>\n",
       "      <td>1</td>\n",
       "      <td>2.55</td>\n",
       "      <td>2.0</td>\n",
       "      <td>20.0</td>\n",
       "      <td>1</td>\n",
       "      <td>False</td>\n",
       "      <td>False</td>\n",
       "      <td>False</td>\n",
       "      <td>7.0</td>\n",
       "      <td>0</td>\n",
       "      <td>деревня Коркино</td>\n",
       "      <td>NaN</td>\n",
       "      <td>NaN</td>\n",
       "      <td>NaN</td>\n",
       "      <td>NaN</td>\n",
       "      <td>NaN</td>\n",
       "      <td>NaN</td>\n",
       "      <td>70.0</td>\n",
       "      <td>18867.924528</td>\n",
       "      <td>2</td>\n",
       "      <td>4</td>\n",
       "      <td>2019</td>\n",
       "      <td>первый</td>\n",
       "      <td>0.628931</td>\n",
       "      <td>0.220126</td>\n",
       "    </tr>\n",
       "    <tr>\n",
       "      <th>23153</th>\n",
       "      <td>9</td>\n",
       "      <td>650000</td>\n",
       "      <td>41.0</td>\n",
       "      <td>2017-10-13</td>\n",
       "      <td>2</td>\n",
       "      <td>3.90</td>\n",
       "      <td>3.0</td>\n",
       "      <td>28.0</td>\n",
       "      <td>1</td>\n",
       "      <td>False</td>\n",
       "      <td>False</td>\n",
       "      <td>False</td>\n",
       "      <td>6.0</td>\n",
       "      <td>0</td>\n",
       "      <td>Бокситогорск</td>\n",
       "      <td>NaN</td>\n",
       "      <td>NaN</td>\n",
       "      <td>NaN</td>\n",
       "      <td>NaN</td>\n",
       "      <td>NaN</td>\n",
       "      <td>NaN</td>\n",
       "      <td>14.0</td>\n",
       "      <td>15853.658537</td>\n",
       "      <td>4</td>\n",
       "      <td>10</td>\n",
       "      <td>2017</td>\n",
       "      <td>первый</td>\n",
       "      <td>0.682927</td>\n",
       "      <td>0.146341</td>\n",
       "    </tr>\n",
       "    <tr>\n",
       "      <th>23484</th>\n",
       "      <td>11</td>\n",
       "      <td>470000</td>\n",
       "      <td>44.5</td>\n",
       "      <td>2018-07-02</td>\n",
       "      <td>2</td>\n",
       "      <td>2.50</td>\n",
       "      <td>2.0</td>\n",
       "      <td>28.0</td>\n",
       "      <td>2</td>\n",
       "      <td>False</td>\n",
       "      <td>False</td>\n",
       "      <td>False</td>\n",
       "      <td>7.5</td>\n",
       "      <td>0</td>\n",
       "      <td>Сланцы</td>\n",
       "      <td>NaN</td>\n",
       "      <td>NaN</td>\n",
       "      <td>NaN</td>\n",
       "      <td>NaN</td>\n",
       "      <td>NaN</td>\n",
       "      <td>NaN</td>\n",
       "      <td>298.0</td>\n",
       "      <td>10561.797753</td>\n",
       "      <td>0</td>\n",
       "      <td>7</td>\n",
       "      <td>2018</td>\n",
       "      <td>последний</td>\n",
       "      <td>0.629213</td>\n",
       "      <td>0.168539</td>\n",
       "    </tr>\n",
       "    <tr>\n",
       "      <th>23643</th>\n",
       "      <td>1</td>\n",
       "      <td>660000</td>\n",
       "      <td>45.0</td>\n",
       "      <td>2019-02-19</td>\n",
       "      <td>2</td>\n",
       "      <td>2.50</td>\n",
       "      <td>5.0</td>\n",
       "      <td>31.0</td>\n",
       "      <td>4</td>\n",
       "      <td>False</td>\n",
       "      <td>False</td>\n",
       "      <td>False</td>\n",
       "      <td>6.0</td>\n",
       "      <td>1</td>\n",
       "      <td>Сланцы</td>\n",
       "      <td>NaN</td>\n",
       "      <td>NaN</td>\n",
       "      <td>NaN</td>\n",
       "      <td>NaN</td>\n",
       "      <td>NaN</td>\n",
       "      <td>NaN</td>\n",
       "      <td>134.0</td>\n",
       "      <td>14666.666667</td>\n",
       "      <td>1</td>\n",
       "      <td>2</td>\n",
       "      <td>2019</td>\n",
       "      <td>другой</td>\n",
       "      <td>0.688889</td>\n",
       "      <td>0.133333</td>\n",
       "    </tr>\n",
       "  </tbody>\n",
       "</table>\n",
       "<p>198 rows × 29 columns</p>\n",
       "</div>"
      ],
      "text/plain": [
       "       total_images  last_price  total_area first_day_exposition  rooms  \\\n",
       "164               6      800000        40.3           2018-06-25      2   \n",
       "247               7      650000        31.0           2017-01-20      1   \n",
       "259               6      900000        30.0           2017-11-21      1   \n",
       "268               7      650000        46.0           2018-03-15      2   \n",
       "293               2      900000        42.8           2017-06-14      2   \n",
       "...             ...         ...         ...                  ...    ...   \n",
       "22997             9      560000        28.5           2018-08-11      1   \n",
       "23067             8      600000        31.8           2019-04-24      1   \n",
       "23153             9      650000        41.0           2017-10-13      2   \n",
       "23484            11      470000        44.5           2018-07-02      2   \n",
       "23643             1      660000        45.0           2019-02-19      2   \n",
       "\n",
       "       ceiling_height  floors_total  living_area  floor  is_apartment  studio  \\\n",
       "164              2.65           3.0          NaN      1         False   False   \n",
       "247              2.50           3.0          NaN      1         False   False   \n",
       "259              2.50           5.0         15.0      4         False   False   \n",
       "268              2.50           5.0         30.0      5         False   False   \n",
       "293              2.55           5.0         32.0      5         False   False   \n",
       "...               ...           ...          ...    ...           ...     ...   \n",
       "22997            2.60           4.0         17.2      4         False   False   \n",
       "23067            2.55           2.0         20.0      1         False   False   \n",
       "23153            3.90           3.0         28.0      1         False   False   \n",
       "23484            2.50           2.0         28.0      2         False   False   \n",
       "23643            2.50           5.0         31.0      4         False   False   \n",
       "\n",
       "       open_plan  kitchen_area  balcony                       locality_name  \\\n",
       "164        False           NaN        2  поселок городского типа Ефимовский   \n",
       "247        False           NaN        0                              Сланцы   \n",
       "259        False           5.0        1                           Ивангород   \n",
       "268        False           7.0        0                              Сланцы   \n",
       "293        False           5.0        0                           Сясьстрой   \n",
       "...          ...           ...      ...                                 ...   \n",
       "22997      False           5.7        1                            Пикалёво   \n",
       "23067      False           7.0        0                     деревня Коркино   \n",
       "23153      False           6.0        0                        Бокситогорск   \n",
       "23484      False           7.5        0                              Сланцы   \n",
       "23643      False           6.0        1                              Сланцы   \n",
       "\n",
       "       airports_nearest  cityCenters_nearest  parks_around3000  parks_nearest  \\\n",
       "164                 NaN                  NaN               NaN            NaN   \n",
       "247                 NaN                  NaN               NaN            NaN   \n",
       "259                 NaN                  NaN               NaN            NaN   \n",
       "268                 NaN                  NaN               NaN            NaN   \n",
       "293                 NaN                  NaN               NaN            NaN   \n",
       "...                 ...                  ...               ...            ...   \n",
       "22997               NaN                  NaN               NaN            NaN   \n",
       "23067               NaN                  NaN               NaN            NaN   \n",
       "23153               NaN                  NaN               NaN            NaN   \n",
       "23484               NaN                  NaN               NaN            NaN   \n",
       "23643               NaN                  NaN               NaN            NaN   \n",
       "\n",
       "       ponds_around3000  ponds_nearest  days_exposition  price_per_meter  \\\n",
       "164                 NaN            NaN             81.0     19851.116625   \n",
       "247                 NaN            NaN            378.0     20967.741935   \n",
       "259                 NaN            NaN            589.0     30000.000000   \n",
       "268                 NaN            NaN             75.0     14130.434783   \n",
       "293                 NaN            NaN            247.0     21028.037383   \n",
       "...                 ...            ...              ...              ...   \n",
       "22997               NaN            NaN            198.0     19649.122807   \n",
       "23067               NaN            NaN             70.0     18867.924528   \n",
       "23153               NaN            NaN             14.0     15853.658537   \n",
       "23484               NaN            NaN            298.0     10561.797753   \n",
       "23643               NaN            NaN            134.0     14666.666667   \n",
       "\n",
       "       day_of_week  month  year floor_name  ratio_la  ratio_kitchen  \n",
       "164              0      6  2018     первый       NaN            NaN  \n",
       "247              4      1  2017     первый       NaN            NaN  \n",
       "259              1     11  2017     другой  0.500000       0.166667  \n",
       "268              3      3  2018  последний  0.652174       0.152174  \n",
       "293              2      6  2017  последний  0.747664       0.116822  \n",
       "...            ...    ...   ...        ...       ...            ...  \n",
       "22997            5      8  2018  последний  0.603509       0.200000  \n",
       "23067            2      4  2019     первый  0.628931       0.220126  \n",
       "23153            4     10  2017     первый  0.682927       0.146341  \n",
       "23484            0      7  2018  последний  0.629213       0.168539  \n",
       "23643            1      2  2019     другой  0.688889       0.133333  \n",
       "\n",
       "[198 rows x 29 columns]"
      ]
     },
     "execution_count": 46,
     "metadata": {},
     "output_type": "execute_result"
    }
   ],
   "source": [
    "# выявление квартир, дешевле 1 млн. р.\n",
    "data[data['last_price'] < 1000000]"
   ]
  },
  {
   "cell_type": "code",
   "execution_count": 47,
   "metadata": {},
   "outputs": [],
   "source": [
    "# удаление аномальных данных из столбца \"last_price\"\n",
    "data = data[(data['last_price'] > 1000000)]"
   ]
  },
  {
   "cell_type": "markdown",
   "metadata": {},
   "source": [
    "Мы удалили из датасета выбивающиеся и аномальные значения. Перейдем к поиску параметров, влияющих на ценообразование."
   ]
  },
  {
   "cell_type": "markdown",
   "metadata": {},
   "source": [
    "### Корреляции"
   ]
  },
  {
   "cell_type": "code",
   "execution_count": 48,
   "metadata": {},
   "outputs": [
    {
     "data": {
      "text/plain": [
       "0.6530480129339546"
      ]
     },
     "metadata": {},
     "output_type": "display_data"
    },
    {
     "data": {
      "text/plain": [
       "0.3633622918745741"
      ]
     },
     "metadata": {},
     "output_type": "display_data"
    },
    {
     "data": {
      "text/plain": [
       "-0.20641691990093872"
      ]
     },
     "execution_count": 48,
     "metadata": {},
     "output_type": "execute_result"
    }
   ],
   "source": [
    "# корреляция между ценой и площадью\n",
    "display(data['last_price'].corr(data['total_area']))\n",
    "# корреляция между ценой и числом комнат\n",
    "display(data['last_price'].corr(data['rooms']))\n",
    "# корреляция между ценой и удаленностью от центра\n",
    "data['last_price'].corr(data['cityCenters_nearest'])"
   ]
  },
  {
   "cell_type": "markdown",
   "metadata": {},
   "source": [
    "Самая сильная корреляция прослеживается между ценой и площадью квартиры. Связь между ценой и количеством комнат не так однозначна, возможно, она не линейна. Корреляция между ценой и удаленностью от центра отрицательна (чем больше расстояние до центра, тем ниже цена), но тоже слишком слабая, чтобы можно было делать однозначные выводы. Построим графики, чтобы связь между параметрами была более наглядной."
   ]
  },
  {
   "cell_type": "code",
   "execution_count": 49,
   "metadata": {},
   "outputs": [
    {
     "data": {
      "text/plain": [
       "<AxesSubplot:title={'center':'Зависимость цены от общей площади'}, xlabel='total_area', ylabel='last_price'>"
      ]
     },
     "execution_count": 49,
     "metadata": {},
     "output_type": "execute_result"
    },
    {
     "data": {
      "image/png": "[encoded data removed]",
      "text/plain": [
       "<Figure size 432x288 with 1 Axes>"
      ]
     },
     "metadata": {
      "needs_background": "light"
     },
     "output_type": "display_data"
    }
   ],
   "source": [
    "# диаграмма рассеяния для выявления зависимостей между ценой и разными параметрами\n",
    "data.plot(x='total_area', y='last_price', kind='scatter', title='Зависимость цены от общей площади')"
   ]
  },
  {
   "cell_type": "code",
   "execution_count": 50,
   "metadata": {},
   "outputs": [
    {
     "data": {
      "text/plain": [
       "array([[<AxesSubplot:xlabel='last_price', ylabel='last_price'>,\n",
       "        <AxesSubplot:xlabel='total_area', ylabel='last_price'>,\n",
       "        <AxesSubplot:xlabel='rooms', ylabel='last_price'>,\n",
       "        <AxesSubplot:xlabel='ceiling_height', ylabel='last_price'>],\n",
       "       [<AxesSubplot:xlabel='last_price', ylabel='total_area'>,\n",
       "        <AxesSubplot:xlabel='total_area', ylabel='total_area'>,\n",
       "        <AxesSubplot:xlabel='rooms', ylabel='total_area'>,\n",
       "        <AxesSubplot:xlabel='ceiling_height', ylabel='total_area'>],\n",
       "       [<AxesSubplot:xlabel='last_price', ylabel='rooms'>,\n",
       "        <AxesSubplot:xlabel='total_area', ylabel='rooms'>,\n",
       "        <AxesSubplot:xlabel='rooms', ylabel='rooms'>,\n",
       "        <AxesSubplot:xlabel='ceiling_height', ylabel='rooms'>],\n",
       "       [<AxesSubplot:xlabel='last_price', ylabel='ceiling_height'>,\n",
       "        <AxesSubplot:xlabel='total_area', ylabel='ceiling_height'>,\n",
       "        <AxesSubplot:xlabel='rooms', ylabel='ceiling_height'>,\n",
       "        <AxesSubplot:xlabel='ceiling_height', ylabel='ceiling_height'>]],\n",
       "      dtype=object)"
      ]
     },
     "execution_count": 50,
     "metadata": {},
     "output_type": "execute_result"
    },
    {
     "data": {
      "image/png": "[encoded data removed]",
      "text/plain": [
       "<Figure size 648x648 with 16 Axes>"
      ]
     },
     "metadata": {
      "needs_background": "light"
     },
     "output_type": "display_data"
    }
   ],
   "source": [
    "# диаграмма рассеяния для цены и других параметров квартиры\n",
    "pd.plotting.scatter_matrix(data.iloc[:, 1:6], figsize=(9, 9))"
   ]
  },
  {
   "cell_type": "code",
   "execution_count": 51,
   "metadata": {},
   "outputs": [
    {
     "data": {
      "text/plain": [
       "<AxesSubplot:title={'center':'Зависимость цены от количества комнат'}, xlabel='rooms'>"
      ]
     },
     "execution_count": 51,
     "metadata": {},
     "output_type": "execute_result"
    },
    {
     "data": {
      "image/png": "[encoded data removed]",
      "text/plain": [
       "<Figure size 432x288 with 1 Axes>"
      ]
     },
     "metadata": {
      "needs_background": "light"
     },
     "output_type": "display_data"
    }
   ],
   "source": [
    "# график для зависимости цены от количества комнат\n",
    "rooms_price = data.pivot_table(index='rooms', values='last_price', aggfunc='median').reset_index()\n",
    "rooms_price.plot.line(x='rooms', y='last_price', title='Зависимость цены от количества комнат')"
   ]
  },
  {
   "cell_type": "code",
   "execution_count": 52,
   "metadata": {},
   "outputs": [
    {
     "data": {
      "text/plain": [
       "<AxesSubplot:title={'center':'Зависимость цены от удаленности от центра'}, xlabel='cityCenters_nearest', ylabel='last_price'>"
      ]
     },
     "execution_count": 52,
     "metadata": {},
     "output_type": "execute_result"
    },
    {
     "data": {
      "image/png": "[encoded data removed]",
      "text/plain": [
       "<Figure size 432x288 with 1 Axes>"
      ]
     },
     "metadata": {
      "needs_background": "light"
     },
     "output_type": "display_data"
    }
   ],
   "source": [
    "# график для зависимости цены от удаленности от центра\n",
    "center_price = data.pivot_table(index='cityCenters_nearest', values='last_price', aggfunc='median').reset_index()\n",
    "center_price.plot(x='cityCenters_nearest', y='last_price', kind='scatter', title='Зависимость цены от удаленности от центра')"
   ]
  },
  {
   "cell_type": "code",
   "execution_count": 53,
   "metadata": {},
   "outputs": [
    {
     "data": {
      "text/plain": [
       "<AxesSubplot:title={'center':'Зависимость цены от этажа'}, xlabel='floor_name'>"
      ]
     },
     "execution_count": 53,
     "metadata": {},
     "output_type": "execute_result"
    },
    {
     "data": {
      "image/png": "[encoded data removed]",
      "text/plain": [
       "<Figure size 432x288 with 1 Axes>"
      ]
     },
     "metadata": {
      "needs_background": "light"
     },
     "output_type": "display_data"
    }
   ],
   "source": [
    "# график для зависимости цены от этажа\n",
    "floor_price = data.pivot_table(index='floor_name', values='last_price', aggfunc='median').reset_index()\n",
    "floor_price.plot.line(x='floor_name', y='last_price', title='Зависимость цены от этажа')"
   ]
  },
  {
   "cell_type": "code",
   "execution_count": 54,
   "metadata": {
    "scrolled": false
   },
   "outputs": [
    {
     "data": {
      "text/plain": [
       "<AxesSubplot:title={'center':'Зависимость цены от времени размещения объявления'}, xlabel='days_exposition', ylabel='last_price'>"
      ]
     },
     "execution_count": 54,
     "metadata": {},
     "output_type": "execute_result"
    },
    {
     "data": {
      "image/png": "[encoded data removed]",
      "text/plain": [
       "<Figure size 432x288 with 1 Axes>"
      ]
     },
     "metadata": {
      "needs_background": "light"
     },
     "output_type": "display_data"
    }
   ],
   "source": [
    "# диаграмма рассеяния для выявления зависимости цены от того, насколько долго продается квартира\n",
    "data.plot(x='days_exposition', y='last_price', kind='scatter', title='Зависимость цены от времени размещения объявления')"
   ]
  },
  {
   "cell_type": "code",
   "execution_count": 55,
   "metadata": {},
   "outputs": [
    {
     "data": {
      "text/plain": [
       "<AxesSubplot:title={'center':'Зависимость цены от дня недели'}, xlabel='day_of_week'>"
      ]
     },
     "execution_count": 55,
     "metadata": {},
     "output_type": "execute_result"
    },
    {
     "data": {
      "image/png": "[encoded data removed]",
      "text/plain": [
       "<Figure size 432x288 with 1 Axes>"
      ]
     },
     "metadata": {
      "needs_background": "light"
     },
     "output_type": "display_data"
    }
   ],
   "source": [
    "# график для зависимости цены от дня недели публикации объявления\n",
    "day_of_week_price = data.pivot_table(index='day_of_week', values='last_price', aggfunc='median').reset_index()\n",
    "day_of_week_price.plot(x='day_of_week', y='last_price', title='Зависимость цены от дня недели')"
   ]
  },
  {
   "cell_type": "code",
   "execution_count": 56,
   "metadata": {
    "scrolled": true
   },
   "outputs": [
    {
     "data": {
      "text/plain": [
       "<AxesSubplot:title={'center':'Зависимость цены от месяца'}, xlabel='month'>"
      ]
     },
     "execution_count": 56,
     "metadata": {},
     "output_type": "execute_result"
    },
    {
     "data": {
      "image/png": "[encoded data removed]",
      "text/plain": [
       "<Figure size 432x288 with 1 Axes>"
      ]
     },
     "metadata": {
      "needs_background": "light"
     },
     "output_type": "display_data"
    }
   ],
   "source": [
    "# график для зависимости цены от месяца публикации объявления\n",
    "month_price = data.pivot_table(index='month', values='last_price', aggfunc='median').reset_index()\n",
    "month_price.plot(x='month', y='last_price', title='Зависимость цены от месяца')"
   ]
  },
  {
   "cell_type": "code",
   "execution_count": 57,
   "metadata": {},
   "outputs": [
    {
     "data": {
      "text/plain": [
       "<AxesSubplot:title={'center':'Зависимость цены от года'}, xlabel='year'>"
      ]
     },
     "execution_count": 57,
     "metadata": {},
     "output_type": "execute_result"
    },
    {
     "data": {
      "image/png": "[encoded data removed]",
      "text/plain": [
       "<Figure size 432x288 with 1 Axes>"
      ]
     },
     "metadata": {
      "needs_background": "light"
     },
     "output_type": "display_data"
    }
   ],
   "source": [
    "# график для зависимости цены от года публикации объявления\n",
    "year_price = data.pivot_table(index='year', values='last_price', aggfunc='median').reset_index()\n",
    "year_price.plot(x='year', y='last_price', title='Зависимость цены от года')"
   ]
  },
  {
   "cell_type": "markdown",
   "metadata": {},
   "source": [
    "***Выводы***\n",
    "\n",
    "- Прослеживается прямая зависимость между общей площадью квартиры и ценой (чем больше площадь, тем выше цена), и между количеством комнат и ценой (чем больше комнат, тем выше цена).\n",
    "- Между удаленностью от центра и ценой наблюдается обратная зависимость (чем дальше от центра, тем ниже цена); то же справедливо для цены и времени, которое квартира была в продаже - чем дольше продается квартира, тем ниже цена.\n",
    "- Самые дешевые квартиры располагаются на первом этаже, цена квартир на последнем этаже также снижена по сравнению с другими этажами.\n",
    "- Выявлена интересная зависимость цены от дня недели публикации объявления: самые высокие цены назначаются в понедельник и вторник, далее наблюдается постепенное снижение цены вплоть до субботы, когда публикуются самые дешевые объявления.\n",
    "- Что касается времени года публикации объявлений, мы видим, что самые дорогие объявления публикуются в апреле, после чего квартиры дешевеют вплоть до июня, а затем цены вновь начинают расти, с пиками в июле, сентябре и ноябре.\n",
    "- Анализируя годы с 2014 по 2019 мы видим, что после кризиса 2014 года цены на квартиры упали почти в два раза, затем около двух лет держались примерно на одном уровне и с 2018 года снова начали расти."
   ]
  },
  {
   "cell_type": "markdown",
   "metadata": {},
   "source": [
    "### Места с наибольшим числом объявлений"
   ]
  },
  {
   "cell_type": "code",
   "execution_count": 58,
   "metadata": {
    "scrolled": true
   },
   "outputs": [
    {
     "data": {
      "text/plain": [
       "Санкт-Петербург      15620\n",
       "посёлок Мурино         518\n",
       "посёлок Шушары         439\n",
       "Всеволожск             396\n",
       "Пушкин                 366\n",
       "Колпино                337\n",
       "посёлок Парголово      327\n",
       "Гатчина                305\n",
       "деревня Кудрово        299\n",
       "Выборг                 231\n",
       "Name: locality_name, dtype: int64"
      ]
     },
     "execution_count": 58,
     "metadata": {},
     "output_type": "execute_result"
    }
   ],
   "source": [
    "# наибольшее число объявлений\n",
    "data['locality_name'].value_counts(ascending=False).head(10)"
   ]
  },
  {
   "cell_type": "code",
   "execution_count": 59,
   "metadata": {},
   "outputs": [
    {
     "data": {
      "text/html": [
       "<div>\n",
       "<style scoped>\n",
       "    .dataframe tbody tr th:only-of-type {\n",
       "        vertical-align: middle;\n",
       "    }\n",
       "\n",
       "    .dataframe tbody tr th {\n",
       "        vertical-align: top;\n",
       "    }\n",
       "\n",
       "    .dataframe thead th {\n",
       "        text-align: right;\n",
       "    }\n",
       "</style>\n",
       "<table border=\"1\" class=\"dataframe\">\n",
       "  <thead>\n",
       "    <tr style=\"text-align: right;\">\n",
       "      <th></th>\n",
       "      <th>count</th>\n",
       "      <th>mean</th>\n",
       "    </tr>\n",
       "    <tr>\n",
       "      <th>locality_name</th>\n",
       "      <th></th>\n",
       "      <th></th>\n",
       "    </tr>\n",
       "  </thead>\n",
       "  <tbody>\n",
       "    <tr>\n",
       "      <th>посёлок Лисий Нос</th>\n",
       "      <td>2</td>\n",
       "      <td>121616.221359</td>\n",
       "    </tr>\n",
       "    <tr>\n",
       "      <th>Зеленогорск</th>\n",
       "      <td>24</td>\n",
       "      <td>115122.799198</td>\n",
       "    </tr>\n",
       "    <tr>\n",
       "      <th>Санкт-Петербург</th>\n",
       "      <td>15620</td>\n",
       "      <td>114865.837946</td>\n",
       "    </tr>\n",
       "    <tr>\n",
       "      <th>деревня Бор</th>\n",
       "      <td>1</td>\n",
       "      <td>105539.261570</td>\n",
       "    </tr>\n",
       "    <tr>\n",
       "      <th>посёлок Репино</th>\n",
       "      <td>4</td>\n",
       "      <td>104238.614786</td>\n",
       "    </tr>\n",
       "    <tr>\n",
       "      <th>Пушкин</th>\n",
       "      <td>366</td>\n",
       "      <td>103147.825496</td>\n",
       "    </tr>\n",
       "    <tr>\n",
       "      <th>Сестрорецк</th>\n",
       "      <td>183</td>\n",
       "      <td>101757.616875</td>\n",
       "    </tr>\n",
       "    <tr>\n",
       "      <th>Кудрово</th>\n",
       "      <td>170</td>\n",
       "      <td>100166.294900</td>\n",
       "    </tr>\n",
       "    <tr>\n",
       "      <th>деревня Мистолово</th>\n",
       "      <td>11</td>\n",
       "      <td>98549.976709</td>\n",
       "    </tr>\n",
       "    <tr>\n",
       "      <th>Мурино</th>\n",
       "      <td>34</td>\n",
       "      <td>92722.708914</td>\n",
       "    </tr>\n",
       "  </tbody>\n",
       "</table>\n",
       "</div>"
      ],
      "text/plain": [
       "                   count           mean\n",
       "locality_name                          \n",
       "посёлок Лисий Нос      2  121616.221359\n",
       "Зеленогорск           24  115122.799198\n",
       "Санкт-Петербург    15620  114865.837946\n",
       "деревня Бор            1  105539.261570\n",
       "посёлок Репино         4  104238.614786\n",
       "Пушкин               366  103147.825496\n",
       "Сестрорецк           183  101757.616875\n",
       "Кудрово              170  100166.294900\n",
       "деревня Мистолово     11   98549.976709\n",
       "Мурино                34   92722.708914"
      ]
     },
     "metadata": {},
     "output_type": "display_data"
    },
    {
     "data": {
      "text/html": [
       "<div>\n",
       "<style scoped>\n",
       "    .dataframe tbody tr th:only-of-type {\n",
       "        vertical-align: middle;\n",
       "    }\n",
       "\n",
       "    .dataframe tbody tr th {\n",
       "        vertical-align: top;\n",
       "    }\n",
       "\n",
       "    .dataframe thead th {\n",
       "        text-align: right;\n",
       "    }\n",
       "</style>\n",
       "<table border=\"1\" class=\"dataframe\">\n",
       "  <thead>\n",
       "    <tr style=\"text-align: right;\">\n",
       "      <th></th>\n",
       "      <th>count</th>\n",
       "      <th>mean</th>\n",
       "    </tr>\n",
       "    <tr>\n",
       "      <th>locality_name</th>\n",
       "      <th></th>\n",
       "      <th></th>\n",
       "    </tr>\n",
       "  </thead>\n",
       "  <tbody>\n",
       "    <tr>\n",
       "      <th>Санкт-Петербург</th>\n",
       "      <td>15620</td>\n",
       "      <td>114865.837946</td>\n",
       "    </tr>\n",
       "    <tr>\n",
       "      <th>посёлок Мурино</th>\n",
       "      <td>518</td>\n",
       "      <td>85645.903323</td>\n",
       "    </tr>\n",
       "    <tr>\n",
       "      <th>посёлок Шушары</th>\n",
       "      <td>439</td>\n",
       "      <td>78551.344545</td>\n",
       "    </tr>\n",
       "    <tr>\n",
       "      <th>Всеволожск</th>\n",
       "      <td>396</td>\n",
       "      <td>68784.461220</td>\n",
       "    </tr>\n",
       "    <tr>\n",
       "      <th>Пушкин</th>\n",
       "      <td>366</td>\n",
       "      <td>103147.825496</td>\n",
       "    </tr>\n",
       "    <tr>\n",
       "      <th>Колпино</th>\n",
       "      <td>337</td>\n",
       "      <td>75443.972838</td>\n",
       "    </tr>\n",
       "    <tr>\n",
       "      <th>посёлок Парголово</th>\n",
       "      <td>327</td>\n",
       "      <td>90175.913458</td>\n",
       "    </tr>\n",
       "    <tr>\n",
       "      <th>Гатчина</th>\n",
       "      <td>305</td>\n",
       "      <td>68947.384358</td>\n",
       "    </tr>\n",
       "    <tr>\n",
       "      <th>деревня Кудрово</th>\n",
       "      <td>299</td>\n",
       "      <td>92473.547576</td>\n",
       "    </tr>\n",
       "    <tr>\n",
       "      <th>Выборг</th>\n",
       "      <td>231</td>\n",
       "      <td>58788.277287</td>\n",
       "    </tr>\n",
       "  </tbody>\n",
       "</table>\n",
       "</div>"
      ],
      "text/plain": [
       "                   count           mean\n",
       "locality_name                          \n",
       "Санкт-Петербург    15620  114865.837946\n",
       "посёлок Мурино       518   85645.903323\n",
       "посёлок Шушары       439   78551.344545\n",
       "Всеволожск           396   68784.461220\n",
       "Пушкин               366  103147.825496\n",
       "Колпино              337   75443.972838\n",
       "посёлок Парголово    327   90175.913458\n",
       "Гатчина              305   68947.384358\n",
       "деревня Кудрово      299   92473.547576\n",
       "Выборг               231   58788.277287"
      ]
     },
     "execution_count": 59,
     "metadata": {},
     "output_type": "execute_result"
    }
   ],
   "source": [
    "# цена за квадратный метр\n",
    "display(data.groupby('locality_name')['price_per_meter'].agg(['count', 'mean']).sort_values(by='mean', ascending=False).head(10))\n",
    "data.groupby('locality_name')['price_per_meter'].agg(['count', 'mean']).sort_values(by='count')[::-1].head(10)"
   ]
  },
  {
   "cell_type": "markdown",
   "metadata": {},
   "source": [
    "***Выводы***\n",
    "\n",
    "Если не рассматривать единичные объявления в элитном поселке (Лисий Нос) или на берегу Финского залива (Зеленогорск), можно сделать вывод, что самые дорогие квартиры в Санкт-Петербурге, а самые дешевые (среди населенных пунктов с наибольшим количеством объявлений) - в Выборге (многими оценивается как вымирающий город)."
   ]
  },
  {
   "cell_type": "markdown",
   "metadata": {},
   "source": [
    "### Квартиры в центре"
   ]
  },
  {
   "cell_type": "code",
   "execution_count": 60,
   "metadata": {},
   "outputs": [],
   "source": [
    "# создание столбца с расстоянием до центра в км, округление\n",
    "# срез по Питеру\n",
    "data['cityCenters_nearest_km'] = (data['cityCenters_nearest'] / 1000).round()\n",
    "piter = data.query('locality_name == \"Санкт-Петербург\"')"
   ]
  },
  {
   "cell_type": "code",
   "execution_count": 61,
   "metadata": {},
   "outputs": [],
   "source": [
    "# расчет стоимости средней цены для каждого км\n",
    "cityCenter_price = piter.pivot_table(index='cityCenters_nearest_km', values='last_price', aggfunc='mean').reset_index()"
   ]
  },
  {
   "cell_type": "code",
   "execution_count": 62,
   "metadata": {},
   "outputs": [
    {
     "data": {
      "text/plain": [
       "<AxesSubplot:title={'center':'Зависимость цены от расстояния до центра'}, xlabel='cityCenters_nearest_km'>"
      ]
     },
     "execution_count": 62,
     "metadata": {},
     "output_type": "execute_result"
    },
    {
     "data": {
      "image/png": "[encoded data removed]",
      "text/plain": [
       "<Figure size 432x288 with 1 Axes>"
      ]
     },
     "metadata": {
      "needs_background": "light"
     },
     "output_type": "display_data"
    }
   ],
   "source": [
    "# зависимость цены от удаленности от центра\n",
    "cityCenter_price.plot(x='cityCenters_nearest_km', y='last_price', grid=True, title='Зависимость цены от расстояния до центра')"
   ]
  },
  {
   "cell_type": "markdown",
   "metadata": {},
   "source": [
    "Основываясь на графике, можно сделать вывод, что центральная зона Санкт-Петербурга составляет около 3 км. "
   ]
  },
  {
   "cell_type": "code",
   "execution_count": 63,
   "metadata": {},
   "outputs": [],
   "source": [
    "# выделение сегмента квартир в центре\n",
    "cityCenter = data.loc[data.loc[:, 'cityCenters_nearest_km'] <= 3]"
   ]
  },
  {
   "cell_type": "markdown",
   "metadata": {},
   "source": [
    "#### Основные параметры квартир в центре"
   ]
  },
  {
   "cell_type": "code",
   "execution_count": 64,
   "metadata": {
    "scrolled": false
   },
   "outputs": [
    {
     "name": "stdout",
     "output_type": "stream",
     "text": [
      "Площадь квартир в центре\n"
     ]
    },
    {
     "data": {
      "text/plain": [
       "<AxesSubplot:>"
      ]
     },
     "metadata": {},
     "output_type": "display_data"
    },
    {
     "data": {
      "image/png": "[encoded data removed]",
      "text/plain": [
       "<Figure size 432x288 with 1 Axes>"
      ]
     },
     "metadata": {
      "needs_background": "light"
     },
     "output_type": "display_data"
    },
    {
     "name": "stdout",
     "output_type": "stream",
     "text": [
      "Цены на квартиры в центре\n"
     ]
    },
    {
     "data": {
      "image/png": "[encoded data removed]",
      "text/plain": [
       "<Figure size 432x288 with 1 Axes>"
      ]
     },
     "metadata": {
      "needs_background": "light"
     },
     "output_type": "display_data"
    },
    {
     "name": "stdout",
     "output_type": "stream",
     "text": [
      "Количество комнат в квартирах в центре\n"
     ]
    },
    {
     "data": {
      "image/png": "[encoded data removed]",
      "text/plain": [
       "<Figure size 432x288 with 1 Axes>"
      ]
     },
     "metadata": {
      "needs_background": "light"
     },
     "output_type": "display_data"
    },
    {
     "name": "stdout",
     "output_type": "stream",
     "text": [
      "Высота потолков в квартирах в центре\n"
     ]
    },
    {
     "data": {
      "text/plain": [
       "<AxesSubplot:>"
      ]
     },
     "execution_count": 64,
     "metadata": {},
     "output_type": "execute_result"
    },
    {
     "data": {
      "image/png": "[encoded data removed]",
      "text/plain": [
       "<Figure size 432x288 with 1 Axes>"
      ]
     },
     "metadata": {
      "needs_background": "light"
     },
     "output_type": "display_data"
    }
   ],
   "source": [
    "# параметры для квартир в центре\n",
    "print('Площадь квартир в центре')\n",
    "display(cityCenter['total_area'].hist(bins=30, range=(0, 300)))\n",
    "plt.show()\n",
    "print('Цены на квартиры в центре')\n",
    "cityCenter['last_price'].hist(bins=30, range=(0, 30000000))\n",
    "plt.show()\n",
    "print('Количество комнат в квартирах в центре')\n",
    "cityCenter['rooms'].hist(bins=30)\n",
    "plt.show()\n",
    "print('Высота потолков в квартирах в центре')\n",
    "cityCenter['ceiling_height'].hist(bins=30, range=(2, 4.5))"
   ]
  },
  {
   "cell_type": "markdown",
   "metadata": {},
   "source": [
    "***Выводы***\n",
    "\n",
    "- При сравнении с с общим датасетом можно сделать вывод, что в радиусе трехкилометровой центральной зоны Санкт-Петербурга квартиры в целом больше по площади (пик приходится на 60 кв.м.); чаще встречаются объявления с площадью квартир свыше 150 кв.м.\n",
    "- Цены в центре почти в два раза выше, пик приходится на 8 млн. (против 4 млн. в целом по датасету).\n",
    "- В центре продается значительно меньше однокмнатных квартир; больше всего продается трехкомнатных квартир (в отличие от датасета в целом, где лидируют одно- и двухкомнатные квартиры); четырех- и пятикомнатные квартиры представлены шире.\n",
    "- Несмотря на то, что высота потолков 2,7 м. является превалирующей, как и по датасету в целом, в центре чаще выставляются на продажу квартиры с потолками 3-3,5 м."
   ]
  },
  {
   "cell_type": "markdown",
   "metadata": {},
   "source": [
    "#### Корреляции"
   ]
  },
  {
   "cell_type": "code",
   "execution_count": 65,
   "metadata": {
    "scrolled": true
   },
   "outputs": [
    {
     "data": {
      "text/plain": [
       "0.5660411548912542"
      ]
     },
     "metadata": {},
     "output_type": "display_data"
    },
    {
     "data": {
      "text/plain": [
       "0.24072027383265968"
      ]
     },
     "metadata": {},
     "output_type": "display_data"
    },
    {
     "data": {
      "text/plain": [
       "-0.16445738033361562"
      ]
     },
     "execution_count": 65,
     "metadata": {},
     "output_type": "execute_result"
    }
   ],
   "source": [
    "# корреляция между общей площадью и ценой на квартиры в центре\n",
    "display(cityCenter['last_price'].corr(cityCenter['total_area']))\n",
    "# корреляция между ценой и числом комнат\n",
    "display(cityCenter['last_price'].corr(cityCenter['rooms']))\n",
    "# корреляция между ценой и удаленностью от центра\n",
    "cityCenter['last_price'].corr(cityCenter['cityCenters_nearest'])"
   ]
  },
  {
   "cell_type": "markdown",
   "metadata": {},
   "source": [
    "Как и в случае с квартирами по датасету в целом, прослеживается прямая корреляция между ценой и общей площадью, в то время как взаимосвязь цены с количеством комнат и удаленностью от центра не так однозначна. Построим графики."
   ]
  },
  {
   "cell_type": "code",
   "execution_count": 66,
   "metadata": {},
   "outputs": [
    {
     "data": {
      "text/plain": [
       "<AxesSubplot:xlabel='total_area', ylabel='last_price'>"
      ]
     },
     "execution_count": 66,
     "metadata": {},
     "output_type": "execute_result"
    },
    {
     "data": {
      "image/png": "[encoded data removed]",
      "text/plain": [
       "<Figure size 432x288 with 1 Axes>"
      ]
     },
     "metadata": {
      "needs_background": "light"
     },
     "output_type": "display_data"
    }
   ],
   "source": [
    "# зависимость цены от площади квартиры в центре\n",
    "cityCenter.plot(x='total_area', y='last_price', kind='scatter')"
   ]
  },
  {
   "cell_type": "code",
   "execution_count": 67,
   "metadata": {
    "scrolled": false
   },
   "outputs": [
    {
     "data": {
      "image/png": "[encoded data removed]",
      "text/plain": [
       "<Figure size 432x288 with 1 Axes>"
      ]
     },
     "metadata": {
      "needs_background": "light"
     },
     "output_type": "display_data"
    },
    {
     "data": {
      "image/png": "[encoded data removed]",
      "text/plain": [
       "<Figure size 432x288 with 1 Axes>"
      ]
     },
     "metadata": {
      "needs_background": "light"
     },
     "output_type": "display_data"
    },
    {
     "data": {
      "image/png": "[encoded data removed]",
      "text/plain": [
       "<Figure size 432x288 with 1 Axes>"
      ]
     },
     "metadata": {
      "needs_background": "light"
     },
     "output_type": "display_data"
    },
    {
     "data": {
      "text/plain": [
       "<AxesSubplot:xlabel='days_exposition', ylabel='last_price'>"
      ]
     },
     "execution_count": 67,
     "metadata": {},
     "output_type": "execute_result"
    },
    {
     "data": {
      "image/png": "[encoded data removed]",
      "text/plain": [
       "<Figure size 432x288 with 1 Axes>"
      ]
     },
     "metadata": {
      "needs_background": "light"
     },
     "output_type": "display_data"
    }
   ],
   "source": [
    "# график рассеяния для квартир в центре и различных параметров\n",
    "rooms_price_center = cityCenter.pivot_table(index='rooms', values='last_price', aggfunc='median').reset_index()\n",
    "rooms_price_center.plot.line(x='rooms', y='last_price')\n",
    "plt.show()\n",
    "floor_name_center = cityCenter.pivot_table(index='floor_name', values='last_price', aggfunc='median').reset_index()\n",
    "floor_name_center.plot.line(x='floor_name', y='last_price')\n",
    "plt.show()\n",
    "cityCenter.plot(x='cityCenters_nearest', y='last_price', kind='scatter')\n",
    "plt.show()\n",
    "cityCenter.plot(x='days_exposition', y='last_price', kind='scatter')"
   ]
  },
  {
   "cell_type": "code",
   "execution_count": 68,
   "metadata": {},
   "outputs": [
    {
     "data": {
      "text/plain": [
       "<AxesSubplot:title={'center':'Зависимость цены от дня недели'}, xlabel='day_of_week'>"
      ]
     },
     "execution_count": 68,
     "metadata": {},
     "output_type": "execute_result"
    },
    {
     "data": {
      "image/png": "[encoded data removed]",
      "text/plain": [
       "<Figure size 432x288 with 1 Axes>"
      ]
     },
     "metadata": {
      "needs_background": "light"
     },
     "output_type": "display_data"
    }
   ],
   "source": [
    "# график для зависимости цены от дня недели публикации объявления\n",
    "day_of_week_price2 = cityCenter.pivot_table(index='day_of_week', values='last_price', aggfunc='median').reset_index()\n",
    "day_of_week_price2.plot(x='day_of_week', y='last_price', title='Зависимость цены от дня недели')"
   ]
  },
  {
   "cell_type": "code",
   "execution_count": 69,
   "metadata": {},
   "outputs": [
    {
     "data": {
      "text/plain": [
       "<AxesSubplot:title={'center':'Зависимость цены от месяца'}, xlabel='month'>"
      ]
     },
     "execution_count": 69,
     "metadata": {},
     "output_type": "execute_result"
    },
    {
     "data": {
      "image/png": "[encoded data removed]",
      "text/plain": [
       "<Figure size 432x288 with 1 Axes>"
      ]
     },
     "metadata": {
      "needs_background": "light"
     },
     "output_type": "display_data"
    }
   ],
   "source": [
    "# график для зависимости цены от месяца публикации объявления\n",
    "month_price2 = cityCenter.pivot_table(index='month', values='last_price', aggfunc='median').reset_index()\n",
    "month_price2.plot(x='month', y='last_price', title='Зависимость цены от месяца')"
   ]
  },
  {
   "cell_type": "code",
   "execution_count": 70,
   "metadata": {},
   "outputs": [
    {
     "data": {
      "text/plain": [
       "<AxesSubplot:title={'center':'Зависимость цены от года'}, xlabel='year'>"
      ]
     },
     "execution_count": 70,
     "metadata": {},
     "output_type": "execute_result"
    },
    {
     "data": {
      "image/png": "[encoded data removed]",
      "text/plain": [
       "<Figure size 432x288 with 1 Axes>"
      ]
     },
     "metadata": {
      "needs_background": "light"
     },
     "output_type": "display_data"
    }
   ],
   "source": [
    "# график для зависимости цены от года публикации объявления\n",
    "year_price2 = cityCenter.pivot_table(index='year', values='last_price', aggfunc='median').reset_index()\n",
    "year_price2.plot(x='year', y='last_price', title='Зависимость цены от года')"
   ]
  },
  {
   "cell_type": "markdown",
   "metadata": {},
   "source": [
    "***Выводы***\n",
    "\n",
    "- Зависимость цены от количества комнат и этажа совпадает с корреляциями, выявленными по датасету в целом.\n",
    "- Зависимость цены от удаленности от центра отличается - в то время как в общем датасете цена снижается по мере удаления от центра, непосредственно в центральной трехкилометровой зоне такой тенденции не наблюдается. Мы лишь видим, что чем дальше от центральной точки, тем больше продается квартир (в точке, обозначенной как центр, очевидно не очень много жилых домов).\n",
    "- Также мы не наблюдаем видимого снижения цены в зависимости от того, как долго провисело объявление о продаже - снижается количество проданных квартир, но не их цена.\n",
    "- Зависимость цены от дня недели для квартир в центре видимо отличается от квартир по датасету в целом: объявления о самых дорогих квартирах публикуются в субботу и вторник (что кардинально отличается от остального датасета, где пик цены приходится на понедельник, а спад, как раз на субботу). График зависимости цены от месяца публикации в целом повторяет график по квартирам в целом с той разницей, что основной спад приходится не на июнь, а на август. Последствия кризиса 2014-го года прослеживается на ценах на квартиры в центре с той же однозначностью, что и на остальных квартирах."
   ]
  },
  {
   "cell_type": "markdown",
   "metadata": {},
   "source": [
    "## Общий вывод"
   ]
  },
  {
   "cell_type": "markdown",
   "metadata": {},
   "source": [
    "### Предобработка"
   ]
  },
  {
   "cell_type": "markdown",
   "metadata": {},
   "source": [
    "- В ходе предобработки основной упор был сделан на поиск и удаление либо замену пропущенных значений. Там, где пропуск значений мог сказаться на выводах (столбцы \"площадь кухни\", \"жилая площадь\", \"высота потолков\", \"расстояние до центра города\"), отсутствующие значения были заменены медианными значениями (обычными, либо сгруппированными по какому-либо признаку). Некоторые столбцы (\"расстояние до ближайшего водоема\" и т.п.) было решено оставить как есть, потому что эти данные не имели отношения к поставленным вопросам.\n",
    "- В некоторых столбцах был изменен тип данных на более подходящий."
   ]
  },
  {
   "cell_type": "markdown",
   "metadata": {},
   "source": [
    "### Исследовательский анализ"
   ]
  },
  {
   "cell_type": "markdown",
   "metadata": {},
   "source": [
    "Исследовательский анализ данных позволил изучить ряд параметров продаваемых квартир и сделать следующие выводы:\n",
    "\n",
    "- наиболее широко представлены в продаже квартиры одно- и двухкомнатные, от 30 до 70 кв.м., по цене от 3 до 7 млн.р.; наиболее часто встречающаяся высота потолков - 2,5 и 2,7 м.\n",
    "- четверть квартир продается за 1,5 месяца, половина - за 2,5-3 месяца, еще четверть - за 8-9 месяцев с момента появления объявления о продаже. Основываясь на этих данных, можно утверждать, что продать квартиру \"быстро\" означает продать меньше, чем за месяц, \"долго\" продавать квартиру - от 9 месяцев и дольше.\n",
    "- из датасета были удалены выбивающиеся значения по цене (менее 1 млн.р.) и с нестандартной высотой потолков (менее 2,4 и более 10 м).\n",
    "\n",
    "***Цена***\n",
    "\n",
    "- На цену предсказуемо оказывает влияние площадь квартиры и количество комнат.\n",
    "- Большую роль играет удаленность недвижимости от центра (чем ближе к центру, тем дороже квартиры).\n",
    "- Самые дешевые квартиры располагаются на первом этаже, квартиры на последних этажах также теряют в цене.\n",
    "- Существует зависимость между ценой и днем недели, когда было размещено объявление (самые дешевые объявления публикуются в четверг, пятницу и субботу, самые дорогие - в понедельник и вторник).\n",
    "- Дешевле всего продаются квартиры в июне, дороже всего - в апреле. Новый год, против ожиданий, значительного влияния на ценообразование не оказывает.\n",
    "- Кризис 2014-го года спровоцировал двукратное падение цен на квартиры, затем наблюдалась стагнация рынка с 2016-го по 2018-ый год, далее начался рост цен.\n",
    "\n",
    "***10 населенных пунктов***\n",
    "\n",
    "Было выделено 10 населенных пунктов с наибольшим числом объявлений. Среди них самые дорогие по цене за кв.метр квартиры находятся в Санкт-Петербурге, самые дешевые - в Выборге.\n",
    "\n",
    "***Центр***\n",
    "\n",
    "- В ходе исследования была выделена трехкилометровая зона в центре Санкт-Петербурга с наиболее высокими ценами. В рамках этой центральной зоны продаются квартиры большей площади, среди которых преобладают трехкомнатные. Здесь шире представлены четырех- и пятикомнатные квартиры, чаще встречаются квартиры с высокими потолками.\n",
    "- В рамках этой зоны наблюдается та же зависимость цены от площади и количества комнат, что и по датасету в целом, но не наблюдается снижения цены по мере удаления от центра; также квартиры здесь не дешевеют вне зависимости от того, как долго провисело объявление о продаже."
   ]
  }
 ],
 "metadata": {
  "ExecuteTimeLog": [
   {
    "duration": 822,
    "start_time": "2022-05-03T08:58:13.164Z"
   },
   {
    "duration": 169,
    "start_time": "2022-05-03T08:58:13.989Z"
   },
   {
    "duration": 114,
    "start_time": "2022-05-03T08:58:30.414Z"
   },
   {
    "duration": 61,
    "start_time": "2022-05-03T08:58:35.772Z"
   },
   {
    "duration": 29,
    "start_time": "2022-05-03T08:58:48.526Z"
   },
   {
    "duration": 9,
    "start_time": "2022-05-03T08:59:14.530Z"
   },
   {
    "duration": 413,
    "start_time": "2022-05-03T09:25:09.289Z"
   },
   {
    "duration": 265,
    "start_time": "2022-05-03T09:25:24.457Z"
   },
   {
    "duration": 282,
    "start_time": "2022-05-03T09:25:29.524Z"
   },
   {
    "duration": 300,
    "start_time": "2022-05-03T09:55:35.288Z"
   },
   {
    "duration": 267,
    "start_time": "2022-05-03T09:55:54.489Z"
   },
   {
    "duration": 852,
    "start_time": "2022-05-03T09:59:46.372Z"
   },
   {
    "duration": 158,
    "start_time": "2022-05-03T09:59:47.226Z"
   },
   {
    "duration": 39,
    "start_time": "2022-05-03T09:59:47.386Z"
   },
   {
    "duration": 7,
    "start_time": "2022-05-03T09:59:47.428Z"
   },
   {
    "duration": 12,
    "start_time": "2022-05-03T09:59:47.437Z"
   },
   {
    "duration": 13,
    "start_time": "2022-05-03T09:59:47.451Z"
   },
   {
    "duration": 7,
    "start_time": "2022-05-03T09:59:47.466Z"
   },
   {
    "duration": 54,
    "start_time": "2022-05-03T09:59:47.475Z"
   },
   {
    "duration": 1716,
    "start_time": "2022-05-03T09:59:47.532Z"
   },
   {
    "duration": 10,
    "start_time": "2022-05-03T09:59:49.255Z"
   },
   {
    "duration": 84,
    "start_time": "2022-05-03T09:59:49.268Z"
   },
   {
    "duration": 895,
    "start_time": "2022-05-03T09:59:49.355Z"
   },
   {
    "duration": 171,
    "start_time": "2022-05-03T09:59:50.253Z"
   },
   {
    "duration": 25,
    "start_time": "2022-05-03T09:59:50.427Z"
   },
   {
    "duration": 73,
    "start_time": "2022-05-03T09:59:50.455Z"
   },
   {
    "duration": 22,
    "start_time": "2022-05-03T09:59:50.532Z"
   },
   {
    "duration": 72,
    "start_time": "2022-05-03T09:59:50.557Z"
   },
   {
    "duration": 8,
    "start_time": "2022-05-03T09:59:50.631Z"
   },
   {
    "duration": 13,
    "start_time": "2022-05-03T09:59:50.641Z"
   },
   {
    "duration": 8,
    "start_time": "2022-05-03T09:59:50.657Z"
   },
   {
    "duration": 6,
    "start_time": "2022-05-03T09:59:50.724Z"
   },
   {
    "duration": 13,
    "start_time": "2022-05-03T09:59:50.733Z"
   },
   {
    "duration": 20,
    "start_time": "2022-05-03T09:59:50.748Z"
   },
   {
    "duration": 55,
    "start_time": "2022-05-03T09:59:50.770Z"
   },
   {
    "duration": 6,
    "start_time": "2022-05-03T09:59:50.827Z"
   },
   {
    "duration": 24,
    "start_time": "2022-05-03T09:59:50.834Z"
   },
   {
    "duration": 1411,
    "start_time": "2022-05-03T09:59:50.860Z"
   },
   {
    "duration": 7,
    "start_time": "2022-05-03T09:59:52.280Z"
   },
   {
    "duration": 283,
    "start_time": "2022-05-03T09:59:52.290Z"
   },
   {
    "duration": 288,
    "start_time": "2022-05-03T09:59:52.576Z"
   },
   {
    "duration": 9,
    "start_time": "2022-05-03T09:59:52.866Z"
   },
   {
    "duration": 291,
    "start_time": "2022-05-03T09:59:52.877Z"
   },
   {
    "duration": 7,
    "start_time": "2022-05-03T09:59:53.170Z"
   },
   {
    "duration": 300,
    "start_time": "2022-05-03T09:59:53.179Z"
   },
   {
    "duration": 57,
    "start_time": "2022-05-03T09:59:53.481Z"
   },
   {
    "duration": 286,
    "start_time": "2022-05-03T09:59:53.541Z"
   },
   {
    "duration": 218,
    "start_time": "2022-05-03T09:59:53.830Z"
   },
   {
    "duration": 33,
    "start_time": "2022-05-03T09:59:54.051Z"
   },
   {
    "duration": 65,
    "start_time": "2022-05-03T09:59:54.087Z"
   },
   {
    "duration": 125,
    "start_time": "2022-05-03T09:59:54.155Z"
   },
   {
    "duration": 11,
    "start_time": "2022-05-03T09:59:54.283Z"
   },
   {
    "duration": 36,
    "start_time": "2022-05-03T09:59:54.297Z"
   },
   {
    "duration": 217,
    "start_time": "2022-05-03T09:59:54.336Z"
   },
   {
    "duration": 74,
    "start_time": "2022-05-03T09:59:54.555Z"
   },
   {
    "duration": 10,
    "start_time": "2022-05-03T09:59:54.632Z"
   },
   {
    "duration": 8,
    "start_time": "2022-05-03T09:59:54.644Z"
   },
   {
    "duration": 314,
    "start_time": "2022-05-03T09:59:54.655Z"
   },
   {
    "duration": 252,
    "start_time": "2022-05-03T09:59:54.972Z"
   },
   {
    "duration": 344,
    "start_time": "2022-05-03T09:59:55.226Z"
   },
   {
    "duration": 245,
    "start_time": "2022-05-03T09:59:55.573Z"
   },
   {
    "duration": 313,
    "start_time": "2022-05-03T09:59:55.820Z"
   },
   {
    "duration": 263,
    "start_time": "2022-05-03T09:59:56.135Z"
   },
   {
    "duration": 244,
    "start_time": "2022-05-03T09:59:56.400Z"
   },
   {
    "duration": 254,
    "start_time": "2022-05-03T09:59:56.646Z"
   },
   {
    "duration": 23,
    "start_time": "2022-05-03T09:59:56.902Z"
   },
   {
    "duration": 34,
    "start_time": "2022-05-03T09:59:56.928Z"
   },
   {
    "duration": 21,
    "start_time": "2022-05-03T09:59:56.964Z"
   },
   {
    "duration": 46,
    "start_time": "2022-05-03T09:59:56.987Z"
   },
   {
    "duration": 278,
    "start_time": "2022-05-03T09:59:57.035Z"
   },
   {
    "duration": 12,
    "start_time": "2022-05-03T09:59:57.316Z"
   },
   {
    "duration": 961,
    "start_time": "2022-05-03T09:59:57.330Z"
   },
   {
    "duration": 1110,
    "start_time": "2022-05-03T09:59:58.294Z"
   },
   {
    "duration": 918,
    "start_time": "2022-05-03T11:16:49.712Z"
   },
   {
    "duration": 169,
    "start_time": "2022-05-03T11:16:50.633Z"
   },
   {
    "duration": 32,
    "start_time": "2022-05-03T11:16:50.804Z"
   },
   {
    "duration": 7,
    "start_time": "2022-05-03T11:16:50.840Z"
   },
   {
    "duration": 16,
    "start_time": "2022-05-03T11:16:50.850Z"
   },
   {
    "duration": 18,
    "start_time": "2022-05-03T11:16:50.869Z"
   },
   {
    "duration": 7,
    "start_time": "2022-05-03T11:16:50.889Z"
   },
   {
    "duration": 32,
    "start_time": "2022-05-03T11:16:50.898Z"
   },
   {
    "duration": 632,
    "start_time": "2022-05-03T11:16:50.932Z"
   },
   {
    "duration": 9,
    "start_time": "2022-05-03T11:16:51.570Z"
   },
   {
    "duration": 49,
    "start_time": "2022-05-03T11:16:51.581Z"
   },
   {
    "duration": 297,
    "start_time": "2022-05-03T11:16:51.633Z"
   },
   {
    "duration": 44,
    "start_time": "2022-05-03T11:16:51.933Z"
   },
   {
    "duration": 51,
    "start_time": "2022-05-03T11:16:51.980Z"
   },
   {
    "duration": 16,
    "start_time": "2022-05-03T11:16:52.034Z"
   },
   {
    "duration": 20,
    "start_time": "2022-05-03T11:16:52.053Z"
   },
   {
    "duration": 54,
    "start_time": "2022-05-03T11:16:52.076Z"
   },
   {
    "duration": 6,
    "start_time": "2022-05-03T11:16:52.132Z"
   },
   {
    "duration": 16,
    "start_time": "2022-05-03T11:16:52.140Z"
   },
   {
    "duration": 10,
    "start_time": "2022-05-03T11:16:52.158Z"
   },
   {
    "duration": 6,
    "start_time": "2022-05-03T11:16:52.171Z"
   },
   {
    "duration": 50,
    "start_time": "2022-05-03T11:16:52.179Z"
   },
   {
    "duration": 15,
    "start_time": "2022-05-03T11:16:52.231Z"
   },
   {
    "duration": 7,
    "start_time": "2022-05-03T11:16:52.249Z"
   },
   {
    "duration": 7,
    "start_time": "2022-05-03T11:16:52.258Z"
   },
   {
    "duration": 57,
    "start_time": "2022-05-03T11:16:52.267Z"
   },
   {
    "duration": 669,
    "start_time": "2022-05-03T11:16:52.327Z"
   },
   {
    "duration": 7,
    "start_time": "2022-05-03T11:16:53.002Z"
   },
   {
    "duration": 275,
    "start_time": "2022-05-03T11:16:53.025Z"
   },
   {
    "duration": 274,
    "start_time": "2022-05-03T11:16:53.303Z"
   },
   {
    "duration": 9,
    "start_time": "2022-05-03T11:16:53.580Z"
   },
   {
    "duration": 296,
    "start_time": "2022-05-03T11:16:53.591Z"
   },
   {
    "duration": 8,
    "start_time": "2022-05-03T11:16:53.889Z"
   },
   {
    "duration": 404,
    "start_time": "2022-05-03T11:16:53.899Z"
   },
   {
    "duration": 49,
    "start_time": "2022-05-03T11:16:54.306Z"
   },
   {
    "duration": 293,
    "start_time": "2022-05-03T11:16:54.357Z"
   },
   {
    "duration": 208,
    "start_time": "2022-05-03T11:16:54.653Z"
   },
   {
    "duration": 33,
    "start_time": "2022-05-03T11:16:54.863Z"
   },
   {
    "duration": 62,
    "start_time": "2022-05-03T11:16:54.898Z"
   },
   {
    "duration": 118,
    "start_time": "2022-05-03T11:16:54.962Z"
   },
   {
    "duration": 10,
    "start_time": "2022-05-03T11:16:55.082Z"
   },
   {
    "duration": 34,
    "start_time": "2022-05-03T11:16:55.094Z"
   },
   {
    "duration": 212,
    "start_time": "2022-05-03T11:16:55.131Z"
   },
   {
    "duration": 50,
    "start_time": "2022-05-03T11:16:55.346Z"
   },
   {
    "duration": 30,
    "start_time": "2022-05-03T11:16:55.398Z"
   },
   {
    "duration": 294,
    "start_time": "2022-05-03T11:16:55.430Z"
   },
   {
    "duration": 244,
    "start_time": "2022-05-03T11:16:55.726Z"
   },
   {
    "duration": 356,
    "start_time": "2022-05-03T11:16:55.973Z"
   },
   {
    "duration": 239,
    "start_time": "2022-05-03T11:16:56.332Z"
   },
   {
    "duration": 330,
    "start_time": "2022-05-03T11:16:56.574Z"
   },
   {
    "duration": 279,
    "start_time": "2022-05-03T11:16:56.907Z"
   },
   {
    "duration": 250,
    "start_time": "2022-05-03T11:16:57.188Z"
   },
   {
    "duration": 241,
    "start_time": "2022-05-03T11:16:57.440Z"
   },
   {
    "duration": 10,
    "start_time": "2022-05-03T11:16:57.684Z"
   },
   {
    "duration": 55,
    "start_time": "2022-05-03T11:16:57.696Z"
   },
   {
    "duration": 21,
    "start_time": "2022-05-03T11:16:57.754Z"
   },
   {
    "duration": 15,
    "start_time": "2022-05-03T11:16:57.777Z"
   },
   {
    "duration": 341,
    "start_time": "2022-05-03T11:16:57.794Z"
   },
   {
    "duration": 7,
    "start_time": "2022-05-03T11:16:58.137Z"
   },
   {
    "duration": 979,
    "start_time": "2022-05-03T11:16:58.146Z"
   },
   {
    "duration": 1009,
    "start_time": "2022-05-03T11:16:59.127Z"
   },
   {
    "duration": 14,
    "start_time": "2022-05-07T17:24:39.024Z"
   },
   {
    "duration": 728,
    "start_time": "2022-05-07T18:10:55.500Z"
   },
   {
    "duration": 120,
    "start_time": "2022-05-07T18:10:56.230Z"
   },
   {
    "duration": 17,
    "start_time": "2022-05-07T18:10:56.352Z"
   },
   {
    "duration": 21,
    "start_time": "2022-05-07T18:10:56.372Z"
   },
   {
    "duration": 6,
    "start_time": "2022-05-07T18:10:56.395Z"
   },
   {
    "duration": 13,
    "start_time": "2022-05-07T18:10:56.403Z"
   },
   {
    "duration": 7,
    "start_time": "2022-05-07T18:10:56.418Z"
   },
   {
    "duration": 47,
    "start_time": "2022-05-07T18:10:56.427Z"
   },
   {
    "duration": 10,
    "start_time": "2022-05-07T18:10:56.493Z"
   },
   {
    "duration": 7,
    "start_time": "2022-05-07T18:10:56.505Z"
   },
   {
    "duration": 534,
    "start_time": "2022-05-07T18:10:56.515Z"
   },
   {
    "duration": 7,
    "start_time": "2022-05-07T18:10:57.051Z"
   },
   {
    "duration": 35,
    "start_time": "2022-05-07T18:10:57.060Z"
   },
   {
    "duration": 185,
    "start_time": "2022-05-07T18:10:57.097Z"
   },
   {
    "duration": 37,
    "start_time": "2022-05-07T18:10:57.284Z"
   },
   {
    "duration": 15,
    "start_time": "2022-05-07T18:10:57.323Z"
   },
   {
    "duration": 13,
    "start_time": "2022-05-07T18:10:57.340Z"
   },
   {
    "duration": 71,
    "start_time": "2022-05-07T18:10:57.355Z"
   },
   {
    "duration": 13,
    "start_time": "2022-05-07T18:10:57.428Z"
   },
   {
    "duration": 7,
    "start_time": "2022-05-07T18:10:57.443Z"
   },
   {
    "duration": 16,
    "start_time": "2022-05-07T18:10:57.452Z"
   },
   {
    "duration": 9,
    "start_time": "2022-05-07T18:10:57.470Z"
   },
   {
    "duration": 5,
    "start_time": "2022-05-07T18:10:57.480Z"
   },
   {
    "duration": 9,
    "start_time": "2022-05-07T18:10:57.493Z"
   },
   {
    "duration": 11,
    "start_time": "2022-05-07T18:10:57.504Z"
   },
   {
    "duration": 6,
    "start_time": "2022-05-07T18:10:57.517Z"
   },
   {
    "duration": 7,
    "start_time": "2022-05-07T18:10:57.524Z"
   },
   {
    "duration": 21,
    "start_time": "2022-05-07T18:10:57.536Z"
   },
   {
    "duration": 419,
    "start_time": "2022-05-07T18:10:57.559Z"
   },
   {
    "duration": 12,
    "start_time": "2022-05-07T18:10:57.980Z"
   },
   {
    "duration": 159,
    "start_time": "2022-05-07T18:10:57.994Z"
   },
   {
    "duration": 217,
    "start_time": "2022-05-07T18:10:58.154Z"
   },
   {
    "duration": 7,
    "start_time": "2022-05-07T18:10:58.373Z"
   },
   {
    "duration": 255,
    "start_time": "2022-05-07T18:10:58.382Z"
   },
   {
    "duration": 7,
    "start_time": "2022-05-07T18:10:58.638Z"
   },
   {
    "duration": 269,
    "start_time": "2022-05-07T18:10:58.647Z"
   },
   {
    "duration": 33,
    "start_time": "2022-05-07T18:10:58.918Z"
   },
   {
    "duration": 229,
    "start_time": "2022-05-07T18:10:58.953Z"
   },
   {
    "duration": 179,
    "start_time": "2022-05-07T18:10:59.184Z"
   },
   {
    "duration": 29,
    "start_time": "2022-05-07T18:10:59.364Z"
   },
   {
    "duration": 25,
    "start_time": "2022-05-07T18:10:59.395Z"
   },
   {
    "duration": 87,
    "start_time": "2022-05-07T18:10:59.422Z"
   },
   {
    "duration": 7,
    "start_time": "2022-05-07T18:10:59.511Z"
   },
   {
    "duration": 10,
    "start_time": "2022-05-07T18:10:59.519Z"
   },
   {
    "duration": 191,
    "start_time": "2022-05-07T18:10:59.531Z"
   },
   {
    "duration": 47,
    "start_time": "2022-05-07T18:10:59.724Z"
   },
   {
    "duration": 20,
    "start_time": "2022-05-07T18:10:59.773Z"
   },
   {
    "duration": 18,
    "start_time": "2022-05-07T18:10:59.795Z"
   },
   {
    "duration": 257,
    "start_time": "2022-05-07T18:10:59.815Z"
   },
   {
    "duration": 1691,
    "start_time": "2022-05-07T18:11:00.074Z"
   },
   {
    "duration": 144,
    "start_time": "2022-05-07T18:11:01.767Z"
   },
   {
    "duration": 166,
    "start_time": "2022-05-07T18:11:01.913Z"
   },
   {
    "duration": 140,
    "start_time": "2022-05-07T18:11:02.081Z"
   },
   {
    "duration": 197,
    "start_time": "2022-05-07T18:11:02.223Z"
   },
   {
    "duration": 160,
    "start_time": "2022-05-07T18:11:02.422Z"
   },
   {
    "duration": 152,
    "start_time": "2022-05-07T18:11:02.583Z"
   },
   {
    "duration": 232,
    "start_time": "2022-05-07T18:11:02.737Z"
   },
   {
    "duration": 7,
    "start_time": "2022-05-07T18:11:02.971Z"
   },
   {
    "duration": 32,
    "start_time": "2022-05-07T18:11:02.980Z"
   },
   {
    "duration": 15,
    "start_time": "2022-05-07T18:11:03.014Z"
   },
   {
    "duration": 10,
    "start_time": "2022-05-07T18:11:03.031Z"
   },
   {
    "duration": 167,
    "start_time": "2022-05-07T18:11:03.042Z"
   },
   {
    "duration": 5,
    "start_time": "2022-05-07T18:11:03.210Z"
   },
   {
    "duration": 567,
    "start_time": "2022-05-07T18:11:03.217Z"
   },
   {
    "duration": 14,
    "start_time": "2022-05-07T18:11:03.786Z"
   },
   {
    "duration": 145,
    "start_time": "2022-05-07T18:11:03.802Z"
   },
   {
    "duration": 557,
    "start_time": "2022-05-07T18:11:03.949Z"
   },
   {
    "duration": 164,
    "start_time": "2022-05-07T18:11:04.508Z"
   },
   {
    "duration": 160,
    "start_time": "2022-05-07T18:11:04.674Z"
   },
   {
    "duration": 159,
    "start_time": "2022-05-07T18:11:04.835Z"
   },
   {
    "duration": 710,
    "start_time": "2022-05-07T18:33:45.503Z"
   },
   {
    "duration": 119,
    "start_time": "2022-05-07T18:33:46.215Z"
   },
   {
    "duration": 16,
    "start_time": "2022-05-07T18:33:46.335Z"
   },
   {
    "duration": 5,
    "start_time": "2022-05-07T18:33:46.353Z"
   },
   {
    "duration": 8,
    "start_time": "2022-05-07T18:33:46.360Z"
   },
   {
    "duration": 33,
    "start_time": "2022-05-07T18:33:46.370Z"
   },
   {
    "duration": 9,
    "start_time": "2022-05-07T18:33:46.405Z"
   },
   {
    "duration": 24,
    "start_time": "2022-05-07T18:33:46.417Z"
   },
   {
    "duration": 7,
    "start_time": "2022-05-07T18:33:46.442Z"
   },
   {
    "duration": 6,
    "start_time": "2022-05-07T18:33:46.451Z"
   },
   {
    "duration": 382,
    "start_time": "2022-05-07T18:33:46.458Z"
   },
   {
    "duration": 7,
    "start_time": "2022-05-07T18:33:46.843Z"
   },
   {
    "duration": 30,
    "start_time": "2022-05-07T18:33:46.851Z"
   },
   {
    "duration": 171,
    "start_time": "2022-05-07T18:33:46.892Z"
   },
   {
    "duration": 40,
    "start_time": "2022-05-07T18:33:47.064Z"
   },
   {
    "duration": 16,
    "start_time": "2022-05-07T18:33:47.106Z"
   },
   {
    "duration": 12,
    "start_time": "2022-05-07T18:33:47.124Z"
   },
   {
    "duration": 20,
    "start_time": "2022-05-07T18:33:47.138Z"
   },
   {
    "duration": 45,
    "start_time": "2022-05-07T18:33:47.160Z"
   },
   {
    "duration": 5,
    "start_time": "2022-05-07T18:33:47.207Z"
   },
   {
    "duration": 9,
    "start_time": "2022-05-07T18:33:47.214Z"
   },
   {
    "duration": 9,
    "start_time": "2022-05-07T18:33:47.224Z"
   },
   {
    "duration": 7,
    "start_time": "2022-05-07T18:33:47.234Z"
   },
   {
    "duration": 15,
    "start_time": "2022-05-07T18:33:47.243Z"
   },
   {
    "duration": 41,
    "start_time": "2022-05-07T18:33:47.260Z"
   },
   {
    "duration": 6,
    "start_time": "2022-05-07T18:33:47.303Z"
   },
   {
    "duration": 6,
    "start_time": "2022-05-07T18:33:47.311Z"
   },
   {
    "duration": 14,
    "start_time": "2022-05-07T18:33:47.322Z"
   },
   {
    "duration": 419,
    "start_time": "2022-05-07T18:33:47.338Z"
   },
   {
    "duration": 6,
    "start_time": "2022-05-07T18:33:47.758Z"
   },
   {
    "duration": 229,
    "start_time": "2022-05-07T18:33:47.766Z"
   },
   {
    "duration": 161,
    "start_time": "2022-05-07T18:33:47.997Z"
   },
   {
    "duration": 6,
    "start_time": "2022-05-07T18:33:48.160Z"
   },
   {
    "duration": 171,
    "start_time": "2022-05-07T18:33:48.168Z"
   },
   {
    "duration": 6,
    "start_time": "2022-05-07T18:33:48.341Z"
   },
   {
    "duration": 192,
    "start_time": "2022-05-07T18:33:48.349Z"
   },
   {
    "duration": 28,
    "start_time": "2022-05-07T18:33:48.542Z"
   },
   {
    "duration": 173,
    "start_time": "2022-05-07T18:33:48.572Z"
   },
   {
    "duration": 130,
    "start_time": "2022-05-07T18:33:48.748Z"
   },
   {
    "duration": 34,
    "start_time": "2022-05-07T18:33:48.881Z"
   },
   {
    "duration": 27,
    "start_time": "2022-05-07T18:33:48.916Z"
   },
   {
    "duration": 108,
    "start_time": "2022-05-07T18:33:48.945Z"
   },
   {
    "duration": 7,
    "start_time": "2022-05-07T18:33:49.054Z"
   },
   {
    "duration": 12,
    "start_time": "2022-05-07T18:33:49.062Z"
   },
   {
    "duration": 145,
    "start_time": "2022-05-07T18:33:49.093Z"
   },
   {
    "duration": 36,
    "start_time": "2022-05-07T18:33:49.239Z"
   },
   {
    "duration": 6,
    "start_time": "2022-05-07T18:33:49.293Z"
   },
   {
    "duration": 11,
    "start_time": "2022-05-07T18:33:49.301Z"
   },
   {
    "duration": 272,
    "start_time": "2022-05-07T18:33:49.314Z"
   },
   {
    "duration": 1725,
    "start_time": "2022-05-07T18:33:49.588Z"
   },
   {
    "duration": 199,
    "start_time": "2022-05-07T18:33:51.316Z"
   },
   {
    "duration": 176,
    "start_time": "2022-05-07T18:33:51.518Z"
   },
   {
    "duration": 149,
    "start_time": "2022-05-07T18:33:51.697Z"
   },
   {
    "duration": 211,
    "start_time": "2022-05-07T18:33:51.848Z"
   },
   {
    "duration": 169,
    "start_time": "2022-05-07T18:33:52.060Z"
   },
   {
    "duration": 164,
    "start_time": "2022-05-07T18:33:52.231Z"
   },
   {
    "duration": 246,
    "start_time": "2022-05-07T18:33:52.397Z"
   },
   {
    "duration": 9,
    "start_time": "2022-05-07T18:33:52.645Z"
   },
   {
    "duration": 45,
    "start_time": "2022-05-07T18:33:52.655Z"
   },
   {
    "duration": 21,
    "start_time": "2022-05-07T18:33:52.702Z"
   },
   {
    "duration": 13,
    "start_time": "2022-05-07T18:33:52.725Z"
   },
   {
    "duration": 243,
    "start_time": "2022-05-07T18:33:52.741Z"
   },
   {
    "duration": 10,
    "start_time": "2022-05-07T18:33:52.986Z"
   },
   {
    "duration": 833,
    "start_time": "2022-05-07T18:33:52.998Z"
   },
   {
    "duration": 10,
    "start_time": "2022-05-07T18:33:53.833Z"
   },
   {
    "duration": 161,
    "start_time": "2022-05-07T18:33:53.845Z"
   },
   {
    "duration": 884,
    "start_time": "2022-05-07T18:33:54.008Z"
   },
   {
    "duration": 241,
    "start_time": "2022-05-07T18:33:54.895Z"
   },
   {
    "duration": 207,
    "start_time": "2022-05-07T18:33:55.138Z"
   },
   {
    "duration": 224,
    "start_time": "2022-05-07T18:33:55.347Z"
   }
  ],
  "kernelspec": {
   "display_name": "Python 3 (ipykernel)",
   "language": "python",
   "name": "python3"
  },
  "language_info": {
   "codemirror_mode": {
    "name": "ipython",
    "version": 3
   },
   "file_extension": ".py",
   "mimetype": "text/x-python",
   "name": "python",
   "nbconvert_exporter": "python",
   "pygments_lexer": "ipython3",
   "version": "3.9.7"
  },
  "toc": {
   "base_numbering": 1,
   "nav_menu": {},
   "number_sections": true,
   "sideBar": true,
   "skip_h1_title": true,
   "title_cell": "Содержание",
   "title_sidebar": "Contents",
   "toc_cell": true,
   "toc_position": {
    "height": "calc(100% - 180px)",
    "left": "10px",
    "top": "150px",
    "width": "255.195px"
   },
   "toc_section_display": true,
   "toc_window_display": true
  }
 },
 "nbformat": 4,
 "nbformat_minor": 2
}
