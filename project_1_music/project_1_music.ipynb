{
 "cells": [
  {
   "cell_type": "markdown",
   "metadata": {
    "id": "E0vqbgi9ay0H"
   },
   "source": [
    "# Яндекс.Музыка"
   ]
  },
  {
   "cell_type": "markdown",
   "metadata": {},
   "source": [
    "Сравнение Москвы и Петербурга окружено мифами. Например:\n",
    "\n",
    "Москва — мегаполис, подчинённый жёсткому ритму рабочей недели;\n",
    "Петербург — культурная столица, со своими вкусами.\n",
    "На данных Яндекс.Музыки вы сравните поведение пользователей двух столиц.\n",
    "\n",
    "Цель исследования — проверить три гипотезы:\n",
    "\n",
    "1. Активность пользователей зависит от дня недели. Причём в Москве и Петербурге это проявляется по-разному.\n",
    "2. В понедельник утром в Москве преобладают одни жанры, а в Петербурге — другие. Так же и вечером пятницы преобладают разные жанры — в зависимости от города.\n",
    "3. Москва и Петербург предпочитают разные жанры музыки. В Москве чаще слушают поп-музыку, в Петербурге — русский рэп.\n",
    "\n",
    "**Ход исследования**\n",
    "\n",
    "Данные о поведении пользователей мы получили из файла yandex_music_project.csv. О качестве данных ничего не известно. Поэтому перед проверкой гипотез понадобится обзор данных.\n",
    "\n",
    "Мы проверим данные на ошибки и оценим их влияние на исследование. Затем, на этапе предобработки мы поищем возможность исправить самые критичные ошибки данных.\n",
    "\n",
    "Таким образом, исследование пройдёт в три этапа:\n",
    "\n",
    "- Обзор данных.\n",
    "- Предобработка данных.\n",
    "- Проверка гипотез."
   ]
  },
  {
   "cell_type": "markdown",
   "metadata": {
    "id": "Ml1hmfXC_Zcs"
   },
   "source": [
    "## Обзор данных\n",
    "\n",
    "Составим первое представление о данных Яндекс.Музыки.\n",
    "\n",
    "\n"
   ]
  },
  {
   "cell_type": "code",
   "execution_count": 4,
   "metadata": {
    "id": "AXN7PHPN_Zcs"
   },
   "outputs": [],
   "source": [
    "import pandas as pd # импорт библиотеки pandas"
   ]
  },
  {
   "cell_type": "code",
   "execution_count": 5,
   "metadata": {
    "id": "fFVu7vqh_Zct"
   },
   "outputs": [],
   "source": [
    "df = pd.read_csv('/datasets/yandex_music_project.csv') # чтение файла с данными и сохранение в df"
   ]
  },
  {
   "cell_type": "code",
   "execution_count": 6,
   "metadata": {
    "id": "oWTVX3gW_Zct",
    "scrolled": true
   },
   "outputs": [
    {
     "data": {
      "text/html": [
       "<div>\n",
       "<style scoped>\n",
       "    .dataframe tbody tr th:only-of-type {\n",
       "        vertical-align: middle;\n",
       "    }\n",
       "\n",
       "    .dataframe tbody tr th {\n",
       "        vertical-align: top;\n",
       "    }\n",
       "\n",
       "    .dataframe thead th {\n",
       "        text-align: right;\n",
       "    }\n",
       "</style>\n",
       "<table border=\"1\" class=\"dataframe\">\n",
       "  <thead>\n",
       "    <tr style=\"text-align: right;\">\n",
       "      <th></th>\n",
       "      <th>userID</th>\n",
       "      <th>Track</th>\n",
       "      <th>artist</th>\n",
       "      <th>genre</th>\n",
       "      <th>City</th>\n",
       "      <th>time</th>\n",
       "      <th>Day</th>\n",
       "    </tr>\n",
       "  </thead>\n",
       "  <tbody>\n",
       "    <tr>\n",
       "      <th>0</th>\n",
       "      <td>FFB692EC</td>\n",
       "      <td>Kamigata To Boots</td>\n",
       "      <td>The Mass Missile</td>\n",
       "      <td>rock</td>\n",
       "      <td>Saint-Petersburg</td>\n",
       "      <td>20:28:33</td>\n",
       "      <td>Wednesday</td>\n",
       "    </tr>\n",
       "    <tr>\n",
       "      <th>1</th>\n",
       "      <td>55204538</td>\n",
       "      <td>Delayed Because of Accident</td>\n",
       "      <td>Andreas Rönnberg</td>\n",
       "      <td>rock</td>\n",
       "      <td>Moscow</td>\n",
       "      <td>14:07:09</td>\n",
       "      <td>Friday</td>\n",
       "    </tr>\n",
       "    <tr>\n",
       "      <th>2</th>\n",
       "      <td>20EC38</td>\n",
       "      <td>Funiculì funiculà</td>\n",
       "      <td>Mario Lanza</td>\n",
       "      <td>pop</td>\n",
       "      <td>Saint-Petersburg</td>\n",
       "      <td>20:58:07</td>\n",
       "      <td>Wednesday</td>\n",
       "    </tr>\n",
       "    <tr>\n",
       "      <th>3</th>\n",
       "      <td>A3DD03C9</td>\n",
       "      <td>Dragons in the Sunset</td>\n",
       "      <td>Fire + Ice</td>\n",
       "      <td>folk</td>\n",
       "      <td>Saint-Petersburg</td>\n",
       "      <td>08:37:09</td>\n",
       "      <td>Monday</td>\n",
       "    </tr>\n",
       "    <tr>\n",
       "      <th>4</th>\n",
       "      <td>E2DC1FAE</td>\n",
       "      <td>Soul People</td>\n",
       "      <td>Space Echo</td>\n",
       "      <td>dance</td>\n",
       "      <td>Moscow</td>\n",
       "      <td>08:34:34</td>\n",
       "      <td>Monday</td>\n",
       "    </tr>\n",
       "    <tr>\n",
       "      <th>5</th>\n",
       "      <td>842029A1</td>\n",
       "      <td>Преданная</td>\n",
       "      <td>IMPERVTOR</td>\n",
       "      <td>rusrap</td>\n",
       "      <td>Saint-Petersburg</td>\n",
       "      <td>13:09:41</td>\n",
       "      <td>Friday</td>\n",
       "    </tr>\n",
       "    <tr>\n",
       "      <th>6</th>\n",
       "      <td>4CB90AA5</td>\n",
       "      <td>True</td>\n",
       "      <td>Roman Messer</td>\n",
       "      <td>dance</td>\n",
       "      <td>Moscow</td>\n",
       "      <td>13:00:07</td>\n",
       "      <td>Wednesday</td>\n",
       "    </tr>\n",
       "    <tr>\n",
       "      <th>7</th>\n",
       "      <td>F03E1C1F</td>\n",
       "      <td>Feeling This Way</td>\n",
       "      <td>Polina Griffith</td>\n",
       "      <td>dance</td>\n",
       "      <td>Moscow</td>\n",
       "      <td>20:47:49</td>\n",
       "      <td>Wednesday</td>\n",
       "    </tr>\n",
       "    <tr>\n",
       "      <th>8</th>\n",
       "      <td>8FA1D3BE</td>\n",
       "      <td>И вновь продолжается бой</td>\n",
       "      <td>NaN</td>\n",
       "      <td>ruspop</td>\n",
       "      <td>Moscow</td>\n",
       "      <td>09:17:40</td>\n",
       "      <td>Friday</td>\n",
       "    </tr>\n",
       "    <tr>\n",
       "      <th>9</th>\n",
       "      <td>E772D5C0</td>\n",
       "      <td>Pessimist</td>\n",
       "      <td>NaN</td>\n",
       "      <td>dance</td>\n",
       "      <td>Saint-Petersburg</td>\n",
       "      <td>21:20:49</td>\n",
       "      <td>Wednesday</td>\n",
       "    </tr>\n",
       "  </tbody>\n",
       "</table>\n",
       "</div>"
      ],
      "text/plain": [
       "     userID                        Track            artist   genre  \\\n",
       "0  FFB692EC            Kamigata To Boots  The Mass Missile    rock   \n",
       "1  55204538  Delayed Because of Accident  Andreas Rönnberg    rock   \n",
       "2    20EC38            Funiculì funiculà       Mario Lanza     pop   \n",
       "3  A3DD03C9        Dragons in the Sunset        Fire + Ice    folk   \n",
       "4  E2DC1FAE                  Soul People        Space Echo   dance   \n",
       "5  842029A1                    Преданная         IMPERVTOR  rusrap   \n",
       "6  4CB90AA5                         True      Roman Messer   dance   \n",
       "7  F03E1C1F             Feeling This Way   Polina Griffith   dance   \n",
       "8  8FA1D3BE     И вновь продолжается бой               NaN  ruspop   \n",
       "9  E772D5C0                    Pessimist               NaN   dance   \n",
       "\n",
       "             City        time        Day  \n",
       "0  Saint-Petersburg  20:28:33  Wednesday  \n",
       "1            Moscow  14:07:09     Friday  \n",
       "2  Saint-Petersburg  20:58:07  Wednesday  \n",
       "3  Saint-Petersburg  08:37:09     Monday  \n",
       "4            Moscow  08:34:34     Monday  \n",
       "5  Saint-Petersburg  13:09:41     Friday  \n",
       "6            Moscow  13:00:07  Wednesday  \n",
       "7            Moscow  20:47:49  Wednesday  \n",
       "8            Moscow  09:17:40     Friday  \n",
       "9  Saint-Petersburg  21:20:49  Wednesday  "
      ]
     },
     "execution_count": 6,
     "metadata": {},
     "output_type": "execute_result"
    }
   ],
   "source": [
    "df.head(10) # получение первых 10 строк таблицы df"
   ]
  },
  {
   "cell_type": "markdown",
   "metadata": {
    "id": "EO73Kwic_Zct"
   },
   "source": [
    "Получим общую информацию о таблице:"
   ]
  },
  {
   "cell_type": "code",
   "execution_count": 7,
   "metadata": {
    "id": "DSf2kIb-_Zct"
   },
   "outputs": [
    {
     "name": "stdout",
     "output_type": "stream",
     "text": [
      "<class 'pandas.core.frame.DataFrame'>\n",
      "RangeIndex: 65079 entries, 0 to 65078\n",
      "Data columns (total 7 columns):\n",
      " #   Column    Non-Null Count  Dtype \n",
      "---  ------    --------------  ----- \n",
      " 0     userID  65079 non-null  object\n",
      " 1   Track     63848 non-null  object\n",
      " 2   artist    57876 non-null  object\n",
      " 3   genre     63881 non-null  object\n",
      " 4     City    65079 non-null  object\n",
      " 5   time      65079 non-null  object\n",
      " 6   Day       65079 non-null  object\n",
      "dtypes: object(7)\n",
      "memory usage: 3.5+ MB\n"
     ]
    }
   ],
   "source": [
    "df.info() # получение общей информации о данных в таблице df"
   ]
  },
  {
   "cell_type": "markdown",
   "metadata": {
    "id": "TaQ2Iwbr_Zct"
   },
   "source": [
    "Итак, в таблице семь столбцов. Тип данных во всех столбцах — `object`.\n",
    "\n",
    "Согласно документации к данным:\n",
    "* `userID` — идентификатор пользователя;\n",
    "* `Track` — название трека;  \n",
    "* `artist` — имя исполнителя;\n",
    "* `genre` — название жанра;\n",
    "* `City` — город пользователя;\n",
    "* `time` — время начала прослушивания;\n",
    "* `Day` — день недели.\n",
    "\n",
    "В названиях колонок видны три нарушения стиля:\n",
    "1. Строчные буквы сочетаются с прописными.\n",
    "2. Встречаются пробелы.\n",
    "3. Не применяется змеиный регистр там, где этого требуют правила стиля.\n",
    "\n",
    "\n",
    "\n",
    "Количество значений в столбцах различается. Значит, в данных есть пропущенные значения.\n"
   ]
  },
  {
   "cell_type": "markdown",
   "metadata": {
    "id": "MCB6-dXG_Zct"
   },
   "source": [
    "**Выводы**\n",
    "\n",
    "В каждой строке таблицы — данные о прослушанном треке. Часть колонок описывает саму композицию: название, исполнителя и жанр. Остальные данные рассказывают о пользователе: из какого он города, когда он слушал музыку. \n",
    "\n",
    "Предварительно можно утверждать, что, данных достаточно для проверки гипотез. Но встречаются пропуски в данных, а в названиях колонок — расхождения с хорошим стилем.\n",
    "\n",
    "Чтобы двигаться дальше, нужно устранить проблемы в данных."
   ]
  },
  {
   "cell_type": "markdown",
   "metadata": {
    "id": "SjYF6Ub9_Zct"
   },
   "source": [
    "## Предобработка данных\n",
    "Исправим стиль в заголовках столбцов, исключим пропуски. Затем проверим данные на дубликаты."
   ]
  },
  {
   "cell_type": "markdown",
   "metadata": {
    "id": "dIaKXr29_Zct"
   },
   "source": [
    "### Стиль заголовков\n",
    "Выведем на экран названия столбцов:"
   ]
  },
  {
   "cell_type": "code",
   "execution_count": 8,
   "metadata": {
    "id": "oKOTdF_Q_Zct"
   },
   "outputs": [
    {
     "data": {
      "text/plain": [
       "Index(['  userID', 'Track', 'artist', 'genre', '  City  ', 'time', 'Day'], dtype='object')"
      ]
     },
     "execution_count": 8,
     "metadata": {},
     "output_type": "execute_result"
    }
   ],
   "source": [
    "df.columns # перечень названий столбцов таблицы df"
   ]
  },
  {
   "cell_type": "markdown",
   "metadata": {
    "id": "zj5534cv_Zct"
   },
   "source": [
    "Приведем названия в соответствие с хорошим стилем:\n",
    "* несколько слов в названии запишем в «змеином_регистре»,\n",
    "* все символы сделаем строчными,\n",
    "* устраним пробелы.\n",
    "\n",
    "Для этого переименуем колонки."
   ]
  },
  {
   "cell_type": "code",
   "execution_count": 9,
   "metadata": {
    "id": "ISlFqs5y_Zct"
   },
   "outputs": [],
   "source": [
    "df = df.rename(columns={'  userID':'user_id', 'Track':'track', '  City  ':'city', 'Day':'day'}) # переименование столбцов"
   ]
  },
  {
   "cell_type": "markdown",
   "metadata": {
    "id": "1dqbh00J_Zct"
   },
   "source": [
    "Проверим результат. Для этого ещё раз выведите на экран названия столбцов:"
   ]
  },
  {
   "cell_type": "code",
   "execution_count": 10,
   "metadata": {
    "id": "d4NOAmTW_Zct",
    "scrolled": true
   },
   "outputs": [
    {
     "data": {
      "text/plain": [
       "Index(['user_id', 'track', 'artist', 'genre', 'city', 'time', 'day'], dtype='object')"
      ]
     },
     "execution_count": 10,
     "metadata": {},
     "output_type": "execute_result"
    }
   ],
   "source": [
    "df.columns # проверка результатов - перечень названий столбцов"
   ]
  },
  {
   "cell_type": "markdown",
   "metadata": {
    "id": "5ISfbcfY_Zct"
   },
   "source": [
    "### Пропуски значений\n",
    "Посчитаем, сколько в таблице пропущенных значений. Для этого достаточно двух методов `pandas`:"
   ]
  },
  {
   "cell_type": "code",
   "execution_count": 11,
   "metadata": {
    "id": "RskX29qr_Zct"
   },
   "outputs": [
    {
     "data": {
      "text/plain": [
       "user_id       0\n",
       "track      1231\n",
       "artist     7203\n",
       "genre      1198\n",
       "city          0\n",
       "time          0\n",
       "day           0\n",
       "dtype: int64"
      ]
     },
     "execution_count": 11,
     "metadata": {},
     "output_type": "execute_result"
    }
   ],
   "source": [
    "df.isna().sum() # подсчёт пропусков"
   ]
  },
  {
   "cell_type": "markdown",
   "metadata": {
    "id": "qubhgnlO_Zct"
   },
   "source": [
    "Не все пропущенные значения влияют на исследование. Так в `track` и `artist` пропуски не важны для вашей работы. Достаточно заменить их явными обозначениями.\n",
    "\n",
    "Но пропуски в `genre` могут помешать сравнению музыкальных вкусов в Москве и Санкт-Петербурге. На практике было бы правильно установить причину пропусков и восстановить данные. Такой возможности нет в учебном проекте. Придётся:\n",
    "* заполнить и эти пропуски явными обозначениями,\n",
    "* оценить, насколько они повредят расчётам. "
   ]
  },
  {
   "cell_type": "markdown",
   "metadata": {
    "id": "fSv2laPA_Zct"
   },
   "source": [
    "Заменим пропущенные значения в столбцах `track`, `artist` и `genre` на строку `'unknown'`. Для этого создадим список `columns_to_replace`, переберем его элементы циклом `for` и для каждого столбца выполним замену пропущенных значений:"
   ]
  },
  {
   "cell_type": "code",
   "execution_count": 12,
   "metadata": {
    "id": "KplB5qWs_Zct"
   },
   "outputs": [],
   "source": [
    "columns_to_replace = ['track', 'artist', 'genre'] # перебор названий столбцов в цикле и замена пропущенных значений на 'unknown'\n",
    "for element in columns_to_replace:\n",
    "    df[element] = df[element].fillna('unknown')"
   ]
  },
  {
   "cell_type": "markdown",
   "metadata": {
    "id": "Ilsm-MZo_Zct"
   },
   "source": [
    "Убедимся, что в таблице не осталось пропусков. Для этого ещё раз посчитаем пропущенные значения."
   ]
  },
  {
   "cell_type": "code",
   "execution_count": 13,
   "metadata": {
    "id": "Tq4nYRX4_Zct",
    "scrolled": true
   },
   "outputs": [
    {
     "data": {
      "text/plain": [
       "user_id    0\n",
       "track      0\n",
       "artist     0\n",
       "genre      0\n",
       "city       0\n",
       "time       0\n",
       "day        0\n",
       "dtype: int64"
      ]
     },
     "execution_count": 13,
     "metadata": {},
     "output_type": "execute_result"
    }
   ],
   "source": [
    "df.isna().sum() # подсчёт пропусков"
   ]
  },
  {
   "cell_type": "markdown",
   "metadata": {
    "id": "BWKRtBJ3_Zct"
   },
   "source": [
    "### Дубликаты\n",
    "Посчитаем явные дубликаты в таблице одной командой:"
   ]
  },
  {
   "cell_type": "code",
   "execution_count": 14,
   "metadata": {
    "id": "36eES_S0_Zct"
   },
   "outputs": [
    {
     "data": {
      "text/plain": [
       "3826"
      ]
     },
     "execution_count": 14,
     "metadata": {},
     "output_type": "execute_result"
    }
   ],
   "source": [
    "df.duplicated().sum() # подсчёт явных дубликатов"
   ]
  },
  {
   "cell_type": "markdown",
   "metadata": {
    "id": "Ot25h6XR_Zct"
   },
   "source": [
    "Вызовем специальный метод `pandas`, чтобы удалить явные дубликаты:"
   ]
  },
  {
   "cell_type": "code",
   "execution_count": 15,
   "metadata": {
    "id": "exFHq6tt_Zct"
   },
   "outputs": [],
   "source": [
    "df = df.drop_duplicates().reset_index(drop=True) # удаление явных дубликатов (с удалением старых индексов и формированием новых)"
   ]
  },
  {
   "cell_type": "markdown",
   "metadata": {
    "id": "Im2YwBEG_Zct"
   },
   "source": [
    "Ещё раз посчитаем явные дубликаты в таблице, чтобы убедиться, что мы полностью от них избавились:"
   ]
  },
  {
   "cell_type": "code",
   "execution_count": 16,
   "metadata": {
    "id": "-8PuNWQ0_Zct"
   },
   "outputs": [
    {
     "data": {
      "text/plain": [
       "0"
      ]
     },
     "execution_count": 16,
     "metadata": {},
     "output_type": "execute_result"
    }
   ],
   "source": [
    "df.duplicated().sum() # проверка на отсутствие дубликатов"
   ]
  },
  {
   "cell_type": "markdown",
   "metadata": {
    "id": "QlFBsxAr_Zct"
   },
   "source": [
    "Теперь избавимся от неявных дубликатов в колонке `genre`. Например, название одного и того же жанра может быть записано немного по-разному. Такие ошибки тоже повлияют на результат исследования."
   ]
  },
  {
   "cell_type": "markdown",
   "metadata": {
    "id": "eSjWwsOh_Zct"
   },
   "source": [
    "Выведем на экран список уникальных названий жанров, отсортированный в алфавитном порядке. Для этого:\n",
    "* извлечем нужный столбец датафрейма, \n",
    "* применим к нему метод сортировки,\n",
    "* для отсортированного столбца вызовем метод, который вернёт уникальные значения из столбца."
   ]
  },
  {
   "cell_type": "code",
   "execution_count": 17,
   "metadata": {
    "id": "JIUcqzZN_Zct",
    "scrolled": false
   },
   "outputs": [
    {
     "data": {
      "text/plain": [
       "array(['acid', 'acoustic', 'action', 'adult', 'africa', 'afrikaans',\n",
       "       'alternative', 'alternativepunk', 'ambient', 'americana',\n",
       "       'animated', 'anime', 'arabesk', 'arabic', 'arena',\n",
       "       'argentinetango', 'art', 'audiobook', 'author', 'avantgarde',\n",
       "       'axé', 'baile', 'balkan', 'beats', 'bigroom', 'black', 'bluegrass',\n",
       "       'blues', 'bollywood', 'bossa', 'brazilian', 'breakbeat', 'breaks',\n",
       "       'broadway', 'cantautori', 'cantopop', 'canzone', 'caribbean',\n",
       "       'caucasian', 'celtic', 'chamber', 'chanson', 'children', 'chill',\n",
       "       'chinese', 'choral', 'christian', 'christmas', 'classical',\n",
       "       'classicmetal', 'club', 'colombian', 'comedy', 'conjazz',\n",
       "       'contemporary', 'country', 'cuban', 'dance', 'dancehall',\n",
       "       'dancepop', 'dark', 'death', 'deep', 'deutschrock', 'deutschspr',\n",
       "       'dirty', 'disco', 'dnb', 'documentary', 'downbeat', 'downtempo',\n",
       "       'drum', 'dub', 'dubstep', 'eastern', 'easy', 'electronic',\n",
       "       'electropop', 'emo', 'entehno', 'epicmetal', 'estrada', 'ethnic',\n",
       "       'eurofolk', 'european', 'experimental', 'extrememetal', 'fado',\n",
       "       'fairytail', 'film', 'fitness', 'flamenco', 'folk', 'folklore',\n",
       "       'folkmetal', 'folkrock', 'folktronica', 'forró', 'frankreich',\n",
       "       'französisch', 'french', 'funk', 'future', 'gangsta', 'garage',\n",
       "       'german', 'ghazal', 'gitarre', 'glitch', 'gospel', 'gothic',\n",
       "       'grime', 'grunge', 'gypsy', 'handsup', \"hard'n'heavy\", 'hardcore',\n",
       "       'hardstyle', 'hardtechno', 'hip', 'hip-hop', 'hiphop',\n",
       "       'historisch', 'holiday', 'hop', 'horror', 'house', 'hymn', 'idm',\n",
       "       'independent', 'indian', 'indie', 'indipop', 'industrial',\n",
       "       'inspirational', 'instrumental', 'international', 'irish', 'jam',\n",
       "       'japanese', 'jazz', 'jewish', 'jpop', 'jungle', 'k-pop',\n",
       "       'karadeniz', 'karaoke', 'kayokyoku', 'korean', 'laiko', 'latin',\n",
       "       'latino', 'leftfield', 'local', 'lounge', 'loungeelectronic',\n",
       "       'lovers', 'malaysian', 'mandopop', 'marschmusik', 'meditative',\n",
       "       'mediterranean', 'melodic', 'metal', 'metalcore', 'mexican',\n",
       "       'middle', 'minimal', 'miscellaneous', 'modern', 'mood', 'mpb',\n",
       "       'muslim', 'native', 'neoklassik', 'neue', 'new', 'newage',\n",
       "       'newwave', 'nu', 'nujazz', 'numetal', 'oceania', 'old', 'opera',\n",
       "       'orchestral', 'other', 'piano', 'podcasts', 'pop', 'popdance',\n",
       "       'popelectronic', 'popeurodance', 'poprussian', 'post',\n",
       "       'posthardcore', 'postrock', 'power', 'progmetal', 'progressive',\n",
       "       'psychedelic', 'punjabi', 'punk', 'quebecois', 'ragga', 'ram',\n",
       "       'rancheras', 'rap', 'rave', 'reggae', 'reggaeton', 'regional',\n",
       "       'relax', 'religious', 'retro', 'rhythm', 'rnb', 'rnr', 'rock',\n",
       "       'rockabilly', 'rockalternative', 'rockindie', 'rockother',\n",
       "       'romance', 'roots', 'ruspop', 'rusrap', 'rusrock', 'russian',\n",
       "       'salsa', 'samba', 'scenic', 'schlager', 'self', 'sertanejo',\n",
       "       'shanson', 'shoegazing', 'showtunes', 'singer', 'ska', 'skarock',\n",
       "       'slow', 'smooth', 'soft', 'soul', 'soulful', 'sound', 'soundtrack',\n",
       "       'southern', 'specialty', 'speech', 'spiritual', 'sport',\n",
       "       'stonerrock', 'surf', 'swing', 'synthpop', 'synthrock',\n",
       "       'sängerportrait', 'tango', 'tanzorchester', 'taraftar', 'tatar',\n",
       "       'tech', 'techno', 'teen', 'thrash', 'top', 'traditional',\n",
       "       'tradjazz', 'trance', 'tribal', 'trip', 'triphop', 'tropical',\n",
       "       'türk', 'türkçe', 'ukrrock', 'unknown', 'urban', 'uzbek',\n",
       "       'variété', 'vi', 'videogame', 'vocal', 'western', 'world',\n",
       "       'worldbeat', 'ïîï', 'электроника'], dtype=object)"
      ]
     },
     "execution_count": 17,
     "metadata": {},
     "output_type": "execute_result"
    }
   ],
   "source": [
    "df['genre'].sort_values().unique() # Просмотр уникальных названий жанров"
   ]
  },
  {
   "cell_type": "markdown",
   "metadata": {
    "id": "qej-Qmuo_Zct"
   },
   "source": [
    "Просмотрим список и поищем неявные дубликаты. Это могут быть названия с ошибками или альтернативные названия того же жанра.\n",
    "\n",
    "Чтобы очистить от них таблицу, напишем функцию `replace_wrong_genres()` с двумя параметрами: \n",
    "* `wrong_genres` — список дубликатов,\n",
    "* `correct_genre` — строка с правильным значением.\n",
    "\n",
    "Функция должна исправить колонку `genre` в таблице `df`: заменить каждое значение из списка `wrong_genres` на значение из `correct_genre`."
   ]
  },
  {
   "cell_type": "code",
   "execution_count": 18,
   "metadata": {
    "id": "ErNDkmns_Zct"
   },
   "outputs": [],
   "source": [
    "def replace_wrong_genres(wrong_genres, correct_genres): # Функция для замены неявных дубликатов\n",
    "    for element in wrong_genres: # перебор списка с неправильными значениями\n",
    "        df['genre'] = df['genre'].replace(element, correct_genres) # замена неправильных значений правильными"
   ]
  },
  {
   "cell_type": "markdown",
   "metadata": {
    "id": "aDoBJxbA_Zct"
   },
   "source": [
    "Вызовем `replace_wrong_genres()` и передадим ей такие аргументы, чтобы она устранила неявные дубликаты: вместо `hip`, `hop` и `hip-hop` в таблице должно быть значение `hiphop`:"
   ]
  },
  {
   "cell_type": "code",
   "execution_count": 19,
   "metadata": {
    "id": "YN5i2hpmSo09"
   },
   "outputs": [],
   "source": [
    "wrong_genres = ['hip', 'hop', 'hip-hop'] # список неправильных значений\n",
    "correct_genres = str('hiphop') # правильное значение\n",
    "replace_wrong_genres(wrong_genres, correct_genres) # вызов функции"
   ]
  },
  {
   "cell_type": "markdown",
   "metadata": {
    "id": "zQKF16_RG15m"
   },
   "source": [
    "Проверим, что заменили неправильные названия:\n",
    "\n",
    "*   hip\n",
    "*   hop\n",
    "*   hip-hop\n",
    "\n",
    "Выведем отсортированный список уникальных значений столбца `genre`:"
   ]
  },
  {
   "cell_type": "code",
   "execution_count": 20,
   "metadata": {
    "id": "wvixALnFG15m",
    "scrolled": false
   },
   "outputs": [
    {
     "data": {
      "text/plain": [
       "array(['acid', 'acoustic', 'action', 'adult', 'africa', 'afrikaans',\n",
       "       'alternative', 'alternativepunk', 'ambient', 'americana',\n",
       "       'animated', 'anime', 'arabesk', 'arabic', 'arena',\n",
       "       'argentinetango', 'art', 'audiobook', 'author', 'avantgarde',\n",
       "       'axé', 'baile', 'balkan', 'beats', 'bigroom', 'black', 'bluegrass',\n",
       "       'blues', 'bollywood', 'bossa', 'brazilian', 'breakbeat', 'breaks',\n",
       "       'broadway', 'cantautori', 'cantopop', 'canzone', 'caribbean',\n",
       "       'caucasian', 'celtic', 'chamber', 'chanson', 'children', 'chill',\n",
       "       'chinese', 'choral', 'christian', 'christmas', 'classical',\n",
       "       'classicmetal', 'club', 'colombian', 'comedy', 'conjazz',\n",
       "       'contemporary', 'country', 'cuban', 'dance', 'dancehall',\n",
       "       'dancepop', 'dark', 'death', 'deep', 'deutschrock', 'deutschspr',\n",
       "       'dirty', 'disco', 'dnb', 'documentary', 'downbeat', 'downtempo',\n",
       "       'drum', 'dub', 'dubstep', 'eastern', 'easy', 'electronic',\n",
       "       'electropop', 'emo', 'entehno', 'epicmetal', 'estrada', 'ethnic',\n",
       "       'eurofolk', 'european', 'experimental', 'extrememetal', 'fado',\n",
       "       'fairytail', 'film', 'fitness', 'flamenco', 'folk', 'folklore',\n",
       "       'folkmetal', 'folkrock', 'folktronica', 'forró', 'frankreich',\n",
       "       'französisch', 'french', 'funk', 'future', 'gangsta', 'garage',\n",
       "       'german', 'ghazal', 'gitarre', 'glitch', 'gospel', 'gothic',\n",
       "       'grime', 'grunge', 'gypsy', 'handsup', \"hard'n'heavy\", 'hardcore',\n",
       "       'hardstyle', 'hardtechno', 'hiphop', 'historisch', 'holiday',\n",
       "       'horror', 'house', 'hymn', 'idm', 'independent', 'indian', 'indie',\n",
       "       'indipop', 'industrial', 'inspirational', 'instrumental',\n",
       "       'international', 'irish', 'jam', 'japanese', 'jazz', 'jewish',\n",
       "       'jpop', 'jungle', 'k-pop', 'karadeniz', 'karaoke', 'kayokyoku',\n",
       "       'korean', 'laiko', 'latin', 'latino', 'leftfield', 'local',\n",
       "       'lounge', 'loungeelectronic', 'lovers', 'malaysian', 'mandopop',\n",
       "       'marschmusik', 'meditative', 'mediterranean', 'melodic', 'metal',\n",
       "       'metalcore', 'mexican', 'middle', 'minimal', 'miscellaneous',\n",
       "       'modern', 'mood', 'mpb', 'muslim', 'native', 'neoklassik', 'neue',\n",
       "       'new', 'newage', 'newwave', 'nu', 'nujazz', 'numetal', 'oceania',\n",
       "       'old', 'opera', 'orchestral', 'other', 'piano', 'podcasts', 'pop',\n",
       "       'popdance', 'popelectronic', 'popeurodance', 'poprussian', 'post',\n",
       "       'posthardcore', 'postrock', 'power', 'progmetal', 'progressive',\n",
       "       'psychedelic', 'punjabi', 'punk', 'quebecois', 'ragga', 'ram',\n",
       "       'rancheras', 'rap', 'rave', 'reggae', 'reggaeton', 'regional',\n",
       "       'relax', 'religious', 'retro', 'rhythm', 'rnb', 'rnr', 'rock',\n",
       "       'rockabilly', 'rockalternative', 'rockindie', 'rockother',\n",
       "       'romance', 'roots', 'ruspop', 'rusrap', 'rusrock', 'russian',\n",
       "       'salsa', 'samba', 'scenic', 'schlager', 'self', 'sertanejo',\n",
       "       'shanson', 'shoegazing', 'showtunes', 'singer', 'ska', 'skarock',\n",
       "       'slow', 'smooth', 'soft', 'soul', 'soulful', 'sound', 'soundtrack',\n",
       "       'southern', 'specialty', 'speech', 'spiritual', 'sport',\n",
       "       'stonerrock', 'surf', 'swing', 'synthpop', 'synthrock',\n",
       "       'sängerportrait', 'tango', 'tanzorchester', 'taraftar', 'tatar',\n",
       "       'tech', 'techno', 'teen', 'thrash', 'top', 'traditional',\n",
       "       'tradjazz', 'trance', 'tribal', 'trip', 'triphop', 'tropical',\n",
       "       'türk', 'türkçe', 'ukrrock', 'unknown', 'urban', 'uzbek',\n",
       "       'variété', 'vi', 'videogame', 'vocal', 'western', 'world',\n",
       "       'worldbeat', 'ïîï', 'электроника'], dtype=object)"
      ]
     },
     "execution_count": 20,
     "metadata": {},
     "output_type": "execute_result"
    }
   ],
   "source": [
    "df['genre'].sort_values().unique() # Проверка на неявные дубликаты"
   ]
  },
  {
   "cell_type": "markdown",
   "metadata": {
    "id": "jz6a9-7HQUDd"
   },
   "source": [
    "**Выводы**\n",
    "\n",
    "Предобработка обнаружила три проблемы в данных:\n",
    "\n",
    "- нарушения в стиле заголовков,\n",
    "- пропущенные значения,\n",
    "- дубликаты — явные и неявные.\n",
    "\n",
    "Мы исправили заголовки, чтобы упростить работу с таблицей. Без дубликатов исследование станет более точным.\n",
    "\n",
    "Пропущенные значения мы заменили на `'unknown'`. Ещё предстоит увидеть, не повредят ли исследованию пропуски в колонке `genre`.\n",
    "\n",
    "Теперь можно перейти к проверке гипотез. "
   ]
  },
  {
   "cell_type": "markdown",
   "metadata": {
    "id": "WttZHXH0SqKk"
   },
   "source": [
    "## Проверка гипотез"
   ]
  },
  {
   "cell_type": "markdown",
   "metadata": {
    "id": "Im936VVi_Zcu"
   },
   "source": [
    "### Сравнение поведения пользователей двух столиц"
   ]
  },
  {
   "cell_type": "markdown",
   "metadata": {
    "id": "nwt_MuaL_Zcu"
   },
   "source": [
    "Первая гипотеза утверждает, что пользователи по-разному слушают музыку в Москве и Санкт-Петербурге. Проверим это предположение по данным о трёх днях недели — понедельнике, среде и пятнице. Для этого:\n",
    "\n",
    "* Разделим пользователей Москвы и Санкт-Петербурга\n",
    "* Сравним, сколько треков послушала каждая группа пользователей в понедельник, среду и пятницу.\n"
   ]
  },
  {
   "cell_type": "markdown",
   "metadata": {
    "id": "8Dw_YMmT_Zcu"
   },
   "source": [
    "Выполним каждый из расчётов по отдельности. \n",
    "\n",
    "Оценим активность пользователей в каждом городе. Сгруппируем данные по городу и посчитаем прослушивания в каждой группе.\n",
    "\n"
   ]
  },
  {
   "cell_type": "code",
   "execution_count": 21,
   "metadata": {
    "id": "0_Qs96oh_Zcu"
   },
   "outputs": [
    {
     "data": {
      "text/plain": [
       "city\n",
       "Moscow              42741\n",
       "Saint-Petersburg    18512\n",
       "Name: genre, dtype: int64"
      ]
     },
     "execution_count": 21,
     "metadata": {},
     "output_type": "execute_result"
    }
   ],
   "source": [
    "df.groupby('city')['genre'].count() # Подсчёт прослушиваний в каждом городе"
   ]
  },
  {
   "cell_type": "markdown",
   "metadata": {
    "id": "dzli3w8o_Zcu"
   },
   "source": [
    "В Москве прослушиваний больше, чем в Петербурге. Из этого не следует, что московские пользователи чаще слушают музыку. Просто самих пользователей в Москве больше.\n",
    "\n",
    "Теперь сгруппируем данные по дню недели и подсчитаем прослушивания в понедельник, среду и пятницу. Учтем, что в данных есть информация о прослушиваниях только за эти дни.\n"
   ]
  },
  {
   "cell_type": "code",
   "execution_count": 22,
   "metadata": {
    "id": "uZMKjiJz_Zcu",
    "scrolled": true
   },
   "outputs": [
    {
     "data": {
      "text/plain": [
       "day\n",
       "Friday       21840\n",
       "Monday       21354\n",
       "Wednesday    18059\n",
       "Name: genre, dtype: int64"
      ]
     },
     "execution_count": 22,
     "metadata": {},
     "output_type": "execute_result"
    }
   ],
   "source": [
    "df.groupby('day')['genre'].count() # Подсчёт прослушиваний в каждый из трёх дней"
   ]
  },
  {
   "cell_type": "markdown",
   "metadata": {
    "id": "cC2tNrlL_Zcu"
   },
   "source": [
    "В среднем пользователи из двух городов менее активны по средам. Но картина может измениться, если рассмотреть каждый город в отдельности."
   ]
  },
  {
   "cell_type": "markdown",
   "metadata": {
    "id": "POzs8bGa_Zcu"
   },
   "source": [
    "Мы видели, как работает группировка по городу и по дням недели. Теперь напишем функцию, которая объединит два эти расчёта.\n",
    "\n",
    "Создадим функцию `number_tracks()`, которая посчитает прослушивания для заданного дня и города. Ей понадобятся два параметра:\n",
    "* день недели,\n",
    "* название города.\n",
    "\n",
    "В функции сохраним в переменную строки исходной таблицы, у которых значение:\n",
    "  * в колонке `day` равно параметру `day`,\n",
    "  * в колонке `city` равно параметру `city`.\n",
    "\n",
    "Для этого применим последовательную фильтрацию с логической индексацией.\n",
    "\n",
    "Затем посчитаем значения в столбце `user_id` получившейся таблицы. Результат сохраним в новую переменную. Вернем эту переменную из функции."
   ]
  },
  {
   "cell_type": "code",
   "execution_count": 23,
   "metadata": {
    "id": "Nz3GdQB1_Zcu"
   },
   "outputs": [],
   "source": [
    "# <создание функции number_tracks()>\n",
    "# Объявляется функция с двумя параметрами: day, city.\n",
    "# В переменной track_list сохраняются те строки таблицы df, для которых\n",
    "# значение в столбце 'day' равно параметру day и одновременно значение\n",
    "# в столбце 'city' равно параметру city (используйте последовательную фильтрацию\n",
    "# с помощью логической индексации).\n",
    "# В переменной track_list_count сохраняется число значений столбца 'user_id',\n",
    "# рассчитанное методом count() для таблицы track_list.\n",
    "\n",
    "def number_tracks(day,city): \n",
    "    track_list = df[(df['day'] == day) & (df['city'] == city)]\n",
    "    track_list_count = track_list['user_id'].count() \n",
    "    return track_list_count\n",
    "\n",
    "\n",
    "# Функция возвращает число - значение track_list_count.\n",
    "\n",
    "# Функция для подсчёта прослушиваний для конкретного города и дня.\n",
    "# С помощью последовательной фильтрации с логической индексацией она \n",
    "# сначала получит из исходной таблицы строки с нужным днём,\n",
    "# затем из результата отфильтрует строки с нужным городом,\n",
    "# методом count() посчитает количество значений в колонке user_id. \n",
    "# Это количество функция вернёт в качестве результата"
   ]
  },
  {
   "cell_type": "markdown",
   "metadata": {
    "id": "ytf7xFrFJQ2r"
   },
   "source": [
    "Вызываем `number_tracks()` шесть раз, меняя значение параметров — так, чтобы получить данные для каждого города в каждый из трёх дней."
   ]
  },
  {
   "cell_type": "code",
   "execution_count": 24,
   "metadata": {
    "id": "rJcRATNQ_Zcu"
   },
   "outputs": [
    {
     "data": {
      "text/plain": [
       "15740"
      ]
     },
     "execution_count": 24,
     "metadata": {},
     "output_type": "execute_result"
    }
   ],
   "source": [
    "number_tracks('Monday','Moscow')"
   ]
  },
  {
   "cell_type": "code",
   "execution_count": 25,
   "metadata": {
    "id": "hq_ncZ5T_Zcu"
   },
   "outputs": [
    {
     "data": {
      "text/plain": [
       "5614"
      ]
     },
     "execution_count": 25,
     "metadata": {},
     "output_type": "execute_result"
    }
   ],
   "source": [
    "number_tracks('Monday','Saint-Petersburg') # количество прослушиваний в Санкт-Петербурге по понедельникам"
   ]
  },
  {
   "cell_type": "code",
   "execution_count": 26,
   "metadata": {
    "id": "_NTy2VPU_Zcu"
   },
   "outputs": [
    {
     "data": {
      "text/plain": [
       "11056"
      ]
     },
     "execution_count": 26,
     "metadata": {},
     "output_type": "execute_result"
    }
   ],
   "source": [
    "number_tracks('Wednesday','Moscow') # количество прослушиваний в Москве по средам"
   ]
  },
  {
   "cell_type": "code",
   "execution_count": 27,
   "metadata": {
    "id": "j2y3TAwo_Zcu"
   },
   "outputs": [
    {
     "data": {
      "text/plain": [
       "7003"
      ]
     },
     "execution_count": 27,
     "metadata": {},
     "output_type": "execute_result"
    }
   ],
   "source": [
    "number_tracks('Wednesday','Saint-Petersburg') # количество прослушиваний в Санкт-Петербурге по средам"
   ]
  },
  {
   "cell_type": "code",
   "execution_count": 28,
   "metadata": {
    "id": "vYDw5u_K_Zcu"
   },
   "outputs": [
    {
     "data": {
      "text/plain": [
       "15945"
      ]
     },
     "execution_count": 28,
     "metadata": {},
     "output_type": "execute_result"
    }
   ],
   "source": [
    "number_tracks('Friday','Moscow') # количество прослушиваний в Москве по пятницам"
   ]
  },
  {
   "cell_type": "code",
   "execution_count": 29,
   "metadata": {
    "id": "8_yzFtW3_Zcu"
   },
   "outputs": [
    {
     "data": {
      "text/plain": [
       "5895"
      ]
     },
     "execution_count": 29,
     "metadata": {},
     "output_type": "execute_result"
    }
   ],
   "source": [
    "number_tracks('Friday','Saint-Petersburg') # количество прослушиваний в Санкт-Петербурге по пятницам"
   ]
  },
  {
   "cell_type": "markdown",
   "metadata": {
    "id": "7QXffbO-_Zcu"
   },
   "source": [
    "Создаем c помощью конструктора `pd.DataFrame` таблицу, где\n",
    "* названия колонок — `['city', 'monday', 'wednesday', 'friday']`;\n",
    "* данные — результаты, которые вы получили с помощью `number_tracks`."
   ]
  },
  {
   "cell_type": "code",
   "execution_count": 30,
   "metadata": {
    "id": "APAcLpOr_Zcu",
    "scrolled": true
   },
   "outputs": [
    {
     "data": {
      "text/html": [
       "<div>\n",
       "<style scoped>\n",
       "    .dataframe tbody tr th:only-of-type {\n",
       "        vertical-align: middle;\n",
       "    }\n",
       "\n",
       "    .dataframe tbody tr th {\n",
       "        vertical-align: top;\n",
       "    }\n",
       "\n",
       "    .dataframe thead th {\n",
       "        text-align: right;\n",
       "    }\n",
       "</style>\n",
       "<table border=\"1\" class=\"dataframe\">\n",
       "  <thead>\n",
       "    <tr style=\"text-align: right;\">\n",
       "      <th></th>\n",
       "      <th>city</th>\n",
       "      <th>monday</th>\n",
       "      <th>wednesday</th>\n",
       "      <th>friday</th>\n",
       "    </tr>\n",
       "  </thead>\n",
       "  <tbody>\n",
       "    <tr>\n",
       "      <th>0</th>\n",
       "      <td>Moscow</td>\n",
       "      <td>15740</td>\n",
       "      <td>11056</td>\n",
       "      <td>15945</td>\n",
       "    </tr>\n",
       "    <tr>\n",
       "      <th>1</th>\n",
       "      <td>Saint_Petersbourg</td>\n",
       "      <td>5614</td>\n",
       "      <td>7003</td>\n",
       "      <td>5895</td>\n",
       "    </tr>\n",
       "  </tbody>\n",
       "</table>\n",
       "</div>"
      ],
      "text/plain": [
       "                city  monday  wednesday  friday\n",
       "0             Moscow   15740      11056   15945\n",
       "1  Saint_Petersbourg    5614       7003    5895"
      ]
     },
     "execution_count": 30,
     "metadata": {},
     "output_type": "execute_result"
    }
   ],
   "source": [
    "data_hyp_1 = [\n",
    "    ['Moscow', 15740, 11056, 15945],\n",
    "    ['Saint_Petersbourg', 5614, 7003, 5895],\n",
    "]\n",
    "    \n",
    "columns_hyp_1 = ['city', 'monday', 'wednesday', 'friday']\n",
    "\n",
    "hyp_1 = pd.DataFrame(data=data_hyp_1, columns=columns_hyp_1)\n",
    "hyp_1 # Таблица с результатами"
   ]
  },
  {
   "cell_type": "markdown",
   "metadata": {
    "id": "-EgPIHYu_Zcu"
   },
   "source": [
    "**Выводы**\n",
    "\n",
    "Данные показывают разницу поведения пользователей:\n",
    "\n",
    "- В Москве пик прослушиваний приходится на понедельник и пятницу, а в среду заметен спад.\n",
    "- В Петербурге, наоборот, больше слушают музыку по средам. Активность в понедельник и пятницу здесь почти в равной мере уступает среде.\n",
    "\n",
    "Значит, данные говорят в пользу первой гипотезы."
   ]
  },
  {
   "cell_type": "markdown",
   "metadata": {
    "id": "atZAxtq4_Zcu"
   },
   "source": [
    "### Музыка в начале и в конце недели"
   ]
  },
  {
   "cell_type": "markdown",
   "metadata": {
    "id": "eXrQqXFH_Zcu"
   },
   "source": [
    "Согласно второй гипотезе, утром в понедельник в Москве преобладают одни жанры, а в Петербурге — другие. Так же и вечером пятницы преобладают разные жанры — в зависимости от города."
   ]
  },
  {
   "cell_type": "markdown",
   "metadata": {
    "id": "S8UcW6Hw_Zcu"
   },
   "source": [
    "Сохраняем таблицы с данными в две переменные:\n",
    "* по Москве — в `moscow_general`;\n",
    "* по Санкт-Петербургу — в `spb_general`."
   ]
  },
  {
   "cell_type": "code",
   "execution_count": 31,
   "metadata": {
    "id": "qeaFfM_P_Zcu"
   },
   "outputs": [
    {
     "data": {
      "text/html": [
       "<div>\n",
       "<style scoped>\n",
       "    .dataframe tbody tr th:only-of-type {\n",
       "        vertical-align: middle;\n",
       "    }\n",
       "\n",
       "    .dataframe tbody tr th {\n",
       "        vertical-align: top;\n",
       "    }\n",
       "\n",
       "    .dataframe thead th {\n",
       "        text-align: right;\n",
       "    }\n",
       "</style>\n",
       "<table border=\"1\" class=\"dataframe\">\n",
       "  <thead>\n",
       "    <tr style=\"text-align: right;\">\n",
       "      <th></th>\n",
       "      <th>user_id</th>\n",
       "      <th>track</th>\n",
       "      <th>artist</th>\n",
       "      <th>genre</th>\n",
       "      <th>city</th>\n",
       "      <th>time</th>\n",
       "      <th>day</th>\n",
       "    </tr>\n",
       "  </thead>\n",
       "  <tbody>\n",
       "    <tr>\n",
       "      <th>1</th>\n",
       "      <td>55204538</td>\n",
       "      <td>Delayed Because of Accident</td>\n",
       "      <td>Andreas Rönnberg</td>\n",
       "      <td>rock</td>\n",
       "      <td>Moscow</td>\n",
       "      <td>14:07:09</td>\n",
       "      <td>Friday</td>\n",
       "    </tr>\n",
       "    <tr>\n",
       "      <th>4</th>\n",
       "      <td>E2DC1FAE</td>\n",
       "      <td>Soul People</td>\n",
       "      <td>Space Echo</td>\n",
       "      <td>dance</td>\n",
       "      <td>Moscow</td>\n",
       "      <td>08:34:34</td>\n",
       "      <td>Monday</td>\n",
       "    </tr>\n",
       "    <tr>\n",
       "      <th>6</th>\n",
       "      <td>4CB90AA5</td>\n",
       "      <td>True</td>\n",
       "      <td>Roman Messer</td>\n",
       "      <td>dance</td>\n",
       "      <td>Moscow</td>\n",
       "      <td>13:00:07</td>\n",
       "      <td>Wednesday</td>\n",
       "    </tr>\n",
       "    <tr>\n",
       "      <th>7</th>\n",
       "      <td>F03E1C1F</td>\n",
       "      <td>Feeling This Way</td>\n",
       "      <td>Polina Griffith</td>\n",
       "      <td>dance</td>\n",
       "      <td>Moscow</td>\n",
       "      <td>20:47:49</td>\n",
       "      <td>Wednesday</td>\n",
       "    </tr>\n",
       "    <tr>\n",
       "      <th>8</th>\n",
       "      <td>8FA1D3BE</td>\n",
       "      <td>И вновь продолжается бой</td>\n",
       "      <td>unknown</td>\n",
       "      <td>ruspop</td>\n",
       "      <td>Moscow</td>\n",
       "      <td>09:17:40</td>\n",
       "      <td>Friday</td>\n",
       "    </tr>\n",
       "    <tr>\n",
       "      <th>...</th>\n",
       "      <td>...</td>\n",
       "      <td>...</td>\n",
       "      <td>...</td>\n",
       "      <td>...</td>\n",
       "      <td>...</td>\n",
       "      <td>...</td>\n",
       "      <td>...</td>\n",
       "    </tr>\n",
       "    <tr>\n",
       "      <th>61247</th>\n",
       "      <td>83A474E7</td>\n",
       "      <td>I Worship Only What You Bleed</td>\n",
       "      <td>The Black Dahlia Murder</td>\n",
       "      <td>extrememetal</td>\n",
       "      <td>Moscow</td>\n",
       "      <td>21:07:12</td>\n",
       "      <td>Monday</td>\n",
       "    </tr>\n",
       "    <tr>\n",
       "      <th>61248</th>\n",
       "      <td>729CBB09</td>\n",
       "      <td>My Name</td>\n",
       "      <td>McLean</td>\n",
       "      <td>rnb</td>\n",
       "      <td>Moscow</td>\n",
       "      <td>13:32:28</td>\n",
       "      <td>Wednesday</td>\n",
       "    </tr>\n",
       "    <tr>\n",
       "      <th>61250</th>\n",
       "      <td>C5E3A0D5</td>\n",
       "      <td>Jalopiina</td>\n",
       "      <td>unknown</td>\n",
       "      <td>industrial</td>\n",
       "      <td>Moscow</td>\n",
       "      <td>20:09:26</td>\n",
       "      <td>Friday</td>\n",
       "    </tr>\n",
       "    <tr>\n",
       "      <th>61251</th>\n",
       "      <td>321D0506</td>\n",
       "      <td>Freight Train</td>\n",
       "      <td>Chas McDevitt</td>\n",
       "      <td>rock</td>\n",
       "      <td>Moscow</td>\n",
       "      <td>21:43:59</td>\n",
       "      <td>Friday</td>\n",
       "    </tr>\n",
       "    <tr>\n",
       "      <th>61252</th>\n",
       "      <td>3A64EF84</td>\n",
       "      <td>Tell Me Sweet Little Lies</td>\n",
       "      <td>Monica Lopez</td>\n",
       "      <td>country</td>\n",
       "      <td>Moscow</td>\n",
       "      <td>21:59:46</td>\n",
       "      <td>Friday</td>\n",
       "    </tr>\n",
       "  </tbody>\n",
       "</table>\n",
       "<p>42741 rows × 7 columns</p>\n",
       "</div>"
      ],
      "text/plain": [
       "        user_id                          track                   artist  \\\n",
       "1      55204538    Delayed Because of Accident         Andreas Rönnberg   \n",
       "4      E2DC1FAE                    Soul People               Space Echo   \n",
       "6      4CB90AA5                           True             Roman Messer   \n",
       "7      F03E1C1F               Feeling This Way          Polina Griffith   \n",
       "8      8FA1D3BE       И вновь продолжается бой                  unknown   \n",
       "...         ...                            ...                      ...   \n",
       "61247  83A474E7  I Worship Only What You Bleed  The Black Dahlia Murder   \n",
       "61248  729CBB09                        My Name                   McLean   \n",
       "61250  C5E3A0D5                      Jalopiina                  unknown   \n",
       "61251  321D0506                  Freight Train            Chas McDevitt   \n",
       "61252  3A64EF84      Tell Me Sweet Little Lies             Monica Lopez   \n",
       "\n",
       "              genre    city      time        day  \n",
       "1              rock  Moscow  14:07:09     Friday  \n",
       "4             dance  Moscow  08:34:34     Monday  \n",
       "6             dance  Moscow  13:00:07  Wednesday  \n",
       "7             dance  Moscow  20:47:49  Wednesday  \n",
       "8            ruspop  Moscow  09:17:40     Friday  \n",
       "...             ...     ...       ...        ...  \n",
       "61247  extrememetal  Moscow  21:07:12     Monday  \n",
       "61248           rnb  Moscow  13:32:28  Wednesday  \n",
       "61250    industrial  Moscow  20:09:26     Friday  \n",
       "61251          rock  Moscow  21:43:59     Friday  \n",
       "61252       country  Moscow  21:59:46     Friday  \n",
       "\n",
       "[42741 rows x 7 columns]"
      ]
     },
     "execution_count": 31,
     "metadata": {},
     "output_type": "execute_result"
    }
   ],
   "source": [
    "# получение таблицы moscow_general из тех строк таблицы df, \n",
    "# для которых значение в столбце 'city' равно 'Moscow'\n",
    "\n",
    "moscow_general = df[df['city'] == 'Moscow']\n",
    "moscow_general"
   ]
  },
  {
   "cell_type": "code",
   "execution_count": 32,
   "metadata": {
    "id": "ORaVRKto_Zcu",
    "scrolled": true
   },
   "outputs": [
    {
     "data": {
      "text/html": [
       "<div>\n",
       "<style scoped>\n",
       "    .dataframe tbody tr th:only-of-type {\n",
       "        vertical-align: middle;\n",
       "    }\n",
       "\n",
       "    .dataframe tbody tr th {\n",
       "        vertical-align: top;\n",
       "    }\n",
       "\n",
       "    .dataframe thead th {\n",
       "        text-align: right;\n",
       "    }\n",
       "</style>\n",
       "<table border=\"1\" class=\"dataframe\">\n",
       "  <thead>\n",
       "    <tr style=\"text-align: right;\">\n",
       "      <th></th>\n",
       "      <th>user_id</th>\n",
       "      <th>track</th>\n",
       "      <th>artist</th>\n",
       "      <th>genre</th>\n",
       "      <th>city</th>\n",
       "      <th>time</th>\n",
       "      <th>day</th>\n",
       "    </tr>\n",
       "  </thead>\n",
       "  <tbody>\n",
       "    <tr>\n",
       "      <th>0</th>\n",
       "      <td>FFB692EC</td>\n",
       "      <td>Kamigata To Boots</td>\n",
       "      <td>The Mass Missile</td>\n",
       "      <td>rock</td>\n",
       "      <td>Saint-Petersburg</td>\n",
       "      <td>20:28:33</td>\n",
       "      <td>Wednesday</td>\n",
       "    </tr>\n",
       "    <tr>\n",
       "      <th>2</th>\n",
       "      <td>20EC38</td>\n",
       "      <td>Funiculì funiculà</td>\n",
       "      <td>Mario Lanza</td>\n",
       "      <td>pop</td>\n",
       "      <td>Saint-Petersburg</td>\n",
       "      <td>20:58:07</td>\n",
       "      <td>Wednesday</td>\n",
       "    </tr>\n",
       "    <tr>\n",
       "      <th>3</th>\n",
       "      <td>A3DD03C9</td>\n",
       "      <td>Dragons in the Sunset</td>\n",
       "      <td>Fire + Ice</td>\n",
       "      <td>folk</td>\n",
       "      <td>Saint-Petersburg</td>\n",
       "      <td>08:37:09</td>\n",
       "      <td>Monday</td>\n",
       "    </tr>\n",
       "    <tr>\n",
       "      <th>5</th>\n",
       "      <td>842029A1</td>\n",
       "      <td>Преданная</td>\n",
       "      <td>IMPERVTOR</td>\n",
       "      <td>rusrap</td>\n",
       "      <td>Saint-Petersburg</td>\n",
       "      <td>13:09:41</td>\n",
       "      <td>Friday</td>\n",
       "    </tr>\n",
       "    <tr>\n",
       "      <th>9</th>\n",
       "      <td>E772D5C0</td>\n",
       "      <td>Pessimist</td>\n",
       "      <td>unknown</td>\n",
       "      <td>dance</td>\n",
       "      <td>Saint-Petersburg</td>\n",
       "      <td>21:20:49</td>\n",
       "      <td>Wednesday</td>\n",
       "    </tr>\n",
       "    <tr>\n",
       "      <th>...</th>\n",
       "      <td>...</td>\n",
       "      <td>...</td>\n",
       "      <td>...</td>\n",
       "      <td>...</td>\n",
       "      <td>...</td>\n",
       "      <td>...</td>\n",
       "      <td>...</td>\n",
       "    </tr>\n",
       "    <tr>\n",
       "      <th>61239</th>\n",
       "      <td>D94F810B</td>\n",
       "      <td>Theme from the Walking Dead</td>\n",
       "      <td>Proyecto Halloween</td>\n",
       "      <td>film</td>\n",
       "      <td>Saint-Petersburg</td>\n",
       "      <td>21:14:40</td>\n",
       "      <td>Monday</td>\n",
       "    </tr>\n",
       "    <tr>\n",
       "      <th>61240</th>\n",
       "      <td>BC8EC5CF</td>\n",
       "      <td>Red Lips: Gta (Rover Rework)</td>\n",
       "      <td>Rover</td>\n",
       "      <td>electronic</td>\n",
       "      <td>Saint-Petersburg</td>\n",
       "      <td>21:06:50</td>\n",
       "      <td>Monday</td>\n",
       "    </tr>\n",
       "    <tr>\n",
       "      <th>61241</th>\n",
       "      <td>29E04611</td>\n",
       "      <td>Bre Petrunko</td>\n",
       "      <td>Perunika Trio</td>\n",
       "      <td>world</td>\n",
       "      <td>Saint-Petersburg</td>\n",
       "      <td>13:56:00</td>\n",
       "      <td>Monday</td>\n",
       "    </tr>\n",
       "    <tr>\n",
       "      <th>61242</th>\n",
       "      <td>1B91C621</td>\n",
       "      <td>(Hello) Cloud Mountain</td>\n",
       "      <td>sleepmakeswaves</td>\n",
       "      <td>postrock</td>\n",
       "      <td>Saint-Petersburg</td>\n",
       "      <td>09:22:13</td>\n",
       "      <td>Monday</td>\n",
       "    </tr>\n",
       "    <tr>\n",
       "      <th>61249</th>\n",
       "      <td>D08D4A55</td>\n",
       "      <td>Maybe One Day (feat. Black Spade)</td>\n",
       "      <td>Blu &amp; Exile</td>\n",
       "      <td>hiphop</td>\n",
       "      <td>Saint-Petersburg</td>\n",
       "      <td>10:00:00</td>\n",
       "      <td>Monday</td>\n",
       "    </tr>\n",
       "  </tbody>\n",
       "</table>\n",
       "<p>18512 rows × 7 columns</p>\n",
       "</div>"
      ],
      "text/plain": [
       "        user_id                              track              artist  \\\n",
       "0      FFB692EC                  Kamigata To Boots    The Mass Missile   \n",
       "2        20EC38                  Funiculì funiculà         Mario Lanza   \n",
       "3      A3DD03C9              Dragons in the Sunset          Fire + Ice   \n",
       "5      842029A1                          Преданная           IMPERVTOR   \n",
       "9      E772D5C0                          Pessimist             unknown   \n",
       "...         ...                                ...                 ...   \n",
       "61239  D94F810B        Theme from the Walking Dead  Proyecto Halloween   \n",
       "61240  BC8EC5CF       Red Lips: Gta (Rover Rework)               Rover   \n",
       "61241  29E04611                       Bre Petrunko       Perunika Trio   \n",
       "61242  1B91C621             (Hello) Cloud Mountain     sleepmakeswaves   \n",
       "61249  D08D4A55  Maybe One Day (feat. Black Spade)         Blu & Exile   \n",
       "\n",
       "            genre              city      time        day  \n",
       "0            rock  Saint-Petersburg  20:28:33  Wednesday  \n",
       "2             pop  Saint-Petersburg  20:58:07  Wednesday  \n",
       "3            folk  Saint-Petersburg  08:37:09     Monday  \n",
       "5          rusrap  Saint-Petersburg  13:09:41     Friday  \n",
       "9           dance  Saint-Petersburg  21:20:49  Wednesday  \n",
       "...           ...               ...       ...        ...  \n",
       "61239        film  Saint-Petersburg  21:14:40     Monday  \n",
       "61240  electronic  Saint-Petersburg  21:06:50     Monday  \n",
       "61241       world  Saint-Petersburg  13:56:00     Monday  \n",
       "61242    postrock  Saint-Petersburg  09:22:13     Monday  \n",
       "61249      hiphop  Saint-Petersburg  10:00:00     Monday  \n",
       "\n",
       "[18512 rows x 7 columns]"
      ]
     },
     "execution_count": 32,
     "metadata": {},
     "output_type": "execute_result"
    }
   ],
   "source": [
    "# получение таблицы spb_general из тех строк таблицы df,\n",
    "# для которых значение в столбце 'city' равно 'Saint-Petersburg'\n",
    "\n",
    "spb_general = df[df['city'] == 'Saint-Petersburg']\n",
    "spb_general"
   ]
  },
  {
   "cell_type": "markdown",
   "metadata": {
    "id": "MEJV-CX2_Zcu"
   },
   "source": [
    "Создаем функцию `genre_weekday()` с четырьмя параметрами:\n",
    "* таблица (датафрейм) с данными,\n",
    "* день недели,\n",
    "* начальная временная метка в формате 'hh:mm', \n",
    "* последняя временная метка в формате 'hh:mm'.\n",
    "\n",
    "Функция должна вернуть информацию о топ-10 жанров тех треков, которые прослушивали в указанный день, в промежутке между двумя отметками времени."
   ]
  },
  {
   "cell_type": "code",
   "execution_count": 33,
   "metadata": {
    "id": "laJT9BYl_Zcu"
   },
   "outputs": [],
   "source": [
    "# Объявление функции genre_weekday() с параметрами table, day, time1, time2,\n",
    "# которая возвращает информацию о самых популярных жанрах в указанный день в заданное время:\n",
    "\n",
    "def genre_weekday(table, day, time1, time2):\n",
    "    genre_df = table[(table['day'] == day) & (table['time'] > time1) & (table['time'] < time2)]\n",
    "    genre_df_count = genre_df.groupby('genre')['user_id'].count().reset_index()\n",
    "    genre_df_sorted = genre_df_count.sort_values(by='user_id', ascending=False)\n",
    "    return genre_df_sorted.head(10)\n",
    "\n",
    "# 1) в переменную genre_df сохраняются те строки переданного датафрейма table, для\n",
    "#    которых одновременно:\n",
    "#    - значение в столбце day равно значению аргумента day\n",
    "#    - значение в столбце time больше значения аргумента time1\n",
    "#    - значение в столбце time меньше значения аргумента time2\n",
    "#    Используйте последовательную фильтрацию с помощью логической индексации.\n",
    "# 2) сгруппировать датафрейм genre_df по столбцу genre, взять один из его\n",
    "#    столбцов и посчитать методом count() количество записей для каждого из\n",
    "#    присутствующих жанров, получившийся Series записать в переменную\n",
    "#    genre_df_count\n",
    "# 3) отсортировать genre_df_count по убыванию встречаемости и сохранить\n",
    "#    в переменную genre_df_sorted\n",
    "# 4) вернуть Series из 10 первых значений genre_df_sorted, это будут топ-10\n",
    "#    популярных жанров (в указанный день, в заданное время)"
   ]
  },
  {
   "cell_type": "markdown",
   "metadata": {
    "id": "la2s2_PF_Zcu"
   },
   "source": [
    "Cравниваем результаты функции `genre_weekday()` для Москвы и Санкт-Петербурга в понедельник утром (с 7:00 до 11:00) и в пятницу вечером (с 17:00 до 23:00):"
   ]
  },
  {
   "cell_type": "code",
   "execution_count": 34,
   "metadata": {
    "id": "yz7itPUQ_Zcu"
   },
   "outputs": [
    {
     "data": {
      "text/html": [
       "<div>\n",
       "<style scoped>\n",
       "    .dataframe tbody tr th:only-of-type {\n",
       "        vertical-align: middle;\n",
       "    }\n",
       "\n",
       "    .dataframe tbody tr th {\n",
       "        vertical-align: top;\n",
       "    }\n",
       "\n",
       "    .dataframe thead th {\n",
       "        text-align: right;\n",
       "    }\n",
       "</style>\n",
       "<table border=\"1\" class=\"dataframe\">\n",
       "  <thead>\n",
       "    <tr style=\"text-align: right;\">\n",
       "      <th></th>\n",
       "      <th>genre</th>\n",
       "      <th>user_id</th>\n",
       "    </tr>\n",
       "  </thead>\n",
       "  <tbody>\n",
       "    <tr>\n",
       "      <th>97</th>\n",
       "      <td>pop</td>\n",
       "      <td>781</td>\n",
       "    </tr>\n",
       "    <tr>\n",
       "      <th>31</th>\n",
       "      <td>dance</td>\n",
       "      <td>549</td>\n",
       "    </tr>\n",
       "    <tr>\n",
       "      <th>43</th>\n",
       "      <td>electronic</td>\n",
       "      <td>480</td>\n",
       "    </tr>\n",
       "    <tr>\n",
       "      <th>113</th>\n",
       "      <td>rock</td>\n",
       "      <td>474</td>\n",
       "    </tr>\n",
       "    <tr>\n",
       "      <th>65</th>\n",
       "      <td>hiphop</td>\n",
       "      <td>286</td>\n",
       "    </tr>\n",
       "    <tr>\n",
       "      <th>116</th>\n",
       "      <td>ruspop</td>\n",
       "      <td>186</td>\n",
       "    </tr>\n",
       "    <tr>\n",
       "      <th>151</th>\n",
       "      <td>world</td>\n",
       "      <td>181</td>\n",
       "    </tr>\n",
       "    <tr>\n",
       "      <th>117</th>\n",
       "      <td>rusrap</td>\n",
       "      <td>175</td>\n",
       "    </tr>\n",
       "    <tr>\n",
       "      <th>2</th>\n",
       "      <td>alternative</td>\n",
       "      <td>164</td>\n",
       "    </tr>\n",
       "    <tr>\n",
       "      <th>144</th>\n",
       "      <td>unknown</td>\n",
       "      <td>161</td>\n",
       "    </tr>\n",
       "  </tbody>\n",
       "</table>\n",
       "</div>"
      ],
      "text/plain": [
       "           genre  user_id\n",
       "97           pop      781\n",
       "31         dance      549\n",
       "43    electronic      480\n",
       "113         rock      474\n",
       "65        hiphop      286\n",
       "116       ruspop      186\n",
       "151        world      181\n",
       "117       rusrap      175\n",
       "2    alternative      164\n",
       "144      unknown      161"
      ]
     },
     "execution_count": 34,
     "metadata": {},
     "output_type": "execute_result"
    }
   ],
   "source": [
    "genre_weekday(moscow_general, 'Monday', '07:00', '11:00')\n",
    "\n",
    "# вызов функции для утра понедельника в Москве (вместо df — таблица moscow_general)\n",
    "# объекты, хранящие время, являются строками и сравниваются как строки\n",
    "# пример вызова: genre_weekday(moscow_general, 'Monday', '07:00', '11:00')"
   ]
  },
  {
   "cell_type": "code",
   "execution_count": 35,
   "metadata": {
    "id": "kwUcHPdy_Zcu"
   },
   "outputs": [
    {
     "data": {
      "text/html": [
       "<div>\n",
       "<style scoped>\n",
       "    .dataframe tbody tr th:only-of-type {\n",
       "        vertical-align: middle;\n",
       "    }\n",
       "\n",
       "    .dataframe tbody tr th {\n",
       "        vertical-align: top;\n",
       "    }\n",
       "\n",
       "    .dataframe thead th {\n",
       "        text-align: right;\n",
       "    }\n",
       "</style>\n",
       "<table border=\"1\" class=\"dataframe\">\n",
       "  <thead>\n",
       "    <tr style=\"text-align: right;\">\n",
       "      <th></th>\n",
       "      <th>genre</th>\n",
       "      <th>user_id</th>\n",
       "    </tr>\n",
       "  </thead>\n",
       "  <tbody>\n",
       "    <tr>\n",
       "      <th>68</th>\n",
       "      <td>pop</td>\n",
       "      <td>218</td>\n",
       "    </tr>\n",
       "    <tr>\n",
       "      <th>19</th>\n",
       "      <td>dance</td>\n",
       "      <td>182</td>\n",
       "    </tr>\n",
       "    <tr>\n",
       "      <th>81</th>\n",
       "      <td>rock</td>\n",
       "      <td>162</td>\n",
       "    </tr>\n",
       "    <tr>\n",
       "      <th>29</th>\n",
       "      <td>electronic</td>\n",
       "      <td>147</td>\n",
       "    </tr>\n",
       "    <tr>\n",
       "      <th>47</th>\n",
       "      <td>hiphop</td>\n",
       "      <td>80</td>\n",
       "    </tr>\n",
       "    <tr>\n",
       "      <th>83</th>\n",
       "      <td>ruspop</td>\n",
       "      <td>64</td>\n",
       "    </tr>\n",
       "    <tr>\n",
       "      <th>1</th>\n",
       "      <td>alternative</td>\n",
       "      <td>58</td>\n",
       "    </tr>\n",
       "    <tr>\n",
       "      <th>84</th>\n",
       "      <td>rusrap</td>\n",
       "      <td>55</td>\n",
       "    </tr>\n",
       "    <tr>\n",
       "      <th>53</th>\n",
       "      <td>jazz</td>\n",
       "      <td>44</td>\n",
       "    </tr>\n",
       "    <tr>\n",
       "      <th>14</th>\n",
       "      <td>classical</td>\n",
       "      <td>40</td>\n",
       "    </tr>\n",
       "  </tbody>\n",
       "</table>\n",
       "</div>"
      ],
      "text/plain": [
       "          genre  user_id\n",
       "68          pop      218\n",
       "19        dance      182\n",
       "81         rock      162\n",
       "29   electronic      147\n",
       "47       hiphop       80\n",
       "83       ruspop       64\n",
       "1   alternative       58\n",
       "84       rusrap       55\n",
       "53         jazz       44\n",
       "14    classical       40"
      ]
     },
     "execution_count": 35,
     "metadata": {},
     "output_type": "execute_result"
    }
   ],
   "source": [
    "genre_weekday(spb_general, 'Monday', '07:00', '11:00') # вызов функции для утра понедельника в Петербурге (вместо df — таблица spb_general)"
   ]
  },
  {
   "cell_type": "code",
   "execution_count": 36,
   "metadata": {
    "id": "EzXVRE1o_Zcu"
   },
   "outputs": [
    {
     "data": {
      "text/html": [
       "<div>\n",
       "<style scoped>\n",
       "    .dataframe tbody tr th:only-of-type {\n",
       "        vertical-align: middle;\n",
       "    }\n",
       "\n",
       "    .dataframe tbody tr th {\n",
       "        vertical-align: top;\n",
       "    }\n",
       "\n",
       "    .dataframe thead th {\n",
       "        text-align: right;\n",
       "    }\n",
       "</style>\n",
       "<table border=\"1\" class=\"dataframe\">\n",
       "  <thead>\n",
       "    <tr style=\"text-align: right;\">\n",
       "      <th></th>\n",
       "      <th>genre</th>\n",
       "      <th>user_id</th>\n",
       "    </tr>\n",
       "  </thead>\n",
       "  <tbody>\n",
       "    <tr>\n",
       "      <th>109</th>\n",
       "      <td>pop</td>\n",
       "      <td>713</td>\n",
       "    </tr>\n",
       "    <tr>\n",
       "      <th>125</th>\n",
       "      <td>rock</td>\n",
       "      <td>517</td>\n",
       "    </tr>\n",
       "    <tr>\n",
       "      <th>36</th>\n",
       "      <td>dance</td>\n",
       "      <td>495</td>\n",
       "    </tr>\n",
       "    <tr>\n",
       "      <th>48</th>\n",
       "      <td>electronic</td>\n",
       "      <td>482</td>\n",
       "    </tr>\n",
       "    <tr>\n",
       "      <th>74</th>\n",
       "      <td>hiphop</td>\n",
       "      <td>273</td>\n",
       "    </tr>\n",
       "    <tr>\n",
       "      <th>163</th>\n",
       "      <td>world</td>\n",
       "      <td>208</td>\n",
       "    </tr>\n",
       "    <tr>\n",
       "      <th>128</th>\n",
       "      <td>ruspop</td>\n",
       "      <td>170</td>\n",
       "    </tr>\n",
       "    <tr>\n",
       "      <th>2</th>\n",
       "      <td>alternative</td>\n",
       "      <td>163</td>\n",
       "    </tr>\n",
       "    <tr>\n",
       "      <th>27</th>\n",
       "      <td>classical</td>\n",
       "      <td>163</td>\n",
       "    </tr>\n",
       "    <tr>\n",
       "      <th>129</th>\n",
       "      <td>rusrap</td>\n",
       "      <td>142</td>\n",
       "    </tr>\n",
       "  </tbody>\n",
       "</table>\n",
       "</div>"
      ],
      "text/plain": [
       "           genre  user_id\n",
       "109          pop      713\n",
       "125         rock      517\n",
       "36         dance      495\n",
       "48    electronic      482\n",
       "74        hiphop      273\n",
       "163        world      208\n",
       "128       ruspop      170\n",
       "2    alternative      163\n",
       "27     classical      163\n",
       "129       rusrap      142"
      ]
     },
     "execution_count": 36,
     "metadata": {},
     "output_type": "execute_result"
    }
   ],
   "source": [
    "genre_weekday(moscow_general, 'Friday', '17:00', '23:00')\n",
    "# вызов функции для вечера пятницы в Москве"
   ]
  },
  {
   "cell_type": "code",
   "execution_count": 37,
   "metadata": {
    "id": "JZaEKu5v_Zcu",
    "scrolled": true
   },
   "outputs": [
    {
     "data": {
      "text/html": [
       "<div>\n",
       "<style scoped>\n",
       "    .dataframe tbody tr th:only-of-type {\n",
       "        vertical-align: middle;\n",
       "    }\n",
       "\n",
       "    .dataframe tbody tr th {\n",
       "        vertical-align: top;\n",
       "    }\n",
       "\n",
       "    .dataframe thead th {\n",
       "        text-align: right;\n",
       "    }\n",
       "</style>\n",
       "<table border=\"1\" class=\"dataframe\">\n",
       "  <thead>\n",
       "    <tr style=\"text-align: right;\">\n",
       "      <th></th>\n",
       "      <th>genre</th>\n",
       "      <th>user_id</th>\n",
       "    </tr>\n",
       "  </thead>\n",
       "  <tbody>\n",
       "    <tr>\n",
       "      <th>82</th>\n",
       "      <td>pop</td>\n",
       "      <td>256</td>\n",
       "    </tr>\n",
       "    <tr>\n",
       "      <th>37</th>\n",
       "      <td>electronic</td>\n",
       "      <td>216</td>\n",
       "    </tr>\n",
       "    <tr>\n",
       "      <th>97</th>\n",
       "      <td>rock</td>\n",
       "      <td>216</td>\n",
       "    </tr>\n",
       "    <tr>\n",
       "      <th>26</th>\n",
       "      <td>dance</td>\n",
       "      <td>210</td>\n",
       "    </tr>\n",
       "    <tr>\n",
       "      <th>54</th>\n",
       "      <td>hiphop</td>\n",
       "      <td>97</td>\n",
       "    </tr>\n",
       "    <tr>\n",
       "      <th>2</th>\n",
       "      <td>alternative</td>\n",
       "      <td>63</td>\n",
       "    </tr>\n",
       "    <tr>\n",
       "      <th>61</th>\n",
       "      <td>jazz</td>\n",
       "      <td>61</td>\n",
       "    </tr>\n",
       "    <tr>\n",
       "      <th>21</th>\n",
       "      <td>classical</td>\n",
       "      <td>60</td>\n",
       "    </tr>\n",
       "    <tr>\n",
       "      <th>101</th>\n",
       "      <td>rusrap</td>\n",
       "      <td>59</td>\n",
       "    </tr>\n",
       "    <tr>\n",
       "      <th>126</th>\n",
       "      <td>world</td>\n",
       "      <td>54</td>\n",
       "    </tr>\n",
       "  </tbody>\n",
       "</table>\n",
       "</div>"
      ],
      "text/plain": [
       "           genre  user_id\n",
       "82           pop      256\n",
       "37    electronic      216\n",
       "97          rock      216\n",
       "26         dance      210\n",
       "54        hiphop       97\n",
       "2    alternative       63\n",
       "61          jazz       61\n",
       "21     classical       60\n",
       "101       rusrap       59\n",
       "126        world       54"
      ]
     },
     "execution_count": 37,
     "metadata": {},
     "output_type": "execute_result"
    }
   ],
   "source": [
    "genre_weekday(spb_general, 'Friday', '17:00', '23:00') # вызов функции для вечера пятницы в Петербурге"
   ]
  },
  {
   "cell_type": "markdown",
   "metadata": {
    "id": "wrCe4MNX_Zcu"
   },
   "source": [
    "**Выводы**\n",
    "\n",
    "Если сравнить топ-10 жанров в понедельник утром, можно сделать такие выводы:\n",
    "\n",
    "1. В Москве и Петербурге слушают похожую музыку. Единственное отличие — в московский рейтинг вошёл жанр “world”, а в петербургский — джаз и классика.\n",
    "\n",
    "2. В Москве пропущенных значений оказалось так много, что значение `'unknown'` заняло десятое место среди самых популярных жанров. Значит, пропущенные значения занимают существенную долю в данных и угрожают достоверности исследования.\n",
    "\n",
    "Вечер пятницы не меняет эту картину. Некоторые жанры поднимаются немного выше, другие спускаются, но в целом топ-10 остаётся тем же самым.\n",
    "\n",
    "Таким образом, вторая гипотеза подтвердилась лишь частично:\n",
    "* Пользователи слушают похожую музыку в начале недели и в конце.\n",
    "* Разница между Москвой и Петербургом не слишком выражена. В Москве чаще слушают русскую популярную музыку, в Петербурге — джаз.\n",
    "\n",
    "Однако пропуски в данных ставят под сомнение этот результат. В Москве их так много, что рейтинг топ-10 мог бы выглядеть иначе, если бы не утерянные  данные о жанрах."
   ]
  },
  {
   "cell_type": "markdown",
   "metadata": {
    "id": "JolODAqr_Zcu"
   },
   "source": [
    "### Жанровые предпочтения в Москве и Петербурге\n",
    "\n",
    "Гипотеза: Петербург — столица рэпа, музыку этого жанра там слушают чаще, чем в Москве.  А Москва — город контрастов, в котором, тем не менее, преобладает поп-музыка."
   ]
  },
  {
   "cell_type": "markdown",
   "metadata": {
    "id": "DlegSvaT_Zcu"
   },
   "source": [
    "Группируем таблицу `moscow_general` по жанру и подсчитываем прослушивания треков каждого жанра методом `count()`. Затем сортируем результат в порядке убывания и сохраняем его в таблице `moscow_genres`."
   ]
  },
  {
   "cell_type": "code",
   "execution_count": 38,
   "metadata": {
    "id": "r19lIPke_Zcu"
   },
   "outputs": [],
   "source": [
    "moscow_genres = moscow_general.groupby('genre')['user_id'].count().sort_values(ascending=False)\n",
    "\n",
    "# одной строкой: группировка таблицы moscow_general по столбцу 'genre', \n",
    "# подсчёт числа значений 'genre' в этой группировке методом count(), \n",
    "# сортировка получившегося Series в порядке убывания и сохранение в moscow_genres"
   ]
  },
  {
   "cell_type": "markdown",
   "metadata": {
    "id": "6kMuomxTiIr8"
   },
   "source": [
    "Выводим на экран первые десять строк `moscow_genres`:"
   ]
  },
  {
   "cell_type": "code",
   "execution_count": 39,
   "metadata": {
    "id": "WhCSooF8_Zcv"
   },
   "outputs": [
    {
     "data": {
      "text/plain": [
       "genre\n",
       "pop            5892\n",
       "dance          4435\n",
       "rock           3965\n",
       "electronic     3786\n",
       "hiphop         2096\n",
       "classical      1616\n",
       "world          1432\n",
       "alternative    1379\n",
       "ruspop         1372\n",
       "rusrap         1161\n",
       "Name: user_id, dtype: int64"
      ]
     },
     "execution_count": 39,
     "metadata": {},
     "output_type": "execute_result"
    }
   ],
   "source": [
    "moscow_genres.head(10) # просмотр первых 10 строк moscow_genres"
   ]
  },
  {
   "cell_type": "markdown",
   "metadata": {
    "id": "cnPG2vnN_Zcv"
   },
   "source": [
    "Повторяем то же и для Петербурга.\n",
    "\n",
    "Группируем таблицу `spb_general` по жанру. Подсчитываем прослушивания треков каждого жанра. Результат сортируем в порядке убывания и сохраняем в таблице `spb_genres`:\n"
   ]
  },
  {
   "cell_type": "code",
   "execution_count": 40,
   "metadata": {
    "id": "gluLIpE7_Zcv"
   },
   "outputs": [],
   "source": [
    "spb_genres = spb_general.groupby('genre')['user_id'].count().sort_values(ascending=False)\n",
    "\n",
    "# одной строкой: группировка таблицы spb_general по столбцу 'genre', \n",
    "# подсчёт числа значений 'genre' в этой группировке методом count(), \n",
    "# сортировка получившегося Series в порядке убывания и сохранение в spb_genres"
   ]
  },
  {
   "cell_type": "markdown",
   "metadata": {
    "id": "5Doha_ODgyQ8"
   },
   "source": [
    "Выводим на экран первые десять строк `spb_genres`:"
   ]
  },
  {
   "cell_type": "code",
   "execution_count": 41,
   "metadata": {
    "id": "uaGJHjVU_Zcv",
    "scrolled": true
   },
   "outputs": [
    {
     "data": {
      "text/plain": [
       "genre\n",
       "pop            2431\n",
       "dance          1932\n",
       "rock           1879\n",
       "electronic     1736\n",
       "hiphop          960\n",
       "alternative     649\n",
       "classical       646\n",
       "rusrap          564\n",
       "ruspop          538\n",
       "world           515\n",
       "Name: user_id, dtype: int64"
      ]
     },
     "execution_count": 41,
     "metadata": {},
     "output_type": "execute_result"
    }
   ],
   "source": [
    "spb_genres.head(10) # просмотр первых 10 строк spb_genres"
   ]
  },
  {
   "cell_type": "markdown",
   "metadata": {
    "id": "RY51YJYu_Zcv"
   },
   "source": [
    "**Выводы**"
   ]
  },
  {
   "cell_type": "markdown",
   "metadata": {
    "id": "nVhnJEm__Zcv"
   },
   "source": [
    "Гипотеза частично подтвердилась:\n",
    "* Поп-музыка — самый популярный жанр в Москве, как и предполагала гипотеза. Более того, в топ-10 жанров встречается близкий жанр — русская популярная музыка.\n",
    "* Вопреки ожиданиям, рэп одинаково популярен в Москве и Петербурге. \n"
   ]
  },
  {
   "cell_type": "markdown",
   "metadata": {
    "id": "ykKQ0N65_Zcv"
   },
   "source": [
    "## Итоги исследования"
   ]
  },
  {
   "cell_type": "markdown",
   "metadata": {
    "id": "tjUwbHb3_Zcv"
   },
   "source": [
    "Мы проверили три гипотезы и установили:\n",
    "\n",
    "1. День недели по-разному влияет на активность пользователей в Москве и Петербурге. \n",
    "\n",
    "Первая гипотеза полностью подтвердилась.\n",
    "\n",
    "2. Музыкальные предпочтения не сильно меняются в течение недели — будь то Москва или Петербург. Небольшие различия заметны в начале недели, по понедельникам:\n",
    "* в Москве слушают музыку жанра “world”,\n",
    "* в Петербурге — джаз и классику.\n",
    "\n",
    "Таким образом, вторая гипотеза подтвердилась лишь отчасти. Этот результат мог оказаться иным, если бы не пропуски в данных.\n",
    "\n",
    "3. Во вкусах пользователей Москвы и Петербурга больше общего чем различий. Вопреки ожиданиям, предпочтения жанров в Петербурге напоминают московские.\n",
    "\n",
    "Третья гипотеза не подтвердилась. Если различия в предпочтениях и существуют, на основной массе пользователей они незаметны."
   ]
  }
 ],
 "metadata": {
  "ExecuteTimeLog": [
   {
    "duration": 565,
    "start_time": "2022-03-23T07:53:20.546Z"
   },
   {
    "duration": 200,
    "start_time": "2022-03-23T07:54:05.225Z"
   },
   {
    "duration": 27,
    "start_time": "2022-03-23T07:54:30.249Z"
   },
   {
    "duration": 45,
    "start_time": "2022-03-23T07:55:04.537Z"
   },
   {
    "duration": 6,
    "start_time": "2022-03-23T08:33:50.094Z"
   },
   {
    "duration": 103,
    "start_time": "2022-03-23T08:38:05.177Z"
   },
   {
    "duration": 6,
    "start_time": "2022-03-23T08:38:18.514Z"
   },
   {
    "duration": 133,
    "start_time": "2022-03-23T08:38:26.695Z"
   },
   {
    "duration": 94,
    "start_time": "2022-03-23T08:38:45.711Z"
   },
   {
    "duration": 16,
    "start_time": "2022-03-23T08:39:32.599Z"
   },
   {
    "duration": 6,
    "start_time": "2022-03-23T08:39:37.063Z"
   },
   {
    "duration": 34,
    "start_time": "2022-03-23T09:00:41.978Z"
   },
   {
    "duration": 199,
    "start_time": "2022-03-24T01:24:20.664Z"
   },
   {
    "duration": 43,
    "start_time": "2022-03-24T01:28:50.338Z"
   },
   {
    "duration": 395,
    "start_time": "2022-03-24T01:30:29.601Z"
   },
   {
    "duration": 159,
    "start_time": "2022-03-24T01:30:29.998Z"
   },
   {
    "duration": 16,
    "start_time": "2022-03-24T01:30:30.159Z"
   },
   {
    "duration": 37,
    "start_time": "2022-03-24T01:30:30.177Z"
   },
   {
    "duration": 4,
    "start_time": "2022-03-24T01:30:30.216Z"
   },
   {
    "duration": 14,
    "start_time": "2022-03-24T01:30:30.221Z"
   },
   {
    "duration": 8,
    "start_time": "2022-03-24T01:30:30.237Z"
   },
   {
    "duration": 29,
    "start_time": "2022-03-24T01:30:30.246Z"
   },
   {
    "duration": 35,
    "start_time": "2022-03-24T01:30:30.277Z"
   },
   {
    "duration": 2,
    "start_time": "2022-03-24T01:30:30.314Z"
   },
   {
    "duration": 14,
    "start_time": "2022-03-24T01:30:30.318Z"
   },
   {
    "duration": 11,
    "start_time": "2022-03-24T01:30:30.334Z"
   },
   {
    "duration": 8,
    "start_time": "2022-03-24T01:30:30.347Z"
   },
   {
    "duration": 13,
    "start_time": "2022-03-24T01:30:30.357Z"
   },
   {
    "duration": 9,
    "start_time": "2022-03-24T01:30:30.371Z"
   },
   {
    "duration": 13,
    "start_time": "2022-03-24T01:30:30.382Z"
   },
   {
    "duration": 15,
    "start_time": "2022-03-24T01:30:30.398Z"
   },
   {
    "duration": 16,
    "start_time": "2022-03-24T01:30:30.415Z"
   },
   {
    "duration": 11,
    "start_time": "2022-03-24T01:30:30.433Z"
   },
   {
    "duration": 9,
    "start_time": "2022-03-24T01:30:30.446Z"
   },
   {
    "duration": 18,
    "start_time": "2022-03-24T01:30:30.457Z"
   },
   {
    "duration": 11,
    "start_time": "2022-03-24T01:30:30.477Z"
   },
   {
    "duration": 18,
    "start_time": "2022-03-24T01:30:30.489Z"
   },
   {
    "duration": 12,
    "start_time": "2022-03-24T01:30:30.509Z"
   },
   {
    "duration": 13,
    "start_time": "2022-03-24T01:30:30.523Z"
   },
   {
    "duration": 20,
    "start_time": "2022-03-24T01:30:30.537Z"
   },
   {
    "duration": 7,
    "start_time": "2022-03-24T01:30:30.559Z"
   },
   {
    "duration": 16,
    "start_time": "2022-03-24T01:30:30.567Z"
   },
   {
    "duration": 10,
    "start_time": "2022-03-24T01:30:30.584Z"
   },
   {
    "duration": 22,
    "start_time": "2022-03-24T01:30:30.595Z"
   },
   {
    "duration": 35,
    "start_time": "2022-03-24T01:30:30.618Z"
   },
   {
    "duration": 11,
    "start_time": "2022-03-24T01:30:30.655Z"
   },
   {
    "duration": 12,
    "start_time": "2022-03-24T01:30:30.667Z"
   },
   {
    "duration": 10,
    "start_time": "2022-03-24T01:30:30.680Z"
   },
   {
    "duration": 10,
    "start_time": "2022-03-24T01:30:30.692Z"
   },
   {
    "duration": 9,
    "start_time": "2022-03-24T01:30:30.704Z"
   },
   {
    "duration": 9,
    "start_time": "2022-03-24T01:30:30.716Z"
   },
   {
    "duration": 10,
    "start_time": "2022-03-24T01:30:30.727Z"
   },
   {
    "duration": 19,
    "start_time": "2022-03-24T01:30:55.961Z"
   },
   {
    "duration": 24,
    "start_time": "2022-03-24T01:31:24.714Z"
   },
   {
    "duration": 63,
    "start_time": "2022-03-24T01:33:14.558Z"
   },
   {
    "duration": 59,
    "start_time": "2022-03-24T01:33:24.774Z"
   },
   {
    "duration": 68,
    "start_time": "2022-03-24T01:34:00.582Z"
   },
   {
    "duration": 65,
    "start_time": "2022-03-24T01:34:08.597Z"
   },
   {
    "duration": 8,
    "start_time": "2022-03-24T01:35:14.134Z"
   },
   {
    "duration": 57,
    "start_time": "2022-03-24T01:36:47.453Z"
   },
   {
    "duration": 7,
    "start_time": "2022-03-24T01:36:52.206Z"
   },
   {
    "duration": 186,
    "start_time": "2022-03-24T01:39:52.108Z"
   },
   {
    "duration": 70,
    "start_time": "2022-03-24T01:40:01.692Z"
   },
   {
    "duration": 55,
    "start_time": "2022-03-24T01:40:04.212Z"
   },
   {
    "duration": 10,
    "start_time": "2022-03-24T01:42:16.020Z"
   },
   {
    "duration": 3,
    "start_time": "2022-03-24T01:52:31.335Z"
   },
   {
    "duration": 12,
    "start_time": "2022-03-24T01:54:33.626Z"
   },
   {
    "duration": 14,
    "start_time": "2022-03-24T01:55:44.349Z"
   },
   {
    "duration": 9,
    "start_time": "2022-03-24T01:55:59.961Z"
   },
   {
    "duration": 33,
    "start_time": "2022-03-24T02:12:41.530Z"
   },
   {
    "duration": 191,
    "start_time": "2022-03-24T02:22:29.706Z"
   },
   {
    "duration": 11,
    "start_time": "2022-03-24T02:22:41.938Z"
   },
   {
    "duration": 11,
    "start_time": "2022-03-24T02:29:31.475Z"
   },
   {
    "duration": 4,
    "start_time": "2022-03-24T02:40:30.397Z"
   },
   {
    "duration": 181,
    "start_time": "2022-03-24T02:41:30.806Z"
   },
   {
    "duration": 202,
    "start_time": "2022-03-24T02:41:48.350Z"
   },
   {
    "duration": 190,
    "start_time": "2022-03-24T02:41:55.013Z"
   },
   {
    "duration": 3,
    "start_time": "2022-03-24T02:44:18.478Z"
   },
   {
    "duration": 188,
    "start_time": "2022-03-24T02:44:21.125Z"
   },
   {
    "duration": 185,
    "start_time": "2022-03-24T02:44:37.636Z"
   },
   {
    "duration": 194,
    "start_time": "2022-03-24T02:45:25.014Z"
   },
   {
    "duration": 3,
    "start_time": "2022-03-24T02:49:31.676Z"
   },
   {
    "duration": 186,
    "start_time": "2022-03-24T02:49:33.867Z"
   },
   {
    "duration": 3,
    "start_time": "2022-03-24T02:51:27.827Z"
   },
   {
    "duration": 188,
    "start_time": "2022-03-24T02:51:29.602Z"
   },
   {
    "duration": 214,
    "start_time": "2022-03-24T03:01:35.850Z"
   },
   {
    "duration": 196,
    "start_time": "2022-03-24T03:01:43.643Z"
   },
   {
    "duration": 192,
    "start_time": "2022-03-24T03:01:53.657Z"
   },
   {
    "duration": 193,
    "start_time": "2022-03-24T03:02:02.940Z"
   },
   {
    "duration": 184,
    "start_time": "2022-03-24T03:02:14.616Z"
   },
   {
    "duration": 200,
    "start_time": "2022-03-24T03:02:47.465Z"
   },
   {
    "duration": 372,
    "start_time": "2022-03-24T03:08:43.124Z"
   },
   {
    "duration": 151,
    "start_time": "2022-03-24T03:08:43.498Z"
   },
   {
    "duration": 16,
    "start_time": "2022-03-24T03:08:43.650Z"
   },
   {
    "duration": 34,
    "start_time": "2022-03-24T03:08:43.668Z"
   },
   {
    "duration": 4,
    "start_time": "2022-03-24T03:08:43.704Z"
   },
   {
    "duration": 13,
    "start_time": "2022-03-24T03:08:43.709Z"
   },
   {
    "duration": 4,
    "start_time": "2022-03-24T03:08:43.724Z"
   },
   {
    "duration": 24,
    "start_time": "2022-03-24T03:08:43.729Z"
   },
   {
    "duration": 17,
    "start_time": "2022-03-24T03:08:43.755Z"
   },
   {
    "duration": 48,
    "start_time": "2022-03-24T03:08:43.775Z"
   },
   {
    "duration": 60,
    "start_time": "2022-03-24T03:08:43.825Z"
   },
   {
    "duration": 82,
    "start_time": "2022-03-24T03:08:43.886Z"
   },
   {
    "duration": 65,
    "start_time": "2022-03-24T03:08:43.969Z"
   },
   {
    "duration": 9,
    "start_time": "2022-03-24T03:08:44.035Z"
   },
   {
    "duration": 3,
    "start_time": "2022-03-24T03:08:44.045Z"
   },
   {
    "duration": 10,
    "start_time": "2022-03-24T03:08:44.050Z"
   },
   {
    "duration": 9,
    "start_time": "2022-03-24T03:08:44.061Z"
   },
   {
    "duration": 36,
    "start_time": "2022-03-24T03:08:44.071Z"
   },
   {
    "duration": 10,
    "start_time": "2022-03-24T03:08:44.108Z"
   },
   {
    "duration": 3,
    "start_time": "2022-03-24T03:08:44.120Z"
   },
   {
    "duration": 187,
    "start_time": "2022-03-24T03:08:44.124Z"
   },
   {
    "duration": 0,
    "start_time": "2022-03-24T03:08:44.312Z"
   },
   {
    "duration": 0,
    "start_time": "2022-03-24T03:08:44.314Z"
   },
   {
    "duration": 0,
    "start_time": "2022-03-24T03:08:44.315Z"
   },
   {
    "duration": 0,
    "start_time": "2022-03-24T03:08:44.316Z"
   },
   {
    "duration": 0,
    "start_time": "2022-03-24T03:08:44.317Z"
   },
   {
    "duration": 0,
    "start_time": "2022-03-24T03:08:44.318Z"
   },
   {
    "duration": 0,
    "start_time": "2022-03-24T03:08:44.319Z"
   },
   {
    "duration": 0,
    "start_time": "2022-03-24T03:08:44.320Z"
   },
   {
    "duration": 0,
    "start_time": "2022-03-24T03:08:44.321Z"
   },
   {
    "duration": 0,
    "start_time": "2022-03-24T03:08:44.322Z"
   },
   {
    "duration": 0,
    "start_time": "2022-03-24T03:08:44.323Z"
   },
   {
    "duration": 0,
    "start_time": "2022-03-24T03:08:44.324Z"
   },
   {
    "duration": 0,
    "start_time": "2022-03-24T03:08:44.325Z"
   },
   {
    "duration": 0,
    "start_time": "2022-03-24T03:08:44.326Z"
   },
   {
    "duration": 0,
    "start_time": "2022-03-24T03:08:44.326Z"
   },
   {
    "duration": 0,
    "start_time": "2022-03-24T03:08:44.327Z"
   },
   {
    "duration": 0,
    "start_time": "2022-03-24T03:08:44.328Z"
   },
   {
    "duration": 16,
    "start_time": "2022-03-24T03:09:04.072Z"
   },
   {
    "duration": 15,
    "start_time": "2022-03-24T03:09:10.022Z"
   },
   {
    "duration": 16,
    "start_time": "2022-03-24T03:09:41.854Z"
   },
   {
    "duration": 14,
    "start_time": "2022-03-24T03:09:56.823Z"
   },
   {
    "duration": 17,
    "start_time": "2022-03-24T03:10:11.471Z"
   },
   {
    "duration": 14,
    "start_time": "2022-03-24T03:10:29.348Z"
   },
   {
    "duration": 184,
    "start_time": "2022-03-24T03:16:05.678Z"
   },
   {
    "duration": 68,
    "start_time": "2022-03-24T03:16:25.813Z"
   },
   {
    "duration": 12,
    "start_time": "2022-03-24T03:24:57.769Z"
   },
   {
    "duration": 13,
    "start_time": "2022-03-24T03:28:07.235Z"
   },
   {
    "duration": 12,
    "start_time": "2022-03-24T03:28:16.235Z"
   },
   {
    "duration": 13,
    "start_time": "2022-03-24T03:28:58.548Z"
   },
   {
    "duration": 12,
    "start_time": "2022-03-24T03:29:39.626Z"
   },
   {
    "duration": 12,
    "start_time": "2022-03-24T03:29:57.115Z"
   },
   {
    "duration": 200,
    "start_time": "2022-03-24T03:33:06.279Z"
   },
   {
    "duration": 175,
    "start_time": "2022-03-24T03:34:38.993Z"
   },
   {
    "duration": 185,
    "start_time": "2022-03-24T03:34:49.393Z"
   },
   {
    "duration": 10,
    "start_time": "2022-03-24T03:35:21.761Z"
   },
   {
    "duration": 4,
    "start_time": "2022-03-24T03:36:00.217Z"
   },
   {
    "duration": 8,
    "start_time": "2022-03-24T03:36:03.552Z"
   },
   {
    "duration": 191,
    "start_time": "2022-03-24T03:42:17.215Z"
   },
   {
    "duration": 211,
    "start_time": "2022-03-24T03:42:31.151Z"
   },
   {
    "duration": 3188,
    "start_time": "2022-03-24T03:42:39.074Z"
   },
   {
    "duration": 3,
    "start_time": "2022-03-24T04:35:50.864Z"
   },
   {
    "duration": 4,
    "start_time": "2022-03-24T04:37:25.161Z"
   },
   {
    "duration": 186,
    "start_time": "2022-03-24T04:46:22.168Z"
   },
   {
    "duration": 3536,
    "start_time": "2022-03-24T04:46:26.586Z"
   },
   {
    "duration": 0,
    "start_time": "2022-03-24T04:46:30.124Z"
   },
   {
    "duration": 13,
    "start_time": "2022-03-24T05:44:57.508Z"
   },
   {
    "duration": 23,
    "start_time": "2022-03-24T05:45:50.675Z"
   },
   {
    "duration": 8,
    "start_time": "2022-03-24T05:46:00.164Z"
   },
   {
    "duration": 7,
    "start_time": "2022-03-24T05:46:04.158Z"
   },
   {
    "duration": 10,
    "start_time": "2022-03-24T05:46:38.205Z"
   },
   {
    "duration": 10,
    "start_time": "2022-03-24T05:46:42.573Z"
   },
   {
    "duration": 18,
    "start_time": "2022-03-24T05:46:58.218Z"
   },
   {
    "duration": 407,
    "start_time": "2022-03-24T07:05:35.687Z"
   },
   {
    "duration": 159,
    "start_time": "2022-03-24T07:05:36.096Z"
   },
   {
    "duration": 17,
    "start_time": "2022-03-24T07:05:36.257Z"
   },
   {
    "duration": 37,
    "start_time": "2022-03-24T07:05:36.277Z"
   },
   {
    "duration": 4,
    "start_time": "2022-03-24T07:05:36.316Z"
   },
   {
    "duration": 13,
    "start_time": "2022-03-24T07:05:36.321Z"
   },
   {
    "duration": 6,
    "start_time": "2022-03-24T07:05:36.335Z"
   },
   {
    "duration": 27,
    "start_time": "2022-03-24T07:05:36.343Z"
   },
   {
    "duration": 43,
    "start_time": "2022-03-24T07:05:36.372Z"
   },
   {
    "duration": 22,
    "start_time": "2022-03-24T07:05:36.419Z"
   },
   {
    "duration": 73,
    "start_time": "2022-03-24T07:05:36.442Z"
   },
   {
    "duration": 97,
    "start_time": "2022-03-24T07:05:36.517Z"
   },
   {
    "duration": 55,
    "start_time": "2022-03-24T07:05:36.615Z"
   },
   {
    "duration": 9,
    "start_time": "2022-03-24T07:05:36.671Z"
   },
   {
    "duration": 19,
    "start_time": "2022-03-24T07:05:36.682Z"
   },
   {
    "duration": 11,
    "start_time": "2022-03-24T07:05:36.702Z"
   },
   {
    "duration": 9,
    "start_time": "2022-03-24T07:05:36.715Z"
   },
   {
    "duration": 10,
    "start_time": "2022-03-24T07:05:36.725Z"
   },
   {
    "duration": 9,
    "start_time": "2022-03-24T07:05:36.737Z"
   },
   {
    "duration": 4,
    "start_time": "2022-03-24T07:05:36.747Z"
   },
   {
    "duration": 17,
    "start_time": "2022-03-24T07:05:36.753Z"
   },
   {
    "duration": 15,
    "start_time": "2022-03-24T07:05:36.802Z"
   },
   {
    "duration": 15,
    "start_time": "2022-03-24T07:05:36.819Z"
   },
   {
    "duration": 14,
    "start_time": "2022-03-24T07:05:36.836Z"
   },
   {
    "duration": 16,
    "start_time": "2022-03-24T07:05:36.852Z"
   },
   {
    "duration": 43,
    "start_time": "2022-03-24T07:05:36.870Z"
   },
   {
    "duration": 9,
    "start_time": "2022-03-24T07:05:36.915Z"
   },
   {
    "duration": 21,
    "start_time": "2022-03-24T07:05:36.928Z"
   },
   {
    "duration": 19,
    "start_time": "2022-03-24T07:05:36.951Z"
   },
   {
    "duration": 248,
    "start_time": "2022-03-24T07:05:37.001Z"
   },
   {
    "duration": 0,
    "start_time": "2022-03-24T07:05:37.251Z"
   },
   {
    "duration": 0,
    "start_time": "2022-03-24T07:05:37.253Z"
   },
   {
    "duration": 0,
    "start_time": "2022-03-24T07:05:37.254Z"
   },
   {
    "duration": 0,
    "start_time": "2022-03-24T07:05:37.256Z"
   },
   {
    "duration": 0,
    "start_time": "2022-03-24T07:05:37.257Z"
   },
   {
    "duration": 0,
    "start_time": "2022-03-24T07:05:37.258Z"
   },
   {
    "duration": 0,
    "start_time": "2022-03-24T07:05:37.260Z"
   },
   {
    "duration": 0,
    "start_time": "2022-03-24T07:05:37.261Z"
   },
   {
    "duration": 4,
    "start_time": "2022-03-24T07:14:17.977Z"
   },
   {
    "duration": 5,
    "start_time": "2022-03-24T07:15:11.876Z"
   },
   {
    "duration": 18,
    "start_time": "2022-03-24T07:15:58.013Z"
   },
   {
    "duration": 4,
    "start_time": "2022-03-24T07:16:16.468Z"
   },
   {
    "duration": 4,
    "start_time": "2022-03-24T07:16:23.932Z"
   },
   {
    "duration": 19,
    "start_time": "2022-03-24T07:17:17.627Z"
   },
   {
    "duration": 13,
    "start_time": "2022-03-24T07:18:05.867Z"
   },
   {
    "duration": 13,
    "start_time": "2022-03-24T07:18:22.987Z"
   },
   {
    "duration": 88,
    "start_time": "2022-03-24T07:20:04.931Z"
   },
   {
    "duration": 79,
    "start_time": "2022-03-24T14:46:24.783Z"
   },
   {
    "duration": 8,
    "start_time": "2022-03-24T14:47:51.549Z"
   },
   {
    "duration": 594,
    "start_time": "2022-03-24T14:48:48.359Z"
   },
   {
    "duration": 210,
    "start_time": "2022-03-24T14:48:48.956Z"
   },
   {
    "duration": 30,
    "start_time": "2022-03-24T14:48:49.169Z"
   },
   {
    "duration": 48,
    "start_time": "2022-03-24T14:48:49.202Z"
   },
   {
    "duration": 8,
    "start_time": "2022-03-24T14:48:49.252Z"
   },
   {
    "duration": 32,
    "start_time": "2022-03-24T14:48:49.262Z"
   },
   {
    "duration": 17,
    "start_time": "2022-03-24T14:48:49.296Z"
   },
   {
    "duration": 55,
    "start_time": "2022-03-24T14:48:49.315Z"
   },
   {
    "duration": 34,
    "start_time": "2022-03-24T14:48:49.372Z"
   },
   {
    "duration": 45,
    "start_time": "2022-03-24T14:48:49.410Z"
   },
   {
    "duration": 116,
    "start_time": "2022-03-24T14:48:49.457Z"
   },
   {
    "duration": 130,
    "start_time": "2022-03-24T14:48:49.576Z"
   },
   {
    "duration": 105,
    "start_time": "2022-03-24T14:48:49.708Z"
   },
   {
    "duration": 14,
    "start_time": "2022-03-24T14:48:49.815Z"
   },
   {
    "duration": 11,
    "start_time": "2022-03-24T14:48:49.831Z"
   },
   {
    "duration": 30,
    "start_time": "2022-03-24T14:48:49.844Z"
   },
   {
    "duration": 32,
    "start_time": "2022-03-24T14:48:49.876Z"
   },
   {
    "duration": 25,
    "start_time": "2022-03-24T14:48:49.910Z"
   },
   {
    "duration": 34,
    "start_time": "2022-03-24T14:48:49.937Z"
   },
   {
    "duration": 11,
    "start_time": "2022-03-24T14:48:49.973Z"
   },
   {
    "duration": 45,
    "start_time": "2022-03-24T14:48:49.987Z"
   },
   {
    "duration": 32,
    "start_time": "2022-03-24T14:48:50.034Z"
   },
   {
    "duration": 27,
    "start_time": "2022-03-24T14:48:50.068Z"
   },
   {
    "duration": 44,
    "start_time": "2022-03-24T14:48:50.097Z"
   },
   {
    "duration": 41,
    "start_time": "2022-03-24T14:48:50.143Z"
   },
   {
    "duration": 34,
    "start_time": "2022-03-24T14:48:50.186Z"
   },
   {
    "duration": 26,
    "start_time": "2022-03-24T14:48:50.222Z"
   },
   {
    "duration": 36,
    "start_time": "2022-03-24T14:48:50.253Z"
   },
   {
    "duration": 27,
    "start_time": "2022-03-24T14:48:50.291Z"
   },
   {
    "duration": 8,
    "start_time": "2022-03-24T14:48:50.321Z"
   },
   {
    "duration": 45,
    "start_time": "2022-03-24T14:48:50.332Z"
   },
   {
    "duration": 27,
    "start_time": "2022-03-24T14:48:50.384Z"
   },
   {
    "duration": 26,
    "start_time": "2022-03-24T14:48:50.413Z"
   },
   {
    "duration": 26,
    "start_time": "2022-03-24T14:48:50.441Z"
   },
   {
    "duration": 56,
    "start_time": "2022-03-24T14:48:50.469Z"
   },
   {
    "duration": 3,
    "start_time": "2022-03-24T14:48:50.528Z"
   },
   {
    "duration": 26,
    "start_time": "2022-03-24T14:48:50.533Z"
   },
   {
    "duration": 35,
    "start_time": "2022-03-24T14:48:50.561Z"
   },
   {
    "duration": 42,
    "start_time": "2022-03-24T14:48:54.435Z"
   },
   {
    "duration": 12,
    "start_time": "2022-03-24T14:49:12.020Z"
   },
   {
    "duration": 7,
    "start_time": "2022-03-24T14:49:39.403Z"
   },
   {
    "duration": 43,
    "start_time": "2022-03-24T14:50:04.773Z"
   },
   {
    "duration": 7,
    "start_time": "2022-03-24T14:50:19.803Z"
   },
   {
    "duration": 34,
    "start_time": "2022-03-24T14:51:01.028Z"
   },
   {
    "duration": 19,
    "start_time": "2022-03-24T14:51:17.099Z"
   },
   {
    "duration": 9,
    "start_time": "2022-03-24T14:51:19.401Z"
   },
   {
    "duration": 125,
    "start_time": "2022-03-24T14:52:18.066Z"
   },
   {
    "duration": 33,
    "start_time": "2022-03-24T14:52:32.410Z"
   },
   {
    "duration": 9,
    "start_time": "2022-03-24T14:52:38.651Z"
   },
   {
    "duration": 38,
    "start_time": "2022-03-24T14:55:41.593Z"
   },
   {
    "duration": 6,
    "start_time": "2022-03-24T14:55:51.730Z"
   },
   {
    "duration": 45,
    "start_time": "2022-03-24T14:56:02.170Z"
   },
   {
    "duration": 18,
    "start_time": "2022-03-24T14:56:32.003Z"
   },
   {
    "duration": 18,
    "start_time": "2022-03-24T14:56:39.025Z"
   },
   {
    "duration": 16,
    "start_time": "2022-03-24T14:57:09.762Z"
   },
   {
    "duration": 8,
    "start_time": "2022-03-24T14:57:25.884Z"
   },
   {
    "duration": 9,
    "start_time": "2022-03-24T14:57:35.106Z"
   },
   {
    "duration": 7,
    "start_time": "2022-03-24T14:58:17.169Z"
   },
   {
    "duration": 7,
    "start_time": "2022-03-24T14:58:24.787Z"
   },
   {
    "duration": 50,
    "start_time": "2022-03-24T15:02:02.048Z"
   },
   {
    "duration": 21,
    "start_time": "2022-03-24T15:02:16.594Z"
   },
   {
    "duration": 6,
    "start_time": "2022-03-24T15:05:59.057Z"
   },
   {
    "duration": 2335,
    "start_time": "2022-03-24T15:06:07.036Z"
   },
   {
    "duration": 0,
    "start_time": "2022-03-24T15:06:09.374Z"
   },
   {
    "duration": 6,
    "start_time": "2022-03-24T15:06:42.983Z"
   },
   {
    "duration": 24,
    "start_time": "2022-03-24T15:06:48.123Z"
   },
   {
    "duration": 26,
    "start_time": "2022-03-24T15:06:59.903Z"
   },
   {
    "duration": 19,
    "start_time": "2022-03-24T15:07:02.047Z"
   },
   {
    "duration": 41,
    "start_time": "2022-03-24T15:07:10.111Z"
   },
   {
    "duration": 25,
    "start_time": "2022-03-24T15:08:42.677Z"
   },
   {
    "duration": 24,
    "start_time": "2022-03-24T15:09:11.754Z"
   },
   {
    "duration": 26,
    "start_time": "2022-03-24T15:09:52.501Z"
   },
   {
    "duration": 33,
    "start_time": "2022-03-24T15:10:06.268Z"
   },
   {
    "duration": 24,
    "start_time": "2022-03-24T15:10:18.681Z"
   },
   {
    "duration": 25,
    "start_time": "2022-03-24T15:11:02.224Z"
   },
   {
    "duration": 24,
    "start_time": "2022-03-24T15:11:23.266Z"
   },
   {
    "duration": 21,
    "start_time": "2022-03-24T15:11:25.071Z"
   },
   {
    "duration": 26,
    "start_time": "2022-03-24T15:12:00.325Z"
   },
   {
    "duration": 25,
    "start_time": "2022-03-24T15:12:28.963Z"
   },
   {
    "duration": 17,
    "start_time": "2022-03-24T15:12:30.737Z"
   },
   {
    "duration": 24,
    "start_time": "2022-03-24T15:12:34.307Z"
   },
   {
    "duration": 26,
    "start_time": "2022-03-24T15:12:46.335Z"
   },
   {
    "duration": 26,
    "start_time": "2022-03-24T15:13:19.151Z"
   },
   {
    "duration": 27,
    "start_time": "2022-03-24T15:13:35.987Z"
   },
   {
    "duration": 9,
    "start_time": "2022-03-24T15:14:49.778Z"
   },
   {
    "duration": 26,
    "start_time": "2022-03-24T15:14:58.104Z"
   },
   {
    "duration": 27,
    "start_time": "2022-03-24T15:37:17.501Z"
   },
   {
    "duration": 18,
    "start_time": "2022-03-24T15:37:20.837Z"
   },
   {
    "duration": 26,
    "start_time": "2022-03-24T15:37:22.027Z"
   },
   {
    "duration": 19,
    "start_time": "2022-03-24T15:37:22.703Z"
   },
   {
    "duration": 25,
    "start_time": "2022-03-24T15:37:29.879Z"
   },
   {
    "duration": 23,
    "start_time": "2022-03-24T15:37:49.561Z"
   },
   {
    "duration": 4,
    "start_time": "2022-03-24T15:37:56.955Z"
   },
   {
    "duration": 24,
    "start_time": "2022-03-24T15:38:00.168Z"
   },
   {
    "duration": 24,
    "start_time": "2022-03-24T15:39:28.921Z"
   },
   {
    "duration": 628,
    "start_time": "2022-03-24T15:39:41.678Z"
   },
   {
    "duration": 218,
    "start_time": "2022-03-24T15:39:42.309Z"
   },
   {
    "duration": 29,
    "start_time": "2022-03-24T15:39:42.529Z"
   },
   {
    "duration": 56,
    "start_time": "2022-03-24T15:39:42.561Z"
   },
   {
    "duration": 7,
    "start_time": "2022-03-24T15:39:42.620Z"
   },
   {
    "duration": 19,
    "start_time": "2022-03-24T15:39:42.630Z"
   },
   {
    "duration": 35,
    "start_time": "2022-03-24T15:39:42.652Z"
   },
   {
    "duration": 40,
    "start_time": "2022-03-24T15:39:42.689Z"
   },
   {
    "duration": 26,
    "start_time": "2022-03-24T15:39:42.731Z"
   },
   {
    "duration": 55,
    "start_time": "2022-03-24T15:39:42.760Z"
   },
   {
    "duration": 123,
    "start_time": "2022-03-24T15:39:42.817Z"
   },
   {
    "duration": 151,
    "start_time": "2022-03-24T15:39:42.942Z"
   },
   {
    "duration": 93,
    "start_time": "2022-03-24T15:39:43.095Z"
   },
   {
    "duration": 16,
    "start_time": "2022-03-24T15:39:43.190Z"
   },
   {
    "duration": 4,
    "start_time": "2022-03-24T15:39:43.208Z"
   },
   {
    "duration": 17,
    "start_time": "2022-03-24T15:39:43.214Z"
   },
   {
    "duration": 15,
    "start_time": "2022-03-24T15:39:43.233Z"
   },
   {
    "duration": 21,
    "start_time": "2022-03-24T15:39:43.250Z"
   },
   {
    "duration": 17,
    "start_time": "2022-03-24T15:39:43.283Z"
   },
   {
    "duration": 5,
    "start_time": "2022-03-24T15:39:43.303Z"
   },
   {
    "duration": 31,
    "start_time": "2022-03-24T15:39:43.310Z"
   },
   {
    "duration": 21,
    "start_time": "2022-03-24T15:39:43.343Z"
   },
   {
    "duration": 29,
    "start_time": "2022-03-24T15:39:43.366Z"
   },
   {
    "duration": 27,
    "start_time": "2022-03-24T15:39:43.397Z"
   },
   {
    "duration": 23,
    "start_time": "2022-03-24T15:39:43.426Z"
   },
   {
    "duration": 20,
    "start_time": "2022-03-24T15:39:43.451Z"
   },
   {
    "duration": 22,
    "start_time": "2022-03-24T15:39:43.473Z"
   },
   {
    "duration": 66,
    "start_time": "2022-03-24T15:39:43.499Z"
   },
   {
    "duration": 28,
    "start_time": "2022-03-24T15:39:43.567Z"
   },
   {
    "duration": 4,
    "start_time": "2022-03-24T15:39:43.597Z"
   },
   {
    "duration": 147,
    "start_time": "2022-03-24T15:39:43.603Z"
   },
   {
    "duration": 0,
    "start_time": "2022-03-24T15:39:43.752Z"
   },
   {
    "duration": 0,
    "start_time": "2022-03-24T15:39:43.784Z"
   },
   {
    "duration": 0,
    "start_time": "2022-03-24T15:39:43.786Z"
   },
   {
    "duration": 0,
    "start_time": "2022-03-24T15:39:43.788Z"
   },
   {
    "duration": 0,
    "start_time": "2022-03-24T15:39:43.790Z"
   },
   {
    "duration": 0,
    "start_time": "2022-03-24T15:39:43.792Z"
   },
   {
    "duration": 0,
    "start_time": "2022-03-24T15:39:43.793Z"
   },
   {
    "duration": 9,
    "start_time": "2022-03-24T15:39:58.819Z"
   },
   {
    "duration": 5,
    "start_time": "2022-03-24T15:40:06.113Z"
   },
   {
    "duration": 25,
    "start_time": "2022-03-24T15:40:09.612Z"
   },
   {
    "duration": 20,
    "start_time": "2022-03-24T15:40:13.398Z"
   },
   {
    "duration": 24,
    "start_time": "2022-03-24T15:40:14.240Z"
   },
   {
    "duration": 18,
    "start_time": "2022-03-24T15:40:15.083Z"
   },
   {
    "duration": 9,
    "start_time": "2022-03-24T15:40:22.637Z"
   },
   {
    "duration": 14,
    "start_time": "2022-03-24T15:40:29.591Z"
   },
   {
    "duration": 7,
    "start_time": "2022-03-24T15:40:31.523Z"
   },
   {
    "duration": 10,
    "start_time": "2022-03-24T15:40:34.476Z"
   },
   {
    "duration": 7,
    "start_time": "2022-03-24T15:40:36.189Z"
   },
   {
    "duration": 918,
    "start_time": "2022-04-01T22:03:14.800Z"
   },
   {
    "duration": 207,
    "start_time": "2022-04-01T22:03:15.720Z"
   },
   {
    "duration": 25,
    "start_time": "2022-04-01T22:03:15.930Z"
   },
   {
    "duration": 58,
    "start_time": "2022-04-01T22:03:15.957Z"
   },
   {
    "duration": 6,
    "start_time": "2022-04-01T22:03:16.018Z"
   },
   {
    "duration": 16,
    "start_time": "2022-04-01T22:03:16.027Z"
   },
   {
    "duration": 41,
    "start_time": "2022-04-01T22:03:16.045Z"
   },
   {
    "duration": 38,
    "start_time": "2022-04-01T22:03:16.089Z"
   },
   {
    "duration": 23,
    "start_time": "2022-04-01T22:03:16.129Z"
   },
   {
    "duration": 57,
    "start_time": "2022-04-01T22:03:16.154Z"
   },
   {
    "duration": 108,
    "start_time": "2022-04-01T22:03:16.213Z"
   },
   {
    "duration": 118,
    "start_time": "2022-04-01T22:03:16.323Z"
   },
   {
    "duration": 92,
    "start_time": "2022-04-01T22:03:16.443Z"
   },
   {
    "duration": 13,
    "start_time": "2022-04-01T22:03:16.541Z"
   },
   {
    "duration": 30,
    "start_time": "2022-04-01T22:03:16.556Z"
   },
   {
    "duration": 15,
    "start_time": "2022-04-01T22:03:16.588Z"
   },
   {
    "duration": 17,
    "start_time": "2022-04-01T22:03:16.605Z"
   },
   {
    "duration": 15,
    "start_time": "2022-04-01T22:03:16.624Z"
   },
   {
    "duration": 54,
    "start_time": "2022-04-01T22:03:16.641Z"
   },
   {
    "duration": 6,
    "start_time": "2022-04-01T22:03:16.698Z"
   },
   {
    "duration": 27,
    "start_time": "2022-04-01T22:03:16.706Z"
   },
   {
    "duration": 17,
    "start_time": "2022-04-01T22:03:16.735Z"
   },
   {
    "duration": 49,
    "start_time": "2022-04-01T22:03:16.754Z"
   },
   {
    "duration": 18,
    "start_time": "2022-04-01T22:03:16.805Z"
   },
   {
    "duration": 25,
    "start_time": "2022-04-01T22:03:16.825Z"
   },
   {
    "duration": 48,
    "start_time": "2022-04-01T22:03:16.852Z"
   },
   {
    "duration": 13,
    "start_time": "2022-04-01T22:03:16.902Z"
   },
   {
    "duration": 29,
    "start_time": "2022-04-01T22:03:16.918Z"
   },
   {
    "duration": 58,
    "start_time": "2022-04-01T22:03:16.949Z"
   },
   {
    "duration": 6,
    "start_time": "2022-04-01T22:03:17.009Z"
   },
   {
    "duration": 30,
    "start_time": "2022-04-01T22:03:17.017Z"
   },
   {
    "duration": 38,
    "start_time": "2022-04-01T22:03:17.049Z"
   },
   {
    "duration": 28,
    "start_time": "2022-04-01T22:03:17.094Z"
   },
   {
    "duration": 16,
    "start_time": "2022-04-01T22:03:17.124Z"
   },
   {
    "duration": 45,
    "start_time": "2022-04-01T22:03:17.142Z"
   },
   {
    "duration": 6,
    "start_time": "2022-04-01T22:03:17.193Z"
   },
   {
    "duration": 12,
    "start_time": "2022-04-01T22:03:17.202Z"
   },
   {
    "duration": 6,
    "start_time": "2022-04-01T22:03:17.216Z"
   },
   {
    "duration": 69,
    "start_time": "2022-04-03T11:03:23.503Z"
   },
   {
    "duration": 7,
    "start_time": "2022-04-03T11:04:01.609Z"
   },
   {
    "duration": 7,
    "start_time": "2022-04-03T11:05:02.134Z"
   },
   {
    "duration": 507,
    "start_time": "2022-04-03T11:05:09.667Z"
   },
   {
    "duration": 289,
    "start_time": "2022-04-03T11:05:11.604Z"
   },
   {
    "duration": 26,
    "start_time": "2022-04-03T11:05:15.698Z"
   },
   {
    "duration": 41,
    "start_time": "2022-04-03T11:05:19.697Z"
   },
   {
    "duration": 6,
    "start_time": "2022-04-03T11:05:24.849Z"
   },
   {
    "duration": 15,
    "start_time": "2022-04-03T11:05:29.573Z"
   },
   {
    "duration": 7,
    "start_time": "2022-04-03T11:05:32.188Z"
   },
   {
    "duration": 40,
    "start_time": "2022-04-03T11:05:34.858Z"
   },
   {
    "duration": 26,
    "start_time": "2022-04-03T11:05:37.146Z"
   },
   {
    "duration": 34,
    "start_time": "2022-04-03T11:05:38.931Z"
   },
   {
    "duration": 102,
    "start_time": "2022-04-03T11:05:41.226Z"
   },
   {
    "duration": 130,
    "start_time": "2022-04-03T11:05:42.815Z"
   },
   {
    "duration": 98,
    "start_time": "2022-04-03T11:05:44.430Z"
   },
   {
    "duration": 61,
    "start_time": "2022-04-03T11:05:53.274Z"
   },
   {
    "duration": 6,
    "start_time": "2022-04-03T11:06:02.955Z"
   },
   {
    "duration": 13,
    "start_time": "2022-04-03T11:06:05.609Z"
   },
   {
    "duration": 58,
    "start_time": "2022-04-03T11:06:08.737Z"
   },
   {
    "duration": 15,
    "start_time": "2022-04-03T11:06:14.955Z"
   },
   {
    "duration": 15,
    "start_time": "2022-04-03T11:06:16.337Z"
   },
   {
    "duration": 10,
    "start_time": "2022-04-03T11:06:20.698Z"
   },
   {
    "duration": 24,
    "start_time": "2022-04-03T11:06:29.701Z"
   },
   {
    "duration": 27,
    "start_time": "2022-04-03T11:06:30.361Z"
   },
   {
    "duration": 20,
    "start_time": "2022-04-03T11:06:31.041Z"
   },
   {
    "duration": 18,
    "start_time": "2022-04-03T11:06:31.621Z"
   },
   {
    "duration": 23,
    "start_time": "2022-04-03T11:06:32.153Z"
   },
   {
    "duration": 23,
    "start_time": "2022-04-03T11:06:32.700Z"
   },
   {
    "duration": 12,
    "start_time": "2022-04-03T11:06:35.747Z"
   },
   {
    "duration": 30,
    "start_time": "2022-04-03T11:06:40.025Z"
   },
   {
    "duration": 29,
    "start_time": "2022-04-03T11:06:40.700Z"
   },
   {
    "duration": 8,
    "start_time": "2022-04-03T11:06:43.301Z"
   },
   {
    "duration": 43,
    "start_time": "2022-04-03T11:06:46.215Z"
   },
   {
    "duration": 26,
    "start_time": "2022-04-03T11:06:47.001Z"
   },
   {
    "duration": 37,
    "start_time": "2022-04-03T11:06:47.545Z"
   },
   {
    "duration": 24,
    "start_time": "2022-04-03T11:06:48.102Z"
   },
   {
    "duration": 14,
    "start_time": "2022-04-03T11:06:50.901Z"
   },
   {
    "duration": 6,
    "start_time": "2022-04-03T11:06:52.545Z"
   },
   {
    "duration": 9,
    "start_time": "2022-04-03T11:06:54.016Z"
   },
   {
    "duration": 6,
    "start_time": "2022-04-03T11:06:55.225Z"
   }
  ],
  "colab": {
   "collapsed_sections": [
    "E0vqbgi9ay0H",
    "VUC88oWjTJw2"
   ],
   "name": "yandex_music_project.ipynb",
   "provenance": []
  },
  "kernelspec": {
   "display_name": "Python 3 (ipykernel)",
   "language": "python",
   "name": "python3"
  },
  "language_info": {
   "codemirror_mode": {
    "name": "ipython",
    "version": 3
   },
   "file_extension": ".py",
   "mimetype": "text/x-python",
   "name": "python",
   "nbconvert_exporter": "python",
   "pygments_lexer": "ipython3",
   "version": "3.9.7"
  },
  "toc": {
   "base_numbering": 1,
   "nav_menu": {},
   "number_sections": true,
   "sideBar": true,
   "skip_h1_title": true,
   "title_cell": "Table of Contents",
   "title_sidebar": "Contents",
   "toc_cell": false,
   "toc_position": {
    "height": "calc(100% - 180px)",
    "left": "10px",
    "top": "150px",
    "width": "186.733px"
   },
   "toc_section_display": true,
   "toc_window_display": true
  }
 },
 "nbformat": 4,
 "nbformat_minor": 1
}
