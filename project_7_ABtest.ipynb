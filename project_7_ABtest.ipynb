{
 "cells": [
  {
   "cell_type": "markdown",
   "id": "c65b4c5a",
   "metadata": {
    "toc": true
   },
   "source": [
    "<h1>Содержание<span class=\"tocSkip\"></span></h1>\n",
    "<div class=\"toc\"><ul class=\"toc-item\"><li><span><a href=\"#Описание-проекта\" data-toc-modified-id=\"Описание-проекта-1\"><span class=\"toc-item-num\">1&nbsp;&nbsp;</span>Описание проекта</a></span></li><li><span><a href=\"#Часть-1.-Приоритизация-гипотез\" data-toc-modified-id=\"Часть-1.-Приоритизация-гипотез-2\"><span class=\"toc-item-num\">2&nbsp;&nbsp;</span>Часть 1. Приоритизация гипотез</a></span></li><li><span><a href=\"#Часть-2.-Анализ-A/B-теста\" data-toc-modified-id=\"Часть-2.-Анализ-A/B-теста-3\"><span class=\"toc-item-num\">3&nbsp;&nbsp;</span>Часть 2. Анализ A/B-теста</a></span><ul class=\"toc-item\"><li><span><a href=\"#График-кумулятивной-выручки-по-группам\" data-toc-modified-id=\"График-кумулятивной-выручки-по-группам-3.1\"><span class=\"toc-item-num\">3.1&nbsp;&nbsp;</span>График кумулятивной выручки по группам</a></span></li><li><span><a href=\"#График-кумулятивного-среднего-чека\" data-toc-modified-id=\"График-кумулятивного-среднего-чека-3.2\"><span class=\"toc-item-num\">3.2&nbsp;&nbsp;</span>График кумулятивного среднего чека</a></span></li><li><span><a href=\"#График-относительного-изменения-кумулятивного-среднего-чека\" data-toc-modified-id=\"График-относительного-изменения-кумулятивного-среднего-чека-3.3\"><span class=\"toc-item-num\">3.3&nbsp;&nbsp;</span>График относительного изменения кумулятивного среднего чека</a></span></li><li><span><a href=\"#График-кумулятивной-конверсии\" data-toc-modified-id=\"График-кумулятивной-конверсии-3.4\"><span class=\"toc-item-num\">3.4&nbsp;&nbsp;</span>График кумулятивной конверсии</a></span></li><li><span><a href=\"#График-относительного-изменения-кумулятивной-конверсии\" data-toc-modified-id=\"График-относительного-изменения-кумулятивной-конверсии-3.5\"><span class=\"toc-item-num\">3.5&nbsp;&nbsp;</span>График относительного изменения кумулятивной конверсии</a></span></li><li><span><a href=\"#Оценка-выбросов-по-стоимости-и-количеству-заказов\" data-toc-modified-id=\"Оценка-выбросов-по-стоимости-и-количеству-заказов-3.6\"><span class=\"toc-item-num\">3.6&nbsp;&nbsp;</span>Оценка выбросов по стоимости и количеству заказов</a></span></li><li><span><a href=\"#Статистическая-значимость-различий-по-&quot;сырым&quot;-данным\" data-toc-modified-id=\"Статистическая-значимость-различий-по-&quot;сырым&quot;-данным-3.7\"><span class=\"toc-item-num\">3.7&nbsp;&nbsp;</span>Статистическая значимость различий по \"сырым\" данным</a></span><ul class=\"toc-item\"><li><span><a href=\"#Конверсия\" data-toc-modified-id=\"Конверсия-3.7.1\"><span class=\"toc-item-num\">3.7.1&nbsp;&nbsp;</span>Конверсия</a></span></li><li><span><a href=\"#Средний-чек\" data-toc-modified-id=\"Средний-чек-3.7.2\"><span class=\"toc-item-num\">3.7.2&nbsp;&nbsp;</span>Средний чек</a></span></li></ul></li><li><span><a href=\"#Статистическая-значимость-различий-по-&quot;очищенным&quot;-данным\" data-toc-modified-id=\"Статистическая-значимость-различий-по-&quot;очищенным&quot;-данным-3.8\"><span class=\"toc-item-num\">3.8&nbsp;&nbsp;</span>Статистическая значимость различий по \"очищенным\" данным</a></span><ul class=\"toc-item\"><li><span><a href=\"#Конверсия\" data-toc-modified-id=\"Конверсия-3.8.1\"><span class=\"toc-item-num\">3.8.1&nbsp;&nbsp;</span>Конверсия</a></span></li><li><span><a href=\"#Средний-чек\" data-toc-modified-id=\"Средний-чек-3.8.2\"><span class=\"toc-item-num\">3.8.2&nbsp;&nbsp;</span>Средний чек</a></span></li></ul></li></ul></li><li><span><a href=\"#Общие-выводы\" data-toc-modified-id=\"Общие-выводы-4\"><span class=\"toc-item-num\">4&nbsp;&nbsp;</span>Общие выводы</a></span></li></ul></div>"
   ]
  },
  {
   "cell_type": "markdown",
   "id": "a0a06395",
   "metadata": {},
   "source": [
    "# Принятие решений в бизнесе на основе данных"
   ]
  },
  {
   "cell_type": "markdown",
   "id": "3c6ec231",
   "metadata": {},
   "source": [
    "## Описание проекта"
   ]
  },
  {
   "cell_type": "markdown",
   "id": "fd8e33be",
   "metadata": {},
   "source": [
    "Вы — аналитик крупного интернет-магазина. Вместе с отделом маркетинга вы подготовили список гипотез для увеличения выручки.\n",
    "Приоритизируйте гипотезы, запустите A/B-тест и проанализируйте результаты."
   ]
  },
  {
   "cell_type": "markdown",
   "id": "43642178",
   "metadata": {},
   "source": [
    "***Цель исследования***\n",
    "\n",
    "- Провести приоритизацию гипотез;\n",
    "- Запустить А/В-тест и проанализировать результаты."
   ]
  },
  {
   "cell_type": "markdown",
   "id": "768cdb32",
   "metadata": {},
   "source": [
    "***Ход исследования***\n",
    "\n",
    "1. Обзор данных, полученных из файлов /datasets/hypothesis.csv, /datasets/orders.csv, /datasets/visitors.csv.\n",
    "2. Приоритизация гипотез с помощью фреймворков ICE и RICE, сравнение результатов.\n",
    "3. Анализ А/В-теста:\n",
    "- График кумулятивной выручки по группам.\n",
    "- График кумулятивного среднего чека по группам.\n",
    "- График относительного изменения кумулятивного среднего чека группы B к группе A.\n",
    "- График кумулятивной конверсии по группам.\n",
    "- График относительного изменения кумулятивной конверсии группы B к группе A.\n",
    "- Точечный график количества заказов по пользователям.\n",
    "- Подсчет 95-го и 99-го перцентилей количества заказов на пользователя. Выбор границы для определения аномальных пользователей.\n",
    "- Точечный график стоимостей заказов.\n",
    "- Подсчет 95-го и 99-го перцентилей стоимости заказов. Выбор границы для определения аномальных заказов.\n",
    "- Подсчет статистической значимости различий в конверсии между группами по «сырым» данным.\n",
    "- Подсчет статистической значимости различий в среднем чеке заказа между группами по «сырым» данным.\n",
    "- Подсчет статистической значимости различий в конверсии между группами по «очищенным» данным.\n",
    "- Подсчет статистической значимости различий в среднем чеке заказа между группами по «очищенным» данным.\n",
    "- Решение по результатам теста."
   ]
  },
  {
   "cell_type": "markdown",
   "id": "237cb08c",
   "metadata": {},
   "source": [
    "***Описание данных***\n",
    "\n",
    "Данные для первой части\n",
    "Файл /datasets/hypothesis.csv\n",
    "- Hypothesis — краткое описание гипотезы;\n",
    "- Reach — охват пользователей по 10-балльной шкале;\n",
    "- Impact — влияние на пользователей по 10-балльной шкале;\n",
    "- Confidence — уверенность в гипотезе по 10-балльной шкале;\n",
    "- Efforts — затраты ресурсов на проверку гипотезы по 10-балльной шкале.\n",
    "\n",
    "\n",
    "Данные для второй части\n",
    "Файл /datasets/orders.csv\n",
    "- transactionId — идентификатор заказа;\n",
    "- visitorId — идентификатор пользователя, совершившего заказ;\n",
    "- date — дата, когда был совершён заказ;\n",
    "- revenue — выручка заказа;\n",
    "- group — группа A/B-теста, в которую попал заказ.\n",
    "\n",
    "Файл /datasets/visitors.csv\n",
    "- date — дата;\n",
    "- group — группа A/B-теста;\n",
    "- visitors — количество пользователей в указанную дату в указанной группе A/B-теста"
   ]
  },
  {
   "cell_type": "markdown",
   "id": "515c7761",
   "metadata": {},
   "source": [
    "## Часть 1. Приоритизация гипотез"
   ]
  },
  {
   "cell_type": "code",
   "execution_count": 1,
   "id": "77100182",
   "metadata": {},
   "outputs": [],
   "source": [
    "import pandas as pd\n",
    "import datetime as dt\n",
    "import numpy as np\n",
    "import matplotlib.pyplot as plt\n",
    "from pandas.plotting import register_matplotlib_converters\n",
    "import warnings\n",
    "from scipy import stats"
   ]
  },
  {
   "cell_type": "code",
   "execution_count": 2,
   "id": "41bd937d",
   "metadata": {
    "scrolled": false
   },
   "outputs": [
    {
     "data": {
      "text/html": [
       "<div>\n",
       "<style scoped>\n",
       "    .dataframe tbody tr th:only-of-type {\n",
       "        vertical-align: middle;\n",
       "    }\n",
       "\n",
       "    .dataframe tbody tr th {\n",
       "        vertical-align: top;\n",
       "    }\n",
       "\n",
       "    .dataframe thead th {\n",
       "        text-align: right;\n",
       "    }\n",
       "</style>\n",
       "<table border=\"1\" class=\"dataframe\">\n",
       "  <thead>\n",
       "    <tr style=\"text-align: right;\">\n",
       "      <th></th>\n",
       "      <th>Hypothesis</th>\n",
       "      <th>Reach</th>\n",
       "      <th>Impact</th>\n",
       "      <th>Confidence</th>\n",
       "      <th>Efforts</th>\n",
       "    </tr>\n",
       "  </thead>\n",
       "  <tbody>\n",
       "    <tr>\n",
       "      <th>0</th>\n",
       "      <td>Добавить два новых канала привлечения трафика,...</td>\n",
       "      <td>3</td>\n",
       "      <td>10</td>\n",
       "      <td>8</td>\n",
       "      <td>6</td>\n",
       "    </tr>\n",
       "    <tr>\n",
       "      <th>1</th>\n",
       "      <td>Запустить собственную службу доставки, что сок...</td>\n",
       "      <td>2</td>\n",
       "      <td>5</td>\n",
       "      <td>4</td>\n",
       "      <td>10</td>\n",
       "    </tr>\n",
       "    <tr>\n",
       "      <th>2</th>\n",
       "      <td>Добавить блоки рекомендаций товаров на сайт ин...</td>\n",
       "      <td>8</td>\n",
       "      <td>3</td>\n",
       "      <td>7</td>\n",
       "      <td>3</td>\n",
       "    </tr>\n",
       "    <tr>\n",
       "      <th>3</th>\n",
       "      <td>Изменить структура категорий, что увеличит кон...</td>\n",
       "      <td>8</td>\n",
       "      <td>3</td>\n",
       "      <td>3</td>\n",
       "      <td>8</td>\n",
       "    </tr>\n",
       "    <tr>\n",
       "      <th>4</th>\n",
       "      <td>Изменить цвет фона главной страницы, чтобы уве...</td>\n",
       "      <td>3</td>\n",
       "      <td>1</td>\n",
       "      <td>1</td>\n",
       "      <td>1</td>\n",
       "    </tr>\n",
       "    <tr>\n",
       "      <th>5</th>\n",
       "      <td>Добавить страницу отзывов клиентов о магазине,...</td>\n",
       "      <td>3</td>\n",
       "      <td>2</td>\n",
       "      <td>2</td>\n",
       "      <td>3</td>\n",
       "    </tr>\n",
       "    <tr>\n",
       "      <th>6</th>\n",
       "      <td>Показать на главной странице баннеры с актуаль...</td>\n",
       "      <td>5</td>\n",
       "      <td>3</td>\n",
       "      <td>8</td>\n",
       "      <td>3</td>\n",
       "    </tr>\n",
       "    <tr>\n",
       "      <th>7</th>\n",
       "      <td>Добавить форму подписки на все основные страни...</td>\n",
       "      <td>10</td>\n",
       "      <td>7</td>\n",
       "      <td>8</td>\n",
       "      <td>5</td>\n",
       "    </tr>\n",
       "    <tr>\n",
       "      <th>8</th>\n",
       "      <td>Запустить акцию, дающую скидку на товар в день...</td>\n",
       "      <td>1</td>\n",
       "      <td>9</td>\n",
       "      <td>9</td>\n",
       "      <td>5</td>\n",
       "    </tr>\n",
       "  </tbody>\n",
       "</table>\n",
       "</div>"
      ],
      "text/plain": [
       "                                          Hypothesis  Reach  Impact  \\\n",
       "0  Добавить два новых канала привлечения трафика,...      3      10   \n",
       "1  Запустить собственную службу доставки, что сок...      2       5   \n",
       "2  Добавить блоки рекомендаций товаров на сайт ин...      8       3   \n",
       "3  Изменить структура категорий, что увеличит кон...      8       3   \n",
       "4  Изменить цвет фона главной страницы, чтобы уве...      3       1   \n",
       "5  Добавить страницу отзывов клиентов о магазине,...      3       2   \n",
       "6  Показать на главной странице баннеры с актуаль...      5       3   \n",
       "7  Добавить форму подписки на все основные страни...     10       7   \n",
       "8  Запустить акцию, дающую скидку на товар в день...      1       9   \n",
       "\n",
       "   Confidence  Efforts  \n",
       "0           8        6  \n",
       "1           4       10  \n",
       "2           7        3  \n",
       "3           3        8  \n",
       "4           1        1  \n",
       "5           2        3  \n",
       "6           8        3  \n",
       "7           8        5  \n",
       "8           9        5  "
      ]
     },
     "execution_count": 2,
     "metadata": {},
     "output_type": "execute_result"
    }
   ],
   "source": [
    "try:\n",
    "    hypothesis = pd.read_csv('/datasets/hypothesis.csv')\n",
    "    orders = pd.read_csv('/datasets/orders.csv')\n",
    "    visitors = pd.read_csv('/datasets/visitors.csv')\n",
    "    \n",
    "except:\n",
    "    hypothesis = pd.read_csv('C:\\\\Users\\\\79199\\\\Documents\\\\Учёба\\\\Аналитика\\\\Сборные проекты\\\\СП-6\\\\hypothesis.csv')\n",
    "    orders = pd.read_csv('C:\\\\Users\\\\79199\\\\Documents\\\\Учёба\\\\Аналитика\\\\Сборные проекты\\\\СП-6\\\\orders.csv')\n",
    "    visitors = pd.read_csv('C:\\\\Users\\\\79199\\\\Documents\\\\Учёба\\\\Аналитика\\\\Сборные проекты\\\\СП-6\\\\visitors.csv')\n",
    "        \n",
    "      \n",
    "hypothesis.head(15)"
   ]
  },
  {
   "cell_type": "markdown",
   "id": "f9de42bc",
   "metadata": {},
   "source": [
    "Скорректируем названия столбцов."
   ]
  },
  {
   "cell_type": "code",
   "execution_count": 3,
   "id": "47018246",
   "metadata": {},
   "outputs": [],
   "source": [
    "hypothesis = hypothesis.rename(columns={'Hypothesis' : 'hypothesis', 'Reach' : 'reach', 'Impact' : 'impact', 'Confidence' : 'confidence', 'Efforts' : 'efforts'})"
   ]
  },
  {
   "cell_type": "code",
   "execution_count": 4,
   "id": "f4cfee98",
   "metadata": {},
   "outputs": [
    {
     "data": {
      "text/html": [
       "<div>\n",
       "<style scoped>\n",
       "    .dataframe tbody tr th:only-of-type {\n",
       "        vertical-align: middle;\n",
       "    }\n",
       "\n",
       "    .dataframe tbody tr th {\n",
       "        vertical-align: top;\n",
       "    }\n",
       "\n",
       "    .dataframe thead th {\n",
       "        text-align: right;\n",
       "    }\n",
       "</style>\n",
       "<table border=\"1\" class=\"dataframe\">\n",
       "  <thead>\n",
       "    <tr style=\"text-align: right;\">\n",
       "      <th></th>\n",
       "      <th>hypothesis</th>\n",
       "      <th>reach</th>\n",
       "      <th>impact</th>\n",
       "      <th>confidence</th>\n",
       "      <th>efforts</th>\n",
       "    </tr>\n",
       "  </thead>\n",
       "  <tbody>\n",
       "    <tr>\n",
       "      <th>0</th>\n",
       "      <td>Добавить два новых канала привлечения трафика, что позволит привлекать на 30% больше пользователей</td>\n",
       "      <td>3</td>\n",
       "      <td>10</td>\n",
       "      <td>8</td>\n",
       "      <td>6</td>\n",
       "    </tr>\n",
       "    <tr>\n",
       "      <th>1</th>\n",
       "      <td>Запустить собственную службу доставки, что сократит срок доставки заказов</td>\n",
       "      <td>2</td>\n",
       "      <td>5</td>\n",
       "      <td>4</td>\n",
       "      <td>10</td>\n",
       "    </tr>\n",
       "    <tr>\n",
       "      <th>2</th>\n",
       "      <td>Добавить блоки рекомендаций товаров на сайт интернет магазина, чтобы повысить конверсию и средний чек заказа</td>\n",
       "      <td>8</td>\n",
       "      <td>3</td>\n",
       "      <td>7</td>\n",
       "      <td>3</td>\n",
       "    </tr>\n",
       "    <tr>\n",
       "      <th>3</th>\n",
       "      <td>Изменить структура категорий, что увеличит конверсию, т.к. пользователи быстрее найдут нужный товар</td>\n",
       "      <td>8</td>\n",
       "      <td>3</td>\n",
       "      <td>3</td>\n",
       "      <td>8</td>\n",
       "    </tr>\n",
       "    <tr>\n",
       "      <th>4</th>\n",
       "      <td>Изменить цвет фона главной страницы, чтобы увеличить вовлеченность пользователей</td>\n",
       "      <td>3</td>\n",
       "      <td>1</td>\n",
       "      <td>1</td>\n",
       "      <td>1</td>\n",
       "    </tr>\n",
       "    <tr>\n",
       "      <th>5</th>\n",
       "      <td>Добавить страницу отзывов клиентов о магазине, что позволит увеличить количество заказов</td>\n",
       "      <td>3</td>\n",
       "      <td>2</td>\n",
       "      <td>2</td>\n",
       "      <td>3</td>\n",
       "    </tr>\n",
       "    <tr>\n",
       "      <th>6</th>\n",
       "      <td>Показать на главной странице баннеры с актуальными акциями и распродажами, чтобы увеличить конверсию</td>\n",
       "      <td>5</td>\n",
       "      <td>3</td>\n",
       "      <td>8</td>\n",
       "      <td>3</td>\n",
       "    </tr>\n",
       "    <tr>\n",
       "      <th>7</th>\n",
       "      <td>Добавить форму подписки на все основные страницы, чтобы собрать базу клиентов для email-рассылок</td>\n",
       "      <td>10</td>\n",
       "      <td>7</td>\n",
       "      <td>8</td>\n",
       "      <td>5</td>\n",
       "    </tr>\n",
       "    <tr>\n",
       "      <th>8</th>\n",
       "      <td>Запустить акцию, дающую скидку на товар в день рождения</td>\n",
       "      <td>1</td>\n",
       "      <td>9</td>\n",
       "      <td>9</td>\n",
       "      <td>5</td>\n",
       "    </tr>\n",
       "  </tbody>\n",
       "</table>\n",
       "</div>"
      ],
      "text/plain": [
       "                                                                                                     hypothesis  \\\n",
       "0            Добавить два новых канала привлечения трафика, что позволит привлекать на 30% больше пользователей   \n",
       "1                                     Запустить собственную службу доставки, что сократит срок доставки заказов   \n",
       "2  Добавить блоки рекомендаций товаров на сайт интернет магазина, чтобы повысить конверсию и средний чек заказа   \n",
       "3           Изменить структура категорий, что увеличит конверсию, т.к. пользователи быстрее найдут нужный товар   \n",
       "4                              Изменить цвет фона главной страницы, чтобы увеличить вовлеченность пользователей   \n",
       "5                      Добавить страницу отзывов клиентов о магазине, что позволит увеличить количество заказов   \n",
       "6          Показать на главной странице баннеры с актуальными акциями и распродажами, чтобы увеличить конверсию   \n",
       "7              Добавить форму подписки на все основные страницы, чтобы собрать базу клиентов для email-рассылок   \n",
       "8                                                       Запустить акцию, дающую скидку на товар в день рождения   \n",
       "\n",
       "   reach  impact  confidence  efforts  \n",
       "0      3      10           8        6  \n",
       "1      2       5           4       10  \n",
       "2      8       3           7        3  \n",
       "3      8       3           3        8  \n",
       "4      3       1           1        1  \n",
       "5      3       2           2        3  \n",
       "6      5       3           8        3  \n",
       "7     10       7           8        5  \n",
       "8      1       9           9        5  "
      ]
     },
     "execution_count": 4,
     "metadata": {},
     "output_type": "execute_result"
    }
   ],
   "source": [
    "# отобразим описание гипотезы полностью \n",
    "pd.options.display.max_colwidth = 120\n",
    "hypothesis"
   ]
  },
  {
   "cell_type": "markdown",
   "id": "f232b9e2",
   "metadata": {},
   "source": [
    "Применим фреймворки ICE и RICE для приоритизации гипотез, сравним результаты."
   ]
  },
  {
   "cell_type": "code",
   "execution_count": 5,
   "id": "1315d300",
   "metadata": {},
   "outputs": [],
   "source": [
    "pd.options.display.max_colwidth = 50"
   ]
  },
  {
   "cell_type": "code",
   "execution_count": 6,
   "id": "f50d0b52",
   "metadata": {},
   "outputs": [
    {
     "name": "stdout",
     "output_type": "stream",
     "text": [
      "                                          hypothesis    ICE\n",
      "8  Запустить акцию, дающую скидку на товар в день...  16.20\n",
      "0  Добавить два новых канала привлечения трафика,...  13.33\n",
      "7  Добавить форму подписки на все основные страни...  11.20\n",
      "6  Показать на главной странице баннеры с актуаль...   8.00\n",
      "2  Добавить блоки рекомендаций товаров на сайт ин...   7.00\n",
      "1  Запустить собственную службу доставки, что сок...   2.00\n",
      "5  Добавить страницу отзывов клиентов о магазине,...   1.33\n",
      "3  Изменить структура категорий, что увеличит кон...   1.12\n",
      "4  Изменить цвет фона главной страницы, чтобы уве...   1.00\n"
     ]
    }
   ],
   "source": [
    "hypothesis['ICE'] = ((hypothesis['impact'] * hypothesis['confidence']) / hypothesis['efforts']).round(2) # напишите ваш код здесь\n",
    "\n",
    "print(hypothesis[['hypothesis', 'ICE']].sort_values(by='ICE', ascending=False))"
   ]
  },
  {
   "cell_type": "code",
   "execution_count": 7,
   "id": "5383b881",
   "metadata": {
    "scrolled": false
   },
   "outputs": [
    {
     "name": "stdout",
     "output_type": "stream",
     "text": [
      "                                          hypothesis   RICE\n",
      "7  Добавить форму подписки на все основные страни...  112.0\n",
      "2  Добавить блоки рекомендаций товаров на сайт ин...   56.0\n",
      "0  Добавить два новых канала привлечения трафика,...   40.0\n",
      "6  Показать на главной странице баннеры с актуаль...   40.0\n",
      "8  Запустить акцию, дающую скидку на товар в день...   16.2\n",
      "3  Изменить структура категорий, что увеличит кон...    9.0\n",
      "1  Запустить собственную службу доставки, что сок...    4.0\n",
      "5  Добавить страницу отзывов клиентов о магазине,...    4.0\n",
      "4  Изменить цвет фона главной страницы, чтобы уве...    3.0\n"
     ]
    }
   ],
   "source": [
    "hypothesis['RICE'] = (hypothesis['reach'] * hypothesis['impact'] * hypothesis['confidence']) / hypothesis['efforts']\n",
    "print(hypothesis[['hypothesis', 'RICE']].sort_values(by='RICE', ascending=False))"
   ]
  },
  {
   "cell_type": "code",
   "execution_count": 8,
   "id": "487c486b",
   "metadata": {},
   "outputs": [
    {
     "data": {
      "text/html": [
       "<div>\n",
       "<style scoped>\n",
       "    .dataframe tbody tr th:only-of-type {\n",
       "        vertical-align: middle;\n",
       "    }\n",
       "\n",
       "    .dataframe tbody tr th {\n",
       "        vertical-align: top;\n",
       "    }\n",
       "\n",
       "    .dataframe thead th {\n",
       "        text-align: right;\n",
       "    }\n",
       "</style>\n",
       "<table border=\"1\" class=\"dataframe\">\n",
       "  <thead>\n",
       "    <tr style=\"text-align: right;\">\n",
       "      <th></th>\n",
       "      <th>hypothesis</th>\n",
       "      <th>reach</th>\n",
       "      <th>impact</th>\n",
       "      <th>confidence</th>\n",
       "      <th>efforts</th>\n",
       "      <th>ICE</th>\n",
       "      <th>RICE</th>\n",
       "    </tr>\n",
       "  </thead>\n",
       "  <tbody>\n",
       "    <tr>\n",
       "      <th>0</th>\n",
       "      <td>Добавить два новых канала привлечения трафика,...</td>\n",
       "      <td>3</td>\n",
       "      <td>10</td>\n",
       "      <td>8</td>\n",
       "      <td>6</td>\n",
       "      <td>13.33</td>\n",
       "      <td>40.0</td>\n",
       "    </tr>\n",
       "    <tr>\n",
       "      <th>1</th>\n",
       "      <td>Запустить собственную службу доставки, что сок...</td>\n",
       "      <td>2</td>\n",
       "      <td>5</td>\n",
       "      <td>4</td>\n",
       "      <td>10</td>\n",
       "      <td>2.00</td>\n",
       "      <td>4.0</td>\n",
       "    </tr>\n",
       "    <tr>\n",
       "      <th>2</th>\n",
       "      <td>Добавить блоки рекомендаций товаров на сайт ин...</td>\n",
       "      <td>8</td>\n",
       "      <td>3</td>\n",
       "      <td>7</td>\n",
       "      <td>3</td>\n",
       "      <td>7.00</td>\n",
       "      <td>56.0</td>\n",
       "    </tr>\n",
       "    <tr>\n",
       "      <th>3</th>\n",
       "      <td>Изменить структура категорий, что увеличит кон...</td>\n",
       "      <td>8</td>\n",
       "      <td>3</td>\n",
       "      <td>3</td>\n",
       "      <td>8</td>\n",
       "      <td>1.12</td>\n",
       "      <td>9.0</td>\n",
       "    </tr>\n",
       "    <tr>\n",
       "      <th>4</th>\n",
       "      <td>Изменить цвет фона главной страницы, чтобы уве...</td>\n",
       "      <td>3</td>\n",
       "      <td>1</td>\n",
       "      <td>1</td>\n",
       "      <td>1</td>\n",
       "      <td>1.00</td>\n",
       "      <td>3.0</td>\n",
       "    </tr>\n",
       "    <tr>\n",
       "      <th>5</th>\n",
       "      <td>Добавить страницу отзывов клиентов о магазине,...</td>\n",
       "      <td>3</td>\n",
       "      <td>2</td>\n",
       "      <td>2</td>\n",
       "      <td>3</td>\n",
       "      <td>1.33</td>\n",
       "      <td>4.0</td>\n",
       "    </tr>\n",
       "    <tr>\n",
       "      <th>6</th>\n",
       "      <td>Показать на главной странице баннеры с актуаль...</td>\n",
       "      <td>5</td>\n",
       "      <td>3</td>\n",
       "      <td>8</td>\n",
       "      <td>3</td>\n",
       "      <td>8.00</td>\n",
       "      <td>40.0</td>\n",
       "    </tr>\n",
       "    <tr>\n",
       "      <th>7</th>\n",
       "      <td>Добавить форму подписки на все основные страни...</td>\n",
       "      <td>10</td>\n",
       "      <td>7</td>\n",
       "      <td>8</td>\n",
       "      <td>5</td>\n",
       "      <td>11.20</td>\n",
       "      <td>112.0</td>\n",
       "    </tr>\n",
       "    <tr>\n",
       "      <th>8</th>\n",
       "      <td>Запустить акцию, дающую скидку на товар в день...</td>\n",
       "      <td>1</td>\n",
       "      <td>9</td>\n",
       "      <td>9</td>\n",
       "      <td>5</td>\n",
       "      <td>16.20</td>\n",
       "      <td>16.2</td>\n",
       "    </tr>\n",
       "  </tbody>\n",
       "</table>\n",
       "</div>"
      ],
      "text/plain": [
       "                                          hypothesis  reach  impact  \\\n",
       "0  Добавить два новых канала привлечения трафика,...      3      10   \n",
       "1  Запустить собственную службу доставки, что сок...      2       5   \n",
       "2  Добавить блоки рекомендаций товаров на сайт ин...      8       3   \n",
       "3  Изменить структура категорий, что увеличит кон...      8       3   \n",
       "4  Изменить цвет фона главной страницы, чтобы уве...      3       1   \n",
       "5  Добавить страницу отзывов клиентов о магазине,...      3       2   \n",
       "6  Показать на главной странице баннеры с актуаль...      5       3   \n",
       "7  Добавить форму подписки на все основные страни...     10       7   \n",
       "8  Запустить акцию, дающую скидку на товар в день...      1       9   \n",
       "\n",
       "   confidence  efforts    ICE   RICE  \n",
       "0           8        6  13.33   40.0  \n",
       "1           4       10   2.00    4.0  \n",
       "2           7        3   7.00   56.0  \n",
       "3           3        8   1.12    9.0  \n",
       "4           1        1   1.00    3.0  \n",
       "5           2        3   1.33    4.0  \n",
       "6           8        3   8.00   40.0  \n",
       "7           8        5  11.20  112.0  \n",
       "8           9        5  16.20   16.2  "
      ]
     },
     "execution_count": 8,
     "metadata": {},
     "output_type": "execute_result"
    }
   ],
   "source": [
    "hypothesis"
   ]
  },
  {
   "cell_type": "markdown",
   "id": "a63f4b74",
   "metadata": {},
   "source": [
    "Выводы:при применении фреймворка ICE на первом месте оказалась гипотеза 8 (скидка в день рождения). Однако Reach этой гипотезы мал, поэтому при применении RICE она выбыла из списка наиболее перспективных, спустившись с 1-го на 5-ое место. Гипотезы 0 и 7 оказались в числе лидеров при применении обоих фреймворков. В случае гипотезы 0 (добавить два новых канала для привлечения трафика) параметры impact и confidence так высоки (10 и 8), что даже учет малого охвата пользователей опустил гипотезу всего на один пункт, с 2-го на 3-е место. То же можно сказать про гипотезу 7 (добавить форму подписки на основные страницы), с той лишь разницей, что у нее и охват максимально высок. При применении RICE в списке лидеров появилась гипотеза 2 (добавить блоки рекомендаций), также за счет ширины охвата."
   ]
  },
  {
   "cell_type": "markdown",
   "id": "53f217ec",
   "metadata": {},
   "source": [
    "## Часть 2. Анализ A/B-теста"
   ]
  },
  {
   "cell_type": "code",
   "execution_count": 9,
   "id": "bd8ee21d",
   "metadata": {},
   "outputs": [
    {
     "data": {
      "text/html": [
       "<div>\n",
       "<style scoped>\n",
       "    .dataframe tbody tr th:only-of-type {\n",
       "        vertical-align: middle;\n",
       "    }\n",
       "\n",
       "    .dataframe tbody tr th {\n",
       "        vertical-align: top;\n",
       "    }\n",
       "\n",
       "    .dataframe thead th {\n",
       "        text-align: right;\n",
       "    }\n",
       "</style>\n",
       "<table border=\"1\" class=\"dataframe\">\n",
       "  <thead>\n",
       "    <tr style=\"text-align: right;\">\n",
       "      <th></th>\n",
       "      <th>transactionId</th>\n",
       "      <th>visitorId</th>\n",
       "      <th>date</th>\n",
       "      <th>revenue</th>\n",
       "      <th>group</th>\n",
       "    </tr>\n",
       "  </thead>\n",
       "  <tbody>\n",
       "    <tr>\n",
       "      <th>0</th>\n",
       "      <td>3667963787</td>\n",
       "      <td>3312258926</td>\n",
       "      <td>2019-08-15</td>\n",
       "      <td>1650</td>\n",
       "      <td>B</td>\n",
       "    </tr>\n",
       "    <tr>\n",
       "      <th>1</th>\n",
       "      <td>2804400009</td>\n",
       "      <td>3642806036</td>\n",
       "      <td>2019-08-15</td>\n",
       "      <td>730</td>\n",
       "      <td>B</td>\n",
       "    </tr>\n",
       "    <tr>\n",
       "      <th>2</th>\n",
       "      <td>2961555356</td>\n",
       "      <td>4069496402</td>\n",
       "      <td>2019-08-15</td>\n",
       "      <td>400</td>\n",
       "      <td>A</td>\n",
       "    </tr>\n",
       "    <tr>\n",
       "      <th>3</th>\n",
       "      <td>3797467345</td>\n",
       "      <td>1196621759</td>\n",
       "      <td>2019-08-15</td>\n",
       "      <td>9759</td>\n",
       "      <td>B</td>\n",
       "    </tr>\n",
       "    <tr>\n",
       "      <th>4</th>\n",
       "      <td>2282983706</td>\n",
       "      <td>2322279887</td>\n",
       "      <td>2019-08-15</td>\n",
       "      <td>2308</td>\n",
       "      <td>B</td>\n",
       "    </tr>\n",
       "    <tr>\n",
       "      <th>5</th>\n",
       "      <td>182168103</td>\n",
       "      <td>935554773</td>\n",
       "      <td>2019-08-15</td>\n",
       "      <td>2210</td>\n",
       "      <td>B</td>\n",
       "    </tr>\n",
       "    <tr>\n",
       "      <th>6</th>\n",
       "      <td>398296753</td>\n",
       "      <td>2900797465</td>\n",
       "      <td>2019-08-15</td>\n",
       "      <td>1860</td>\n",
       "      <td>B</td>\n",
       "    </tr>\n",
       "    <tr>\n",
       "      <th>7</th>\n",
       "      <td>2626614568</td>\n",
       "      <td>78758296</td>\n",
       "      <td>2019-08-15</td>\n",
       "      <td>1044</td>\n",
       "      <td>A</td>\n",
       "    </tr>\n",
       "    <tr>\n",
       "      <th>8</th>\n",
       "      <td>1576988021</td>\n",
       "      <td>295230930</td>\n",
       "      <td>2019-08-15</td>\n",
       "      <td>13710</td>\n",
       "      <td>A</td>\n",
       "    </tr>\n",
       "    <tr>\n",
       "      <th>9</th>\n",
       "      <td>1506739906</td>\n",
       "      <td>1882260405</td>\n",
       "      <td>2019-08-15</td>\n",
       "      <td>1855</td>\n",
       "      <td>B</td>\n",
       "    </tr>\n",
       "    <tr>\n",
       "      <th>10</th>\n",
       "      <td>3649131742</td>\n",
       "      <td>879864040</td>\n",
       "      <td>2019-08-15</td>\n",
       "      <td>4008</td>\n",
       "      <td>A</td>\n",
       "    </tr>\n",
       "    <tr>\n",
       "      <th>11</th>\n",
       "      <td>1919444843</td>\n",
       "      <td>927791387</td>\n",
       "      <td>2019-08-15</td>\n",
       "      <td>4499</td>\n",
       "      <td>B</td>\n",
       "    </tr>\n",
       "    <tr>\n",
       "      <th>12</th>\n",
       "      <td>2809384911</td>\n",
       "      <td>3213223594</td>\n",
       "      <td>2019-08-15</td>\n",
       "      <td>7370</td>\n",
       "      <td>A</td>\n",
       "    </tr>\n",
       "    <tr>\n",
       "      <th>13</th>\n",
       "      <td>3044797713</td>\n",
       "      <td>728063420</td>\n",
       "      <td>2019-08-15</td>\n",
       "      <td>11985</td>\n",
       "      <td>B</td>\n",
       "    </tr>\n",
       "    <tr>\n",
       "      <th>14</th>\n",
       "      <td>3859315276</td>\n",
       "      <td>1565034404</td>\n",
       "      <td>2019-08-15</td>\n",
       "      <td>10980</td>\n",
       "      <td>A</td>\n",
       "    </tr>\n",
       "  </tbody>\n",
       "</table>\n",
       "</div>"
      ],
      "text/plain": [
       "    transactionId   visitorId        date  revenue group\n",
       "0      3667963787  3312258926  2019-08-15     1650     B\n",
       "1      2804400009  3642806036  2019-08-15      730     B\n",
       "2      2961555356  4069496402  2019-08-15      400     A\n",
       "3      3797467345  1196621759  2019-08-15     9759     B\n",
       "4      2282983706  2322279887  2019-08-15     2308     B\n",
       "5       182168103   935554773  2019-08-15     2210     B\n",
       "6       398296753  2900797465  2019-08-15     1860     B\n",
       "7      2626614568    78758296  2019-08-15     1044     A\n",
       "8      1576988021   295230930  2019-08-15    13710     A\n",
       "9      1506739906  1882260405  2019-08-15     1855     B\n",
       "10     3649131742   879864040  2019-08-15     4008     A\n",
       "11     1919444843   927791387  2019-08-15     4499     B\n",
       "12     2809384911  3213223594  2019-08-15     7370     A\n",
       "13     3044797713   728063420  2019-08-15    11985     B\n",
       "14     3859315276  1565034404  2019-08-15    10980     A"
      ]
     },
     "execution_count": 9,
     "metadata": {},
     "output_type": "execute_result"
    }
   ],
   "source": [
    "orders.head(15)"
   ]
  },
  {
   "cell_type": "code",
   "execution_count": 10,
   "id": "229e22a3",
   "metadata": {},
   "outputs": [
    {
     "name": "stdout",
     "output_type": "stream",
     "text": [
      "<class 'pandas.core.frame.DataFrame'>\n",
      "RangeIndex: 1197 entries, 0 to 1196\n",
      "Data columns (total 5 columns):\n",
      " #   Column         Non-Null Count  Dtype \n",
      "---  ------         --------------  ----- \n",
      " 0   transactionId  1197 non-null   int64 \n",
      " 1   visitorId      1197 non-null   int64 \n",
      " 2   date           1197 non-null   object\n",
      " 3   revenue        1197 non-null   int64 \n",
      " 4   group          1197 non-null   object\n",
      "dtypes: int64(3), object(2)\n",
      "memory usage: 46.9+ KB\n"
     ]
    }
   ],
   "source": [
    "orders.info()"
   ]
  },
  {
   "cell_type": "code",
   "execution_count": 11,
   "id": "c9c20c2a",
   "metadata": {
    "scrolled": true
   },
   "outputs": [
    {
     "data": {
      "text/html": [
       "<div>\n",
       "<style scoped>\n",
       "    .dataframe tbody tr th:only-of-type {\n",
       "        vertical-align: middle;\n",
       "    }\n",
       "\n",
       "    .dataframe tbody tr th {\n",
       "        vertical-align: top;\n",
       "    }\n",
       "\n",
       "    .dataframe thead th {\n",
       "        text-align: right;\n",
       "    }\n",
       "</style>\n",
       "<table border=\"1\" class=\"dataframe\">\n",
       "  <thead>\n",
       "    <tr style=\"text-align: right;\">\n",
       "      <th></th>\n",
       "      <th>date</th>\n",
       "      <th>group</th>\n",
       "      <th>visitors</th>\n",
       "    </tr>\n",
       "  </thead>\n",
       "  <tbody>\n",
       "    <tr>\n",
       "      <th>0</th>\n",
       "      <td>2019-08-01</td>\n",
       "      <td>A</td>\n",
       "      <td>719</td>\n",
       "    </tr>\n",
       "    <tr>\n",
       "      <th>1</th>\n",
       "      <td>2019-08-02</td>\n",
       "      <td>A</td>\n",
       "      <td>619</td>\n",
       "    </tr>\n",
       "    <tr>\n",
       "      <th>2</th>\n",
       "      <td>2019-08-03</td>\n",
       "      <td>A</td>\n",
       "      <td>507</td>\n",
       "    </tr>\n",
       "    <tr>\n",
       "      <th>3</th>\n",
       "      <td>2019-08-04</td>\n",
       "      <td>A</td>\n",
       "      <td>717</td>\n",
       "    </tr>\n",
       "    <tr>\n",
       "      <th>4</th>\n",
       "      <td>2019-08-05</td>\n",
       "      <td>A</td>\n",
       "      <td>756</td>\n",
       "    </tr>\n",
       "    <tr>\n",
       "      <th>5</th>\n",
       "      <td>2019-08-06</td>\n",
       "      <td>A</td>\n",
       "      <td>667</td>\n",
       "    </tr>\n",
       "    <tr>\n",
       "      <th>6</th>\n",
       "      <td>2019-08-07</td>\n",
       "      <td>A</td>\n",
       "      <td>644</td>\n",
       "    </tr>\n",
       "    <tr>\n",
       "      <th>7</th>\n",
       "      <td>2019-08-08</td>\n",
       "      <td>A</td>\n",
       "      <td>610</td>\n",
       "    </tr>\n",
       "    <tr>\n",
       "      <th>8</th>\n",
       "      <td>2019-08-09</td>\n",
       "      <td>A</td>\n",
       "      <td>617</td>\n",
       "    </tr>\n",
       "    <tr>\n",
       "      <th>9</th>\n",
       "      <td>2019-08-10</td>\n",
       "      <td>A</td>\n",
       "      <td>406</td>\n",
       "    </tr>\n",
       "    <tr>\n",
       "      <th>10</th>\n",
       "      <td>2019-08-11</td>\n",
       "      <td>A</td>\n",
       "      <td>718</td>\n",
       "    </tr>\n",
       "    <tr>\n",
       "      <th>11</th>\n",
       "      <td>2019-08-12</td>\n",
       "      <td>A</td>\n",
       "      <td>595</td>\n",
       "    </tr>\n",
       "    <tr>\n",
       "      <th>12</th>\n",
       "      <td>2019-08-13</td>\n",
       "      <td>A</td>\n",
       "      <td>748</td>\n",
       "    </tr>\n",
       "    <tr>\n",
       "      <th>13</th>\n",
       "      <td>2019-08-14</td>\n",
       "      <td>A</td>\n",
       "      <td>735</td>\n",
       "    </tr>\n",
       "    <tr>\n",
       "      <th>14</th>\n",
       "      <td>2019-08-15</td>\n",
       "      <td>A</td>\n",
       "      <td>628</td>\n",
       "    </tr>\n",
       "  </tbody>\n",
       "</table>\n",
       "</div>"
      ],
      "text/plain": [
       "          date group  visitors\n",
       "0   2019-08-01     A       719\n",
       "1   2019-08-02     A       619\n",
       "2   2019-08-03     A       507\n",
       "3   2019-08-04     A       717\n",
       "4   2019-08-05     A       756\n",
       "5   2019-08-06     A       667\n",
       "6   2019-08-07     A       644\n",
       "7   2019-08-08     A       610\n",
       "8   2019-08-09     A       617\n",
       "9   2019-08-10     A       406\n",
       "10  2019-08-11     A       718\n",
       "11  2019-08-12     A       595\n",
       "12  2019-08-13     A       748\n",
       "13  2019-08-14     A       735\n",
       "14  2019-08-15     A       628"
      ]
     },
     "execution_count": 11,
     "metadata": {},
     "output_type": "execute_result"
    }
   ],
   "source": [
    "visitors.head(15)"
   ]
  },
  {
   "cell_type": "code",
   "execution_count": 12,
   "id": "868ff75b",
   "metadata": {},
   "outputs": [
    {
     "name": "stdout",
     "output_type": "stream",
     "text": [
      "<class 'pandas.core.frame.DataFrame'>\n",
      "RangeIndex: 62 entries, 0 to 61\n",
      "Data columns (total 3 columns):\n",
      " #   Column    Non-Null Count  Dtype \n",
      "---  ------    --------------  ----- \n",
      " 0   date      62 non-null     object\n",
      " 1   group     62 non-null     object\n",
      " 2   visitors  62 non-null     int64 \n",
      "dtypes: int64(1), object(2)\n",
      "memory usage: 1.6+ KB\n"
     ]
    }
   ],
   "source": [
    "visitors.info()"
   ]
  },
  {
   "cell_type": "code",
   "execution_count": 13,
   "id": "ce64d52c",
   "metadata": {},
   "outputs": [],
   "source": [
    "# перевод в формат datetime\n",
    "orders['date'] = pd.to_datetime(orders['date'])\n",
    "visitors['date'] = pd.to_datetime(visitors['date'])"
   ]
  },
  {
   "cell_type": "code",
   "execution_count": 14,
   "id": "0b70dc28",
   "metadata": {
    "scrolled": false
   },
   "outputs": [
    {
     "data": {
      "text/plain": [
       "0"
      ]
     },
     "execution_count": 14,
     "metadata": {},
     "output_type": "execute_result"
    }
   ],
   "source": [
    "# проверка на дубликаты\n",
    "orders.duplicated().sum()"
   ]
  },
  {
   "cell_type": "code",
   "execution_count": 15,
   "id": "70c420d3",
   "metadata": {},
   "outputs": [
    {
     "data": {
      "text/plain": [
       "0"
      ]
     },
     "execution_count": 15,
     "metadata": {},
     "output_type": "execute_result"
    }
   ],
   "source": [
    "visitors.duplicated().sum()"
   ]
  },
  {
   "cell_type": "markdown",
   "id": "995083e2",
   "metadata": {},
   "source": [
    "Проверим, нет ли в датасете пользователей, которые присутствуют одновременно в обоих сегментах. Удалим их, если они присутствуют."
   ]
  },
  {
   "cell_type": "code",
   "execution_count": 16,
   "id": "f4799168",
   "metadata": {
    "scrolled": false
   },
   "outputs": [],
   "source": [
    "#duplicates = orders.loc[orders['group'] == 'A', 'visitorId'].isin(orders.loc[orders['group'] == 'B', 'visitorId'])\n",
    "#orders = orders.drop(duplicates[duplicates].index)\n",
    "#orders.info()"
   ]
  },
  {
   "cell_type": "code",
   "execution_count": 17,
   "id": "624f2f86",
   "metadata": {
    "scrolled": true
   },
   "outputs": [
    {
     "data": {
      "text/html": [
       "<div>\n",
       "<style scoped>\n",
       "    .dataframe tbody tr th:only-of-type {\n",
       "        vertical-align: middle;\n",
       "    }\n",
       "\n",
       "    .dataframe tbody tr th {\n",
       "        vertical-align: top;\n",
       "    }\n",
       "\n",
       "    .dataframe thead th {\n",
       "        text-align: right;\n",
       "    }\n",
       "</style>\n",
       "<table border=\"1\" class=\"dataframe\">\n",
       "  <thead>\n",
       "    <tr style=\"text-align: right;\">\n",
       "      <th></th>\n",
       "      <th>transactionId</th>\n",
       "      <th>visitorId</th>\n",
       "      <th>date</th>\n",
       "      <th>revenue</th>\n",
       "      <th>group</th>\n",
       "    </tr>\n",
       "  </thead>\n",
       "  <tbody>\n",
       "    <tr>\n",
       "      <th>0</th>\n",
       "      <td>3667963787</td>\n",
       "      <td>3312258926</td>\n",
       "      <td>2019-08-15</td>\n",
       "      <td>1650</td>\n",
       "      <td>B</td>\n",
       "    </tr>\n",
       "    <tr>\n",
       "      <th>1</th>\n",
       "      <td>2804400009</td>\n",
       "      <td>3642806036</td>\n",
       "      <td>2019-08-15</td>\n",
       "      <td>730</td>\n",
       "      <td>B</td>\n",
       "    </tr>\n",
       "    <tr>\n",
       "      <th>2</th>\n",
       "      <td>2961555356</td>\n",
       "      <td>4069496402</td>\n",
       "      <td>2019-08-15</td>\n",
       "      <td>400</td>\n",
       "      <td>A</td>\n",
       "    </tr>\n",
       "    <tr>\n",
       "      <th>3</th>\n",
       "      <td>3797467345</td>\n",
       "      <td>1196621759</td>\n",
       "      <td>2019-08-15</td>\n",
       "      <td>9759</td>\n",
       "      <td>B</td>\n",
       "    </tr>\n",
       "    <tr>\n",
       "      <th>4</th>\n",
       "      <td>2282983706</td>\n",
       "      <td>2322279887</td>\n",
       "      <td>2019-08-15</td>\n",
       "      <td>2308</td>\n",
       "      <td>B</td>\n",
       "    </tr>\n",
       "    <tr>\n",
       "      <th>...</th>\n",
       "      <td>...</td>\n",
       "      <td>...</td>\n",
       "      <td>...</td>\n",
       "      <td>...</td>\n",
       "      <td>...</td>\n",
       "    </tr>\n",
       "    <tr>\n",
       "      <th>1192</th>\n",
       "      <td>2662137336</td>\n",
       "      <td>3733762160</td>\n",
       "      <td>2019-08-14</td>\n",
       "      <td>6490</td>\n",
       "      <td>B</td>\n",
       "    </tr>\n",
       "    <tr>\n",
       "      <th>1193</th>\n",
       "      <td>2203539145</td>\n",
       "      <td>370388673</td>\n",
       "      <td>2019-08-14</td>\n",
       "      <td>3190</td>\n",
       "      <td>A</td>\n",
       "    </tr>\n",
       "    <tr>\n",
       "      <th>1194</th>\n",
       "      <td>1807773912</td>\n",
       "      <td>573423106</td>\n",
       "      <td>2019-08-14</td>\n",
       "      <td>10550</td>\n",
       "      <td>A</td>\n",
       "    </tr>\n",
       "    <tr>\n",
       "      <th>1195</th>\n",
       "      <td>1947021204</td>\n",
       "      <td>1614305549</td>\n",
       "      <td>2019-08-14</td>\n",
       "      <td>100</td>\n",
       "      <td>A</td>\n",
       "    </tr>\n",
       "    <tr>\n",
       "      <th>1196</th>\n",
       "      <td>3936777065</td>\n",
       "      <td>2108080724</td>\n",
       "      <td>2019-08-15</td>\n",
       "      <td>202740</td>\n",
       "      <td>B</td>\n",
       "    </tr>\n",
       "  </tbody>\n",
       "</table>\n",
       "<p>1197 rows × 5 columns</p>\n",
       "</div>"
      ],
      "text/plain": [
       "      transactionId   visitorId       date  revenue group\n",
       "0        3667963787  3312258926 2019-08-15     1650     B\n",
       "1        2804400009  3642806036 2019-08-15      730     B\n",
       "2        2961555356  4069496402 2019-08-15      400     A\n",
       "3        3797467345  1196621759 2019-08-15     9759     B\n",
       "4        2282983706  2322279887 2019-08-15     2308     B\n",
       "...             ...         ...        ...      ...   ...\n",
       "1192     2662137336  3733762160 2019-08-14     6490     B\n",
       "1193     2203539145   370388673 2019-08-14     3190     A\n",
       "1194     1807773912   573423106 2019-08-14    10550     A\n",
       "1195     1947021204  1614305549 2019-08-14      100     A\n",
       "1196     3936777065  2108080724 2019-08-15   202740     B\n",
       "\n",
       "[1197 rows x 5 columns]"
      ]
     },
     "execution_count": 17,
     "metadata": {},
     "output_type": "execute_result"
    }
   ],
   "source": [
    "orders"
   ]
  },
  {
   "cell_type": "code",
   "execution_count": 18,
   "id": "64999291",
   "metadata": {
    "scrolled": true
   },
   "outputs": [
    {
     "name": "stdout",
     "output_type": "stream",
     "text": [
      "58\n"
     ]
    }
   ],
   "source": [
    "duplicates = set(orders.query('group == \"A\"')['visitorId']) & set(orders.query('group == \"B\"')['visitorId'])\n",
    "print(len(duplicates))"
   ]
  },
  {
   "cell_type": "code",
   "execution_count": 19,
   "id": "80680021",
   "metadata": {},
   "outputs": [],
   "source": [
    "orders.drop(orders[orders['visitorId'].isin(list(duplicates))].index, inplace=True)"
   ]
  },
  {
   "cell_type": "code",
   "execution_count": 20,
   "id": "94c8b295",
   "metadata": {},
   "outputs": [
    {
     "name": "stdout",
     "output_type": "stream",
     "text": [
      "0\n"
     ]
    }
   ],
   "source": [
    "duplicates = set(orders.query('group == \"A\"')['visitorId']) & set(orders.query('group == \"B\"')['visitorId'])\n",
    "print(len(duplicates))"
   ]
  },
  {
   "cell_type": "markdown",
   "id": "56c380a8",
   "metadata": {},
   "source": [
    "Всего в тесте две группы, А и В. Оценим размеры сегментов:"
   ]
  },
  {
   "cell_type": "code",
   "execution_count": 21,
   "id": "a7a06a35",
   "metadata": {},
   "outputs": [
    {
     "data": {
      "text/plain": [
       "468"
      ]
     },
     "execution_count": 21,
     "metadata": {},
     "output_type": "execute_result"
    }
   ],
   "source": [
    "len(orders.loc[orders['group'] == 'A', 'visitorId'])"
   ]
  },
  {
   "cell_type": "code",
   "execution_count": 22,
   "id": "86d578b6",
   "metadata": {
    "scrolled": true
   },
   "outputs": [
    {
     "data": {
      "text/plain": [
       "548"
      ]
     },
     "execution_count": 22,
     "metadata": {},
     "output_type": "execute_result"
    }
   ],
   "source": [
    "len(orders.loc[orders['group'] == 'B', 'visitorId'])"
   ]
  },
  {
   "cell_type": "markdown",
   "id": "dd485ab6",
   "metadata": {},
   "source": [
    "Различие между группами А и В небольшое, можно работать."
   ]
  },
  {
   "cell_type": "markdown",
   "id": "94a10021",
   "metadata": {},
   "source": [
    "Выводы: мы изменили тип данных столбца date на datetime, проверили датафреймы на отсутствие дубликатов. Указали, что в тесте участвуют две группы: в группе А 468 пользователей, в группе В 640 пользователей."
   ]
  },
  {
   "cell_type": "markdown",
   "id": "683d9e0a",
   "metadata": {},
   "source": [
    "### График кумулятивной выручки по группам"
   ]
  },
  {
   "cell_type": "code",
   "execution_count": 23,
   "id": "a4b0b5c0",
   "metadata": {},
   "outputs": [
    {
     "data": {
      "text/html": [
       "<div>\n",
       "<style scoped>\n",
       "    .dataframe tbody tr th:only-of-type {\n",
       "        vertical-align: middle;\n",
       "    }\n",
       "\n",
       "    .dataframe tbody tr th {\n",
       "        vertical-align: top;\n",
       "    }\n",
       "\n",
       "    .dataframe thead th {\n",
       "        text-align: right;\n",
       "    }\n",
       "</style>\n",
       "<table border=\"1\" class=\"dataframe\">\n",
       "  <thead>\n",
       "    <tr style=\"text-align: right;\">\n",
       "      <th></th>\n",
       "      <th>date</th>\n",
       "      <th>group</th>\n",
       "    </tr>\n",
       "  </thead>\n",
       "  <tbody>\n",
       "    <tr>\n",
       "      <th>0</th>\n",
       "      <td>2019-08-15</td>\n",
       "      <td>B</td>\n",
       "    </tr>\n",
       "    <tr>\n",
       "      <th>7</th>\n",
       "      <td>2019-08-15</td>\n",
       "      <td>A</td>\n",
       "    </tr>\n",
       "    <tr>\n",
       "      <th>45</th>\n",
       "      <td>2019-08-16</td>\n",
       "      <td>A</td>\n",
       "    </tr>\n",
       "    <tr>\n",
       "      <th>47</th>\n",
       "      <td>2019-08-16</td>\n",
       "      <td>B</td>\n",
       "    </tr>\n",
       "    <tr>\n",
       "      <th>55</th>\n",
       "      <td>2019-08-01</td>\n",
       "      <td>A</td>\n",
       "    </tr>\n",
       "    <tr>\n",
       "      <th>...</th>\n",
       "      <td>...</td>\n",
       "      <td>...</td>\n",
       "    </tr>\n",
       "    <tr>\n",
       "      <th>1068</th>\n",
       "      <td>2019-08-12</td>\n",
       "      <td>A</td>\n",
       "    </tr>\n",
       "    <tr>\n",
       "      <th>1114</th>\n",
       "      <td>2019-08-13</td>\n",
       "      <td>B</td>\n",
       "    </tr>\n",
       "    <tr>\n",
       "      <th>1116</th>\n",
       "      <td>2019-08-13</td>\n",
       "      <td>A</td>\n",
       "    </tr>\n",
       "    <tr>\n",
       "      <th>1149</th>\n",
       "      <td>2019-08-14</td>\n",
       "      <td>B</td>\n",
       "    </tr>\n",
       "    <tr>\n",
       "      <th>1150</th>\n",
       "      <td>2019-08-14</td>\n",
       "      <td>A</td>\n",
       "    </tr>\n",
       "  </tbody>\n",
       "</table>\n",
       "<p>62 rows × 2 columns</p>\n",
       "</div>"
      ],
      "text/plain": [
       "           date group\n",
       "0    2019-08-15     B\n",
       "7    2019-08-15     A\n",
       "45   2019-08-16     A\n",
       "47   2019-08-16     B\n",
       "55   2019-08-01     A\n",
       "...         ...   ...\n",
       "1068 2019-08-12     A\n",
       "1114 2019-08-13     B\n",
       "1116 2019-08-13     A\n",
       "1149 2019-08-14     B\n",
       "1150 2019-08-14     A\n",
       "\n",
       "[62 rows x 2 columns]"
      ]
     },
     "execution_count": 23,
     "metadata": {},
     "output_type": "execute_result"
    }
   ],
   "source": [
    "# создаем массив уникальных пар значений дат и групп теста\n",
    "datesGroups = orders[['date','group']].drop_duplicates()\n",
    "datesGroups"
   ]
  },
  {
   "cell_type": "code",
   "execution_count": 24,
   "id": "9f2bc955",
   "metadata": {},
   "outputs": [
    {
     "data": {
      "text/html": [
       "<div>\n",
       "<style scoped>\n",
       "    .dataframe tbody tr th:only-of-type {\n",
       "        vertical-align: middle;\n",
       "    }\n",
       "\n",
       "    .dataframe tbody tr th {\n",
       "        vertical-align: top;\n",
       "    }\n",
       "\n",
       "    .dataframe thead th {\n",
       "        text-align: right;\n",
       "    }\n",
       "</style>\n",
       "<table border=\"1\" class=\"dataframe\">\n",
       "  <thead>\n",
       "    <tr style=\"text-align: right;\">\n",
       "      <th></th>\n",
       "      <th>date</th>\n",
       "      <th>group</th>\n",
       "      <th>transactionId</th>\n",
       "      <th>visitorId</th>\n",
       "      <th>revenue</th>\n",
       "    </tr>\n",
       "  </thead>\n",
       "  <tbody>\n",
       "    <tr>\n",
       "      <th>55</th>\n",
       "      <td>2019-08-01</td>\n",
       "      <td>A</td>\n",
       "      <td>23</td>\n",
       "      <td>19</td>\n",
       "      <td>142779</td>\n",
       "    </tr>\n",
       "    <tr>\n",
       "      <th>66</th>\n",
       "      <td>2019-08-01</td>\n",
       "      <td>B</td>\n",
       "      <td>17</td>\n",
       "      <td>17</td>\n",
       "      <td>59758</td>\n",
       "    </tr>\n",
       "    <tr>\n",
       "      <th>175</th>\n",
       "      <td>2019-08-02</td>\n",
       "      <td>A</td>\n",
       "      <td>42</td>\n",
       "      <td>36</td>\n",
       "      <td>234381</td>\n",
       "    </tr>\n",
       "    <tr>\n",
       "      <th>173</th>\n",
       "      <td>2019-08-02</td>\n",
       "      <td>B</td>\n",
       "      <td>40</td>\n",
       "      <td>39</td>\n",
       "      <td>221801</td>\n",
       "    </tr>\n",
       "    <tr>\n",
       "      <th>291</th>\n",
       "      <td>2019-08-03</td>\n",
       "      <td>A</td>\n",
       "      <td>66</td>\n",
       "      <td>60</td>\n",
       "      <td>346854</td>\n",
       "    </tr>\n",
       "    <tr>\n",
       "      <th>...</th>\n",
       "      <td>...</td>\n",
       "      <td>...</td>\n",
       "      <td>...</td>\n",
       "      <td>...</td>\n",
       "      <td>...</td>\n",
       "    </tr>\n",
       "    <tr>\n",
       "      <th>533</th>\n",
       "      <td>2019-08-29</td>\n",
       "      <td>B</td>\n",
       "      <td>510</td>\n",
       "      <td>490</td>\n",
       "      <td>4746610</td>\n",
       "    </tr>\n",
       "    <tr>\n",
       "      <th>757</th>\n",
       "      <td>2019-08-30</td>\n",
       "      <td>A</td>\n",
       "      <td>460</td>\n",
       "      <td>437</td>\n",
       "      <td>3311413</td>\n",
       "    </tr>\n",
       "    <tr>\n",
       "      <th>690</th>\n",
       "      <td>2019-08-30</td>\n",
       "      <td>B</td>\n",
       "      <td>531</td>\n",
       "      <td>511</td>\n",
       "      <td>4955833</td>\n",
       "    </tr>\n",
       "    <tr>\n",
       "      <th>958</th>\n",
       "      <td>2019-08-31</td>\n",
       "      <td>A</td>\n",
       "      <td>468</td>\n",
       "      <td>445</td>\n",
       "      <td>3364656</td>\n",
       "    </tr>\n",
       "    <tr>\n",
       "      <th>930</th>\n",
       "      <td>2019-08-31</td>\n",
       "      <td>B</td>\n",
       "      <td>548</td>\n",
       "      <td>528</td>\n",
       "      <td>5068972</td>\n",
       "    </tr>\n",
       "  </tbody>\n",
       "</table>\n",
       "<p>62 rows × 5 columns</p>\n",
       "</div>"
      ],
      "text/plain": [
       "          date group  transactionId  visitorId  revenue\n",
       "55  2019-08-01     A             23         19   142779\n",
       "66  2019-08-01     B             17         17    59758\n",
       "175 2019-08-02     A             42         36   234381\n",
       "173 2019-08-02     B             40         39   221801\n",
       "291 2019-08-03     A             66         60   346854\n",
       "..         ...   ...            ...        ...      ...\n",
       "533 2019-08-29     B            510        490  4746610\n",
       "757 2019-08-30     A            460        437  3311413\n",
       "690 2019-08-30     B            531        511  4955833\n",
       "958 2019-08-31     A            468        445  3364656\n",
       "930 2019-08-31     B            548        528  5068972\n",
       "\n",
       "[62 rows x 5 columns]"
      ]
     },
     "execution_count": 24,
     "metadata": {},
     "output_type": "execute_result"
    }
   ],
   "source": [
    "ordersAggregated = datesGroups.apply(lambda x : orders[np.logical_and(orders['date'] <= x['date'], \\\n",
    "                                                                      orders['group'] == x['group'])] \\\n",
    "                                     .agg({'date' : 'max', 'group' : 'max', 'transactionId' : pd.Series.nunique, 'visitorId' : pd.Series.nunique, 'revenue' : 'sum'}), axis=1) \\\n",
    "                                    .sort_values(by=['date', 'group'])\n",
    "ordersAggregated"
   ]
  },
  {
   "cell_type": "code",
   "execution_count": 25,
   "id": "aa5ab839",
   "metadata": {},
   "outputs": [
    {
     "data": {
      "text/html": [
       "<div>\n",
       "<style scoped>\n",
       "    .dataframe tbody tr th:only-of-type {\n",
       "        vertical-align: middle;\n",
       "    }\n",
       "\n",
       "    .dataframe tbody tr th {\n",
       "        vertical-align: top;\n",
       "    }\n",
       "\n",
       "    .dataframe thead th {\n",
       "        text-align: right;\n",
       "    }\n",
       "</style>\n",
       "<table border=\"1\" class=\"dataframe\">\n",
       "  <thead>\n",
       "    <tr style=\"text-align: right;\">\n",
       "      <th></th>\n",
       "      <th>date</th>\n",
       "      <th>group</th>\n",
       "      <th>visitors</th>\n",
       "    </tr>\n",
       "  </thead>\n",
       "  <tbody>\n",
       "    <tr>\n",
       "      <th>55</th>\n",
       "      <td>2019-08-01</td>\n",
       "      <td>A</td>\n",
       "      <td>719</td>\n",
       "    </tr>\n",
       "    <tr>\n",
       "      <th>66</th>\n",
       "      <td>2019-08-01</td>\n",
       "      <td>B</td>\n",
       "      <td>713</td>\n",
       "    </tr>\n",
       "    <tr>\n",
       "      <th>175</th>\n",
       "      <td>2019-08-02</td>\n",
       "      <td>A</td>\n",
       "      <td>1338</td>\n",
       "    </tr>\n",
       "    <tr>\n",
       "      <th>173</th>\n",
       "      <td>2019-08-02</td>\n",
       "      <td>B</td>\n",
       "      <td>1294</td>\n",
       "    </tr>\n",
       "    <tr>\n",
       "      <th>291</th>\n",
       "      <td>2019-08-03</td>\n",
       "      <td>A</td>\n",
       "      <td>1845</td>\n",
       "    </tr>\n",
       "    <tr>\n",
       "      <th>...</th>\n",
       "      <td>...</td>\n",
       "      <td>...</td>\n",
       "      <td>...</td>\n",
       "    </tr>\n",
       "    <tr>\n",
       "      <th>533</th>\n",
       "      <td>2019-08-29</td>\n",
       "      <td>B</td>\n",
       "      <td>17708</td>\n",
       "    </tr>\n",
       "    <tr>\n",
       "      <th>757</th>\n",
       "      <td>2019-08-30</td>\n",
       "      <td>A</td>\n",
       "      <td>18037</td>\n",
       "    </tr>\n",
       "    <tr>\n",
       "      <th>690</th>\n",
       "      <td>2019-08-30</td>\n",
       "      <td>B</td>\n",
       "      <td>18198</td>\n",
       "    </tr>\n",
       "    <tr>\n",
       "      <th>958</th>\n",
       "      <td>2019-08-31</td>\n",
       "      <td>A</td>\n",
       "      <td>18736</td>\n",
       "    </tr>\n",
       "    <tr>\n",
       "      <th>930</th>\n",
       "      <td>2019-08-31</td>\n",
       "      <td>B</td>\n",
       "      <td>18916</td>\n",
       "    </tr>\n",
       "  </tbody>\n",
       "</table>\n",
       "<p>62 rows × 3 columns</p>\n",
       "</div>"
      ],
      "text/plain": [
       "          date group  visitors\n",
       "55  2019-08-01     A       719\n",
       "66  2019-08-01     B       713\n",
       "175 2019-08-02     A      1338\n",
       "173 2019-08-02     B      1294\n",
       "291 2019-08-03     A      1845\n",
       "..         ...   ...       ...\n",
       "533 2019-08-29     B     17708\n",
       "757 2019-08-30     A     18037\n",
       "690 2019-08-30     B     18198\n",
       "958 2019-08-31     A     18736\n",
       "930 2019-08-31     B     18916\n",
       "\n",
       "[62 rows x 3 columns]"
      ]
     },
     "execution_count": 25,
     "metadata": {},
     "output_type": "execute_result"
    }
   ],
   "source": [
    "visitorsAggregated = datesGroups.apply(lambda x : visitors[np.logical_and(visitors['date'] <= x['date'], visitors['group'] == x['group'])] \\\n",
    "                                       .agg({'date' : 'max', 'group' : 'max', 'visitors' : 'sum'}), axis=1) \\\n",
    "                                        .sort_values(by=['date', 'group'])\n",
    "visitorsAggregated"
   ]
  },
  {
   "cell_type": "code",
   "execution_count": 26,
   "id": "2bd90056",
   "metadata": {},
   "outputs": [
    {
     "data": {
      "text/html": [
       "<div>\n",
       "<style scoped>\n",
       "    .dataframe tbody tr th:only-of-type {\n",
       "        vertical-align: middle;\n",
       "    }\n",
       "\n",
       "    .dataframe tbody tr th {\n",
       "        vertical-align: top;\n",
       "    }\n",
       "\n",
       "    .dataframe thead th {\n",
       "        text-align: right;\n",
       "    }\n",
       "</style>\n",
       "<table border=\"1\" class=\"dataframe\">\n",
       "  <thead>\n",
       "    <tr style=\"text-align: right;\">\n",
       "      <th></th>\n",
       "      <th>date</th>\n",
       "      <th>group</th>\n",
       "      <th>orders</th>\n",
       "      <th>buyers</th>\n",
       "      <th>revenue</th>\n",
       "      <th>visitors</th>\n",
       "    </tr>\n",
       "  </thead>\n",
       "  <tbody>\n",
       "    <tr>\n",
       "      <th>0</th>\n",
       "      <td>2019-08-01</td>\n",
       "      <td>A</td>\n",
       "      <td>23</td>\n",
       "      <td>19</td>\n",
       "      <td>142779</td>\n",
       "      <td>719</td>\n",
       "    </tr>\n",
       "    <tr>\n",
       "      <th>1</th>\n",
       "      <td>2019-08-01</td>\n",
       "      <td>B</td>\n",
       "      <td>17</td>\n",
       "      <td>17</td>\n",
       "      <td>59758</td>\n",
       "      <td>713</td>\n",
       "    </tr>\n",
       "    <tr>\n",
       "      <th>2</th>\n",
       "      <td>2019-08-02</td>\n",
       "      <td>A</td>\n",
       "      <td>42</td>\n",
       "      <td>36</td>\n",
       "      <td>234381</td>\n",
       "      <td>1338</td>\n",
       "    </tr>\n",
       "    <tr>\n",
       "      <th>3</th>\n",
       "      <td>2019-08-02</td>\n",
       "      <td>B</td>\n",
       "      <td>40</td>\n",
       "      <td>39</td>\n",
       "      <td>221801</td>\n",
       "      <td>1294</td>\n",
       "    </tr>\n",
       "    <tr>\n",
       "      <th>4</th>\n",
       "      <td>2019-08-03</td>\n",
       "      <td>A</td>\n",
       "      <td>66</td>\n",
       "      <td>60</td>\n",
       "      <td>346854</td>\n",
       "      <td>1845</td>\n",
       "    </tr>\n",
       "    <tr>\n",
       "      <th>...</th>\n",
       "      <td>...</td>\n",
       "      <td>...</td>\n",
       "      <td>...</td>\n",
       "      <td>...</td>\n",
       "      <td>...</td>\n",
       "      <td>...</td>\n",
       "    </tr>\n",
       "    <tr>\n",
       "      <th>57</th>\n",
       "      <td>2019-08-29</td>\n",
       "      <td>B</td>\n",
       "      <td>510</td>\n",
       "      <td>490</td>\n",
       "      <td>4746610</td>\n",
       "      <td>17708</td>\n",
       "    </tr>\n",
       "    <tr>\n",
       "      <th>58</th>\n",
       "      <td>2019-08-30</td>\n",
       "      <td>A</td>\n",
       "      <td>460</td>\n",
       "      <td>437</td>\n",
       "      <td>3311413</td>\n",
       "      <td>18037</td>\n",
       "    </tr>\n",
       "    <tr>\n",
       "      <th>59</th>\n",
       "      <td>2019-08-30</td>\n",
       "      <td>B</td>\n",
       "      <td>531</td>\n",
       "      <td>511</td>\n",
       "      <td>4955833</td>\n",
       "      <td>18198</td>\n",
       "    </tr>\n",
       "    <tr>\n",
       "      <th>60</th>\n",
       "      <td>2019-08-31</td>\n",
       "      <td>A</td>\n",
       "      <td>468</td>\n",
       "      <td>445</td>\n",
       "      <td>3364656</td>\n",
       "      <td>18736</td>\n",
       "    </tr>\n",
       "    <tr>\n",
       "      <th>61</th>\n",
       "      <td>2019-08-31</td>\n",
       "      <td>B</td>\n",
       "      <td>548</td>\n",
       "      <td>528</td>\n",
       "      <td>5068972</td>\n",
       "      <td>18916</td>\n",
       "    </tr>\n",
       "  </tbody>\n",
       "</table>\n",
       "<p>62 rows × 6 columns</p>\n",
       "</div>"
      ],
      "text/plain": [
       "         date group  orders  buyers  revenue  visitors\n",
       "0  2019-08-01     A      23      19   142779       719\n",
       "1  2019-08-01     B      17      17    59758       713\n",
       "2  2019-08-02     A      42      36   234381      1338\n",
       "3  2019-08-02     B      40      39   221801      1294\n",
       "4  2019-08-03     A      66      60   346854      1845\n",
       "..        ...   ...     ...     ...      ...       ...\n",
       "57 2019-08-29     B     510     490  4746610     17708\n",
       "58 2019-08-30     A     460     437  3311413     18037\n",
       "59 2019-08-30     B     531     511  4955833     18198\n",
       "60 2019-08-31     A     468     445  3364656     18736\n",
       "61 2019-08-31     B     548     528  5068972     18916\n",
       "\n",
       "[62 rows x 6 columns]"
      ]
     },
     "execution_count": 26,
     "metadata": {},
     "output_type": "execute_result"
    }
   ],
   "source": [
    "cumulativeData = ordersAggregated.merge(visitorsAggregated, left_on=['date', 'group'], right_on=['date', 'group'])\n",
    "cumulativeData.columns = ['date', 'group', 'orders', 'buyers', 'revenue', 'visitors']\n",
    "cumulativeData"
   ]
  },
  {
   "cell_type": "code",
   "execution_count": 27,
   "id": "8994371d",
   "metadata": {
    "scrolled": true
   },
   "outputs": [
    {
     "data": {
      "image/png": "[encoded data removed]",
      "text/plain": [
       "<Figure size 720x360 with 1 Axes>"
      ]
     },
     "metadata": {
      "needs_background": "light"
     },
     "output_type": "display_data"
    }
   ],
   "source": [
    "\n",
    "cumulativeRevenueA = cumulativeData[cumulativeData['group']=='A'][['date','revenue', 'orders']]\n",
    "\n",
    "cumulativeRevenueB = cumulativeData[cumulativeData['group']=='B'][['date','revenue', 'orders']]\n",
    "\n",
    "plt.figure(figsize=(10, 5))\n",
    "plt.plot(cumulativeRevenueA['date'], cumulativeRevenueA['revenue'], label='A')\n",
    "\n",
    "# Строим график выручки группы B\n",
    "plt.plot(cumulativeRevenueB['date'], cumulativeRevenueB['revenue'], label='B')\n",
    "\n",
    "plt.xticks(rotation=45)\n",
    "plt.title('Кумулятивная выручка по группам')\n",
    "#plt.figure(figsize=(15, 10))\n",
    "plt.xlabel('Дата')\n",
    "plt.ylabel('Доход')\n",
    "plt.legend();"
   ]
  },
  {
   "cell_type": "markdown",
   "id": "f4594324",
   "metadata": {},
   "source": [
    "С самого начала эксперимента группа В стабильно опережает группу А. Возможно, дело в аномально больших заказах, которые будут исключены во время финальных выводов.Также мы можем видеть резкий скачок кумулятивной выручки 18-19 августа. Возможно, в эти даты был резкий всплеск количества заказов, либо совершен аномально дорогой заказ."
   ]
  },
  {
   "cell_type": "markdown",
   "id": "9a50cf8f",
   "metadata": {},
   "source": [
    "### График кумулятивного среднего чека"
   ]
  },
  {
   "cell_type": "code",
   "execution_count": 28,
   "id": "4aa671bf",
   "metadata": {},
   "outputs": [
    {
     "data": {
      "image/png": "[encoded data removed]",
      "text/plain": [
       "<Figure size 720x360 with 1 Axes>"
      ]
     },
     "metadata": {
      "needs_background": "light"
     },
     "output_type": "display_data"
    }
   ],
   "source": [
    "plt.figure(figsize=(10, 5))\n",
    "plt.plot(cumulativeRevenueA['date'], cumulativeRevenueA['revenue']/cumulativeRevenueA['orders'], label='A')\n",
    "plt.plot(cumulativeRevenueB['date'], cumulativeRevenueB['revenue']/cumulativeRevenueB['orders'], label='B')\n",
    "plt.xticks(rotation=45)\n",
    "plt.title('Кумулятивный средний чек по группам')\n",
    "plt.xlabel('Дата')\n",
    "plt.ylabel('Доход')\n",
    "plt.legend();"
   ]
  },
  {
   "cell_type": "markdown",
   "id": "9a331759",
   "metadata": {},
   "source": [
    "Стабилизация среднего кумулятивного среднего чека происходит приблизительно в середине эксперимента. На эти же даты приходится резкий скачок кумулятивного среднего чека в группе В - это подтверждает наличие очень дорогого заказа, сделанного после 18-19 августа."
   ]
  },
  {
   "cell_type": "markdown",
   "id": "a7e33660",
   "metadata": {},
   "source": [
    "### График относительного изменения кумулятивного среднего чека"
   ]
  },
  {
   "cell_type": "code",
   "execution_count": 29,
   "id": "38025131",
   "metadata": {},
   "outputs": [
    {
     "name": "stderr",
     "output_type": "stream",
     "text": [
      "No handles with labels found to put in legend.\n"
     ]
    },
    {
     "data": {
      "image/png": "[encoded data removed]",
      "text/plain": [
       "<Figure size 720x360 with 1 Axes>"
      ]
     },
     "metadata": {
      "needs_background": "light"
     },
     "output_type": "display_data"
    }
   ],
   "source": [
    "mergedCumulativeRevenue = cumulativeRevenueA.merge(cumulativeRevenueB, left_on='date', right_on='date', how='left', suffixes=['A', 'B'])\n",
    "\n",
    "# cтроим отношение средних чеков\n",
    "plt.figure(figsize=(10, 5))\n",
    "plt.plot(mergedCumulativeRevenue['date'], (mergedCumulativeRevenue['revenueB']/mergedCumulativeRevenue['ordersB'])/(mergedCumulativeRevenue['revenueA']/mergedCumulativeRevenue['ordersA'])-1)\n",
    "\n",
    "# добавляем ось X\n",
    "plt.axhline(y=0, color='black', linestyle='--')\n",
    "plt.xticks(rotation=45)\n",
    "plt.title('Относительное изменение кумулятивного среднего чека группы В к группе А')\n",
    "plt.xlabel('Дата')\n",
    "plt.ylabel('Доход')\n",
    "plt.legend();"
   ]
  },
  {
   "cell_type": "markdown",
   "id": "4671ef74",
   "metadata": {},
   "source": [
    "График относительного различия в среднем чеке между группами А и В сильно колеблется. Мы снова видим скачок в середине эксперимента, который указывает на время, когда были совершены аномальные заказы."
   ]
  },
  {
   "cell_type": "markdown",
   "id": "67f2b192",
   "metadata": {},
   "source": [
    "### График кумулятивной конверсии"
   ]
  },
  {
   "cell_type": "code",
   "execution_count": 30,
   "id": "267a552b",
   "metadata": {
    "scrolled": true
   },
   "outputs": [
    {
     "data": {
      "text/plain": [
       "Timestamp('2019-08-31 00:00:00')"
      ]
     },
     "execution_count": 30,
     "metadata": {},
     "output_type": "execute_result"
    }
   ],
   "source": [
    "orders['date'].max()"
   ]
  },
  {
   "cell_type": "code",
   "execution_count": 31,
   "id": "5129947f",
   "metadata": {},
   "outputs": [
    {
     "data": {
      "text/plain": [
       "Timestamp('2019-08-01 00:00:00')"
      ]
     },
     "execution_count": 31,
     "metadata": {},
     "output_type": "execute_result"
    }
   ],
   "source": [
    "orders['date'].min()"
   ]
  },
  {
   "cell_type": "code",
   "execution_count": 32,
   "id": "48c4763f",
   "metadata": {},
   "outputs": [
    {
     "data": {
      "image/png": "[encoded data removed]",
      "text/plain": [
       "<Figure size 720x360 with 1 Axes>"
      ]
     },
     "metadata": {
      "needs_background": "light"
     },
     "output_type": "display_data"
    }
   ],
   "source": [
    "# считаем кумулятивную конверсию\n",
    "cumulativeData['conversion'] = cumulativeData['orders']/cumulativeData['visitors']\n",
    "\n",
    "# отделяем данные по группе A\n",
    "cumulativeDataA = cumulativeData[cumulativeData['group']=='A']\n",
    "\n",
    "# отделяем данные по группе B\n",
    "cumulativeDataB = cumulativeData[cumulativeData['group']=='B']\n",
    "\n",
    "# строим графики\n",
    "plt.figure(figsize=(10, 5))\n",
    "plt.plot(cumulativeDataA['date'], cumulativeDataA['conversion'], label='A')\n",
    "plt.plot(cumulativeDataB['date'], cumulativeDataB['conversion'], label='B')\n",
    "plt.legend()\n",
    "\n",
    "# задаем масштаб осей\n",
    "plt.axis([dt.datetime(2019, 7, 31), dt.datetime(2019, 9, 1), 0, 0.05])\n",
    "plt.ylim(0.02, 0.04)\n",
    "plt.xticks(rotation=45)\n",
    "plt.title('Кумулятивная конверсия по группам')\n",
    "plt.xlabel('Дата')\n",
    "plt.ylabel('Доход')\n",
    "plt.legend();"
   ]
  },
  {
   "cell_type": "code",
   "execution_count": 33,
   "id": "f66c46d5",
   "metadata": {
    "scrolled": true
   },
   "outputs": [
    {
     "data": {
      "text/plain": [
       "0.03577235772357724"
      ]
     },
     "execution_count": 33,
     "metadata": {},
     "output_type": "execute_result"
    }
   ],
   "source": [
    "cumulativeData['conversion'].max()"
   ]
  },
  {
   "cell_type": "code",
   "execution_count": 34,
   "id": "f6e7a1a0",
   "metadata": {},
   "outputs": [
    {
     "data": {
      "text/plain": [
       "0.023842917251051893"
      ]
     },
     "execution_count": 34,
     "metadata": {},
     "output_type": "execute_result"
    }
   ],
   "source": [
    "cumulativeData['conversion'].min()"
   ]
  },
  {
   "cell_type": "markdown",
   "id": "7c58cef8",
   "metadata": {},
   "source": [
    "Довольно быстро сегмент В опередил сегмент А по величине кумулятивной конверсии."
   ]
  },
  {
   "cell_type": "markdown",
   "id": "215486e6",
   "metadata": {},
   "source": [
    "### График относительного изменения кумулятивной конверсии"
   ]
  },
  {
   "cell_type": "code",
   "execution_count": 35,
   "id": "181404ef",
   "metadata": {},
   "outputs": [
    {
     "data": {
      "text/plain": [
       "Text(0.5, 1.0, 'Относительное изменение кумулятивной конверсии группы В к группе А')"
      ]
     },
     "execution_count": 35,
     "metadata": {},
     "output_type": "execute_result"
    },
    {
     "data": {
      "image/png": "[encoded data removed]",
      "text/plain": [
       "<Figure size 720x360 with 1 Axes>"
      ]
     },
     "metadata": {
      "needs_background": "light"
     },
     "output_type": "display_data"
    }
   ],
   "source": [
    "mergedCumulativeConversions = cumulativeDataA[['date','conversion']].merge(cumulativeDataB[['date','conversion']], left_on='date', right_on='date', how='left', suffixes=['A', 'B'])\n",
    "\n",
    "plt.figure(figsize=(10, 5))\n",
    "plt.plot(mergedCumulativeConversions['date'], mergedCumulativeConversions['conversionB']/mergedCumulativeConversions['conversionA']-1, label=\"Относительный прирост конверсии группы B относительно группы A\")\n",
    "plt.legend()\n",
    "\n",
    "plt.axhline(y=0, color='black', linestyle='--')\n",
    "plt.axhline(y=0.2, color='grey', linestyle='--')\n",
    "plt.xticks(rotation=45)\n",
    "plt.title('Относительное изменение кумулятивной конверсии группы В к группе А')\n",
    "#plt.axis([\"2019-07-31\", '2019-09-01', -0.5, 0.5]) "
   ]
  },
  {
   "cell_type": "markdown",
   "id": "f9a179d0",
   "metadata": {},
   "source": [
    "Снова видим как сегмент В, после провала в самом начале эксперимента, начинает резко расти в показателях после 4 августа и остается стабильно лучше сегмента А (на уровне 35-40%) на протяжении всего остального эксперимента."
   ]
  },
  {
   "cell_type": "markdown",
   "id": "bc00b989",
   "metadata": {},
   "source": [
    "### Оценка выбросов по стоимости и количеству заказов"
   ]
  },
  {
   "cell_type": "code",
   "execution_count": 36,
   "id": "33ef4050",
   "metadata": {
    "scrolled": true
   },
   "outputs": [
    {
     "data": {
      "image/png": "[encoded data removed]",
      "text/plain": [
       "<Figure size 720x360 with 1 Axes>"
      ]
     },
     "metadata": {
      "needs_background": "light"
     },
     "output_type": "display_data"
    }
   ],
   "source": [
    "x_values = pd.Series(range(0,len(orders['revenue'])))\n",
    "plt.figure(figsize=(10, 5))\n",
    "plt.scatter(x_values, orders['revenue'])\n",
    "plt.title('Точечный график стоимости заказов')\n",
    "plt.xlabel('Количество пользователей')\n",
    "plt.ylabel('Сумма заказа')\n",
    "plt.show()"
   ]
  },
  {
   "cell_type": "markdown",
   "id": "a99cd692",
   "metadata": {},
   "source": [
    "Мы видим два аномально крупных заказа, первый из которых явно повлиял на расчет метрик ранее. Рассчитаем 95-й и 99-й перцентили для определения границ аномальности заказов."
   ]
  },
  {
   "cell_type": "code",
   "execution_count": 37,
   "id": "c8e8b5de",
   "metadata": {
    "scrolled": true
   },
   "outputs": [
    {
     "data": {
      "image/png": "[encoded data removed]",
      "text/plain": [
       "<Figure size 720x360 with 1 Axes>"
      ]
     },
     "metadata": {
      "needs_background": "light"
     },
     "output_type": "display_data"
    }
   ],
   "source": [
    "# точечный график без аномальных значений\n",
    "y_values = orders['revenue']\n",
    "y_values = y_values[y_values < 200_000]\n",
    "x_values = pd.Series(range(0,len(y_values)))\n",
    "plt.figure(figsize=(10, 5))\n",
    "plt.scatter(x_values, y_values)\n",
    "plt.title('Точечный график стоимости заказов')\n",
    "plt.xlabel('Количество пользователей')\n",
    "plt.ylabel('Сумма заказа')\n",
    "plt.show()"
   ]
  },
  {
   "cell_type": "markdown",
   "id": "d3f2abfc",
   "metadata": {},
   "source": [
    "Основная масса заказов распологается ниже отметки в 20 000, есть достаточно много заказов от 20 000 до 40 000, и единичные больше 40 000 р."
   ]
  },
  {
   "cell_type": "code",
   "execution_count": 38,
   "id": "faa3fb1b",
   "metadata": {
    "scrolled": true
   },
   "outputs": [
    {
     "name": "stdout",
     "output_type": "stream",
     "text": [
      "[26785. 53904.]\n"
     ]
    }
   ],
   "source": [
    "print(np.percentile(orders['revenue'], [95, 99])) "
   ]
  },
  {
   "cell_type": "markdown",
   "id": "7cd48838",
   "metadata": {},
   "source": [
    "Не более 5% заказов дороже 26785 р. и не более 1% дороже 53904 р. Выберем за крайнее значение заказы дороже 28 000 р."
   ]
  },
  {
   "cell_type": "code",
   "execution_count": 39,
   "id": "c8f78088",
   "metadata": {},
   "outputs": [
    {
     "name": "stdout",
     "output_type": "stream",
     "text": [
      "        visitor  transaction\n",
      "908  3967698036            3\n",
      "55    249864742            3\n",
      "478  2108163459            3\n",
      "687  2988190573            3\n",
      "890  3908431265            3\n",
      "138   611059232            3\n",
      "632  2742574263            3\n",
      "157   678354126            2\n",
      "323  1404560065            2\n",
      "452  1985475298            2\n",
      "118   522292794            2\n",
      "628  2733145037            2\n",
      "634  2744017357            2\n",
      "407  1772171838            2\n",
      "548  2397843657            2\n"
     ]
    }
   ],
   "source": [
    "ordersByUsers = (\n",
    "    orders.groupby('visitorId', as_index=False)\n",
    "    .agg({'transactionId': 'nunique'})\n",
    ")\n",
    "\n",
    "ordersByUsers.columns = ['visitor', 'transaction']\n",
    "\n",
    "print(ordersByUsers.sort_values(by='transaction', ascending=False).head(15)) "
   ]
  },
  {
   "cell_type": "code",
   "execution_count": 40,
   "id": "bc36ac70",
   "metadata": {},
   "outputs": [
    {
     "data": {
      "image/png": "[encoded data removed]",
      "text/plain": [
       "<Figure size 720x360 with 1 Axes>"
      ]
     },
     "metadata": {
      "needs_background": "light"
     },
     "output_type": "display_data"
    }
   ],
   "source": [
    "# диаграмма числа заказов на 1 пользователя\n",
    "x_values = pd.Series(range(0,len(ordersByUsers)))\n",
    "\n",
    "plt.figure(figsize=(10, 5))\n",
    "plt.scatter(x_values, ordersByUsers['transaction']) \n",
    "plt.title('Точечный график количества заказов по пользователям')\n",
    "plt.xlabel('Количество пользователей')\n",
    "plt.ylabel('Количество заказов')\n",
    "plt.show()"
   ]
  },
  {
   "cell_type": "markdown",
   "id": "a0aa9350",
   "metadata": {},
   "source": [
    "Большинство пользователей с 1 заказом, есть пользователи с 2 и 3 заказами (их значительно меньше), и несколько выбросов. Посчитаем выборочные перцентили количества заказов на одного пользователя:"
   ]
  },
  {
   "cell_type": "code",
   "execution_count": 41,
   "id": "e43e2bed",
   "metadata": {},
   "outputs": [
    {
     "name": "stdout",
     "output_type": "stream",
     "text": [
      "[1. 2.]\n"
     ]
    }
   ],
   "source": [
    "print(np.percentile(ordersByUsers['transaction'], [95, 99]))"
   ]
  },
  {
   "cell_type": "markdown",
   "id": "37c15d90",
   "metadata": {},
   "source": [
    "5% пользователей совершали 1,5 (то есть 2) заказа, не более 1% - 3 заказа. Выберем за границу пользователей с 2 заказами."
   ]
  },
  {
   "cell_type": "markdown",
   "id": "9878c79d",
   "metadata": {},
   "source": [
    "### Статистическая значимость различий по \"сырым\" данным"
   ]
  },
  {
   "cell_type": "markdown",
   "id": "c3af0efa",
   "metadata": {},
   "source": [
    "#### Конверсия"
   ]
  },
  {
   "cell_type": "markdown",
   "id": "0b908505",
   "metadata": {},
   "source": [
    "Сформулируем нулевую и альтернативную гипотезы.\n",
    "\n",
    "- Н0: различий между конверсиями групп А и В нет;\n",
    "- Н1: различия между конверсиями групп А и В есть.\n",
    "\n",
    "Уровень значимости: 0.05.\n",
    "\n",
    "Рассчитаем p-value. Если p-value меньше 0.05, есть основания отвергнуть нулевую гипотезу в пользу альтернативной.\n",
    "Для проверки гипотез используем критерий Манна-Уитни. Это оптимальный критерий, когда нужно сравнить средние значениях двух независимых и относительно небольших выборок. \n",
    "\n",
    "Создадим датафрейм `data`, где будут собраны:\n",
    "- date — дата;\n",
    "- ordersPerDateA — количество заказов в выбранную дату в группе A;\n",
    "- revenuePerDateA — суммарная выручка в выбранную дату в группе A;\n",
    "- ordersPerDateB — количество заказов в выбранную дату в группе B;\n",
    "- revenuePerDateB — суммарная выручка в выбранную дату в группе B;\n",
    "- ordersCummulativeA — суммарное число заказов до выбранной даты включительно в группе A;\n",
    "- revenueCummulativeA — суммарная выручка до выбранной даты включительно в группе A;\n",
    "- ordersCummulativeB — суммарное количество заказов до выбранной даты включительно в группе B;\n",
    "- revenueCummulativeB — суммарная выручка до выбранной даты включительно в группе B;\n",
    "- visitorsPerDateA — количество пользователей в выбранную дату в группе A;\n",
    "- visitorsPerDateB — количество пользователей в выбранную дату в группе B;\n",
    "- visitorsCummulativeA — количество пользователей до выбранной даты включительно в группе A;\n",
    "- visitorsCummulativeB — количество пользователей до выбранной даты включительно в группе B."
   ]
  },
  {
   "cell_type": "code",
   "execution_count": 42,
   "id": "35df71e7",
   "metadata": {
    "scrolled": true
   },
   "outputs": [
    {
     "name": "stdout",
     "output_type": "stream",
     "text": [
      "        date  ordersPerDateA  revenuePerDateA  ordersPerDateB  \\\n",
      "0 2019-08-01              23           142779              17   \n",
      "1 2019-08-02              19            91602              23   \n",
      "2 2019-08-03              24           112473              14   \n",
      "3 2019-08-04              11            41176              14   \n",
      "4 2019-08-05              22            86383              21   \n",
      "\n",
      "   revenuePerDateB  ordersCummulativeA  revenueCummulativeA  \\\n",
      "0            59758                  23               142779   \n",
      "1           162043                  42               234381   \n",
      "2            67049                  66               346854   \n",
      "3            96890                  77               388030   \n",
      "4            89908                  99               474413   \n",
      "\n",
      "   ordersCummulativeB  revenueCummulativeB  visitorsPerDateA  \\\n",
      "0                  17                59758               719   \n",
      "1                  40               221801               619   \n",
      "2                  54               288850               507   \n",
      "3                  68               385740               717   \n",
      "4                  89               475648               756   \n",
      "\n",
      "   visitorsPerDateB  visitorsCummulativeA  visitorsCummulativeB  \n",
      "0               713                   719                   713  \n",
      "1               581                  1338                  1294  \n",
      "2               509                  1845                  1803  \n",
      "3               770                  2562                  2573  \n",
      "4               707                  3318                  3280  \n"
     ]
    }
   ],
   "source": [
    "visitorsADaily = visitors[visitors['group'] == 'A'][['date', 'visitors']]\n",
    "visitorsADaily.columns = ['date', 'visitorsPerDateA']\n",
    "\n",
    "\n",
    "visitorsACummulative = visitorsADaily.apply(\n",
    "    lambda x: visitorsADaily[visitorsADaily['date'] <= x['date']].agg(\n",
    "        {'date': 'max', 'visitorsPerDateA': 'sum'}\n",
    "    ),\n",
    "    axis=1,\n",
    ")\n",
    "visitorsACummulative.columns = ['date', 'visitorsCummulativeA']\n",
    "\n",
    "\n",
    "visitorsBDaily = visitors[visitors['group'] == 'B'][['date', 'visitors']]\n",
    "visitorsBDaily.columns = ['date', 'visitorsPerDateB']\n",
    "\n",
    "visitorsBCummulative = visitorsBDaily.apply(\n",
    "    lambda x: visitorsBDaily[visitorsBDaily['date'] <= x['date']].agg(\n",
    "        {'date': 'max', 'visitorsPerDateB': 'sum'}\n",
    "    ),\n",
    "    axis=1,\n",
    ")\n",
    "visitorsBCummulative.columns = ['date', 'visitorsCummulativeB']\n",
    "\n",
    "ordersADaily = (\n",
    "    orders[orders['group'] == 'A'][['date', 'transactionId', 'visitorId', 'revenue']]\n",
    "    .groupby('date', as_index=False)\n",
    "    .agg({'transactionId': 'nunique', 'revenue': 'sum'})\n",
    ")\n",
    "ordersADaily.columns = ['date', 'ordersPerDateA', 'revenuePerDateA']\n",
    "\n",
    "\n",
    "ordersACummulative = ordersADaily.apply(\n",
    "    lambda x: ordersADaily[ordersADaily['date'] <= x['date']].agg(\n",
    "        {'date': 'max', 'ordersPerDateA': 'sum', 'revenuePerDateA': 'sum'}\n",
    "    ),\n",
    "    axis=1,\n",
    ").sort_values(by=['date'])\n",
    "ordersACummulative.columns = [\n",
    "    'date',\n",
    "    'ordersCummulativeA',\n",
    "    'revenueCummulativeA',\n",
    "]\n",
    "\n",
    "ordersBDaily = (\n",
    "    orders[orders['group'] == 'B'][['date', 'transactionId', 'visitorId', 'revenue']]\n",
    "    .groupby('date', as_index=False)\n",
    "    .agg({'transactionId': 'nunique', 'revenue': 'sum'})\n",
    ")\n",
    "ordersBDaily.columns = ['date', 'ordersPerDateB', 'revenuePerDateB']\n",
    "\n",
    "ordersBCummulative = ordersBDaily.apply(\n",
    "    lambda x: ordersBDaily[ordersBDaily['date'] <= x['date']].agg(\n",
    "        {'date': 'max', 'ordersPerDateB': 'sum', 'revenuePerDateB': 'sum'}\n",
    "    ),\n",
    "    axis=1,\n",
    ").sort_values(by=['date'])\n",
    "ordersBCummulative.columns = [\n",
    "    'date',\n",
    "    'ordersCummulativeB',\n",
    "    'revenueCummulativeB',\n",
    "]\n",
    "\n",
    "data = (\n",
    "    ordersADaily.merge(\n",
    "        ordersBDaily, left_on='date', right_on='date', how='left'\n",
    "    )\n",
    "    .merge(ordersACummulative, left_on='date', right_on='date', how='left')\n",
    "    .merge(ordersBCummulative, left_on='date', right_on='date', how='left')\n",
    "    .merge(visitorsADaily, left_on='date', right_on='date', how='left')\n",
    "    .merge(visitorsBDaily, left_on='date', right_on='date', how='left')\n",
    "    .merge(visitorsACummulative, left_on='date', right_on='date', how='left')\n",
    "    .merge(visitorsBCummulative, left_on='date', right_on='date', how='left')\n",
    ")\n",
    "\n",
    "print(data.head(5))"
   ]
  },
  {
   "cell_type": "markdown",
   "id": "d6cdbcd8",
   "metadata": {},
   "source": [
    "Теперь посчитаем статистическую значимость в различии конверсий между группами А и В."
   ]
  },
  {
   "cell_type": "code",
   "execution_count": 43,
   "id": "09164945",
   "metadata": {
    "scrolled": true
   },
   "outputs": [
    {
     "data": {
      "text/html": [
       "<div>\n",
       "<style scoped>\n",
       "    .dataframe tbody tr th:only-of-type {\n",
       "        vertical-align: middle;\n",
       "    }\n",
       "\n",
       "    .dataframe tbody tr th {\n",
       "        vertical-align: top;\n",
       "    }\n",
       "\n",
       "    .dataframe thead th {\n",
       "        text-align: right;\n",
       "    }\n",
       "</style>\n",
       "<table border=\"1\" class=\"dataframe\">\n",
       "  <thead>\n",
       "    <tr style=\"text-align: right;\">\n",
       "      <th></th>\n",
       "      <th>userId</th>\n",
       "      <th>orders</th>\n",
       "    </tr>\n",
       "  </thead>\n",
       "  <tbody>\n",
       "    <tr>\n",
       "      <th>0</th>\n",
       "      <td>11685486</td>\n",
       "      <td>1</td>\n",
       "    </tr>\n",
       "    <tr>\n",
       "      <th>1</th>\n",
       "      <td>54447517</td>\n",
       "      <td>1</td>\n",
       "    </tr>\n",
       "    <tr>\n",
       "      <th>2</th>\n",
       "      <td>66685450</td>\n",
       "      <td>1</td>\n",
       "    </tr>\n",
       "    <tr>\n",
       "      <th>3</th>\n",
       "      <td>78758296</td>\n",
       "      <td>1</td>\n",
       "    </tr>\n",
       "    <tr>\n",
       "      <th>4</th>\n",
       "      <td>85103373</td>\n",
       "      <td>1</td>\n",
       "    </tr>\n",
       "    <tr>\n",
       "      <th>...</th>\n",
       "      <td>...</td>\n",
       "      <td>...</td>\n",
       "    </tr>\n",
       "    <tr>\n",
       "      <th>440</th>\n",
       "      <td>4227830084</td>\n",
       "      <td>1</td>\n",
       "    </tr>\n",
       "    <tr>\n",
       "      <th>441</th>\n",
       "      <td>4237561104</td>\n",
       "      <td>1</td>\n",
       "    </tr>\n",
       "    <tr>\n",
       "      <th>442</th>\n",
       "      <td>4243832526</td>\n",
       "      <td>1</td>\n",
       "    </tr>\n",
       "    <tr>\n",
       "      <th>443</th>\n",
       "      <td>4259830713</td>\n",
       "      <td>1</td>\n",
       "    </tr>\n",
       "    <tr>\n",
       "      <th>444</th>\n",
       "      <td>4278982564</td>\n",
       "      <td>1</td>\n",
       "    </tr>\n",
       "  </tbody>\n",
       "</table>\n",
       "<p>445 rows × 2 columns</p>\n",
       "</div>"
      ],
      "text/plain": [
       "         userId  orders\n",
       "0      11685486       1\n",
       "1      54447517       1\n",
       "2      66685450       1\n",
       "3      78758296       1\n",
       "4      85103373       1\n",
       "..          ...     ...\n",
       "440  4227830084       1\n",
       "441  4237561104       1\n",
       "442  4243832526       1\n",
       "443  4259830713       1\n",
       "444  4278982564       1\n",
       "\n",
       "[445 rows x 2 columns]"
      ]
     },
     "metadata": {},
     "output_type": "display_data"
    },
    {
     "data": {
      "text/html": [
       "<div>\n",
       "<style scoped>\n",
       "    .dataframe tbody tr th:only-of-type {\n",
       "        vertical-align: middle;\n",
       "    }\n",
       "\n",
       "    .dataframe tbody tr th {\n",
       "        vertical-align: top;\n",
       "    }\n",
       "\n",
       "    .dataframe thead th {\n",
       "        text-align: right;\n",
       "    }\n",
       "</style>\n",
       "<table border=\"1\" class=\"dataframe\">\n",
       "  <thead>\n",
       "    <tr style=\"text-align: right;\">\n",
       "      <th></th>\n",
       "      <th>userId</th>\n",
       "      <th>orders</th>\n",
       "    </tr>\n",
       "  </thead>\n",
       "  <tbody>\n",
       "    <tr>\n",
       "      <th>0</th>\n",
       "      <td>5114589</td>\n",
       "      <td>1</td>\n",
       "    </tr>\n",
       "    <tr>\n",
       "      <th>1</th>\n",
       "      <td>6958315</td>\n",
       "      <td>1</td>\n",
       "    </tr>\n",
       "    <tr>\n",
       "      <th>2</th>\n",
       "      <td>39475350</td>\n",
       "      <td>1</td>\n",
       "    </tr>\n",
       "    <tr>\n",
       "      <th>3</th>\n",
       "      <td>47206413</td>\n",
       "      <td>1</td>\n",
       "    </tr>\n",
       "    <tr>\n",
       "      <th>4</th>\n",
       "      <td>48147722</td>\n",
       "      <td>1</td>\n",
       "    </tr>\n",
       "    <tr>\n",
       "      <th>...</th>\n",
       "      <td>...</td>\n",
       "      <td>...</td>\n",
       "    </tr>\n",
       "    <tr>\n",
       "      <th>523</th>\n",
       "      <td>4251115836</td>\n",
       "      <td>1</td>\n",
       "    </tr>\n",
       "    <tr>\n",
       "      <th>524</th>\n",
       "      <td>4258103007</td>\n",
       "      <td>1</td>\n",
       "    </tr>\n",
       "    <tr>\n",
       "      <th>525</th>\n",
       "      <td>4279090005</td>\n",
       "      <td>1</td>\n",
       "    </tr>\n",
       "    <tr>\n",
       "      <th>526</th>\n",
       "      <td>4281247801</td>\n",
       "      <td>1</td>\n",
       "    </tr>\n",
       "    <tr>\n",
       "      <th>527</th>\n",
       "      <td>4283872382</td>\n",
       "      <td>1</td>\n",
       "    </tr>\n",
       "  </tbody>\n",
       "</table>\n",
       "<p>528 rows × 2 columns</p>\n",
       "</div>"
      ],
      "text/plain": [
       "         userId  orders\n",
       "0       5114589       1\n",
       "1       6958315       1\n",
       "2      39475350       1\n",
       "3      47206413       1\n",
       "4      48147722       1\n",
       "..          ...     ...\n",
       "523  4251115836       1\n",
       "524  4258103007       1\n",
       "525  4279090005       1\n",
       "526  4281247801       1\n",
       "527  4283872382       1\n",
       "\n",
       "[528 rows x 2 columns]"
      ]
     },
     "execution_count": 43,
     "metadata": {},
     "output_type": "execute_result"
    }
   ],
   "source": [
    "# Создадим переменные ordersByUsersA и ordersByUsersB со столбцами ['userId', 'orders'].\n",
    "# В них для пользователей, которые заказывали хотя бы 1 раз, укажем число совершённых заказов.\n",
    "\n",
    "ordersByUsersA = (\n",
    "    orders[orders['group'] == 'A']\n",
    "    .groupby('visitorId', as_index=False)\n",
    "    .agg({'transactionId': pd.Series.nunique})\n",
    ")\n",
    "ordersByUsersA.columns = ['userId', 'orders']\n",
    "\n",
    "ordersByUsersB = (\n",
    "    orders[orders['group'] == 'B']\n",
    "    .groupby('visitorId', as_index=False)\n",
    "    .agg({'transactionId': pd.Series.nunique})\n",
    ")\n",
    "ordersByUsersB.columns = ['userId', 'orders'] \n",
    "display(ordersByUsersA)\n",
    "ordersByUsersB"
   ]
  },
  {
   "cell_type": "markdown",
   "id": "9f6d2b7c",
   "metadata": {},
   "source": [
    "Объявим переменные sampleA и sampleB, в которых пользователям из разных групп будет соответствовать количество заказов. Тем, кто ничего не заказал, будут соответствовать нули."
   ]
  },
  {
   "cell_type": "code",
   "execution_count": 44,
   "id": "d84854cf",
   "metadata": {},
   "outputs": [],
   "source": [
    "sampleA = pd.concat([ordersByUsersA['orders'],pd.Series(0, index=np.arange(data['visitorsPerDateA'].sum() - len(ordersByUsersA['orders'])), name='orders')],axis=0)\n",
    "\n",
    "sampleB = pd.concat([ordersByUsersB['orders'],pd.Series(0, index=np.arange(data['visitorsPerDateB'].sum() - len(ordersByUsersB['orders'])), name='orders')],axis=0) "
   ]
  },
  {
   "cell_type": "code",
   "execution_count": 45,
   "id": "7f107a18",
   "metadata": {},
   "outputs": [],
   "source": [
    "# объединим списки из первой и второй части\n",
    "sampleA = pd.concat([ordersByUsersA['orders'],pd.Series(0, index=np.arange(data['visitorsPerDateA'].sum() - len(ordersByUsersA['orders'])), name='orders')],axis=0)\n",
    "\n",
    "sampleB = pd.concat([ordersByUsersB['orders'],pd.Series(0, index=np.arange(data['visitorsPerDateB'].sum() - len(ordersByUsersB['orders'])), name='orders')],axis=0)"
   ]
  },
  {
   "cell_type": "markdown",
   "id": "e726f0dc",
   "metadata": {},
   "source": [
    "Применим критерий Манна-Уитни, отформатируем p-value до 6 знаков после запятой."
   ]
  },
  {
   "cell_type": "code",
   "execution_count": 46,
   "id": "e36c6fec",
   "metadata": {
    "scrolled": true
   },
   "outputs": [
    {
     "name": "stdout",
     "output_type": "stream",
     "text": [
      "p-value:  0.011018\n",
      "Относительный прирост конверсии группы В к конверсии группы А:  0.159798\n"
     ]
    }
   ],
   "source": [
    "\n",
    "ordersByUsersA = (\n",
    "    orders[orders['group'] == 'A']\n",
    "    .groupby('visitorId', as_index=False)\n",
    "    .agg({'transactionId': pd.Series.nunique})\n",
    ")\n",
    "ordersByUsersA.columns = ['userId', 'orders']\n",
    "\n",
    "ordersByUsersB = (\n",
    "    orders[orders['group'] == 'B']\n",
    "    .groupby('visitorId', as_index=False)\n",
    "    .agg({'transactionId': pd.Series.nunique})\n",
    ")\n",
    "ordersByUsersB.columns = ['userId', 'orders']\n",
    "\n",
    "sampleA = pd.concat(\n",
    "    [\n",
    "        ordersByUsersA['orders'],\n",
    "        pd.Series(\n",
    "            0,\n",
    "            index=np.arange(\n",
    "                data['visitorsPerDateA'].sum() - len(ordersByUsersA['orders'])\n",
    "            ),\n",
    "            name='orders',\n",
    "        ),\n",
    "    ],\n",
    "    axis=0,\n",
    ")\n",
    "\n",
    "sampleB = pd.concat(\n",
    "    [\n",
    "        ordersByUsersB['orders'],\n",
    "        pd.Series(\n",
    "            0,\n",
    "            index=np.arange(\n",
    "                data['visitorsPerDateB'].sum() - len(ordersByUsersB['orders'])\n",
    "            ),\n",
    "            name='orders',\n",
    "        ),\n",
    "    ],\n",
    "    axis=0,\n",
    ")\n",
    "\n",
    "print('p-value: ', \"{0:.6f}\".format(stats.mannwhitneyu(sampleA, sampleB)[1]))\n",
    "print('Относительный прирост конверсии группы В к конверсии группы А: ', \"{0:.6f}\".format(sampleB.mean() / sampleA.mean() - 1))"
   ]
  },
  {
   "cell_type": "markdown",
   "id": "e2b760dd",
   "metadata": {},
   "source": [
    "Имеются основания отвергнуть нулевую гипотезу (p-value равен 0.011018, это меньше уровня значимости в 5%). Между группами обнаружены статистически значимые различия. Относительный прирост конверсии группы В к конверсии группы А в процентах: 15,98 %."
   ]
  },
  {
   "cell_type": "markdown",
   "id": "2a8b0974",
   "metadata": {},
   "source": [
    "#### Средний чек"
   ]
  },
  {
   "cell_type": "markdown",
   "id": "1aaf6d5d",
   "metadata": {},
   "source": [
    "Сформулируем нулевую и альтернативную гипотезы.\n",
    "\n",
    "- Н0: различий между средними чеками групп А и В нет;\n",
    "- Н1: различия между средними чеками групп А и В есть.\n",
    "\n",
    "Уровень значимости: 0.05.\n",
    "Для проверки гипотез используем критерий Манна-Уитни, т.к. мы снова сравниваем средние значениях двух независимых и относительно небольших выборок. \n",
    "\n",
    "Рассчитаем p-value. Если p-value меньше 0.05, есть основания отвергнуть нулевую гипотезу в пользу альтернативной."
   ]
  },
  {
   "cell_type": "code",
   "execution_count": 47,
   "id": "6043fbf9",
   "metadata": {
    "scrolled": true
   },
   "outputs": [
    {
     "name": "stdout",
     "output_type": "stream",
     "text": [
      "p-value:  0.829\n",
      "Относительный прирост среднего чека группы В к среднему чеку группы А:  0.287\n"
     ]
    }
   ],
   "source": [
    "\n",
    "print('p-value: ', '{0:.3f}'.format(stats.mannwhitneyu(orders[orders['group']=='A']['revenue'], orders[orders['group']=='B']['revenue'])[1]))\n",
    "print('Относительный прирост среднего чека группы В к среднему чеку группы А: ', '{0:.3f}'.format(orders[orders['group']=='B']['revenue'].mean()/orders[orders['group']=='A']['revenue'].mean()-1))\n"
   ]
  },
  {
   "cell_type": "markdown",
   "id": "53929980",
   "metadata": {},
   "source": [
    "Недостаточно данных, чтобы отвергнуть нулевую гипотезу (p-value равен 0.829, это значительно больше 0,05). Не обнаружено статистически значимых различий между группами А и В. Относительный прирост среднего чека группы В к среднему чеку группы А составляет 28,7%. Возможно, это влияние выбросов, которые хорошо были видны на графиках кумулятивного среднего чека. Посмотрим, насколько различаются группы, если убрать выбросы."
   ]
  },
  {
   "cell_type": "markdown",
   "id": "ce0f3826",
   "metadata": {},
   "source": [
    "### Статистическая значимость различий по \"очищенным\" данным"
   ]
  },
  {
   "cell_type": "markdown",
   "id": "85ee34c9",
   "metadata": {},
   "source": [
    "Будем считать аномальными пользователей, которые сделали больше 2 заказов, либо сделали заказ больше, чем на 28000 р."
   ]
  },
  {
   "cell_type": "markdown",
   "id": "b3924e3c",
   "metadata": {},
   "source": [
    "#### Конверсия"
   ]
  },
  {
   "cell_type": "code",
   "execution_count": 48,
   "id": "a1187242",
   "metadata": {
    "scrolled": true
   },
   "outputs": [
    {
     "name": "stdout",
     "output_type": "stream",
     "text": [
      "1099    148427295\n",
      "928     204675465\n",
      "33      249864742\n",
      "684     358944393\n",
      "648     382846391\n",
      "dtype: int64\n",
      "55\n"
     ]
    }
   ],
   "source": [
    "\n",
    "usersWithManyOrders = pd.concat(\n",
    "    [\n",
    "        ordersByUsersA[ordersByUsersA['orders'] > 2]['userId'],\n",
    "        ordersByUsersB[ordersByUsersB['orders'] > 2]['userId'],\n",
    "    ],\n",
    "    axis=0,\n",
    ")\n",
    "usersWithExpensiveOrders = orders[orders['revenue'] > 28000]['visitorId']\n",
    "abnormalUsers = (\n",
    "    pd.concat([usersWithManyOrders, usersWithExpensiveOrders], axis=0)\n",
    "    .drop_duplicates()\n",
    "   .sort_values()\n",
    ") \n",
    "\n",
    "print(abnormalUsers.head(5))\n",
    "print(abnormalUsers.shape[0])"
   ]
  },
  {
   "cell_type": "markdown",
   "id": "f9b59d00",
   "metadata": {},
   "source": [
    "Всего 55 аномальных пользователей. Учитывая размеры выборки, это довольно много. Посчитаем статистическую значимость различий в конверсии без этих пользователей. "
   ]
  },
  {
   "cell_type": "code",
   "execution_count": 49,
   "id": "40c90cb2",
   "metadata": {},
   "outputs": [],
   "source": [
    "sampleAFiltered = pd.concat(\n",
    "    [\n",
    "        ordersByUsersA[\n",
    "            np.logical_not(ordersByUsersA['userId'].isin(abnormalUsers))\n",
    "        ]['orders'],\n",
    "        pd.Series(\n",
    "            0,\n",
    "            index=np.arange(\n",
    "                data['visitorsPerDateA'].sum() - len(ordersByUsersA['orders'])\n",
    "            ),\n",
    "            name='orders',\n",
    "        ),\n",
    "    ],\n",
    "    axis=0,\n",
    ")\n",
    "\n",
    "sampleBFiltered = pd.concat(\n",
    "    [\n",
    "        ordersByUsersB[\n",
    "            np.logical_not(ordersByUsersB['userId'].isin(abnormalUsers))\n",
    "        ]['orders'],\n",
    "        pd.Series(\n",
    "            0,\n",
    "            index=np.arange(\n",
    "                data['visitorsPerDateB'].sum() - len(ordersByUsersB['orders'])\n",
    "            ),\n",
    "            name='orders',\n",
    "        ),\n",
    "    ],\n",
    "    axis=0,\n",
    ") "
   ]
  },
  {
   "cell_type": "code",
   "execution_count": 50,
   "id": "301eec38",
   "metadata": {
    "scrolled": true
   },
   "outputs": [
    {
     "name": "stdout",
     "output_type": "stream",
     "text": [
      "p-value:  0.009453\n",
      "Относительный прирост конверсии группы В к конверсии группы А:  0.188628\n"
     ]
    }
   ],
   "source": [
    "print('p-value: ', '{0:.6f}'.format(stats.mannwhitneyu(sampleAFiltered, sampleBFiltered)[1]))\n",
    "print('Относительный прирост конверсии группы В к конверсии группы А: ', '{0:.6f}'.format(sampleBFiltered.mean()/sampleAFiltered.mean()-1)) "
   ]
  },
  {
   "cell_type": "markdown",
   "id": "97041c82",
   "metadata": {},
   "source": [
    "Имеются основания отвергнуть нулевую гипотезу (p-value 0.0.009453, это меньше 0,05). Между группами есть статистически значимые различия. Относительный прирост конверсии группы В к конверсии группы А составляет 18,9%. Это значительно меньше, чем по \"сырым\" данным."
   ]
  },
  {
   "cell_type": "markdown",
   "id": "0cd3411e",
   "metadata": {},
   "source": [
    "#### Средний чек"
   ]
  },
  {
   "cell_type": "code",
   "execution_count": 51,
   "id": "df1cfb5a",
   "metadata": {
    "scrolled": true
   },
   "outputs": [
    {
     "name": "stdout",
     "output_type": "stream",
     "text": [
      "p-value:  0.761688\n",
      "Относительный прирост конверсии группы В к конверсии группы А:  -0.022449\n"
     ]
    }
   ],
   "source": [
    "print('p-value: ',\n",
    "    '{0:.6f}'.format(\n",
    "        stats.mannwhitneyu(\n",
    "            orders[\n",
    "                np.logical_and(\n",
    "                    orders['group'] == 'A',\n",
    "                    np.logical_not(orders['visitorId'].isin(abnormalUsers)),\n",
    "                )\n",
    "            ]['revenue'],\n",
    "            orders[\n",
    "                np.logical_and(\n",
    "                    orders['group'] == 'B',\n",
    "                    np.logical_not(orders['visitorId'].isin(abnormalUsers)),\n",
    "                )\n",
    "            ]['revenue'],\n",
    "        )[1]\n",
    "    )\n",
    ")\n",
    "\n",
    "print('Относительный прирост конверсии группы В к конверсии группы А: ',\n",
    "    \"{0:.6f}\".format(\n",
    "        orders[\n",
    "            np.logical_and(\n",
    "                orders['group'] == 'B',\n",
    "                np.logical_not(orders['visitorId'].isin(abnormalUsers)),\n",
    "            )\n",
    "        ]['revenue'].mean()\n",
    "        / orders[\n",
    "            np.logical_and(\n",
    "                orders['group'] == 'A',\n",
    "                np.logical_not(orders['visitorId'].isin(abnormalUsers)),\n",
    "            )\n",
    "        ]['revenue'].mean()\n",
    "        - 1\n",
    "    )\n",
    ") "
   ]
  },
  {
   "cell_type": "markdown",
   "id": "db4ffc74",
   "metadata": {},
   "source": [
    "Недостаточно оснований, чтобы отвергнуть нулевую гипотезу. Не обнаружено статистически значимых различий между группами (p-value равен 0.761688). Относительный прирост среднего чека группы В к среднему чеку группы А отсутствует (меньше нуля)."
   ]
  },
  {
   "cell_type": "markdown",
   "id": "b6d08c02",
   "metadata": {},
   "source": [
    "## Общие выводы"
   ]
  },
  {
   "cell_type": "markdown",
   "id": "615d5f8d",
   "metadata": {},
   "source": [
    "1. При применении фреймворка ICE самыми перспективными гипотезами оказались 8, 0, 7 и 6.\n",
    "2. При применении фреймворка RICE самыми перспективными гипотезами оказались 7, 2, 0 и 6. Рекомендуется работать с 7, 0 и 6 гипотезами, которые оказались в первой четверке при применении обоих фреймворков.\n",
    "3. Конверсия группы В показала себя лучше конверсии группы А как по \"сырым\", так и по \"очищенным\" данным.\n",
    "4. Средний чек группы В не имеет статистически значимых отличий от среднего чека группы А ни по \"сырым\", ни по \"очищенным\" данным.\n",
    "5. График кумулятивной выручки показывает, что группа В стабильно лучше группы А; график кумулятивного среднего чека указывает на наличие аномальных заказов в группе В, что подтверждается графиком относительного изменения кумулятивного среднего чека.\n",
    "6. График кумулятивной конверсии подтверждает, что группа В показала себя лучше, чем группа А.\n",
    "\n",
    "***Следует остановить тест и зафиксировать победу группы В. Несмотря на отсутствие различий в среднем чеке, конверсия в группе В стабильно выше, чем в группе А***"
   ]
  }
 ],
 "metadata": {
  "ExecuteTimeLog": [
   {
    "duration": 91,
    "start_time": "2022-07-02T19:23:55.142Z"
   },
   {
    "duration": 22,
    "start_time": "2022-07-03T15:42:43.937Z"
   },
   {
    "duration": 64,
    "start_time": "2022-07-03T15:42:43.961Z"
   },
   {
    "duration": 3,
    "start_time": "2022-07-03T15:42:44.026Z"
   },
   {
    "duration": 12,
    "start_time": "2022-07-03T15:42:44.031Z"
   },
   {
    "duration": 16,
    "start_time": "2022-07-03T15:42:44.045Z"
   },
   {
    "duration": 13,
    "start_time": "2022-07-03T15:42:44.062Z"
   },
   {
    "duration": 37,
    "start_time": "2022-07-03T15:42:44.077Z"
   },
   {
    "duration": 17,
    "start_time": "2022-07-03T15:42:44.116Z"
   },
   {
    "duration": 17,
    "start_time": "2022-07-03T15:42:44.135Z"
   },
   {
    "duration": 17,
    "start_time": "2022-07-03T15:42:44.153Z"
   },
   {
    "duration": 40,
    "start_time": "2022-07-03T15:42:44.171Z"
   },
   {
    "duration": 14,
    "start_time": "2022-07-03T15:42:44.212Z"
   },
   {
    "duration": 13,
    "start_time": "2022-07-03T15:42:44.228Z"
   },
   {
    "duration": 17,
    "start_time": "2022-07-03T15:42:44.242Z"
   },
   {
    "duration": 16,
    "start_time": "2022-07-03T15:42:44.260Z"
   },
   {
    "duration": 14,
    "start_time": "2022-07-03T15:42:44.279Z"
   },
   {
    "duration": 15,
    "start_time": "2022-07-03T15:42:44.294Z"
   },
   {
    "duration": 217,
    "start_time": "2022-07-03T15:42:44.311Z"
   },
   {
    "duration": 160,
    "start_time": "2022-07-03T15:42:44.529Z"
   },
   {
    "duration": 21,
    "start_time": "2022-07-03T15:42:44.692Z"
   },
   {
    "duration": 222,
    "start_time": "2022-07-03T15:42:44.715Z"
   },
   {
    "duration": 209,
    "start_time": "2022-07-03T15:42:44.938Z"
   },
   {
    "duration": 315,
    "start_time": "2022-07-03T15:42:45.149Z"
   },
   {
    "duration": 7,
    "start_time": "2022-07-03T15:42:45.465Z"
   },
   {
    "duration": 4,
    "start_time": "2022-07-03T15:42:45.474Z"
   },
   {
    "duration": 195,
    "start_time": "2022-07-03T15:42:45.479Z"
   },
   {
    "duration": 350,
    "start_time": "2022-07-03T15:42:45.676Z"
   },
   {
    "duration": 149,
    "start_time": "2022-07-03T15:42:46.028Z"
   },
   {
    "duration": 150,
    "start_time": "2022-07-03T15:42:46.180Z"
   },
   {
    "duration": 5,
    "start_time": "2022-07-03T15:42:46.332Z"
   },
   {
    "duration": 30,
    "start_time": "2022-07-03T15:42:46.339Z"
   },
   {
    "duration": 133,
    "start_time": "2022-07-03T15:42:46.372Z"
   },
   {
    "duration": 135,
    "start_time": "2022-07-03T15:42:46.507Z"
   },
   {
    "duration": 16,
    "start_time": "2022-07-03T15:42:46.644Z"
   },
   {
    "duration": 244,
    "start_time": "2022-07-03T15:42:46.663Z"
   },
   {
    "duration": 147,
    "start_time": "2022-07-03T15:42:46.909Z"
   },
   {
    "duration": 10,
    "start_time": "2022-07-03T15:42:47.059Z"
   },
   {
    "duration": 47,
    "start_time": "2022-07-03T15:42:47.071Z"
   },
   {
    "duration": 208,
    "start_time": "2022-07-03T15:42:47.120Z"
   },
   {
    "duration": 9,
    "start_time": "2022-07-03T15:42:47.330Z"
   },
   {
    "duration": 30,
    "start_time": "2022-07-03T15:42:47.341Z"
   },
   {
    "duration": 26,
    "start_time": "2022-07-03T15:42:47.373Z"
   },
   {
    "duration": 29,
    "start_time": "2022-07-03T15:42:47.401Z"
   },
   {
    "duration": 13,
    "start_time": "2022-07-03T15:42:47.432Z"
   },
   {
    "duration": 1180,
    "start_time": "2022-07-03T15:46:01.961Z"
   },
   {
    "duration": 56,
    "start_time": "2022-07-03T15:46:03.144Z"
   },
   {
    "duration": 5,
    "start_time": "2022-07-03T15:46:03.202Z"
   },
   {
    "duration": 13,
    "start_time": "2022-07-03T15:46:03.210Z"
   },
   {
    "duration": 8,
    "start_time": "2022-07-03T15:46:03.225Z"
   },
   {
    "duration": 19,
    "start_time": "2022-07-03T15:46:03.235Z"
   },
   {
    "duration": 13,
    "start_time": "2022-07-03T15:46:03.256Z"
   },
   {
    "duration": 15,
    "start_time": "2022-07-03T15:46:03.272Z"
   },
   {
    "duration": 17,
    "start_time": "2022-07-03T15:46:03.289Z"
   },
   {
    "duration": 12,
    "start_time": "2022-07-03T15:46:03.310Z"
   },
   {
    "duration": 34,
    "start_time": "2022-07-03T15:46:03.325Z"
   },
   {
    "duration": 11,
    "start_time": "2022-07-03T15:46:03.362Z"
   },
   {
    "duration": 9,
    "start_time": "2022-07-03T15:46:03.376Z"
   },
   {
    "duration": 17,
    "start_time": "2022-07-03T15:46:03.387Z"
   },
   {
    "duration": 5,
    "start_time": "2022-07-03T15:46:03.407Z"
   },
   {
    "duration": 8,
    "start_time": "2022-07-03T15:46:03.415Z"
   },
   {
    "duration": 48,
    "start_time": "2022-07-03T15:46:03.425Z"
   },
   {
    "duration": 222,
    "start_time": "2022-07-03T15:46:03.475Z"
   },
   {
    "duration": 171,
    "start_time": "2022-07-03T15:46:03.699Z"
   },
   {
    "duration": 18,
    "start_time": "2022-07-03T15:46:03.873Z"
   },
   {
    "duration": 318,
    "start_time": "2022-07-03T15:46:03.893Z"
   },
   {
    "duration": 265,
    "start_time": "2022-07-03T15:46:04.214Z"
   },
   {
    "duration": 316,
    "start_time": "2022-07-03T15:46:04.481Z"
   },
   {
    "duration": 6,
    "start_time": "2022-07-03T15:46:04.800Z"
   },
   {
    "duration": 11,
    "start_time": "2022-07-03T15:46:04.809Z"
   },
   {
    "duration": 211,
    "start_time": "2022-07-03T15:46:04.822Z"
   },
   {
    "duration": 367,
    "start_time": "2022-07-03T15:46:05.035Z"
   },
   {
    "duration": 153,
    "start_time": "2022-07-03T15:46:05.406Z"
   },
   {
    "duration": 145,
    "start_time": "2022-07-03T15:46:05.561Z"
   },
   {
    "duration": 5,
    "start_time": "2022-07-03T15:46:05.708Z"
   },
   {
    "duration": 17,
    "start_time": "2022-07-03T15:46:05.715Z"
   },
   {
    "duration": 165,
    "start_time": "2022-07-03T15:46:05.734Z"
   },
   {
    "duration": 161,
    "start_time": "2022-07-03T15:46:05.900Z"
   },
   {
    "duration": 6,
    "start_time": "2022-07-03T15:46:06.063Z"
   },
   {
    "duration": 318,
    "start_time": "2022-07-03T15:46:06.072Z"
   },
   {
    "duration": 191,
    "start_time": "2022-07-03T15:46:06.393Z"
   },
   {
    "duration": 8,
    "start_time": "2022-07-03T15:46:06.586Z"
   },
   {
    "duration": 8,
    "start_time": "2022-07-03T15:46:06.596Z"
   },
   {
    "duration": 192,
    "start_time": "2022-07-03T15:46:06.606Z"
   },
   {
    "duration": 11,
    "start_time": "2022-07-03T15:46:06.800Z"
   },
   {
    "duration": 11,
    "start_time": "2022-07-03T15:46:06.813Z"
   },
   {
    "duration": 35,
    "start_time": "2022-07-03T15:46:06.827Z"
   },
   {
    "duration": 25,
    "start_time": "2022-07-03T15:46:06.863Z"
   },
   {
    "duration": 15,
    "start_time": "2022-07-03T15:46:06.889Z"
   },
   {
    "duration": 47,
    "start_time": "2022-07-03T15:50:47.929Z"
   },
   {
    "duration": 30,
    "start_time": "2022-07-03T15:53:06.216Z"
   },
   {
    "duration": 3,
    "start_time": "2022-07-03T15:53:16.741Z"
   },
   {
    "duration": 9,
    "start_time": "2022-07-03T15:53:18.854Z"
   },
   {
    "duration": 3,
    "start_time": "2022-07-03T15:53:23.896Z"
   },
   {
    "duration": 10,
    "start_time": "2022-07-03T15:53:25.942Z"
   },
   {
    "duration": 13,
    "start_time": "2022-07-03T15:53:26.992Z"
   },
   {
    "duration": 168,
    "start_time": "2022-07-03T15:58:36.197Z"
   },
   {
    "duration": 253,
    "start_time": "2022-07-03T16:00:14.795Z"
   },
   {
    "duration": 295,
    "start_time": "2022-07-03T16:00:21.776Z"
   },
   {
    "duration": 177,
    "start_time": "2022-07-03T16:00:33.115Z"
   },
   {
    "duration": 265,
    "start_time": "2022-07-03T16:03:49.909Z"
   },
   {
    "duration": 12,
    "start_time": "2022-07-03T16:11:41.659Z"
   },
   {
    "duration": 8,
    "start_time": "2022-07-03T16:12:14.938Z"
   },
   {
    "duration": 8,
    "start_time": "2022-07-03T16:18:29.743Z"
   },
   {
    "duration": 10,
    "start_time": "2022-07-03T16:18:36.816Z"
   },
   {
    "duration": 63,
    "start_time": "2022-07-04T15:58:28.050Z"
   },
   {
    "duration": 8,
    "start_time": "2022-07-04T15:58:43.745Z"
   },
   {
    "duration": 8,
    "start_time": "2022-07-04T15:58:50.446Z"
   },
   {
    "duration": 1380,
    "start_time": "2022-07-04T15:58:55.367Z"
   },
   {
    "duration": 97,
    "start_time": "2022-07-04T15:58:58.667Z"
   },
   {
    "duration": 5,
    "start_time": "2022-07-04T15:59:12.551Z"
   },
   {
    "duration": 54,
    "start_time": "2022-07-04T15:59:16.191Z"
   },
   {
    "duration": 11,
    "start_time": "2022-07-04T15:59:19.287Z"
   },
   {
    "duration": 232,
    "start_time": "2022-07-04T16:00:38.536Z"
   },
   {
    "duration": 5,
    "start_time": "2022-07-04T16:00:42.649Z"
   },
   {
    "duration": 9,
    "start_time": "2022-07-04T16:00:43.950Z"
   },
   {
    "duration": 2,
    "start_time": "2022-07-04T16:00:45.807Z"
   },
   {
    "duration": 9,
    "start_time": "2022-07-04T16:00:46.314Z"
   },
   {
    "duration": 11,
    "start_time": "2022-07-04T16:00:46.888Z"
   },
   {
    "duration": 10,
    "start_time": "2022-07-04T16:00:51.591Z"
   },
   {
    "duration": 12,
    "start_time": "2022-07-04T16:00:52.326Z"
   },
   {
    "duration": 9,
    "start_time": "2022-07-04T16:00:53.006Z"
   },
   {
    "duration": 11,
    "start_time": "2022-07-04T16:00:53.638Z"
   },
   {
    "duration": 7,
    "start_time": "2022-07-04T16:00:54.294Z"
   },
   {
    "duration": 7,
    "start_time": "2022-07-04T16:00:55.535Z"
   },
   {
    "duration": 6,
    "start_time": "2022-07-04T16:00:57.370Z"
   },
   {
    "duration": 16,
    "start_time": "2022-07-04T16:01:02.998Z"
   },
   {
    "duration": 6,
    "start_time": "2022-07-04T16:01:04.054Z"
   },
   {
    "duration": 5,
    "start_time": "2022-07-04T16:01:04.526Z"
   },
   {
    "duration": 1192,
    "start_time": "2022-07-04T16:01:44.118Z"
   },
   {
    "duration": 79,
    "start_time": "2022-07-04T16:01:45.312Z"
   },
   {
    "duration": 5,
    "start_time": "2022-07-04T16:01:45.392Z"
   },
   {
    "duration": 13,
    "start_time": "2022-07-04T16:01:45.399Z"
   },
   {
    "duration": 6,
    "start_time": "2022-07-04T16:01:45.413Z"
   },
   {
    "duration": 15,
    "start_time": "2022-07-04T16:01:45.421Z"
   },
   {
    "duration": 9,
    "start_time": "2022-07-04T16:01:45.437Z"
   },
   {
    "duration": 13,
    "start_time": "2022-07-04T16:01:45.447Z"
   },
   {
    "duration": 13,
    "start_time": "2022-07-04T16:01:45.461Z"
   },
   {
    "duration": 10,
    "start_time": "2022-07-04T16:01:45.476Z"
   },
   {
    "duration": 13,
    "start_time": "2022-07-04T16:01:45.487Z"
   },
   {
    "duration": 9,
    "start_time": "2022-07-04T16:01:45.501Z"
   },
   {
    "duration": 37,
    "start_time": "2022-07-04T16:01:45.512Z"
   },
   {
    "duration": 6,
    "start_time": "2022-07-04T16:01:45.551Z"
   },
   {
    "duration": 14,
    "start_time": "2022-07-04T16:01:45.558Z"
   },
   {
    "duration": 5,
    "start_time": "2022-07-04T16:01:45.573Z"
   },
   {
    "duration": 6,
    "start_time": "2022-07-04T16:01:45.580Z"
   },
   {
    "duration": 14,
    "start_time": "2022-07-04T16:01:45.588Z"
   },
   {
    "duration": 238,
    "start_time": "2022-07-04T16:01:45.605Z"
   },
   {
    "duration": 140,
    "start_time": "2022-07-04T16:01:45.845Z"
   },
   {
    "duration": 18,
    "start_time": "2022-07-04T16:01:45.987Z"
   },
   {
    "duration": 386,
    "start_time": "2022-07-04T16:01:46.007Z"
   },
   {
    "duration": 202,
    "start_time": "2022-07-04T16:01:46.395Z"
   },
   {
    "duration": 305,
    "start_time": "2022-07-04T16:01:46.599Z"
   },
   {
    "duration": 5,
    "start_time": "2022-07-04T16:01:46.906Z"
   },
   {
    "duration": 13,
    "start_time": "2022-07-04T16:01:46.913Z"
   },
   {
    "duration": 206,
    "start_time": "2022-07-04T16:01:46.928Z"
   },
   {
    "duration": 371,
    "start_time": "2022-07-04T16:01:47.141Z"
   },
   {
    "duration": 157,
    "start_time": "2022-07-04T16:01:47.513Z"
   },
   {
    "duration": 5,
    "start_time": "2022-07-04T16:01:47.671Z"
   },
   {
    "duration": 14,
    "start_time": "2022-07-04T16:01:47.678Z"
   },
   {
    "duration": 171,
    "start_time": "2022-07-04T16:01:47.694Z"
   },
   {
    "duration": 5,
    "start_time": "2022-07-04T16:01:47.867Z"
   },
   {
    "duration": 256,
    "start_time": "2022-07-04T16:01:47.874Z"
   },
   {
    "duration": 190,
    "start_time": "2022-07-04T16:01:48.132Z"
   },
   {
    "duration": 19,
    "start_time": "2022-07-04T16:01:48.324Z"
   },
   {
    "duration": 9,
    "start_time": "2022-07-04T16:01:48.345Z"
   },
   {
    "duration": 197,
    "start_time": "2022-07-04T16:01:48.358Z"
   },
   {
    "duration": 12,
    "start_time": "2022-07-04T16:01:48.557Z"
   },
   {
    "duration": 19,
    "start_time": "2022-07-04T16:01:48.571Z"
   },
   {
    "duration": 12,
    "start_time": "2022-07-04T16:01:48.592Z"
   },
   {
    "duration": 39,
    "start_time": "2022-07-04T16:01:48.606Z"
   },
   {
    "duration": 19,
    "start_time": "2022-07-04T16:01:48.646Z"
   },
   {
    "duration": 400,
    "start_time": "2022-07-04T16:13:52.787Z"
   },
   {
    "duration": 105,
    "start_time": "2022-07-04T16:43:21.699Z"
   },
   {
    "duration": 430,
    "start_time": "2022-07-04T16:43:31.989Z"
   },
   {
    "duration": 319,
    "start_time": "2022-07-04T16:43:41.012Z"
   },
   {
    "duration": 362,
    "start_time": "2022-07-04T16:43:53.290Z"
   },
   {
    "duration": 5,
    "start_time": "2022-07-04T16:44:54.049Z"
   },
   {
    "duration": 10,
    "start_time": "2022-07-04T16:45:58.786Z"
   },
   {
    "duration": 213,
    "start_time": "2022-07-04T16:53:53.921Z"
   },
   {
    "duration": 209,
    "start_time": "2022-07-04T16:54:11.343Z"
   },
   {
    "duration": 200,
    "start_time": "2022-07-04T16:54:25.555Z"
   },
   {
    "duration": 322,
    "start_time": "2022-07-04T16:54:40.295Z"
   },
   {
    "duration": 200,
    "start_time": "2022-07-04T16:54:46.351Z"
   },
   {
    "duration": 197,
    "start_time": "2022-07-04T16:55:52.599Z"
   },
   {
    "duration": 198,
    "start_time": "2022-07-04T16:56:13.634Z"
   },
   {
    "duration": 330,
    "start_time": "2022-07-04T16:56:32.335Z"
   },
   {
    "duration": 292,
    "start_time": "2022-07-04T16:56:40.990Z"
   },
   {
    "duration": 310,
    "start_time": "2022-07-04T16:56:45.263Z"
   },
   {
    "duration": 202,
    "start_time": "2022-07-04T16:56:49.328Z"
   },
   {
    "duration": 191,
    "start_time": "2022-07-04T17:04:16.466Z"
   },
   {
    "duration": 214,
    "start_time": "2022-07-04T17:06:42.158Z"
   },
   {
    "duration": 6,
    "start_time": "2022-07-04T17:09:17.748Z"
   },
   {
    "duration": 4,
    "start_time": "2022-07-04T17:09:29.245Z"
   },
   {
    "duration": 200,
    "start_time": "2022-07-04T17:09:52.926Z"
   },
   {
    "duration": 222,
    "start_time": "2022-07-04T17:10:04.835Z"
   },
   {
    "duration": 78,
    "start_time": "2022-07-04T17:10:27.259Z"
   },
   {
    "duration": 135,
    "start_time": "2022-07-04T17:40:05.809Z"
   },
   {
    "duration": 129,
    "start_time": "2022-07-04T17:40:32.415Z"
   },
   {
    "duration": 140,
    "start_time": "2022-07-04T17:41:21.467Z"
   },
   {
    "duration": 138,
    "start_time": "2022-07-04T17:41:27.257Z"
   },
   {
    "duration": 16,
    "start_time": "2022-07-04T17:41:43.478Z"
   },
   {
    "duration": 11,
    "start_time": "2022-07-04T17:41:57.391Z"
   },
   {
    "duration": 137,
    "start_time": "2022-07-04T17:42:03.751Z"
   },
   {
    "duration": 73,
    "start_time": "2022-07-04T17:42:12.884Z"
   },
   {
    "duration": 75,
    "start_time": "2022-07-04T17:42:17.812Z"
   },
   {
    "duration": 151,
    "start_time": "2022-07-04T17:42:28.439Z"
   },
   {
    "duration": 149,
    "start_time": "2022-07-04T17:42:42.486Z"
   },
   {
    "duration": 266,
    "start_time": "2022-07-04T17:42:45.264Z"
   },
   {
    "duration": 123,
    "start_time": "2022-07-04T17:42:52.190Z"
   },
   {
    "duration": 156,
    "start_time": "2022-07-04T17:42:55.279Z"
   },
   {
    "duration": 85,
    "start_time": "2022-07-04T17:43:24.352Z"
   },
   {
    "duration": 136,
    "start_time": "2022-07-04T17:43:35.766Z"
   },
   {
    "duration": 4,
    "start_time": "2022-07-04T17:43:47.367Z"
   },
   {
    "duration": 4,
    "start_time": "2022-07-04T17:43:50.033Z"
   },
   {
    "duration": 6,
    "start_time": "2022-07-04T17:43:56.782Z"
   },
   {
    "duration": 137,
    "start_time": "2022-07-04T17:43:59.239Z"
   },
   {
    "duration": 131,
    "start_time": "2022-07-04T17:44:40.111Z"
   },
   {
    "duration": 140,
    "start_time": "2022-07-04T17:44:52.046Z"
   },
   {
    "duration": 135,
    "start_time": "2022-07-04T17:54:42.570Z"
   },
   {
    "duration": 168,
    "start_time": "2022-07-04T17:55:19.985Z"
   },
   {
    "duration": 158,
    "start_time": "2022-07-04T17:55:54.789Z"
   },
   {
    "duration": 21,
    "start_time": "2022-07-04T18:26:33.003Z"
   },
   {
    "duration": 114,
    "start_time": "2022-07-04T18:27:09.847Z"
   },
   {
    "duration": 140,
    "start_time": "2022-07-04T18:27:27.743Z"
   },
   {
    "duration": 125,
    "start_time": "2022-07-04T18:29:44.111Z"
   },
   {
    "duration": 79,
    "start_time": "2022-07-04T18:30:01.042Z"
   },
   {
    "duration": 80,
    "start_time": "2022-07-04T18:30:13.266Z"
   },
   {
    "duration": 6,
    "start_time": "2022-07-04T18:30:36.916Z"
   },
   {
    "duration": 78,
    "start_time": "2022-07-04T18:30:55.113Z"
   },
   {
    "duration": 153,
    "start_time": "2022-07-04T18:33:07.261Z"
   },
   {
    "duration": 235,
    "start_time": "2022-07-04T18:33:22.511Z"
   },
   {
    "duration": 8,
    "start_time": "2022-07-04T18:33:32.091Z"
   },
   {
    "duration": 130,
    "start_time": "2022-07-04T18:33:43.363Z"
   },
   {
    "duration": 144,
    "start_time": "2022-07-04T18:33:54.942Z"
   },
   {
    "duration": 45,
    "start_time": "2022-07-05T04:18:09.741Z"
   },
   {
    "duration": 1171,
    "start_time": "2022-07-05T04:18:18.072Z"
   },
   {
    "duration": 109,
    "start_time": "2022-07-05T04:18:19.245Z"
   },
   {
    "duration": 3,
    "start_time": "2022-07-05T04:18:19.356Z"
   },
   {
    "duration": 10,
    "start_time": "2022-07-05T04:18:19.362Z"
   },
   {
    "duration": 6,
    "start_time": "2022-07-05T04:18:19.374Z"
   },
   {
    "duration": 11,
    "start_time": "2022-07-05T04:18:19.381Z"
   },
   {
    "duration": 6,
    "start_time": "2022-07-05T04:18:19.394Z"
   },
   {
    "duration": 12,
    "start_time": "2022-07-05T04:18:19.402Z"
   },
   {
    "duration": 13,
    "start_time": "2022-07-05T04:18:19.415Z"
   },
   {
    "duration": 9,
    "start_time": "2022-07-05T04:18:19.430Z"
   },
   {
    "duration": 13,
    "start_time": "2022-07-05T04:18:19.440Z"
   },
   {
    "duration": 7,
    "start_time": "2022-07-05T04:18:19.455Z"
   },
   {
    "duration": 15,
    "start_time": "2022-07-05T04:18:19.464Z"
   },
   {
    "duration": 24,
    "start_time": "2022-07-05T04:18:19.480Z"
   },
   {
    "duration": 32,
    "start_time": "2022-07-05T04:18:19.505Z"
   },
   {
    "duration": 5,
    "start_time": "2022-07-05T04:18:19.538Z"
   },
   {
    "duration": 6,
    "start_time": "2022-07-05T04:18:19.544Z"
   },
   {
    "duration": 14,
    "start_time": "2022-07-05T04:18:19.551Z"
   },
   {
    "duration": 182,
    "start_time": "2022-07-05T04:18:19.567Z"
   },
   {
    "duration": 133,
    "start_time": "2022-07-05T04:18:19.750Z"
   },
   {
    "duration": 23,
    "start_time": "2022-07-05T04:18:19.885Z"
   },
   {
    "duration": 271,
    "start_time": "2022-07-05T04:18:19.909Z"
   },
   {
    "duration": 189,
    "start_time": "2022-07-05T04:18:20.182Z"
   },
   {
    "duration": 373,
    "start_time": "2022-07-05T04:18:20.372Z"
   },
   {
    "duration": 4,
    "start_time": "2022-07-05T04:18:20.747Z"
   },
   {
    "duration": 7,
    "start_time": "2022-07-05T04:18:20.753Z"
   },
   {
    "duration": 201,
    "start_time": "2022-07-05T04:18:20.761Z"
   },
   {
    "duration": 4,
    "start_time": "2022-07-05T04:18:20.966Z"
   },
   {
    "duration": 13,
    "start_time": "2022-07-05T04:18:20.972Z"
   },
   {
    "duration": 306,
    "start_time": "2022-07-05T04:18:20.986Z"
   },
   {
    "duration": 139,
    "start_time": "2022-07-05T04:18:21.294Z"
   },
   {
    "duration": 214,
    "start_time": "2022-07-05T04:18:21.434Z"
   },
   {
    "duration": 0,
    "start_time": "2022-07-05T04:18:21.649Z"
   },
   {
    "duration": 0,
    "start_time": "2022-07-05T04:18:21.651Z"
   },
   {
    "duration": 0,
    "start_time": "2022-07-05T04:18:21.651Z"
   },
   {
    "duration": 0,
    "start_time": "2022-07-05T04:18:21.652Z"
   },
   {
    "duration": 0,
    "start_time": "2022-07-05T04:18:21.653Z"
   },
   {
    "duration": 0,
    "start_time": "2022-07-05T04:18:21.654Z"
   },
   {
    "duration": 0,
    "start_time": "2022-07-05T04:18:21.655Z"
   },
   {
    "duration": 0,
    "start_time": "2022-07-05T04:18:21.656Z"
   },
   {
    "duration": 0,
    "start_time": "2022-07-05T04:18:21.657Z"
   },
   {
    "duration": 0,
    "start_time": "2022-07-05T04:18:21.658Z"
   },
   {
    "duration": 0,
    "start_time": "2022-07-05T04:18:21.659Z"
   },
   {
    "duration": 0,
    "start_time": "2022-07-05T04:18:21.660Z"
   },
   {
    "duration": 0,
    "start_time": "2022-07-05T04:18:21.661Z"
   },
   {
    "duration": 0,
    "start_time": "2022-07-05T04:18:21.662Z"
   },
   {
    "duration": 6,
    "start_time": "2022-07-05T04:22:09.064Z"
   },
   {
    "duration": 6,
    "start_time": "2022-07-05T04:23:02.457Z"
   },
   {
    "duration": 692,
    "start_time": "2022-07-05T04:24:19.455Z"
   },
   {
    "duration": 6,
    "start_time": "2022-07-05T04:25:45.127Z"
   },
   {
    "duration": 15,
    "start_time": "2022-07-05T04:25:49.352Z"
   },
   {
    "duration": 151,
    "start_time": "2022-07-05T04:27:07.190Z"
   },
   {
    "duration": 144,
    "start_time": "2022-07-05T04:27:33.723Z"
   },
   {
    "duration": 44,
    "start_time": "2022-07-05T04:27:42.241Z"
   },
   {
    "duration": 227,
    "start_time": "2022-07-05T04:27:46.891Z"
   },
   {
    "duration": 167,
    "start_time": "2022-07-05T04:37:08.280Z"
   },
   {
    "duration": 142,
    "start_time": "2022-07-05T04:37:14.824Z"
   },
   {
    "duration": 12,
    "start_time": "2022-07-05T04:45:26.821Z"
   },
   {
    "duration": 1161,
    "start_time": "2022-07-05T04:46:58.437Z"
   },
   {
    "duration": 57,
    "start_time": "2022-07-05T04:46:59.600Z"
   },
   {
    "duration": 3,
    "start_time": "2022-07-05T04:46:59.658Z"
   },
   {
    "duration": 14,
    "start_time": "2022-07-05T04:46:59.663Z"
   },
   {
    "duration": 5,
    "start_time": "2022-07-05T04:46:59.679Z"
   },
   {
    "duration": 13,
    "start_time": "2022-07-05T04:46:59.685Z"
   },
   {
    "duration": 22,
    "start_time": "2022-07-05T04:46:59.699Z"
   },
   {
    "duration": 26,
    "start_time": "2022-07-05T04:46:59.722Z"
   },
   {
    "duration": 19,
    "start_time": "2022-07-05T04:46:59.749Z"
   },
   {
    "duration": 16,
    "start_time": "2022-07-05T04:46:59.769Z"
   },
   {
    "duration": 20,
    "start_time": "2022-07-05T04:46:59.787Z"
   },
   {
    "duration": 20,
    "start_time": "2022-07-05T04:46:59.816Z"
   },
   {
    "duration": 11,
    "start_time": "2022-07-05T04:46:59.839Z"
   },
   {
    "duration": 10,
    "start_time": "2022-07-05T04:46:59.853Z"
   },
   {
    "duration": 8,
    "start_time": "2022-07-05T04:46:59.865Z"
   },
   {
    "duration": 13,
    "start_time": "2022-07-05T04:46:59.875Z"
   },
   {
    "duration": 5,
    "start_time": "2022-07-05T04:46:59.890Z"
   },
   {
    "duration": 27,
    "start_time": "2022-07-05T04:46:59.901Z"
   },
   {
    "duration": 23,
    "start_time": "2022-07-05T04:46:59.932Z"
   },
   {
    "duration": 252,
    "start_time": "2022-07-05T04:46:59.956Z"
   },
   {
    "duration": 157,
    "start_time": "2022-07-05T04:47:00.211Z"
   },
   {
    "duration": 16,
    "start_time": "2022-07-05T04:47:00.370Z"
   },
   {
    "duration": 376,
    "start_time": "2022-07-05T04:47:00.403Z"
   },
   {
    "duration": 245,
    "start_time": "2022-07-05T04:47:00.781Z"
   },
   {
    "duration": 333,
    "start_time": "2022-07-05T04:47:01.029Z"
   },
   {
    "duration": 4,
    "start_time": "2022-07-05T04:47:01.364Z"
   },
   {
    "duration": 30,
    "start_time": "2022-07-05T04:47:01.370Z"
   },
   {
    "duration": 296,
    "start_time": "2022-07-05T04:47:01.402Z"
   },
   {
    "duration": 6,
    "start_time": "2022-07-05T04:47:01.699Z"
   },
   {
    "duration": 49,
    "start_time": "2022-07-05T04:47:01.707Z"
   },
   {
    "duration": 366,
    "start_time": "2022-07-05T04:47:01.757Z"
   },
   {
    "duration": 155,
    "start_time": "2022-07-05T04:47:02.126Z"
   },
   {
    "duration": 174,
    "start_time": "2022-07-05T04:47:02.282Z"
   },
   {
    "duration": 4,
    "start_time": "2022-07-05T04:47:02.458Z"
   },
   {
    "duration": 16,
    "start_time": "2022-07-05T04:47:02.463Z"
   },
   {
    "duration": 168,
    "start_time": "2022-07-05T04:47:02.480Z"
   },
   {
    "duration": 4,
    "start_time": "2022-07-05T04:47:02.650Z"
   },
   {
    "duration": 334,
    "start_time": "2022-07-05T04:47:02.656Z"
   },
   {
    "duration": 197,
    "start_time": "2022-07-05T04:47:02.991Z"
   },
   {
    "duration": 17,
    "start_time": "2022-07-05T04:47:03.189Z"
   },
   {
    "duration": 34,
    "start_time": "2022-07-05T04:47:03.211Z"
   },
   {
    "duration": 201,
    "start_time": "2022-07-05T04:47:03.247Z"
   },
   {
    "duration": 12,
    "start_time": "2022-07-05T04:47:03.451Z"
   },
   {
    "duration": 13,
    "start_time": "2022-07-05T04:47:03.465Z"
   },
   {
    "duration": 26,
    "start_time": "2022-07-05T04:47:03.479Z"
   },
   {
    "duration": 34,
    "start_time": "2022-07-05T04:47:03.507Z"
   },
   {
    "duration": 22,
    "start_time": "2022-07-05T04:47:03.544Z"
   },
   {
    "duration": 47,
    "start_time": "2022-07-05T11:41:44.681Z"
   },
   {
    "duration": 1254,
    "start_time": "2022-07-05T11:41:54.001Z"
   },
   {
    "duration": 121,
    "start_time": "2022-07-05T11:41:55.258Z"
   },
   {
    "duration": 3,
    "start_time": "2022-07-05T11:41:55.381Z"
   },
   {
    "duration": 14,
    "start_time": "2022-07-05T11:41:55.386Z"
   },
   {
    "duration": 12,
    "start_time": "2022-07-05T11:41:55.402Z"
   },
   {
    "duration": 19,
    "start_time": "2022-07-05T11:41:55.415Z"
   },
   {
    "duration": 7,
    "start_time": "2022-07-05T11:41:55.435Z"
   },
   {
    "duration": 12,
    "start_time": "2022-07-05T11:41:55.444Z"
   },
   {
    "duration": 11,
    "start_time": "2022-07-05T11:41:55.458Z"
   },
   {
    "duration": 18,
    "start_time": "2022-07-05T11:41:55.471Z"
   },
   {
    "duration": 13,
    "start_time": "2022-07-05T11:41:55.490Z"
   },
   {
    "duration": 12,
    "start_time": "2022-07-05T11:41:55.505Z"
   },
   {
    "duration": 12,
    "start_time": "2022-07-05T11:41:55.519Z"
   },
   {
    "duration": 11,
    "start_time": "2022-07-05T11:41:55.535Z"
   },
   {
    "duration": 10,
    "start_time": "2022-07-05T11:41:55.548Z"
   },
   {
    "duration": 20,
    "start_time": "2022-07-05T11:41:55.559Z"
   },
   {
    "duration": 6,
    "start_time": "2022-07-05T11:41:55.581Z"
   },
   {
    "duration": 4,
    "start_time": "2022-07-05T11:41:55.601Z"
   },
   {
    "duration": 26,
    "start_time": "2022-07-05T11:41:55.607Z"
   },
   {
    "duration": 193,
    "start_time": "2022-07-05T11:41:55.636Z"
   },
   {
    "duration": 138,
    "start_time": "2022-07-05T11:41:55.831Z"
   },
   {
    "duration": 30,
    "start_time": "2022-07-05T11:41:55.970Z"
   },
   {
    "duration": 273,
    "start_time": "2022-07-05T11:41:56.002Z"
   },
   {
    "duration": 177,
    "start_time": "2022-07-05T11:41:56.276Z"
   },
   {
    "duration": 367,
    "start_time": "2022-07-05T11:41:56.455Z"
   },
   {
    "duration": 5,
    "start_time": "2022-07-05T11:41:56.824Z"
   },
   {
    "duration": 8,
    "start_time": "2022-07-05T11:41:56.830Z"
   },
   {
    "duration": 207,
    "start_time": "2022-07-05T11:41:56.839Z"
   },
   {
    "duration": 5,
    "start_time": "2022-07-05T11:41:57.048Z"
   },
   {
    "duration": 7,
    "start_time": "2022-07-05T11:41:57.055Z"
   },
   {
    "duration": 356,
    "start_time": "2022-07-05T11:41:57.064Z"
   },
   {
    "duration": 142,
    "start_time": "2022-07-05T11:41:57.422Z"
   },
   {
    "duration": 127,
    "start_time": "2022-07-05T11:41:57.566Z"
   },
   {
    "duration": 4,
    "start_time": "2022-07-05T11:41:57.700Z"
   },
   {
    "duration": 15,
    "start_time": "2022-07-05T11:41:57.705Z"
   },
   {
    "duration": 138,
    "start_time": "2022-07-05T11:41:57.722Z"
   },
   {
    "duration": 4,
    "start_time": "2022-07-05T11:41:57.861Z"
   },
   {
    "duration": 296,
    "start_time": "2022-07-05T11:41:57.867Z"
   },
   {
    "duration": 168,
    "start_time": "2022-07-05T11:41:58.165Z"
   },
   {
    "duration": 6,
    "start_time": "2022-07-05T11:41:58.334Z"
   },
   {
    "duration": 7,
    "start_time": "2022-07-05T11:41:58.343Z"
   },
   {
    "duration": 164,
    "start_time": "2022-07-05T11:41:58.351Z"
   },
   {
    "duration": 9,
    "start_time": "2022-07-05T11:41:58.517Z"
   },
   {
    "duration": 11,
    "start_time": "2022-07-05T11:41:58.528Z"
   },
   {
    "duration": 14,
    "start_time": "2022-07-05T11:41:58.541Z"
   },
   {
    "duration": 22,
    "start_time": "2022-07-05T11:41:58.557Z"
   },
   {
    "duration": 29,
    "start_time": "2022-07-05T11:41:58.580Z"
   },
   {
    "duration": 122,
    "start_time": "2022-07-05T11:47:15.660Z"
   },
   {
    "duration": 323,
    "start_time": "2022-07-05T11:48:24.600Z"
   },
   {
    "duration": 192,
    "start_time": "2022-07-05T11:49:10.732Z"
   },
   {
    "duration": 1191,
    "start_time": "2022-07-05T11:54:05.172Z"
   },
   {
    "duration": 60,
    "start_time": "2022-07-05T11:54:06.365Z"
   },
   {
    "duration": 4,
    "start_time": "2022-07-05T11:54:06.426Z"
   },
   {
    "duration": 11,
    "start_time": "2022-07-05T11:54:06.431Z"
   },
   {
    "duration": 12,
    "start_time": "2022-07-05T11:54:06.445Z"
   },
   {
    "duration": 11,
    "start_time": "2022-07-05T11:54:06.459Z"
   },
   {
    "duration": 8,
    "start_time": "2022-07-05T11:54:06.472Z"
   },
   {
    "duration": 11,
    "start_time": "2022-07-05T11:54:06.481Z"
   },
   {
    "duration": 17,
    "start_time": "2022-07-05T11:54:06.494Z"
   },
   {
    "duration": 16,
    "start_time": "2022-07-05T11:54:06.513Z"
   },
   {
    "duration": 14,
    "start_time": "2022-07-05T11:54:06.530Z"
   },
   {
    "duration": 13,
    "start_time": "2022-07-05T11:54:06.546Z"
   },
   {
    "duration": 9,
    "start_time": "2022-07-05T11:54:06.561Z"
   },
   {
    "duration": 30,
    "start_time": "2022-07-05T11:54:06.577Z"
   },
   {
    "duration": 5,
    "start_time": "2022-07-05T11:54:06.613Z"
   },
   {
    "duration": 28,
    "start_time": "2022-07-05T11:54:06.620Z"
   },
   {
    "duration": 24,
    "start_time": "2022-07-05T11:54:06.650Z"
   },
   {
    "duration": 12,
    "start_time": "2022-07-05T11:54:06.675Z"
   },
   {
    "duration": 27,
    "start_time": "2022-07-05T11:54:06.688Z"
   },
   {
    "duration": 197,
    "start_time": "2022-07-05T11:54:06.717Z"
   },
   {
    "duration": 144,
    "start_time": "2022-07-05T11:54:06.916Z"
   },
   {
    "duration": 16,
    "start_time": "2022-07-05T11:54:07.061Z"
   },
   {
    "duration": 294,
    "start_time": "2022-07-05T11:54:07.078Z"
   },
   {
    "duration": 197,
    "start_time": "2022-07-05T11:54:07.373Z"
   },
   {
    "duration": 347,
    "start_time": "2022-07-05T11:54:07.571Z"
   },
   {
    "duration": 4,
    "start_time": "2022-07-05T11:54:07.919Z"
   },
   {
    "duration": 10,
    "start_time": "2022-07-05T11:54:07.925Z"
   },
   {
    "duration": 213,
    "start_time": "2022-07-05T11:54:07.937Z"
   },
   {
    "duration": 4,
    "start_time": "2022-07-05T11:54:08.152Z"
   },
   {
    "duration": 12,
    "start_time": "2022-07-05T11:54:08.158Z"
   },
   {
    "duration": 343,
    "start_time": "2022-07-05T11:54:08.171Z"
   },
   {
    "duration": 149,
    "start_time": "2022-07-05T11:54:08.516Z"
   },
   {
    "duration": 146,
    "start_time": "2022-07-05T11:54:08.667Z"
   },
   {
    "duration": 5,
    "start_time": "2022-07-05T11:54:08.816Z"
   },
   {
    "duration": 18,
    "start_time": "2022-07-05T11:54:08.822Z"
   },
   {
    "duration": 147,
    "start_time": "2022-07-05T11:54:08.842Z"
   },
   {
    "duration": 14,
    "start_time": "2022-07-05T11:54:08.991Z"
   },
   {
    "duration": 268,
    "start_time": "2022-07-05T11:54:09.010Z"
   },
   {
    "duration": 181,
    "start_time": "2022-07-05T11:54:09.279Z"
   },
   {
    "duration": 6,
    "start_time": "2022-07-05T11:54:09.462Z"
   },
   {
    "duration": 11,
    "start_time": "2022-07-05T11:54:09.471Z"
   },
   {
    "duration": 165,
    "start_time": "2022-07-05T11:54:09.483Z"
   },
   {
    "duration": 8,
    "start_time": "2022-07-05T11:54:09.650Z"
   },
   {
    "duration": 35,
    "start_time": "2022-07-05T11:54:09.660Z"
   },
   {
    "duration": 22,
    "start_time": "2022-07-05T11:54:09.696Z"
   },
   {
    "duration": 23,
    "start_time": "2022-07-05T11:54:09.720Z"
   },
   {
    "duration": 12,
    "start_time": "2022-07-05T11:54:09.745Z"
   },
   {
    "duration": 61,
    "start_time": "2022-07-06T07:13:43.200Z"
   },
   {
    "duration": 1357,
    "start_time": "2022-07-06T07:13:49.727Z"
   },
   {
    "duration": 116,
    "start_time": "2022-07-06T07:14:06.020Z"
   },
   {
    "duration": 21,
    "start_time": "2022-07-06T07:14:21.027Z"
   },
   {
    "duration": 8,
    "start_time": "2022-07-06T07:14:38.973Z"
   },
   {
    "duration": 8,
    "start_time": "2022-07-06T07:14:42.547Z"
   },
   {
    "duration": 49,
    "start_time": "2022-07-06T14:49:12.866Z"
   },
   {
    "duration": 1285,
    "start_time": "2022-07-06T14:49:21.419Z"
   },
   {
    "duration": 121,
    "start_time": "2022-07-06T14:49:22.707Z"
   },
   {
    "duration": 4,
    "start_time": "2022-07-06T14:49:22.829Z"
   },
   {
    "duration": 16,
    "start_time": "2022-07-06T14:49:22.836Z"
   },
   {
    "duration": 3,
    "start_time": "2022-07-06T14:49:22.854Z"
   },
   {
    "duration": 18,
    "start_time": "2022-07-06T14:49:22.858Z"
   },
   {
    "duration": 8,
    "start_time": "2022-07-06T14:49:22.878Z"
   },
   {
    "duration": 11,
    "start_time": "2022-07-06T14:49:22.888Z"
   },
   {
    "duration": 10,
    "start_time": "2022-07-06T14:49:22.900Z"
   },
   {
    "duration": 39,
    "start_time": "2022-07-06T14:49:22.912Z"
   },
   {
    "duration": 10,
    "start_time": "2022-07-06T14:49:22.953Z"
   },
   {
    "duration": 14,
    "start_time": "2022-07-06T14:49:22.965Z"
   },
   {
    "duration": 16,
    "start_time": "2022-07-06T14:49:22.980Z"
   },
   {
    "duration": 10,
    "start_time": "2022-07-06T14:49:22.998Z"
   },
   {
    "duration": 6,
    "start_time": "2022-07-06T14:49:23.010Z"
   },
   {
    "duration": 39,
    "start_time": "2022-07-06T14:49:23.018Z"
   },
   {
    "duration": 16,
    "start_time": "2022-07-06T14:49:23.061Z"
   },
   {
    "duration": 15,
    "start_time": "2022-07-06T14:49:23.080Z"
   },
   {
    "duration": 10,
    "start_time": "2022-07-06T14:49:23.097Z"
   },
   {
    "duration": 14,
    "start_time": "2022-07-06T14:49:23.109Z"
   },
   {
    "duration": 221,
    "start_time": "2022-07-06T14:49:23.125Z"
   },
   {
    "duration": 135,
    "start_time": "2022-07-06T14:49:23.348Z"
   },
   {
    "duration": 24,
    "start_time": "2022-07-06T14:49:23.485Z"
   },
   {
    "duration": 298,
    "start_time": "2022-07-06T14:49:23.511Z"
   },
   {
    "duration": 211,
    "start_time": "2022-07-06T14:49:23.810Z"
   },
   {
    "duration": 380,
    "start_time": "2022-07-06T14:49:24.023Z"
   },
   {
    "duration": 5,
    "start_time": "2022-07-06T14:49:24.405Z"
   },
   {
    "duration": 7,
    "start_time": "2022-07-06T14:49:24.413Z"
   },
   {
    "duration": 235,
    "start_time": "2022-07-06T14:49:24.422Z"
   },
   {
    "duration": 7,
    "start_time": "2022-07-06T14:49:24.659Z"
   },
   {
    "duration": 18,
    "start_time": "2022-07-06T14:49:24.668Z"
   },
   {
    "duration": 307,
    "start_time": "2022-07-06T14:49:24.689Z"
   },
   {
    "duration": 163,
    "start_time": "2022-07-06T14:49:24.998Z"
   },
   {
    "duration": 151,
    "start_time": "2022-07-06T14:49:25.163Z"
   },
   {
    "duration": 4,
    "start_time": "2022-07-06T14:49:25.316Z"
   },
   {
    "duration": 25,
    "start_time": "2022-07-06T14:49:25.321Z"
   },
   {
    "duration": 148,
    "start_time": "2022-07-06T14:49:25.348Z"
   },
   {
    "duration": 12,
    "start_time": "2022-07-06T14:49:25.498Z"
   },
   {
    "duration": 228,
    "start_time": "2022-07-06T14:49:25.512Z"
   },
   {
    "duration": 166,
    "start_time": "2022-07-06T14:49:25.746Z"
   },
   {
    "duration": 6,
    "start_time": "2022-07-06T14:49:25.914Z"
   },
   {
    "duration": 16,
    "start_time": "2022-07-06T14:49:25.921Z"
   },
   {
    "duration": 166,
    "start_time": "2022-07-06T14:49:25.945Z"
   },
   {
    "duration": 9,
    "start_time": "2022-07-06T14:49:26.113Z"
   },
   {
    "duration": 25,
    "start_time": "2022-07-06T14:49:26.124Z"
   },
   {
    "duration": 19,
    "start_time": "2022-07-06T14:49:26.151Z"
   },
   {
    "duration": 29,
    "start_time": "2022-07-06T14:49:26.172Z"
   },
   {
    "duration": 13,
    "start_time": "2022-07-06T14:49:26.203Z"
   },
   {
    "duration": 3,
    "start_time": "2022-07-06T14:53:16.122Z"
   },
   {
    "duration": 52,
    "start_time": "2022-07-06T14:56:46.620Z"
   },
   {
    "duration": 12,
    "start_time": "2022-07-06T14:57:34.194Z"
   },
   {
    "duration": 112,
    "start_time": "2022-07-06T14:58:14.473Z"
   },
   {
    "duration": 12,
    "start_time": "2022-07-06T14:59:24.312Z"
   },
   {
    "duration": 13,
    "start_time": "2022-07-06T14:59:43.570Z"
   },
   {
    "duration": 12,
    "start_time": "2022-07-06T14:59:52.672Z"
   },
   {
    "duration": 54,
    "start_time": "2022-07-06T14:59:58.416Z"
   },
   {
    "duration": 1069,
    "start_time": "2022-07-06T15:00:03.712Z"
   },
   {
    "duration": 1118,
    "start_time": "2022-07-06T15:00:10.507Z"
   },
   {
    "duration": 875,
    "start_time": "2022-07-06T15:00:16.364Z"
   },
   {
    "duration": 17,
    "start_time": "2022-07-06T15:00:30.488Z"
   },
   {
    "duration": 1122,
    "start_time": "2022-07-06T15:01:06.268Z"
   },
   {
    "duration": 1360,
    "start_time": "2022-07-06T15:02:03.265Z"
   },
   {
    "duration": 16,
    "start_time": "2022-07-06T15:02:10.871Z"
   },
   {
    "duration": 13,
    "start_time": "2022-07-06T15:02:23.521Z"
   },
   {
    "duration": 1324,
    "start_time": "2022-07-06T15:03:32.501Z"
   },
   {
    "duration": 483,
    "start_time": "2022-07-06T15:07:39.327Z"
   },
   {
    "duration": 308,
    "start_time": "2022-07-06T15:07:48.216Z"
   },
   {
    "duration": 239,
    "start_time": "2022-07-06T15:08:01.709Z"
   },
   {
    "duration": 235,
    "start_time": "2022-07-06T15:08:06.405Z"
   },
   {
    "duration": 206,
    "start_time": "2022-07-06T15:08:14.390Z"
   },
   {
    "duration": 205,
    "start_time": "2022-07-06T15:08:31.809Z"
   },
   {
    "duration": 408,
    "start_time": "2022-07-06T15:08:38.848Z"
   },
   {
    "duration": 214,
    "start_time": "2022-07-06T15:08:45.824Z"
   },
   {
    "duration": 355,
    "start_time": "2022-07-06T15:08:51.725Z"
   },
   {
    "duration": 145,
    "start_time": "2022-07-06T15:08:58.517Z"
   },
   {
    "duration": 142,
    "start_time": "2022-07-06T15:09:05.879Z"
   },
   {
    "duration": 224,
    "start_time": "2022-07-06T15:09:12.618Z"
   },
   {
    "duration": 212,
    "start_time": "2022-07-06T15:11:34.645Z"
   },
   {
    "duration": 237,
    "start_time": "2022-07-06T15:11:38.813Z"
   },
   {
    "duration": 165,
    "start_time": "2022-07-06T15:11:43.038Z"
   },
   {
    "duration": 146,
    "start_time": "2022-07-06T15:12:14.262Z"
   },
   {
    "duration": 13,
    "start_time": "2022-07-06T15:12:38.838Z"
   },
   {
    "duration": 15,
    "start_time": "2022-07-06T15:13:09.052Z"
   },
   {
    "duration": 11,
    "start_time": "2022-07-06T15:13:18.515Z"
   },
   {
    "duration": 22,
    "start_time": "2022-07-06T15:13:55.860Z"
   },
   {
    "duration": 20,
    "start_time": "2022-07-06T15:14:19.490Z"
   },
   {
    "duration": 14,
    "start_time": "2022-07-06T15:14:50.966Z"
   },
   {
    "duration": 11,
    "start_time": "2022-07-06T15:15:19.804Z"
   },
   {
    "duration": 7,
    "start_time": "2022-07-06T15:39:11.097Z"
   },
   {
    "duration": 26,
    "start_time": "2022-07-06T15:39:15.438Z"
   },
   {
    "duration": 17,
    "start_time": "2022-07-06T15:39:27.695Z"
   },
   {
    "duration": 12,
    "start_time": "2022-07-06T15:39:36.783Z"
   },
   {
    "duration": 1208,
    "start_time": "2022-07-06T16:45:58.421Z"
   },
   {
    "duration": 40,
    "start_time": "2022-07-06T16:45:59.631Z"
   },
   {
    "duration": 5,
    "start_time": "2022-07-06T16:45:59.672Z"
   },
   {
    "duration": 21,
    "start_time": "2022-07-06T16:45:59.679Z"
   },
   {
    "duration": 2,
    "start_time": "2022-07-06T16:45:59.702Z"
   },
   {
    "duration": 18,
    "start_time": "2022-07-06T16:45:59.705Z"
   },
   {
    "duration": 8,
    "start_time": "2022-07-06T16:45:59.725Z"
   },
   {
    "duration": 14,
    "start_time": "2022-07-06T16:45:59.735Z"
   },
   {
    "duration": 14,
    "start_time": "2022-07-06T16:45:59.750Z"
   },
   {
    "duration": 17,
    "start_time": "2022-07-06T16:45:59.768Z"
   },
   {
    "duration": 11,
    "start_time": "2022-07-06T16:45:59.786Z"
   },
   {
    "duration": 17,
    "start_time": "2022-07-06T16:45:59.799Z"
   },
   {
    "duration": 12,
    "start_time": "2022-07-06T16:45:59.818Z"
   },
   {
    "duration": 15,
    "start_time": "2022-07-06T16:45:59.831Z"
   },
   {
    "duration": 6,
    "start_time": "2022-07-06T16:45:59.848Z"
   },
   {
    "duration": 4,
    "start_time": "2022-07-06T16:45:59.856Z"
   },
   {
    "duration": 16,
    "start_time": "2022-07-06T16:45:59.862Z"
   },
   {
    "duration": 17,
    "start_time": "2022-07-06T16:45:59.880Z"
   },
   {
    "duration": 6,
    "start_time": "2022-07-06T16:45:59.899Z"
   },
   {
    "duration": 10,
    "start_time": "2022-07-06T16:45:59.907Z"
   },
   {
    "duration": 14,
    "start_time": "2022-07-06T16:45:59.946Z"
   },
   {
    "duration": 202,
    "start_time": "2022-07-06T16:45:59.961Z"
   },
   {
    "duration": 138,
    "start_time": "2022-07-06T16:46:00.164Z"
   },
   {
    "duration": 15,
    "start_time": "2022-07-06T16:46:00.304Z"
   },
   {
    "duration": 301,
    "start_time": "2022-07-06T16:46:00.321Z"
   },
   {
    "duration": 224,
    "start_time": "2022-07-06T16:46:00.624Z"
   },
   {
    "duration": 333,
    "start_time": "2022-07-06T16:46:00.850Z"
   },
   {
    "duration": 5,
    "start_time": "2022-07-06T16:46:01.188Z"
   },
   {
    "duration": 27,
    "start_time": "2022-07-06T16:46:01.195Z"
   },
   {
    "duration": 255,
    "start_time": "2022-07-06T16:46:01.225Z"
   },
   {
    "duration": 5,
    "start_time": "2022-07-06T16:46:01.482Z"
   },
   {
    "duration": 77,
    "start_time": "2022-07-06T16:46:01.489Z"
   },
   {
    "duration": 431,
    "start_time": "2022-07-06T16:46:01.568Z"
   },
   {
    "duration": 186,
    "start_time": "2022-07-06T16:46:02.000Z"
   },
   {
    "duration": 166,
    "start_time": "2022-07-06T16:46:02.188Z"
   },
   {
    "duration": 5,
    "start_time": "2022-07-06T16:46:02.356Z"
   },
   {
    "duration": 31,
    "start_time": "2022-07-06T16:46:02.363Z"
   },
   {
    "duration": 153,
    "start_time": "2022-07-06T16:46:02.395Z"
   },
   {
    "duration": 4,
    "start_time": "2022-07-06T16:46:02.550Z"
   },
   {
    "duration": 318,
    "start_time": "2022-07-06T16:46:02.556Z"
   },
   {
    "duration": 158,
    "start_time": "2022-07-06T16:46:02.876Z"
   },
   {
    "duration": 12,
    "start_time": "2022-07-06T16:46:03.036Z"
   },
   {
    "duration": 7,
    "start_time": "2022-07-06T16:46:03.050Z"
   },
   {
    "duration": 179,
    "start_time": "2022-07-06T16:46:03.059Z"
   },
   {
    "duration": 12,
    "start_time": "2022-07-06T16:46:03.246Z"
   },
   {
    "duration": 9,
    "start_time": "2022-07-06T16:46:03.260Z"
   },
   {
    "duration": 13,
    "start_time": "2022-07-06T16:46:03.271Z"
   },
   {
    "duration": 23,
    "start_time": "2022-07-06T16:46:03.286Z"
   },
   {
    "duration": 40,
    "start_time": "2022-07-06T16:46:03.311Z"
   },
   {
    "duration": 109,
    "start_time": "2022-07-06T16:47:36.933Z"
   },
   {
    "duration": 1341,
    "start_time": "2022-07-07T05:45:00.837Z"
   },
   {
    "duration": 112,
    "start_time": "2022-07-07T05:45:02.181Z"
   },
   {
    "duration": 4,
    "start_time": "2022-07-07T05:45:02.295Z"
   },
   {
    "duration": 17,
    "start_time": "2022-07-07T05:45:02.300Z"
   },
   {
    "duration": 2,
    "start_time": "2022-07-07T05:45:02.319Z"
   },
   {
    "duration": 13,
    "start_time": "2022-07-07T05:45:02.323Z"
   },
   {
    "duration": 15,
    "start_time": "2022-07-07T05:45:02.338Z"
   },
   {
    "duration": 24,
    "start_time": "2022-07-07T05:45:02.355Z"
   },
   {
    "duration": 25,
    "start_time": "2022-07-07T05:45:02.381Z"
   },
   {
    "duration": 12,
    "start_time": "2022-07-07T05:45:02.409Z"
   },
   {
    "duration": 42,
    "start_time": "2022-07-07T05:45:02.423Z"
   },
   {
    "duration": 19,
    "start_time": "2022-07-07T05:45:02.467Z"
   },
   {
    "duration": 17,
    "start_time": "2022-07-07T05:45:02.488Z"
   },
   {
    "duration": 11,
    "start_time": "2022-07-07T05:45:02.507Z"
   },
   {
    "duration": 7,
    "start_time": "2022-07-07T05:45:02.520Z"
   },
   {
    "duration": 9,
    "start_time": "2022-07-07T05:45:02.528Z"
   },
   {
    "duration": 18,
    "start_time": "2022-07-07T05:45:02.538Z"
   },
   {
    "duration": 117,
    "start_time": "2022-07-07T05:45:02.557Z"
   },
   {
    "duration": 0,
    "start_time": "2022-07-07T05:45:02.676Z"
   },
   {
    "duration": 0,
    "start_time": "2022-07-07T05:45:02.678Z"
   },
   {
    "duration": 0,
    "start_time": "2022-07-07T05:45:02.679Z"
   },
   {
    "duration": 0,
    "start_time": "2022-07-07T05:45:02.680Z"
   },
   {
    "duration": 0,
    "start_time": "2022-07-07T05:45:02.681Z"
   },
   {
    "duration": 0,
    "start_time": "2022-07-07T05:45:02.682Z"
   },
   {
    "duration": 0,
    "start_time": "2022-07-07T05:45:02.684Z"
   },
   {
    "duration": 0,
    "start_time": "2022-07-07T05:45:02.686Z"
   },
   {
    "duration": 0,
    "start_time": "2022-07-07T05:45:02.687Z"
   },
   {
    "duration": 0,
    "start_time": "2022-07-07T05:45:02.701Z"
   },
   {
    "duration": 0,
    "start_time": "2022-07-07T05:45:02.702Z"
   },
   {
    "duration": 0,
    "start_time": "2022-07-07T05:45:02.704Z"
   },
   {
    "duration": 0,
    "start_time": "2022-07-07T05:45:02.705Z"
   },
   {
    "duration": 0,
    "start_time": "2022-07-07T05:45:02.706Z"
   },
   {
    "duration": 0,
    "start_time": "2022-07-07T05:45:02.707Z"
   },
   {
    "duration": 0,
    "start_time": "2022-07-07T05:45:02.708Z"
   },
   {
    "duration": 0,
    "start_time": "2022-07-07T05:45:02.710Z"
   },
   {
    "duration": 0,
    "start_time": "2022-07-07T05:45:02.711Z"
   },
   {
    "duration": 0,
    "start_time": "2022-07-07T05:45:02.712Z"
   },
   {
    "duration": 0,
    "start_time": "2022-07-07T05:45:02.713Z"
   },
   {
    "duration": 0,
    "start_time": "2022-07-07T05:45:02.714Z"
   },
   {
    "duration": 0,
    "start_time": "2022-07-07T05:45:02.715Z"
   },
   {
    "duration": 0,
    "start_time": "2022-07-07T05:45:02.717Z"
   },
   {
    "duration": 0,
    "start_time": "2022-07-07T05:45:02.718Z"
   },
   {
    "duration": 0,
    "start_time": "2022-07-07T05:45:02.719Z"
   },
   {
    "duration": 0,
    "start_time": "2022-07-07T05:45:02.720Z"
   },
   {
    "duration": 0,
    "start_time": "2022-07-07T05:45:02.722Z"
   },
   {
    "duration": 0,
    "start_time": "2022-07-07T05:45:02.724Z"
   },
   {
    "duration": 0,
    "start_time": "2022-07-07T05:45:02.725Z"
   },
   {
    "duration": 0,
    "start_time": "2022-07-07T05:45:02.727Z"
   },
   {
    "duration": 0,
    "start_time": "2022-07-07T05:45:02.728Z"
   },
   {
    "duration": 3,
    "start_time": "2022-07-07T05:45:48.042Z"
   },
   {
    "duration": 39,
    "start_time": "2022-07-07T05:45:50.814Z"
   },
   {
    "duration": 4,
    "start_time": "2022-07-07T05:45:52.469Z"
   },
   {
    "duration": 8,
    "start_time": "2022-07-07T05:45:53.339Z"
   },
   {
    "duration": 3,
    "start_time": "2022-07-07T05:45:55.180Z"
   },
   {
    "duration": 9,
    "start_time": "2022-07-07T05:45:55.672Z"
   },
   {
    "duration": 8,
    "start_time": "2022-07-07T05:45:56.138Z"
   },
   {
    "duration": 11,
    "start_time": "2022-07-07T05:45:56.640Z"
   },
   {
    "duration": 8,
    "start_time": "2022-07-07T05:46:00.717Z"
   },
   {
    "duration": 12,
    "start_time": "2022-07-07T05:46:01.517Z"
   },
   {
    "duration": 8,
    "start_time": "2022-07-07T05:46:02.245Z"
   },
   {
    "duration": 10,
    "start_time": "2022-07-07T05:46:02.901Z"
   },
   {
    "duration": 6,
    "start_time": "2022-07-07T05:46:03.572Z"
   },
   {
    "duration": 10,
    "start_time": "2022-07-07T05:46:05.300Z"
   },
   {
    "duration": 5,
    "start_time": "2022-07-07T05:46:07.301Z"
   },
   {
    "duration": 2,
    "start_time": "2022-07-07T05:46:11.676Z"
   },
   {
    "duration": 11,
    "start_time": "2022-07-07T05:46:16.205Z"
   },
   {
    "duration": 11,
    "start_time": "2022-07-07T05:48:45.262Z"
   },
   {
    "duration": 9,
    "start_time": "2022-07-07T05:48:58.653Z"
   },
   {
    "duration": 5,
    "start_time": "2022-07-07T05:49:55.798Z"
   },
   {
    "duration": 3,
    "start_time": "2022-07-07T05:50:06.039Z"
   },
   {
    "duration": 9,
    "start_time": "2022-07-07T05:50:26.924Z"
   },
   {
    "duration": 8,
    "start_time": "2022-07-07T05:53:06.226Z"
   },
   {
    "duration": 5,
    "start_time": "2022-07-07T05:53:07.293Z"
   },
   {
    "duration": 8,
    "start_time": "2022-07-07T05:53:07.839Z"
   },
   {
    "duration": 7,
    "start_time": "2022-07-07T05:53:10.598Z"
   },
   {
    "duration": 1011,
    "start_time": "2022-07-07T05:53:16.740Z"
   },
   {
    "duration": 40,
    "start_time": "2022-07-07T05:53:17.753Z"
   },
   {
    "duration": 4,
    "start_time": "2022-07-07T05:53:17.794Z"
   },
   {
    "duration": 16,
    "start_time": "2022-07-07T05:53:17.800Z"
   },
   {
    "duration": 3,
    "start_time": "2022-07-07T05:53:17.818Z"
   },
   {
    "duration": 12,
    "start_time": "2022-07-07T05:53:17.822Z"
   },
   {
    "duration": 9,
    "start_time": "2022-07-07T05:53:17.836Z"
   },
   {
    "duration": 18,
    "start_time": "2022-07-07T05:53:17.847Z"
   },
   {
    "duration": 10,
    "start_time": "2022-07-07T05:53:17.867Z"
   },
   {
    "duration": 23,
    "start_time": "2022-07-07T05:53:17.879Z"
   },
   {
    "duration": 8,
    "start_time": "2022-07-07T05:53:17.904Z"
   },
   {
    "duration": 13,
    "start_time": "2022-07-07T05:53:17.913Z"
   },
   {
    "duration": 7,
    "start_time": "2022-07-07T05:53:17.928Z"
   },
   {
    "duration": 14,
    "start_time": "2022-07-07T05:53:17.936Z"
   },
   {
    "duration": 7,
    "start_time": "2022-07-07T05:53:17.952Z"
   },
   {
    "duration": 5,
    "start_time": "2022-07-07T05:53:17.960Z"
   },
   {
    "duration": 16,
    "start_time": "2022-07-07T05:53:17.966Z"
   },
   {
    "duration": 20,
    "start_time": "2022-07-07T05:53:17.984Z"
   },
   {
    "duration": 8,
    "start_time": "2022-07-07T05:53:18.005Z"
   },
   {
    "duration": 9,
    "start_time": "2022-07-07T05:53:18.014Z"
   },
   {
    "duration": 6,
    "start_time": "2022-07-07T05:53:18.025Z"
   },
   {
    "duration": 10,
    "start_time": "2022-07-07T05:53:18.032Z"
   },
   {
    "duration": 12,
    "start_time": "2022-07-07T05:53:18.043Z"
   },
   {
    "duration": 203,
    "start_time": "2022-07-07T05:53:18.056Z"
   },
   {
    "duration": 123,
    "start_time": "2022-07-07T05:53:18.261Z"
   },
   {
    "duration": 26,
    "start_time": "2022-07-07T05:53:18.385Z"
   },
   {
    "duration": 272,
    "start_time": "2022-07-07T05:53:18.412Z"
   },
   {
    "duration": 200,
    "start_time": "2022-07-07T05:53:18.688Z"
   },
   {
    "duration": 315,
    "start_time": "2022-07-07T05:53:18.890Z"
   },
   {
    "duration": 4,
    "start_time": "2022-07-07T05:53:19.207Z"
   },
   {
    "duration": 10,
    "start_time": "2022-07-07T05:53:19.212Z"
   },
   {
    "duration": 213,
    "start_time": "2022-07-07T05:53:19.223Z"
   },
   {
    "duration": 4,
    "start_time": "2022-07-07T05:53:19.438Z"
   },
   {
    "duration": 12,
    "start_time": "2022-07-07T05:53:19.443Z"
   },
   {
    "duration": 312,
    "start_time": "2022-07-07T05:53:19.456Z"
   },
   {
    "duration": 147,
    "start_time": "2022-07-07T05:53:19.770Z"
   },
   {
    "duration": 148,
    "start_time": "2022-07-07T05:53:19.918Z"
   },
   {
    "duration": 5,
    "start_time": "2022-07-07T05:53:20.068Z"
   },
   {
    "duration": 12,
    "start_time": "2022-07-07T05:53:20.074Z"
   },
   {
    "duration": 155,
    "start_time": "2022-07-07T05:53:20.101Z"
   },
   {
    "duration": 4,
    "start_time": "2022-07-07T05:53:20.258Z"
   },
   {
    "duration": 317,
    "start_time": "2022-07-07T05:53:20.264Z"
   },
   {
    "duration": 159,
    "start_time": "2022-07-07T05:53:20.582Z"
   },
   {
    "duration": 5,
    "start_time": "2022-07-07T05:53:20.743Z"
   },
   {
    "duration": 15,
    "start_time": "2022-07-07T05:53:20.750Z"
   },
   {
    "duration": 148,
    "start_time": "2022-07-07T05:53:20.767Z"
   },
   {
    "duration": 9,
    "start_time": "2022-07-07T05:53:20.917Z"
   },
   {
    "duration": 21,
    "start_time": "2022-07-07T05:53:20.928Z"
   },
   {
    "duration": 9,
    "start_time": "2022-07-07T05:53:20.951Z"
   },
   {
    "duration": 22,
    "start_time": "2022-07-07T05:53:20.961Z"
   },
   {
    "duration": 25,
    "start_time": "2022-07-07T05:53:20.985Z"
   },
   {
    "duration": 1352,
    "start_time": "2022-07-07T16:25:29.558Z"
   },
   {
    "duration": 129,
    "start_time": "2022-07-07T16:25:31.127Z"
   },
   {
    "duration": 5,
    "start_time": "2022-07-07T16:25:31.827Z"
   },
   {
    "duration": 21,
    "start_time": "2022-07-07T16:25:32.262Z"
   },
   {
    "duration": 3,
    "start_time": "2022-07-07T16:25:32.920Z"
   },
   {
    "duration": 14,
    "start_time": "2022-07-07T16:25:33.120Z"
   },
   {
    "duration": 15,
    "start_time": "2022-07-07T16:25:33.389Z"
   },
   {
    "duration": 25,
    "start_time": "2022-07-07T16:25:33.677Z"
   },
   {
    "duration": 17,
    "start_time": "2022-07-07T16:25:36.477Z"
   },
   {
    "duration": 23,
    "start_time": "2022-07-07T16:25:36.954Z"
   },
   {
    "duration": 9,
    "start_time": "2022-07-07T16:25:37.414Z"
   },
   {
    "duration": 15,
    "start_time": "2022-07-07T16:25:37.823Z"
   },
   {
    "duration": 9,
    "start_time": "2022-07-07T16:25:38.476Z"
   },
   {
    "duration": 7,
    "start_time": "2022-07-07T16:25:39.312Z"
   },
   {
    "duration": 11,
    "start_time": "2022-07-07T16:25:40.456Z"
   },
   {
    "duration": 4,
    "start_time": "2022-07-07T16:25:41.586Z"
   },
   {
    "duration": 19,
    "start_time": "2022-07-07T16:25:43.993Z"
   },
   {
    "duration": 14,
    "start_time": "2022-07-07T16:25:46.658Z"
   },
   {
    "duration": 10,
    "start_time": "2022-07-07T16:26:14.000Z"
   },
   {
    "duration": 19,
    "start_time": "2022-07-07T16:26:17.288Z"
   },
   {
    "duration": 6,
    "start_time": "2022-07-07T16:26:20.416Z"
   },
   {
    "duration": 12,
    "start_time": "2022-07-07T16:26:22.162Z"
   }
  ],
  "kernelspec": {
   "display_name": "Python 3 (ipykernel)",
   "language": "python",
   "name": "python3"
  },
  "language_info": {
   "codemirror_mode": {
    "name": "ipython",
    "version": 3
   },
   "file_extension": ".py",
   "mimetype": "text/x-python",
   "name": "python",
   "nbconvert_exporter": "python",
   "pygments_lexer": "ipython3",
   "version": "3.9.7"
  },
  "toc": {
   "base_numbering": 1,
   "nav_menu": {
    "height": "315.99px",
    "width": "367.986px"
   },
   "number_sections": true,
   "sideBar": true,
   "skip_h1_title": true,
   "title_cell": "Содержание",
   "title_sidebar": "Contents",
   "toc_cell": true,
   "toc_position": {},
   "toc_section_display": true,
   "toc_window_display": false
  }
 },
 "nbformat": 4,
 "nbformat_minor": 5
}
